{
  "nbformat": 4,
  "nbformat_minor": 0,
  "metadata": {
    "colab": {
      "name": "04_ANN_fotos_testa_variaveis_duas_classes_mar_20_2020.ipynb",
      "provenance": [],
      "collapsed_sections": [],
      "include_colab_link": true
    },
    "kernelspec": {
      "name": "python3",
      "display_name": "Python 3"
    }
  },
  "cells": [
    {
      "cell_type": "markdown",
      "metadata": {
        "id": "view-in-github",
        "colab_type": "text"
      },
      "source": [
        "<a href=\"https://colab.research.google.com/github/marquesgabi/Doutorado/blob/master/04_ANN_fotos_testa_variaveis_duas_classes_mar_20_2020.ipynb\" target=\"_parent\"><img src=\"https://colab.research.google.com/assets/colab-badge.svg\" alt=\"Open In Colab\"/></a>"
      ]
    },
    {
      "cell_type": "code",
      "metadata": {
        "id": "Js5iK5Sw_oZE",
        "colab_type": "code",
        "colab": {}
      },
      "source": [
        "# rede neural com duas classes grao=2 e nao grao=1+3"
      ],
      "execution_count": 0,
      "outputs": []
    },
    {
      "cell_type": "code",
      "metadata": {
        "id": "uPzMNtMQeqs-",
        "colab_type": "code",
        "colab": {}
      },
      "source": [
        "from sklearn.model_selection import train_test_split\n",
        "import numpy as np\n",
        "import cv2\n",
        "import math\n",
        "import pandas as pd\n",
        "from sklearn.neural_network import MLPRegressor\n",
        "from sklearn.neural_network import MLPClassifier\n",
        "from sklearn.metrics import mean_squared_error\n",
        "from sklearn.metrics import r2_score \n",
        "from mpl_toolkits.mplot3d import Axes3D, axes3d\n",
        "from sklearn.metrics import classification_report, confusion_matrix\n",
        "import matplotlib.pyplot as plt\n",
        "import matplotlib\n",
        "import re\n",
        "%matplotlib inline"
      ],
      "execution_count": 0,
      "outputs": []
    },
    {
      "cell_type": "code",
      "metadata": {
        "id": "HkPGXHfRpji7",
        "colab_type": "code",
        "outputId": "cc760110-843c-4650-a949-540d41a235ab",
        "colab": {
          "base_uri": "https://localhost:8080/",
          "height": 83
        }
      },
      "source": [
        "!git clone https://github.com/ucfilho/marquesgabi_mar_2020 #clonar do Github\n",
        "%cd marquesgabi_mar_2020\n",
        "\n",
        "!git clone https://github.com/marquesgabi/Doutorado\n",
        "%cd Doutorado"
      ],
      "execution_count": 3,
      "outputs": [
        {
          "output_type": "stream",
          "text": [
            "fatal: destination path 'marquesgabi_mar_2020' already exists and is not an empty directory.\n",
            "/content/marquesgabi_mar_2020\n",
            "fatal: destination path 'Doutorado' already exists and is not an empty directory.\n",
            "/content/marquesgabi_mar_2020/Doutorado\n"
          ],
          "name": "stdout"
        }
      ]
    },
    {
      "cell_type": "code",
      "metadata": {
        "id": "EYWpJccwpn_l",
        "colab_type": "code",
        "colab": {}
      },
      "source": [
        "#!ls"
      ],
      "execution_count": 0,
      "outputs": []
    },
    {
      "cell_type": "code",
      "metadata": {
        "id": "OqImBAP-3H6M",
        "colab_type": "code",
        "colab": {}
      },
      "source": [
        "#@title Digite os parametros { run: \"auto\", vertical-output: true }\n",
        "#@markdown Enter neurons hidden layer\n",
        "N_Hidden=22  #@param {type:\"number\"}\n",
        "#@markdown Activation function\n",
        "\n",
        "Ativa='tanh'#@param [\"tanh\", \"identity\", \"logistic\",\"relu\"] {allow-input: true}"
      ],
      "execution_count": 0,
      "outputs": []
    },
    {
      "cell_type": "code",
      "metadata": {
        "id": "4vZxttY2XZ2e",
        "colab_type": "code",
        "colab": {}
      },
      "source": [
        "# funcao normatiza dados\n",
        "def Normatiza(x):\n",
        "    strings=list(x)\n",
        "    for i in strings:\n",
        "        max_x=x[i].max()\n",
        "        min_x=x[i].min()\n",
        "        a=(max_x+min_x)/2\n",
        "        b=(max_x-min_x)/2\n",
        "        x[i]=(x[i]-a)/b\n",
        "    return x"
      ],
      "execution_count": 0,
      "outputs": []
    },
    {
      "cell_type": "code",
      "metadata": {
        "id": "quDi173pXomN",
        "colab_type": "code",
        "colab": {}
      },
      "source": [
        "# funcao retorna os dados a forma original\n",
        "def Original(x,x_old):\n",
        "    strings=list(x)\n",
        "    for i in strings:\n",
        "        max_x=x_old[i].max()\n",
        "        min_x=x_old[i].min()\n",
        "        a=(max_x+min_x)/2\n",
        "        b=(max_x-min_x)/2\n",
        "        x[i]=x[i]*b+a\n",
        "    return x"
      ],
      "execution_count": 0,
      "outputs": []
    },
    {
      "cell_type": "code",
      "metadata": {
        "id": "4UxbasKHkWsQ",
        "colab_type": "code",
        "outputId": "de594298-7824-45dd-d52c-e1abac3b3bca",
        "colab": {
          "base_uri": "https://localhost:8080/",
          "height": 183
        }
      },
      "source": [
        "df_contraste= pd.read_csv('Contraste_Completo_mar_2020.csv') \n",
        "#df_contraste= np.delete(df_contraste, 0, axis=1) # delete first colunm\n",
        "del df_contraste['Unnamed: 0']\n",
        "Nomes=list(df_contraste.columns)\n",
        "#del df_contraste['Unnamed: 0'] # delete first colunm\n",
        "print(Nomes)\n",
        "print(df_contraste.head())\n",
        "print(df_contraste.shape)"
      ],
      "execution_count": 8,
      "outputs": [
        {
          "output_type": "stream",
          "text": [
            "['Type', 'ASM', 'constrast', 'correl', 'variance', 'inv diff mom', 'sum aveg', 'sum var', 'sum entropy', 'entropy', 'dif var', 'dif entropy', 'IMC1', 'IMC2', 'colors']\n",
            "   Type      ASM  constrast   correl  ...  dif entropy     IMC1     IMC2  colors\n",
            "0     1  0.05766   93.16340  0.15346  ...      2.72958 -0.64142  0.98102  0.4125\n",
            "1     1  0.05013  402.45588  0.32031  ...      2.88069 -0.79959  0.99822  0.4100\n",
            "2     1  0.05287  154.89461  0.28263  ...      2.93133 -0.74008  0.99509  0.4225\n",
            "3     1  0.05011  397.55801  0.21760  ...      2.99470 -0.78154  0.99769  0.5300\n",
            "4     1  0.05408  108.01144  0.34926  ...      2.80948 -0.72303  0.99423  0.4900\n",
            "\n",
            "[5 rows x 15 columns]\n",
            "(720, 15)\n"
          ],
          "name": "stdout"
        }
      ]
    },
    {
      "cell_type": "code",
      "metadata": {
        "id": "eXeE24jTqNPo",
        "colab_type": "code",
        "outputId": "a2576ba4-c634-43b8-827a-41cb7045d5a5",
        "colab": {
          "base_uri": "https://localhost:8080/",
          "height": 383
        }
      },
      "source": [
        "df_fracionado= pd.read_csv('Contraste_Fracionado_mar_2020.csv') \n",
        "del df_fracionado['Unnamed: 0']\n",
        "Nomes_fracionado=list(df_fracionado.columns)\n",
        "print(df_fracionado)\n",
        "#df_fracionado= np.delete(df_fracionado, 0, axis=1) # delete first colunm\n",
        "#del df_fracionado['Unnamed: 0'] # delete first colunm\n",
        "#del df_fracionado['Type'] # delete first colunm\n",
        "\n",
        "print(df_fracionado.head())\n",
        "#print(df_fracionado.shape)"
      ],
      "execution_count": 9,
      "outputs": [
        {
          "output_type": "stream",
          "text": [
            "     N_peaks  Media_proem        Area  ...      Mode       Mean          Sd\n",
            "0          2     13.64931  1407.70370  ...   7.52778   93.16340   101.41799\n",
            "1          2    268.50231  6954.06944  ...  36.37500  402.45588   374.61667\n",
            "2          2     16.58218  2372.18981  ...  46.93750  154.89461   109.03101\n",
            "3          2      6.75694  5663.77546  ...  77.49306  397.55801   451.88121\n",
            "4          3     25.91667  1681.69907  ...  10.22917  108.01144    94.42290\n",
            "..       ...          ...         ...  ...       ...        ...         ...\n",
            "715        2      2.82755  2325.76157  ...  10.03472  185.27614   346.45698\n",
            "716        2     10.04282  1243.38426  ...   8.18056   88.03431    95.03825\n",
            "717        3     12.63426   466.21296  ...   6.06944   29.09273    21.04542\n",
            "718        2     21.59028  4145.96991  ...  24.84028  563.94812  1900.11526\n",
            "719        0      0.00000  5489.27083  ...  19.20139  405.43096   487.97502\n",
            "\n",
            "[720 rows x 10 columns]\n",
            "   N_peaks  Media_proem        Area  ...      Mode       Mean         Sd\n",
            "0        2     13.64931  1407.70370  ...   7.52778   93.16340  101.41799\n",
            "1        2    268.50231  6954.06944  ...  36.37500  402.45588  374.61667\n",
            "2        2     16.58218  2372.18981  ...  46.93750  154.89461  109.03101\n",
            "3        2      6.75694  5663.77546  ...  77.49306  397.55801  451.88121\n",
            "4        3     25.91667  1681.69907  ...  10.22917  108.01144   94.42290\n",
            "\n",
            "[5 rows x 10 columns]\n"
          ],
          "name": "stdout"
        }
      ]
    },
    {
      "cell_type": "code",
      "metadata": {
        "id": "UuUrZMNmVuZB",
        "colab_type": "code",
        "outputId": "aaeb89e4-fd99-4ef2-a0bb-0ae4b5111513",
        "colab": {
          "base_uri": "https://localhost:8080/",
          "height": 33
        }
      },
      "source": [
        "#print(Nomes_contraste)\n",
        "print(Nomes_fracionado)"
      ],
      "execution_count": 10,
      "outputs": [
        {
          "output_type": "stream",
          "text": [
            "['N_peaks', 'Media_proem', 'Area', 'Width_peaks', 'Width_peaks_max', 'Width_peaks_min', 'Median', 'Mode', 'Mean', 'Sd']\n"
          ],
          "name": "stdout"
        }
      ]
    },
    {
      "cell_type": "code",
      "metadata": {
        "id": "ljOhLeDav5__",
        "colab_type": "code",
        "outputId": "22fd49c1-1319-4a14-83f6-5d0117b19214",
        "colab": {
          "base_uri": "https://localhost:8080/",
          "height": 166
        }
      },
      "source": [
        "#ANN_Completo é o dataframe que tem todas as variaveis juntas\n",
        "\n",
        "ANN_Completo = pd.concat([df_contraste, df_fracionado], axis=1)\n",
        "print(ANN_Completo.head())\n",
        "print(ANN_Completo.shape)"
      ],
      "execution_count": 11,
      "outputs": [
        {
          "output_type": "stream",
          "text": [
            "   Type      ASM  constrast   correl  ...     Median      Mode       Mean         Sd\n",
            "0     1  0.05766   93.16340  0.15346  ...   53.48611   7.52778   93.16340  101.41799\n",
            "1     1  0.05013  402.45588  0.32031  ...  256.77083  36.37500  402.45588  374.61667\n",
            "2     1  0.05287  154.89461  0.28263  ...  120.70833  46.93750  154.89461  109.03101\n",
            "3     1  0.05011  397.55801  0.21760  ...  149.81944  77.49306  397.55801  451.88121\n",
            "4     1  0.05408  108.01144  0.34926  ...   66.18750  10.22917  108.01144   94.42290\n",
            "\n",
            "[5 rows x 25 columns]\n",
            "(720, 25)\n"
          ],
          "name": "stdout"
        }
      ]
    },
    {
      "cell_type": "code",
      "metadata": {
        "id": "1gVOPf_LhXhb",
        "colab_type": "code",
        "outputId": "ef4aa60b-7121-429f-8a9a-5b80e4340d87",
        "colab": {
          "base_uri": "https://localhost:8080/",
          "height": 450
        }
      },
      "source": [
        "#Aqui iremos escolher quais variáveis iremos utilizar na ANN\n",
        "\n",
        "Colunms=['N_peaks', 'Media_proem', 'Area', 'Width_peaks', 'Width_peaks_max', 'Width_peaks_min', 'Median', 'Mode','Mean', 'Sd']\n",
        "\n",
        "#Colunms=['N_peaks', 'Media_proem', 'Area', 'Width_peaks', \n",
        "         # 'Width_peaks_max', 'Width_peaks_min', 'Median', \n",
        "          #'Mode', 'Mean', 'Sd']\n",
        "\n",
        "#'ASM', 'constrast', 'correl', 'variance', 'inv diff mom', 'sum aveg', 'sum var', 'sum entropy', 'entropy', 'dif var', 'dif entropy', 'IMC1', 'IMC2', 'colors'\n",
        "#'N_peaks', 'Media_proem', 'Area', 'Width_peaks', 'Width_peaks_max', 'Width_peaks_min', 'Median', 'Mode', 'Mean', 'Sd'\n",
        "\n",
        "\n",
        "del df_contraste['Type'] # delete first colunm\n",
        "\n",
        "Nomes_contraste=list(df_contraste.columns)\n",
        "for ii in Nomes_contraste:\n",
        "  Colunms.append(ii)\n",
        "#X=df.iloc[:,2:12]\n",
        "#y=df.iloc[:,1].astype(int)\n",
        "X=ANN_Completo[Colunms]\n",
        "print(X)\n",
        "#y=df['Type'].astype(int)\n",
        "y=ANN_Completo['Type']\n",
        "print(y)"
      ],
      "execution_count": 12,
      "outputs": [
        {
          "output_type": "stream",
          "text": [
            "     N_peaks  Media_proem        Area  ...     IMC1     IMC2  colors\n",
            "0          2     13.64931  1407.70370  ... -0.64142  0.98102  0.4125\n",
            "1          2    268.50231  6954.06944  ... -0.79959  0.99822  0.4100\n",
            "2          2     16.58218  2372.18981  ... -0.74008  0.99509  0.4225\n",
            "3          2      6.75694  5663.77546  ... -0.78154  0.99769  0.5300\n",
            "4          3     25.91667  1681.69907  ... -0.72303  0.99423  0.4900\n",
            "..       ...          ...         ...  ...      ...      ...     ...\n",
            "715        2      2.82755  2325.76157  ... -0.72472  0.99488  0.5300\n",
            "716        2     10.04282  1243.38426  ... -0.76055  0.99696  0.4400\n",
            "717        3     12.63426   466.21296  ... -0.71517  0.99219  0.5225\n",
            "718        2     21.59028  4145.96991  ... -0.71082  0.99428  0.5325\n",
            "719        0      0.00000  5489.27083  ... -0.73096  0.99265  0.5100\n",
            "\n",
            "[720 rows x 24 columns]\n",
            "0      1\n",
            "1      1\n",
            "2      1\n",
            "3      1\n",
            "4      1\n",
            "      ..\n",
            "715    3\n",
            "716    3\n",
            "717    3\n",
            "718    3\n",
            "719    3\n",
            "Name: Type, Length: 720, dtype: int64\n"
          ],
          "name": "stdout"
        }
      ]
    },
    {
      "cell_type": "code",
      "metadata": {
        "id": "JPuT29HY0h6B",
        "colab_type": "code",
        "outputId": "174a596d-75b1-404d-f7d5-4aabdd043f6c",
        "colab": {
          "base_uri": "https://localhost:8080/",
          "height": 53
        }
      },
      "source": [
        "print(Colunms)"
      ],
      "execution_count": 13,
      "outputs": [
        {
          "output_type": "stream",
          "text": [
            "['N_peaks', 'Media_proem', 'Area', 'Width_peaks', 'Width_peaks_max', 'Width_peaks_min', 'Median', 'Mode', 'Mean', 'Sd', 'ASM', 'constrast', 'correl', 'variance', 'inv diff mom', 'sum aveg', 'sum var', 'sum entropy', 'entropy', 'dif var', 'dif entropy', 'IMC1', 'IMC2', 'colors']\n"
          ],
          "name": "stdout"
        }
      ]
    },
    {
      "cell_type": "code",
      "metadata": {
        "id": "q_R9MQraX2K_",
        "colab_type": "code",
        "outputId": "09166287-8936-4253-d2fb-8015146af12c",
        "colab": {
          "base_uri": "https://localhost:8080/",
          "height": 116
        }
      },
      "source": [
        "\n",
        "# separa os dados variaveis de entrada em normatizados e originais\n",
        "X_OLD=[]\n",
        "X_OLD=X.copy()\n",
        "X=Normatiza(X)\n",
        "#print(X)\n"
      ],
      "execution_count": 14,
      "outputs": [
        {
          "output_type": "stream",
          "text": [
            "/usr/local/lib/python3.6/dist-packages/ipykernel_launcher.py:8: SettingWithCopyWarning: \n",
            "A value is trying to be set on a copy of a slice from a DataFrame.\n",
            "Try using .loc[row_indexer,col_indexer] = value instead\n",
            "\n",
            "See the caveats in the documentation: http://pandas.pydata.org/pandas-docs/stable/user_guide/indexing.html#returning-a-view-versus-a-copy\n",
            "  \n"
          ],
          "name": "stderr"
        }
      ]
    },
    {
      "cell_type": "code",
      "metadata": {
        "id": "6KotvGJ_5hx9",
        "colab_type": "code",
        "outputId": "12387498-16d5-4e4b-ae10-58dcbb22a743",
        "colab": {
          "base_uri": "https://localhost:8080/",
          "height": 350
        }
      },
      "source": [
        "print(y.ravel())"
      ],
      "execution_count": 15,
      "outputs": [
        {
          "output_type": "stream",
          "text": [
            "[1 1 1 1 1 1 1 1 1 1 1 1 1 1 1 1 1 1 1 1 1 1 1 1 1 1 1 1 1 1 1 1 1 1 1 1 1\n",
            " 1 1 1 1 1 1 1 1 1 1 1 1 1 1 1 1 1 1 1 1 1 1 1 1 1 1 1 1 1 1 1 1 1 1 1 1 1\n",
            " 1 1 1 1 1 1 1 1 1 1 1 1 1 1 1 1 1 1 1 1 1 1 1 1 1 1 1 1 1 1 1 1 1 1 1 1 1\n",
            " 1 1 1 1 1 1 1 1 1 1 1 1 1 1 1 1 1 1 1 1 1 1 1 1 1 1 1 1 1 1 1 1 1 1 1 1 1\n",
            " 1 1 1 1 1 1 1 1 1 1 1 1 1 1 1 1 1 1 1 1 1 1 1 1 1 1 1 1 1 1 1 1 2 2 2 2 2\n",
            " 2 2 2 2 2 2 2 2 2 2 2 2 2 2 2 2 2 2 2 2 2 2 2 2 2 2 2 2 2 2 2 2 2 2 2 2 2\n",
            " 2 2 2 2 2 2 2 2 2 2 2 2 2 2 2 2 2 2 2 2 2 2 2 2 2 2 2 2 2 2 2 2 2 2 2 2 2\n",
            " 2 2 2 2 2 2 2 2 2 2 2 2 2 2 2 2 2 2 2 2 2 2 2 2 2 2 2 2 2 2 2 2 2 2 2 2 2\n",
            " 2 2 2 2 2 2 2 2 2 2 2 2 2 2 2 2 2 2 2 2 2 2 2 2 2 2 2 2 2 2 2 2 2 2 2 2 2\n",
            " 2 2 2 2 2 2 2 2 2 2 2 2 2 2 2 2 2 2 2 2 2 2 2 2 2 2 2 2 2 2 2 2 2 2 2 2 2\n",
            " 2 2 2 2 2 2 2 2 2 2 2 2 2 2 2 2 2 2 2 2 2 2 2 2 2 2 2 2 2 2 2 2 2 2 2 2 2\n",
            " 2 2 2 2 2 2 2 2 2 2 2 2 2 2 2 2 2 2 2 2 2 2 2 2 2 2 2 2 2 2 2 2 2 2 2 2 2\n",
            " 2 2 2 2 2 2 2 2 2 2 2 2 2 2 2 2 2 2 2 2 2 2 2 2 2 2 2 2 2 2 2 2 2 2 2 2 2\n",
            " 2 2 2 2 2 2 2 2 2 2 2 2 2 2 2 2 2 2 2 2 2 2 2 2 2 2 2 2 2 2 2 2 2 2 2 2 2\n",
            " 2 2 2 2 2 2 2 2 2 2 2 2 2 2 2 2 2 2 2 2 2 2 3 3 3 3 3 3 3 3 3 3 3 3 3 3 3\n",
            " 3 3 3 3 3 3 3 3 3 3 3 3 3 3 3 3 3 3 3 3 3 3 3 3 3 3 3 3 3 3 3 3 3 3 3 3 3\n",
            " 3 3 3 3 3 3 3 3 3 3 3 3 3 3 3 3 3 3 3 3 3 3 3 3 3 3 3 3 3 3 3 3 3 3 3 3 3\n",
            " 3 3 3 3 3 3 3 3 3 3 3 3 3 3 3 3 3 3 3 3 3 3 3 3 3 3 3 3 3 3 3 3 3 3 3 3 3\n",
            " 3 3 3 3 3 3 3 3 3 3 3 3 3 3 3 3 3 3 3 3 3 3 3 3 3 3 3 3 3 3 3 3 3 3 3 3 3\n",
            " 3 3 3 3 3 3 3 3 3 3 3 3 3 3 3 3 3]\n"
          ],
          "name": "stdout"
        }
      ]
    },
    {
      "cell_type": "code",
      "metadata": {
        "id": "NWa39a4s6S47",
        "colab_type": "code",
        "outputId": "261781fd-27fe-4802-8c1f-ad95e5a92132",
        "colab": {
          "base_uri": "https://localhost:8080/",
          "height": 53
        }
      },
      "source": [
        "# esta parte encontra os indices do indefinido para depois \n",
        "# usar os indicies para unir indefinido e buraco\n",
        "\n",
        "Ind=[i for i, e in enumerate(y) if e == 3]\n",
        "print(Ind)"
      ],
      "execution_count": 16,
      "outputs": [
        {
          "output_type": "stream",
          "text": [
            "[540, 541, 542, 543, 544, 545, 546, 547, 548, 549, 550, 551, 552, 553, 554, 555, 556, 557, 558, 559, 560, 561, 562, 563, 564, 565, 566, 567, 568, 569, 570, 571, 572, 573, 574, 575, 576, 577, 578, 579, 580, 581, 582, 583, 584, 585, 586, 587, 588, 589, 590, 591, 592, 593, 594, 595, 596, 597, 598, 599, 600, 601, 602, 603, 604, 605, 606, 607, 608, 609, 610, 611, 612, 613, 614, 615, 616, 617, 618, 619, 620, 621, 622, 623, 624, 625, 626, 627, 628, 629, 630, 631, 632, 633, 634, 635, 636, 637, 638, 639, 640, 641, 642, 643, 644, 645, 646, 647, 648, 649, 650, 651, 652, 653, 654, 655, 656, 657, 658, 659, 660, 661, 662, 663, 664, 665, 666, 667, 668, 669, 670, 671, 672, 673, 674, 675, 676, 677, 678, 679, 680, 681, 682, 683, 684, 685, 686, 687, 688, 689, 690, 691, 692, 693, 694, 695, 696, 697, 698, 699, 700, 701, 702, 703, 704, 705, 706, 707, 708, 709, 710, 711, 712, 713, 714, 715, 716, 717, 718, 719]\n"
          ],
          "name": "stdout"
        }
      ]
    },
    {
      "cell_type": "code",
      "metadata": {
        "id": "WDoiL_NQ6CJZ",
        "colab_type": "code",
        "outputId": "fad348d0-f30c-4b71-e5a5-6a23818165d9",
        "colab": {
          "base_uri": "https://localhost:8080/",
          "height": 433
        }
      },
      "source": [
        "# esta parte une indefinido e buraco no numero 1 e passa a ser uma so \n",
        "# classe por enquanto os dados nao estao balanceados \n",
        "# tem o dobro da classe 1 que a classe 2\n",
        "for i in Ind:\n",
        "  y[i]=1\n",
        "print(y.ravel())"
      ],
      "execution_count": 17,
      "outputs": [
        {
          "output_type": "stream",
          "text": [
            "[1 1 1 1 1 1 1 1 1 1 1 1 1 1 1 1 1 1 1 1 1 1 1 1 1 1 1 1 1 1 1 1 1 1 1 1 1\n",
            " 1 1 1 1 1 1 1 1 1 1 1 1 1 1 1 1 1 1 1 1 1 1 1 1 1 1 1 1 1 1 1 1 1 1 1 1 1\n",
            " 1 1 1 1 1 1 1 1 1 1 1 1 1 1 1 1 1 1 1 1 1 1 1 1 1 1 1 1 1 1 1 1 1 1 1 1 1\n",
            " 1 1 1 1 1 1 1 1 1 1 1 1 1 1 1 1 1 1 1 1 1 1 1 1 1 1 1 1 1 1 1 1 1 1 1 1 1\n",
            " 1 1 1 1 1 1 1 1 1 1 1 1 1 1 1 1 1 1 1 1 1 1 1 1 1 1 1 1 1 1 1 1 2 2 2 2 2\n",
            " 2 2 2 2 2 2 2 2 2 2 2 2 2 2 2 2 2 2 2 2 2 2 2 2 2 2 2 2 2 2 2 2 2 2 2 2 2\n",
            " 2 2 2 2 2 2 2 2 2 2 2 2 2 2 2 2 2 2 2 2 2 2 2 2 2 2 2 2 2 2 2 2 2 2 2 2 2\n",
            " 2 2 2 2 2 2 2 2 2 2 2 2 2 2 2 2 2 2 2 2 2 2 2 2 2 2 2 2 2 2 2 2 2 2 2 2 2\n",
            " 2 2 2 2 2 2 2 2 2 2 2 2 2 2 2 2 2 2 2 2 2 2 2 2 2 2 2 2 2 2 2 2 2 2 2 2 2\n",
            " 2 2 2 2 2 2 2 2 2 2 2 2 2 2 2 2 2 2 2 2 2 2 2 2 2 2 2 2 2 2 2 2 2 2 2 2 2\n",
            " 2 2 2 2 2 2 2 2 2 2 2 2 2 2 2 2 2 2 2 2 2 2 2 2 2 2 2 2 2 2 2 2 2 2 2 2 2\n",
            " 2 2 2 2 2 2 2 2 2 2 2 2 2 2 2 2 2 2 2 2 2 2 2 2 2 2 2 2 2 2 2 2 2 2 2 2 2\n",
            " 2 2 2 2 2 2 2 2 2 2 2 2 2 2 2 2 2 2 2 2 2 2 2 2 2 2 2 2 2 2 2 2 2 2 2 2 2\n",
            " 2 2 2 2 2 2 2 2 2 2 2 2 2 2 2 2 2 2 2 2 2 2 2 2 2 2 2 2 2 2 2 2 2 2 2 2 2\n",
            " 2 2 2 2 2 2 2 2 2 2 2 2 2 2 2 2 2 2 2 2 2 2 1 1 1 1 1 1 1 1 1 1 1 1 1 1 1\n",
            " 1 1 1 1 1 1 1 1 1 1 1 1 1 1 1 1 1 1 1 1 1 1 1 1 1 1 1 1 1 1 1 1 1 1 1 1 1\n",
            " 1 1 1 1 1 1 1 1 1 1 1 1 1 1 1 1 1 1 1 1 1 1 1 1 1 1 1 1 1 1 1 1 1 1 1 1 1\n",
            " 1 1 1 1 1 1 1 1 1 1 1 1 1 1 1 1 1 1 1 1 1 1 1 1 1 1 1 1 1 1 1 1 1 1 1 1 1\n",
            " 1 1 1 1 1 1 1 1 1 1 1 1 1 1 1 1 1 1 1 1 1 1 1 1 1 1 1 1 1 1 1 1 1 1 1 1 1\n",
            " 1 1 1 1 1 1 1 1 1 1 1 1 1 1 1 1 1]\n"
          ],
          "name": "stdout"
        },
        {
          "output_type": "stream",
          "text": [
            "/usr/local/lib/python3.6/dist-packages/ipykernel_launcher.py:2: SettingWithCopyWarning: \n",
            "A value is trying to be set on a copy of a slice from a DataFrame\n",
            "\n",
            "See the caveats in the documentation: http://pandas.pydata.org/pandas-docs/stable/user_guide/indexing.html#returning-a-view-versus-a-copy\n",
            "  \n"
          ],
          "name": "stderr"
        }
      ]
    },
    {
      "cell_type": "code",
      "metadata": {
        "id": "Zi9gBj86i0V_",
        "colab_type": "code",
        "colab": {}
      },
      "source": [
        "# Train Test Split\n",
        "X_train, X_test, y_train, y_test = train_test_split(X, y, test_size=0.30, \n",
        "                                                    random_state=25)"
      ],
      "execution_count": 0,
      "outputs": []
    },
    {
      "cell_type": "code",
      "metadata": {
        "id": "YoPO53S3bif2",
        "colab_type": "code",
        "colab": {}
      },
      "source": [
        "# define a rede neural \n",
        "#N_Hidden=(18,18,18)\n",
        "\n",
        "\n",
        "clf = MLPClassifier(solver='lbfgs',activation=Ativa,alpha=1e-5,\n",
        "                    hidden_layer_sizes=N_Hidden,random_state=0)\n"
      ],
      "execution_count": 0,
      "outputs": []
    },
    {
      "cell_type": "code",
      "metadata": {
        "id": "VCd7bGM8bm04",
        "colab_type": "code",
        "outputId": "34ed9512-a214-4fd9-c5a8-953d394756c3",
        "colab": {
          "base_uri": "https://localhost:8080/",
          "height": 250
        }
      },
      "source": [
        "# treina a rede neural\n",
        "clf.fit(X_train, y_train)\n"
      ],
      "execution_count": 20,
      "outputs": [
        {
          "output_type": "stream",
          "text": [
            "/usr/local/lib/python3.6/dist-packages/sklearn/neural_network/_multilayer_perceptron.py:470: ConvergenceWarning: lbfgs failed to converge (status=1):\n",
            "STOP: TOTAL NO. of ITERATIONS REACHED LIMIT.\n",
            "\n",
            "Increase the number of iterations (max_iter) or scale the data as shown in:\n",
            "    https://scikit-learn.org/stable/modules/preprocessing.html\n",
            "  self.n_iter_ = _check_optimize_result(\"lbfgs\", opt_res, self.max_iter)\n"
          ],
          "name": "stderr"
        },
        {
          "output_type": "execute_result",
          "data": {
            "text/plain": [
              "MLPClassifier(activation='tanh', alpha=1e-05, batch_size='auto', beta_1=0.9,\n",
              "              beta_2=0.999, early_stopping=False, epsilon=1e-08,\n",
              "              hidden_layer_sizes=22, learning_rate='constant',\n",
              "              learning_rate_init=0.001, max_fun=15000, max_iter=200,\n",
              "              momentum=0.9, n_iter_no_change=10, nesterovs_momentum=True,\n",
              "              power_t=0.5, random_state=0, shuffle=True, solver='lbfgs',\n",
              "              tol=0.0001, validation_fraction=0.1, verbose=False,\n",
              "              warm_start=False)"
            ]
          },
          "metadata": {
            "tags": []
          },
          "execution_count": 20
        }
      ]
    },
    {
      "cell_type": "code",
      "metadata": {
        "id": "kSXYEWkmbu1p",
        "colab_type": "code",
        "colab": {}
      },
      "source": [
        "# usa a rede neural treina em calculos para treino e teste\n",
        "y_calc_train=clf.predict(X_train)\n",
        "y_pred=clf.predict(X_test)\n"
      ],
      "execution_count": 0,
      "outputs": []
    },
    {
      "cell_type": "code",
      "metadata": {
        "id": "yuJNYvbGcjVE",
        "colab_type": "code",
        "outputId": "4dd7f829-e419-4299-e164-083b7a683766",
        "colab": {
          "base_uri": "https://localhost:8080/",
          "height": 200
        }
      },
      "source": [
        "# Evaluating the Algorithm\n",
        "print(confusion_matrix(y_pred, y_test))\n",
        "print(classification_report(y_pred, y_test))"
      ],
      "execution_count": 22,
      "outputs": [
        {
          "output_type": "stream",
          "text": [
            "[[86 24]\n",
            " [26 80]]\n",
            "              precision    recall  f1-score   support\n",
            "\n",
            "           1       0.77      0.78      0.77       110\n",
            "           2       0.77      0.75      0.76       106\n",
            "\n",
            "    accuracy                           0.77       216\n",
            "   macro avg       0.77      0.77      0.77       216\n",
            "weighted avg       0.77      0.77      0.77       216\n",
            "\n"
          ],
          "name": "stdout"
        }
      ]
    },
    {
      "cell_type": "code",
      "metadata": {
        "id": "-2NNm47T9Aon",
        "colab_type": "code",
        "outputId": "e40dd14a-276a-4189-cb14-51c6c7738b81",
        "colab": {
          "base_uri": "https://localhost:8080/",
          "height": 53
        }
      },
      "source": [
        "'''\n",
        "[[31  5 15]\n",
        " [ 8 41 11]\n",
        " [12 12 27]]\n",
        "              precision    recall  f1-score   support\n",
        "\n",
        "           1       0.61      0.61      0.61        51\n",
        "           2       0.71      0.68      0.69        60\n",
        "           3       0.51      0.53      0.52        51\n",
        "\n",
        "    accuracy                           0.61       162\n",
        "   macro avg       0.61      0.61      0.61       162\n",
        "weighted avg       0.61      0.61      0.61       162\n",
        "'''\n"
      ],
      "execution_count": 23,
      "outputs": [
        {
          "output_type": "execute_result",
          "data": {
            "text/plain": [
              "'\\n[[31  5 15]\\n [ 8 41 11]\\n [12 12 27]]\\n              precision    recall  f1-score   support\\n\\n           1       0.61      0.61      0.61        51\\n           2       0.71      0.68      0.69        60\\n           3       0.51      0.53      0.52        51\\n\\n    accuracy                           0.61       162\\n   macro avg       0.61      0.61      0.61       162\\nweighted avg       0.61      0.61      0.61       162\\n'"
            ]
          },
          "metadata": {
            "tags": []
          },
          "execution_count": 23
        }
      ]
    },
    {
      "cell_type": "markdown",
      "metadata": {
        "id": "Fzmsl4clwqy1",
        "colab_type": "text"
      },
      "source": [
        ""
      ]
    },
    {
      "cell_type": "code",
      "metadata": {
        "id": "0_2coHl9nOW_",
        "colab_type": "code",
        "outputId": "583c5f14-8193-42cd-a842-e92b690e09b5",
        "colab": {
          "base_uri": "https://localhost:8080/",
          "height": 116
        }
      },
      "source": [
        "print(y_pred)"
      ],
      "execution_count": 24,
      "outputs": [
        {
          "output_type": "stream",
          "text": [
            "[1 1 1 2 1 2 1 1 2 1 1 2 2 2 2 1 2 1 2 1 1 2 1 2 2 2 2 2 1 1 1 1 1 1 2 1 2\n",
            " 2 2 2 1 2 2 1 1 2 1 2 1 2 1 2 2 1 2 2 1 1 1 2 1 1 1 1 1 1 2 1 2 2 2 1 1 2\n",
            " 2 1 1 1 1 2 1 1 2 1 2 1 1 2 2 1 2 1 2 1 2 2 1 2 1 2 2 1 1 2 1 1 2 2 2 2 1\n",
            " 2 1 1 2 2 2 2 2 2 2 2 2 2 1 2 1 1 2 2 1 1 2 1 1 2 2 1 2 1 2 1 1 2 1 2 2 1\n",
            " 1 2 1 2 1 1 2 1 1 2 1 2 1 2 1 2 2 1 2 2 1 1 2 1 2 2 1 1 1 2 2 2 2 1 1 1 1\n",
            " 2 1 2 1 1 1 1 2 2 1 2 2 2 2 1 2 2 2 1 1 1 1 2 1 1 1 2 1 1 2 1]\n"
          ],
          "name": "stdout"
        }
      ]
    }
  ]
}