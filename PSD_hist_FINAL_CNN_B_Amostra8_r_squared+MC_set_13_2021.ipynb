{
  "nbformat": 4,
  "nbformat_minor": 0,
  "metadata": {
    "colab": {
      "name": "PSD_histogram_CNN_B_Amostra8_r_squared+MC_set_13_2021.ipynb",
      "provenance": [],
      "collapsed_sections": [],
      "include_colab_link": true
    },
    "kernelspec": {
      "display_name": "Python 3",
      "name": "python3"
    }
  },
  "cells": [
    {
      "cell_type": "markdown",
      "metadata": {
        "id": "view-in-github",
        "colab_type": "text"
      },
      "source": [
        "<a href=\"https://colab.research.google.com/github/marquesgabi/Doutorado/blob/master/PSD_hist_FINAL_CNN_B_Amostra8_r_squared%2BMC_set_13_2021.ipynb\" target=\"_parent\"><img src=\"https://colab.research.google.com/assets/colab-badge.svg\" alt=\"Open In Colab\"/></a>"
      ]
    },
    {
      "cell_type": "code",
      "metadata": {
        "id": "Sog7Z9pyhUD_"
      },
      "source": [
        "import matplotlib.pyplot as plt\n",
        "import numpy as np\n",
        "import cv2\n",
        "import zipfile\n",
        "#import random\n",
        "from random import randint\n",
        "from PIL import Image\n",
        "import re\n",
        "from sklearn.model_selection import train_test_split\n",
        "#import scikit-image\n",
        "import skimage\n",
        "import sklearn\n",
        "import pandas as pd\n",
        "from keras.models import Sequential\n",
        "from keras.layers import Dense, Activation, Conv2D, MaxPooling2D, Flatten, Dropout, BatchNormalization\n",
        "from sklearn.metrics import r2_score\n",
        "from google.colab import files"
      ],
      "execution_count": 1,
      "outputs": []
    },
    {
      "cell_type": "code",
      "metadata": {
        "colab": {
          "base_uri": "https://localhost:8080/"
        },
        "id": "uZEvJvfoibE4",
        "outputId": "4905d06b-922d-4adc-df77-9a2772788faf"
      },
      "source": [
        "!pip install mahotas"
      ],
      "execution_count": 2,
      "outputs": [
        {
          "output_type": "stream",
          "name": "stdout",
          "text": [
            "Collecting mahotas\n",
            "  Downloading mahotas-1.4.11-cp37-cp37m-manylinux2010_x86_64.whl (5.7 MB)\n",
            "\u001b[K     |████████████████████████████████| 5.7 MB 4.7 MB/s \n",
            "\u001b[?25hRequirement already satisfied: numpy in /usr/local/lib/python3.7/dist-packages (from mahotas) (1.19.5)\n",
            "Installing collected packages: mahotas\n",
            "Successfully installed mahotas-1.4.11\n"
          ]
        }
      ]
    },
    {
      "cell_type": "code",
      "metadata": {
        "id": "nf_a6PJ1iUnT"
      },
      "source": [
        "import mahotas.features.texture as mht\n",
        "import mahotas.features"
      ],
      "execution_count": 3,
      "outputs": []
    },
    {
      "cell_type": "code",
      "metadata": {
        "colab": {
          "base_uri": "https://localhost:8080/"
        },
        "id": "_VcTdaNVh9EE",
        "outputId": "df7287c8-40a4-4ffe-ff46-5146c9f04cd8"
      },
      "source": [
        "!git clone https://github.com/ucfilho/marquesgabi_fev_2020 #clonar do Github\n",
        "%cd marquesgabi_fev_2020\n",
        "import Go2BlackWhite\n",
        "import Go2Mahotas"
      ],
      "execution_count": 4,
      "outputs": [
        {
          "output_type": "stream",
          "name": "stdout",
          "text": [
            "Cloning into 'marquesgabi_fev_2020'...\n",
            "remote: Enumerating objects: 73, done.\u001b[K\n",
            "remote: Counting objects: 100% (73/73), done.\u001b[K\n",
            "remote: Compressing objects: 100% (71/71), done.\u001b[K\n",
            "remote: Total 73 (delta 37), reused 0 (delta 0), pack-reused 0\u001b[K\n",
            "Unpacking objects: 100% (73/73), done.\n",
            "/content/marquesgabi_fev_2020\n"
          ]
        }
      ]
    },
    {
      "cell_type": "code",
      "metadata": {
        "colab": {
          "base_uri": "https://localhost:8080/"
        },
        "id": "1v7SRrc8mH2N",
        "outputId": "778d5c57-a79a-4a69-9d2a-b503d91bd83c"
      },
      "source": [
        "!git clone https://github.com/marquesgabi/Doutorado\n",
        "%cd Doutorado\n",
        "\n",
        "Transfere='Fotos_Grandes_3cdAmostra.zip' \n",
        "file_name = zipfile.ZipFile(Transfere, 'r')\n",
        "file_name.extractall()"
      ],
      "execution_count": 5,
      "outputs": [
        {
          "output_type": "stream",
          "name": "stdout",
          "text": [
            "Cloning into 'Doutorado'...\n",
            "remote: Enumerating objects: 461, done.\u001b[K\n",
            "remote: Counting objects: 100% (211/211), done.\u001b[K\n",
            "remote: Compressing objects: 100% (210/210), done.\u001b[K\n",
            "remote: Total 461 (delta 100), reused 0 (delta 0), pack-reused 250\u001b[K\n",
            "Receiving objects: 100% (461/461), 166.07 MiB | 28.52 MiB/s, done.\n",
            "Resolving deltas: 100% (223/223), done.\n",
            "/content/marquesgabi_fev_2020/Doutorado\n"
          ]
        }
      ]
    },
    {
      "cell_type": "code",
      "metadata": {
        "colab": {
          "base_uri": "https://localhost:8080/"
        },
        "id": "NqIYzUcnrdMp",
        "outputId": "49ad98c3-52ba-4797-9513-481491176035"
      },
      "source": [
        "labels =[]\n",
        "with zipfile.ZipFile(Transfere, \"r\") as f:\n",
        "  for f in f.namelist():\n",
        "    labels.append(f)\n",
        "print(labels)"
      ],
      "execution_count": 6,
      "outputs": [
        {
          "output_type": "stream",
          "name": "stdout",
          "text": [
            "['Fotos_Grandes-3cdAmostra/Q6-8-4.jpg', 'Fotos_Grandes-3cdAmostra/Q6-5-3.jpg', 'Fotos_Grandes-3cdAmostra/Q6-7-4.jpg', 'Fotos_Grandes-3cdAmostra/Q6-8-2.jpg', 'Fotos_Grandes-3cdAmostra/Q6-3-2.jpg', 'Fotos_Grandes-3cdAmostra/Q6-7-2.jpg', 'Fotos_Grandes-3cdAmostra/Q6-4-4.jpg', 'Fotos_Grandes-3cdAmostra/Q6-9-5.jpg', 'Fotos_Grandes-3cdAmostra/Q6-2-5.jpg', 'Fotos_Grandes-3cdAmostra/Q6-8-3.jpg', 'Fotos_Grandes-3cdAmostra/Q6-9-3.jpg', 'Fotos_Grandes-3cdAmostra/Q6-1-2.jpg', 'Fotos_Grandes-3cdAmostra/Q6-6-3.jpg', 'Fotos_Grandes-3cdAmostra/Q6-3-4.jpg', 'Fotos_Grandes-3cdAmostra/Q6-1-4.jpg', 'Fotos_Grandes-3cdAmostra/Q6-6-2.jpg', 'Fotos_Grandes-3cdAmostra/Q6-4-3.jpg', 'Fotos_Grandes-3cdAmostra/Q6-7-3.jpg', 'Fotos_Grandes-3cdAmostra/Q6-2-2.jpg', 'Fotos_Grandes-3cdAmostra/Q6-9-2.jpg', 'Fotos_Grandes-3cdAmostra/Q6-1-5.jpg', 'Fotos_Grandes-3cdAmostra/Q6-6-5.jpg', 'Fotos_Grandes-3cdAmostra/Q6-2-1.jpg', 'Fotos_Grandes-3cdAmostra/Q6-5-2.jpg', 'Fotos_Grandes-3cdAmostra/Q6-4-1.jpg', 'Fotos_Grandes-3cdAmostra/Q6-3-1.jpg', 'Fotos_Grandes-3cdAmostra/Q6-5-4.jpg']\n"
          ]
        }
      ]
    },
    {
      "cell_type": "code",
      "metadata": {
        "id": "0kA4IWSmasoD"
      },
      "source": [
        "Size=1200 # tamanho da foto\n",
        "ww,img_name=Go2BlackWhite.BlackWhite(Transfere,Size) #Pegamos a primeira foto Grande\n",
        "img=ww[9] \n",
        "# this is the big image we want to segment \n",
        "# ww[0], change it if you want to segment another picture"
      ],
      "execution_count": 7,
      "outputs": []
    },
    {
      "cell_type": "code",
      "metadata": {
        "colab": {
          "base_uri": "https://localhost:8080/"
        },
        "id": "tHgqAnaFyCjp",
        "outputId": "5cc5d1e0-bd9a-4517-fb08-a5702bdcf912"
      },
      "source": [
        "!git clone https://github.com/ucfilho/MarquesGabi_Routines\n",
        "%cd MarquesGabi_Routines"
      ],
      "execution_count": 8,
      "outputs": [
        {
          "output_type": "stream",
          "name": "stdout",
          "text": [
            "Cloning into 'MarquesGabi_Routines'...\n",
            "remote: Enumerating objects: 163, done.\u001b[K\n",
            "remote: Counting objects: 100% (163/163), done.\u001b[K\n",
            "remote: Compressing objects: 100% (161/161), done.\u001b[K\n",
            "remote: Total 163 (delta 65), reused 0 (delta 0), pack-reused 0\u001b[K\n",
            "Receiving objects: 100% (163/163), 211.71 MiB | 22.55 MiB/s, done.\n",
            "Resolving deltas: 100% (65/65), done.\n",
            "Checking out files: 100% (46/46), done.\n",
            "/content/marquesgabi_fev_2020/Doutorado/MarquesGabi_Routines\n"
          ]
        }
      ]
    },
    {
      "cell_type": "code",
      "metadata": {
        "id": "qc4rFvzkyWCi"
      },
      "source": [
        "from segment_filter_not_conclude import Segmenta  # got image provided segmented"
      ],
      "execution_count": 9,
      "outputs": []
    },
    {
      "cell_type": "code",
      "metadata": {
        "id": "SnTtH3KDP863"
      },
      "source": [
        "df=Segmenta(img)\n",
        "Img_Size = 28"
      ],
      "execution_count": 10,
      "outputs": []
    },
    {
      "cell_type": "code",
      "metadata": {
        "colab": {
          "base_uri": "https://localhost:8080/"
        },
        "id": "YN5MN5a_v4np",
        "outputId": "1f8742bc-3e3a-4984-8c86-8ce5f5e392ab"
      },
      "source": [
        "print(df)"
      ],
      "execution_count": 11,
      "outputs": [
        {
          "output_type": "stream",
          "name": "stdout",
          "text": [
            "    Width           0           1  ...         781         782         783\n",
            "0     175   58.609600   94.932793  ...   89.487999  106.295990  100.558395\n",
            "1     125   92.317001   94.175171  ...  104.423103  105.385414  105.921219\n",
            "2     162   46.053349   40.332268  ...   23.907330   19.141747    9.695320\n",
            "3     146   44.341530   43.520363  ...   90.607246   85.204910   84.259903\n",
            "4     120    0.318889    0.981111  ...    0.076667    0.778889    0.964444\n",
            "5     136   34.933395   36.087372  ...    7.882353    7.660034    7.734429\n",
            "6     186    1.061857    0.524454  ...   42.003242   75.260727   90.068451\n",
            "7     115   53.465023   66.925293  ...   75.588501   80.423965   80.733078\n",
            "8     145   34.678905   32.511490  ...   37.898453   30.145302   21.273102\n",
            "9     162   99.451004   96.507545  ...   62.285473   82.081993  100.768478\n",
            "10    198   53.303944   52.501575  ...   77.391380   77.451477   50.222012\n",
            "11    148   93.002930   94.066467  ...    6.669832    8.569029    9.103725\n",
            "12    128   62.907227   66.818359  ...   20.568359   14.391602    3.797852\n",
            "13    187   48.296406   12.793875  ...   66.807060   69.255081   67.830795\n",
            "14    105   62.768894   62.902229  ...  103.506676   87.248894   52.484444\n",
            "15    175  167.988785  136.788788  ...   17.622398    3.455999    0.976000\n",
            "16    170   91.880417   91.383537  ...   79.532043   72.993225   61.393501\n",
            "17    159   57.518574   57.472214  ...   94.001495   93.298950   88.108421\n",
            "18    102   77.841995   80.120354  ...   53.981552   54.459442   53.969631\n",
            "19    146  105.162888  106.967720  ...   95.056290   45.891914   41.738411\n",
            "20    156   92.894157  129.836304  ...   83.623940   83.835640   85.713348\n",
            "21    154   41.537189   53.024796  ...    6.404959    6.669422    6.537190\n",
            "22    141  104.507172  104.839645  ...    7.350385    6.649012    6.516624\n",
            "23    100   55.367996   62.748798  ...   31.372799   29.019199   26.177601\n",
            "24    151  106.397888  104.248497  ...   72.792557   75.462654   77.731064\n",
            "25    134   79.244820   62.293167  ...    0.000000    0.000000    0.000000\n",
            "26    108    1.115226    1.000000  ...   29.990398   25.796982   18.982166\n",
            "27    128    0.207031    0.829102  ...   67.015625   60.518555   48.041016\n",
            "28    184   80.376183   77.432411  ...    0.261342    0.545841    0.883270\n",
            "29    117   30.579296   28.685951  ...   69.644539   70.095917   75.121552\n",
            "30    126   92.962967   96.987656  ...    0.000000    0.000000    0.000000\n",
            "31    121   92.689987   92.506111  ...   41.277714   41.191246   42.862301\n",
            "32    129   56.642746   56.962925  ...   86.682953   88.430313   88.607475\n",
            "33    105   56.568893   57.155560  ...   66.728897   60.111115   57.053341\n",
            "34    190   93.035126   88.978836  ...    4.491302    4.313906    2.800997\n",
            "35    163   80.924126   87.648880  ...   50.962288   49.869812   48.232788\n",
            "36    112   96.937500  104.937500  ...   52.187500   50.875000   51.125000\n",
            "37    139   72.794212   72.315666  ...   71.966927   66.416847   52.262611\n",
            "38    171   83.266815   86.872299  ...  148.506622  125.820389   64.815361\n",
            "39    139   65.607315   61.851509  ...   57.458153   55.920547   51.826248\n",
            "40    190   51.125092   52.741047  ...   84.372513   83.206314   67.460266\n",
            "41    142   98.496925   98.757591  ...    7.796469    7.712557    7.781988\n",
            "42    172   44.654953   53.399677  ...  138.024353  132.228241  130.834503\n",
            "43    188   45.469444   45.335896  ...   42.798100   35.629696   26.910818\n",
            "44    197   22.082996   23.236647  ...   71.417618   71.747437   74.051949\n",
            "45    155   69.327415   70.641457  ...   84.510361   41.377777    2.583434\n",
            "46    149   60.501915   59.545113  ...   70.378052   72.272423   72.479256\n",
            "47    154   85.851250   84.380173  ...   88.016533   89.570251   90.363640\n",
            "48    198   92.435265   87.243530  ...   15.235588    6.088562   16.990511\n",
            "49    170  104.050247  104.445816  ...   99.926102  103.008728  105.459381\n",
            "\n",
            "[50 rows x 785 columns]\n"
          ]
        }
      ]
    },
    {
      "cell_type": "code",
      "metadata": {
        "colab": {
          "base_uri": "https://localhost:8080/",
          "height": 52
        },
        "id": "xzpQ1Pz0fX5L",
        "outputId": "66c59ae8-26a1-4b7c-9909-b009d9b8ad97"
      },
      "source": [
        "'''\n",
        "!git clone https://github.com/ucfilho/MarquesGabi_Routines\n",
        "%cd MarquesGabi_Routines\n",
        "# filename = 'model_ANN.pkl'\n",
        "filename = 'model_ANN_new.pkl'\n",
        "model = joblib.load(filename)\n",
        "'''"
      ],
      "execution_count": 12,
      "outputs": [
        {
          "output_type": "execute_result",
          "data": {
            "application/vnd.google.colaboratory.intrinsic+json": {
              "type": "string"
            },
            "text/plain": [
              "\"\\n!git clone https://github.com/ucfilho/MarquesGabi_Routines\\n%cd MarquesGabi_Routines\\n# filename = 'model_ANN.pkl'\\nfilename = 'model_ANN_new.pkl'\\nmodel = joblib.load(filename)\\n\""
            ]
          },
          "metadata": {},
          "execution_count": 12
        }
      ]
    },
    {
      "cell_type": "code",
      "metadata": {
        "colab": {
          "base_uri": "https://localhost:8080/"
        },
        "id": "xR2emP4rNjQy",
        "outputId": "793f6b36-6bee-496f-e19a-09110dda6c07"
      },
      "source": [
        "!git clone https://github.com/ucfilho/MarquesGabi_Routines\n",
        "%cd MarquesGabi_Routines"
      ],
      "execution_count": 13,
      "outputs": [
        {
          "output_type": "stream",
          "name": "stdout",
          "text": [
            "Cloning into 'MarquesGabi_Routines'...\n",
            "remote: Enumerating objects: 163, done.\u001b[K\n",
            "remote: Counting objects: 100% (163/163), done.\u001b[K\n",
            "remote: Compressing objects: 100% (161/161), done.\u001b[K\n",
            "remote: Total 163 (delta 65), reused 0 (delta 0), pack-reused 0\u001b[K\n",
            "Receiving objects: 100% (163/163), 211.71 MiB | 22.69 MiB/s, done.\n",
            "Resolving deltas: 100% (65/65), done.\n",
            "Checking out files: 100% (46/46), done.\n",
            "/content/marquesgabi_fev_2020/Doutorado/MarquesGabi_Routines/MarquesGabi_Routines\n"
          ]
        }
      ]
    },
    {
      "cell_type": "code",
      "metadata": {
        "id": "O6cMHOrlNliO"
      },
      "source": [
        "# leitura dos dados\n",
        "df=pd.read_excel(\"FotosTreinoRede.xlsx\")\n",
        "y = df['y']\n",
        "df.drop(['Unnamed: 0','y'], axis='columns', inplace=True)"
      ],
      "execution_count": 14,
      "outputs": []
    },
    {
      "cell_type": "code",
      "metadata": {
        "id": "zQO8d2QbNqj0"
      },
      "source": [
        "X =np.array(df.copy())/255.0 \n",
        "\n",
        "\n",
        "X_train, X_test, Y_train, Y_test = train_test_split(X, y, test_size=0.30, shuffle=True, random_state=42)"
      ],
      "execution_count": 15,
      "outputs": []
    },
    {
      "cell_type": "code",
      "metadata": {
        "id": "gIFPGE_-vx3T"
      },
      "source": [
        ""
      ],
      "execution_count": 15,
      "outputs": []
    },
    {
      "cell_type": "code",
      "metadata": {
        "id": "23iKv6bDPWQl"
      },
      "source": [
        "# helper\n",
        "def ynindicator(Y):\n",
        "  N = len(Y)\n",
        "  K = len(set(Y))\n",
        "  I = np.zeros((N, K))\n",
        "  I[np.arange(N), Y] = 1\n",
        "  return I\n",
        "\n",
        "def yback(Y_test):\n",
        "  nrow, ncol = Y_test.shape\n",
        "  y_class = np.zeros(nrow,dtype=int)\n",
        "  y_resp = Y_test\n",
        "  for k in range(nrow):\n",
        "    for kk in range(K):\n",
        "      if(y_resp[k,kk] == 1):\n",
        "        y_class[k] = kk\n",
        "  Y_test = y_class.copy()\n",
        "  return Y_test\n",
        "\n",
        "X_train = np.array(X_train)\n",
        "Y_train = np.array(Y_train)\n",
        "K = len(set(Y_train))\n",
        "\n",
        "X_train = X_train.reshape(-1, Img_Size, Img_Size, 1) / 255.0\n",
        "Y_train = Y_train.astype(np.int32)\n",
        "Y_train = ynindicator(Y_train)\n",
        "\n",
        "X_test = np.array(X_test )\n",
        "Y_test = np.array(Y_test)\n",
        "X_test = X_test.reshape(-1, Img_Size, Img_Size, 1) / 255.0\n",
        "Y_test = Y_test.astype(np.int32)\n",
        "Y_test = ynindicator(Y_test)\n",
        "\n",
        "# the model will be a sequence of layers\n",
        "\n",
        "Description = '3 layers of Convolution: 64, 128, 256 '\n",
        "N1 = 20\n",
        "N2 = 20\n",
        "\n",
        "# make the CNN\n",
        "model = Sequential()\n",
        "model.add(Conv2D(input_shape=(Img_Size, Img_Size, 1), filters=64, kernel_size=(3, 3)))\n",
        "model.add(BatchNormalization())\n",
        "model.add(Activation('relu'))\n",
        "model.add(MaxPooling2D())\n",
        "\n",
        "model.add(Conv2D(filters=128, kernel_size=(3, 3)))\n",
        "model.add(BatchNormalization())\n",
        "model.add(Activation('relu'))\n",
        "model.add(MaxPooling2D())\n",
        "\n",
        "model.add(Conv2D(filters=256, kernel_size=(3, 3)))\n",
        "model.add(BatchNormalization())\n",
        "model.add(Activation('relu'))\n",
        "model.add(MaxPooling2D())\n",
        "\n",
        "model.add(Flatten())\n",
        "model.add(Dense(units=N1))\n",
        "model.add(Dropout(0.2))\n",
        "model.add(Dense(units=N2))\n",
        "model.add(Activation('relu'))\n",
        "#model.add(Dropout(0.2))\n",
        "model.add(Dense(units=K))\n",
        "model.add(Activation('softmax'))\n",
        "\n",
        "\n",
        "# list of losses: https://keras.io/losses/\n",
        "# list of optimizers: https://keras.io/optimizers/\n",
        "# list of metrics: https://keras.io/metrics/\n",
        "model.compile(\n",
        "  loss='categorical_crossentropy',\n",
        "  optimizer='adam',\n",
        "  metrics=['accuracy']\n",
        ")"
      ],
      "execution_count": 16,
      "outputs": []
    },
    {
      "cell_type": "code",
      "metadata": {
        "colab": {
          "base_uri": "https://localhost:8080/"
        },
        "id": "FpbPQ1FSRG6A",
        "outputId": "b109e716-d915-47a4-e371-4a66eafa692b"
      },
      "source": [
        "\n",
        "# training the model\n",
        "r = model.fit(X_train, Y_train, validation_data=(X_test,Y_test), \n",
        "              epochs=200, batch_size=32)"
      ],
      "execution_count": 17,
      "outputs": [
        {
          "output_type": "stream",
          "name": "stdout",
          "text": [
            "Epoch 1/200\n",
            "11/11 [==============================] - 3s 158ms/step - loss: 0.5966 - accuracy: 0.7318 - val_loss: 0.6930 - val_accuracy: 0.5102\n",
            "Epoch 2/200\n",
            "11/11 [==============================] - 1s 130ms/step - loss: 0.2372 - accuracy: 0.9038 - val_loss: 0.6933 - val_accuracy: 0.5102\n",
            "Epoch 3/200\n",
            "11/11 [==============================] - 1s 134ms/step - loss: 0.2160 - accuracy: 0.9213 - val_loss: 0.6934 - val_accuracy: 0.5102\n",
            "Epoch 4/200\n",
            "11/11 [==============================] - 1s 133ms/step - loss: 0.1431 - accuracy: 0.9446 - val_loss: 0.6936 - val_accuracy: 0.5102\n",
            "Epoch 5/200\n",
            "11/11 [==============================] - 1s 133ms/step - loss: 0.0954 - accuracy: 0.9650 - val_loss: 0.6934 - val_accuracy: 0.5102\n",
            "Epoch 6/200\n",
            "11/11 [==============================] - 1s 133ms/step - loss: 0.0823 - accuracy: 0.9592 - val_loss: 0.6956 - val_accuracy: 0.5102\n",
            "Epoch 7/200\n",
            "11/11 [==============================] - 1s 135ms/step - loss: 0.0566 - accuracy: 0.9708 - val_loss: 0.6983 - val_accuracy: 0.5102\n",
            "Epoch 8/200\n",
            "11/11 [==============================] - 1s 137ms/step - loss: 0.0457 - accuracy: 0.9825 - val_loss: 0.7012 - val_accuracy: 0.5102\n",
            "Epoch 9/200\n",
            "11/11 [==============================] - 1s 135ms/step - loss: 0.0367 - accuracy: 0.9854 - val_loss: 0.7078 - val_accuracy: 0.5102\n",
            "Epoch 10/200\n",
            "11/11 [==============================] - 1s 131ms/step - loss: 0.0345 - accuracy: 0.9796 - val_loss: 0.7137 - val_accuracy: 0.5102\n",
            "Epoch 11/200\n",
            "11/11 [==============================] - 1s 134ms/step - loss: 0.0420 - accuracy: 0.9854 - val_loss: 0.7195 - val_accuracy: 0.5102\n",
            "Epoch 12/200\n",
            "11/11 [==============================] - 1s 134ms/step - loss: 0.0181 - accuracy: 0.9942 - val_loss: 0.7173 - val_accuracy: 0.5102\n",
            "Epoch 13/200\n",
            "11/11 [==============================] - 1s 135ms/step - loss: 0.0138 - accuracy: 0.9971 - val_loss: 0.7213 - val_accuracy: 0.5102\n",
            "Epoch 14/200\n",
            "11/11 [==============================] - 2s 140ms/step - loss: 0.0377 - accuracy: 0.9825 - val_loss: 0.7248 - val_accuracy: 0.5102\n",
            "Epoch 15/200\n",
            "11/11 [==============================] - 1s 137ms/step - loss: 0.0243 - accuracy: 0.9913 - val_loss: 0.7582 - val_accuracy: 0.5102\n",
            "Epoch 16/200\n",
            "11/11 [==============================] - 1s 133ms/step - loss: 0.0179 - accuracy: 0.9942 - val_loss: 0.7738 - val_accuracy: 0.5102\n",
            "Epoch 17/200\n",
            "11/11 [==============================] - 1s 138ms/step - loss: 0.0243 - accuracy: 0.9942 - val_loss: 0.7659 - val_accuracy: 0.5102\n",
            "Epoch 18/200\n",
            "11/11 [==============================] - 1s 133ms/step - loss: 0.0406 - accuracy: 0.9883 - val_loss: 0.7974 - val_accuracy: 0.5102\n",
            "Epoch 19/200\n",
            "11/11 [==============================] - 1s 135ms/step - loss: 0.0244 - accuracy: 0.9942 - val_loss: 0.8169 - val_accuracy: 0.5102\n",
            "Epoch 20/200\n",
            "11/11 [==============================] - 1s 134ms/step - loss: 0.0191 - accuracy: 0.9942 - val_loss: 0.8382 - val_accuracy: 0.5102\n",
            "Epoch 21/200\n",
            "11/11 [==============================] - 1s 133ms/step - loss: 0.0110 - accuracy: 0.9942 - val_loss: 0.8338 - val_accuracy: 0.5102\n",
            "Epoch 22/200\n",
            "11/11 [==============================] - 1s 134ms/step - loss: 0.0199 - accuracy: 0.9971 - val_loss: 0.8508 - val_accuracy: 0.5102\n",
            "Epoch 23/200\n",
            "11/11 [==============================] - 1s 131ms/step - loss: 0.0049 - accuracy: 1.0000 - val_loss: 0.8767 - val_accuracy: 0.5102\n",
            "Epoch 24/200\n",
            "11/11 [==============================] - 1s 134ms/step - loss: 0.0023 - accuracy: 1.0000 - val_loss: 0.9033 - val_accuracy: 0.5102\n",
            "Epoch 25/200\n",
            "11/11 [==============================] - 1s 134ms/step - loss: 0.0022 - accuracy: 1.0000 - val_loss: 0.9135 - val_accuracy: 0.5102\n",
            "Epoch 26/200\n",
            "11/11 [==============================] - 1s 134ms/step - loss: 0.0015 - accuracy: 1.0000 - val_loss: 0.9262 - val_accuracy: 0.5102\n",
            "Epoch 27/200\n",
            "11/11 [==============================] - 1s 131ms/step - loss: 0.0010 - accuracy: 1.0000 - val_loss: 0.9359 - val_accuracy: 0.5102\n",
            "Epoch 28/200\n",
            "11/11 [==============================] - 1s 135ms/step - loss: 7.9693e-04 - accuracy: 1.0000 - val_loss: 0.9586 - val_accuracy: 0.5102\n",
            "Epoch 29/200\n",
            "11/11 [==============================] - 1s 133ms/step - loss: 7.1994e-04 - accuracy: 1.0000 - val_loss: 0.9894 - val_accuracy: 0.5102\n",
            "Epoch 30/200\n",
            "11/11 [==============================] - 1s 133ms/step - loss: 6.2274e-04 - accuracy: 1.0000 - val_loss: 1.0208 - val_accuracy: 0.5102\n",
            "Epoch 31/200\n",
            "11/11 [==============================] - 1s 134ms/step - loss: 7.1023e-04 - accuracy: 1.0000 - val_loss: 1.0591 - val_accuracy: 0.5102\n",
            "Epoch 32/200\n",
            "11/11 [==============================] - 1s 135ms/step - loss: 8.5566e-04 - accuracy: 1.0000 - val_loss: 1.1208 - val_accuracy: 0.5102\n",
            "Epoch 33/200\n",
            "11/11 [==============================] - 1s 134ms/step - loss: 0.0014 - accuracy: 1.0000 - val_loss: 1.1634 - val_accuracy: 0.5102\n",
            "Epoch 34/200\n",
            "11/11 [==============================] - 1s 135ms/step - loss: 5.7126e-04 - accuracy: 1.0000 - val_loss: 1.1980 - val_accuracy: 0.5102\n",
            "Epoch 35/200\n",
            "11/11 [==============================] - 1s 137ms/step - loss: 0.0027 - accuracy: 0.9971 - val_loss: 1.5784 - val_accuracy: 0.5102\n",
            "Epoch 36/200\n",
            "11/11 [==============================] - 1s 136ms/step - loss: 0.0026 - accuracy: 0.9971 - val_loss: 2.0794 - val_accuracy: 0.5102\n",
            "Epoch 37/200\n",
            "11/11 [==============================] - 1s 133ms/step - loss: 0.0048 - accuracy: 0.9971 - val_loss: 1.9201 - val_accuracy: 0.5102\n",
            "Epoch 38/200\n",
            "11/11 [==============================] - 1s 137ms/step - loss: 0.0033 - accuracy: 1.0000 - val_loss: 2.1039 - val_accuracy: 0.5102\n",
            "Epoch 39/200\n",
            "11/11 [==============================] - 1s 134ms/step - loss: 0.0010 - accuracy: 1.0000 - val_loss: 2.5859 - val_accuracy: 0.5102\n",
            "Epoch 40/200\n",
            "11/11 [==============================] - 1s 134ms/step - loss: 7.7038e-04 - accuracy: 1.0000 - val_loss: 2.6020 - val_accuracy: 0.5102\n",
            "Epoch 41/200\n",
            "11/11 [==============================] - 1s 130ms/step - loss: 0.0019 - accuracy: 1.0000 - val_loss: 2.7773 - val_accuracy: 0.5102\n",
            "Epoch 42/200\n",
            "11/11 [==============================] - 1s 136ms/step - loss: 0.0026 - accuracy: 1.0000 - val_loss: 2.4370 - val_accuracy: 0.5102\n",
            "Epoch 43/200\n",
            "11/11 [==============================] - 1s 133ms/step - loss: 0.0015 - accuracy: 1.0000 - val_loss: 2.6902 - val_accuracy: 0.5102\n",
            "Epoch 44/200\n",
            "11/11 [==============================] - 1s 134ms/step - loss: 0.0204 - accuracy: 0.9913 - val_loss: 8.3538 - val_accuracy: 0.5102\n",
            "Epoch 45/200\n",
            "11/11 [==============================] - 1s 134ms/step - loss: 0.0151 - accuracy: 0.9971 - val_loss: 5.9905 - val_accuracy: 0.5102\n",
            "Epoch 46/200\n",
            "11/11 [==============================] - 1s 135ms/step - loss: 0.0200 - accuracy: 0.9854 - val_loss: 7.8565 - val_accuracy: 0.5102\n",
            "Epoch 47/200\n",
            "11/11 [==============================] - 1s 134ms/step - loss: 0.0193 - accuracy: 0.9942 - val_loss: 15.7167 - val_accuracy: 0.5102\n",
            "Epoch 48/200\n",
            "11/11 [==============================] - 1s 133ms/step - loss: 0.0262 - accuracy: 0.9913 - val_loss: 3.3785 - val_accuracy: 0.5102\n",
            "Epoch 49/200\n",
            "11/11 [==============================] - 1s 137ms/step - loss: 0.0770 - accuracy: 0.9796 - val_loss: 27.7264 - val_accuracy: 0.5102\n",
            "Epoch 50/200\n",
            "11/11 [==============================] - 1s 136ms/step - loss: 0.0234 - accuracy: 0.9883 - val_loss: 10.1952 - val_accuracy: 0.5102\n",
            "Epoch 51/200\n",
            "11/11 [==============================] - 1s 135ms/step - loss: 0.0425 - accuracy: 0.9825 - val_loss: 17.3644 - val_accuracy: 0.5102\n",
            "Epoch 52/200\n",
            "11/11 [==============================] - 1s 135ms/step - loss: 0.0235 - accuracy: 0.9942 - val_loss: 36.7543 - val_accuracy: 0.5102\n",
            "Epoch 53/200\n",
            "11/11 [==============================] - 1s 137ms/step - loss: 0.0246 - accuracy: 0.9883 - val_loss: 41.1621 - val_accuracy: 0.5102\n",
            "Epoch 54/200\n",
            "11/11 [==============================] - 1s 137ms/step - loss: 0.0057 - accuracy: 1.0000 - val_loss: 21.7031 - val_accuracy: 0.5102\n",
            "Epoch 55/200\n",
            "11/11 [==============================] - 1s 137ms/step - loss: 0.0067 - accuracy: 0.9971 - val_loss: 21.1722 - val_accuracy: 0.5102\n",
            "Epoch 56/200\n",
            "11/11 [==============================] - 1s 135ms/step - loss: 0.0038 - accuracy: 1.0000 - val_loss: 20.2445 - val_accuracy: 0.5102\n",
            "Epoch 57/200\n",
            "11/11 [==============================] - 1s 135ms/step - loss: 0.0114 - accuracy: 0.9971 - val_loss: 23.7775 - val_accuracy: 0.5102\n",
            "Epoch 58/200\n",
            "11/11 [==============================] - 1s 137ms/step - loss: 0.0080 - accuracy: 0.9942 - val_loss: 36.0797 - val_accuracy: 0.5102\n",
            "Epoch 59/200\n",
            "11/11 [==============================] - 1s 137ms/step - loss: 0.0091 - accuracy: 0.9942 - val_loss: 22.3470 - val_accuracy: 0.5102\n",
            "Epoch 60/200\n",
            "11/11 [==============================] - 2s 138ms/step - loss: 0.0251 - accuracy: 0.9942 - val_loss: 15.4511 - val_accuracy: 0.5102\n",
            "Epoch 61/200\n",
            "11/11 [==============================] - 1s 136ms/step - loss: 0.0175 - accuracy: 0.9913 - val_loss: 17.3342 - val_accuracy: 0.5102\n",
            "Epoch 62/200\n",
            "11/11 [==============================] - 1s 134ms/step - loss: 0.0048 - accuracy: 0.9971 - val_loss: 7.2450 - val_accuracy: 0.5102\n",
            "Epoch 63/200\n",
            "11/11 [==============================] - 1s 133ms/step - loss: 0.0169 - accuracy: 0.9913 - val_loss: 22.5282 - val_accuracy: 0.5102\n",
            "Epoch 64/200\n",
            "11/11 [==============================] - 1s 135ms/step - loss: 0.0058 - accuracy: 1.0000 - val_loss: 47.9907 - val_accuracy: 0.5102\n",
            "Epoch 65/200\n",
            "11/11 [==============================] - 1s 132ms/step - loss: 0.0054 - accuracy: 0.9971 - val_loss: 35.0895 - val_accuracy: 0.5102\n",
            "Epoch 66/200\n",
            "11/11 [==============================] - 1s 133ms/step - loss: 0.0049 - accuracy: 0.9971 - val_loss: 33.9335 - val_accuracy: 0.5102\n",
            "Epoch 67/200\n",
            "11/11 [==============================] - 1s 136ms/step - loss: 6.2143e-04 - accuracy: 1.0000 - val_loss: 34.5371 - val_accuracy: 0.5102\n",
            "Epoch 68/200\n",
            "11/11 [==============================] - 1s 135ms/step - loss: 4.2170e-04 - accuracy: 1.0000 - val_loss: 33.2849 - val_accuracy: 0.5102\n",
            "Epoch 69/200\n",
            "11/11 [==============================] - 1s 135ms/step - loss: 0.0062 - accuracy: 0.9971 - val_loss: 30.1656 - val_accuracy: 0.5102\n",
            "Epoch 70/200\n",
            "11/11 [==============================] - 1s 134ms/step - loss: 4.4321e-04 - accuracy: 1.0000 - val_loss: 28.8912 - val_accuracy: 0.5102\n",
            "Epoch 71/200\n",
            "11/11 [==============================] - 1s 134ms/step - loss: 0.0095 - accuracy: 0.9971 - val_loss: 23.6635 - val_accuracy: 0.5102\n",
            "Epoch 72/200\n",
            "11/11 [==============================] - 1s 136ms/step - loss: 0.0059 - accuracy: 0.9971 - val_loss: 16.2946 - val_accuracy: 0.5102\n",
            "Epoch 73/200\n",
            "11/11 [==============================] - 1s 135ms/step - loss: 0.0026 - accuracy: 1.0000 - val_loss: 20.9918 - val_accuracy: 0.5102\n",
            "Epoch 74/200\n",
            "11/11 [==============================] - 1s 134ms/step - loss: 0.0067 - accuracy: 1.0000 - val_loss: 20.2912 - val_accuracy: 0.5102\n",
            "Epoch 75/200\n",
            "11/11 [==============================] - 1s 135ms/step - loss: 0.0034 - accuracy: 1.0000 - val_loss: 16.7116 - val_accuracy: 0.5102\n",
            "Epoch 76/200\n",
            "11/11 [==============================] - 2s 136ms/step - loss: 8.4153e-04 - accuracy: 1.0000 - val_loss: 12.2016 - val_accuracy: 0.5102\n",
            "Epoch 77/200\n",
            "11/11 [==============================] - 1s 134ms/step - loss: 0.0014 - accuracy: 1.0000 - val_loss: 12.5034 - val_accuracy: 0.5102\n",
            "Epoch 78/200\n",
            "11/11 [==============================] - 1s 135ms/step - loss: 2.0773e-04 - accuracy: 1.0000 - val_loss: 11.5363 - val_accuracy: 0.5102\n",
            "Epoch 79/200\n",
            "11/11 [==============================] - 1s 133ms/step - loss: 3.0840e-04 - accuracy: 1.0000 - val_loss: 10.3116 - val_accuracy: 0.5102\n",
            "Epoch 80/200\n",
            "11/11 [==============================] - 1s 135ms/step - loss: 8.0977e-05 - accuracy: 1.0000 - val_loss: 9.2244 - val_accuracy: 0.5102\n",
            "Epoch 81/200\n",
            "11/11 [==============================] - 1s 132ms/step - loss: 8.1108e-05 - accuracy: 1.0000 - val_loss: 8.1170 - val_accuracy: 0.5102\n",
            "Epoch 82/200\n",
            "11/11 [==============================] - 1s 135ms/step - loss: 4.9879e-05 - accuracy: 1.0000 - val_loss: 6.9563 - val_accuracy: 0.5102\n",
            "Epoch 83/200\n",
            "11/11 [==============================] - 1s 137ms/step - loss: 9.9885e-05 - accuracy: 1.0000 - val_loss: 5.9101 - val_accuracy: 0.5102\n",
            "Epoch 84/200\n",
            "11/11 [==============================] - 1s 134ms/step - loss: 8.8922e-05 - accuracy: 1.0000 - val_loss: 4.9677 - val_accuracy: 0.5170\n",
            "Epoch 85/200\n",
            "11/11 [==============================] - 1s 133ms/step - loss: 0.0022 - accuracy: 1.0000 - val_loss: 2.7287 - val_accuracy: 0.5782\n",
            "Epoch 86/200\n",
            "11/11 [==============================] - 1s 131ms/step - loss: 2.8568e-05 - accuracy: 1.0000 - val_loss: 0.9921 - val_accuracy: 0.6803\n",
            "Epoch 87/200\n",
            "11/11 [==============================] - 1s 136ms/step - loss: 4.7902e-04 - accuracy: 1.0000 - val_loss: 0.4384 - val_accuracy: 0.8163\n",
            "Epoch 88/200\n",
            "11/11 [==============================] - 1s 134ms/step - loss: 5.8381e-05 - accuracy: 1.0000 - val_loss: 0.3559 - val_accuracy: 0.8776\n",
            "Epoch 89/200\n",
            "11/11 [==============================] - 1s 137ms/step - loss: 1.0579e-04 - accuracy: 1.0000 - val_loss: 0.3020 - val_accuracy: 0.8980\n",
            "Epoch 90/200\n",
            "11/11 [==============================] - 1s 135ms/step - loss: 6.9830e-04 - accuracy: 1.0000 - val_loss: 0.4527 - val_accuracy: 0.8299\n",
            "Epoch 91/200\n",
            "11/11 [==============================] - 1s 136ms/step - loss: 8.0736e-05 - accuracy: 1.0000 - val_loss: 1.3890 - val_accuracy: 0.6599\n",
            "Epoch 92/200\n",
            "11/11 [==============================] - 1s 134ms/step - loss: 1.3587e-04 - accuracy: 1.0000 - val_loss: 1.5495 - val_accuracy: 0.6599\n",
            "Epoch 93/200\n",
            "11/11 [==============================] - 1s 136ms/step - loss: 2.3037e-04 - accuracy: 1.0000 - val_loss: 1.2311 - val_accuracy: 0.7075\n",
            "Epoch 94/200\n",
            "11/11 [==============================] - 1s 136ms/step - loss: 1.0110e-04 - accuracy: 1.0000 - val_loss: 0.9244 - val_accuracy: 0.7483\n",
            "Epoch 95/200\n",
            "11/11 [==============================] - 2s 138ms/step - loss: 2.9203e-04 - accuracy: 1.0000 - val_loss: 0.6546 - val_accuracy: 0.7891\n",
            "Epoch 96/200\n",
            "11/11 [==============================] - 1s 135ms/step - loss: 3.1703e-04 - accuracy: 1.0000 - val_loss: 0.4807 - val_accuracy: 0.8367\n",
            "Epoch 97/200\n",
            "11/11 [==============================] - 1s 135ms/step - loss: 3.4863e-05 - accuracy: 1.0000 - val_loss: 0.3978 - val_accuracy: 0.8776\n",
            "Epoch 98/200\n",
            "11/11 [==============================] - 1s 135ms/step - loss: 2.6133e-05 - accuracy: 1.0000 - val_loss: 0.3227 - val_accuracy: 0.8980\n",
            "Epoch 99/200\n",
            "11/11 [==============================] - 1s 137ms/step - loss: 4.9046e-05 - accuracy: 1.0000 - val_loss: 0.2636 - val_accuracy: 0.9116\n",
            "Epoch 100/200\n",
            "11/11 [==============================] - 1s 136ms/step - loss: 3.6544e-05 - accuracy: 1.0000 - val_loss: 0.2267 - val_accuracy: 0.9252\n",
            "Epoch 101/200\n",
            "11/11 [==============================] - 1s 135ms/step - loss: 3.2250e-05 - accuracy: 1.0000 - val_loss: 0.2070 - val_accuracy: 0.9320\n",
            "Epoch 102/200\n",
            "11/11 [==============================] - 1s 136ms/step - loss: 9.4129e-05 - accuracy: 1.0000 - val_loss: 0.1858 - val_accuracy: 0.9388\n",
            "Epoch 103/200\n",
            "11/11 [==============================] - 1s 136ms/step - loss: 2.6109e-05 - accuracy: 1.0000 - val_loss: 0.1760 - val_accuracy: 0.9660\n",
            "Epoch 104/200\n",
            "11/11 [==============================] - 1s 136ms/step - loss: 2.8126e-05 - accuracy: 1.0000 - val_loss: 0.1710 - val_accuracy: 0.9660\n",
            "Epoch 105/200\n",
            "11/11 [==============================] - 1s 136ms/step - loss: 2.1411e-05 - accuracy: 1.0000 - val_loss: 0.1668 - val_accuracy: 0.9660\n",
            "Epoch 106/200\n",
            "11/11 [==============================] - 1s 136ms/step - loss: 5.5635e-05 - accuracy: 1.0000 - val_loss: 0.1681 - val_accuracy: 0.9660\n",
            "Epoch 107/200\n",
            "11/11 [==============================] - 1s 134ms/step - loss: 2.2719e-04 - accuracy: 1.0000 - val_loss: 0.1765 - val_accuracy: 0.9660\n",
            "Epoch 108/200\n",
            "11/11 [==============================] - 1s 135ms/step - loss: 8.1516e-05 - accuracy: 1.0000 - val_loss: 0.1833 - val_accuracy: 0.9660\n",
            "Epoch 109/200\n",
            "11/11 [==============================] - 1s 135ms/step - loss: 2.6388e-05 - accuracy: 1.0000 - val_loss: 0.1869 - val_accuracy: 0.9660\n",
            "Epoch 110/200\n",
            "11/11 [==============================] - 1s 134ms/step - loss: 3.4456e-05 - accuracy: 1.0000 - val_loss: 0.1881 - val_accuracy: 0.9660\n",
            "Epoch 111/200\n",
            "11/11 [==============================] - 2s 137ms/step - loss: 4.3347e-05 - accuracy: 1.0000 - val_loss: 0.1882 - val_accuracy: 0.9660\n",
            "Epoch 112/200\n",
            "11/11 [==============================] - 1s 135ms/step - loss: 5.9642e-05 - accuracy: 1.0000 - val_loss: 0.1866 - val_accuracy: 0.9728\n",
            "Epoch 113/200\n",
            "11/11 [==============================] - 1s 137ms/step - loss: 8.9769e-05 - accuracy: 1.0000 - val_loss: 0.1915 - val_accuracy: 0.9728\n",
            "Epoch 114/200\n",
            "11/11 [==============================] - 1s 135ms/step - loss: 8.0442e-05 - accuracy: 1.0000 - val_loss: 0.1952 - val_accuracy: 0.9728\n",
            "Epoch 115/200\n",
            "11/11 [==============================] - 2s 139ms/step - loss: 5.8591e-05 - accuracy: 1.0000 - val_loss: 0.2002 - val_accuracy: 0.9728\n",
            "Epoch 116/200\n",
            "11/11 [==============================] - 1s 136ms/step - loss: 7.2762e-05 - accuracy: 1.0000 - val_loss: 0.2036 - val_accuracy: 0.9728\n",
            "Epoch 117/200\n",
            "11/11 [==============================] - 1s 137ms/step - loss: 1.0560e-04 - accuracy: 1.0000 - val_loss: 0.2266 - val_accuracy: 0.9728\n",
            "Epoch 118/200\n",
            "11/11 [==============================] - 1s 136ms/step - loss: 3.9707e-05 - accuracy: 1.0000 - val_loss: 0.2533 - val_accuracy: 0.9660\n",
            "Epoch 119/200\n",
            "11/11 [==============================] - 1s 136ms/step - loss: 2.3900e-04 - accuracy: 1.0000 - val_loss: 0.2944 - val_accuracy: 0.9592\n",
            "Epoch 120/200\n",
            "11/11 [==============================] - 1s 134ms/step - loss: 2.2272e-04 - accuracy: 1.0000 - val_loss: 1.0854 - val_accuracy: 0.7415\n",
            "Epoch 121/200\n",
            "11/11 [==============================] - 1s 135ms/step - loss: 4.2952e-05 - accuracy: 1.0000 - val_loss: 2.8992 - val_accuracy: 0.6122\n",
            "Epoch 122/200\n",
            "11/11 [==============================] - 1s 135ms/step - loss: 1.6688e-04 - accuracy: 1.0000 - val_loss: 3.0923 - val_accuracy: 0.5714\n",
            "Epoch 123/200\n",
            "11/11 [==============================] - 1s 137ms/step - loss: 7.3442e-05 - accuracy: 1.0000 - val_loss: 2.7773 - val_accuracy: 0.6190\n",
            "Epoch 124/200\n",
            "11/11 [==============================] - 1s 134ms/step - loss: 5.0390e-05 - accuracy: 1.0000 - val_loss: 2.1986 - val_accuracy: 0.6531\n",
            "Epoch 125/200\n",
            "11/11 [==============================] - 1s 135ms/step - loss: 2.2803e-05 - accuracy: 1.0000 - val_loss: 1.5055 - val_accuracy: 0.7007\n",
            "Epoch 126/200\n",
            "11/11 [==============================] - 1s 137ms/step - loss: 2.7468e-05 - accuracy: 1.0000 - val_loss: 0.9338 - val_accuracy: 0.7823\n",
            "Epoch 127/200\n",
            "11/11 [==============================] - 1s 137ms/step - loss: 3.6606e-05 - accuracy: 1.0000 - val_loss: 0.5711 - val_accuracy: 0.8707\n",
            "Epoch 128/200\n",
            "11/11 [==============================] - 1s 134ms/step - loss: 4.1112e-05 - accuracy: 1.0000 - val_loss: 0.4322 - val_accuracy: 0.9116\n",
            "Epoch 129/200\n",
            "11/11 [==============================] - 1s 135ms/step - loss: 1.7541e-05 - accuracy: 1.0000 - val_loss: 0.3270 - val_accuracy: 0.9252\n",
            "Epoch 130/200\n",
            "11/11 [==============================] - 2s 138ms/step - loss: 3.3034e-05 - accuracy: 1.0000 - val_loss: 0.2641 - val_accuracy: 0.9524\n",
            "Epoch 131/200\n",
            "11/11 [==============================] - 1s 135ms/step - loss: 4.4304e-05 - accuracy: 1.0000 - val_loss: 0.2352 - val_accuracy: 0.9660\n",
            "Epoch 132/200\n",
            "11/11 [==============================] - 1s 136ms/step - loss: 3.0006e-04 - accuracy: 1.0000 - val_loss: 0.3269 - val_accuracy: 0.9184\n",
            "Epoch 133/200\n",
            "11/11 [==============================] - 2s 137ms/step - loss: 3.6127e-05 - accuracy: 1.0000 - val_loss: 0.6382 - val_accuracy: 0.7891\n",
            "Epoch 134/200\n",
            "11/11 [==============================] - 2s 138ms/step - loss: 1.7012e-05 - accuracy: 1.0000 - val_loss: 0.5517 - val_accuracy: 0.7891\n",
            "Epoch 135/200\n",
            "11/11 [==============================] - 1s 136ms/step - loss: 4.0196e-05 - accuracy: 1.0000 - val_loss: 0.4302 - val_accuracy: 0.8299\n",
            "Epoch 136/200\n",
            "11/11 [==============================] - 1s 136ms/step - loss: 4.8108e-05 - accuracy: 1.0000 - val_loss: 0.3288 - val_accuracy: 0.8912\n",
            "Epoch 137/200\n",
            "11/11 [==============================] - 2s 139ms/step - loss: 3.2430e-05 - accuracy: 1.0000 - val_loss: 0.3076 - val_accuracy: 0.9116\n",
            "Epoch 138/200\n",
            "11/11 [==============================] - 1s 137ms/step - loss: 1.2886e-04 - accuracy: 1.0000 - val_loss: 0.2298 - val_accuracy: 0.9320\n",
            "Epoch 139/200\n",
            "11/11 [==============================] - 1s 136ms/step - loss: 1.7084e-05 - accuracy: 1.0000 - val_loss: 0.1984 - val_accuracy: 0.9660\n",
            "Epoch 140/200\n",
            "11/11 [==============================] - 1s 137ms/step - loss: 2.0756e-04 - accuracy: 1.0000 - val_loss: 0.1694 - val_accuracy: 0.9796\n",
            "Epoch 141/200\n",
            "11/11 [==============================] - 2s 137ms/step - loss: 2.8792e-05 - accuracy: 1.0000 - val_loss: 0.1686 - val_accuracy: 0.9728\n",
            "Epoch 142/200\n",
            "11/11 [==============================] - 1s 135ms/step - loss: 3.0137e-05 - accuracy: 1.0000 - val_loss: 0.1745 - val_accuracy: 0.9728\n",
            "Epoch 143/200\n",
            "11/11 [==============================] - 1s 135ms/step - loss: 1.5495e-05 - accuracy: 1.0000 - val_loss: 0.1858 - val_accuracy: 0.9660\n",
            "Epoch 144/200\n",
            "11/11 [==============================] - 1s 134ms/step - loss: 2.4281e-04 - accuracy: 1.0000 - val_loss: 0.1291 - val_accuracy: 0.9728\n",
            "Epoch 145/200\n",
            "11/11 [==============================] - 1s 136ms/step - loss: 3.1840e-05 - accuracy: 1.0000 - val_loss: 0.1300 - val_accuracy: 0.9660\n",
            "Epoch 146/200\n",
            "11/11 [==============================] - 1s 136ms/step - loss: 1.2644e-05 - accuracy: 1.0000 - val_loss: 0.1374 - val_accuracy: 0.9660\n",
            "Epoch 147/200\n",
            "11/11 [==============================] - 1s 138ms/step - loss: 3.1435e-05 - accuracy: 1.0000 - val_loss: 0.1457 - val_accuracy: 0.9728\n",
            "Epoch 148/200\n",
            "11/11 [==============================] - 1s 136ms/step - loss: 4.4067e-05 - accuracy: 1.0000 - val_loss: 0.1585 - val_accuracy: 0.9796\n",
            "Epoch 149/200\n",
            "11/11 [==============================] - 1s 138ms/step - loss: 1.2106e-05 - accuracy: 1.0000 - val_loss: 0.1763 - val_accuracy: 0.9796\n",
            "Epoch 150/200\n",
            "11/11 [==============================] - 2s 139ms/step - loss: 1.4452e-05 - accuracy: 1.0000 - val_loss: 0.1913 - val_accuracy: 0.9796\n",
            "Epoch 151/200\n",
            "11/11 [==============================] - 1s 138ms/step - loss: 5.3477e-04 - accuracy: 1.0000 - val_loss: 0.2022 - val_accuracy: 0.9728\n",
            "Epoch 152/200\n",
            "11/11 [==============================] - 1s 137ms/step - loss: 5.5452e-05 - accuracy: 1.0000 - val_loss: 0.1599 - val_accuracy: 0.9660\n",
            "Epoch 153/200\n",
            "11/11 [==============================] - 1s 137ms/step - loss: 2.2993e-04 - accuracy: 1.0000 - val_loss: 0.2348 - val_accuracy: 0.9252\n",
            "Epoch 154/200\n",
            "11/11 [==============================] - 2s 140ms/step - loss: 1.5256e-04 - accuracy: 1.0000 - val_loss: 0.3556 - val_accuracy: 0.8912\n",
            "Epoch 155/200\n",
            "11/11 [==============================] - 2s 138ms/step - loss: 2.6001e-04 - accuracy: 1.0000 - val_loss: 0.7055 - val_accuracy: 0.8163\n",
            "Epoch 156/200\n",
            "11/11 [==============================] - 2s 138ms/step - loss: 2.0718e-05 - accuracy: 1.0000 - val_loss: 0.7105 - val_accuracy: 0.8367\n",
            "Epoch 157/200\n",
            "11/11 [==============================] - 2s 140ms/step - loss: 4.3542e-05 - accuracy: 1.0000 - val_loss: 0.5575 - val_accuracy: 0.8776\n",
            "Epoch 158/200\n",
            "11/11 [==============================] - 1s 136ms/step - loss: 5.4642e-06 - accuracy: 1.0000 - val_loss: 0.4041 - val_accuracy: 0.9048\n",
            "Epoch 159/200\n",
            "11/11 [==============================] - 1s 136ms/step - loss: 6.9756e-05 - accuracy: 1.0000 - val_loss: 0.3247 - val_accuracy: 0.9252\n",
            "Epoch 160/200\n",
            "11/11 [==============================] - 1s 136ms/step - loss: 1.0062e-04 - accuracy: 1.0000 - val_loss: 0.2978 - val_accuracy: 0.9320\n",
            "Epoch 161/200\n",
            "11/11 [==============================] - 1s 135ms/step - loss: 1.7000e-05 - accuracy: 1.0000 - val_loss: 0.2655 - val_accuracy: 0.9388\n",
            "Epoch 162/200\n",
            "11/11 [==============================] - 1s 135ms/step - loss: 1.6238e-05 - accuracy: 1.0000 - val_loss: 0.2387 - val_accuracy: 0.9456\n",
            "Epoch 163/200\n",
            "11/11 [==============================] - 1s 137ms/step - loss: 9.1111e-06 - accuracy: 1.0000 - val_loss: 0.2102 - val_accuracy: 0.9592\n",
            "Epoch 164/200\n",
            "11/11 [==============================] - 1s 135ms/step - loss: 4.1191e-05 - accuracy: 1.0000 - val_loss: 0.2054 - val_accuracy: 0.9592\n",
            "Epoch 165/200\n",
            "11/11 [==============================] - 1s 135ms/step - loss: 2.2732e-04 - accuracy: 1.0000 - val_loss: 2.8058 - val_accuracy: 0.6327\n",
            "Epoch 166/200\n",
            "11/11 [==============================] - 1s 135ms/step - loss: 0.0010 - accuracy: 1.0000 - val_loss: 22.3610 - val_accuracy: 0.5102\n",
            "Epoch 167/200\n",
            "11/11 [==============================] - 1s 135ms/step - loss: 0.0010 - accuracy: 1.0000 - val_loss: 32.6796 - val_accuracy: 0.5102\n",
            "Epoch 168/200\n",
            "11/11 [==============================] - 2s 139ms/step - loss: 1.6879e-04 - accuracy: 1.0000 - val_loss: 25.8079 - val_accuracy: 0.5102\n",
            "Epoch 169/200\n",
            "11/11 [==============================] - 1s 135ms/step - loss: 9.1088e-05 - accuracy: 1.0000 - val_loss: 19.4658 - val_accuracy: 0.5102\n",
            "Epoch 170/200\n",
            "11/11 [==============================] - 1s 137ms/step - loss: 5.3431e-05 - accuracy: 1.0000 - val_loss: 15.9942 - val_accuracy: 0.5102\n",
            "Epoch 171/200\n",
            "11/11 [==============================] - 2s 139ms/step - loss: 1.9675e-04 - accuracy: 1.0000 - val_loss: 14.3136 - val_accuracy: 0.5102\n",
            "Epoch 172/200\n",
            "11/11 [==============================] - 1s 137ms/step - loss: 2.3238e-04 - accuracy: 1.0000 - val_loss: 14.8925 - val_accuracy: 0.5102\n",
            "Epoch 173/200\n",
            "11/11 [==============================] - 2s 137ms/step - loss: 8.5478e-04 - accuracy: 1.0000 - val_loss: 8.1804 - val_accuracy: 0.5102\n",
            "Epoch 174/200\n",
            "11/11 [==============================] - 2s 138ms/step - loss: 8.9525e-04 - accuracy: 1.0000 - val_loss: 5.4507 - val_accuracy: 0.5102\n",
            "Epoch 175/200\n",
            "11/11 [==============================] - 2s 141ms/step - loss: 4.2375e-04 - accuracy: 1.0000 - val_loss: 4.3263 - val_accuracy: 0.5102\n",
            "Epoch 176/200\n",
            "11/11 [==============================] - 1s 136ms/step - loss: 2.7415e-04 - accuracy: 1.0000 - val_loss: 6.3769 - val_accuracy: 0.5102\n",
            "Epoch 177/200\n",
            "11/11 [==============================] - 2s 138ms/step - loss: 1.3297e-04 - accuracy: 1.0000 - val_loss: 4.5187 - val_accuracy: 0.5102\n",
            "Epoch 178/200\n",
            "11/11 [==============================] - 1s 136ms/step - loss: 7.8173e-05 - accuracy: 1.0000 - val_loss: 3.9748 - val_accuracy: 0.5102\n",
            "Epoch 179/200\n",
            "11/11 [==============================] - 1s 136ms/step - loss: 1.4214e-04 - accuracy: 1.0000 - val_loss: 2.5705 - val_accuracy: 0.5102\n",
            "Epoch 180/200\n",
            "11/11 [==============================] - 1s 137ms/step - loss: 2.1194e-05 - accuracy: 1.0000 - val_loss: 2.0480 - val_accuracy: 0.5102\n",
            "Epoch 181/200\n",
            "11/11 [==============================] - 1s 138ms/step - loss: 1.1999e-05 - accuracy: 1.0000 - val_loss: 1.7344 - val_accuracy: 0.5306\n",
            "Epoch 182/200\n",
            "11/11 [==============================] - 1s 136ms/step - loss: 3.8903e-05 - accuracy: 1.0000 - val_loss: 1.4055 - val_accuracy: 0.5510\n",
            "Epoch 183/200\n",
            "11/11 [==============================] - 2s 138ms/step - loss: 1.9055e-05 - accuracy: 1.0000 - val_loss: 1.1568 - val_accuracy: 0.5782\n",
            "Epoch 184/200\n",
            "11/11 [==============================] - 1s 137ms/step - loss: 1.9990e-05 - accuracy: 1.0000 - val_loss: 1.1071 - val_accuracy: 0.5918\n",
            "Epoch 185/200\n",
            "11/11 [==============================] - 2s 137ms/step - loss: 1.9033e-05 - accuracy: 1.0000 - val_loss: 1.0401 - val_accuracy: 0.6259\n",
            "Epoch 186/200\n",
            "11/11 [==============================] - 1s 133ms/step - loss: 5.9936e-06 - accuracy: 1.0000 - val_loss: 0.9173 - val_accuracy: 0.6599\n",
            "Epoch 187/200\n",
            "11/11 [==============================] - 2s 139ms/step - loss: 4.0546e-05 - accuracy: 1.0000 - val_loss: 0.7646 - val_accuracy: 0.7007\n",
            "Epoch 188/200\n",
            "11/11 [==============================] - 1s 136ms/step - loss: 5.4422e-06 - accuracy: 1.0000 - val_loss: 0.6731 - val_accuracy: 0.7619\n",
            "Epoch 189/200\n",
            "11/11 [==============================] - 2s 138ms/step - loss: 1.5828e-05 - accuracy: 1.0000 - val_loss: 0.5090 - val_accuracy: 0.7959\n",
            "Epoch 190/200\n",
            "11/11 [==============================] - 1s 138ms/step - loss: 1.6385e-05 - accuracy: 1.0000 - val_loss: 0.3854 - val_accuracy: 0.8503\n",
            "Epoch 191/200\n",
            "11/11 [==============================] - 2s 141ms/step - loss: 6.2138e-05 - accuracy: 1.0000 - val_loss: 0.3273 - val_accuracy: 0.8912\n",
            "Epoch 192/200\n",
            "11/11 [==============================] - 1s 134ms/step - loss: 1.4287e-05 - accuracy: 1.0000 - val_loss: 0.2775 - val_accuracy: 0.9116\n",
            "Epoch 193/200\n",
            "11/11 [==============================] - 1s 137ms/step - loss: 4.7324e-05 - accuracy: 1.0000 - val_loss: 0.2212 - val_accuracy: 0.9252\n",
            "Epoch 194/200\n",
            "11/11 [==============================] - 1s 137ms/step - loss: 2.4054e-05 - accuracy: 1.0000 - val_loss: 0.1869 - val_accuracy: 0.9524\n",
            "Epoch 195/200\n",
            "11/11 [==============================] - 2s 140ms/step - loss: 1.0236e-05 - accuracy: 1.0000 - val_loss: 0.1697 - val_accuracy: 0.9660\n",
            "Epoch 196/200\n",
            "11/11 [==============================] - 2s 139ms/step - loss: 3.1384e-05 - accuracy: 1.0000 - val_loss: 0.1643 - val_accuracy: 0.9728\n",
            "Epoch 197/200\n",
            "11/11 [==============================] - 2s 142ms/step - loss: 4.2044e-05 - accuracy: 1.0000 - val_loss: 0.1668 - val_accuracy: 0.9728\n",
            "Epoch 198/200\n",
            "11/11 [==============================] - 2s 137ms/step - loss: 5.8800e-06 - accuracy: 1.0000 - val_loss: 0.1811 - val_accuracy: 0.9660\n",
            "Epoch 199/200\n",
            "11/11 [==============================] - 2s 138ms/step - loss: 1.9188e-05 - accuracy: 1.0000 - val_loss: 0.1910 - val_accuracy: 0.9660\n",
            "Epoch 200/200\n",
            "11/11 [==============================] - 1s 136ms/step - loss: 1.4802e-05 - accuracy: 1.0000 - val_loss: 0.2060 - val_accuracy: 0.9728\n"
          ]
        }
      ]
    },
    {
      "cell_type": "code",
      "metadata": {
        "id": "cSTlOSUBWMpj"
      },
      "source": [
        "Y_test = yback(Y_test)"
      ],
      "execution_count": 18,
      "outputs": []
    },
    {
      "cell_type": "code",
      "metadata": {
        "id": "s2Q1QDQTGqqV"
      },
      "source": [
        "pred_test= model.predict(X_test)\n",
        "Rows, Cols = pred_test.shape\n",
        "Prediction =[]\n",
        "for i in range(Rows):\n",
        "  if(pred_test[0,0] > pred_test[0,1]):\n",
        "    Prediction.append(0)\n",
        "  else:\n",
        "    Prediction.append(1)"
      ],
      "execution_count": 19,
      "outputs": []
    },
    {
      "cell_type": "code",
      "metadata": {
        "id": "xaBx_Qdz5PIZ",
        "colab": {
          "base_uri": "https://localhost:8080/"
        },
        "outputId": "9181f073-05e7-4d44-95d8-ace7eb8f1ae7"
      },
      "source": [
        "# pred_test= model.predict_classes(X_test)\n",
        "pred_test = np.argmax(model.predict(X_test), axis=-1)\n",
        "\n",
        "data = {'y_true': Y_test,'y_predict': pred_test}  # este dado esta no formato de dicionario\n",
        "\n",
        "df = pd.DataFrame(data, columns=['y_true','y_predict'])\n",
        "\n",
        "\n",
        "confusion_matrix = pd.crosstab(df['y_true'], df['y_predict'], rownames=['Actual'], colnames=['Predict'])\n",
        "print(confusion_matrix)\n",
        "\n",
        "y_true = df['y_true']\n",
        "y_pred = df['y_predict']\n",
        "\n",
        "  \n",
        "METRICS=sklearn.metrics.classification_report(y_true, y_pred)"
      ],
      "execution_count": 20,
      "outputs": [
        {
          "output_type": "stream",
          "name": "stdout",
          "text": [
            "Predict   0   1\n",
            "Actual         \n",
            "0        71   1\n",
            "1         3  72\n"
          ]
        }
      ]
    },
    {
      "cell_type": "code",
      "metadata": {
        "id": "oXognw8S5VLf",
        "colab": {
          "base_uri": "https://localhost:8080/"
        },
        "outputId": "c78951ec-00dc-4730-b79d-9525c863e7d8"
      },
      "source": [
        "print(METRICS)"
      ],
      "execution_count": 21,
      "outputs": [
        {
          "output_type": "stream",
          "name": "stdout",
          "text": [
            "              precision    recall  f1-score   support\n",
            "\n",
            "           0       0.96      0.99      0.97        72\n",
            "           1       0.99      0.96      0.97        75\n",
            "\n",
            "    accuracy                           0.97       147\n",
            "   macro avg       0.97      0.97      0.97       147\n",
            "weighted avg       0.97      0.97      0.97       147\n",
            "\n"
          ]
        }
      ]
    },
    {
      "cell_type": "code",
      "metadata": {
        "id": "_iFNNrlWV9tH"
      },
      "source": [
        "#pred_test"
      ],
      "execution_count": 22,
      "outputs": []
    },
    {
      "cell_type": "code",
      "metadata": {
        "id": "Y2_t9FpLG42n",
        "colab": {
          "base_uri": "https://localhost:8080/"
        },
        "outputId": "a8416d6b-b398-4ba3-fe13-1ea48d6d3673"
      },
      "source": [
        "cont = 0; num =25\n",
        "img_graos = []\n",
        "Width_new = []\n",
        "img=ww[9] \n",
        "while( cont < num):\n",
        "  df=Segmenta(img)\n",
        "  df_ann =df.copy()\n",
        "  Width = df['Width']\n",
        "  del df_ann['Width']\n",
        "  result = np.array(df_ann)\n",
        "  result = result.reshape(-1, Img_Size, Img_Size, 1) / 255.0\n",
        "  prediction_02 = model.predict(result)\n",
        "  Rows, Cols = prediction_02.shape\n",
        "  Prediction =[]\n",
        "  for i in range(Rows):\n",
        "    if(prediction_02[0,0] > prediction_02[0,1]):\n",
        "      Prediction.append(0)\n",
        "    else:\n",
        "      Prediction.append(1)\n",
        "  loc_grao =[];k=0\n",
        "  for i in Prediction:\n",
        "    if( i == 0):\n",
        "      img_graos.append(df.iloc[k,:])\n",
        "      Width_new.append(Width.iloc[k])\n",
        "      cont = cont + 1\n",
        "    k = k +1\n",
        "img_graos = pd.DataFrame(img_graos)\n",
        "print(img_graos)"
      ],
      "execution_count": 23,
      "outputs": [
        {
          "output_type": "stream",
          "name": "stdout",
          "text": [
            "    Width           0           1  ...         781         782         783\n",
            "0   179.0   52.163235   15.510565  ...   44.692955   41.735775   42.817635\n",
            "1   120.0  145.080002  151.841110  ...   77.135559   71.853333   58.480003\n",
            "2   100.0   99.177605  103.755203  ...   99.481606  101.734398  103.833603\n",
            "3   169.0   72.398087   71.803856  ...    6.015511    6.551766    6.219424\n",
            "4   161.0    0.340265    1.500945  ...    0.714556    1.017013    0.778828\n",
            "5   178.0    1.512941    0.255523  ...   59.439720   70.301987   75.372307\n",
            "6   177.0  100.857697   71.014297  ...   94.110016   95.251259   95.548172\n",
            "7   117.0   70.173859   69.134926  ...   95.142456  101.564468  105.394989\n",
            "8   164.0   56.715645   58.622250  ...   38.963116   38.464607   38.874481\n",
            "9   168.0   45.111111   44.305557  ...   56.555557   53.694447   56.527779\n",
            "10  139.0    2.031934    0.962321  ...   41.298584   39.758446   33.058071\n",
            "11  196.0    0.897959    0.877551  ...   75.204079   85.204079   52.979591\n",
            "12  169.0   51.406811   59.747620  ...   39.728474   39.957775   40.010921\n",
            "13  124.0   28.320496   27.940685  ...   93.905304   95.934433   97.467216\n",
            "14  113.0   43.438717   43.297436  ...   52.291409   53.265015   57.804604\n",
            "15  143.0   89.891396   55.820770  ...   66.291214   68.553177   70.763161\n",
            "16  101.0   63.122540   71.877960  ...   93.296631   94.613968   96.115189\n",
            "17  134.0   63.306969   55.634438  ...   59.183117   56.810204   53.065495\n",
            "18  197.0   89.836151   88.851433  ...   20.268341    3.892551    0.697003\n",
            "19  143.0   81.810066   85.367012  ...   78.943611   75.550446   77.937943\n",
            "20  186.0   53.027401   58.619267  ...    6.075269    6.258411    5.289513\n",
            "21  137.0   54.751347   63.418823  ...   73.264641   74.770309   80.848419\n",
            "22  197.0   62.506710   55.359406  ...    5.466696    5.346209    5.261074\n",
            "23  121.0  109.045013  109.415199  ...   88.623108   87.342117   85.917763\n",
            "24  151.0   42.212448   43.708874  ...   24.355686   25.519012   25.315599\n",
            "25  188.0   64.315529   39.095062  ...   73.710724   77.473518   78.112717\n",
            "26  147.0  122.247169  121.979599  ...  106.859406  105.197289   98.290253\n",
            "27  156.0   19.656147   22.374100  ...   21.111771   37.896118   53.531891\n",
            "28  156.0   89.479950   92.688370  ...   76.892181   83.086128   85.416176\n",
            "29  150.0   49.548439   49.031464  ...    7.456178    6.968355    7.097777\n",
            "30  187.0   57.934341   58.437016  ...   62.499699   75.944977   88.696159\n",
            "31  137.0  103.498749  101.869263  ...  112.342804   98.861267   90.466568\n",
            "32  177.0  116.804482  128.521805  ...   52.698292   54.167542   53.219154\n",
            "33  136.0   78.986160   81.041527  ...   44.977509   44.902248   39.519032\n",
            "34  115.0   73.605515   72.978218  ...   76.783585   73.923172   75.269562\n",
            "35  119.0   71.910027   74.477509  ...    0.000000    0.000000    0.000000\n",
            "36  121.0   74.964958   77.410156  ...   79.762863   78.490883   75.691483\n",
            "37  189.0   42.700958   39.875175  ...    5.318244    5.305898    5.083676\n",
            "38  179.0   90.182953   88.316597  ...  124.261040  123.792267  140.358109\n",
            "39  135.0   37.704853   41.428310  ...   13.163786    7.918025    7.099150\n",
            "40  103.0   35.452633   34.099632  ...   70.677063   73.827789   74.831078\n",
            "41  121.0   53.699749   55.920773  ...   72.092270   66.441025   60.250324\n",
            "42  200.0   64.219994   64.953995  ...   77.930008   72.950798   40.374001\n",
            "43  141.0  102.761986  103.449478  ...   72.786133   76.853325   79.902573\n",
            "44  158.0   70.594780   75.284729  ...   22.844576   16.745234    4.622496\n",
            "45  136.0  100.503464   96.179062  ...    8.296713    8.641004    7.788928\n",
            "46  198.0   66.185486   67.195587  ...    0.004285    0.000000    0.000000\n",
            "47  171.0   44.559868   47.231659  ...  103.453575  107.120132  109.579971\n",
            "48  172.0   85.604118   72.763115  ...    0.000000    0.000000    0.000000\n",
            "49  130.0   81.332069   85.607101  ...   98.720001   90.446869   46.781063\n",
            "\n",
            "[50 rows x 785 columns]\n"
          ]
        }
      ]
    },
    {
      "cell_type": "code",
      "metadata": {
        "id": "6LkA4vHp-f6_"
      },
      "source": [
        "Width=np.array(Width_new)"
      ],
      "execution_count": 24,
      "outputs": []
    },
    {
      "cell_type": "code",
      "metadata": {
        "colab": {
          "base_uri": "https://localhost:8080/"
        },
        "id": "MjRbWgmX_LFH",
        "outputId": "6550f2ac-8073-4d9a-f524-e3e4927d7dc1"
      },
      "source": [
        "!git clone https://github.com/ucfilho/marquesgabi_paper_fev_2021\n",
        "%cd marquesgabi_paper_fev_2021\n",
        "\n",
        "from Get_PSDArea_New import PSDArea\n",
        "from histogram_fev_2021 import PSD\n",
        "from GetBetterSegm import GetBetter"
      ],
      "execution_count": 25,
      "outputs": [
        {
          "output_type": "stream",
          "name": "stdout",
          "text": [
            "Cloning into 'marquesgabi_paper_fev_2021'...\n",
            "remote: Enumerating objects: 692, done.\u001b[K\n",
            "remote: Counting objects: 100% (453/453), done.\u001b[K\n",
            "remote: Compressing objects: 100% (451/451), done.\u001b[K\n",
            "remote: Total 692 (delta 285), reused 0 (delta 0), pack-reused 239\u001b[K\n",
            "Receiving objects: 100% (692/692), 5.65 MiB | 11.56 MiB/s, done.\n",
            "Resolving deltas: 100% (422/422), done.\n",
            "/content/marquesgabi_fev_2020/Doutorado/MarquesGabi_Routines/MarquesGabi_Routines/marquesgabi_paper_fev_2021\n"
          ]
        }
      ]
    },
    {
      "cell_type": "code",
      "metadata": {
        "colab": {
          "base_uri": "https://localhost:8080/"
        },
        "id": "WAG_I6FwCvFr",
        "outputId": "3cb338db-23d3-492c-93f6-04674ddecae6"
      },
      "source": [
        "#!git clone https://github.com/ucfilho/marquesgabi_out_2020\n",
        "!git clone https://github.com/marquesgabi/Doutorado\n",
        "\n",
        "%cd Doutorado\n",
        "\n",
        "PSD_imageJ = 'Amostra8.csv' \n",
        "PSD_new = pd.read_csv(PSD_imageJ,sep=';')\n",
        "#encoding='utf8'\n",
        "print(PSD_new.head(3))"
      ],
      "execution_count": 26,
      "outputs": [
        {
          "output_type": "stream",
          "name": "stdout",
          "text": [
            "Cloning into 'Doutorado'...\n",
            "remote: Enumerating objects: 461, done.\u001b[K\n",
            "remote: Counting objects: 100% (211/211), done.\u001b[K\n",
            "remote: Compressing objects: 100% (210/210), done.\u001b[K\n",
            "remote: Total 461 (delta 100), reused 0 (delta 0), pack-reused 250\u001b[K\n",
            "Receiving objects: 100% (461/461), 166.07 MiB | 27.74 MiB/s, done.\n",
            "Resolving deltas: 100% (223/223), done.\n",
            "/content/marquesgabi_fev_2020/Doutorado/MarquesGabi_Routines/MarquesGabi_Routines/marquesgabi_paper_fev_2021/Doutorado\n",
            "   Unnamed: 0   Area\n",
            "0           1  0.807\n",
            "1           2  1.407\n",
            "2           3  1.177\n"
          ]
        }
      ]
    },
    {
      "cell_type": "code",
      "metadata": {
        "colab": {
          "base_uri": "https://localhost:8080/"
        },
        "id": "7tEPjIBnv_xM",
        "outputId": "6549715c-3639-42f8-d147-763307b4d5df"
      },
      "source": [
        "PSD_new.shape"
      ],
      "execution_count": 27,
      "outputs": [
        {
          "output_type": "execute_result",
          "data": {
            "text/plain": [
              "(99, 2)"
            ]
          },
          "metadata": {},
          "execution_count": 27
        }
      ]
    },
    {
      "cell_type": "code",
      "metadata": {
        "id": "t_1WIM8w7poO"
      },
      "source": [
        "Area_All, Diameter_All=PSDArea(img_graos) "
      ],
      "execution_count": 28,
      "outputs": []
    },
    {
      "cell_type": "code",
      "metadata": {
        "id": "nfagXc-Mv3oa"
      },
      "source": [
        ""
      ],
      "execution_count": 28,
      "outputs": []
    },
    {
      "cell_type": "code",
      "metadata": {
        "colab": {
          "base_uri": "https://localhost:8080/",
          "height": 253
        },
        "id": "PekBHQOT_6CP",
        "outputId": "bc38d2f6-576f-4e07-e677-1498af74b87b"
      },
      "source": [
        "img_graos.head()"
      ],
      "execution_count": 29,
      "outputs": [
        {
          "output_type": "execute_result",
          "data": {
            "text/html": [
              "<div>\n",
              "<style scoped>\n",
              "    .dataframe tbody tr th:only-of-type {\n",
              "        vertical-align: middle;\n",
              "    }\n",
              "\n",
              "    .dataframe tbody tr th {\n",
              "        vertical-align: top;\n",
              "    }\n",
              "\n",
              "    .dataframe thead th {\n",
              "        text-align: right;\n",
              "    }\n",
              "</style>\n",
              "<table border=\"1\" class=\"dataframe\">\n",
              "  <thead>\n",
              "    <tr style=\"text-align: right;\">\n",
              "      <th></th>\n",
              "      <th>Width</th>\n",
              "      <th>0</th>\n",
              "      <th>1</th>\n",
              "      <th>2</th>\n",
              "      <th>3</th>\n",
              "      <th>4</th>\n",
              "      <th>5</th>\n",
              "      <th>6</th>\n",
              "      <th>7</th>\n",
              "      <th>8</th>\n",
              "      <th>9</th>\n",
              "      <th>10</th>\n",
              "      <th>11</th>\n",
              "      <th>12</th>\n",
              "      <th>13</th>\n",
              "      <th>14</th>\n",
              "      <th>15</th>\n",
              "      <th>16</th>\n",
              "      <th>17</th>\n",
              "      <th>18</th>\n",
              "      <th>19</th>\n",
              "      <th>20</th>\n",
              "      <th>21</th>\n",
              "      <th>22</th>\n",
              "      <th>23</th>\n",
              "      <th>24</th>\n",
              "      <th>25</th>\n",
              "      <th>26</th>\n",
              "      <th>27</th>\n",
              "      <th>28</th>\n",
              "      <th>29</th>\n",
              "      <th>30</th>\n",
              "      <th>31</th>\n",
              "      <th>32</th>\n",
              "      <th>33</th>\n",
              "      <th>34</th>\n",
              "      <th>35</th>\n",
              "      <th>36</th>\n",
              "      <th>37</th>\n",
              "      <th>38</th>\n",
              "      <th>...</th>\n",
              "      <th>744</th>\n",
              "      <th>745</th>\n",
              "      <th>746</th>\n",
              "      <th>747</th>\n",
              "      <th>748</th>\n",
              "      <th>749</th>\n",
              "      <th>750</th>\n",
              "      <th>751</th>\n",
              "      <th>752</th>\n",
              "      <th>753</th>\n",
              "      <th>754</th>\n",
              "      <th>755</th>\n",
              "      <th>756</th>\n",
              "      <th>757</th>\n",
              "      <th>758</th>\n",
              "      <th>759</th>\n",
              "      <th>760</th>\n",
              "      <th>761</th>\n",
              "      <th>762</th>\n",
              "      <th>763</th>\n",
              "      <th>764</th>\n",
              "      <th>765</th>\n",
              "      <th>766</th>\n",
              "      <th>767</th>\n",
              "      <th>768</th>\n",
              "      <th>769</th>\n",
              "      <th>770</th>\n",
              "      <th>771</th>\n",
              "      <th>772</th>\n",
              "      <th>773</th>\n",
              "      <th>774</th>\n",
              "      <th>775</th>\n",
              "      <th>776</th>\n",
              "      <th>777</th>\n",
              "      <th>778</th>\n",
              "      <th>779</th>\n",
              "      <th>780</th>\n",
              "      <th>781</th>\n",
              "      <th>782</th>\n",
              "      <th>783</th>\n",
              "    </tr>\n",
              "  </thead>\n",
              "  <tbody>\n",
              "    <tr>\n",
              "      <th>0</th>\n",
              "      <td>179.0</td>\n",
              "      <td>52.163235</td>\n",
              "      <td>15.510565</td>\n",
              "      <td>10.676321</td>\n",
              "      <td>5.906558</td>\n",
              "      <td>6.738086</td>\n",
              "      <td>11.988235</td>\n",
              "      <td>19.629631</td>\n",
              "      <td>28.087048</td>\n",
              "      <td>41.272713</td>\n",
              "      <td>57.033337</td>\n",
              "      <td>72.982368</td>\n",
              "      <td>80.360039</td>\n",
              "      <td>79.341667</td>\n",
              "      <td>78.220222</td>\n",
              "      <td>77.635033</td>\n",
              "      <td>79.475800</td>\n",
              "      <td>82.287819</td>\n",
              "      <td>83.745201</td>\n",
              "      <td>80.789993</td>\n",
              "      <td>67.129112</td>\n",
              "      <td>36.530228</td>\n",
              "      <td>31.412846</td>\n",
              "      <td>29.988110</td>\n",
              "      <td>24.978214</td>\n",
              "      <td>45.844608</td>\n",
              "      <td>70.978531</td>\n",
              "      <td>78.238564</td>\n",
              "      <td>77.960991</td>\n",
              "      <td>51.937332</td>\n",
              "      <td>27.297026</td>\n",
              "      <td>17.547268</td>\n",
              "      <td>10.853094</td>\n",
              "      <td>11.008739</td>\n",
              "      <td>16.663992</td>\n",
              "      <td>21.303923</td>\n",
              "      <td>29.629753</td>\n",
              "      <td>42.883400</td>\n",
              "      <td>61.376144</td>\n",
              "      <td>73.711807</td>\n",
              "      <td>...</td>\n",
              "      <td>34.577946</td>\n",
              "      <td>57.038670</td>\n",
              "      <td>87.949593</td>\n",
              "      <td>100.308571</td>\n",
              "      <td>104.718300</td>\n",
              "      <td>104.048225</td>\n",
              "      <td>99.902153</td>\n",
              "      <td>85.732750</td>\n",
              "      <td>52.827534</td>\n",
              "      <td>44.827225</td>\n",
              "      <td>44.514839</td>\n",
              "      <td>44.572643</td>\n",
              "      <td>93.085945</td>\n",
              "      <td>97.171219</td>\n",
              "      <td>109.867363</td>\n",
              "      <td>110.902214</td>\n",
              "      <td>99.254204</td>\n",
              "      <td>91.245590</td>\n",
              "      <td>89.091698</td>\n",
              "      <td>89.217232</td>\n",
              "      <td>89.778625</td>\n",
              "      <td>94.385727</td>\n",
              "      <td>92.494492</td>\n",
              "      <td>80.607910</td>\n",
              "      <td>75.447083</td>\n",
              "      <td>69.041229</td>\n",
              "      <td>47.324490</td>\n",
              "      <td>37.971539</td>\n",
              "      <td>55.878906</td>\n",
              "      <td>92.811714</td>\n",
              "      <td>101.627579</td>\n",
              "      <td>103.060684</td>\n",
              "      <td>106.675171</td>\n",
              "      <td>106.492966</td>\n",
              "      <td>103.833122</td>\n",
              "      <td>100.172501</td>\n",
              "      <td>82.082863</td>\n",
              "      <td>44.692955</td>\n",
              "      <td>41.735775</td>\n",
              "      <td>42.817635</td>\n",
              "    </tr>\n",
              "    <tr>\n",
              "      <th>1</th>\n",
              "      <td>120.0</td>\n",
              "      <td>145.080002</td>\n",
              "      <td>151.841110</td>\n",
              "      <td>160.426682</td>\n",
              "      <td>169.080017</td>\n",
              "      <td>173.614441</td>\n",
              "      <td>177.757782</td>\n",
              "      <td>182.800003</td>\n",
              "      <td>183.187775</td>\n",
              "      <td>173.813339</td>\n",
              "      <td>141.490005</td>\n",
              "      <td>48.902225</td>\n",
              "      <td>49.250004</td>\n",
              "      <td>55.801109</td>\n",
              "      <td>55.208889</td>\n",
              "      <td>56.335556</td>\n",
              "      <td>56.977776</td>\n",
              "      <td>57.815563</td>\n",
              "      <td>59.804443</td>\n",
              "      <td>60.687782</td>\n",
              "      <td>62.827778</td>\n",
              "      <td>65.901108</td>\n",
              "      <td>69.246666</td>\n",
              "      <td>71.698891</td>\n",
              "      <td>75.526672</td>\n",
              "      <td>92.028893</td>\n",
              "      <td>98.070000</td>\n",
              "      <td>90.308891</td>\n",
              "      <td>83.202225</td>\n",
              "      <td>143.661118</td>\n",
              "      <td>151.878906</td>\n",
              "      <td>163.885544</td>\n",
              "      <td>170.043335</td>\n",
              "      <td>176.085556</td>\n",
              "      <td>179.663330</td>\n",
              "      <td>185.431122</td>\n",
              "      <td>192.291107</td>\n",
              "      <td>196.866669</td>\n",
              "      <td>171.517776</td>\n",
              "      <td>51.424446</td>\n",
              "      <td>...</td>\n",
              "      <td>89.820007</td>\n",
              "      <td>89.101105</td>\n",
              "      <td>88.244438</td>\n",
              "      <td>92.635559</td>\n",
              "      <td>99.056671</td>\n",
              "      <td>97.003334</td>\n",
              "      <td>86.458893</td>\n",
              "      <td>78.354446</td>\n",
              "      <td>73.510002</td>\n",
              "      <td>69.409996</td>\n",
              "      <td>58.793335</td>\n",
              "      <td>41.255558</td>\n",
              "      <td>76.036667</td>\n",
              "      <td>78.496674</td>\n",
              "      <td>83.902214</td>\n",
              "      <td>87.273331</td>\n",
              "      <td>88.527786</td>\n",
              "      <td>90.442230</td>\n",
              "      <td>93.346672</td>\n",
              "      <td>96.228889</td>\n",
              "      <td>99.883331</td>\n",
              "      <td>107.055550</td>\n",
              "      <td>116.520004</td>\n",
              "      <td>111.793343</td>\n",
              "      <td>104.921120</td>\n",
              "      <td>97.952225</td>\n",
              "      <td>91.976662</td>\n",
              "      <td>88.557777</td>\n",
              "      <td>88.244453</td>\n",
              "      <td>88.953339</td>\n",
              "      <td>89.645561</td>\n",
              "      <td>90.664444</td>\n",
              "      <td>91.895561</td>\n",
              "      <td>91.035553</td>\n",
              "      <td>85.163330</td>\n",
              "      <td>78.597778</td>\n",
              "      <td>77.660004</td>\n",
              "      <td>77.135559</td>\n",
              "      <td>71.853333</td>\n",
              "      <td>58.480003</td>\n",
              "    </tr>\n",
              "    <tr>\n",
              "      <th>2</th>\n",
              "      <td>100.0</td>\n",
              "      <td>99.177605</td>\n",
              "      <td>103.755203</td>\n",
              "      <td>106.849602</td>\n",
              "      <td>102.721603</td>\n",
              "      <td>101.267197</td>\n",
              "      <td>96.436806</td>\n",
              "      <td>96.568001</td>\n",
              "      <td>94.543999</td>\n",
              "      <td>90.478401</td>\n",
              "      <td>84.006393</td>\n",
              "      <td>78.894394</td>\n",
              "      <td>74.096001</td>\n",
              "      <td>72.736000</td>\n",
              "      <td>74.137596</td>\n",
              "      <td>75.651199</td>\n",
              "      <td>76.769600</td>\n",
              "      <td>76.496002</td>\n",
              "      <td>75.979202</td>\n",
              "      <td>76.503998</td>\n",
              "      <td>76.884796</td>\n",
              "      <td>76.403198</td>\n",
              "      <td>74.588806</td>\n",
              "      <td>71.982399</td>\n",
              "      <td>70.086403</td>\n",
              "      <td>67.119995</td>\n",
              "      <td>70.577599</td>\n",
              "      <td>74.321602</td>\n",
              "      <td>76.476791</td>\n",
              "      <td>89.204803</td>\n",
              "      <td>95.358398</td>\n",
              "      <td>96.646400</td>\n",
              "      <td>91.132805</td>\n",
              "      <td>87.929596</td>\n",
              "      <td>85.793594</td>\n",
              "      <td>83.183998</td>\n",
              "      <td>79.027206</td>\n",
              "      <td>72.755203</td>\n",
              "      <td>69.900803</td>\n",
              "      <td>71.015999</td>\n",
              "      <td>...</td>\n",
              "      <td>97.832001</td>\n",
              "      <td>98.657600</td>\n",
              "      <td>98.332802</td>\n",
              "      <td>97.553604</td>\n",
              "      <td>98.073601</td>\n",
              "      <td>99.070396</td>\n",
              "      <td>99.694405</td>\n",
              "      <td>100.248009</td>\n",
              "      <td>102.363205</td>\n",
              "      <td>104.264000</td>\n",
              "      <td>105.723206</td>\n",
              "      <td>108.830399</td>\n",
              "      <td>90.931206</td>\n",
              "      <td>87.508804</td>\n",
              "      <td>85.231995</td>\n",
              "      <td>86.335999</td>\n",
              "      <td>89.686401</td>\n",
              "      <td>93.363197</td>\n",
              "      <td>93.481606</td>\n",
              "      <td>94.363197</td>\n",
              "      <td>94.062401</td>\n",
              "      <td>95.662399</td>\n",
              "      <td>94.694397</td>\n",
              "      <td>94.169601</td>\n",
              "      <td>95.782402</td>\n",
              "      <td>97.923203</td>\n",
              "      <td>100.403198</td>\n",
              "      <td>102.793602</td>\n",
              "      <td>104.694397</td>\n",
              "      <td>104.793594</td>\n",
              "      <td>103.755203</td>\n",
              "      <td>102.035202</td>\n",
              "      <td>99.063995</td>\n",
              "      <td>97.924797</td>\n",
              "      <td>97.659195</td>\n",
              "      <td>97.484802</td>\n",
              "      <td>97.513596</td>\n",
              "      <td>99.481606</td>\n",
              "      <td>101.734398</td>\n",
              "      <td>103.833603</td>\n",
              "    </tr>\n",
              "    <tr>\n",
              "      <th>3</th>\n",
              "      <td>169.0</td>\n",
              "      <td>72.398087</td>\n",
              "      <td>71.803856</td>\n",
              "      <td>72.585587</td>\n",
              "      <td>74.430405</td>\n",
              "      <td>77.389648</td>\n",
              "      <td>78.481003</td>\n",
              "      <td>79.622581</td>\n",
              "      <td>80.576477</td>\n",
              "      <td>78.700775</td>\n",
              "      <td>78.968338</td>\n",
              "      <td>76.404144</td>\n",
              "      <td>56.346798</td>\n",
              "      <td>32.967297</td>\n",
              "      <td>40.549732</td>\n",
              "      <td>46.901157</td>\n",
              "      <td>52.031933</td>\n",
              "      <td>53.112736</td>\n",
              "      <td>64.205269</td>\n",
              "      <td>76.828438</td>\n",
              "      <td>85.259010</td>\n",
              "      <td>89.051437</td>\n",
              "      <td>93.182732</td>\n",
              "      <td>98.887634</td>\n",
              "      <td>98.524551</td>\n",
              "      <td>95.502289</td>\n",
              "      <td>92.721359</td>\n",
              "      <td>89.787224</td>\n",
              "      <td>88.731438</td>\n",
              "      <td>76.360069</td>\n",
              "      <td>75.714844</td>\n",
              "      <td>74.067818</td>\n",
              "      <td>75.649063</td>\n",
              "      <td>77.704422</td>\n",
              "      <td>80.678192</td>\n",
              "      <td>80.960289</td>\n",
              "      <td>80.053871</td>\n",
              "      <td>77.496483</td>\n",
              "      <td>78.553650</td>\n",
              "      <td>80.020683</td>\n",
              "      <td>...</td>\n",
              "      <td>0.167221</td>\n",
              "      <td>0.133679</td>\n",
              "      <td>0.564651</td>\n",
              "      <td>0.446728</td>\n",
              "      <td>0.271804</td>\n",
              "      <td>0.283078</td>\n",
              "      <td>0.360947</td>\n",
              "      <td>0.445047</td>\n",
              "      <td>0.432303</td>\n",
              "      <td>0.491124</td>\n",
              "      <td>0.275446</td>\n",
              "      <td>0.325444</td>\n",
              "      <td>8.263821</td>\n",
              "      <td>16.101360</td>\n",
              "      <td>15.516508</td>\n",
              "      <td>14.327613</td>\n",
              "      <td>11.272959</td>\n",
              "      <td>9.095936</td>\n",
              "      <td>7.246875</td>\n",
              "      <td>7.178250</td>\n",
              "      <td>6.582858</td>\n",
              "      <td>6.502748</td>\n",
              "      <td>7.538181</td>\n",
              "      <td>8.163719</td>\n",
              "      <td>6.572389</td>\n",
              "      <td>6.470922</td>\n",
              "      <td>6.646861</td>\n",
              "      <td>5.844928</td>\n",
              "      <td>6.009033</td>\n",
              "      <td>6.026890</td>\n",
              "      <td>6.185112</td>\n",
              "      <td>6.593221</td>\n",
              "      <td>6.618151</td>\n",
              "      <td>6.395119</td>\n",
              "      <td>5.880991</td>\n",
              "      <td>6.100801</td>\n",
              "      <td>6.064528</td>\n",
              "      <td>6.015511</td>\n",
              "      <td>6.551766</td>\n",
              "      <td>6.219424</td>\n",
              "    </tr>\n",
              "    <tr>\n",
              "      <th>4</th>\n",
              "      <td>161.0</td>\n",
              "      <td>0.340265</td>\n",
              "      <td>1.500945</td>\n",
              "      <td>6.181475</td>\n",
              "      <td>12.816637</td>\n",
              "      <td>19.402649</td>\n",
              "      <td>27.387526</td>\n",
              "      <td>37.493385</td>\n",
              "      <td>46.476372</td>\n",
              "      <td>46.463139</td>\n",
              "      <td>43.710777</td>\n",
              "      <td>40.047256</td>\n",
              "      <td>37.771271</td>\n",
              "      <td>42.213612</td>\n",
              "      <td>48.417770</td>\n",
              "      <td>57.374294</td>\n",
              "      <td>63.495270</td>\n",
              "      <td>66.686203</td>\n",
              "      <td>72.565224</td>\n",
              "      <td>67.996223</td>\n",
              "      <td>65.969757</td>\n",
              "      <td>74.829865</td>\n",
              "      <td>85.926277</td>\n",
              "      <td>90.105865</td>\n",
              "      <td>93.319473</td>\n",
              "      <td>103.512299</td>\n",
              "      <td>103.436668</td>\n",
              "      <td>100.028351</td>\n",
              "      <td>99.986763</td>\n",
              "      <td>0.143667</td>\n",
              "      <td>1.637051</td>\n",
              "      <td>7.062383</td>\n",
              "      <td>18.907373</td>\n",
              "      <td>26.952742</td>\n",
              "      <td>36.449909</td>\n",
              "      <td>43.466919</td>\n",
              "      <td>48.858227</td>\n",
              "      <td>50.500946</td>\n",
              "      <td>49.223064</td>\n",
              "      <td>46.678638</td>\n",
              "      <td>...</td>\n",
              "      <td>0.211720</td>\n",
              "      <td>0.362949</td>\n",
              "      <td>0.720227</td>\n",
              "      <td>0.671078</td>\n",
              "      <td>0.041588</td>\n",
              "      <td>0.362949</td>\n",
              "      <td>0.347826</td>\n",
              "      <td>0.018904</td>\n",
              "      <td>0.302457</td>\n",
              "      <td>1.062382</td>\n",
              "      <td>1.069943</td>\n",
              "      <td>0.400756</td>\n",
              "      <td>0.000000</td>\n",
              "      <td>0.000000</td>\n",
              "      <td>0.000000</td>\n",
              "      <td>0.030246</td>\n",
              "      <td>0.022684</td>\n",
              "      <td>0.007561</td>\n",
              "      <td>0.294896</td>\n",
              "      <td>0.945180</td>\n",
              "      <td>1.631380</td>\n",
              "      <td>1.858223</td>\n",
              "      <td>0.487713</td>\n",
              "      <td>0.000000</td>\n",
              "      <td>0.000000</td>\n",
              "      <td>0.000000</td>\n",
              "      <td>0.330813</td>\n",
              "      <td>0.833649</td>\n",
              "      <td>0.030246</td>\n",
              "      <td>0.211720</td>\n",
              "      <td>0.867675</td>\n",
              "      <td>0.614367</td>\n",
              "      <td>0.000000</td>\n",
              "      <td>0.238185</td>\n",
              "      <td>0.896030</td>\n",
              "      <td>0.635161</td>\n",
              "      <td>0.627599</td>\n",
              "      <td>0.714556</td>\n",
              "      <td>1.017013</td>\n",
              "      <td>0.778828</td>\n",
              "    </tr>\n",
              "  </tbody>\n",
              "</table>\n",
              "<p>5 rows × 785 columns</p>\n",
              "</div>"
            ],
            "text/plain": [
              "   Width           0           1  ...        781         782         783\n",
              "0  179.0   52.163235   15.510565  ...  44.692955   41.735775   42.817635\n",
              "1  120.0  145.080002  151.841110  ...  77.135559   71.853333   58.480003\n",
              "2  100.0   99.177605  103.755203  ...  99.481606  101.734398  103.833603\n",
              "3  169.0   72.398087   71.803856  ...   6.015511    6.551766    6.219424\n",
              "4  161.0    0.340265    1.500945  ...   0.714556    1.017013    0.778828\n",
              "\n",
              "[5 rows x 785 columns]"
            ]
          },
          "metadata": {},
          "execution_count": 29
        }
      ]
    },
    {
      "cell_type": "code",
      "metadata": {
        "colab": {
          "base_uri": "https://localhost:8080/",
          "height": 204
        },
        "id": "VaZPe_AxNBK9",
        "outputId": "4d01479c-80fa-4349-99b1-d4bf433fdb02"
      },
      "source": [
        "PSD_new.head()"
      ],
      "execution_count": 30,
      "outputs": [
        {
          "output_type": "execute_result",
          "data": {
            "text/html": [
              "<div>\n",
              "<style scoped>\n",
              "    .dataframe tbody tr th:only-of-type {\n",
              "        vertical-align: middle;\n",
              "    }\n",
              "\n",
              "    .dataframe tbody tr th {\n",
              "        vertical-align: top;\n",
              "    }\n",
              "\n",
              "    .dataframe thead th {\n",
              "        text-align: right;\n",
              "    }\n",
              "</style>\n",
              "<table border=\"1\" class=\"dataframe\">\n",
              "  <thead>\n",
              "    <tr style=\"text-align: right;\">\n",
              "      <th></th>\n",
              "      <th>Unnamed: 0</th>\n",
              "      <th>Area</th>\n",
              "    </tr>\n",
              "  </thead>\n",
              "  <tbody>\n",
              "    <tr>\n",
              "      <th>0</th>\n",
              "      <td>1</td>\n",
              "      <td>0.807</td>\n",
              "    </tr>\n",
              "    <tr>\n",
              "      <th>1</th>\n",
              "      <td>2</td>\n",
              "      <td>1.407</td>\n",
              "    </tr>\n",
              "    <tr>\n",
              "      <th>2</th>\n",
              "      <td>3</td>\n",
              "      <td>1.177</td>\n",
              "    </tr>\n",
              "    <tr>\n",
              "      <th>3</th>\n",
              "      <td>4</td>\n",
              "      <td>1.289</td>\n",
              "    </tr>\n",
              "    <tr>\n",
              "      <th>4</th>\n",
              "      <td>5</td>\n",
              "      <td>1.743</td>\n",
              "    </tr>\n",
              "  </tbody>\n",
              "</table>\n",
              "</div>"
            ],
            "text/plain": [
              "   Unnamed: 0   Area\n",
              "0           1  0.807\n",
              "1           2  1.407\n",
              "2           3  1.177\n",
              "3           4  1.289\n",
              "4           5  1.743"
            ]
          },
          "metadata": {},
          "execution_count": 30
        }
      ]
    },
    {
      "cell_type": "code",
      "metadata": {
        "id": "dExnOsslHrab"
      },
      "source": [
        "#lost_value = float(PSD_new.columns[1])\n",
        "\n",
        "# Area = np.array(PSD_new.iloc[:,1])\n",
        "Area = PSD_new['Area'].values\n",
        "# Area = np.concatenate( (Area, [lost_value] ) )\n",
        "# Area = np.concatenate( (Area, [lost_value] ) )\n",
        "diam_teste = []\n",
        "for A in Area:\n",
        "  diam_teste.append((4*A/np.pi)**0.5) \n",
        "\n",
        "Diam1 = [ (4*A/np.pi)**0.5 for A in Area]"
      ],
      "execution_count": 31,
      "outputs": []
    },
    {
      "cell_type": "code",
      "metadata": {
        "id": "P8IJgjcFLssj",
        "colab": {
          "base_uri": "https://localhost:8080/",
          "height": 419
        },
        "outputId": "1165a9fc-ccd7-4492-d8ab-4d1c1b414923"
      },
      "source": [
        "PSD_new"
      ],
      "execution_count": 32,
      "outputs": [
        {
          "output_type": "execute_result",
          "data": {
            "text/html": [
              "<div>\n",
              "<style scoped>\n",
              "    .dataframe tbody tr th:only-of-type {\n",
              "        vertical-align: middle;\n",
              "    }\n",
              "\n",
              "    .dataframe tbody tr th {\n",
              "        vertical-align: top;\n",
              "    }\n",
              "\n",
              "    .dataframe thead th {\n",
              "        text-align: right;\n",
              "    }\n",
              "</style>\n",
              "<table border=\"1\" class=\"dataframe\">\n",
              "  <thead>\n",
              "    <tr style=\"text-align: right;\">\n",
              "      <th></th>\n",
              "      <th>Unnamed: 0</th>\n",
              "      <th>Area</th>\n",
              "    </tr>\n",
              "  </thead>\n",
              "  <tbody>\n",
              "    <tr>\n",
              "      <th>0</th>\n",
              "      <td>1</td>\n",
              "      <td>0.807</td>\n",
              "    </tr>\n",
              "    <tr>\n",
              "      <th>1</th>\n",
              "      <td>2</td>\n",
              "      <td>1.407</td>\n",
              "    </tr>\n",
              "    <tr>\n",
              "      <th>2</th>\n",
              "      <td>3</td>\n",
              "      <td>1.177</td>\n",
              "    </tr>\n",
              "    <tr>\n",
              "      <th>3</th>\n",
              "      <td>4</td>\n",
              "      <td>1.289</td>\n",
              "    </tr>\n",
              "    <tr>\n",
              "      <th>4</th>\n",
              "      <td>5</td>\n",
              "      <td>1.743</td>\n",
              "    </tr>\n",
              "    <tr>\n",
              "      <th>...</th>\n",
              "      <td>...</td>\n",
              "      <td>...</td>\n",
              "    </tr>\n",
              "    <tr>\n",
              "      <th>94</th>\n",
              "      <td>28</td>\n",
              "      <td>2.097</td>\n",
              "    </tr>\n",
              "    <tr>\n",
              "      <th>95</th>\n",
              "      <td>29</td>\n",
              "      <td>1.871</td>\n",
              "    </tr>\n",
              "    <tr>\n",
              "      <th>96</th>\n",
              "      <td>30</td>\n",
              "      <td>1.315</td>\n",
              "    </tr>\n",
              "    <tr>\n",
              "      <th>97</th>\n",
              "      <td>31</td>\n",
              "      <td>1.034</td>\n",
              "    </tr>\n",
              "    <tr>\n",
              "      <th>98</th>\n",
              "      <td>32</td>\n",
              "      <td>2.095</td>\n",
              "    </tr>\n",
              "  </tbody>\n",
              "</table>\n",
              "<p>99 rows × 2 columns</p>\n",
              "</div>"
            ],
            "text/plain": [
              "    Unnamed: 0   Area\n",
              "0            1  0.807\n",
              "1            2  1.407\n",
              "2            3  1.177\n",
              "3            4  1.289\n",
              "4            5  1.743\n",
              "..         ...    ...\n",
              "94          28  2.097\n",
              "95          29  1.871\n",
              "96          30  1.315\n",
              "97          31  1.034\n",
              "98          32  2.095\n",
              "\n",
              "[99 rows x 2 columns]"
            ]
          },
          "metadata": {},
          "execution_count": 32
        }
      ]
    },
    {
      "cell_type": "code",
      "metadata": {
        "id": "t_sp1BcwKM9q",
        "colab": {
          "base_uri": "https://localhost:8080/"
        },
        "outputId": "93a0b72b-fe65-44d4-94ad-1133ea1d14ee"
      },
      "source": [
        "PSD_new.iloc[:,1].values"
      ],
      "execution_count": 33,
      "outputs": [
        {
          "output_type": "execute_result",
          "data": {
            "text/plain": [
              "array([0.807, 1.407, 1.177, 1.289, 1.743, 1.425, 2.553, 0.968, 1.43 ,\n",
              "       0.722, 1.235, 1.058, 1.342, 1.207, 1.682, 1.474, 1.997, 1.187,\n",
              "       2.082, 2.877, 1.386, 1.176, 0.96 , 1.147, 1.02 , 1.249, 1.704,\n",
              "       1.602, 1.303, 1.707, 2.264, 1.233, 0.84 , 1.105, 1.343, 0.811,\n",
              "       2.03 , 1.844, 2.266, 1.472, 1.009, 1.851, 0.941, 2.252, 1.269,\n",
              "       1.082, 1.065, 1.995, 2.063, 0.969, 1.389, 1.721, 1.355, 1.178,\n",
              "       1.529, 1.371, 1.423, 2.756, 0.854, 0.811, 0.69 , 1.752, 0.978,\n",
              "       1.108, 1.149, 0.994, 1.594, 1.492, 1.322, 1.564, 1.29 , 1.057,\n",
              "       1.193, 1.413, 1.477, 2.21 , 1.27 , 1.865, 1.088, 2.316, 1.855,\n",
              "       0.882, 1.587, 1.075, 2.179, 1.749, 0.957, 1.24 , 1.586, 2.507,\n",
              "       1.864, 1.281, 2.137, 1.282, 2.097, 1.871, 1.315, 1.034, 2.095])"
            ]
          },
          "metadata": {},
          "execution_count": 33
        }
      ]
    },
    {
      "cell_type": "code",
      "metadata": {
        "colab": {
          "base_uri": "https://localhost:8080/"
        },
        "id": "9J705kDqsE8f",
        "outputId": "4fcedbe0-ab66-4499-8e0f-b5bc412804f1"
      },
      "source": [
        "X.shape"
      ],
      "execution_count": 34,
      "outputs": [
        {
          "output_type": "execute_result",
          "data": {
            "text/plain": [
              "(490, 784)"
            ]
          },
          "metadata": {},
          "execution_count": 34
        }
      ]
    },
    {
      "cell_type": "code",
      "metadata": {
        "colab": {
          "base_uri": "https://localhost:8080/",
          "height": 282
        },
        "id": "mK1GBUHWiIr4",
        "outputId": "e33455d5-0138-4ecf-d82f-92b43d9d6089"
      },
      "source": [
        "Freq = [13.6, 24.8, 20.4, 24.8, 9.6, 0.]\n",
        "Freq2 = [14.6, 24.6, 21.2, 20.6, 14., 0.2]\n",
        "Freq3 = [22.22489, 30.15078, 25.10463, 19.30926, 2.810434, 0.]\n",
        "barWidth = 0.25\n",
        "\n",
        "br1 = range(len(Freq))\n",
        "# Set position of bar on X axis\n",
        "br2 = [x + barWidth for x in br1]\n",
        "br3 = [x + barWidth for x in br2]\n",
        "labels = [0.8, 1.0, 1.2, 1.4, 1.6, 1.8]\n",
        "\n",
        "xx=[]\n",
        "for a in labels:\n",
        "  xx.append(str(a))\n",
        "plt.bar(br1, Freq , color=\"green\", align=\"center\", width=0.3, tick_label= xx) \n",
        "plt.bar(br2, Freq2 , color=\"red\", align=\"center\", width=0.3, tick_label= xx)\n",
        "plt.bar(br3, Freq3 , color=\"blue\", align=\"center\", width=0.3, tick_label= xx)"
      ],
      "execution_count": 35,
      "outputs": [
        {
          "output_type": "execute_result",
          "data": {
            "text/plain": [
              "<BarContainer object of 6 artists>"
            ]
          },
          "metadata": {},
          "execution_count": 35
        },
        {
          "output_type": "display_data",
          "data": {
            "image/png": "[encoded data removed]",
            "text/plain": [
              "<Figure size 432x288 with 1 Axes>"
            ]
          },
          "metadata": {
            "needs_background": "light"
          }
        }
      ]
    },
    {
      "cell_type": "code",
      "metadata": {
        "id": "Vfk_fNXGDK5_",
        "colab": {
          "base_uri": "https://localhost:8080/",
          "height": 282
        },
        "outputId": "c01f6797-ed11-40f0-fea0-da9f9b8712a4"
      },
      "source": [
        " wt1 = np.ones(len(Diam1)) / len(Diam1)*100\n",
        " wt2 = np.ones(len(Diameter_All)) / len(Diameter_All)*100\n",
        " X = pd.DataFrame([Diam1,Diameter_All])\n",
        " wts = pd.DataFrame([wt1,wt2])\n",
        "plt.hist(X,weights=wts)\n",
        "plt.legend(['Image J','CNN'])"
      ],
      "execution_count": 36,
      "outputs": [
        {
          "output_type": "execute_result",
          "data": {
            "text/plain": [
              "<matplotlib.legend.Legend at 0x7efda8e0f9d0>"
            ]
          },
          "metadata": {},
          "execution_count": 36
        },
        {
          "output_type": "display_data",
          "data": {
            "image/png": "[encoded data removed]",
            "text/plain": [
              "<Figure size 432x288 with 1 Axes>"
            ]
          },
          "metadata": {
            "needs_background": "light"
          }
        }
      ]
    },
    {
      "cell_type": "code",
      "metadata": {
        "id": "-nGDbBEeiUij",
        "colab": {
          "base_uri": "https://localhost:8080/",
          "height": 401
        },
        "outputId": "d48f0327-974c-4614-e8dd-c4da6dfba916"
      },
      "source": [
        "# plt.hist(x, bins=bins, density=True, histtype='step', cumulative=-1,label='Reversed emp.')\n",
        "plt.hist(X, density=True, histtype='step', cumulative=True,label='Reversed emp.')"
      ],
      "execution_count": 37,
      "outputs": [
        {
          "output_type": "execute_result",
          "data": {
            "text/plain": [
              "(array([[0.        , 0.05050505, 0.15151515, 0.34343434, 0.58585859,\n",
              "         0.6969697 , 0.81818182, 0.91919192, 0.96969697, 1.        ],\n",
              "        [0.12      , 0.28      , 0.34      , 0.5       , 0.58      ,\n",
              "         0.76      , 0.88      , 0.98      , 1.        , 1.        ]]),\n",
              " array([0.79727383, 0.90893898, 1.02060413, 1.13226928, 1.24393443,\n",
              "        1.35559958, 1.46726473, 1.57892988, 1.69059503, 1.80226018,\n",
              "        1.91392533]),\n",
              " <a list of 2 Lists of Patches objects>)"
            ]
          },
          "metadata": {},
          "execution_count": 37
        },
        {
          "output_type": "display_data",
          "data": {
            "image/png": "[encoded data removed]",
            "text/plain": [
              "<Figure size 432x288 with 1 Axes>"
            ]
          },
          "metadata": {
            "needs_background": "light"
          }
        }
      ]
    },
    {
      "cell_type": "code",
      "metadata": {
        "id": "9xENlBUUxfTu",
        "colab": {
          "base_uri": "https://localhost:8080/",
          "height": 282
        },
        "outputId": "7fb8bc80-d104-4bca-ae7c-e04b4ba08f16"
      },
      "source": [
        "Obj = plt.hist(X, density=True, histtype='step', cumulative=True,label='Reversed emp.')\n",
        "Y1, Y2 = Obj[0]\n",
        "Rsquared = r2_score(Y1, Y2)\n",
        "print('r_squared =',Rsquared)"
      ],
      "execution_count": 38,
      "outputs": [
        {
          "output_type": "stream",
          "name": "stdout",
          "text": [
            "r_squared = 0.8976206473247702\n"
          ]
        },
        {
          "output_type": "display_data",
          "data": {
            "image/png": "[encoded data removed]",
            "text/plain": [
              "<Figure size 432x288 with 1 Axes>"
            ]
          },
          "metadata": {
            "needs_background": "light"
          }
        }
      ]
    },
    {
      "cell_type": "code",
      "metadata": {
        "id": "O2XboMiFbkaa"
      },
      "source": [
        "acc_train = r.history['accuracy'][-1]\n",
        "acc_test = r.history['val_accuracy'][-1]\n",
        "loss_train = r.history['loss'][-1]\n",
        "loss_test = r.history['val_loss'][-1]"
      ],
      "execution_count": 39,
      "outputs": []
    },
    {
      "cell_type": "code",
      "metadata": {
        "id": "euTd_-CYN1v0"
      },
      "source": [
        "df = pd.DataFrame({'N1':N1, 'N2':N2,'R^2':Rsquared,\n",
        "                   'acc train':acc_train,'acc test':acc_test,\n",
        "                   'loss train':loss_train,'loss test':loss_test,\n",
        "                   'Details':Description},\n",
        "                  index= [0])\n"
      ],
      "execution_count": 40,
      "outputs": []
    },
    {
      "cell_type": "code",
      "metadata": {
        "id": "-KukfpGTTKlj",
        "colab": {
          "base_uri": "https://localhost:8080/",
          "height": 80
        },
        "outputId": "9e80e699-a720-4bf2-d8c2-aed48c9a0ab0"
      },
      "source": [
        "df"
      ],
      "execution_count": 41,
      "outputs": [
        {
          "output_type": "execute_result",
          "data": {
            "text/html": [
              "<div>\n",
              "<style scoped>\n",
              "    .dataframe tbody tr th:only-of-type {\n",
              "        vertical-align: middle;\n",
              "    }\n",
              "\n",
              "    .dataframe tbody tr th {\n",
              "        vertical-align: top;\n",
              "    }\n",
              "\n",
              "    .dataframe thead th {\n",
              "        text-align: right;\n",
              "    }\n",
              "</style>\n",
              "<table border=\"1\" class=\"dataframe\">\n",
              "  <thead>\n",
              "    <tr style=\"text-align: right;\">\n",
              "      <th></th>\n",
              "      <th>N1</th>\n",
              "      <th>N2</th>\n",
              "      <th>R^2</th>\n",
              "      <th>acc train</th>\n",
              "      <th>acc test</th>\n",
              "      <th>loss train</th>\n",
              "      <th>loss test</th>\n",
              "      <th>Details</th>\n",
              "    </tr>\n",
              "  </thead>\n",
              "  <tbody>\n",
              "    <tr>\n",
              "      <th>0</th>\n",
              "      <td>20</td>\n",
              "      <td>20</td>\n",
              "      <td>0.897621</td>\n",
              "      <td>1.0</td>\n",
              "      <td>0.972789</td>\n",
              "      <td>0.000015</td>\n",
              "      <td>0.20602</td>\n",
              "      <td>3 layers of Convolution: 64, 128, 256</td>\n",
              "    </tr>\n",
              "  </tbody>\n",
              "</table>\n",
              "</div>"
            ],
            "text/plain": [
              "   N1  N2  ...  loss test                                 Details\n",
              "0  20  20  ...    0.20602  3 layers of Convolution: 64, 128, 256 \n",
              "\n",
              "[1 rows x 8 columns]"
            ]
          },
          "metadata": {},
          "execution_count": 41
        }
      ]
    },
    {
      "cell_type": "code",
      "metadata": {
        "id": "ZZHa1j4HT9Dq",
        "colab": {
          "base_uri": "https://localhost:8080/",
          "height": 384
        },
        "outputId": "93c3f020-3365-46e2-cfb1-b2b0db45db79"
      },
      "source": [
        "counts, bins, bars = plt.hist(X,weights=wts)\n",
        "print(bars)\n",
        "print(bins)\n",
        "print(counts)"
      ],
      "execution_count": 42,
      "outputs": [
        {
          "output_type": "stream",
          "name": "stdout",
          "text": [
            "<a list of 2 Lists of Patches objects>\n",
            "[0.79727383 0.90893898 1.02060413 1.13226928 1.24393443 1.35559958\n",
            " 1.46726473 1.57892988 1.69059503 1.80226018 1.91392533]\n",
            "[[ 0.          5.05050505 10.1010101  19.19191919 24.24242424 11.11111111\n",
            "  12.12121212 10.1010101   5.05050505  3.03030303]\n",
            " [12.         16.          6.         16.          8.         18.\n",
            "  12.         10.          2.          0.        ]]\n"
          ]
        },
        {
          "output_type": "display_data",
          "data": {
            "image/png": "[encoded data removed]",
            "text/plain": [
              "<Figure size 432x288 with 1 Axes>"
            ]
          },
          "metadata": {
            "needs_background": "light"
          }
        }
      ]
    },
    {
      "cell_type": "code",
      "metadata": {
        "id": "8o_vDGeWUwIZ",
        "colab": {
          "base_uri": "https://localhost:8080/"
        },
        "outputId": "ab7e8acc-6f95-45fd-852f-8882d817e303"
      },
      "source": [
        "print(counts.sum())"
      ],
      "execution_count": 43,
      "outputs": [
        {
          "output_type": "stream",
          "name": "stdout",
          "text": [
            "200.00000000000003\n"
          ]
        }
      ]
    },
    {
      "cell_type": "code",
      "metadata": {
        "id": "KcH52-6iJQ8t",
        "colab": {
          "base_uri": "https://localhost:8080/",
          "height": 339
        },
        "outputId": "2a40341e-2a1f-40a6-dcca-9a576db0011c"
      },
      "source": [
        "\n",
        "plt.hist([Diam1,Diameter_All])\n",
        "plt.legend(['Image J','CNN'])\n"
      ],
      "execution_count": 44,
      "outputs": [
        {
          "output_type": "stream",
          "name": "stderr",
          "text": [
            "/usr/local/lib/python3.7/dist-packages/numpy/core/_asarray.py:83: VisibleDeprecationWarning: Creating an ndarray from ragged nested sequences (which is a list-or-tuple of lists-or-tuples-or ndarrays with different lengths or shapes) is deprecated. If you meant to do this, you must specify 'dtype=object' when creating the ndarray\n",
            "  return array(a, dtype, copy=False, order=order)\n"
          ]
        },
        {
          "output_type": "execute_result",
          "data": {
            "text/plain": [
              "<matplotlib.legend.Legend at 0x7efdac1d0850>"
            ]
          },
          "metadata": {},
          "execution_count": 44
        },
        {
          "output_type": "display_data",
          "data": {
            "image/png": "[encoded data removed]",
            "text/plain": [
              "<Figure size 432x288 with 1 Axes>"
            ]
          },
          "metadata": {
            "needs_background": "light"
          }
        }
      ]
    },
    {
      "cell_type": "code",
      "metadata": {
        "id": "r11AxFK_JIii",
        "colab": {
          "base_uri": "https://localhost:8080/"
        },
        "outputId": "975bf046-2392-4953-e7df-e511e165d474"
      },
      "source": [
        "[Diam1,Diameter_All]"
      ],
      "execution_count": 45,
      "outputs": [
        {
          "output_type": "execute_result",
          "data": {
            "text/plain": [
              "[[1.0136588738827657,\n",
              "  1.3384498643738487,\n",
              "  1.2241743928678164,\n",
              "  1.2810955363139882,\n",
              "  1.4897169283032898,\n",
              "  1.3469841688927182,\n",
              "  1.802936648279376,\n",
              "  1.1101783096888704,\n",
              "  1.349345229721172,\n",
              "  0.9587903583676608,\n",
              "  1.2539740179716348,\n",
              "  1.1606409601292735,\n",
              "  1.3071677279655385,\n",
              "  1.2396774300177211,\n",
              "  1.4634168627716928,\n",
              "  1.369947111730825,\n",
              "  1.5945718456175375,\n",
              "  1.2293637946517857,\n",
              "  1.6281537802488464,\n",
              "  1.9139253303624628,\n",
              "  1.3284238815238665,\n",
              "  1.2236542422631285,\n",
              "  1.1055812783082735,\n",
              "  1.2084724894722394,\n",
              "  1.1396070970426018,\n",
              "  1.2610615335399848,\n",
              "  1.4729562736988213,\n",
              "  1.428191076384995,\n",
              "  1.2880338220675407,\n",
              "  1.474252319944901,\n",
              "  1.697826354277848,\n",
              "  1.2529582429827641,\n",
              "  1.034176589165282,\n",
              "  1.1861406733319428,\n",
              "  1.3076546595257188,\n",
              "  1.016167934339702,\n",
              "  1.607692842495848,\n",
              "  1.5322707725763225,\n",
              "  1.6985761120332168,\n",
              "  1.3690173884396646,\n",
              "  1.1334454996327699,\n",
              "  1.5351763407845973,\n",
              "  1.09458595441189,\n",
              "  1.6933208363283037,\n",
              "  1.2711180048559307,\n",
              "  1.1737313097142148,\n",
              "  1.1644741796806608,\n",
              "  1.59377316194829,\n",
              "  1.6207076173044417,\n",
              "  1.110751600875899,\n",
              "  1.329860792578359,\n",
              "  1.480285532081299,\n",
              "  1.3134837582232015,\n",
              "  1.224694322554825,\n",
              "  1.3952717527062835,\n",
              "  1.3212158853994709,\n",
              "  1.3460385849440337,\n",
              "  1.8732453617425853,\n",
              "  1.0427591146587158,\n",
              "  1.016167934339702,\n",
              "  0.9373021315815206,\n",
              "  1.4935580612671222,\n",
              "  1.1158979678944616,\n",
              "  1.1877497276642752,\n",
              "  1.2095256247391792,\n",
              "  1.1249889365974903,\n",
              "  1.4246205931081612,\n",
              "  1.3782864001160509,\n",
              "  1.2973907191512837,\n",
              "  1.411150823960995,\n",
              "  1.2815923738491737,\n",
              "  1.1600923233885598,\n",
              "  1.2324669475767085,\n",
              "  1.341300666036808,\n",
              "  1.3713405148152793,\n",
              "  1.6774562271083886,\n",
              "  1.2716187407449044,\n",
              "  1.540971041561482,\n",
              "  1.1769811488175403,\n",
              "  1.7172136691765054,\n",
              "  1.5368341990871126,\n",
              "  1.0597156592484673,\n",
              "  1.4214890634453377,\n",
              "  1.169928421139644,\n",
              "  1.6656497134685673,\n",
              "  1.4922787821790537,\n",
              "  1.103852455861539,\n",
              "  1.2565098628628435,\n",
              "  1.4210411387253952,\n",
              "  1.7866201439172942,\n",
              "  1.540557857201846,\n",
              "  1.2771138777750963,\n",
              "  1.6495189926457479,\n",
              "  1.2776122636975893,\n",
              "  1.6340083614564633,\n",
              "  1.5434478249035466,\n",
              "  1.2939513133525307,\n",
              "  1.1474012764748687,\n",
              "  1.6332289631953525],\n",
              " [1.5856842086332537,\n",
              "  1.1721695443123707,\n",
              "  0.8314292970816036,\n",
              "  1.2765318701001394,\n",
              "  1.3665888884658384,\n",
              "  1.2015423374210388,\n",
              "  1.3707547887221323,\n",
              "  0.8324989278851059,\n",
              "  1.3712044673047157,\n",
              "  1.553290510405975,\n",
              "  1.115937686085949,\n",
              "  1.3972929639527072,\n",
              "  1.5228806877514638,\n",
              "  0.9649682559576092,\n",
              "  0.9113030505100095,\n",
              "  1.2509601055583037,\n",
              "  0.797273832208056,\n",
              "  1.0052286707838278,\n",
              "  1.6721615591786971,\n",
              "  1.0214046490653423,\n",
              "  1.6558511574802544,\n",
              "  1.1048541408838166,\n",
              "  1.5355171462325334,\n",
              "  0.9888799637305467,\n",
              "  1.2358544216252005,\n",
              "  1.4535774741192893,\n",
              "  1.1783802414416107,\n",
              "  1.1682397772258182,\n",
              "  1.3115627027368923,\n",
              "  1.402573330638052,\n",
              "  1.6991655017398362,\n",
              "  1.1374526983786897,\n",
              "  1.5582098650606253,\n",
              "  0.987949398060651,\n",
              "  0.916258016827021,\n",
              "  0.8580522594081305,\n",
              "  0.9124056021926146,\n",
              "  1.636452169052213,\n",
              "  1.490353106347917,\n",
              "  1.2121185181169873,\n",
              "  0.969513967439847,\n",
              "  0.8741056239672461,\n",
              "  1.5488754674826353,\n",
              "  1.2000565998882107,\n",
              "  1.4117576912995369,\n",
              "  1.3868218771198344,\n",
              "  1.646230008221575,\n",
              "  1.3047967061849786,\n",
              "  1.3766943911288352,\n",
              "  0.8391920986393681]]"
            ]
          },
          "metadata": {},
          "execution_count": 45
        }
      ]
    },
    {
      "cell_type": "code",
      "metadata": {
        "id": "4xS7NSM92s_8",
        "colab": {
          "base_uri": "https://localhost:8080/",
          "height": 282
        },
        "outputId": "430fc9c6-992f-4119-c49a-2d71428aaa8d"
      },
      "source": [
        " bins_list = [0.8, 1.0, 1.2, 1.4,1.6, 1.8,2.0]\n",
        " wt1 = np.ones(len(Diam1)) / len(Diam1)*100\n",
        " wt2 = np.ones(len(Diameter_All)) / len(Diameter_All)*100\n",
        " X = pd.DataFrame([Diam1,Diameter_All])\n",
        " wts = pd.DataFrame([wt1,wt2])\n",
        "plt.hist(X,weights=wts,bins = bins_list)\n",
        "plt.legend(['Image J','CNN'])"
      ],
      "execution_count": 46,
      "outputs": [
        {
          "output_type": "execute_result",
          "data": {
            "text/plain": [
              "<matplotlib.legend.Legend at 0x7efdb0b4eb10>"
            ]
          },
          "metadata": {},
          "execution_count": 46
        },
        {
          "output_type": "display_data",
          "data": {
            "image/png": "[encoded data removed]",
            "text/plain": [
              "<Figure size 432x288 with 1 Axes>"
            ]
          },
          "metadata": {
            "needs_background": "light"
          }
        }
      ]
    },
    {
      "cell_type": "code",
      "metadata": {
        "id": "jD80rFZs37Wm",
        "colab": {
          "base_uri": "https://localhost:8080/",
          "height": 265
        },
        "outputId": "e2a9ed91-9c66-4a18-b88f-0d61791e1e82"
      },
      "source": [
        "yy = plt.hist(X,weights=wts,bins = bins_list)"
      ],
      "execution_count": 47,
      "outputs": [
        {
          "output_type": "display_data",
          "data": {
            "image/png": "[encoded data removed]",
            "text/plain": [
              "<Figure size 432x288 with 1 Axes>"
            ]
          },
          "metadata": {
            "needs_background": "light"
          }
        }
      ]
    },
    {
      "cell_type": "code",
      "metadata": {
        "id": "edcwJoJP4GBs",
        "colab": {
          "base_uri": "https://localhost:8080/"
        },
        "outputId": "95debdd5-9f97-456a-c068-64b93a851370"
      },
      "source": [
        "yy[0][0]"
      ],
      "execution_count": 48,
      "outputs": [
        {
          "output_type": "execute_result",
          "data": {
            "text/plain": [
              "array([ 2.02020202, 24.24242424, 37.37373737, 20.2020202 , 13.13131313,\n",
              "        3.03030303])"
            ]
          },
          "metadata": {},
          "execution_count": 48
        }
      ]
    },
    {
      "cell_type": "code",
      "metadata": {
        "id": "_0zY-NBY6Rgx",
        "colab": {
          "base_uri": "https://localhost:8080/"
        },
        "outputId": "aaf1aaf6-d064-42a1-d81f-58045b35619a"
      },
      "source": [
        "bins_list"
      ],
      "execution_count": 49,
      "outputs": [
        {
          "output_type": "execute_result",
          "data": {
            "text/plain": [
              "[0.8, 1.0, 1.2, 1.4, 1.6, 1.8, 2.0]"
            ]
          },
          "metadata": {},
          "execution_count": 49
        }
      ]
    },
    {
      "cell_type": "code",
      "metadata": {
        "id": "9ujCjAa85RG5"
      },
      "source": [
        "k =0\n",
        "for kk in yy[0][0]:\n",
        "  name = str(bins_list[k])\n",
        "  df[name] = yy[0][1][k]\n",
        "  k = k+1"
      ],
      "execution_count": 50,
      "outputs": []
    },
    {
      "cell_type": "code",
      "metadata": {
        "id": "iMQRVn4D69RC",
        "colab": {
          "base_uri": "https://localhost:8080/",
          "height": 80
        },
        "outputId": "43e6095e-d428-4cea-a345-d069ebea7709"
      },
      "source": [
        "df"
      ],
      "execution_count": 51,
      "outputs": [
        {
          "output_type": "execute_result",
          "data": {
            "text/html": [
              "<div>\n",
              "<style scoped>\n",
              "    .dataframe tbody tr th:only-of-type {\n",
              "        vertical-align: middle;\n",
              "    }\n",
              "\n",
              "    .dataframe tbody tr th {\n",
              "        vertical-align: top;\n",
              "    }\n",
              "\n",
              "    .dataframe thead th {\n",
              "        text-align: right;\n",
              "    }\n",
              "</style>\n",
              "<table border=\"1\" class=\"dataframe\">\n",
              "  <thead>\n",
              "    <tr style=\"text-align: right;\">\n",
              "      <th></th>\n",
              "      <th>N1</th>\n",
              "      <th>N2</th>\n",
              "      <th>R^2</th>\n",
              "      <th>acc train</th>\n",
              "      <th>acc test</th>\n",
              "      <th>loss train</th>\n",
              "      <th>loss test</th>\n",
              "      <th>Details</th>\n",
              "      <th>0.8</th>\n",
              "      <th>1.0</th>\n",
              "      <th>1.2</th>\n",
              "      <th>1.4</th>\n",
              "      <th>1.6</th>\n",
              "      <th>1.8</th>\n",
              "    </tr>\n",
              "  </thead>\n",
              "  <tbody>\n",
              "    <tr>\n",
              "      <th>0</th>\n",
              "      <td>20</td>\n",
              "      <td>20</td>\n",
              "      <td>0.897621</td>\n",
              "      <td>1.0</td>\n",
              "      <td>0.972789</td>\n",
              "      <td>0.000015</td>\n",
              "      <td>0.20602</td>\n",
              "      <td>3 layers of Convolution: 64, 128, 256</td>\n",
              "      <td>24.0</td>\n",
              "      <td>16.0</td>\n",
              "      <td>28.0</td>\n",
              "      <td>20.0</td>\n",
              "      <td>10.0</td>\n",
              "      <td>0.0</td>\n",
              "    </tr>\n",
              "  </tbody>\n",
              "</table>\n",
              "</div>"
            ],
            "text/plain": [
              "   N1  N2       R^2  acc train  acc test  ...   1.0   1.2   1.4   1.6  1.8\n",
              "0  20  20  0.897621        1.0  0.972789  ...  16.0  28.0  20.0  10.0  0.0\n",
              "\n",
              "[1 rows x 14 columns]"
            ]
          },
          "metadata": {},
          "execution_count": 51
        }
      ]
    },
    {
      "cell_type": "code",
      "metadata": {
        "id": "JMWpAwMq5Hw2",
        "colab": {
          "base_uri": "https://localhost:8080/",
          "height": 17
        },
        "outputId": "01d3aaf0-70c7-4f7c-d3ab-eb3190106b43"
      },
      "source": [
        "Arq = \"output.xlsx\"\n",
        "df.to_excel(Arq)\n",
        "files.download(Arq)"
      ],
      "execution_count": 52,
      "outputs": [
        {
          "output_type": "display_data",
          "data": {
            "application/javascript": [
              "\n",
              "    async function download(id, filename, size) {\n",
              "      if (!google.colab.kernel.accessAllowed) {\n",
              "        return;\n",
              "      }\n",
              "      const div = document.createElement('div');\n",
              "      const label = document.createElement('label');\n",
              "      label.textContent = `Downloading \"${filename}\": `;\n",
              "      div.appendChild(label);\n",
              "      const progress = document.createElement('progress');\n",
              "      progress.max = size;\n",
              "      div.appendChild(progress);\n",
              "      document.body.appendChild(div);\n",
              "\n",
              "      const buffers = [];\n",
              "      let downloaded = 0;\n",
              "\n",
              "      const channel = await google.colab.kernel.comms.open(id);\n",
              "      // Send a message to notify the kernel that we're ready.\n",
              "      channel.send({})\n",
              "\n",
              "      for await (const message of channel.messages) {\n",
              "        // Send a message to notify the kernel that we're ready.\n",
              "        channel.send({})\n",
              "        if (message.buffers) {\n",
              "          for (const buffer of message.buffers) {\n",
              "            buffers.push(buffer);\n",
              "            downloaded += buffer.byteLength;\n",
              "            progress.value = downloaded;\n",
              "          }\n",
              "        }\n",
              "      }\n",
              "      const blob = new Blob(buffers, {type: 'application/binary'});\n",
              "      const a = document.createElement('a');\n",
              "      a.href = window.URL.createObjectURL(blob);\n",
              "      a.download = filename;\n",
              "      div.appendChild(a);\n",
              "      a.click();\n",
              "      div.remove();\n",
              "    }\n",
              "  "
            ],
            "text/plain": [
              "<IPython.core.display.Javascript object>"
            ]
          },
          "metadata": {}
        },
        {
          "output_type": "display_data",
          "data": {
            "application/javascript": [
              "download(\"download_bd6e8402-7579-4919-9c7d-81bd77095b66\", \"output.xlsx\", 5234)"
            ],
            "text/plain": [
              "<IPython.core.display.Javascript object>"
            ]
          },
          "metadata": {}
        }
      ]
    }
  ]
}