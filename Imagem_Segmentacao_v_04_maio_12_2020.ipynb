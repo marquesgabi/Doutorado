{
  "nbformat": 4,
  "nbformat_minor": 0,
  "metadata": {
    "colab": {
      "name": "Imagem_Segmentacao_v_04_maio_12_2020.ipynb",
      "provenance": [],
      "collapsed_sections": [],
      "include_colab_link": true
    },
    "kernelspec": {
      "name": "python3",
      "display_name": "Python 3"
    }
  },
  "cells": [
    {
      "cell_type": "markdown",
      "metadata": {
        "id": "view-in-github",
        "colab_type": "text"
      },
      "source": [
        "<a href=\"https://colab.research.google.com/github/marquesgabi/Doutorado/blob/master/Imagem_Segmentacao_v_04_maio_12_2020.ipynb\" target=\"_parent\"><img src=\"https://colab.research.google.com/assets/colab-badge.svg\" alt=\"Open In Colab\"/></a>"
      ]
    },
    {
      "cell_type": "code",
      "metadata": {
        "id": "IkdWhE1ZjZBd",
        "colab_type": "code",
        "colab": {}
      },
      "source": [
        "import numpy as np\n",
        "import matplotlib.pyplot as plt\n",
        "from skimage.color import rgb2gray\n",
        "from skimage import data\n",
        "import imageio\n",
        "from skimage.filters import gaussian\n",
        "from skimage.segmentation import active_contour\n",
        "import zipfile"
      ],
      "execution_count": 0,
      "outputs": []
    },
    {
      "cell_type": "code",
      "metadata": {
        "id": "74oQ1yxLpS20",
        "colab_type": "code",
        "outputId": "02365207-33c1-4aa4-acf2-57aa37babbc3",
        "colab": {
          "base_uri": "https://localhost:8080/",
          "height": 83
        }
      },
      "source": [
        "!git clone https://github.com/ucfilho/marquesgabi_fev_2020 #clonar do Github\n",
        "%cd marquesgabi_fev_2020\n",
        "!pip install mahotas\n",
        "import Go2BlackWhite\n",
        "import Go2Mahotas\n",
        "import mahotas.features.texture as mht\n",
        "import mahotas.features"
      ],
      "execution_count": 2,
      "outputs": [
        {
          "output_type": "stream",
          "text": [
            "fatal: destination path 'marquesgabi_fev_2020' already exists and is not an empty directory.\n",
            "/content/marquesgabi_fev_2020\n",
            "Requirement already satisfied: mahotas in /usr/local/lib/python3.6/dist-packages (1.4.9)\n",
            "Requirement already satisfied: numpy in /usr/local/lib/python3.6/dist-packages (from mahotas) (1.18.4)\n"
          ],
          "name": "stdout"
        }
      ]
    },
    {
      "cell_type": "code",
      "metadata": {
        "id": "KIXIAJGqkxxe",
        "colab_type": "code",
        "outputId": "b0bfb9c9-bbd9-4818-8cf8-3c0994cb1c97",
        "colab": {
          "base_uri": "https://localhost:8080/",
          "height": 50
        }
      },
      "source": [
        "!git clone https://github.com/marquesgabi/Doutorado\n",
        "%cd Doutorado\n",
        "#!ls"
      ],
      "execution_count": 3,
      "outputs": [
        {
          "output_type": "stream",
          "text": [
            "fatal: destination path 'Doutorado' already exists and is not an empty directory.\n",
            "/content/marquesgabi_fev_2020/Doutorado\n"
          ],
          "name": "stdout"
        }
      ]
    },
    {
      "cell_type": "code",
      "metadata": {
        "id": "YO_78o1Xk5Cf",
        "colab_type": "code",
        "colab": {}
      },
      "source": [
        "Transfere='Fotos_Grandes_3cdAmostra.zip'\n",
        "file_name = zipfile.ZipFile(Transfere, 'r')\n",
        "file_name.extractall()"
      ],
      "execution_count": 0,
      "outputs": []
    },
    {
      "cell_type": "code",
      "metadata": {
        "id": "XRpo12eDo_vF",
        "colab_type": "code",
        "colab": {}
      },
      "source": [
        "Size=40 # tamanho da foto\n",
        "Sub_Size=int(Size/5) # tamanho do fracionamento\n",
        "Row_Crop=1/2 # posicao do corte\n",
        "Crop=int(Size*Row_Crop)"
      ],
      "execution_count": 0,
      "outputs": []
    },
    {
      "cell_type": "code",
      "metadata": {
        "id": "pVXBY4xMpH2F",
        "colab_type": "code",
        "colab": {}
      },
      "source": [
        "ww,img_name=Go2BlackWhite.BlackWhite(Transfere,Size)"
      ],
      "execution_count": 0,
      "outputs": []
    },
    {
      "cell_type": "code",
      "metadata": {
        "id": "b6jxri4GNi9p",
        "colab_type": "code",
        "colab": {
          "base_uri": "https://localhost:8080/",
          "height": 33
        },
        "outputId": "d4d147c0-477c-41b9-80d7-f7a6e91b0f14"
      },
      "source": [
        "#print(ww)\n",
        "len(ww)"
      ],
      "execution_count": 7,
      "outputs": [
        {
          "output_type": "execute_result",
          "data": {
            "text/plain": [
              "27"
            ]
          },
          "metadata": {
            "tags": []
          },
          "execution_count": 7
        }
      ]
    },
    {
      "cell_type": "code",
      "metadata": {
        "id": "eEEILTxmOkc2",
        "colab_type": "code",
        "colab": {
          "base_uri": "https://localhost:8080/",
          "height": 264
        },
        "outputId": "9a520b55-30d0-4271-9244-e5c6b010ffc3"
      },
      "source": [
        "plt.imshow(ww[0])\n",
        "\n",
        "plt.axis('off')"
      ],
      "execution_count": 8,
      "outputs": [
        {
          "output_type": "execute_result",
          "data": {
            "text/plain": [
              "(-0.5, 39.5, 39.5, -0.5)"
            ]
          },
          "metadata": {
            "tags": []
          },
          "execution_count": 8
        },
        {
          "output_type": "display_data",
          "data": {
            "image/png": "[encoded data removed]",
            "text/plain": [
              "<Figure size 432x288 with 1 Axes>"
            ]
          },
          "metadata": {
            "tags": [],
            "needs_background": "light"
          }
        }
      ]
    },
    {
      "cell_type": "code",
      "metadata": {
        "id": "Mi7I8VsTqKzj",
        "colab_type": "code",
        "colab": {
          "base_uri": "https://localhost:8080/",
          "height": 133
        },
        "outputId": "4592dca5-8c61-40eb-ae66-ed68b6fbce7d"
      },
      "source": [
        "print(ww[0])"
      ],
      "execution_count": 9,
      "outputs": [
        {
          "output_type": "stream",
          "text": [
            "[[ 0  1  1 ...  1  1  1]\n",
            " [ 0  0  0 ...  0  0  0]\n",
            " [ 0  1 42 ... 27 28  2]\n",
            " ...\n",
            " [ 0  0  0 ... 92 85  0]\n",
            " [ 0  0  0 ...  0  0  0]\n",
            " [ 0  0  0 ...  0  0  0]]\n"
          ],
          "name": "stdout"
        }
      ]
    },
    {
      "cell_type": "code",
      "metadata": {
        "id": "Z2Sh6YPUjqOi",
        "colab_type": "code",
        "colab": {}
      },
      "source": [
        "#img = data.astronaut()\n",
        "#print(img)\n",
        "#img=ww[0]\n",
        "#img = rgb2gray(img)"
      ],
      "execution_count": 0,
      "outputs": []
    },
    {
      "cell_type": "code",
      "metadata": {
        "id": "l7xqJjrkrID1",
        "colab_type": "code",
        "colab": {}
      },
      "source": [
        "#plt.imshow(img, cmap = \"gray\")"
      ],
      "execution_count": 0,
      "outputs": []
    },
    {
      "cell_type": "code",
      "metadata": {
        "id": "x2ep8gNYlM2a",
        "colab_type": "code",
        "colab": {}
      },
      "source": [
        "#print(img)"
      ],
      "execution_count": 0,
      "outputs": []
    },
    {
      "cell_type": "code",
      "metadata": {
        "id": "OIuB-8gejipL",
        "colab_type": "code",
        "outputId": "fcfa29ae-4a7d-4f36-d010-70a0e922bd85",
        "colab": {
          "base_uri": "https://localhost:8080/",
          "height": 53
        }
      },
      "source": [
        "\n",
        "'''\n",
        "s = np.linspace(0, 2*np.pi, 400)\n",
        "r = 100 + 100*np.sin(s)\n",
        "c = 220 + 100*np.cos(s)\n",
        "init = np.array([r, c]).T\n",
        "\n",
        "snake = active_contour(gaussian(img, 3),\n",
        "                       init, alpha=0.015, beta=10, gamma=0.001,\n",
        "                       coordinates='rc')\n",
        "\n",
        "fig, ax = plt.subplots(figsize=(7, 7))\n",
        "ax.imshow(img, cmap=plt.cm.gray)\n",
        "ax.plot(init[:, 1], init[:, 0], '--r', lw=3)\n",
        "ax.plot(snake[:, 1], snake[:, 0], '-b', lw=3)\n",
        "ax.set_xticks([]), ax.set_yticks([])\n",
        "ax.axis([0, img.shape[1], img.shape[0], 0])\n",
        "\n",
        "plt.show()\n",
        "'''"
      ],
      "execution_count": 13,
      "outputs": [
        {
          "output_type": "execute_result",
          "data": {
            "text/plain": [
              "\"\\ns = np.linspace(0, 2*np.pi, 400)\\nr = 100 + 100*np.sin(s)\\nc = 220 + 100*np.cos(s)\\ninit = np.array([r, c]).T\\n\\nsnake = active_contour(gaussian(img, 3),\\n                       init, alpha=0.015, beta=10, gamma=0.001,\\n                       coordinates='rc')\\n\\nfig, ax = plt.subplots(figsize=(7, 7))\\nax.imshow(img, cmap=plt.cm.gray)\\nax.plot(init[:, 1], init[:, 0], '--r', lw=3)\\nax.plot(snake[:, 1], snake[:, 0], '-b', lw=3)\\nax.set_xticks([]), ax.set_yticks([])\\nax.axis([0, img.shape[1], img.shape[0], 0])\\n\\nplt.show()\\n\""
            ]
          },
          "metadata": {
            "tags": []
          },
          "execution_count": 13
        }
      ]
    }
  ]
}