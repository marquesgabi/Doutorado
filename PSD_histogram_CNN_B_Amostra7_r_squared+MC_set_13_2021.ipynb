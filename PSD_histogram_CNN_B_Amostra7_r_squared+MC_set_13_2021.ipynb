{
  "nbformat": 4,
  "nbformat_minor": 0,
  "metadata": {
    "colab": {
      "name": "PSD_histogram_CNN_B_Amostra7_r_squared+MC_set_13_2021.ipynb",
      "provenance": [],
      "collapsed_sections": [],
      "include_colab_link": true
    },
    "kernelspec": {
      "name": "python3",
      "display_name": "Python 3"
    }
  },
  "cells": [
    {
      "cell_type": "markdown",
      "metadata": {
        "id": "view-in-github",
        "colab_type": "text"
      },
      "source": [
        "<a href=\"https://colab.research.google.com/github/marquesgabi/Doutorado/blob/master/PSD_histogram_CNN_B_Amostra7_r_squared%2BMC_set_13_2021.ipynb\" target=\"_parent\"><img src=\"https://colab.research.google.com/assets/colab-badge.svg\" alt=\"Open In Colab\"/></a>"
      ]
    },
    {
      "cell_type": "code",
      "metadata": {
        "id": "Sog7Z9pyhUD_"
      },
      "source": [
        "import matplotlib.pyplot as plt\n",
        "import numpy as np\n",
        "import cv2\n",
        "import zipfile\n",
        "#import random\n",
        "from random import randint\n",
        "from PIL import Image\n",
        "import re\n",
        "from sklearn.model_selection import train_test_split\n",
        "#import scikit-image\n",
        "import skimage\n",
        "import sklearn\n",
        "import pandas as pd\n",
        "from keras.models import Sequential\n",
        "from keras.layers import Dense, Activation, Conv2D, MaxPooling2D, Flatten, Dropout, BatchNormalization\n",
        "from sklearn.metrics import r2_score\n",
        "from google.colab import files"
      ],
      "execution_count": null,
      "outputs": []
    },
    {
      "cell_type": "code",
      "metadata": {
        "id": "uZEvJvfoibE4",
        "colab": {
          "base_uri": "https://localhost:8080/"
        },
        "outputId": "3078e0ee-0a65-44c3-9aaa-e0c694f73fac"
      },
      "source": [
        "!pip install mahotas"
      ],
      "execution_count": null,
      "outputs": [
        {
          "output_type": "stream",
          "name": "stdout",
          "text": [
            "Requirement already satisfied: mahotas in /usr/local/lib/python3.7/dist-packages (1.4.11)\n",
            "Requirement already satisfied: numpy in /usr/local/lib/python3.7/dist-packages (from mahotas) (1.19.5)\n"
          ]
        }
      ]
    },
    {
      "cell_type": "code",
      "metadata": {
        "id": "nf_a6PJ1iUnT"
      },
      "source": [
        "import mahotas.features.texture as mht\n",
        "import mahotas.features"
      ],
      "execution_count": null,
      "outputs": []
    },
    {
      "cell_type": "code",
      "metadata": {
        "id": "_VcTdaNVh9EE",
        "colab": {
          "base_uri": "https://localhost:8080/"
        },
        "outputId": "990dfbdc-806c-4bdc-934e-b26451a1cbd4"
      },
      "source": [
        "!git clone https://github.com/ucfilho/marquesgabi_fev_2020 #clonar do Github\n",
        "%cd marquesgabi_fev_2020\n",
        "import Go2BlackWhite\n",
        "import Go2Mahotas"
      ],
      "execution_count": null,
      "outputs": [
        {
          "output_type": "stream",
          "name": "stdout",
          "text": [
            "fatal: destination path 'marquesgabi_fev_2020' already exists and is not an empty directory.\n",
            "/content/marquesgabi_fev_2020\n"
          ]
        }
      ]
    },
    {
      "cell_type": "code",
      "metadata": {
        "id": "1v7SRrc8mH2N",
        "colab": {
          "base_uri": "https://localhost:8080/"
        },
        "outputId": "31f25035-ee59-4038-912e-186832ca3bf3"
      },
      "source": [
        "!git clone https://github.com/marquesgabi/Doutorado\n",
        "%cd Doutorado\n",
        "\n",
        "Transfere='Fotos_Grandes_3cdAmostra.zip' \n",
        "file_name = zipfile.ZipFile(Transfere, 'r')\n",
        "file_name.extractall()"
      ],
      "execution_count": null,
      "outputs": [
        {
          "output_type": "stream",
          "name": "stdout",
          "text": [
            "fatal: destination path 'Doutorado' already exists and is not an empty directory.\n",
            "/content/marquesgabi_fev_2020/Doutorado\n"
          ]
        }
      ]
    },
    {
      "cell_type": "code",
      "metadata": {
        "colab": {
          "base_uri": "https://localhost:8080/"
        },
        "id": "NqIYzUcnrdMp",
        "outputId": "95b71ca8-f364-48c7-ac73-47c8e6a30c3d"
      },
      "source": [
        "labels =[]\n",
        "with zipfile.ZipFile(Transfere, \"r\") as f:\n",
        "  for f in f.namelist():\n",
        "    labels.append(f)\n",
        "print(labels)"
      ],
      "execution_count": null,
      "outputs": [
        {
          "output_type": "stream",
          "name": "stdout",
          "text": [
            "['Fotos_Grandes-3cdAmostra/Q6-8-4.jpg', 'Fotos_Grandes-3cdAmostra/Q6-5-3.jpg', 'Fotos_Grandes-3cdAmostra/Q6-7-4.jpg', 'Fotos_Grandes-3cdAmostra/Q6-8-2.jpg', 'Fotos_Grandes-3cdAmostra/Q6-3-2.jpg', 'Fotos_Grandes-3cdAmostra/Q6-7-2.jpg', 'Fotos_Grandes-3cdAmostra/Q6-4-4.jpg', 'Fotos_Grandes-3cdAmostra/Q6-9-5.jpg', 'Fotos_Grandes-3cdAmostra/Q6-2-5.jpg', 'Fotos_Grandes-3cdAmostra/Q6-8-3.jpg', 'Fotos_Grandes-3cdAmostra/Q6-9-3.jpg', 'Fotos_Grandes-3cdAmostra/Q6-1-2.jpg', 'Fotos_Grandes-3cdAmostra/Q6-6-3.jpg', 'Fotos_Grandes-3cdAmostra/Q6-3-4.jpg', 'Fotos_Grandes-3cdAmostra/Q6-1-4.jpg', 'Fotos_Grandes-3cdAmostra/Q6-6-2.jpg', 'Fotos_Grandes-3cdAmostra/Q6-4-3.jpg', 'Fotos_Grandes-3cdAmostra/Q6-7-3.jpg', 'Fotos_Grandes-3cdAmostra/Q6-2-2.jpg', 'Fotos_Grandes-3cdAmostra/Q6-9-2.jpg', 'Fotos_Grandes-3cdAmostra/Q6-1-5.jpg', 'Fotos_Grandes-3cdAmostra/Q6-6-5.jpg', 'Fotos_Grandes-3cdAmostra/Q6-2-1.jpg', 'Fotos_Grandes-3cdAmostra/Q6-5-2.jpg', 'Fotos_Grandes-3cdAmostra/Q6-4-1.jpg', 'Fotos_Grandes-3cdAmostra/Q6-3-1.jpg', 'Fotos_Grandes-3cdAmostra/Q6-5-4.jpg']\n"
          ]
        }
      ]
    },
    {
      "cell_type": "code",
      "metadata": {
        "id": "0kA4IWSmasoD"
      },
      "source": [
        "Size=1200 # tamanho da foto\n",
        "ww,img_name=Go2BlackWhite.BlackWhite(Transfere,Size) #Pegamos a primeira foto Grande\n",
        "img=ww[2] \n",
        "# this is the big image we want to segment \n",
        "# ww[0], change it if you want to segment another picture"
      ],
      "execution_count": null,
      "outputs": []
    },
    {
      "cell_type": "code",
      "metadata": {
        "id": "tHgqAnaFyCjp",
        "colab": {
          "base_uri": "https://localhost:8080/"
        },
        "outputId": "e5bbc664-66c8-4d8a-f001-ca4c5fa142aa"
      },
      "source": [
        "!git clone https://github.com/ucfilho/MarquesGabi_Routines\n",
        "%cd MarquesGabi_Routines"
      ],
      "execution_count": null,
      "outputs": [
        {
          "output_type": "stream",
          "name": "stdout",
          "text": [
            "fatal: destination path 'MarquesGabi_Routines' already exists and is not an empty directory.\n",
            "/content/marquesgabi_fev_2020/Doutorado/MarquesGabi_Routines\n"
          ]
        }
      ]
    },
    {
      "cell_type": "code",
      "metadata": {
        "id": "qc4rFvzkyWCi"
      },
      "source": [
        "from segment_filter_not_conclude import Segmenta  # got image provided segmented"
      ],
      "execution_count": null,
      "outputs": []
    },
    {
      "cell_type": "code",
      "metadata": {
        "id": "SnTtH3KDP863"
      },
      "source": [
        "df=Segmenta(img)\n",
        "Img_Size = 28"
      ],
      "execution_count": null,
      "outputs": []
    },
    {
      "cell_type": "code",
      "metadata": {
        "id": "YN5MN5a_v4np",
        "colab": {
          "base_uri": "https://localhost:8080/"
        },
        "outputId": "9724c3c0-c198-4dda-f293-ff6f8ed8bf21"
      },
      "source": [
        "print(df)"
      ],
      "execution_count": null,
      "outputs": [
        {
          "output_type": "stream",
          "name": "stdout",
          "text": [
            "    Width           0           1  ...         781         782         783\n",
            "0     155  157.151840  168.565384  ...  101.389145  104.182487  109.768074\n",
            "1     147   76.104301   75.555557  ...  145.161011  150.117920  145.664398\n",
            "2     196  143.551010  137.346939  ...  179.000000  191.775513  213.591827\n",
            "3     128  110.456055  113.413086  ...  122.321289  115.157227  102.740234\n",
            "4     191   68.874985   68.446869  ...  145.202148  150.997009  151.914703\n",
            "5     120   59.841110   61.547779  ...    0.000000    0.000000    0.000000\n",
            "6     146   46.518105   36.854755  ...    9.326328    9.242260    9.168699\n",
            "7     166    2.750472    7.824938  ...   48.941063   18.310638    0.544927\n",
            "8     138  145.937820  141.501770  ...   69.152908   79.417351   88.780922\n",
            "9     162   64.032616   67.066002  ...  104.375397  100.745766  100.325714\n",
            "10    119  123.114189  123.024223  ...  127.757790  129.577866  125.404846\n",
            "11    159  146.541519  128.317230  ...   99.776627   97.145714   79.591270\n",
            "12    159  141.884689  142.220901  ...   83.070999   89.450974  113.498672\n",
            "13    121  140.565674  141.399078  ...  111.193703  113.724396  119.413078\n",
            "14    181  152.629028  153.927383  ...  158.997742  156.687759  156.511795\n",
            "15    187  212.842087  205.896729  ...  137.036255  123.632156   88.147926\n",
            "16    136   69.777687   81.793259  ...  120.519035  122.688583  124.379761\n",
            "17    118   98.001137  100.429756  ...   62.717323   64.078995   69.663025\n",
            "18    143  134.527176  135.089920  ...   45.379383   54.648582   52.521641\n",
            "19    196  130.959183  132.938766  ...    7.632653    7.469388    7.755102\n",
            "20    198  137.157410  134.951538  ...  145.689102  147.660843  149.554321\n",
            "21    200  132.094803  127.893990  ...  140.495590  149.040802  164.345200\n",
            "22    109  103.660545  109.433296  ...  120.157814  120.884598  123.437584\n",
            "23    179  131.712845  131.992722  ...  136.009323  134.184875  130.854034\n",
            "24    164  108.781082  111.506241  ...    8.070791    8.317073    8.365854\n",
            "25    124   70.628502   61.913624  ...   11.568157   11.445368   11.445369\n",
            "26    132    0.000000    0.000000  ...  177.382935  178.684128  164.732788\n",
            "27    199   97.236908   94.793282  ...   83.832420  110.797928  109.776794\n",
            "28    101  129.388000  124.626114  ...  117.172142  119.495056  121.260757\n",
            "29    157   35.490162   53.577309  ...  134.263138  132.930664  135.871643\n",
            "30    141    0.000000    0.000000  ...   66.564560   71.430656   73.336502\n",
            "31    200    0.000000    0.000000  ...  171.537201  139.064392  138.263199\n",
            "32    186   91.730957   91.684937  ...   66.467339   69.953873   69.743904\n",
            "33    137   83.551918   84.411743  ...  132.037460  134.241196  135.987045\n",
            "34    118   89.209129   91.962357  ...  105.605576  105.736855  108.656136\n",
            "35    159  172.086151  181.096558  ...   82.786636   83.879189   84.217087\n",
            "36    152  188.612183  200.926575  ...  127.153046  119.177963  115.841415\n",
            "37    181  147.854065  155.181763  ...  140.902771  139.906601  143.852142\n",
            "38    199  127.876923  135.660461  ...    1.621701    0.993611    0.333729\n",
            "39    170   96.112251   95.135925  ...    5.822700    5.668236    4.877371\n",
            "40    101  101.718956  115.799736  ...  127.436440  125.616425  125.169205\n",
            "41    182   83.065094   81.704147  ...   71.804741   58.017757   46.763317\n",
            "42    195   81.883507   82.326942  ...    7.377646    6.753873    7.097015\n",
            "43    143   53.246368   50.765266  ...  105.111839  104.120834  102.242798\n",
            "44    154   47.661156   72.223145  ...    9.123968    8.570249    8.471075\n",
            "45    109    0.000000    0.000000  ...    0.256881    0.051847    0.000000\n",
            "46    189   69.058983  126.718781  ...  128.384094  122.389572  109.111107\n",
            "47    157  161.491867  162.464645  ...  155.612152  146.349228  134.684891\n",
            "48    144   80.308647   78.054794  ...  116.670532  121.530106  126.683640\n",
            "49    131  146.983322  146.758286  ...  138.430283  148.359573  150.818878\n",
            "\n",
            "[50 rows x 785 columns]\n"
          ]
        }
      ]
    },
    {
      "cell_type": "code",
      "metadata": {
        "id": "xzpQ1Pz0fX5L",
        "colab": {
          "base_uri": "https://localhost:8080/",
          "height": 52
        },
        "outputId": "c1cf88ec-d036-40bf-c95b-bb56e0d580bd"
      },
      "source": [
        "'''\n",
        "!git clone https://github.com/ucfilho/MarquesGabi_Routines\n",
        "%cd MarquesGabi_Routines\n",
        "# filename = 'model_ANN.pkl'\n",
        "filename = 'model_ANN_new.pkl'\n",
        "model = joblib.load(filename)\n",
        "'''"
      ],
      "execution_count": null,
      "outputs": [
        {
          "output_type": "execute_result",
          "data": {
            "application/vnd.google.colaboratory.intrinsic+json": {
              "type": "string"
            },
            "text/plain": [
              "\"\\n!git clone https://github.com/ucfilho/MarquesGabi_Routines\\n%cd MarquesGabi_Routines\\n# filename = 'model_ANN.pkl'\\nfilename = 'model_ANN_new.pkl'\\nmodel = joblib.load(filename)\\n\""
            ]
          },
          "metadata": {},
          "execution_count": 12
        }
      ]
    },
    {
      "cell_type": "code",
      "metadata": {
        "colab": {
          "base_uri": "https://localhost:8080/"
        },
        "id": "xR2emP4rNjQy",
        "outputId": "93765f8d-ec67-4434-f0dc-0cca533d5ac4"
      },
      "source": [
        "!git clone https://github.com/ucfilho/MarquesGabi_Routines\n",
        "%cd MarquesGabi_Routines"
      ],
      "execution_count": null,
      "outputs": [
        {
          "output_type": "stream",
          "name": "stdout",
          "text": [
            "fatal: destination path 'MarquesGabi_Routines' already exists and is not an empty directory.\n",
            "/content/marquesgabi_fev_2020/Doutorado/MarquesGabi_Routines/MarquesGabi_Routines\n"
          ]
        }
      ]
    },
    {
      "cell_type": "code",
      "metadata": {
        "id": "O6cMHOrlNliO"
      },
      "source": [
        "# leitura dos dados\n",
        "df=pd.read_excel(\"FotosTreinoRede.xlsx\")\n",
        "y = df['y']\n",
        "df.drop(['Unnamed: 0','y'], axis='columns', inplace=True)"
      ],
      "execution_count": null,
      "outputs": []
    },
    {
      "cell_type": "code",
      "metadata": {
        "id": "zQO8d2QbNqj0"
      },
      "source": [
        "X =np.array(df.copy())/255.0 \n",
        "\n",
        "\n",
        "X_train, X_test, Y_train, Y_test = train_test_split(X, y, test_size=0.30, shuffle=True, random_state=42)"
      ],
      "execution_count": null,
      "outputs": []
    },
    {
      "cell_type": "code",
      "metadata": {
        "id": "gIFPGE_-vx3T"
      },
      "source": [
        ""
      ],
      "execution_count": null,
      "outputs": []
    },
    {
      "cell_type": "code",
      "metadata": {
        "id": "23iKv6bDPWQl"
      },
      "source": [
        "# helper\n",
        "def ynindicator(Y):\n",
        "  N = len(Y)\n",
        "  K = len(set(Y))\n",
        "  I = np.zeros((N, K))\n",
        "  I[np.arange(N), Y] = 1\n",
        "  return I\n",
        "\n",
        "def yback(Y_test):\n",
        "  nrow, ncol = Y_test.shape\n",
        "  y_class = np.zeros(nrow,dtype=int)\n",
        "  y_resp = Y_test\n",
        "  for k in range(nrow):\n",
        "    for kk in range(K):\n",
        "      if(y_resp[k,kk] == 1):\n",
        "        y_class[k] = kk\n",
        "  Y_test = y_class.copy()\n",
        "  return Y_test\n",
        "\n",
        "X_train = np.array(X_train)\n",
        "Y_train = np.array(Y_train)\n",
        "K = len(set(Y_train))\n",
        "\n",
        "X_train = X_train.reshape(-1, Img_Size, Img_Size, 1) / 255.0\n",
        "Y_train = Y_train.astype(np.int32)\n",
        "Y_train = ynindicator(Y_train)\n",
        "\n",
        "X_test = np.array(X_test )\n",
        "Y_test = np.array(Y_test)\n",
        "X_test = X_test.reshape(-1, Img_Size, Img_Size, 1) / 255.0\n",
        "Y_test = Y_test.astype(np.int32)\n",
        "Y_test = ynindicator(Y_test)\n",
        "\n",
        "# the model will be a sequence of layers\n",
        "\n",
        "Description = '3 layers of Convolution: 64, 128, 256 '\n",
        "N1 = 20\n",
        "N2 = 20\n",
        "\n",
        "# make the CNN\n",
        "model = Sequential()\n",
        "model.add(Conv2D(input_shape=(Img_Size, Img_Size, 1), filters=64, kernel_size=(3, 3)))\n",
        "model.add(BatchNormalization())\n",
        "model.add(Activation('relu'))\n",
        "model.add(MaxPooling2D())\n",
        "\n",
        "model.add(Conv2D(filters=128, kernel_size=(3, 3)))\n",
        "model.add(BatchNormalization())\n",
        "model.add(Activation('relu'))\n",
        "model.add(MaxPooling2D())\n",
        "\n",
        "model.add(Conv2D(filters=256, kernel_size=(3, 3)))\n",
        "model.add(BatchNormalization())\n",
        "model.add(Activation('relu'))\n",
        "model.add(MaxPooling2D())\n",
        "\n",
        "model.add(Flatten())\n",
        "model.add(Dense(units=N1))\n",
        "model.add(Dropout(0.2))\n",
        "model.add(Dense(units=N2))\n",
        "model.add(Activation('relu'))\n",
        "#model.add(Dropout(0.2))\n",
        "model.add(Dense(units=K))\n",
        "model.add(Activation('softmax'))\n",
        "\n",
        "\n",
        "# list of losses: https://keras.io/losses/\n",
        "# list of optimizers: https://keras.io/optimizers/\n",
        "# list of metrics: https://keras.io/metrics/\n",
        "model.compile(\n",
        "  loss='categorical_crossentropy',\n",
        "  optimizer='adam',\n",
        "  metrics=['accuracy']\n",
        ")"
      ],
      "execution_count": null,
      "outputs": []
    },
    {
      "cell_type": "code",
      "metadata": {
        "colab": {
          "base_uri": "https://localhost:8080/"
        },
        "id": "FpbPQ1FSRG6A",
        "outputId": "92fd3983-ba15-48b6-caf7-e262f96a0bdd"
      },
      "source": [
        "\n",
        "# training the model\n",
        "r = model.fit(X_train, Y_train, validation_data=(X_test,Y_test), \n",
        "              epochs=200, batch_size=32)"
      ],
      "execution_count": null,
      "outputs": [
        {
          "output_type": "stream",
          "name": "stdout",
          "text": [
            "Epoch 1/200\n",
            "11/11 [==============================] - 2s 143ms/step - loss: 0.5561 - accuracy: 0.7347 - val_loss: 0.6929 - val_accuracy: 0.5102\n",
            "Epoch 2/200\n",
            "11/11 [==============================] - 1s 121ms/step - loss: 0.2868 - accuracy: 0.8950 - val_loss: 0.6929 - val_accuracy: 0.5102\n",
            "Epoch 3/200\n",
            "11/11 [==============================] - 1s 124ms/step - loss: 0.1629 - accuracy: 0.9359 - val_loss: 0.6935 - val_accuracy: 0.5102\n",
            "Epoch 4/200\n",
            "11/11 [==============================] - 1s 120ms/step - loss: 0.1516 - accuracy: 0.9534 - val_loss: 0.6935 - val_accuracy: 0.5102\n",
            "Epoch 5/200\n",
            "11/11 [==============================] - 1s 121ms/step - loss: 0.0618 - accuracy: 0.9854 - val_loss: 0.6948 - val_accuracy: 0.5102\n",
            "Epoch 6/200\n",
            "11/11 [==============================] - 1s 123ms/step - loss: 0.0556 - accuracy: 0.9796 - val_loss: 0.6940 - val_accuracy: 0.5102\n",
            "Epoch 7/200\n",
            "11/11 [==============================] - 1s 124ms/step - loss: 0.0411 - accuracy: 0.9883 - val_loss: 0.6957 - val_accuracy: 0.5102\n",
            "Epoch 8/200\n",
            "11/11 [==============================] - 1s 124ms/step - loss: 0.0603 - accuracy: 0.9738 - val_loss: 0.6949 - val_accuracy: 0.5102\n",
            "Epoch 9/200\n",
            "11/11 [==============================] - 1s 126ms/step - loss: 0.0333 - accuracy: 0.9854 - val_loss: 0.6949 - val_accuracy: 0.5102\n",
            "Epoch 10/200\n",
            "11/11 [==============================] - 1s 130ms/step - loss: 0.0254 - accuracy: 0.9942 - val_loss: 0.6939 - val_accuracy: 0.5102\n",
            "Epoch 11/200\n",
            "11/11 [==============================] - 1s 132ms/step - loss: 0.0142 - accuracy: 0.9942 - val_loss: 0.6950 - val_accuracy: 0.5102\n",
            "Epoch 12/200\n",
            "11/11 [==============================] - 1s 126ms/step - loss: 0.0144 - accuracy: 0.9971 - val_loss: 0.6933 - val_accuracy: 0.5102\n",
            "Epoch 13/200\n",
            "11/11 [==============================] - 1s 127ms/step - loss: 0.0052 - accuracy: 1.0000 - val_loss: 0.6925 - val_accuracy: 0.5102\n",
            "Epoch 14/200\n",
            "11/11 [==============================] - 1s 127ms/step - loss: 0.0075 - accuracy: 1.0000 - val_loss: 0.6931 - val_accuracy: 0.5102\n",
            "Epoch 15/200\n",
            "11/11 [==============================] - 1s 128ms/step - loss: 0.0067 - accuracy: 1.0000 - val_loss: 0.6933 - val_accuracy: 0.5102\n",
            "Epoch 16/200\n",
            "11/11 [==============================] - 1s 131ms/step - loss: 0.0080 - accuracy: 1.0000 - val_loss: 0.6942 - val_accuracy: 0.5102\n",
            "Epoch 17/200\n",
            "11/11 [==============================] - 1s 128ms/step - loss: 0.0061 - accuracy: 1.0000 - val_loss: 0.6953 - val_accuracy: 0.5102\n",
            "Epoch 18/200\n",
            "11/11 [==============================] - 1s 123ms/step - loss: 0.0047 - accuracy: 1.0000 - val_loss: 0.6947 - val_accuracy: 0.5102\n",
            "Epoch 19/200\n",
            "11/11 [==============================] - 1s 122ms/step - loss: 0.0022 - accuracy: 1.0000 - val_loss: 0.7039 - val_accuracy: 0.5102\n",
            "Epoch 20/200\n",
            "11/11 [==============================] - 1s 127ms/step - loss: 0.0023 - accuracy: 1.0000 - val_loss: 0.7124 - val_accuracy: 0.5102\n",
            "Epoch 21/200\n",
            "11/11 [==============================] - 1s 131ms/step - loss: 0.0046 - accuracy: 0.9971 - val_loss: 0.7117 - val_accuracy: 0.5102\n",
            "Epoch 22/200\n",
            "11/11 [==============================] - 1s 132ms/step - loss: 0.0027 - accuracy: 1.0000 - val_loss: 0.7226 - val_accuracy: 0.5102\n",
            "Epoch 23/200\n",
            "11/11 [==============================] - 1s 129ms/step - loss: 0.0018 - accuracy: 1.0000 - val_loss: 0.7537 - val_accuracy: 0.5102\n",
            "Epoch 24/200\n",
            "11/11 [==============================] - 1s 130ms/step - loss: 0.0018 - accuracy: 1.0000 - val_loss: 0.7597 - val_accuracy: 0.5102\n",
            "Epoch 25/200\n",
            "11/11 [==============================] - 1s 132ms/step - loss: 0.0052 - accuracy: 0.9971 - val_loss: 0.6869 - val_accuracy: 0.5102\n",
            "Epoch 26/200\n",
            "11/11 [==============================] - 1s 130ms/step - loss: 0.0062 - accuracy: 0.9971 - val_loss: 0.6830 - val_accuracy: 0.5102\n",
            "Epoch 27/200\n",
            "11/11 [==============================] - 1s 128ms/step - loss: 0.0036 - accuracy: 0.9971 - val_loss: 0.7255 - val_accuracy: 0.5102\n",
            "Epoch 28/200\n",
            "11/11 [==============================] - 1s 130ms/step - loss: 0.0013 - accuracy: 1.0000 - val_loss: 0.7393 - val_accuracy: 0.5102\n",
            "Epoch 29/200\n",
            "11/11 [==============================] - 1s 127ms/step - loss: 0.0048 - accuracy: 0.9971 - val_loss: 0.7255 - val_accuracy: 0.5102\n",
            "Epoch 30/200\n",
            "11/11 [==============================] - 1s 129ms/step - loss: 0.0110 - accuracy: 0.9971 - val_loss: 0.8004 - val_accuracy: 0.5102\n",
            "Epoch 31/200\n",
            "11/11 [==============================] - 1s 129ms/step - loss: 0.0056 - accuracy: 0.9971 - val_loss: 0.9457 - val_accuracy: 0.5102\n",
            "Epoch 32/200\n",
            "11/11 [==============================] - 1s 133ms/step - loss: 0.0071 - accuracy: 0.9971 - val_loss: 0.7221 - val_accuracy: 0.5102\n",
            "Epoch 33/200\n",
            "11/11 [==============================] - 1s 132ms/step - loss: 0.0219 - accuracy: 0.9913 - val_loss: 1.2753 - val_accuracy: 0.5102\n",
            "Epoch 34/200\n",
            "11/11 [==============================] - 1s 131ms/step - loss: 0.0088 - accuracy: 1.0000 - val_loss: 3.0670 - val_accuracy: 0.5102\n",
            "Epoch 35/200\n",
            "11/11 [==============================] - 1s 129ms/step - loss: 0.0068 - accuracy: 0.9971 - val_loss: 2.5298 - val_accuracy: 0.5102\n",
            "Epoch 36/200\n",
            "11/11 [==============================] - 1s 131ms/step - loss: 0.0085 - accuracy: 0.9942 - val_loss: 2.1727 - val_accuracy: 0.5102\n",
            "Epoch 37/200\n",
            "11/11 [==============================] - 1s 128ms/step - loss: 0.0045 - accuracy: 1.0000 - val_loss: 2.3145 - val_accuracy: 0.5102\n",
            "Epoch 38/200\n",
            "11/11 [==============================] - 1s 128ms/step - loss: 0.0038 - accuracy: 1.0000 - val_loss: 2.4934 - val_accuracy: 0.5102\n",
            "Epoch 39/200\n",
            "11/11 [==============================] - 1s 129ms/step - loss: 0.0011 - accuracy: 1.0000 - val_loss: 2.6443 - val_accuracy: 0.5102\n",
            "Epoch 40/200\n",
            "11/11 [==============================] - 1s 132ms/step - loss: 9.1211e-04 - accuracy: 1.0000 - val_loss: 2.4968 - val_accuracy: 0.5102\n",
            "Epoch 41/200\n",
            "11/11 [==============================] - 1s 129ms/step - loss: 7.0613e-04 - accuracy: 1.0000 - val_loss: 2.4225 - val_accuracy: 0.5102\n",
            "Epoch 42/200\n",
            "11/11 [==============================] - 1s 129ms/step - loss: 0.0013 - accuracy: 1.0000 - val_loss: 2.6674 - val_accuracy: 0.5102\n",
            "Epoch 43/200\n",
            "11/11 [==============================] - 1s 130ms/step - loss: 1.9980e-04 - accuracy: 1.0000 - val_loss: 2.8491 - val_accuracy: 0.5102\n",
            "Epoch 44/200\n",
            "11/11 [==============================] - 1s 129ms/step - loss: 3.0520e-04 - accuracy: 1.0000 - val_loss: 2.7936 - val_accuracy: 0.5102\n",
            "Epoch 45/200\n",
            "11/11 [==============================] - 1s 128ms/step - loss: 4.7346e-04 - accuracy: 1.0000 - val_loss: 2.7594 - val_accuracy: 0.5102\n",
            "Epoch 46/200\n",
            "11/11 [==============================] - 1s 134ms/step - loss: 1.7711e-04 - accuracy: 1.0000 - val_loss: 2.7195 - val_accuracy: 0.5102\n",
            "Epoch 47/200\n",
            "11/11 [==============================] - 1s 131ms/step - loss: 1.3442e-04 - accuracy: 1.0000 - val_loss: 2.6997 - val_accuracy: 0.5102\n",
            "Epoch 48/200\n",
            "11/11 [==============================] - 1s 129ms/step - loss: 4.0137e-04 - accuracy: 1.0000 - val_loss: 2.6881 - val_accuracy: 0.5102\n",
            "Epoch 49/200\n",
            "11/11 [==============================] - 1s 130ms/step - loss: 1.1198e-04 - accuracy: 1.0000 - val_loss: 2.7373 - val_accuracy: 0.5102\n",
            "Epoch 50/200\n",
            "11/11 [==============================] - 1s 130ms/step - loss: 3.4084e-04 - accuracy: 1.0000 - val_loss: 2.8007 - val_accuracy: 0.5102\n",
            "Epoch 51/200\n",
            "11/11 [==============================] - 1s 132ms/step - loss: 3.2788e-04 - accuracy: 1.0000 - val_loss: 2.8273 - val_accuracy: 0.5102\n",
            "Epoch 52/200\n",
            "11/11 [==============================] - 1s 131ms/step - loss: 4.6070e-04 - accuracy: 1.0000 - val_loss: 2.9339 - val_accuracy: 0.5102\n",
            "Epoch 53/200\n",
            "11/11 [==============================] - 1s 132ms/step - loss: 4.7260e-04 - accuracy: 1.0000 - val_loss: 3.2197 - val_accuracy: 0.5102\n",
            "Epoch 54/200\n",
            "11/11 [==============================] - 1s 133ms/step - loss: 2.4293e-04 - accuracy: 1.0000 - val_loss: 3.6415 - val_accuracy: 0.5102\n",
            "Epoch 55/200\n",
            "11/11 [==============================] - 1s 133ms/step - loss: 4.2456e-04 - accuracy: 1.0000 - val_loss: 3.5237 - val_accuracy: 0.5102\n",
            "Epoch 56/200\n",
            "11/11 [==============================] - 1s 130ms/step - loss: 1.1921e-04 - accuracy: 1.0000 - val_loss: 3.4713 - val_accuracy: 0.5102\n",
            "Epoch 57/200\n",
            "11/11 [==============================] - 1s 131ms/step - loss: 3.6118e-04 - accuracy: 1.0000 - val_loss: 3.3308 - val_accuracy: 0.5102\n",
            "Epoch 58/200\n",
            "11/11 [==============================] - 1s 129ms/step - loss: 2.0621e-04 - accuracy: 1.0000 - val_loss: 2.8407 - val_accuracy: 0.5102\n",
            "Epoch 59/200\n",
            "11/11 [==============================] - 1s 128ms/step - loss: 2.3848e-04 - accuracy: 1.0000 - val_loss: 2.6690 - val_accuracy: 0.5102\n",
            "Epoch 60/200\n",
            "11/11 [==============================] - 1s 134ms/step - loss: 0.0015 - accuracy: 1.0000 - val_loss: 5.6635 - val_accuracy: 0.5102\n",
            "Epoch 61/200\n",
            "11/11 [==============================] - 1s 131ms/step - loss: 0.0022 - accuracy: 0.9971 - val_loss: 0.8368 - val_accuracy: 0.6190\n",
            "Epoch 62/200\n",
            "11/11 [==============================] - 1s 132ms/step - loss: 0.0625 - accuracy: 0.9825 - val_loss: 117.1845 - val_accuracy: 0.5102\n",
            "Epoch 63/200\n",
            "11/11 [==============================] - 1s 131ms/step - loss: 0.1379 - accuracy: 0.9475 - val_loss: 184.5304 - val_accuracy: 0.5102\n",
            "Epoch 64/200\n",
            "11/11 [==============================] - 1s 133ms/step - loss: 0.0524 - accuracy: 0.9883 - val_loss: 148.3917 - val_accuracy: 0.5102\n",
            "Epoch 65/200\n",
            "11/11 [==============================] - 1s 132ms/step - loss: 0.0452 - accuracy: 0.9883 - val_loss: 105.1352 - val_accuracy: 0.5102\n",
            "Epoch 66/200\n",
            "11/11 [==============================] - 1s 130ms/step - loss: 0.0494 - accuracy: 0.9825 - val_loss: 33.0823 - val_accuracy: 0.5102\n",
            "Epoch 67/200\n",
            "11/11 [==============================] - 1s 131ms/step - loss: 0.0270 - accuracy: 0.9913 - val_loss: 52.2739 - val_accuracy: 0.5102\n",
            "Epoch 68/200\n",
            "11/11 [==============================] - 1s 130ms/step - loss: 0.0233 - accuracy: 0.9913 - val_loss: 95.7957 - val_accuracy: 0.5102\n",
            "Epoch 69/200\n",
            "11/11 [==============================] - 1s 132ms/step - loss: 0.0094 - accuracy: 0.9971 - val_loss: 79.5910 - val_accuracy: 0.5102\n",
            "Epoch 70/200\n",
            "11/11 [==============================] - 1s 131ms/step - loss: 0.0055 - accuracy: 1.0000 - val_loss: 88.1277 - val_accuracy: 0.5102\n",
            "Epoch 71/200\n",
            "11/11 [==============================] - 1s 130ms/step - loss: 0.0014 - accuracy: 1.0000 - val_loss: 87.0957 - val_accuracy: 0.5102\n",
            "Epoch 72/200\n",
            "11/11 [==============================] - 1s 133ms/step - loss: 0.0016 - accuracy: 1.0000 - val_loss: 77.4077 - val_accuracy: 0.5102\n",
            "Epoch 73/200\n",
            "11/11 [==============================] - 1s 134ms/step - loss: 0.0057 - accuracy: 0.9971 - val_loss: 62.2688 - val_accuracy: 0.5102\n",
            "Epoch 74/200\n",
            "11/11 [==============================] - 1s 137ms/step - loss: 0.0037 - accuracy: 1.0000 - val_loss: 40.8651 - val_accuracy: 0.5102\n",
            "Epoch 75/200\n",
            "11/11 [==============================] - 1s 135ms/step - loss: 0.0046 - accuracy: 1.0000 - val_loss: 54.0941 - val_accuracy: 0.5102\n",
            "Epoch 76/200\n",
            "11/11 [==============================] - 2s 137ms/step - loss: 0.0024 - accuracy: 1.0000 - val_loss: 63.7414 - val_accuracy: 0.5102\n",
            "Epoch 77/200\n",
            "11/11 [==============================] - 1s 136ms/step - loss: 0.0025 - accuracy: 1.0000 - val_loss: 45.5183 - val_accuracy: 0.5102\n",
            "Epoch 78/200\n",
            "11/11 [==============================] - 2s 141ms/step - loss: 0.0029 - accuracy: 1.0000 - val_loss: 34.5834 - val_accuracy: 0.5102\n",
            "Epoch 79/200\n",
            "11/11 [==============================] - 1s 138ms/step - loss: 0.0022 - accuracy: 1.0000 - val_loss: 41.1953 - val_accuracy: 0.5102\n",
            "Epoch 80/200\n",
            "11/11 [==============================] - 2s 138ms/step - loss: 2.6602e-04 - accuracy: 1.0000 - val_loss: 50.6385 - val_accuracy: 0.5102\n",
            "Epoch 81/200\n",
            "11/11 [==============================] - 1s 135ms/step - loss: 5.8148e-04 - accuracy: 1.0000 - val_loss: 49.2426 - val_accuracy: 0.5102\n",
            "Epoch 82/200\n",
            "11/11 [==============================] - 1s 135ms/step - loss: 5.7901e-04 - accuracy: 1.0000 - val_loss: 44.9641 - val_accuracy: 0.5102\n",
            "Epoch 83/200\n",
            "11/11 [==============================] - 2s 140ms/step - loss: 6.3664e-04 - accuracy: 1.0000 - val_loss: 41.2774 - val_accuracy: 0.5102\n",
            "Epoch 84/200\n",
            "11/11 [==============================] - 1s 135ms/step - loss: 0.0056 - accuracy: 1.0000 - val_loss: 31.0692 - val_accuracy: 0.5102\n",
            "Epoch 85/200\n",
            "11/11 [==============================] - 2s 138ms/step - loss: 0.0012 - accuracy: 1.0000 - val_loss: 29.8056 - val_accuracy: 0.5102\n",
            "Epoch 86/200\n",
            "11/11 [==============================] - 1s 134ms/step - loss: 0.0024 - accuracy: 1.0000 - val_loss: 26.2920 - val_accuracy: 0.5102\n",
            "Epoch 87/200\n",
            "11/11 [==============================] - 1s 136ms/step - loss: 1.4049e-04 - accuracy: 1.0000 - val_loss: 22.4245 - val_accuracy: 0.5102\n",
            "Epoch 88/200\n",
            "11/11 [==============================] - 2s 137ms/step - loss: 2.8118e-04 - accuracy: 1.0000 - val_loss: 19.1516 - val_accuracy: 0.5102\n",
            "Epoch 89/200\n",
            "11/11 [==============================] - 2s 150ms/step - loss: 1.9356e-04 - accuracy: 1.0000 - val_loss: 16.1125 - val_accuracy: 0.5102\n",
            "Epoch 90/200\n",
            "11/11 [==============================] - 2s 169ms/step - loss: 1.2672e-04 - accuracy: 1.0000 - val_loss: 13.5262 - val_accuracy: 0.5102\n",
            "Epoch 91/200\n",
            "11/11 [==============================] - 2s 172ms/step - loss: 5.4897e-04 - accuracy: 1.0000 - val_loss: 13.2962 - val_accuracy: 0.5102\n",
            "Epoch 92/200\n",
            "11/11 [==============================] - 2s 201ms/step - loss: 9.5906e-04 - accuracy: 1.0000 - val_loss: 13.6230 - val_accuracy: 0.5102\n",
            "Epoch 93/200\n",
            "11/11 [==============================] - 2s 150ms/step - loss: 2.0082e-04 - accuracy: 1.0000 - val_loss: 9.3761 - val_accuracy: 0.5102\n",
            "Epoch 94/200\n",
            "11/11 [==============================] - 1s 137ms/step - loss: 7.7236e-05 - accuracy: 1.0000 - val_loss: 7.7175 - val_accuracy: 0.5102\n",
            "Epoch 95/200\n",
            "11/11 [==============================] - 1s 135ms/step - loss: 0.0012 - accuracy: 1.0000 - val_loss: 7.5296 - val_accuracy: 0.5102\n",
            "Epoch 96/200\n",
            "11/11 [==============================] - 1s 136ms/step - loss: 1.7948e-04 - accuracy: 1.0000 - val_loss: 7.4385 - val_accuracy: 0.5102\n",
            "Epoch 97/200\n",
            "11/11 [==============================] - 1s 133ms/step - loss: 0.0043 - accuracy: 0.9971 - val_loss: 10.8086 - val_accuracy: 0.5102\n",
            "Epoch 98/200\n",
            "11/11 [==============================] - 2s 143ms/step - loss: 0.0012 - accuracy: 1.0000 - val_loss: 15.4189 - val_accuracy: 0.5102\n",
            "Epoch 99/200\n",
            "11/11 [==============================] - 1s 137ms/step - loss: 0.0011 - accuracy: 1.0000 - val_loss: 13.1625 - val_accuracy: 0.5102\n",
            "Epoch 100/200\n",
            "11/11 [==============================] - 2s 137ms/step - loss: 0.0023 - accuracy: 1.0000 - val_loss: 11.6152 - val_accuracy: 0.5102\n",
            "Epoch 101/200\n",
            "11/11 [==============================] - 1s 134ms/step - loss: 2.0690e-04 - accuracy: 1.0000 - val_loss: 18.3456 - val_accuracy: 0.5102\n",
            "Epoch 102/200\n",
            "11/11 [==============================] - 1s 135ms/step - loss: 9.0757e-04 - accuracy: 1.0000 - val_loss: 16.6047 - val_accuracy: 0.5102\n",
            "Epoch 103/200\n",
            "11/11 [==============================] - 2s 137ms/step - loss: 0.0115 - accuracy: 0.9942 - val_loss: 8.3374 - val_accuracy: 0.5102\n",
            "Epoch 104/200\n",
            "11/11 [==============================] - 1s 136ms/step - loss: 0.0024 - accuracy: 1.0000 - val_loss: 6.0260 - val_accuracy: 0.5102\n",
            "Epoch 105/200\n",
            "11/11 [==============================] - 2s 152ms/step - loss: 4.9006e-04 - accuracy: 1.0000 - val_loss: 7.1260 - val_accuracy: 0.5102\n",
            "Epoch 106/200\n",
            "11/11 [==============================] - 2s 160ms/step - loss: 0.0060 - accuracy: 0.9971 - val_loss: 11.0164 - val_accuracy: 0.5102\n",
            "Epoch 107/200\n",
            "11/11 [==============================] - 2s 149ms/step - loss: 0.0083 - accuracy: 0.9971 - val_loss: 7.3952 - val_accuracy: 0.5102\n",
            "Epoch 108/200\n",
            "11/11 [==============================] - 2s 140ms/step - loss: 0.0140 - accuracy: 0.9942 - val_loss: 13.0821 - val_accuracy: 0.5102\n",
            "Epoch 109/200\n",
            "11/11 [==============================] - 2s 144ms/step - loss: 0.0011 - accuracy: 1.0000 - val_loss: 17.5726 - val_accuracy: 0.5102\n",
            "Epoch 110/200\n",
            "11/11 [==============================] - 2s 152ms/step - loss: 1.8911e-04 - accuracy: 1.0000 - val_loss: 16.4749 - val_accuracy: 0.5102\n",
            "Epoch 111/200\n",
            "11/11 [==============================] - 2s 160ms/step - loss: 0.0035 - accuracy: 0.9971 - val_loss: 15.9359 - val_accuracy: 0.5102\n",
            "Epoch 112/200\n",
            "11/11 [==============================] - 2s 148ms/step - loss: 4.2189e-04 - accuracy: 1.0000 - val_loss: 14.8483 - val_accuracy: 0.5102\n",
            "Epoch 113/200\n",
            "11/11 [==============================] - 2s 163ms/step - loss: 4.5845e-04 - accuracy: 1.0000 - val_loss: 13.7191 - val_accuracy: 0.5102\n",
            "Epoch 114/200\n",
            "11/11 [==============================] - 2s 155ms/step - loss: 2.4734e-04 - accuracy: 1.0000 - val_loss: 12.2325 - val_accuracy: 0.5102\n",
            "Epoch 115/200\n",
            "11/11 [==============================] - 2s 162ms/step - loss: 4.2571e-04 - accuracy: 1.0000 - val_loss: 10.7843 - val_accuracy: 0.5102\n",
            "Epoch 116/200\n",
            "11/11 [==============================] - 2s 154ms/step - loss: 2.1376e-04 - accuracy: 1.0000 - val_loss: 8.9576 - val_accuracy: 0.5102\n",
            "Epoch 117/200\n",
            "11/11 [==============================] - 2s 139ms/step - loss: 5.7542e-05 - accuracy: 1.0000 - val_loss: 7.7090 - val_accuracy: 0.5102\n",
            "Epoch 118/200\n",
            "11/11 [==============================] - 2s 152ms/step - loss: 1.6691e-04 - accuracy: 1.0000 - val_loss: 6.7059 - val_accuracy: 0.5102\n",
            "Epoch 119/200\n",
            "11/11 [==============================] - 2s 150ms/step - loss: 3.0403e-04 - accuracy: 1.0000 - val_loss: 6.0410 - val_accuracy: 0.5102\n",
            "Epoch 120/200\n",
            "11/11 [==============================] - 2s 168ms/step - loss: 7.7147e-05 - accuracy: 1.0000 - val_loss: 5.4889 - val_accuracy: 0.5102\n",
            "Epoch 121/200\n",
            "11/11 [==============================] - 2s 153ms/step - loss: 8.7396e-05 - accuracy: 1.0000 - val_loss: 4.9400 - val_accuracy: 0.5102\n",
            "Epoch 122/200\n",
            "11/11 [==============================] - 2s 151ms/step - loss: 5.5789e-05 - accuracy: 1.0000 - val_loss: 4.4533 - val_accuracy: 0.5102\n",
            "Epoch 123/200\n",
            "11/11 [==============================] - 2s 152ms/step - loss: 2.1807e-04 - accuracy: 1.0000 - val_loss: 3.9051 - val_accuracy: 0.5102\n",
            "Epoch 124/200\n",
            "11/11 [==============================] - 2s 169ms/step - loss: 2.2419e-05 - accuracy: 1.0000 - val_loss: 3.3964 - val_accuracy: 0.5102\n",
            "Epoch 125/200\n",
            "11/11 [==============================] - 2s 156ms/step - loss: 2.8085e-05 - accuracy: 1.0000 - val_loss: 2.9829 - val_accuracy: 0.5102\n",
            "Epoch 126/200\n",
            "11/11 [==============================] - 2s 159ms/step - loss: 7.4592e-05 - accuracy: 1.0000 - val_loss: 2.5023 - val_accuracy: 0.5102\n",
            "Epoch 127/200\n",
            "11/11 [==============================] - 2s 168ms/step - loss: 5.4327e-05 - accuracy: 1.0000 - val_loss: 2.1073 - val_accuracy: 0.5102\n",
            "Epoch 128/200\n",
            "11/11 [==============================] - 2s 160ms/step - loss: 5.9575e-05 - accuracy: 1.0000 - val_loss: 1.7365 - val_accuracy: 0.5306\n",
            "Epoch 129/200\n",
            "11/11 [==============================] - 2s 166ms/step - loss: 1.0996e-04 - accuracy: 1.0000 - val_loss: 1.6307 - val_accuracy: 0.5578\n",
            "Epoch 130/200\n",
            "11/11 [==============================] - 2s 166ms/step - loss: 1.9007e-05 - accuracy: 1.0000 - val_loss: 1.4412 - val_accuracy: 0.6122\n",
            "Epoch 131/200\n",
            "11/11 [==============================] - 2s 155ms/step - loss: 2.0290e-05 - accuracy: 1.0000 - val_loss: 1.1856 - val_accuracy: 0.6599\n",
            "Epoch 132/200\n",
            "11/11 [==============================] - 1s 133ms/step - loss: 1.1993e-04 - accuracy: 1.0000 - val_loss: 0.9067 - val_accuracy: 0.7007\n",
            "Epoch 133/200\n",
            "11/11 [==============================] - 2s 137ms/step - loss: 1.1115e-04 - accuracy: 1.0000 - val_loss: 1.2794 - val_accuracy: 0.6667\n",
            "Epoch 134/200\n",
            "11/11 [==============================] - 2s 138ms/step - loss: 1.3792e-05 - accuracy: 1.0000 - val_loss: 1.1840 - val_accuracy: 0.6803\n",
            "Epoch 135/200\n",
            "11/11 [==============================] - 1s 137ms/step - loss: 8.3226e-05 - accuracy: 1.0000 - val_loss: 1.1697 - val_accuracy: 0.6803\n",
            "Epoch 136/200\n",
            "11/11 [==============================] - 1s 136ms/step - loss: 1.6967e-04 - accuracy: 1.0000 - val_loss: 1.0181 - val_accuracy: 0.6803\n",
            "Epoch 137/200\n",
            "11/11 [==============================] - 2s 143ms/step - loss: 4.1711e-05 - accuracy: 1.0000 - val_loss: 0.8417 - val_accuracy: 0.7143\n",
            "Epoch 138/200\n",
            "11/11 [==============================] - 2s 148ms/step - loss: 2.6991e-05 - accuracy: 1.0000 - val_loss: 0.6969 - val_accuracy: 0.7755\n",
            "Epoch 139/200\n",
            "11/11 [==============================] - 2s 171ms/step - loss: 1.2104e-04 - accuracy: 1.0000 - val_loss: 0.3684 - val_accuracy: 0.8639\n",
            "Epoch 140/200\n",
            "11/11 [==============================] - 2s 153ms/step - loss: 2.1358e-05 - accuracy: 1.0000 - val_loss: 0.3074 - val_accuracy: 0.8980\n",
            "Epoch 141/200\n",
            "11/11 [==============================] - 2s 149ms/step - loss: 2.0729e-05 - accuracy: 1.0000 - val_loss: 0.3385 - val_accuracy: 0.9048\n",
            "Epoch 142/200\n",
            "11/11 [==============================] - 2s 150ms/step - loss: 1.8857e-05 - accuracy: 1.0000 - val_loss: 0.2901 - val_accuracy: 0.9184\n",
            "Epoch 143/200\n",
            "11/11 [==============================] - 2s 148ms/step - loss: 1.0526e-05 - accuracy: 1.0000 - val_loss: 0.2668 - val_accuracy: 0.9252\n",
            "Epoch 144/200\n",
            "11/11 [==============================] - 2s 146ms/step - loss: 1.3513e-04 - accuracy: 1.0000 - val_loss: 0.2149 - val_accuracy: 0.9524\n",
            "Epoch 145/200\n",
            "11/11 [==============================] - 2s 143ms/step - loss: 5.0715e-05 - accuracy: 1.0000 - val_loss: 0.2110 - val_accuracy: 0.9592\n",
            "Epoch 146/200\n",
            "11/11 [==============================] - 2s 144ms/step - loss: 2.4819e-05 - accuracy: 1.0000 - val_loss: 0.2032 - val_accuracy: 0.9592\n",
            "Epoch 147/200\n",
            "11/11 [==============================] - 2s 139ms/step - loss: 3.3840e-05 - accuracy: 1.0000 - val_loss: 0.1920 - val_accuracy: 0.9592\n",
            "Epoch 148/200\n",
            "11/11 [==============================] - 2s 144ms/step - loss: 1.1651e-04 - accuracy: 1.0000 - val_loss: 0.2513 - val_accuracy: 0.9320\n",
            "Epoch 149/200\n",
            "11/11 [==============================] - 2s 157ms/step - loss: 2.8575e-04 - accuracy: 1.0000 - val_loss: 4.0787 - val_accuracy: 0.5102\n",
            "Epoch 150/200\n",
            "11/11 [==============================] - 2s 141ms/step - loss: 4.6416e-05 - accuracy: 1.0000 - val_loss: 5.4311 - val_accuracy: 0.5102\n",
            "Epoch 151/200\n",
            "11/11 [==============================] - 2s 140ms/step - loss: 7.8647e-05 - accuracy: 1.0000 - val_loss: 5.3530 - val_accuracy: 0.5102\n",
            "Epoch 152/200\n",
            "11/11 [==============================] - 2s 140ms/step - loss: 2.3729e-05 - accuracy: 1.0000 - val_loss: 4.7934 - val_accuracy: 0.5102\n",
            "Epoch 153/200\n",
            "11/11 [==============================] - 2s 148ms/step - loss: 2.2519e-04 - accuracy: 1.0000 - val_loss: 4.0919 - val_accuracy: 0.5102\n",
            "Epoch 154/200\n",
            "11/11 [==============================] - 2s 142ms/step - loss: 8.7654e-06 - accuracy: 1.0000 - val_loss: 4.5293 - val_accuracy: 0.5102\n",
            "Epoch 155/200\n",
            "11/11 [==============================] - 2s 144ms/step - loss: 2.1387e-05 - accuracy: 1.0000 - val_loss: 4.2245 - val_accuracy: 0.5170\n",
            "Epoch 156/200\n",
            "11/11 [==============================] - 2s 147ms/step - loss: 3.9638e-05 - accuracy: 1.0000 - val_loss: 3.7996 - val_accuracy: 0.5306\n",
            "Epoch 157/200\n",
            "11/11 [==============================] - 2s 138ms/step - loss: 1.7527e-05 - accuracy: 1.0000 - val_loss: 3.1792 - val_accuracy: 0.5714\n",
            "Epoch 158/200\n",
            "11/11 [==============================] - 2s 139ms/step - loss: 1.2571e-05 - accuracy: 1.0000 - val_loss: 2.6039 - val_accuracy: 0.5986\n",
            "Epoch 159/200\n",
            "11/11 [==============================] - 2s 141ms/step - loss: 4.7793e-05 - accuracy: 1.0000 - val_loss: 2.0700 - val_accuracy: 0.6395\n",
            "Epoch 160/200\n",
            "11/11 [==============================] - 2s 143ms/step - loss: 1.3721e-05 - accuracy: 1.0000 - val_loss: 1.5158 - val_accuracy: 0.6871\n",
            "Epoch 161/200\n",
            "11/11 [==============================] - 2s 144ms/step - loss: 5.0735e-05 - accuracy: 1.0000 - val_loss: 0.6591 - val_accuracy: 0.8163\n",
            "Epoch 162/200\n",
            "11/11 [==============================] - 2s 139ms/step - loss: 2.8007e-05 - accuracy: 1.0000 - val_loss: 0.3280 - val_accuracy: 0.9116\n",
            "Epoch 163/200\n",
            "11/11 [==============================] - 2s 142ms/step - loss: 3.4076e-05 - accuracy: 1.0000 - val_loss: 0.2372 - val_accuracy: 0.9524\n",
            "Epoch 164/200\n",
            "11/11 [==============================] - 2s 142ms/step - loss: 1.0520e-05 - accuracy: 1.0000 - val_loss: 0.1927 - val_accuracy: 0.9660\n",
            "Epoch 165/200\n",
            "11/11 [==============================] - 2s 140ms/step - loss: 1.5390e-05 - accuracy: 1.0000 - val_loss: 0.1799 - val_accuracy: 0.9728\n",
            "Epoch 166/200\n",
            "11/11 [==============================] - 2s 143ms/step - loss: 1.1012e-05 - accuracy: 1.0000 - val_loss: 0.1750 - val_accuracy: 0.9728\n",
            "Epoch 167/200\n",
            "11/11 [==============================] - 2s 157ms/step - loss: 5.1635e-05 - accuracy: 1.0000 - val_loss: 0.1741 - val_accuracy: 0.9728\n",
            "Epoch 168/200\n",
            "11/11 [==============================] - 2s 141ms/step - loss: 3.0531e-05 - accuracy: 1.0000 - val_loss: 0.1783 - val_accuracy: 0.9728\n",
            "Epoch 169/200\n",
            "11/11 [==============================] - 2s 150ms/step - loss: 1.5516e-04 - accuracy: 1.0000 - val_loss: 0.2021 - val_accuracy: 0.9796\n",
            "Epoch 170/200\n",
            "11/11 [==============================] - 2s 145ms/step - loss: 4.6665e-05 - accuracy: 1.0000 - val_loss: 0.3686 - val_accuracy: 0.9320\n",
            "Epoch 171/200\n",
            "11/11 [==============================] - 2s 154ms/step - loss: 2.7357e-05 - accuracy: 1.0000 - val_loss: 0.4094 - val_accuracy: 0.9252\n",
            "Epoch 172/200\n",
            "11/11 [==============================] - 2s 152ms/step - loss: 7.0989e-06 - accuracy: 1.0000 - val_loss: 0.3730 - val_accuracy: 0.9320\n",
            "Epoch 173/200\n",
            "11/11 [==============================] - 2s 153ms/step - loss: 6.8639e-06 - accuracy: 1.0000 - val_loss: 0.3279 - val_accuracy: 0.9524\n",
            "Epoch 174/200\n",
            "11/11 [==============================] - 2s 152ms/step - loss: 1.0322e-04 - accuracy: 1.0000 - val_loss: 0.3326 - val_accuracy: 0.9456\n",
            "Epoch 175/200\n",
            "11/11 [==============================] - 2s 173ms/step - loss: 1.1332e-05 - accuracy: 1.0000 - val_loss: 0.2972 - val_accuracy: 0.9592\n",
            "Epoch 176/200\n",
            "11/11 [==============================] - 2s 156ms/step - loss: 1.7007e-05 - accuracy: 1.0000 - val_loss: 0.2635 - val_accuracy: 0.9728\n",
            "Epoch 177/200\n",
            "11/11 [==============================] - 2s 144ms/step - loss: 8.6960e-06 - accuracy: 1.0000 - val_loss: 0.2436 - val_accuracy: 0.9728\n",
            "Epoch 178/200\n",
            "11/11 [==============================] - 2s 148ms/step - loss: 2.2569e-05 - accuracy: 1.0000 - val_loss: 0.2311 - val_accuracy: 0.9728\n",
            "Epoch 179/200\n",
            "11/11 [==============================] - 2s 148ms/step - loss: 5.1762e-05 - accuracy: 1.0000 - val_loss: 0.2178 - val_accuracy: 0.9728\n",
            "Epoch 180/200\n",
            "11/11 [==============================] - 2s 143ms/step - loss: 3.1371e-05 - accuracy: 1.0000 - val_loss: 0.2229 - val_accuracy: 0.9796\n",
            "Epoch 181/200\n",
            "11/11 [==============================] - 2s 147ms/step - loss: 6.1240e-05 - accuracy: 1.0000 - val_loss: 0.2270 - val_accuracy: 0.9796\n",
            "Epoch 182/200\n",
            "11/11 [==============================] - 2s 164ms/step - loss: 2.5983e-05 - accuracy: 1.0000 - val_loss: 0.2306 - val_accuracy: 0.9796\n",
            "Epoch 183/200\n",
            "11/11 [==============================] - 2s 142ms/step - loss: 6.5786e-06 - accuracy: 1.0000 - val_loss: 0.2336 - val_accuracy: 0.9796\n",
            "Epoch 184/200\n",
            "11/11 [==============================] - 2s 177ms/step - loss: 5.6748e-05 - accuracy: 1.0000 - val_loss: 0.2350 - val_accuracy: 0.9796\n",
            "Epoch 185/200\n",
            "11/11 [==============================] - 2s 149ms/step - loss: 9.3941e-06 - accuracy: 1.0000 - val_loss: 0.2352 - val_accuracy: 0.9796\n",
            "Epoch 186/200\n",
            "11/11 [==============================] - 2s 152ms/step - loss: 4.9467e-05 - accuracy: 1.0000 - val_loss: 0.2355 - val_accuracy: 0.9796\n",
            "Epoch 187/200\n",
            "11/11 [==============================] - 2s 174ms/step - loss: 8.0774e-05 - accuracy: 1.0000 - val_loss: 0.2365 - val_accuracy: 0.9796\n",
            "Epoch 188/200\n",
            "11/11 [==============================] - 2s 161ms/step - loss: 3.0233e-05 - accuracy: 1.0000 - val_loss: 0.2330 - val_accuracy: 0.9796\n",
            "Epoch 189/200\n",
            "11/11 [==============================] - 2s 151ms/step - loss: 3.1944e-05 - accuracy: 1.0000 - val_loss: 0.2244 - val_accuracy: 0.9796\n",
            "Epoch 190/200\n",
            "11/11 [==============================] - 2s 172ms/step - loss: 2.1395e-05 - accuracy: 1.0000 - val_loss: 0.2230 - val_accuracy: 0.9796\n",
            "Epoch 191/200\n",
            "11/11 [==============================] - 2s 156ms/step - loss: 1.2422e-05 - accuracy: 1.0000 - val_loss: 0.2256 - val_accuracy: 0.9796\n",
            "Epoch 192/200\n",
            "11/11 [==============================] - 2s 154ms/step - loss: 1.3502e-05 - accuracy: 1.0000 - val_loss: 0.2270 - val_accuracy: 0.9796\n",
            "Epoch 193/200\n",
            "11/11 [==============================] - 2s 158ms/step - loss: 1.1323e-04 - accuracy: 1.0000 - val_loss: 0.2283 - val_accuracy: 0.9796\n",
            "Epoch 194/200\n",
            "11/11 [==============================] - 2s 149ms/step - loss: 2.9256e-06 - accuracy: 1.0000 - val_loss: 0.2243 - val_accuracy: 0.9796\n",
            "Epoch 195/200\n",
            "11/11 [==============================] - 2s 147ms/step - loss: 6.0225e-05 - accuracy: 1.0000 - val_loss: 0.2279 - val_accuracy: 0.9796\n",
            "Epoch 196/200\n",
            "11/11 [==============================] - 2s 159ms/step - loss: 9.9388e-06 - accuracy: 1.0000 - val_loss: 0.2285 - val_accuracy: 0.9796\n",
            "Epoch 197/200\n",
            "11/11 [==============================] - 2s 142ms/step - loss: 1.5650e-05 - accuracy: 1.0000 - val_loss: 0.2298 - val_accuracy: 0.9796\n",
            "Epoch 198/200\n",
            "11/11 [==============================] - 2s 155ms/step - loss: 2.4143e-05 - accuracy: 1.0000 - val_loss: 0.2315 - val_accuracy: 0.9796\n",
            "Epoch 199/200\n",
            "11/11 [==============================] - 2s 150ms/step - loss: 6.2941e-05 - accuracy: 1.0000 - val_loss: 0.2272 - val_accuracy: 0.9728\n",
            "Epoch 200/200\n",
            "11/11 [==============================] - 2s 146ms/step - loss: 1.0765e-05 - accuracy: 1.0000 - val_loss: 0.2274 - val_accuracy: 0.9728\n"
          ]
        }
      ]
    },
    {
      "cell_type": "code",
      "metadata": {
        "id": "cSTlOSUBWMpj"
      },
      "source": [
        "Y_test = yback(Y_test)"
      ],
      "execution_count": null,
      "outputs": []
    },
    {
      "cell_type": "code",
      "metadata": {
        "id": "yEE2dRY62O66"
      },
      "source": [
        "pred_test= model.predict(X_test)\n",
        "Rows, Cols = pred_test.shape\n",
        "Prediction =[]\n",
        "for i in range(Rows):\n",
        "  if(pred_test[0,0] > pred_test[0,1]):\n",
        "    Prediction.append(0)\n",
        "  else:\n",
        "    Prediction.append(1)"
      ],
      "execution_count": null,
      "outputs": []
    },
    {
      "cell_type": "code",
      "metadata": {
        "id": "qIPQG40CyIXq",
        "colab": {
          "base_uri": "https://localhost:8080/"
        },
        "outputId": "3b84ab75-c353-4ad6-ca6b-fc59666d6310"
      },
      "source": [
        "# pred_test= model.predict_classes(X_test)\n",
        "pred_test = np.argmax(model.predict(X_test), axis=-1)\n",
        "\n",
        "data = {'y_true': Y_test,'y_predict': pred_test}  # este dado esta no formato de dicionario\n",
        "\n",
        "df = pd.DataFrame(data, columns=['y_true','y_predict'])\n",
        "\n",
        "\n",
        "confusion_matrix = pd.crosstab(df['y_true'], df['y_predict'], rownames=['Actual'], colnames=['Predict'])\n",
        "print(confusion_matrix)\n",
        "\n",
        "y_true = df['y_true']\n",
        "y_pred = df['y_predict']\n",
        "  \n",
        "METRICS=sklearn.metrics.classification_report(y_true, y_pred)"
      ],
      "execution_count": null,
      "outputs": [
        {
          "output_type": "stream",
          "name": "stdout",
          "text": [
            "Predict   0   1\n",
            "Actual         \n",
            "0        70   2\n",
            "1         2  73\n"
          ]
        }
      ]
    },
    {
      "cell_type": "code",
      "metadata": {
        "id": "vJ3YoP6I0axi",
        "colab": {
          "base_uri": "https://localhost:8080/"
        },
        "outputId": "a169d06d-7f8d-497c-b105-236a112309e3"
      },
      "source": [
        "print(METRICS)"
      ],
      "execution_count": null,
      "outputs": [
        {
          "output_type": "stream",
          "name": "stdout",
          "text": [
            "              precision    recall  f1-score   support\n",
            "\n",
            "           0       0.97      0.97      0.97        72\n",
            "           1       0.97      0.97      0.97        75\n",
            "\n",
            "    accuracy                           0.97       147\n",
            "   macro avg       0.97      0.97      0.97       147\n",
            "weighted avg       0.97      0.97      0.97       147\n",
            "\n"
          ]
        }
      ]
    },
    {
      "cell_type": "code",
      "metadata": {
        "id": "_iFNNrlWV9tH"
      },
      "source": [
        "#pred_test"
      ],
      "execution_count": null,
      "outputs": []
    },
    {
      "cell_type": "code",
      "metadata": {
        "id": "QISvYcJBgWbE",
        "colab": {
          "base_uri": "https://localhost:8080/"
        },
        "outputId": "a8eadcf9-78a6-4722-8f6f-11f5595d9fb4"
      },
      "source": [
        "cont = 0; num =25\n",
        "img_graos = []\n",
        "Width_new = []\n",
        "img=ww[2] \n",
        "while( cont < num):\n",
        "  df=Segmenta(img)\n",
        "  df_ann =df.copy()\n",
        "  Width = df['Width']\n",
        "  del df_ann['Width']\n",
        "  result = np.array(df_ann)\n",
        "  result = result.reshape(-1, Img_Size, Img_Size, 1) / 255.0\n",
        "  prediction_02 = model.predict(result)\n",
        "  Rows, Cols = prediction_02.shape\n",
        "  Prediction =[]\n",
        "  for i in range(Rows):\n",
        "    if(prediction_02[0,0] > prediction_02[0,1]):\n",
        "      Prediction.append(0)\n",
        "    else:\n",
        "      Prediction.append(1)\n",
        "  loc_grao =[];k=0\n",
        "  for i in Prediction:\n",
        "    if( i == 0):\n",
        "      img_graos.append(df.iloc[k,:])\n",
        "      Width_new.append(Width.iloc[k])\n",
        "      cont = cont + 1\n",
        "    k = k +1\n",
        "img_graos = pd.DataFrame(img_graos)\n",
        "print(img_graos)"
      ],
      "execution_count": null,
      "outputs": [
        {
          "output_type": "stream",
          "name": "stdout",
          "text": [
            "    Width           0           1  ...         781         782         783\n",
            "0   179.0  143.110397  143.200531  ...    7.936738    1.423832    0.163697\n",
            "1   151.0   70.868607   75.767075  ...  132.851166  133.280350  132.582474\n",
            "2   184.0   81.042526   55.286385  ...   60.179104   71.006134   77.475426\n",
            "3   153.0   76.858650   71.529678  ...   90.010727   89.943863   87.801620\n",
            "4   181.0  156.541138  161.980453  ...  109.038612  105.996063  100.600815\n",
            "5   115.0  128.372696  127.141846  ...  159.319168  145.101852  136.904785\n",
            "6   168.0  129.416672  136.527786  ...  199.500000  211.083328  223.694443\n",
            "7   140.0  119.239998   98.360001  ...  121.199997  124.680000  121.879997\n",
            "8   116.0    0.000000    0.000000  ...  135.076096  139.269913  144.694397\n",
            "9   174.0   74.715164   75.104378  ...  128.536667  130.178772  132.705368\n",
            "10  173.0  123.028664  123.569885  ...   76.781181   76.153961   75.761833\n",
            "11  151.0  139.099915  137.538757  ...  175.028519  167.589661  110.919693\n",
            "12  195.0  128.809357  129.016953  ...  167.490356  155.417023   91.735497\n",
            "13  131.0   83.206337   90.797623  ...  134.826462  132.913162  128.924942\n",
            "14  175.0  122.624001  120.195206  ...  146.939178  143.345596  132.388794\n",
            "15  130.0  118.205444  128.949127  ...   35.988640    3.714320    1.337988\n",
            "16  104.0  101.315102  101.571007  ...   11.470415   12.116865   11.786984\n",
            "17  139.0  172.653900  169.662125  ...   98.819000   97.350861   98.765175\n",
            "18  144.0  133.202942  128.383484  ...   76.585655   76.666672   76.942131\n",
            "19  111.0  118.529335  114.002274  ...  134.329514  132.154694  133.059174\n",
            "20  133.0    0.000000    0.000000  ...   10.814405   10.116344    9.689751\n",
            "21  126.0   76.913582   79.827164  ...   10.641975   11.395061   11.098766\n",
            "22  112.0  104.125000  106.250000  ...    0.000000    0.000000    0.000000\n",
            "23  160.0  204.847488  199.291870  ...   87.241875   87.505623   92.355614\n",
            "24  138.0  149.285019  133.663086  ...  107.323883   94.876076   86.544212\n",
            "25  118.0  169.979294  174.153961  ...   74.261993   53.199944   48.374317\n",
            "26  120.0  123.263329  120.896667  ...   57.492226   55.899998   59.155556\n",
            "27  168.0  137.694443  115.805557  ...   96.250000   97.500000   99.750000\n",
            "28  162.0   90.386223   92.628555  ...    7.134736    6.859473    7.060051\n",
            "29  165.0  136.386032  132.065231  ...    8.525326    8.023397    7.400147\n",
            "30  199.0  118.834518  122.961494  ...  157.893448  150.863281  151.699829\n",
            "31  107.0  118.136429  122.556023  ...   97.193466   95.622063   94.838058\n",
            "32  184.0   78.640358   92.338379  ...   66.115303   66.865776   61.439507\n",
            "33  176.0   87.735023  113.149780  ...  109.277893  112.029953   85.059914\n",
            "34  138.0    0.000000    0.000000  ...   49.053978   50.637260   55.860954\n",
            "35  196.0  128.612244  144.244888  ...  103.673470  119.836731  128.102036\n",
            "36  196.0  137.897949  140.000000  ...    6.489796    6.938776    6.836735\n",
            "37  140.0   77.239998   81.040001  ...   10.160000   10.480000   10.080000\n",
            "38  172.0  160.334244  167.636581  ...   98.063812  100.591675  106.489998\n",
            "39  114.0    0.000000    0.000000  ...  136.668823  138.170517   83.433678\n",
            "40  115.0   56.210278   58.780415  ...  152.328979  149.244370  148.386292\n",
            "41  192.0    5.118923  100.107201  ...  122.305550  122.703545  121.590706\n",
            "42  101.0  134.885406  146.687393  ...  135.895798  137.330475  139.058533\n",
            "43  167.0  124.149567  125.699783  ...  110.449539   94.630257   90.697731\n",
            "44  164.0  182.486603  168.982742  ...  118.102913  134.441406  150.158829\n",
            "45  142.0   81.918671  108.541168  ...   83.502686   84.736954   92.635788\n",
            "46  150.0   82.062935   59.571201  ...    6.338667    6.216711    5.330667\n",
            "47  115.0   61.774666   68.479843  ...    7.935879    7.829414    7.303591\n",
            "48  145.0  158.235336  123.190102  ...  143.081512  145.681381  148.912109\n",
            "49  121.0  100.923706  101.404144  ...   88.654053   88.617920   91.757736\n",
            "\n",
            "[50 rows x 785 columns]\n"
          ]
        }
      ]
    },
    {
      "cell_type": "code",
      "metadata": {
        "id": "6LkA4vHp-f6_"
      },
      "source": [
        "Width=np.array(Width_new)"
      ],
      "execution_count": null,
      "outputs": []
    },
    {
      "cell_type": "code",
      "metadata": {
        "colab": {
          "base_uri": "https://localhost:8080/"
        },
        "id": "MjRbWgmX_LFH",
        "outputId": "7f4c982b-da76-4677-cc31-16e1791a032c"
      },
      "source": [
        "!git clone https://github.com/ucfilho/marquesgabi_paper_fev_2021\n",
        "%cd marquesgabi_paper_fev_2021\n",
        "\n",
        "from Get_PSDArea_New import PSDArea\n",
        "from histogram_fev_2021 import PSD\n",
        "from GetBetterSegm import GetBetter"
      ],
      "execution_count": null,
      "outputs": [
        {
          "output_type": "stream",
          "name": "stdout",
          "text": [
            "fatal: destination path 'marquesgabi_paper_fev_2021' already exists and is not an empty directory.\n",
            "/content/marquesgabi_fev_2020/Doutorado/MarquesGabi_Routines/MarquesGabi_Routines/marquesgabi_paper_fev_2021\n"
          ]
        }
      ]
    },
    {
      "cell_type": "code",
      "metadata": {
        "colab": {
          "base_uri": "https://localhost:8080/"
        },
        "id": "WAG_I6FwCvFr",
        "outputId": "535396e8-5928-4387-9205-8ba4af8208c0"
      },
      "source": [
        "#!git clone https://github.com/ucfilho/marquesgabi_out_2020\n",
        "!git clone https://github.com/marquesgabi/Doutorado\n",
        "\n",
        "%cd Doutorado\n",
        "\n",
        "PSD_imageJ = 'Amostra7.csv' \n",
        "PSD_new = pd.read_csv(PSD_imageJ,sep=';')\n",
        "#encoding='utf8'\n",
        "print(PSD_new.head(3))"
      ],
      "execution_count": null,
      "outputs": [
        {
          "output_type": "stream",
          "name": "stdout",
          "text": [
            "fatal: destination path 'Doutorado' already exists and is not an empty directory.\n",
            "/content/marquesgabi_fev_2020/Doutorado/MarquesGabi_Routines/MarquesGabi_Routines/marquesgabi_paper_fev_2021/Doutorado\n",
            "   Unnamed: 0   Area\n",
            "0           1  1.387\n",
            "1           2  1.626\n",
            "2           3  1.336\n"
          ]
        }
      ]
    },
    {
      "cell_type": "code",
      "metadata": {
        "id": "7tEPjIBnv_xM",
        "colab": {
          "base_uri": "https://localhost:8080/"
        },
        "outputId": "ed655cb5-df59-4b7d-fdb6-b44336d41e5b"
      },
      "source": [
        "PSD_new.shape"
      ],
      "execution_count": null,
      "outputs": [
        {
          "output_type": "execute_result",
          "data": {
            "text/plain": [
              "(102, 2)"
            ]
          },
          "metadata": {},
          "execution_count": 27
        }
      ]
    },
    {
      "cell_type": "code",
      "metadata": {
        "id": "t_1WIM8w7poO"
      },
      "source": [
        "Area_All, Diameter_All=PSDArea(img_graos) "
      ],
      "execution_count": null,
      "outputs": []
    },
    {
      "cell_type": "code",
      "metadata": {
        "id": "nfagXc-Mv3oa"
      },
      "source": [
        ""
      ],
      "execution_count": null,
      "outputs": []
    },
    {
      "cell_type": "code",
      "metadata": {
        "id": "PekBHQOT_6CP",
        "colab": {
          "base_uri": "https://localhost:8080/",
          "height": 253
        },
        "outputId": "1a461a3a-a529-4c2e-c7e2-296813282b0a"
      },
      "source": [
        "img_graos.head()"
      ],
      "execution_count": null,
      "outputs": [
        {
          "output_type": "execute_result",
          "data": {
            "text/html": [
              "<div>\n",
              "<style scoped>\n",
              "    .dataframe tbody tr th:only-of-type {\n",
              "        vertical-align: middle;\n",
              "    }\n",
              "\n",
              "    .dataframe tbody tr th {\n",
              "        vertical-align: top;\n",
              "    }\n",
              "\n",
              "    .dataframe thead th {\n",
              "        text-align: right;\n",
              "    }\n",
              "</style>\n",
              "<table border=\"1\" class=\"dataframe\">\n",
              "  <thead>\n",
              "    <tr style=\"text-align: right;\">\n",
              "      <th></th>\n",
              "      <th>Width</th>\n",
              "      <th>0</th>\n",
              "      <th>1</th>\n",
              "      <th>2</th>\n",
              "      <th>3</th>\n",
              "      <th>4</th>\n",
              "      <th>5</th>\n",
              "      <th>6</th>\n",
              "      <th>7</th>\n",
              "      <th>8</th>\n",
              "      <th>9</th>\n",
              "      <th>10</th>\n",
              "      <th>11</th>\n",
              "      <th>12</th>\n",
              "      <th>13</th>\n",
              "      <th>14</th>\n",
              "      <th>15</th>\n",
              "      <th>16</th>\n",
              "      <th>17</th>\n",
              "      <th>18</th>\n",
              "      <th>19</th>\n",
              "      <th>20</th>\n",
              "      <th>21</th>\n",
              "      <th>22</th>\n",
              "      <th>23</th>\n",
              "      <th>24</th>\n",
              "      <th>25</th>\n",
              "      <th>26</th>\n",
              "      <th>27</th>\n",
              "      <th>28</th>\n",
              "      <th>29</th>\n",
              "      <th>30</th>\n",
              "      <th>31</th>\n",
              "      <th>32</th>\n",
              "      <th>33</th>\n",
              "      <th>34</th>\n",
              "      <th>35</th>\n",
              "      <th>36</th>\n",
              "      <th>37</th>\n",
              "      <th>38</th>\n",
              "      <th>...</th>\n",
              "      <th>744</th>\n",
              "      <th>745</th>\n",
              "      <th>746</th>\n",
              "      <th>747</th>\n",
              "      <th>748</th>\n",
              "      <th>749</th>\n",
              "      <th>750</th>\n",
              "      <th>751</th>\n",
              "      <th>752</th>\n",
              "      <th>753</th>\n",
              "      <th>754</th>\n",
              "      <th>755</th>\n",
              "      <th>756</th>\n",
              "      <th>757</th>\n",
              "      <th>758</th>\n",
              "      <th>759</th>\n",
              "      <th>760</th>\n",
              "      <th>761</th>\n",
              "      <th>762</th>\n",
              "      <th>763</th>\n",
              "      <th>764</th>\n",
              "      <th>765</th>\n",
              "      <th>766</th>\n",
              "      <th>767</th>\n",
              "      <th>768</th>\n",
              "      <th>769</th>\n",
              "      <th>770</th>\n",
              "      <th>771</th>\n",
              "      <th>772</th>\n",
              "      <th>773</th>\n",
              "      <th>774</th>\n",
              "      <th>775</th>\n",
              "      <th>776</th>\n",
              "      <th>777</th>\n",
              "      <th>778</th>\n",
              "      <th>779</th>\n",
              "      <th>780</th>\n",
              "      <th>781</th>\n",
              "      <th>782</th>\n",
              "      <th>783</th>\n",
              "    </tr>\n",
              "  </thead>\n",
              "  <tbody>\n",
              "    <tr>\n",
              "      <th>0</th>\n",
              "      <td>179.0</td>\n",
              "      <td>143.110397</td>\n",
              "      <td>143.200531</td>\n",
              "      <td>114.685814</td>\n",
              "      <td>57.343777</td>\n",
              "      <td>66.776878</td>\n",
              "      <td>67.710938</td>\n",
              "      <td>69.173615</td>\n",
              "      <td>69.259766</td>\n",
              "      <td>70.185577</td>\n",
              "      <td>70.920387</td>\n",
              "      <td>75.010399</td>\n",
              "      <td>88.933548</td>\n",
              "      <td>91.696861</td>\n",
              "      <td>84.758743</td>\n",
              "      <td>80.456131</td>\n",
              "      <td>81.059975</td>\n",
              "      <td>83.078590</td>\n",
              "      <td>82.079811</td>\n",
              "      <td>85.089447</td>\n",
              "      <td>101.249557</td>\n",
              "      <td>120.568954</td>\n",
              "      <td>129.134750</td>\n",
              "      <td>133.141022</td>\n",
              "      <td>136.569321</td>\n",
              "      <td>136.677887</td>\n",
              "      <td>135.779419</td>\n",
              "      <td>134.373734</td>\n",
              "      <td>139.571884</td>\n",
              "      <td>145.259521</td>\n",
              "      <td>141.579483</td>\n",
              "      <td>98.577194</td>\n",
              "      <td>59.042854</td>\n",
              "      <td>66.175148</td>\n",
              "      <td>67.203712</td>\n",
              "      <td>67.841270</td>\n",
              "      <td>67.762367</td>\n",
              "      <td>69.083488</td>\n",
              "      <td>69.102959</td>\n",
              "      <td>73.573166</td>\n",
              "      <td>...</td>\n",
              "      <td>0.435348</td>\n",
              "      <td>2.242221</td>\n",
              "      <td>4.206829</td>\n",
              "      <td>40.610500</td>\n",
              "      <td>100.846909</td>\n",
              "      <td>110.561462</td>\n",
              "      <td>113.712036</td>\n",
              "      <td>117.396996</td>\n",
              "      <td>123.267662</td>\n",
              "      <td>89.946358</td>\n",
              "      <td>6.963797</td>\n",
              "      <td>0.907930</td>\n",
              "      <td>0.000000</td>\n",
              "      <td>0.000000</td>\n",
              "      <td>0.000000</td>\n",
              "      <td>0.000000</td>\n",
              "      <td>0.000000</td>\n",
              "      <td>0.000000</td>\n",
              "      <td>0.000000</td>\n",
              "      <td>0.000000</td>\n",
              "      <td>0.000000</td>\n",
              "      <td>0.000000</td>\n",
              "      <td>0.000000</td>\n",
              "      <td>0.000000</td>\n",
              "      <td>0.000000</td>\n",
              "      <td>0.000000</td>\n",
              "      <td>0.000000</td>\n",
              "      <td>0.000000</td>\n",
              "      <td>0.016136</td>\n",
              "      <td>0.705315</td>\n",
              "      <td>1.916576</td>\n",
              "      <td>3.336569</td>\n",
              "      <td>18.846666</td>\n",
              "      <td>78.470657</td>\n",
              "      <td>109.195061</td>\n",
              "      <td>106.043289</td>\n",
              "      <td>68.852318</td>\n",
              "      <td>7.936738</td>\n",
              "      <td>1.423832</td>\n",
              "      <td>0.163697</td>\n",
              "    </tr>\n",
              "    <tr>\n",
              "      <th>1</th>\n",
              "      <td>151.0</td>\n",
              "      <td>70.868607</td>\n",
              "      <td>75.767075</td>\n",
              "      <td>104.228378</td>\n",
              "      <td>119.083931</td>\n",
              "      <td>120.578575</td>\n",
              "      <td>122.450241</td>\n",
              "      <td>121.882904</td>\n",
              "      <td>123.978775</td>\n",
              "      <td>125.395821</td>\n",
              "      <td>127.091530</td>\n",
              "      <td>129.500809</td>\n",
              "      <td>131.361084</td>\n",
              "      <td>133.136261</td>\n",
              "      <td>130.788559</td>\n",
              "      <td>127.228851</td>\n",
              "      <td>121.034035</td>\n",
              "      <td>113.307449</td>\n",
              "      <td>107.306831</td>\n",
              "      <td>100.201584</td>\n",
              "      <td>96.404991</td>\n",
              "      <td>92.801941</td>\n",
              "      <td>91.744446</td>\n",
              "      <td>91.142792</td>\n",
              "      <td>92.902718</td>\n",
              "      <td>94.725594</td>\n",
              "      <td>128.679977</td>\n",
              "      <td>145.628036</td>\n",
              "      <td>148.548965</td>\n",
              "      <td>73.603310</td>\n",
              "      <td>73.084114</td>\n",
              "      <td>80.631073</td>\n",
              "      <td>112.483444</td>\n",
              "      <td>122.542618</td>\n",
              "      <td>123.782555</td>\n",
              "      <td>124.864265</td>\n",
              "      <td>127.164162</td>\n",
              "      <td>129.114960</td>\n",
              "      <td>130.360703</td>\n",
              "      <td>131.460648</td>\n",
              "      <td>...</td>\n",
              "      <td>119.074509</td>\n",
              "      <td>122.571388</td>\n",
              "      <td>127.572395</td>\n",
              "      <td>129.475113</td>\n",
              "      <td>127.783035</td>\n",
              "      <td>126.142311</td>\n",
              "      <td>126.660713</td>\n",
              "      <td>129.961533</td>\n",
              "      <td>131.104828</td>\n",
              "      <td>131.096054</td>\n",
              "      <td>130.764755</td>\n",
              "      <td>129.326752</td>\n",
              "      <td>57.029518</td>\n",
              "      <td>62.113327</td>\n",
              "      <td>64.135788</td>\n",
              "      <td>66.811989</td>\n",
              "      <td>68.970009</td>\n",
              "      <td>78.230919</td>\n",
              "      <td>88.543045</td>\n",
              "      <td>92.503929</td>\n",
              "      <td>89.680450</td>\n",
              "      <td>91.772552</td>\n",
              "      <td>90.756943</td>\n",
              "      <td>89.264374</td>\n",
              "      <td>84.672653</td>\n",
              "      <td>80.503265</td>\n",
              "      <td>88.827072</td>\n",
              "      <td>97.863861</td>\n",
              "      <td>111.369141</td>\n",
              "      <td>120.319458</td>\n",
              "      <td>124.872429</td>\n",
              "      <td>128.561737</td>\n",
              "      <td>129.774261</td>\n",
              "      <td>126.690285</td>\n",
              "      <td>127.132637</td>\n",
              "      <td>128.506866</td>\n",
              "      <td>130.099869</td>\n",
              "      <td>132.851166</td>\n",
              "      <td>133.280350</td>\n",
              "      <td>132.582474</td>\n",
              "    </tr>\n",
              "    <tr>\n",
              "      <th>2</th>\n",
              "      <td>184.0</td>\n",
              "      <td>81.042526</td>\n",
              "      <td>55.286385</td>\n",
              "      <td>36.031193</td>\n",
              "      <td>31.470226</td>\n",
              "      <td>69.982040</td>\n",
              "      <td>86.557175</td>\n",
              "      <td>90.822769</td>\n",
              "      <td>93.288750</td>\n",
              "      <td>95.243851</td>\n",
              "      <td>98.049622</td>\n",
              "      <td>90.976364</td>\n",
              "      <td>85.028351</td>\n",
              "      <td>82.667755</td>\n",
              "      <td>82.925789</td>\n",
              "      <td>83.387985</td>\n",
              "      <td>86.479668</td>\n",
              "      <td>89.042061</td>\n",
              "      <td>86.710304</td>\n",
              "      <td>85.172958</td>\n",
              "      <td>85.227310</td>\n",
              "      <td>87.127586</td>\n",
              "      <td>89.345451</td>\n",
              "      <td>91.636101</td>\n",
              "      <td>96.590263</td>\n",
              "      <td>102.348282</td>\n",
              "      <td>108.422012</td>\n",
              "      <td>110.585526</td>\n",
              "      <td>97.175323</td>\n",
              "      <td>88.544884</td>\n",
              "      <td>76.032608</td>\n",
              "      <td>50.875706</td>\n",
              "      <td>39.081757</td>\n",
              "      <td>78.537796</td>\n",
              "      <td>90.132790</td>\n",
              "      <td>91.932884</td>\n",
              "      <td>93.307175</td>\n",
              "      <td>97.403114</td>\n",
              "      <td>102.267960</td>\n",
              "      <td>95.396027</td>\n",
              "      <td>...</td>\n",
              "      <td>106.382317</td>\n",
              "      <td>112.907364</td>\n",
              "      <td>109.444695</td>\n",
              "      <td>81.005196</td>\n",
              "      <td>61.894611</td>\n",
              "      <td>64.993843</td>\n",
              "      <td>67.077499</td>\n",
              "      <td>64.901222</td>\n",
              "      <td>58.323719</td>\n",
              "      <td>62.222111</td>\n",
              "      <td>69.273628</td>\n",
              "      <td>73.543938</td>\n",
              "      <td>163.169647</td>\n",
              "      <td>144.025040</td>\n",
              "      <td>113.846397</td>\n",
              "      <td>100.420120</td>\n",
              "      <td>105.364357</td>\n",
              "      <td>101.948952</td>\n",
              "      <td>94.009918</td>\n",
              "      <td>91.879944</td>\n",
              "      <td>89.963135</td>\n",
              "      <td>89.483452</td>\n",
              "      <td>89.220695</td>\n",
              "      <td>89.723061</td>\n",
              "      <td>94.002365</td>\n",
              "      <td>97.467850</td>\n",
              "      <td>99.834122</td>\n",
              "      <td>102.763695</td>\n",
              "      <td>103.968330</td>\n",
              "      <td>109.808121</td>\n",
              "      <td>96.525513</td>\n",
              "      <td>64.242432</td>\n",
              "      <td>64.307175</td>\n",
              "      <td>66.638466</td>\n",
              "      <td>66.517487</td>\n",
              "      <td>63.780712</td>\n",
              "      <td>58.834118</td>\n",
              "      <td>60.179104</td>\n",
              "      <td>71.006134</td>\n",
              "      <td>77.475426</td>\n",
              "    </tr>\n",
              "    <tr>\n",
              "      <th>3</th>\n",
              "      <td>153.0</td>\n",
              "      <td>76.858650</td>\n",
              "      <td>71.529678</td>\n",
              "      <td>69.017815</td>\n",
              "      <td>71.112991</td>\n",
              "      <td>72.039696</td>\n",
              "      <td>71.999786</td>\n",
              "      <td>66.734077</td>\n",
              "      <td>64.741852</td>\n",
              "      <td>64.789780</td>\n",
              "      <td>66.387207</td>\n",
              "      <td>67.682312</td>\n",
              "      <td>68.239189</td>\n",
              "      <td>68.351273</td>\n",
              "      <td>73.514244</td>\n",
              "      <td>77.269684</td>\n",
              "      <td>72.727936</td>\n",
              "      <td>54.847286</td>\n",
              "      <td>54.798840</td>\n",
              "      <td>94.810593</td>\n",
              "      <td>113.772705</td>\n",
              "      <td>116.269264</td>\n",
              "      <td>115.121330</td>\n",
              "      <td>108.668304</td>\n",
              "      <td>109.357002</td>\n",
              "      <td>107.677818</td>\n",
              "      <td>106.447357</td>\n",
              "      <td>105.580383</td>\n",
              "      <td>69.512619</td>\n",
              "      <td>76.583710</td>\n",
              "      <td>71.003380</td>\n",
              "      <td>68.261002</td>\n",
              "      <td>71.407928</td>\n",
              "      <td>72.917648</td>\n",
              "      <td>71.827896</td>\n",
              "      <td>67.962151</td>\n",
              "      <td>65.182541</td>\n",
              "      <td>63.178520</td>\n",
              "      <td>64.888374</td>\n",
              "      <td>73.281944</td>\n",
              "      <td>...</td>\n",
              "      <td>84.832504</td>\n",
              "      <td>81.045830</td>\n",
              "      <td>77.373749</td>\n",
              "      <td>75.728310</td>\n",
              "      <td>79.932640</td>\n",
              "      <td>84.967880</td>\n",
              "      <td>88.870651</td>\n",
              "      <td>91.023071</td>\n",
              "      <td>91.838234</td>\n",
              "      <td>91.845154</td>\n",
              "      <td>93.556412</td>\n",
              "      <td>95.296944</td>\n",
              "      <td>110.772102</td>\n",
              "      <td>116.879250</td>\n",
              "      <td>118.398567</td>\n",
              "      <td>116.703407</td>\n",
              "      <td>115.775139</td>\n",
              "      <td>114.309372</td>\n",
              "      <td>110.972366</td>\n",
              "      <td>109.571884</td>\n",
              "      <td>111.079727</td>\n",
              "      <td>111.134659</td>\n",
              "      <td>109.091087</td>\n",
              "      <td>106.923630</td>\n",
              "      <td>103.380112</td>\n",
              "      <td>102.128288</td>\n",
              "      <td>97.767097</td>\n",
              "      <td>90.450684</td>\n",
              "      <td>83.307022</td>\n",
              "      <td>81.060631</td>\n",
              "      <td>83.933197</td>\n",
              "      <td>85.800941</td>\n",
              "      <td>87.493828</td>\n",
              "      <td>89.104919</td>\n",
              "      <td>90.996841</td>\n",
              "      <td>91.187790</td>\n",
              "      <td>90.431854</td>\n",
              "      <td>90.010727</td>\n",
              "      <td>89.943863</td>\n",
              "      <td>87.801620</td>\n",
              "    </tr>\n",
              "    <tr>\n",
              "      <th>4</th>\n",
              "      <td>181.0</td>\n",
              "      <td>156.541138</td>\n",
              "      <td>161.980453</td>\n",
              "      <td>165.838562</td>\n",
              "      <td>173.262619</td>\n",
              "      <td>170.653259</td>\n",
              "      <td>143.633118</td>\n",
              "      <td>106.784416</td>\n",
              "      <td>93.053078</td>\n",
              "      <td>158.754623</td>\n",
              "      <td>169.179993</td>\n",
              "      <td>159.111298</td>\n",
              "      <td>150.516571</td>\n",
              "      <td>146.173752</td>\n",
              "      <td>141.333923</td>\n",
              "      <td>144.524536</td>\n",
              "      <td>169.633087</td>\n",
              "      <td>199.351959</td>\n",
              "      <td>218.166611</td>\n",
              "      <td>234.475204</td>\n",
              "      <td>224.459579</td>\n",
              "      <td>99.456497</td>\n",
              "      <td>108.186996</td>\n",
              "      <td>112.918411</td>\n",
              "      <td>114.555962</td>\n",
              "      <td>120.166641</td>\n",
              "      <td>136.742737</td>\n",
              "      <td>149.167221</td>\n",
              "      <td>151.327530</td>\n",
              "      <td>151.182327</td>\n",
              "      <td>154.480469</td>\n",
              "      <td>146.619370</td>\n",
              "      <td>127.148659</td>\n",
              "      <td>99.970604</td>\n",
              "      <td>87.637222</td>\n",
              "      <td>88.608353</td>\n",
              "      <td>89.408936</td>\n",
              "      <td>142.302689</td>\n",
              "      <td>170.420319</td>\n",
              "      <td>161.787292</td>\n",
              "      <td>...</td>\n",
              "      <td>196.440338</td>\n",
              "      <td>221.149796</td>\n",
              "      <td>224.531784</td>\n",
              "      <td>223.905273</td>\n",
              "      <td>209.317688</td>\n",
              "      <td>157.735565</td>\n",
              "      <td>139.222916</td>\n",
              "      <td>138.167023</td>\n",
              "      <td>125.952751</td>\n",
              "      <td>113.071823</td>\n",
              "      <td>101.252617</td>\n",
              "      <td>96.742683</td>\n",
              "      <td>156.271866</td>\n",
              "      <td>150.834839</td>\n",
              "      <td>76.289795</td>\n",
              "      <td>104.485222</td>\n",
              "      <td>130.997040</td>\n",
              "      <td>134.318497</td>\n",
              "      <td>135.918396</td>\n",
              "      <td>143.433350</td>\n",
              "      <td>157.617661</td>\n",
              "      <td>168.060822</td>\n",
              "      <td>165.061676</td>\n",
              "      <td>168.668335</td>\n",
              "      <td>175.004929</td>\n",
              "      <td>179.028229</td>\n",
              "      <td>179.876526</td>\n",
              "      <td>179.254395</td>\n",
              "      <td>202.867264</td>\n",
              "      <td>221.347443</td>\n",
              "      <td>221.279846</td>\n",
              "      <td>220.214462</td>\n",
              "      <td>208.625122</td>\n",
              "      <td>162.372620</td>\n",
              "      <td>133.576630</td>\n",
              "      <td>125.227814</td>\n",
              "      <td>112.774162</td>\n",
              "      <td>109.038612</td>\n",
              "      <td>105.996063</td>\n",
              "      <td>100.600815</td>\n",
              "    </tr>\n",
              "  </tbody>\n",
              "</table>\n",
              "<p>5 rows × 785 columns</p>\n",
              "</div>"
            ],
            "text/plain": [
              "   Width           0           1  ...         781         782         783\n",
              "0  179.0  143.110397  143.200531  ...    7.936738    1.423832    0.163697\n",
              "1  151.0   70.868607   75.767075  ...  132.851166  133.280350  132.582474\n",
              "2  184.0   81.042526   55.286385  ...   60.179104   71.006134   77.475426\n",
              "3  153.0   76.858650   71.529678  ...   90.010727   89.943863   87.801620\n",
              "4  181.0  156.541138  161.980453  ...  109.038612  105.996063  100.600815\n",
              "\n",
              "[5 rows x 785 columns]"
            ]
          },
          "metadata": {},
          "execution_count": 29
        }
      ]
    },
    {
      "cell_type": "code",
      "metadata": {
        "id": "9q09DRGPtM75"
      },
      "source": [
        "#lost_value = float(PSD_new.columns[1])\n",
        "\n",
        "# Area = np.array(PSD_new.iloc[:,1])\n",
        "Area = PSD_new['Area'].values\n",
        "# Area = np.concatenate( (Area, [lost_value] ) )\n",
        "# Area = np.concatenate( (Area, [lost_value] ) )\n",
        "diam_teste = []\n",
        "for A in Area:\n",
        "  diam_teste.append((4*A/np.pi)**0.5) \n",
        "\n",
        "Diam1 = [ (4*A/np.pi)**0.5 for A in Area]"
      ],
      "execution_count": null,
      "outputs": []
    },
    {
      "cell_type": "code",
      "metadata": {
        "id": "1aUb2_-jsY1Z",
        "colab": {
          "base_uri": "https://localhost:8080/"
        },
        "outputId": "5b4236bd-3701-4117-f235-46b39d3dce03"
      },
      "source": [
        "PSD_new.iloc[:,1].values"
      ],
      "execution_count": null,
      "outputs": [
        {
          "output_type": "execute_result",
          "data": {
            "text/plain": [
              "array([1.387, 1.626, 1.336, 0.64 , 2.211, 1.12 , 0.974, 1.237, 1.29 ,\n",
              "       3.755, 2.778, 1.256, 1.386, 1.302, 1.071, 1.497, 1.518, 1.244,\n",
              "       1.532, 1.325, 1.519, 1.895, 1.22 , 1.241, 1.301, 1.429, 0.667,\n",
              "       2.157, 1.052, 2.082, 1.517, 1.281, 0.784, 1.067, 2.764, 1.215,\n",
              "       0.943, 2.182, 1.486, 1.569, 2.667, 0.709, 1.006, 1.6  , 1.408,\n",
              "       3.16 , 2.465, 2.284, 1.273, 1.256, 3.021, 1.701, 1.955, 5.248,\n",
              "       1.627, 1.367, 1.592, 2.718, 1.658, 1.128, 2.192, 1.508, 2.547,\n",
              "       1.945, 1.606, 3.482, 1.756, 1.457, 1.864, 1.821, 1.314, 1.715,\n",
              "       1.015, 1.345, 1.265, 1.844, 1.396, 1.785, 1.694, 1.413, 1.368,\n",
              "       2.21 , 1.034, 1.367, 1.943, 1.008, 1.279, 1.579, 1.444, 1.879,\n",
              "       1.466, 2.154, 1.794, 3.149, 1.883, 1.692, 1.163, 1.297, 2.949,\n",
              "       1.09 , 1.444, 1.524])"
            ]
          },
          "metadata": {},
          "execution_count": 31
        }
      ]
    },
    {
      "cell_type": "code",
      "metadata": {
        "id": "9J705kDqsE8f",
        "colab": {
          "base_uri": "https://localhost:8080/"
        },
        "outputId": "607cca70-534e-4a39-df5f-d1e2aa35c6eb"
      },
      "source": [
        "X.shape"
      ],
      "execution_count": null,
      "outputs": [
        {
          "output_type": "execute_result",
          "data": {
            "text/plain": [
              "(490, 784)"
            ]
          },
          "metadata": {},
          "execution_count": 32
        }
      ]
    },
    {
      "cell_type": "code",
      "metadata": {
        "id": "mK1GBUHWiIr4",
        "colab": {
          "base_uri": "https://localhost:8080/",
          "height": 282
        },
        "outputId": "8c256fd7-4251-410c-8ec6-dc1838663366"
      },
      "source": [
        "Freq = [10.52631579, 24.21052632, 36.84210526, 14.73684211,  7.36842105, 0.]\n",
        "Freq2 = [12.90153, 28.11527, 27.66761, 20.21617, 10.34227, 0.]\n",
        "Freq3 = [22.22489, 30.15078, 25.10463, 19.30926, 2.810434, 0.]\n",
        "barWidth = 0.25\n",
        "\n",
        "br1 = range(len(Freq))\n",
        "# Set position of bar on X axis\n",
        "br2 = [x + barWidth for x in br1]\n",
        "br3 = [x + barWidth for x in br2]\n",
        "labels = [0.8, 1.0, 1.2, 1.4, 1.6, 1.8]\n",
        "\n",
        "xx=[]\n",
        "for a in labels:\n",
        "  xx.append(str(a))\n",
        "plt.bar(br1, Freq , color=\"green\", align=\"center\", width=0.3, tick_label= xx) \n",
        "plt.bar(br2, Freq2 , color=\"red\", align=\"center\", width=0.3, tick_label= xx)\n",
        "plt.bar(br3, Freq3 , color=\"blue\", align=\"center\", width=0.3, tick_label= xx)"
      ],
      "execution_count": null,
      "outputs": [
        {
          "output_type": "execute_result",
          "data": {
            "text/plain": [
              "<BarContainer object of 6 artists>"
            ]
          },
          "metadata": {},
          "execution_count": 33
        },
        {
          "output_type": "display_data",
          "data": {
            "image/png": "[encoded data removed]",
            "text/plain": [
              "<Figure size 432x288 with 1 Axes>"
            ]
          },
          "metadata": {
            "needs_background": "light"
          }
        }
      ]
    },
    {
      "cell_type": "code",
      "metadata": {
        "id": "Vfk_fNXGDK5_",
        "colab": {
          "base_uri": "https://localhost:8080/",
          "height": 282
        },
        "outputId": "cc30a977-33c3-41f3-8acf-161bf6bfcdfd"
      },
      "source": [
        " wt1 = np.ones(len(Diam1)) / len(Diam1)*100\n",
        " wt2 = np.ones(len(Diameter_All)) / len(Diameter_All)*100\n",
        " X = pd.DataFrame([Diam1,Diameter_All])\n",
        " wts = pd.DataFrame([wt1,wt2])\n",
        "plt.hist(X,weights=wts)\n",
        "plt.legend(['Image J','CNN'])"
      ],
      "execution_count": null,
      "outputs": [
        {
          "output_type": "execute_result",
          "data": {
            "text/plain": [
              "<matplotlib.legend.Legend at 0x7f2cc526c810>"
            ]
          },
          "metadata": {},
          "execution_count": 34
        },
        {
          "output_type": "display_data",
          "data": {
            "image/png": "[encoded data removed]",
            "text/plain": [
              "<Figure size 432x288 with 1 Axes>"
            ]
          },
          "metadata": {
            "needs_background": "light"
          }
        }
      ]
    },
    {
      "cell_type": "code",
      "metadata": {
        "id": "-nGDbBEeiUij",
        "colab": {
          "base_uri": "https://localhost:8080/",
          "height": 401
        },
        "outputId": "0c9f7e1b-93c2-41df-d88e-c3e3b6286816"
      },
      "source": [
        "# plt.hist(x, bins=bins, density=True, histtype='step', cumulative=-1,label='Reversed emp.')\n",
        "plt.hist(X, density=True, histtype='step', cumulative=True,label='Reversed emp.')"
      ],
      "execution_count": null,
      "outputs": [
        {
          "output_type": "execute_result",
          "data": {
            "text/plain": [
              "(array([[0.02941176, 0.12745098, 0.43137255, 0.71568627, 0.8627451 ,\n",
              "         0.92156863, 0.97058824, 0.99019608, 0.99019608, 1.        ],\n",
              "        [0.22      , 0.38      , 0.58      , 0.84      , 0.98      ,\n",
              "         1.        , 1.        , 1.        , 1.        , 1.        ]]),\n",
              " array([0.8181562 , 0.99483548, 1.17151475, 1.34819403, 1.52487331,\n",
              "        1.70155258, 1.87823186, 2.05491113, 2.23159041, 2.40826969,\n",
              "        2.58494896]),\n",
              " <a list of 2 Lists of Patches objects>)"
            ]
          },
          "metadata": {},
          "execution_count": 35
        },
        {
          "output_type": "display_data",
          "data": {
            "image/png": "[encoded data removed]",
            "text/plain": [
              "<Figure size 432x288 with 1 Axes>"
            ]
          },
          "metadata": {
            "needs_background": "light"
          }
        }
      ]
    },
    {
      "cell_type": "code",
      "metadata": {
        "id": "9xENlBUUxfTu",
        "colab": {
          "base_uri": "https://localhost:8080/",
          "height": 282
        },
        "outputId": "4eb849ff-c7ff-4c74-a525-0d4929f09b4d"
      },
      "source": [
        "Obj = plt.hist(X, density=True, histtype='step', cumulative=True,label='Reversed emp.')\n",
        "Y1, Y2 = Obj[0]\n",
        "Rsquared = r2_score(Y1, Y2)\n",
        "print('r_squared =',Rsquared)"
      ],
      "execution_count": null,
      "outputs": [
        {
          "output_type": "stream",
          "name": "stdout",
          "text": [
            "r_squared = 0.8738192940600722\n"
          ]
        },
        {
          "output_type": "display_data",
          "data": {
            "image/png": "[encoded data removed]",
            "text/plain": [
              "<Figure size 432x288 with 1 Axes>"
            ]
          },
          "metadata": {
            "needs_background": "light"
          }
        }
      ]
    },
    {
      "cell_type": "code",
      "metadata": {
        "id": "O2XboMiFbkaa"
      },
      "source": [
        "acc_train = r.history['accuracy'][-1]\n",
        "acc_test = r.history['val_accuracy'][-1]\n",
        "loss_train = r.history['loss'][-1]\n",
        "loss_test = r.history['val_loss'][-1]"
      ],
      "execution_count": null,
      "outputs": []
    },
    {
      "cell_type": "code",
      "metadata": {
        "id": "euTd_-CYN1v0"
      },
      "source": [
        "df = pd.DataFrame({'N1':N1, 'N2':N2,'R^2':Rsquared,\n",
        "                   'acc train':acc_train,'acc test':acc_test,\n",
        "                   'loss train':loss_train,'loss test':loss_test,\n",
        "                   'Details':Description},\n",
        "                  index= [0])\n"
      ],
      "execution_count": null,
      "outputs": []
    },
    {
      "cell_type": "code",
      "metadata": {
        "id": "-KukfpGTTKlj",
        "colab": {
          "base_uri": "https://localhost:8080/",
          "height": 80
        },
        "outputId": "8b687257-60bf-43ac-b08d-7644e67c7959"
      },
      "source": [
        "df"
      ],
      "execution_count": null,
      "outputs": [
        {
          "output_type": "execute_result",
          "data": {
            "text/html": [
              "<div>\n",
              "<style scoped>\n",
              "    .dataframe tbody tr th:only-of-type {\n",
              "        vertical-align: middle;\n",
              "    }\n",
              "\n",
              "    .dataframe tbody tr th {\n",
              "        vertical-align: top;\n",
              "    }\n",
              "\n",
              "    .dataframe thead th {\n",
              "        text-align: right;\n",
              "    }\n",
              "</style>\n",
              "<table border=\"1\" class=\"dataframe\">\n",
              "  <thead>\n",
              "    <tr style=\"text-align: right;\">\n",
              "      <th></th>\n",
              "      <th>N1</th>\n",
              "      <th>N2</th>\n",
              "      <th>R^2</th>\n",
              "      <th>acc train</th>\n",
              "      <th>acc test</th>\n",
              "      <th>loss train</th>\n",
              "      <th>loss test</th>\n",
              "      <th>Details</th>\n",
              "    </tr>\n",
              "  </thead>\n",
              "  <tbody>\n",
              "    <tr>\n",
              "      <th>0</th>\n",
              "      <td>20</td>\n",
              "      <td>20</td>\n",
              "      <td>0.873819</td>\n",
              "      <td>1.0</td>\n",
              "      <td>0.972789</td>\n",
              "      <td>0.000011</td>\n",
              "      <td>0.227424</td>\n",
              "      <td>3 layers of Convolution: 64, 128, 256</td>\n",
              "    </tr>\n",
              "  </tbody>\n",
              "</table>\n",
              "</div>"
            ],
            "text/plain": [
              "   N1  N2  ...  loss test                                 Details\n",
              "0  20  20  ...   0.227424  3 layers of Convolution: 64, 128, 256 \n",
              "\n",
              "[1 rows x 8 columns]"
            ]
          },
          "metadata": {},
          "execution_count": 39
        }
      ]
    },
    {
      "cell_type": "code",
      "metadata": {
        "id": "ZZHa1j4HT9Dq",
        "colab": {
          "base_uri": "https://localhost:8080/",
          "height": 384
        },
        "outputId": "1ad0e310-6b1a-47df-f833-e70a9b175dbc"
      },
      "source": [
        "counts, bins, bars = plt.hist(X,weights=wts)\n",
        "print(bars)\n",
        "print(bins)\n",
        "print(counts)"
      ],
      "execution_count": null,
      "outputs": [
        {
          "output_type": "stream",
          "name": "stdout",
          "text": [
            "<a list of 2 Lists of Patches objects>\n",
            "[0.8181562  0.99483548 1.17151475 1.34819403 1.52487331 1.70155258\n",
            " 1.87823186 2.05491113 2.23159041 2.40826969 2.58494896]\n",
            "[[ 2.94117647  9.80392157 30.39215686 28.43137255 14.70588235  5.88235294\n",
            "   4.90196078  1.96078431  0.          0.98039216]\n",
            " [22.         16.         20.         26.         14.          2.\n",
            "   0.          0.          0.          0.        ]]\n"
          ]
        },
        {
          "output_type": "display_data",
          "data": {
            "image/png": "[encoded data removed]",
            "text/plain": [
              "<Figure size 432x288 with 1 Axes>"
            ]
          },
          "metadata": {
            "needs_background": "light"
          }
        }
      ]
    },
    {
      "cell_type": "code",
      "metadata": {
        "id": "8o_vDGeWUwIZ",
        "colab": {
          "base_uri": "https://localhost:8080/"
        },
        "outputId": "d5a1ff04-5590-44cf-fa31-d2bea23e6646"
      },
      "source": [
        "print(counts.sum())"
      ],
      "execution_count": null,
      "outputs": [
        {
          "output_type": "stream",
          "name": "stdout",
          "text": [
            "200.0\n"
          ]
        }
      ]
    },
    {
      "cell_type": "code",
      "metadata": {
        "id": "KcH52-6iJQ8t",
        "colab": {
          "base_uri": "https://localhost:8080/",
          "height": 336
        },
        "outputId": "4d84918d-8c4d-4b59-ce04-472ba2137d6f"
      },
      "source": [
        "\n",
        "plt.hist([Diam1,Diameter_All])\n",
        "plt.legend(['Image J','CNN'])\n"
      ],
      "execution_count": null,
      "outputs": [
        {
          "output_type": "stream",
          "name": "stderr",
          "text": [
            "/usr/local/lib/python3.7/dist-packages/numpy/core/_asarray.py:83: VisibleDeprecationWarning: Creating an ndarray from ragged nested sequences (which is a list-or-tuple of lists-or-tuples-or ndarrays with different lengths or shapes) is deprecated. If you meant to do this, you must specify 'dtype=object' when creating the ndarray\n",
            "  return array(a, dtype, copy=False, order=order)\n"
          ]
        },
        {
          "output_type": "execute_result",
          "data": {
            "text/plain": [
              "<matplotlib.legend.Legend at 0x7f2cce794dd0>"
            ]
          },
          "metadata": {},
          "execution_count": 42
        },
        {
          "output_type": "display_data",
          "data": {
            "image/png": "[encoded data removed]",
            "text/plain": [
              "<Figure size 432x288 with 1 Axes>"
            ]
          },
          "metadata": {
            "needs_background": "light"
          }
        }
      ]
    },
    {
      "cell_type": "code",
      "metadata": {
        "id": "r11AxFK_JIii",
        "colab": {
          "base_uri": "https://localhost:8080/"
        },
        "outputId": "b3f3e18b-71a7-441e-8260-199f423cd0d4"
      },
      "source": [
        "[Diam1,Diameter_All]"
      ],
      "execution_count": null,
      "outputs": [
        {
          "output_type": "execute_result",
          "data": {
            "text/plain": [
              "[[1.3289030245084366,\n",
              "  1.4388493665910183,\n",
              "  1.3042423209535017,\n",
              "  0.9027033336764101,\n",
              "  1.6778356991700483,\n",
              "  1.1941642642883694,\n",
              "  1.113613629842976,\n",
              "  1.254988970803089,\n",
              "  1.2815923738491737,\n",
              "  2.186553107171316,\n",
              "  1.8807071689325485,\n",
              "  1.2645903954195463,\n",
              "  1.3284238815238665,\n",
              "  1.2875394701698204,\n",
              "  1.1677497815933682,\n",
              "  1.3805939296073044,\n",
              "  1.3902437300372827,\n",
              "  1.2585348599266302,\n",
              "  1.3966398900698307,\n",
              "  1.2988619621707653,\n",
              "  1.3907015741893414,\n",
              "  1.5533154661153457,\n",
              "  1.2463355264843006,\n",
              "  1.2570164179581493,\n",
              "  1.2870449283923413,\n",
              "  1.3488733481786004,\n",
              "  0.9215480325725586,\n",
              "  1.6572198701420842,\n",
              "  1.157345238492556,\n",
              "  1.6281537802488464,\n",
              "  1.3897857350553149,\n",
              "  1.2771138777750963,\n",
              "  0.9991095050455518,\n",
              "  1.165567069812981,\n",
              "  1.875962180228586,\n",
              "  1.2437789380968078,\n",
              "  1.0957485526731296,\n",
              "  1.6667959343039342,\n",
              "  1.3755122549350303,\n",
              "  1.413404699896484,\n",
              "  1.8427506249649406,\n",
              "  0.9501193805081709,\n",
              "  1.1317592420667806,\n",
              "  1.4272992929222168,\n",
              "  1.3389254195014408,\n",
              "  2.0058506827187097,\n",
              "  1.7715912276177528,\n",
              "  1.7053090981329784,\n",
              "  1.273119766733618,\n",
              "  1.2645903954195463,\n",
              "  1.9612385537320356,\n",
              "  1.4716590860639265,\n",
              "  1.5777145844408116,\n",
              "  2.584948960960377,\n",
              "  1.4392917491892008,\n",
              "  1.319287102056625,\n",
              "  1.4237265731938766,\n",
              "  1.8602862904913782,\n",
              "  1.4529388029682806,\n",
              "  1.1984215478959244,\n",
              "  1.6706109906436855,\n",
              "  1.3856569681781365,\n",
              "  1.8008167925806498,\n",
              "  1.5736743355948497,\n",
              "  1.4299729748651446,\n",
              "  2.1055688292639205,\n",
              "  1.4952620641730152,\n",
              "  1.3620242349823046,\n",
              "  1.540557857201846,\n",
              "  1.5226848692236787,\n",
              "  1.293459223084363,\n",
              "  1.4777028859756633,\n",
              "  1.1368105109938904,\n",
              "  1.3086279790944384,\n",
              "  1.269113085619237,\n",
              "  1.5322707725763225,\n",
              "  1.3332075624036517,\n",
              "  1.507558485549488,\n",
              "  1.4686278591874,\n",
              "  1.341300666036808,\n",
              "  1.319769562157615,\n",
              "  1.6774562271083886,\n",
              "  1.1474012764748687,\n",
              "  1.319287102056625,\n",
              "  1.5728650404343092,\n",
              "  1.1328836926591555,\n",
              "  1.2761165219980004,\n",
              "  1.417901703622935,\n",
              "  1.355934328276106,\n",
              "  1.546744033302657,\n",
              "  1.3662244224803437,\n",
              "  1.6560670213972442,\n",
              "  1.5113542745679724,\n",
              "  2.0023564433863985,\n",
              "  1.5483895061438226,\n",
              "  1.467760644550703,\n",
              "  1.2168720518308382,\n",
              "  1.2850648580991957,\n",
              "  1.937726352564777,\n",
              "  1.1780624362746346,\n",
              "  1.355934328276106,\n",
              "  1.3929885377045959],\n",
              " [1.4392399979174149,\n",
              "  1.171297817765324,\n",
              "  1.5554712997671425,\n",
              "  1.391864771935398,\n",
              "  1.5569745736418361,\n",
              "  0.9879355023819225,\n",
              "  1.3709874582793338,\n",
              "  1.2765949448325764,\n",
              "  0.9549019019335143,\n",
              "  1.4178738241562283,\n",
              "  1.4363453782446227,\n",
              "  1.325976073101348,\n",
              "  1.7884945946412167,\n",
              "  0.9979081621430174,\n",
              "  1.6670251584839877,\n",
              "  1.1895665053516307,\n",
              "  0.9155583387926838,\n",
              "  1.2190583547103704,\n",
              "  1.3222622141473528,\n",
              "  0.8181562032946302,\n",
              "  1.307084384843073,\n",
              "  0.9852501650816491,\n",
              "  0.9312008127313961,\n",
              "  1.3763311148215127,\n",
              "  1.4190253317695067,\n",
              "  0.8805949103901842,\n",
              "  0.9807074020468233,\n",
              "  1.4105052733004246,\n",
              "  1.3431159742636476,\n",
              "  1.2334911552613208,\n",
              "  1.6428512620843212,\n",
              "  0.9155642939452294,\n",
              "  1.6279535034838932,\n",
              "  1.1597816857989598,\n",
              "  1.072188341202813,\n",
              "  1.5640156514899444,\n",
              "  1.608811892331342,\n",
              "  1.1239660147628263,\n",
              "  1.4460819542996504,\n",
              "  1.0516148663735472,\n",
              "  0.950741706653776,\n",
              "  1.4625829552019796,\n",
              "  0.956936199519779,\n",
              "  1.4903534329907082,\n",
              "  1.403294805673062,\n",
              "  1.2198855768542,\n",
              "  1.3500475701359986,\n",
              "  1.1392636892846044,\n",
              "  1.3097432257493486,\n",
              "  1.0017696020371722]]"
            ]
          },
          "metadata": {},
          "execution_count": 43
        }
      ]
    },
    {
      "cell_type": "code",
      "metadata": {
        "id": "4xS7NSM92s_8",
        "colab": {
          "base_uri": "https://localhost:8080/",
          "height": 282
        },
        "outputId": "03890442-2973-4b8b-af6c-0d572ee4952f"
      },
      "source": [
        " bins_list = [0.8, 1.0, 1.2, 1.4,1.6, 1.8,2.0]\n",
        " wt1 = np.ones(len(Diam1)) / len(Diam1)*100\n",
        " wt2 = np.ones(len(Diameter_All)) / len(Diameter_All)*100\n",
        " X = pd.DataFrame([Diam1,Diameter_All])\n",
        " wts = pd.DataFrame([wt1,wt2])\n",
        "plt.hist(X,weights=wts,bins = bins_list)\n",
        "plt.legend(['Image J','CNN'])"
      ],
      "execution_count": null,
      "outputs": [
        {
          "output_type": "execute_result",
          "data": {
            "text/plain": [
              "<matplotlib.legend.Legend at 0x7f2cc526c1d0>"
            ]
          },
          "metadata": {},
          "execution_count": 44
        },
        {
          "output_type": "display_data",
          "data": {
            "image/png": "[encoded data removed]",
            "text/plain": [
              "<Figure size 432x288 with 1 Axes>"
            ]
          },
          "metadata": {
            "needs_background": "light"
          }
        }
      ]
    },
    {
      "cell_type": "code",
      "metadata": {
        "id": "jD80rFZs37Wm",
        "colab": {
          "base_uri": "https://localhost:8080/",
          "height": 265
        },
        "outputId": "fee6ca28-ca2b-4a50-faa2-0a8451eb75e1"
      },
      "source": [
        "yy = plt.hist(X,weights=wts,bins = bins_list)"
      ],
      "execution_count": null,
      "outputs": [
        {
          "output_type": "display_data",
          "data": {
            "image/png": "[encoded data removed]",
            "text/plain": [
              "<Figure size 432x288 with 1 Axes>"
            ]
          },
          "metadata": {
            "needs_background": "light"
          }
        }
      ]
    },
    {
      "cell_type": "code",
      "metadata": {
        "id": "edcwJoJP4GBs",
        "colab": {
          "base_uri": "https://localhost:8080/"
        },
        "outputId": "e831c8d7-4d29-4cee-8ff9-da7980132b2a"
      },
      "source": [
        "yy[0][0]"
      ],
      "execution_count": null,
      "outputs": [
        {
          "output_type": "execute_result",
          "data": {
            "text/plain": [
              "array([ 3.92156863, 11.76470588, 40.19607843, 23.52941176,  8.82352941,\n",
              "        6.8627451 ])"
            ]
          },
          "metadata": {},
          "execution_count": 46
        }
      ]
    },
    {
      "cell_type": "code",
      "metadata": {
        "id": "_0zY-NBY6Rgx",
        "colab": {
          "base_uri": "https://localhost:8080/"
        },
        "outputId": "aeb54b26-2770-44ad-bd8b-6b6b851a1948"
      },
      "source": [
        "bins_list"
      ],
      "execution_count": null,
      "outputs": [
        {
          "output_type": "execute_result",
          "data": {
            "text/plain": [
              "[0.8, 1.0, 1.2, 1.4, 1.6, 1.8, 2.0]"
            ]
          },
          "metadata": {},
          "execution_count": 47
        }
      ]
    },
    {
      "cell_type": "code",
      "metadata": {
        "id": "9ujCjAa85RG5"
      },
      "source": [
        "k =0\n",
        "for kk in yy[0][0]:\n",
        "  name = str(bins_list[k])\n",
        "  df[name] = yy[0][1][k]\n",
        "  k = k+1"
      ],
      "execution_count": null,
      "outputs": []
    },
    {
      "cell_type": "code",
      "metadata": {
        "id": "iMQRVn4D69RC",
        "colab": {
          "base_uri": "https://localhost:8080/",
          "height": 80
        },
        "outputId": "126a09b1-f6cc-48f6-a2e4-4b93a588d97a"
      },
      "source": [
        "df"
      ],
      "execution_count": null,
      "outputs": [
        {
          "output_type": "execute_result",
          "data": {
            "text/html": [
              "<div>\n",
              "<style scoped>\n",
              "    .dataframe tbody tr th:only-of-type {\n",
              "        vertical-align: middle;\n",
              "    }\n",
              "\n",
              "    .dataframe tbody tr th {\n",
              "        vertical-align: top;\n",
              "    }\n",
              "\n",
              "    .dataframe thead th {\n",
              "        text-align: right;\n",
              "    }\n",
              "</style>\n",
              "<table border=\"1\" class=\"dataframe\">\n",
              "  <thead>\n",
              "    <tr style=\"text-align: right;\">\n",
              "      <th></th>\n",
              "      <th>N1</th>\n",
              "      <th>N2</th>\n",
              "      <th>R^2</th>\n",
              "      <th>acc train</th>\n",
              "      <th>acc test</th>\n",
              "      <th>loss train</th>\n",
              "      <th>loss test</th>\n",
              "      <th>Details</th>\n",
              "      <th>0.8</th>\n",
              "      <th>1.0</th>\n",
              "      <th>1.2</th>\n",
              "      <th>1.4</th>\n",
              "      <th>1.6</th>\n",
              "      <th>1.8</th>\n",
              "    </tr>\n",
              "  </thead>\n",
              "  <tbody>\n",
              "    <tr>\n",
              "      <th>0</th>\n",
              "      <td>20</td>\n",
              "      <td>20</td>\n",
              "      <td>0.873819</td>\n",
              "      <td>1.0</td>\n",
              "      <td>0.972789</td>\n",
              "      <td>0.000011</td>\n",
              "      <td>0.227424</td>\n",
              "      <td>3 layers of Convolution: 64, 128, 256</td>\n",
              "      <td>24.0</td>\n",
              "      <td>16.0</td>\n",
              "      <td>26.0</td>\n",
              "      <td>24.0</td>\n",
              "      <td>10.0</td>\n",
              "      <td>0.0</td>\n",
              "    </tr>\n",
              "  </tbody>\n",
              "</table>\n",
              "</div>"
            ],
            "text/plain": [
              "   N1  N2       R^2  acc train  acc test  ...   1.0   1.2   1.4   1.6  1.8\n",
              "0  20  20  0.873819        1.0  0.972789  ...  16.0  26.0  24.0  10.0  0.0\n",
              "\n",
              "[1 rows x 14 columns]"
            ]
          },
          "metadata": {},
          "execution_count": 49
        }
      ]
    },
    {
      "cell_type": "code",
      "metadata": {
        "id": "JMWpAwMq5Hw2",
        "colab": {
          "base_uri": "https://localhost:8080/",
          "height": 17
        },
        "outputId": "f6288a85-e5d2-4ed6-a58f-8b6a826939ca"
      },
      "source": [
        "Arq = \"output.xlsx\"\n",
        "df.to_excel(Arq)\n",
        "files.download(Arq)"
      ],
      "execution_count": null,
      "outputs": [
        {
          "output_type": "display_data",
          "data": {
            "application/javascript": [
              "\n",
              "    async function download(id, filename, size) {\n",
              "      if (!google.colab.kernel.accessAllowed) {\n",
              "        return;\n",
              "      }\n",
              "      const div = document.createElement('div');\n",
              "      const label = document.createElement('label');\n",
              "      label.textContent = `Downloading \"${filename}\": `;\n",
              "      div.appendChild(label);\n",
              "      const progress = document.createElement('progress');\n",
              "      progress.max = size;\n",
              "      div.appendChild(progress);\n",
              "      document.body.appendChild(div);\n",
              "\n",
              "      const buffers = [];\n",
              "      let downloaded = 0;\n",
              "\n",
              "      const channel = await google.colab.kernel.comms.open(id);\n",
              "      // Send a message to notify the kernel that we're ready.\n",
              "      channel.send({})\n",
              "\n",
              "      for await (const message of channel.messages) {\n",
              "        // Send a message to notify the kernel that we're ready.\n",
              "        channel.send({})\n",
              "        if (message.buffers) {\n",
              "          for (const buffer of message.buffers) {\n",
              "            buffers.push(buffer);\n",
              "            downloaded += buffer.byteLength;\n",
              "            progress.value = downloaded;\n",
              "          }\n",
              "        }\n",
              "      }\n",
              "      const blob = new Blob(buffers, {type: 'application/binary'});\n",
              "      const a = document.createElement('a');\n",
              "      a.href = window.URL.createObjectURL(blob);\n",
              "      a.download = filename;\n",
              "      div.appendChild(a);\n",
              "      a.click();\n",
              "      div.remove();\n",
              "    }\n",
              "  "
            ],
            "text/plain": [
              "<IPython.core.display.Javascript object>"
            ]
          },
          "metadata": {}
        },
        {
          "output_type": "display_data",
          "data": {
            "application/javascript": [
              "download(\"download_35751d00-6821-48ee-a84e-fb86fb1ff847\", \"output.xlsx\", 5236)"
            ],
            "text/plain": [
              "<IPython.core.display.Javascript object>"
            ]
          },
          "metadata": {}
        }
      ]
    }
  ]
}