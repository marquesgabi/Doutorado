{
  "nbformat": 4,
  "nbformat_minor": 0,
  "metadata": {
    "colab": {
      "name": "01_Features_Mahotas_Completo_mar_03_2020.ipynb",
      "provenance": [],
      "collapsed_sections": [],
      "include_colab_link": true
    },
    "kernelspec": {
      "name": "python3",
      "display_name": "Python 3"
    },
    "accelerator": "GPU"
  },
  "cells": [
    {
      "cell_type": "markdown",
      "metadata": {
        "id": "view-in-github",
        "colab_type": "text"
      },
      "source": [
        "<a href=\"https://colab.research.google.com/github/marquesgabi/Doutorado/blob/master/01_Features_Mahotas_Completo_mar_03_2020.ipynb\" target=\"_parent\"><img src=\"https://colab.research.google.com/assets/colab-badge.svg\" alt=\"Open In Colab\"/></a>"
      ]
    },
    {
      "cell_type": "code",
      "metadata": {
        "id": "f393Z8HdEmRg",
        "colab_type": "code",
        "outputId": "3cbe0fe4-5f77-4c81-fd9f-d732c6f9803b",
        "colab": {
          "base_uri": "https://localhost:8080/",
          "height": 50
        }
      },
      "source": [
        "!pip install mahotas"
      ],
      "execution_count": 58,
      "outputs": [
        {
          "output_type": "stream",
          "text": [
            "Requirement already satisfied: mahotas in /usr/local/lib/python3.6/dist-packages (1.4.9)\n",
            "Requirement already satisfied: numpy in /usr/local/lib/python3.6/dist-packages (from mahotas) (1.17.5)\n"
          ],
          "name": "stdout"
        }
      ]
    },
    {
      "cell_type": "code",
      "metadata": {
        "id": "avlgJG0Tz-Su",
        "colab_type": "code",
        "outputId": "7007dc01-2db5-435d-eff5-9ae4a1013b08",
        "colab": {
          "base_uri": "https://localhost:8080/",
          "height": 133
        }
      },
      "source": [
        "!git clone https://github.com/ucfilho/marquesgabi_fev_2020 #clonar do Github\n",
        "%cd marquesgabi_fev_2020\n",
        "import Go2BlackWhite\n",
        "import Go2Mahotas\n"
      ],
      "execution_count": 59,
      "outputs": [
        {
          "output_type": "stream",
          "text": [
            "Cloning into 'marquesgabi_fev_2020'...\n",
            "remote: Enumerating objects: 73, done.\u001b[K\n",
            "remote: Counting objects:   1% (1/73)\u001b[K\rremote: Counting objects:   2% (2/73)\u001b[K\rremote: Counting objects:   4% (3/73)\u001b[K\rremote: Counting objects:   5% (4/73)\u001b[K\rremote: Counting objects:   6% (5/73)\u001b[K\rremote: Counting objects:   8% (6/73)\u001b[K\rremote: Counting objects:   9% (7/73)\u001b[K\rremote: Counting objects:  10% (8/73)\u001b[K\rremote: Counting objects:  12% (9/73)\u001b[K\rremote: Counting objects:  13% (10/73)\u001b[K\rremote: Counting objects:  15% (11/73)\u001b[K\rremote: Counting objects:  16% (12/73)\u001b[K\rremote: Counting objects:  17% (13/73)\u001b[K\rremote: Counting objects:  19% (14/73)\u001b[K\rremote: Counting objects:  20% (15/73)\u001b[K\rremote: Counting objects:  21% (16/73)\u001b[K\rremote: Counting objects:  23% (17/73)\u001b[K\rremote: Counting objects:  24% (18/73)\u001b[K\rremote: Counting objects:  26% (19/73)\u001b[K\rremote: Counting objects:  27% (20/73)\u001b[K\rremote: Counting objects:  28% (21/73)\u001b[K\rremote: Counting objects:  30% (22/73)\u001b[K\rremote: Counting objects:  31% (23/73)\u001b[K\rremote: Counting objects:  32% (24/73)\u001b[K\rremote: Counting objects:  34% (25/73)\u001b[K\rremote: Counting objects:  35% (26/73)\u001b[K\rremote: Counting objects:  36% (27/73)\u001b[K\rremote: Counting objects:  38% (28/73)\u001b[K\rremote: Counting objects:  39% (29/73)\u001b[K\rremote: Counting objects:  41% (30/73)\u001b[K\rremote: Counting objects:  42% (31/73)\u001b[K\rremote: Counting objects:  43% (32/73)\u001b[K\rremote: Counting objects:  45% (33/73)\u001b[K\rremote: Counting objects:  46% (34/73)\u001b[K\rremote: Counting objects:  47% (35/73)\u001b[K\rremote: Counting objects:  49% (36/73)\u001b[K\rremote: Counting objects:  50% (37/73)\u001b[K\rremote: Counting objects:  52% (38/73)\u001b[K\rremote: Counting objects:  53% (39/73)\u001b[K\rremote: Counting objects:  54% (40/73)\u001b[K\rremote: Counting objects:  56% (41/73)\u001b[K\rremote: Counting objects:  57% (42/73)\u001b[K\rremote: Counting objects:  58% (43/73)\u001b[K\rremote: Counting objects:  60% (44/73)\u001b[K\rremote: Counting objects:  61% (45/73)\u001b[K\rremote: Counting objects:  63% (46/73)\u001b[K\rremote: Counting objects:  64% (47/73)\u001b[K\rremote: Counting objects:  65% (48/73)\u001b[K\rremote: Counting objects:  67% (49/73)\u001b[K\rremote: Counting objects:  68% (50/73)\u001b[K\rremote: Counting objects:  69% (51/73)\u001b[K\rremote: Counting objects:  71% (52/73)\u001b[K\rremote: Counting objects:  72% (53/73)\u001b[K\rremote: Counting objects:  73% (54/73)\u001b[K\rremote: Counting objects:  75% (55/73)\u001b[K\rremote: Counting objects:  76% (56/73)\u001b[K\rremote: Counting objects:  78% (57/73)\u001b[K\rremote: Counting objects:  79% (58/73)\u001b[K\rremote: Counting objects:  80% (59/73)\u001b[K\rremote: Counting objects:  82% (60/73)\u001b[K\rremote: Counting objects:  83% (61/73)\u001b[K\rremote: Counting objects:  84% (62/73)\u001b[K\rremote: Counting objects:  86% (63/73)\u001b[K\rremote: Counting objects:  87% (64/73)\u001b[K\rremote: Counting objects:  89% (65/73)\u001b[K\rremote: Counting objects:  90% (66/73)\u001b[K\rremote: Counting objects:  91% (67/73)\u001b[K\rremote: Counting objects:  93% (68/73)\u001b[K\rremote: Counting objects:  94% (69/73)\u001b[K\rremote: Counting objects:  95% (70/73)\u001b[K\rremote: Counting objects:  97% (71/73)\u001b[K\rremote: Counting objects:  98% (72/73)\u001b[K\rremote: Counting objects: 100% (73/73)\u001b[K\rremote: Counting objects: 100% (73/73), done.\u001b[K\n",
            "remote: Compressing objects: 100% (71/71), done.\u001b[K\n",
            "remote: Total 73 (delta 37), reused 0 (delta 0), pack-reused 0\u001b[K\n",
            "Unpacking objects: 100% (73/73), done.\n",
            "/content/marquesgabi_fev_2020/Doutorado/marquesgabi_fev_2020/Doutorado/marquesgabi_fev_2020\n"
          ],
          "name": "stdout"
        }
      ]
    },
    {
      "cell_type": "code",
      "metadata": {
        "id": "W0wfLMP8nWAM",
        "colab_type": "code",
        "colab": {}
      },
      "source": [
        "\n",
        "#!git clone https://github.com/ucfilho/marquesgabi_fev_2020 #clonar do Github\n",
        "#%cd marquesgabi_fev_2020"
      ],
      "execution_count": 0,
      "outputs": []
    },
    {
      "cell_type": "code",
      "metadata": {
        "id": "nI-R9-mcybyd",
        "colab_type": "code",
        "outputId": "0905a99a-ad33-415c-c1c7-93533a28f83b",
        "colab": {
          "base_uri": "https://localhost:8080/",
          "height": 150
        }
      },
      "source": [
        "\n",
        "!git clone https://github.com/marquesgabi/Doutorado\n",
        "%cd Doutorado"
      ],
      "execution_count": 61,
      "outputs": [
        {
          "output_type": "stream",
          "text": [
            "Cloning into 'Doutorado'...\n",
            "remote: Enumerating objects: 19, done.\u001b[K\n",
            "remote: Counting objects: 100% (19/19), done.\u001b[K\n",
            "remote: Compressing objects: 100% (19/19), done.\u001b[K\n",
            "remote: Total 166 (delta 5), reused 0 (delta 0), pack-reused 147\u001b[K\n",
            "Receiving objects: 100% (166/166), 65.47 MiB | 26.87 MiB/s, done.\n",
            "Resolving deltas: 100% (74/74), done.\n",
            "/content/marquesgabi_fev_2020/Doutorado/marquesgabi_fev_2020/Doutorado/marquesgabi_fev_2020/Doutorado\n"
          ],
          "name": "stdout"
        }
      ]
    },
    {
      "cell_type": "code",
      "metadata": {
        "id": "SzWdrvAgvBId",
        "colab_type": "code",
        "colab": {}
      },
      "source": [
        "import numpy as np\n",
        "import cv2\n",
        "from skimage import data\n",
        "import matplotlib.pyplot as plt\n",
        "import matplotlib\n",
        "import pandas as pd\n",
        "from skimage import io, util\n",
        "import mahotas.features.texture as mht\n",
        "import mahotas.features\n",
        "import os \n",
        "import zipfile\n",
        "from skimage import filters\n",
        "from skimage import exposure\n",
        "import skimage.feature as sk\n",
        "from google.colab import files\n",
        "from numpy import linalg as LA\n",
        "from scipy.signal import find_peaks\n",
        "from scipy.signal import peak_prominences\n",
        "from scipy.signal import peak_widths\n",
        "from scipy.integrate import simps\n",
        "import re\n",
        "import Go2BlackWhite\n",
        "%matplotlib inline"
      ],
      "execution_count": 0,
      "outputs": []
    },
    {
      "cell_type": "code",
      "metadata": {
        "id": "xoW1HoWp3qNO",
        "colab_type": "code",
        "colab": {}
      },
      "source": [
        "Size=20 # tamanho da foto\n",
        "Sub_Size=int(Size/5) # tamanho do fracionamento\n",
        "Row_Crop=1/2 # posicao do corte\n",
        "Crop=int(Size*Row_Crop)\n",
        "Propriedade='contrast' # escolher uma propriedade para o cálcul0 dos picos e outras informações"
      ],
      "execution_count": 0,
      "outputs": []
    },
    {
      "cell_type": "code",
      "metadata": {
        "id": "h1Zsufcm9bfv",
        "colab_type": "code",
        "colab": {}
      },
      "source": [
        "Transfere='Fotos9Amostras.zip'\n",
        "file_name = zipfile.ZipFile(Transfere, 'r')\n",
        "file_name.extractall()"
      ],
      "execution_count": 0,
      "outputs": []
    },
    {
      "cell_type": "code",
      "metadata": {
        "id": "9ZQOQdJVjkW1",
        "colab_type": "code",
        "colab": {}
      },
      "source": [
        "Prop=Propriedade"
      ],
      "execution_count": 0,
      "outputs": []
    },
    {
      "cell_type": "code",
      "metadata": {
        "id": "MDDexaSZiaJA",
        "colab_type": "code",
        "outputId": "397609ef-3d8a-4a08-ce8f-60bc9fe34f75",
        "colab": {
          "base_uri": "https://localhost:8080/",
          "height": 264
        }
      },
      "source": [
        "ww,img_name=Go2BlackWhite.BlackWhite(Transfere,Size)\n",
        "plt.axis(\"off\")\n",
        "plt.imshow(ww[10], cmap = \"gray\")"
      ],
      "execution_count": 66,
      "outputs": [
        {
          "output_type": "execute_result",
          "data": {
            "text/plain": [
              "<matplotlib.image.AxesImage at 0x7f46428eb128>"
            ]
          },
          "metadata": {
            "tags": []
          },
          "execution_count": 66
        },
        {
          "output_type": "display_data",
          "data": {
            "image/png": "[encoded data removed]",
            "text/plain": [
              "<Figure size 432x288 with 1 Axes>"
            ]
          },
          "metadata": {
            "tags": []
          }
        }
      ]
    },
    {
      "cell_type": "code",
      "metadata": {
        "id": "VHWVP_N8ebP6",
        "colab_type": "code",
        "outputId": "980e9d4c-15f6-4406-f798-ff0a158a8a2f",
        "colab": {
          "base_uri": "https://localhost:8080/",
          "height": 53
        }
      },
      "source": [
        "Num,Row,Col=np.asarray(ww).shape\n",
        "Idx=[]\n",
        "New_Colunm=[]\n",
        "\n",
        "for i in range(Num):\n",
        "  Media=np.mean(ww[i])\n",
        "  k=np.where(ww[i].ravel() > Media)\n",
        "  Idx.append(np.asarray(k).ravel())\n",
        "\n",
        "Quant=Size*Size\n",
        "for i in Idx:\n",
        "  #print(i)\n",
        "  New_Colunm.append(len(i)/Quant)\n",
        "print(New_Colunm)"
      ],
      "execution_count": 67,
      "outputs": [
        {
          "output_type": "stream",
          "text": [
            "[0.6075, 0.51, 0.4775, 0.495, 0.515, 0.57, 0.425, 0.3225, 0.5375, 0.5075, 0.5825, 0.6175, 0.565, 0.4625, 0.62, 0.63, 0.6, 0.6125, 0.495, 0.4475, 0.44, 0.5, 0.53, 0.6375, 0.5325, 0.5775, 0.4775, 0.4875, 0.535, 0.5225, 0.5225, 0.4475, 0.4625, 0.485, 0.505, 0.385, 0.4575, 0.4675, 0.525, 0.3975, 0.45, 0.3475, 0.4675, 0.465, 0.5325, 0.4, 0.565, 0.4525, 0.515, 0.5, 0.5275, 0.52, 0.425, 0.5125, 0.5075, 0.49, 0.4925, 0.46, 0.6025, 0.4775, 0.44, 0.5125, 0.395, 0.4875, 0.5625, 0.3775, 0.57, 0.49, 0.495, 0.4275, 0.405, 0.4325, 0.4625, 0.4825, 0.5525, 0.5475, 0.4325, 0.52, 0.5175, 0.4825, 0.3925, 0.5025, 0.5, 0.4575, 0.4325, 0.3375, 0.505, 0.525, 0.475, 0.5575, 0.45, 0.3125, 0.48, 0.62, 0.4675, 0.6175, 0.4175, 0.43, 0.4825, 0.4675, 0.5225, 0.4475, 0.51, 0.4975, 0.4775, 0.6525, 0.625, 0.3925, 0.465, 0.6275, 0.495, 0.3625, 0.475, 0.6375, 0.3825, 0.4725, 0.4275, 0.5975, 0.5425, 0.4875, 0.575, 0.46, 0.6425, 0.5625, 0.53, 0.39, 0.5125, 0.4975, 0.4575, 0.525, 0.3275, 0.5925, 0.5225, 0.355, 0.565, 0.4525, 0.6575, 0.4275, 0.5575, 0.6275, 0.585, 0.5175, 0.6075, 0.4525, 0.52, 0.5375, 0.3875, 0.3675, 0.4025, 0.515, 0.5025, 0.47, 0.39, 0.36, 0.51, 0.4525, 0.5475, 0.4025, 0.5225, 0.4825, 0.435, 0.48, 0.5425, 0.4525, 0.4475, 0.545, 0.4425, 0.435, 0.6425, 0.41, 0.6, 0.295, 0.525, 0.48, 0.4825, 0.4625, 0.4575, 0.43, 0.5175, 0.4425, 0.56, 0.5025, 0.5325, 0.515, 0.5375, 0.43, 0.4175, 0.5675, 0.4925, 0.405, 0.5, 0.46, 0.4925, 0.5, 0.635, 0.6575, 0.4925, 0.5, 0.4725, 0.4375, 0.5, 0.4825, 0.54, 0.395, 0.5275, 0.47, 0.3675, 0.4575, 0.515, 0.41, 0.5575, 0.375, 0.39, 0.56, 0.425, 0.4025, 0.5, 0.445, 0.4575, 0.4825, 0.3875, 0.3775, 0.5975, 0.4575, 0.485, 0.495, 0.4825, 0.495, 0.4175, 0.5, 0.61, 0.4125, 0.5075, 0.3675, 0.45, 0.5375, 0.615, 0.4025, 0.6175, 0.55, 0.355, 0.48, 0.525, 0.585, 0.4975, 0.44, 0.53, 0.56, 0.5575, 0.4425, 0.57, 0.4875, 0.4975, 0.3125, 0.4875, 0.51, 0.5775, 0.505, 0.4775, 0.4425, 0.535, 0.5775, 0.5375, 0.515, 0.505, 0.4975, 0.5075, 0.5325, 0.6425, 0.4175, 0.545, 0.4575, 0.3925, 0.4525, 0.445, 0.4475, 0.4375, 0.475, 0.405, 0.5325, 0.5525, 0.4275, 0.3825, 0.585, 0.46, 0.5375, 0.48, 0.5025, 0.3875, 0.5125, 0.33, 0.55, 0.4825, 0.465, 0.475, 0.5025, 0.39, 0.41, 0.5175, 0.5575, 0.53, 0.44, 0.34, 0.485, 0.39, 0.46, 0.405, 0.44, 0.485, 0.595, 0.5475, 0.57, 0.525, 0.495, 0.4125, 0.5625, 0.6125, 0.535, 0.6125, 0.3875, 0.4875, 0.4725, 0.5125, 0.535, 0.5625, 0.405, 0.5375, 0.4625, 0.43, 0.555, 0.4675, 0.51, 0.41, 0.445, 0.4325, 0.4825, 0.385, 0.43, 0.5225, 0.465, 0.49, 0.36, 0.465, 0.5375, 0.5075, 0.5525, 0.4975, 0.4875, 0.505, 0.58, 0.4925, 0.4675, 0.4875, 0.5925, 0.455, 0.555, 0.4725, 0.505, 0.4675, 0.3875, 0.5775, 0.5775, 0.4225, 0.49, 0.4625, 0.48, 0.4675, 0.4675, 0.435, 0.4875, 0.495, 0.5125, 0.53, 0.485, 0.41, 0.53, 0.5525, 0.515, 0.405, 0.47, 0.4625, 0.3375, 0.41, 0.5725, 0.5425, 0.3925, 0.41, 0.5, 0.5275, 0.54, 0.5, 0.4475, 0.5425, 0.5075, 0.3675, 0.5275, 0.43, 0.4, 0.4575, 0.5, 0.5, 0.55, 0.6025, 0.45, 0.4675, 0.5475, 0.48, 0.485, 0.5325, 0.455, 0.485, 0.5325, 0.5175, 0.4025, 0.4725, 0.6425, 0.44, 0.4475, 0.4275, 0.345, 0.56, 0.54, 0.365, 0.715, 0.4325, 0.4475, 0.505, 0.4825, 0.5325, 0.4125, 0.405, 0.405, 0.48, 0.53, 0.4575, 0.525, 0.33, 0.46, 0.545, 0.4625, 0.47, 0.5275, 0.34, 0.3825, 0.535, 0.5625, 0.4575, 0.49, 0.4125, 0.39, 0.3625, 0.4075, 0.5725, 0.465, 0.54, 0.5075, 0.545, 0.52, 0.4125, 0.5975, 0.63, 0.54, 0.4825, 0.5325, 0.45, 0.53, 0.5125, 0.4475, 0.5175, 0.4425, 0.4775, 0.5625, 0.5175, 0.3975, 0.535, 0.355, 0.6175, 0.5325, 0.495, 0.435, 0.5475, 0.4425, 0.4925, 0.4675, 0.3825, 0.48, 0.5075, 0.4975, 0.485, 0.63, 0.4425, 0.5325, 0.545, 0.5775, 0.33, 0.3575, 0.3975, 0.4875, 0.52, 0.495, 0.5925, 0.505, 0.575, 0.485, 0.3675, 0.45, 0.43, 0.455, 0.465, 0.395, 0.3525, 0.48, 0.4225, 0.46, 0.525, 0.4625, 0.46, 0.67, 0.5475, 0.4575, 0.39, 0.5125, 0.37, 0.3225, 0.455, 0.5, 0.38, 0.54, 0.5, 0.6225, 0.555, 0.4475, 0.4575, 0.6075, 0.615, 0.4975, 0.37, 0.49, 0.4625, 0.5225]\n"
          ],
          "name": "stdout"
        }
      ]
    },
    {
      "cell_type": "code",
      "metadata": {
        "id": "GrLtSCRor_By",
        "colab_type": "code",
        "outputId": "a51528fc-a5d6-4dfa-d825-d0a134b45116",
        "colab": {
          "base_uri": "https://localhost:8080/",
          "height": 33
        }
      },
      "source": [
        "print(len(img_name))"
      ],
      "execution_count": 68,
      "outputs": [
        {
          "output_type": "stream",
          "text": [
            "540\n"
          ],
          "name": "stdout"
        }
      ]
    },
    {
      "cell_type": "code",
      "metadata": {
        "colab_type": "code",
        "id": "qCKcPafHsAuJ",
        "colab": {}
      },
      "source": [
        "# ww contain all photos in black and white\n",
        "ww,img_name=Go2BlackWhite.BlackWhite(Transfere,Size)"
      ],
      "execution_count": 0,
      "outputs": []
    },
    {
      "cell_type": "code",
      "metadata": {
        "id": "hDdj1998k-7s",
        "colab_type": "code",
        "outputId": "87b17540-5494-43c9-9c8e-cac461be59a7",
        "colab": {
          "base_uri": "https://localhost:8080/",
          "height": 264
        }
      },
      "source": [
        "plt.axis(\"off\")\n",
        "plt.imshow(ww[539], cmap = \"gray\")"
      ],
      "execution_count": 70,
      "outputs": [
        {
          "output_type": "execute_result",
          "data": {
            "text/plain": [
              "<matplotlib.image.AxesImage at 0x7f46428ebf28>"
            ]
          },
          "metadata": {
            "tags": []
          },
          "execution_count": 70
        },
        {
          "output_type": "display_data",
          "data": {
            "image/png": "[encoded data removed]",
            "text/plain": [
              "<Figure size 432x288 with 1 Axes>"
            ]
          },
          "metadata": {
            "tags": []
          }
        }
      ]
    },
    {
      "cell_type": "code",
      "metadata": {
        "id": "iSe01o8dBTdM",
        "colab_type": "code",
        "outputId": "2e550153-da82-49dc-9b29-08a0ecf182a0",
        "colab": {
          "base_uri": "https://localhost:8080/",
          "height": 53
        }
      },
      "source": [
        "print(img_name)"
      ],
      "execution_count": 71,
      "outputs": [
        {
          "output_type": "stream",
          "text": [
            "['Fotos9Amostras/Q6-9-5-G9.jpg', 'Fotos9Amostras/Q6-9-5-I8.jpg', 'Fotos9Amostras/Q6-6-3-I3.jpg', 'Fotos9Amostras/Q6-9-5-G6.jpg', 'Fotos9Amostras/Q6-8-2-G1.jpg', 'Fotos9Amostras/Q6-9-5-B8.jpg', 'Fotos9Amostras/Q6-8-2-B6.jpg', 'Fotos9Amostras/Q6-7-3-I1.jpg', 'Fotos9Amostras/Q6-8-3-I5.jpg', 'Fotos9Amostras/Q6-9-5-I3.jpg', 'Fotos9Amostras/Q6-7-3-G1.jpg', 'Fotos9Amostras/Q6-9-5-G1.jpg', 'Fotos9Amostras/Q6-9-5-I1.jpg', 'Fotos9Amostras/Q6-9-5-I4.jpg', 'Fotos9Amostras/Q6-9-5-G7.jpg', 'Fotos9Amostras/Q6-9-5-G4.jpg', 'Fotos9Amostras/Q6-9-5-G10.jpg', 'Fotos9Amostras/Q6-9-5-G2.jpg', 'Fotos9Amostras/Q6-9-5-I2.jpg', 'Fotos9Amostras/Q6-9-5-B7.jpg', 'Fotos9Amostras/Q6-9-5-I7.jpg', 'Fotos9Amostras/Q6-9-5-G8.jpg', 'Fotos9Amostras/Q6-9-5-I6.jpg', 'Fotos9Amostras/Q6-9-5-G3.jpg', 'Fotos9Amostras/Q6-9-5-I10.jpg', 'Fotos9Amostras/Q6-9-5-I5.jpg', 'Fotos9Amostras/Q6-9-5-G5.jpg', 'Fotos9Amostras/Q6-9-5-B6.jpg', 'Fotos9Amostras/Q6-9-5-B9.jpg', 'Fotos9Amostras/Q6-9-5-I9.jpg', 'Fotos9Amostras/Q6-9-5-B5.jpg', 'Fotos9Amostras/Q6-6-2-I7.jpg', 'Fotos9Amostras/Q6-6-2-I2.jpg', 'Fotos9Amostras/Q6-6-2-I3.jpg', 'Fotos9Amostras/Q6-6-2-I6.jpg', 'Fotos9Amostras/Q6-6-3-B9.jpg', 'Fotos9Amostras/Q6-6-3-B2.jpg', 'Fotos9Amostras/Q6-6-2-I1.jpg', 'Fotos9Amostras/Q6-6-2-I8.jpg', 'Fotos9Amostras/Q6-6-3-B4.jpg', 'Fotos9Amostras/Q6-6-3-B10.jpg', 'Fotos9Amostras/Q6-6-3-B8.jpg', 'Fotos9Amostras/Q6-6-2-I9.jpg', 'Fotos9Amostras/Q6-6-2-I4.jpg', 'Fotos9Amostras/Q6-6-2-G5.jpg', 'Fotos9Amostras/Q6-6-3-B7.jpg', 'Fotos9Amostras/Q6-6-3-B1.jpg', 'Fotos9Amostras/Q6-6-2-I5.jpg', 'Fotos9Amostras/Q6-6-2-G2.jpg', 'Fotos9Amostras/Q6-6-3-B6.jpg', 'Fotos9Amostras/Q6-6-2-G7.jpg', 'Fotos9Amostras/Q6-6-2-I10.jpg', 'Fotos9Amostras/Q6-6-3-B3.jpg', 'Fotos9Amostras/Q6-6-3-B5.jpg', 'Fotos9Amostras/Q6-6-2-G4.jpg', 'Fotos9Amostras/Q6-6-2-G8.jpg', 'Fotos9Amostras/Q6-2-2-I10.jpg', 'Fotos9Amostras/Q6-1-5-B3.jpg', 'Fotos9Amostras/Q6-7-4-B2.jpg', 'Fotos9Amostras/Q6-3-1-G4.jpg', 'Fotos9Amostras/Q6-2-2-B3.jpg', 'Fotos9Amostras/Q6-7-4-G6.jpg', 'Fotos9Amostras/Q6-1-5-I7.jpg', 'Fotos9Amostras/Q6-1-5-I2.jpg', 'Fotos9Amostras/Q6-1-4-I5.jpg', 'Fotos9Amostras/Q6-2-2-G1.jpg', 'Fotos9Amostras/Q6-3-1-G3.jpg', 'Fotos9Amostras/Q6-6-3-I7.jpg', 'Fotos9Amostras/Q6-6-3-G1.jpg', 'Fotos9Amostras/Q6-4-3-G7.jpg', 'Fotos9Amostras/Q6-2-1-B8.jpg', 'Fotos9Amostras/Q6-1-4-G5.jpg', 'Fotos9Amostras/Q6-3-1-G8.jpg', 'Fotos9Amostras/Q6-7-4-I5.jpg', 'Fotos9Amostras/Q6-4-1-B4.jpg', 'Fotos9Amostras/Q6-7-4-I7.jpg', 'Fotos9Amostras/Q6-1-5-G4.jpg', 'Fotos9Amostras/Q6-7-3-I2.jpg', 'Fotos9Amostras/Q6-2-2-G8.jpg', 'Fotos9Amostras/Q6-4-3-G2.jpg', 'Fotos9Amostras/Q6-8-3-B4.jpg', 'Fotos9Amostras/Q6-4-1-I9.jpg', 'Fotos9Amostras/Q6-7-4-I10.jpg', 'Fotos9Amostras/Q6-7-4-B6.jpg', 'Fotos9Amostras/Q6-2-2-I6.jpg', 'Fotos9Amostras/Q6-5-4-I4.jpg', 'Fotos9Amostras/Q6-5-2-G7.jpg', 'Fotos9Amostras/Q6-9-3-I9.jpg', 'Fotos9Amostras/Q6-5-2-I4.jpg', 'Fotos9Amostras/Q6-1-5-I1.jpg', 'Fotos9Amostras/Q6-3-1-I3.jpg', 'Fotos9Amostras/Q6-8-3-B8.jpg', 'Fotos9Amostras/Q6-7-4-I2.jpg', 'Fotos9Amostras/Q6-8-3-G8.jpg', 'Fotos9Amostras/Q6-5-4-B8.jpg', 'Fotos9Amostras/Q6-9-3-I8.jpg', 'Fotos9Amostras/Q6-6-3-G10.jpg', 'Fotos9Amostras/Q6-6-2-B7.jpg', 'Fotos9Amostras/Q6-5-2-I2.jpg', 'Fotos9Amostras/Q6-3-1-I1.jpg', 'Fotos9Amostras/Q6-4-1-G2.jpg', 'Fotos9Amostras/Q6-5-4-G1.jpg', 'Fotos9Amostras/Q6-5-2-B3.jpg', 'Fotos9Amostras/Q6-3-2-G3.jpg', 'Fotos9Amostras/Q6-6-2-B2.jpg', 'Fotos9Amostras/Q6-9-3-G5.jpg', 'Fotos9Amostras/Q6-7-3-G3.jpg', 'Fotos9Amostras/Q6-9-3-B10.jpg', 'Fotos9Amostras/Q6-8-2-B5.jpg', 'Fotos9Amostras/Q6-9-3-G10.jpg', 'Fotos9Amostras/Q6-4-3-I8.jpg', 'Fotos9Amostras/Q6-3-1-B1.jpg', 'Fotos9Amostras/Q6-4-1-G7.jpg', 'Fotos9Amostras/Q6-9-3-G8.jpg', 'Fotos9Amostras/Q6-5-4-G4.jpg', 'Fotos9Amostras/Q6-5-2-B5.jpg', 'Fotos9Amostras/Q6-2-2-G6.jpg', 'Fotos9Amostras/Q6-4-3-I7.jpg', 'Fotos9Amostras/Q6-7-4-I9.jpg', 'Fotos9Amostras/Q6-5-2-I8.jpg', 'Fotos9Amostras/Q6-8-3-B3.jpg', 'Fotos9Amostras/Q6-7-4-G7.jpg', 'Fotos9Amostras/Q6-8-2-G6.jpg', 'Fotos9Amostras/Q6-4-1-G5.jpg', 'Fotos9Amostras/Q6-7-3-I9.jpg', 'Fotos9Amostras/Q6-7-3-I5.jpg', 'Fotos9Amostras/Q6-5-4-G7.jpg', 'Fotos9Amostras/Q6-8-2-B7.jpg', 'Fotos9Amostras/Q6-3-2-I2.jpg', 'Fotos9Amostras/Q6-8-2-B8.jpg', 'Fotos9Amostras/Q6-1-5-B7.jpg', 'Fotos9Amostras/Q6-5-4-I2.jpg', 'Fotos9Amostras/Q6-6-3-G6.jpg', 'Fotos9Amostras/Q6-3-1-B3.jpg', 'Fotos9Amostras/Q6-2-2-B7.jpg', 'Fotos9Amostras/Q6-3-1-I4.jpg', 'Fotos9Amostras/Q6-1-4-G8.jpg', 'Fotos9Amostras/Q6-6-2-B6.jpg', 'Fotos9Amostras/Q6-3-2-G7.jpg', 'Fotos9Amostras/Q6-1-4-G2.jpg', 'Fotos9Amostras/Q6-3-1-G1.jpg', 'Fotos9Amostras/Q6-5-4-I3.jpg', 'Fotos9Amostras/Q6-6-2-G9.jpg', 'Fotos9Amostras/Q6-5-4-I8.jpg', 'Fotos9Amostras/Q6-4-3-I10.jpg', 'Fotos9Amostras/Q6-9-3-B3.jpg', 'Fotos9Amostras/Q6-8-2-B2.jpg', 'Fotos9Amostras/Q6-8-2-B1.jpg', 'Fotos9Amostras/Q6-3-2-G9.jpg', 'Fotos9Amostras/Q6-6-3-I5.jpg', 'Fotos9Amostras/Q6-5-2-B4.jpg', 'Fotos9Amostras/Q6-5-4-G8.jpg', 'Fotos9Amostras/Q6-1-4-B3.jpg', 'Fotos9Amostras/Q6-5-4-I9.jpg', 'Fotos9Amostras/Q6-2-2-B1.jpg', 'Fotos9Amostras/Q6-5-2-I1.jpg', 'Fotos9Amostras/Q6-9-3-I10.jpg', 'Fotos9Amostras/Q6-1-5-B9.jpg', 'Fotos9Amostras/Q6-7-4-G10.jpg', 'Fotos9Amostras/Q6-2-2-I5.jpg', 'Fotos9Amostras/Q6-2-2-B4.jpg', 'Fotos9Amostras/Q6-2-1-I3.jpg', 'Fotos9Amostras/Q6-1-4-G4.jpg', 'Fotos9Amostras/Q6-7-4-G5.jpg', 'Fotos9Amostras/Q6-1-5-I5.jpg', 'Fotos9Amostras/Q6-7-3-I3.jpg', 'Fotos9Amostras/Q6-3-1-G5.jpg', 'Fotos9Amostras/Q6-6-2-B4.jpg', 'Fotos9Amostras/Q6-5-2-B7.jpg', 'Fotos9Amostras/Q6-3-2-B5.jpg', 'Fotos9Amostras/Q6-6-2-G3.jpg', 'Fotos9Amostras/Q6-6-2-B9.jpg', 'Fotos9Amostras/Q6-3-1-I8.jpg', 'Fotos9Amostras/Q6-8-3-G9.jpg', 'Fotos9Amostras/Q6-3-1-B9.jpg', 'Fotos9Amostras/Q6-4-1-G8.jpg', 'Fotos9Amostras/Q6-2-1-I6.jpg', 'Fotos9Amostras/Q6-5-2-G9.jpg', 'Fotos9Amostras/Q6-9-3-I2.jpg', 'Fotos9Amostras/Q6-5-2-G6.jpg', 'Fotos9Amostras/Q6-5-4-B3.jpg', 'Fotos9Amostras/Q6-7-4-G2.jpg', 'Fotos9Amostras/Q6-2-2-G4.jpg', 'Fotos9Amostras/Q6-7-4-I3.jpg', 'Fotos9Amostras/Q6-9-3-B8.jpg', 'Fotos9Amostras/Q6-5-2-I9.jpg', 'Fotos9Amostras/Q6-5-2-G10.jpg', 'Fotos9Amostras/Q6-7-3-B9.jpg', 'Fotos9Amostras/Q6-8-2-I6.jpg', 'Fotos9Amostras/Q6-5-4-B6.jpg', 'Fotos9Amostras/Q6-9-5-B2.jpg', 'Fotos9Amostras/Q6-6-3-I9.jpg', 'Fotos9Amostras/Q6-1-5-I9.jpg', 'Fotos9Amostras/Q6-9-3-I5.jpg', 'Fotos9Amostras/Q6-8-3-I7.jpg', 'Fotos9Amostras/Q6-8-3-G2.jpg', 'Fotos9Amostras/Q6-5-2-I7.jpg', 'Fotos9Amostras/Q6-3-2-B6.jpg', 'Fotos9Amostras/Q6-3-1-B8.jpg', 'Fotos9Amostras/Q6-3-1-B10.jpg', 'Fotos9Amostras/Q6-8-3-I4.jpg', 'Fotos9Amostras/Q6-3-2-I1.jpg', 'Fotos9Amostras/Q6-1-4-I8.jpg', 'Fotos9Amostras/Q6-2-2-I2.jpg', 'Fotos9Amostras/Q6-2-1-G10.jpg', 'Fotos9Amostras/Q6-7-3-B10.jpg', 'Fotos9Amostras/Q6-1-4-B6.jpg', 'Fotos9Amostras/Q6-9-3-I4.jpg', 'Fotos9Amostras/Q6-1-5-I8.jpg', 'Fotos9Amostras/Q6-3-2-G1.jpg', 'Fotos9Amostras/Q6-1-5-B1.jpg', 'Fotos9Amostras/Q6-3-1-B2.jpg', 'Fotos9Amostras/Q6-4-1-G10.jpg', 'Fotos9Amostras/Q6-7-3-G4.jpg', 'Fotos9Amostras/Q6-5-4-B5.jpg', 'Fotos9Amostras/Q6-5-4-I6.jpg', 'Fotos9Amostras/Q6-2-1-I10.jpg', 'Fotos9Amostras/Q6-6-3-I10.jpg', 'Fotos9Amostras/Q6-3-1-B7.jpg', 'Fotos9Amostras/Q6-2-1-B4.jpg', 'Fotos9Amostras/Q6-5-2-G5.jpg', 'Fotos9Amostras/Q6-5-2-B9.jpg', 'Fotos9Amostras/Q6-8-2-I3.jpg', 'Fotos9Amostras/Q6-4-1-I3.jpg', 'Fotos9Amostras/Q6-2-1-G8.jpg', 'Fotos9Amostras/Q6-8-2-B4.jpg', 'Fotos9Amostras/Q6-7-4-B10.jpg', 'Fotos9Amostras/Q6-2-2-I9.jpg', 'Fotos9Amostras/Q6-3-1-I2.jpg', 'Fotos9Amostras/Q6-1-5-G1.jpg', 'Fotos9Amostras/Q6-7-3-G2.jpg', 'Fotos9Amostras/Q6-2-1-B9.jpg', 'Fotos9Amostras/Q6-7-3-G5.jpg', 'Fotos9Amostras/Q6-7-4-B7.jpg', 'Fotos9Amostras/Q6-3-1-G7.jpg', 'Fotos9Amostras/Q6-9-3-B4.jpg', 'Fotos9Amostras/Q6-3-1-G9.jpg', 'Fotos9Amostras/Q6-3-1-G6.jpg', 'Fotos9Amostras/Q6-7-4-G1.jpg', 'Fotos9Amostras/Q6-8-2-G10.jpg', 'Fotos9Amostras/Q6-8-3-B6.jpg', 'Fotos9Amostras/Q6-1-5-B4.jpg', 'Fotos9Amostras/Q6-2-2-B2.jpg', 'Fotos9Amostras/Q6-8-3-G10.jpg', 'Fotos9Amostras/Q6-6-3-G5.jpg', 'Fotos9Amostras/Q6-7-4-B5.jpg', 'Fotos9Amostras/Q6-3-2-B7.jpg', 'Fotos9Amostras/Q6-2-1-I8.jpg', 'Fotos9Amostras/Q6-3-1-G10.jpg', 'Fotos9Amostras/Q6-4-1-G3.jpg', 'Fotos9Amostras/Q6-9-5-B3.jpg', 'Fotos9Amostras/Q6-9-3-B2.jpg', 'Fotos9Amostras/Q6-7-3-G9.jpg', 'Fotos9Amostras/Q6-7-3-B1.jpg', 'Fotos9Amostras/Q6-9-3-B1.jpg', 'Fotos9Amostras/Q6-4-3-B9.jpg', 'Fotos9Amostras/Q6-9-3-G6.jpg', 'Fotos9Amostras/Q6-1-5-G5.jpg', 'Fotos9Amostras/Q6-2-1-G9.jpg', 'Fotos9Amostras/Q6-9-3-I6.jpg', 'Fotos9Amostras/Q6-2-1-I9.jpg', 'Fotos9Amostras/Q6-5-2-G3.jpg', 'Fotos9Amostras/Q6-8-3-G5.jpg', 'Fotos9Amostras/Q6-1-4-B9.jpg', 'Fotos9Amostras/Q6-3-2-I8.jpg', 'Fotos9Amostras/Q6-6-3-G3.jpg', 'Fotos9Amostras/Q6-4-1-I5.jpg', 'Fotos9Amostras/Q6-7-4-I4.jpg', 'Fotos9Amostras/Q6-6-2-G1.jpg', 'Fotos9Amostras/Q6-5-2-G4.jpg', 'Fotos9Amostras/Q6-4-3-I5.jpg', 'Fotos9Amostras/Q6-8-3-B5.jpg', 'Fotos9Amostras/Q6-5-2-I6.jpg', 'Fotos9Amostras/Q6-2-2-I8.jpg', 'Fotos9Amostras/Q6-4-3-I3.jpg', 'Fotos9Amostras/Q6-1-4-G7.jpg', 'Fotos9Amostras/Q6-2-2-I1.jpg', 'Fotos9Amostras/Q6-1-4-B8.jpg', 'Fotos9Amostras/Q6-9-3-B7.jpg', 'Fotos9Amostras/Q6-4-1-I1.jpg', 'Fotos9Amostras/Q6-2-1-I2.jpg', 'Fotos9Amostras/Q6-5-4-G6.jpg', 'Fotos9Amostras/Q6-6-2-B8.jpg', 'Fotos9Amostras/Q6-8-3-G6.jpg', 'Fotos9Amostras/Q6-3-2-I10.jpg', 'Fotos9Amostras/Q6-8-2-G5.jpg', 'Fotos9Amostras/Q6-5-4-G9.jpg', 'Fotos9Amostras/Q6-5-2-I3.jpg', 'Fotos9Amostras/Q6-7-4-I6.jpg', 'Fotos9Amostras/Q6-9-3-I1.jpg', 'Fotos9Amostras/Q6-7-3-B2.jpg', 'Fotos9Amostras/Q6-8-2-G3.jpg', 'Fotos9Amostras/Q6-2-2-B10.jpg', 'Fotos9Amostras/Q6-1-4-I9.jpg', 'Fotos9Amostras/Q6-4-1-I4.jpg', 'Fotos9Amostras/Q6-9-3-G1.jpg', 'Fotos9Amostras/Q6-7-3-B4.jpg', 'Fotos9Amostras/Q6-2-2-G7.jpg', 'Fotos9Amostras/Q6-4-1-B1.jpg', 'Fotos9Amostras/Q6-3-2-G4.jpg', 'Fotos9Amostras/Q6-9-3-B9.jpg', 'Fotos9Amostras/Q6-2-2-G10.jpg', 'Fotos9Amostras/Q6-8-2-B10.jpg', 'Fotos9Amostras/Q6-7-3-B3.jpg', 'Fotos9Amostras/Q6-3-2-I4.jpg', 'Fotos9Amostras/Q6-7-3-B7.jpg', 'Fotos9Amostras/Q6-6-3-G2.jpg', 'Fotos9Amostras/Q6-4-3-G4.jpg', 'Fotos9Amostras/Q6-2-2-B9.jpg', 'Fotos9Amostras/Q6-8-2-I8.jpg', 'Fotos9Amostras/Q6-2-2-G3.jpg', 'Fotos9Amostras/Q6-9-3-G3.jpg', 'Fotos9Amostras/Q6-3-1-I6.jpg', 'Fotos9Amostras/Q6-4-3-I2.jpg', 'Fotos9Amostras/Q6-6-2-B1.jpg', 'Fotos9Amostras/Q6-8-2-G8.jpg', 'Fotos9Amostras/Q6-7-4-I1.jpg', 'Fotos9Amostras/Q6-8-3-I6.jpg', 'Fotos9Amostras/Q6-3-2-G6.jpg', 'Fotos9Amostras/Q6-3-1-I10.jpg', 'Fotos9Amostras/Q6-3-2-B8.jpg', 'Fotos9Amostras/Q6-1-4-B2.jpg', 'Fotos9Amostras/Q6-2-2-B5.jpg', 'Fotos9Amostras/Q6-2-2-I3.jpg', 'Fotos9Amostras/Q6-1-5-I4.jpg', 'Fotos9Amostras/Q6-3-2-G5.jpg', 'Fotos9Amostras/Q6-8-2-I5.jpg', 'Fotos9Amostras/Q6-1-4-G6.jpg', 'Fotos9Amostras/Q6-4-3-G10.jpg', 'Fotos9Amostras/Q6-8-3-G4.jpg', 'Fotos9Amostras/Q6-4-3-B5.jpg', 'Fotos9Amostras/Q6-2-1-G6.jpg', 'Fotos9Amostras/Q6-2-1-B10.jpg', 'Fotos9Amostras/Q6-8-2-B3.jpg', 'Fotos9Amostras/Q6-1-5-B8.jpg', 'Fotos9Amostras/Q6-1-4-B7.jpg', 'Fotos9Amostras/Q6-9-5-B10.jpg', 'Fotos9Amostras/Q6-1-5-I3.jpg', 'Fotos9Amostras/Q6-6-3-I1.jpg', 'Fotos9Amostras/Q6-4-3-B1.jpg', 'Fotos9Amostras/Q6-1-4-G3.jpg', 'Fotos9Amostras/Q6-9-5-B1.jpg', 'Fotos9Amostras/Q6-6-2-G6.jpg', 'Fotos9Amostras/Q6-5-4-B10.jpg', 'Fotos9Amostras/Q6-7-3-I7.jpg', 'Fotos9Amostras/Q6-6-3-I8.jpg', 'Fotos9Amostras/Q6-1-4-I10.jpg', 'Fotos9Amostras/Q6-7-4-I8.jpg', 'Fotos9Amostras/Q6-4-3-B8.jpg', 'Fotos9Amostras/Q6-2-2-G5.jpg', 'Fotos9Amostras/Q6-4-3-G8.jpg', 'Fotos9Amostras/Q6-1-4-I6.jpg', 'Fotos9Amostras/Q6-8-3-B10.jpg', 'Fotos9Amostras/Q6-9-3-G2.jpg', 'Fotos9Amostras/Q6-5-4-G5.jpg', 'Fotos9Amostras/Q6-5-4-I7.jpg', 'Fotos9Amostras/Q6-1-5-I10.jpg', 'Fotos9Amostras/Q6-8-2-I1.jpg', 'Fotos9Amostras/Q6-4-3-G1.jpg', 'Fotos9Amostras/Q6-4-1-B5.jpg', 'Fotos9Amostras/Q6-2-1-G2.jpg', 'Fotos9Amostras/Q6-9-3-G4.jpg', 'Fotos9Amostras/Q6-2-1-B3.jpg', 'Fotos9Amostras/Q6-5-4-B2.jpg', 'Fotos9Amostras/Q6-3-1-I5.jpg', 'Fotos9Amostras/Q6-4-1-B3.jpg', 'Fotos9Amostras/Q6-2-1-G3.jpg', 'Fotos9Amostras/Q6-6-3-G8.jpg', 'Fotos9Amostras/Q6-3-2-I7.jpg', 'Fotos9Amostras/Q6-3-2-G10.jpg', 'Fotos9Amostras/Q6-4-1-G4.jpg', 'Fotos9Amostras/Q6-4-1-G1.jpg', 'Fotos9Amostras/Q6-2-1-G7.jpg', 'Fotos9Amostras/Q6-1-5-G8.jpg', 'Fotos9Amostras/Q6-2-1-B2.jpg', 'Fotos9Amostras/Q6-2-1-B5.jpg', 'Fotos9Amostras/Q6-5-4-G2.jpg', 'Fotos9Amostras/Q6-4-3-B2.jpg', 'Fotos9Amostras/Q6-9-3-I3.jpg', 'Fotos9Amostras/Q6-3-2-B9.jpg', 'Fotos9Amostras/Q6-2-2-I7.jpg', 'Fotos9Amostras/Q6-7-3-I4.jpg', 'Fotos9Amostras/Q6-3-2-I6.jpg', 'Fotos9Amostras/Q6-8-3-G7.jpg', 'Fotos9Amostras/Q6-4-3-I6.jpg', 'Fotos9Amostras/Q6-5-4-G10.jpg', 'Fotos9Amostras/Q6-5-4-B1.jpg', 'Fotos9Amostras/Q6-1-5-G9.jpg', 'Fotos9Amostras/Q6-7-3-B8.jpg', 'Fotos9Amostras/Q6-1-5-B2.jpg', 'Fotos9Amostras/Q6-6-2-B5.jpg', 'Fotos9Amostras/Q6-1-5-B5.jpg', 'Fotos9Amostras/Q6-7-3-I8.jpg', 'Fotos9Amostras/Q6-6-2-B10.jpg', 'Fotos9Amostras/Q6-3-2-B4.jpg', 'Fotos9Amostras/Q6-2-2-G2.jpg', 'Fotos9Amostras/Q6-3-2-I3.jpg', 'Fotos9Amostras/Q6-4-1-B10.jpg', 'Fotos9Amostras/Q6-4-1-I10.jpg', 'Fotos9Amostras/Q6-7-4-G8.jpg', 'Fotos9Amostras/Q6-1-4-G1.jpg', 'Fotos9Amostras/Q6-9-3-I7.jpg', 'Fotos9Amostras/Q6-7-4-B4.jpg', 'Fotos9Amostras/Q6-3-2-I5.jpg', 'Fotos9Amostras/Q6-4-3-G5.jpg', 'Fotos9Amostras/Q6-4-3-B3.jpg', 'Fotos9Amostras/Q6-4-1-G6.jpg', 'Fotos9Amostras/Q6-5-4-I1.jpg', 'Fotos9Amostras/Q6-1-4-I1.jpg', 'Fotos9Amostras/Q6-9-3-B5.jpg', 'Fotos9Amostras/Q6-7-3-G7.jpg', 'Fotos9Amostras/Q6-7-3-I6.jpg', 'Fotos9Amostras/Q6-1-4-I3.jpg', 'Fotos9Amostras/Q6-8-2-B9.jpg', 'Fotos9Amostras/Q6-4-3-B7.jpg', 'Fotos9Amostras/Q6-9-3-G7.jpg', 'Fotos9Amostras/Q6-1-4-I7.jpg', 'Fotos9Amostras/Q6-4-1-I6.jpg', 'Fotos9Amostras/Q6-5-2-B8.jpg', 'Fotos9Amostras/Q6-5-2-I5.jpg', 'Fotos9Amostras/Q6-9-3-G9.jpg', 'Fotos9Amostras/Q6-4-3-B4.jpg', 'Fotos9Amostras/Q6-7-3-B5.jpg', 'Fotos9Amostras/Q6-8-3-I2.jpg', 'Fotos9Amostras/Q6-2-1-I5.jpg', 'Fotos9Amostras/Q6-5-2-G8.jpg', 'Fotos9Amostras/Q6-9-5-B4.jpg', 'Fotos9Amostras/Q6-7-4-B1.jpg', 'Fotos9Amostras/Q6-4-3-I1.jpg', 'Fotos9Amostras/Q6-1-4-G10.jpg', 'Fotos9Amostras/Q6-3-1-B5.jpg', 'Fotos9Amostras/Q6-6-2-G10.jpg', 'Fotos9Amostras/Q6-1-4-I4.jpg', 'Fotos9Amostras/Q6-7-4-B3.jpg', 'Fotos9Amostras/Q6-4-1-B6.jpg', 'Fotos9Amostras/Q6-8-3-I9.jpg', 'Fotos9Amostras/Q6-3-2-B3.jpg', 'Fotos9Amostras/Q6-1-5-G2.jpg', 'Fotos9Amostras/Q6-8-3-I1.jpg', 'Fotos9Amostras/Q6-1-5-I6.jpg', 'Fotos9Amostras/Q6-4-3-G3.jpg', 'Fotos9Amostras/Q6-2-1-I4.jpg', 'Fotos9Amostras/Q6-8-3-B7.jpg', 'Fotos9Amostras/Q6-4-3-B6.jpg', 'Fotos9Amostras/Q6-5-2-G1.jpg', 'Fotos9Amostras/Q6-8-3-G1.jpg', 'Fotos9Amostras/Q6-4-3-G9.jpg', 'Fotos9Amostras/Q6-2-1-B6.jpg', 'Fotos9Amostras/Q6-2-1-B1.jpg', 'Fotos9Amostras/Q6-1-4-I2.jpg', 'Fotos9Amostras/Q6-1-4-B5.jpg', 'Fotos9Amostras/Q6-3-1-B4.jpg', 'Fotos9Amostras/Q6-9-3-B6.jpg', 'Fotos9Amostras/Q6-3-1-B6.jpg', 'Fotos9Amostras/Q6-3-2-B10.jpg', 'Fotos9Amostras/Q6-3-2-G8.jpg', 'Fotos9Amostras/Q6-8-2-I7.jpg', 'Fotos9Amostras/Q6-6-3-G4.jpg', 'Fotos9Amostras/Q6-5-2-G2.jpg', 'Fotos9Amostras/Q6-8-3-I8.jpg', 'Fotos9Amostras/Q6-8-2-G4.jpg', 'Fotos9Amostras/Q6-8-2-G9.jpg', 'Fotos9Amostras/Q6-7-4-G3.jpg', 'Fotos9Amostras/Q6-3-2-I9.jpg', 'Fotos9Amostras/Q6-6-2-B3.jpg', 'Fotos9Amostras/Q6-2-1-G1.jpg', 'Fotos9Amostras/Q6-3-2-G2.jpg', 'Fotos9Amostras/Q6-5-2-B1.jpg', 'Fotos9Amostras/Q6-8-3-I10.jpg', 'Fotos9Amostras/Q6-1-5-G7.jpg', 'Fotos9Amostras/Q6-4-1-I8.jpg', 'Fotos9Amostras/Q6-3-2-B2.jpg', 'Fotos9Amostras/Q6-7-3-G10.jpg', 'Fotos9Amostras/Q6-4-1-B7.jpg', 'Fotos9Amostras/Q6-4-1-I2.jpg', 'Fotos9Amostras/Q6-5-2-I10.jpg', 'Fotos9Amostras/Q6-8-2-G2.jpg', 'Fotos9Amostras/Q6-3-1-G2.jpg', 'Fotos9Amostras/Q6-2-1-I1.jpg', 'Fotos9Amostras/Q6-1-4-B4.jpg', 'Fotos9Amostras/Q6-2-1-I7.jpg', 'Fotos9Amostras/Q6-1-5-G6.jpg', 'Fotos9Amostras/Q6-6-3-I4.jpg', 'Fotos9Amostras/Q6-2-1-G4.jpg', 'Fotos9Amostras/Q6-7-3-G8.jpg', 'Fotos9Amostras/Q6-1-4-B1.jpg', 'Fotos9Amostras/Q6-2-2-B8.jpg', 'Fotos9Amostras/Q6-1-4-B10.jpg', 'Fotos9Amostras/Q6-5-4-G3.jpg', 'Fotos9Amostras/Q6-1-5-G3.jpg', 'Fotos9Amostras/Q6-5-4-I10.jpg', 'Fotos9Amostras/Q6-1-4-G9.jpg', 'Fotos9Amostras/Q6-8-2-I4.jpg', 'Fotos9Amostras/Q6-7-4-G9.jpg', 'Fotos9Amostras/Q6-3-2-B1.jpg', 'Fotos9Amostras/Q6-4-1-B8.jpg', 'Fotos9Amostras/Q6-6-3-G9.jpg', 'Fotos9Amostras/Q6-7-4-B8.jpg', 'Fotos9Amostras/Q6-8-2-I2.jpg', 'Fotos9Amostras/Q6-6-3-I6.jpg', 'Fotos9Amostras/Q6-8-2-I10.jpg', 'Fotos9Amostras/Q6-5-2-B2.jpg', 'Fotos9Amostras/Q6-4-3-G6.jpg', 'Fotos9Amostras/Q6-4-1-G9.jpg', 'Fotos9Amostras/Q6-7-3-G6.jpg', 'Fotos9Amostras/Q6-7-3-I10.jpg', 'Fotos9Amostras/Q6-7-3-B6.jpg', 'Fotos9Amostras/Q6-3-1-I9.jpg', 'Fotos9Amostras/Q6-5-2-B6.jpg', 'Fotos9Amostras/Q6-7-4-B9.jpg', 'Fotos9Amostras/Q6-5-4-B7.jpg', 'Fotos9Amostras/Q6-4-1-B2.jpg', 'Fotos9Amostras/Q6-5-4-B4.jpg', 'Fotos9Amostras/Q6-4-3-I4.jpg', 'Fotos9Amostras/Q6-5-4-B9.jpg', 'Fotos9Amostras/Q6-3-1-I7.jpg', 'Fotos9Amostras/Q6-4-3-I9.jpg', 'Fotos9Amostras/Q6-8-3-G3.jpg', 'Fotos9Amostras/Q6-4-3-B10.jpg', 'Fotos9Amostras/Q6-8-3-B1.jpg', 'Fotos9Amostras/Q6-2-2-B6.jpg', 'Fotos9Amostras/Q6-1-5-G10.jpg', 'Fotos9Amostras/Q6-8-3-B9.jpg', 'Fotos9Amostras/Q6-5-4-I5.jpg', 'Fotos9Amostras/Q6-1-5-B6.jpg', 'Fotos9Amostras/Q6-2-1-G5.jpg', 'Fotos9Amostras/Q6-2-1-B7.jpg', 'Fotos9Amostras/Q6-6-3-G7.jpg', 'Fotos9Amostras/Q6-6-3-I2.jpg', 'Fotos9Amostras/Q6-7-4-G4.jpg', 'Fotos9Amostras/Q6-2-2-I4.jpg', 'Fotos9Amostras/Q6-5-2-B10.jpg', 'Fotos9Amostras/Q6-1-5-B10.jpg', 'Fotos9Amostras/Q6-8-2-G7.jpg', 'Fotos9Amostras/Q6-8-2-I9.jpg', 'Fotos9Amostras/Q6-4-1-B9.jpg', 'Fotos9Amostras/Q6-8-3-B2.jpg', 'Fotos9Amostras/Q6-8-3-I3.jpg', 'Fotos9Amostras/Q6-4-1-I7.jpg', 'Fotos9Amostras/Q6-2-2-G9.jpg']\n"
          ],
          "name": "stdout"
        }
      ]
    },
    {
      "cell_type": "code",
      "metadata": {
        "id": "MukX2r3ys3tm",
        "colab_type": "code",
        "colab": {}
      },
      "source": [
        "# Find the list elements starting with specific letter\n",
        "subs = 'B'\n",
        "Buraco = [x for x in img_name if re.search(subs, x)] \n",
        "subs = 'G'\n",
        "Grao = [x for x in img_name if re.search(subs, x)] \n",
        "subs = 'I'\n",
        "Indef = [x for x in img_name if re.search(subs, x)] "
      ],
      "execution_count": 0,
      "outputs": []
    },
    {
      "cell_type": "code",
      "metadata": {
        "id": "PWD4B_LtBALu",
        "colab_type": "code",
        "outputId": "61dc90df-c8af-470f-d54d-f9e072ea5b21",
        "colab": {
          "base_uri": "https://localhost:8080/",
          "height": 86
        }
      },
      "source": [
        "print(Buraco)\n",
        "print(Grao)\n",
        "print(Indef)"
      ],
      "execution_count": 73,
      "outputs": [
        {
          "output_type": "stream",
          "text": [
            "['Fotos9Amostras/Q6-9-5-B8.jpg', 'Fotos9Amostras/Q6-8-2-B6.jpg', 'Fotos9Amostras/Q6-9-5-B7.jpg', 'Fotos9Amostras/Q6-9-5-B6.jpg', 'Fotos9Amostras/Q6-9-5-B9.jpg', 'Fotos9Amostras/Q6-9-5-B5.jpg', 'Fotos9Amostras/Q6-6-3-B9.jpg', 'Fotos9Amostras/Q6-6-3-B2.jpg', 'Fotos9Amostras/Q6-6-3-B4.jpg', 'Fotos9Amostras/Q6-6-3-B10.jpg', 'Fotos9Amostras/Q6-6-3-B8.jpg', 'Fotos9Amostras/Q6-6-3-B7.jpg', 'Fotos9Amostras/Q6-6-3-B1.jpg', 'Fotos9Amostras/Q6-6-3-B6.jpg', 'Fotos9Amostras/Q6-6-3-B3.jpg', 'Fotos9Amostras/Q6-6-3-B5.jpg', 'Fotos9Amostras/Q6-1-5-B3.jpg', 'Fotos9Amostras/Q6-7-4-B2.jpg', 'Fotos9Amostras/Q6-2-2-B3.jpg', 'Fotos9Amostras/Q6-2-1-B8.jpg', 'Fotos9Amostras/Q6-4-1-B4.jpg', 'Fotos9Amostras/Q6-8-3-B4.jpg', 'Fotos9Amostras/Q6-7-4-B6.jpg', 'Fotos9Amostras/Q6-8-3-B8.jpg', 'Fotos9Amostras/Q6-5-4-B8.jpg', 'Fotos9Amostras/Q6-6-2-B7.jpg', 'Fotos9Amostras/Q6-5-2-B3.jpg', 'Fotos9Amostras/Q6-6-2-B2.jpg', 'Fotos9Amostras/Q6-9-3-B10.jpg', 'Fotos9Amostras/Q6-8-2-B5.jpg', 'Fotos9Amostras/Q6-3-1-B1.jpg', 'Fotos9Amostras/Q6-5-2-B5.jpg', 'Fotos9Amostras/Q6-8-3-B3.jpg', 'Fotos9Amostras/Q6-8-2-B7.jpg', 'Fotos9Amostras/Q6-8-2-B8.jpg', 'Fotos9Amostras/Q6-1-5-B7.jpg', 'Fotos9Amostras/Q6-3-1-B3.jpg', 'Fotos9Amostras/Q6-2-2-B7.jpg', 'Fotos9Amostras/Q6-6-2-B6.jpg', 'Fotos9Amostras/Q6-9-3-B3.jpg', 'Fotos9Amostras/Q6-8-2-B2.jpg', 'Fotos9Amostras/Q6-8-2-B1.jpg', 'Fotos9Amostras/Q6-5-2-B4.jpg', 'Fotos9Amostras/Q6-1-4-B3.jpg', 'Fotos9Amostras/Q6-2-2-B1.jpg', 'Fotos9Amostras/Q6-1-5-B9.jpg', 'Fotos9Amostras/Q6-2-2-B4.jpg', 'Fotos9Amostras/Q6-6-2-B4.jpg', 'Fotos9Amostras/Q6-5-2-B7.jpg', 'Fotos9Amostras/Q6-3-2-B5.jpg', 'Fotos9Amostras/Q6-6-2-B9.jpg', 'Fotos9Amostras/Q6-3-1-B9.jpg', 'Fotos9Amostras/Q6-5-4-B3.jpg', 'Fotos9Amostras/Q6-9-3-B8.jpg', 'Fotos9Amostras/Q6-7-3-B9.jpg', 'Fotos9Amostras/Q6-5-4-B6.jpg', 'Fotos9Amostras/Q6-9-5-B2.jpg', 'Fotos9Amostras/Q6-3-2-B6.jpg', 'Fotos9Amostras/Q6-3-1-B8.jpg', 'Fotos9Amostras/Q6-3-1-B10.jpg', 'Fotos9Amostras/Q6-7-3-B10.jpg', 'Fotos9Amostras/Q6-1-4-B6.jpg', 'Fotos9Amostras/Q6-1-5-B1.jpg', 'Fotos9Amostras/Q6-3-1-B2.jpg', 'Fotos9Amostras/Q6-5-4-B5.jpg', 'Fotos9Amostras/Q6-3-1-B7.jpg', 'Fotos9Amostras/Q6-2-1-B4.jpg', 'Fotos9Amostras/Q6-5-2-B9.jpg', 'Fotos9Amostras/Q6-8-2-B4.jpg', 'Fotos9Amostras/Q6-7-4-B10.jpg', 'Fotos9Amostras/Q6-2-1-B9.jpg', 'Fotos9Amostras/Q6-7-4-B7.jpg', 'Fotos9Amostras/Q6-9-3-B4.jpg', 'Fotos9Amostras/Q6-8-3-B6.jpg', 'Fotos9Amostras/Q6-1-5-B4.jpg', 'Fotos9Amostras/Q6-2-2-B2.jpg', 'Fotos9Amostras/Q6-7-4-B5.jpg', 'Fotos9Amostras/Q6-3-2-B7.jpg', 'Fotos9Amostras/Q6-9-5-B3.jpg', 'Fotos9Amostras/Q6-9-3-B2.jpg', 'Fotos9Amostras/Q6-7-3-B1.jpg', 'Fotos9Amostras/Q6-9-3-B1.jpg', 'Fotos9Amostras/Q6-4-3-B9.jpg', 'Fotos9Amostras/Q6-1-4-B9.jpg', 'Fotos9Amostras/Q6-8-3-B5.jpg', 'Fotos9Amostras/Q6-1-4-B8.jpg', 'Fotos9Amostras/Q6-9-3-B7.jpg', 'Fotos9Amostras/Q6-6-2-B8.jpg', 'Fotos9Amostras/Q6-7-3-B2.jpg', 'Fotos9Amostras/Q6-2-2-B10.jpg', 'Fotos9Amostras/Q6-7-3-B4.jpg', 'Fotos9Amostras/Q6-4-1-B1.jpg', 'Fotos9Amostras/Q6-9-3-B9.jpg', 'Fotos9Amostras/Q6-8-2-B10.jpg', 'Fotos9Amostras/Q6-7-3-B3.jpg', 'Fotos9Amostras/Q6-7-3-B7.jpg', 'Fotos9Amostras/Q6-2-2-B9.jpg', 'Fotos9Amostras/Q6-6-2-B1.jpg', 'Fotos9Amostras/Q6-3-2-B8.jpg', 'Fotos9Amostras/Q6-1-4-B2.jpg', 'Fotos9Amostras/Q6-2-2-B5.jpg', 'Fotos9Amostras/Q6-4-3-B5.jpg', 'Fotos9Amostras/Q6-2-1-B10.jpg', 'Fotos9Amostras/Q6-8-2-B3.jpg', 'Fotos9Amostras/Q6-1-5-B8.jpg', 'Fotos9Amostras/Q6-1-4-B7.jpg', 'Fotos9Amostras/Q6-9-5-B10.jpg', 'Fotos9Amostras/Q6-4-3-B1.jpg', 'Fotos9Amostras/Q6-9-5-B1.jpg', 'Fotos9Amostras/Q6-5-4-B10.jpg', 'Fotos9Amostras/Q6-4-3-B8.jpg', 'Fotos9Amostras/Q6-8-3-B10.jpg', 'Fotos9Amostras/Q6-4-1-B5.jpg', 'Fotos9Amostras/Q6-2-1-B3.jpg', 'Fotos9Amostras/Q6-5-4-B2.jpg', 'Fotos9Amostras/Q6-4-1-B3.jpg', 'Fotos9Amostras/Q6-2-1-B2.jpg', 'Fotos9Amostras/Q6-2-1-B5.jpg', 'Fotos9Amostras/Q6-4-3-B2.jpg', 'Fotos9Amostras/Q6-3-2-B9.jpg', 'Fotos9Amostras/Q6-5-4-B1.jpg', 'Fotos9Amostras/Q6-7-3-B8.jpg', 'Fotos9Amostras/Q6-1-5-B2.jpg', 'Fotos9Amostras/Q6-6-2-B5.jpg', 'Fotos9Amostras/Q6-1-5-B5.jpg', 'Fotos9Amostras/Q6-6-2-B10.jpg', 'Fotos9Amostras/Q6-3-2-B4.jpg', 'Fotos9Amostras/Q6-4-1-B10.jpg', 'Fotos9Amostras/Q6-7-4-B4.jpg', 'Fotos9Amostras/Q6-4-3-B3.jpg', 'Fotos9Amostras/Q6-9-3-B5.jpg', 'Fotos9Amostras/Q6-8-2-B9.jpg', 'Fotos9Amostras/Q6-4-3-B7.jpg', 'Fotos9Amostras/Q6-5-2-B8.jpg', 'Fotos9Amostras/Q6-4-3-B4.jpg', 'Fotos9Amostras/Q6-7-3-B5.jpg', 'Fotos9Amostras/Q6-9-5-B4.jpg', 'Fotos9Amostras/Q6-7-4-B1.jpg', 'Fotos9Amostras/Q6-3-1-B5.jpg', 'Fotos9Amostras/Q6-7-4-B3.jpg', 'Fotos9Amostras/Q6-4-1-B6.jpg', 'Fotos9Amostras/Q6-3-2-B3.jpg', 'Fotos9Amostras/Q6-8-3-B7.jpg', 'Fotos9Amostras/Q6-4-3-B6.jpg', 'Fotos9Amostras/Q6-2-1-B6.jpg', 'Fotos9Amostras/Q6-2-1-B1.jpg', 'Fotos9Amostras/Q6-1-4-B5.jpg', 'Fotos9Amostras/Q6-3-1-B4.jpg', 'Fotos9Amostras/Q6-9-3-B6.jpg', 'Fotos9Amostras/Q6-3-1-B6.jpg', 'Fotos9Amostras/Q6-3-2-B10.jpg', 'Fotos9Amostras/Q6-6-2-B3.jpg', 'Fotos9Amostras/Q6-5-2-B1.jpg', 'Fotos9Amostras/Q6-3-2-B2.jpg', 'Fotos9Amostras/Q6-4-1-B7.jpg', 'Fotos9Amostras/Q6-1-4-B4.jpg', 'Fotos9Amostras/Q6-1-4-B1.jpg', 'Fotos9Amostras/Q6-2-2-B8.jpg', 'Fotos9Amostras/Q6-1-4-B10.jpg', 'Fotos9Amostras/Q6-3-2-B1.jpg', 'Fotos9Amostras/Q6-4-1-B8.jpg', 'Fotos9Amostras/Q6-7-4-B8.jpg', 'Fotos9Amostras/Q6-5-2-B2.jpg', 'Fotos9Amostras/Q6-7-3-B6.jpg', 'Fotos9Amostras/Q6-5-2-B6.jpg', 'Fotos9Amostras/Q6-7-4-B9.jpg', 'Fotos9Amostras/Q6-5-4-B7.jpg', 'Fotos9Amostras/Q6-4-1-B2.jpg', 'Fotos9Amostras/Q6-5-4-B4.jpg', 'Fotos9Amostras/Q6-5-4-B9.jpg', 'Fotos9Amostras/Q6-4-3-B10.jpg', 'Fotos9Amostras/Q6-8-3-B1.jpg', 'Fotos9Amostras/Q6-2-2-B6.jpg', 'Fotos9Amostras/Q6-8-3-B9.jpg', 'Fotos9Amostras/Q6-1-5-B6.jpg', 'Fotos9Amostras/Q6-2-1-B7.jpg', 'Fotos9Amostras/Q6-5-2-B10.jpg', 'Fotos9Amostras/Q6-1-5-B10.jpg', 'Fotos9Amostras/Q6-4-1-B9.jpg', 'Fotos9Amostras/Q6-8-3-B2.jpg']\n",
            "['Fotos9Amostras/Q6-9-5-G9.jpg', 'Fotos9Amostras/Q6-9-5-G6.jpg', 'Fotos9Amostras/Q6-8-2-G1.jpg', 'Fotos9Amostras/Q6-7-3-G1.jpg', 'Fotos9Amostras/Q6-9-5-G1.jpg', 'Fotos9Amostras/Q6-9-5-G7.jpg', 'Fotos9Amostras/Q6-9-5-G4.jpg', 'Fotos9Amostras/Q6-9-5-G10.jpg', 'Fotos9Amostras/Q6-9-5-G2.jpg', 'Fotos9Amostras/Q6-9-5-G8.jpg', 'Fotos9Amostras/Q6-9-5-G3.jpg', 'Fotos9Amostras/Q6-9-5-G5.jpg', 'Fotos9Amostras/Q6-6-2-G5.jpg', 'Fotos9Amostras/Q6-6-2-G2.jpg', 'Fotos9Amostras/Q6-6-2-G7.jpg', 'Fotos9Amostras/Q6-6-2-G4.jpg', 'Fotos9Amostras/Q6-6-2-G8.jpg', 'Fotos9Amostras/Q6-3-1-G4.jpg', 'Fotos9Amostras/Q6-7-4-G6.jpg', 'Fotos9Amostras/Q6-2-2-G1.jpg', 'Fotos9Amostras/Q6-3-1-G3.jpg', 'Fotos9Amostras/Q6-6-3-G1.jpg', 'Fotos9Amostras/Q6-4-3-G7.jpg', 'Fotos9Amostras/Q6-1-4-G5.jpg', 'Fotos9Amostras/Q6-3-1-G8.jpg', 'Fotos9Amostras/Q6-1-5-G4.jpg', 'Fotos9Amostras/Q6-2-2-G8.jpg', 'Fotos9Amostras/Q6-4-3-G2.jpg', 'Fotos9Amostras/Q6-5-2-G7.jpg', 'Fotos9Amostras/Q6-8-3-G8.jpg', 'Fotos9Amostras/Q6-6-3-G10.jpg', 'Fotos9Amostras/Q6-4-1-G2.jpg', 'Fotos9Amostras/Q6-5-4-G1.jpg', 'Fotos9Amostras/Q6-3-2-G3.jpg', 'Fotos9Amostras/Q6-9-3-G5.jpg', 'Fotos9Amostras/Q6-7-3-G3.jpg', 'Fotos9Amostras/Q6-9-3-G10.jpg', 'Fotos9Amostras/Q6-4-1-G7.jpg', 'Fotos9Amostras/Q6-9-3-G8.jpg', 'Fotos9Amostras/Q6-5-4-G4.jpg', 'Fotos9Amostras/Q6-2-2-G6.jpg', 'Fotos9Amostras/Q6-7-4-G7.jpg', 'Fotos9Amostras/Q6-8-2-G6.jpg', 'Fotos9Amostras/Q6-4-1-G5.jpg', 'Fotos9Amostras/Q6-5-4-G7.jpg', 'Fotos9Amostras/Q6-6-3-G6.jpg', 'Fotos9Amostras/Q6-1-4-G8.jpg', 'Fotos9Amostras/Q6-3-2-G7.jpg', 'Fotos9Amostras/Q6-1-4-G2.jpg', 'Fotos9Amostras/Q6-3-1-G1.jpg', 'Fotos9Amostras/Q6-6-2-G9.jpg', 'Fotos9Amostras/Q6-3-2-G9.jpg', 'Fotos9Amostras/Q6-5-4-G8.jpg', 'Fotos9Amostras/Q6-7-4-G10.jpg', 'Fotos9Amostras/Q6-1-4-G4.jpg', 'Fotos9Amostras/Q6-7-4-G5.jpg', 'Fotos9Amostras/Q6-3-1-G5.jpg', 'Fotos9Amostras/Q6-6-2-G3.jpg', 'Fotos9Amostras/Q6-8-3-G9.jpg', 'Fotos9Amostras/Q6-4-1-G8.jpg', 'Fotos9Amostras/Q6-5-2-G9.jpg', 'Fotos9Amostras/Q6-5-2-G6.jpg', 'Fotos9Amostras/Q6-7-4-G2.jpg', 'Fotos9Amostras/Q6-2-2-G4.jpg', 'Fotos9Amostras/Q6-5-2-G10.jpg', 'Fotos9Amostras/Q6-8-3-G2.jpg', 'Fotos9Amostras/Q6-2-1-G10.jpg', 'Fotos9Amostras/Q6-3-2-G1.jpg', 'Fotos9Amostras/Q6-4-1-G10.jpg', 'Fotos9Amostras/Q6-7-3-G4.jpg', 'Fotos9Amostras/Q6-5-2-G5.jpg', 'Fotos9Amostras/Q6-2-1-G8.jpg', 'Fotos9Amostras/Q6-1-5-G1.jpg', 'Fotos9Amostras/Q6-7-3-G2.jpg', 'Fotos9Amostras/Q6-7-3-G5.jpg', 'Fotos9Amostras/Q6-3-1-G7.jpg', 'Fotos9Amostras/Q6-3-1-G9.jpg', 'Fotos9Amostras/Q6-3-1-G6.jpg', 'Fotos9Amostras/Q6-7-4-G1.jpg', 'Fotos9Amostras/Q6-8-2-G10.jpg', 'Fotos9Amostras/Q6-8-3-G10.jpg', 'Fotos9Amostras/Q6-6-3-G5.jpg', 'Fotos9Amostras/Q6-3-1-G10.jpg', 'Fotos9Amostras/Q6-4-1-G3.jpg', 'Fotos9Amostras/Q6-7-3-G9.jpg', 'Fotos9Amostras/Q6-9-3-G6.jpg', 'Fotos9Amostras/Q6-1-5-G5.jpg', 'Fotos9Amostras/Q6-2-1-G9.jpg', 'Fotos9Amostras/Q6-5-2-G3.jpg', 'Fotos9Amostras/Q6-8-3-G5.jpg', 'Fotos9Amostras/Q6-6-3-G3.jpg', 'Fotos9Amostras/Q6-6-2-G1.jpg', 'Fotos9Amostras/Q6-5-2-G4.jpg', 'Fotos9Amostras/Q6-1-4-G7.jpg', 'Fotos9Amostras/Q6-5-4-G6.jpg', 'Fotos9Amostras/Q6-8-3-G6.jpg', 'Fotos9Amostras/Q6-8-2-G5.jpg', 'Fotos9Amostras/Q6-5-4-G9.jpg', 'Fotos9Amostras/Q6-8-2-G3.jpg', 'Fotos9Amostras/Q6-9-3-G1.jpg', 'Fotos9Amostras/Q6-2-2-G7.jpg', 'Fotos9Amostras/Q6-3-2-G4.jpg', 'Fotos9Amostras/Q6-2-2-G10.jpg', 'Fotos9Amostras/Q6-6-3-G2.jpg', 'Fotos9Amostras/Q6-4-3-G4.jpg', 'Fotos9Amostras/Q6-2-2-G3.jpg', 'Fotos9Amostras/Q6-9-3-G3.jpg', 'Fotos9Amostras/Q6-8-2-G8.jpg', 'Fotos9Amostras/Q6-3-2-G6.jpg', 'Fotos9Amostras/Q6-3-2-G5.jpg', 'Fotos9Amostras/Q6-1-4-G6.jpg', 'Fotos9Amostras/Q6-4-3-G10.jpg', 'Fotos9Amostras/Q6-8-3-G4.jpg', 'Fotos9Amostras/Q6-2-1-G6.jpg', 'Fotos9Amostras/Q6-1-4-G3.jpg', 'Fotos9Amostras/Q6-6-2-G6.jpg', 'Fotos9Amostras/Q6-2-2-G5.jpg', 'Fotos9Amostras/Q6-4-3-G8.jpg', 'Fotos9Amostras/Q6-9-3-G2.jpg', 'Fotos9Amostras/Q6-5-4-G5.jpg', 'Fotos9Amostras/Q6-4-3-G1.jpg', 'Fotos9Amostras/Q6-2-1-G2.jpg', 'Fotos9Amostras/Q6-9-3-G4.jpg', 'Fotos9Amostras/Q6-2-1-G3.jpg', 'Fotos9Amostras/Q6-6-3-G8.jpg', 'Fotos9Amostras/Q6-3-2-G10.jpg', 'Fotos9Amostras/Q6-4-1-G4.jpg', 'Fotos9Amostras/Q6-4-1-G1.jpg', 'Fotos9Amostras/Q6-2-1-G7.jpg', 'Fotos9Amostras/Q6-1-5-G8.jpg', 'Fotos9Amostras/Q6-5-4-G2.jpg', 'Fotos9Amostras/Q6-8-3-G7.jpg', 'Fotos9Amostras/Q6-5-4-G10.jpg', 'Fotos9Amostras/Q6-1-5-G9.jpg', 'Fotos9Amostras/Q6-2-2-G2.jpg', 'Fotos9Amostras/Q6-7-4-G8.jpg', 'Fotos9Amostras/Q6-1-4-G1.jpg', 'Fotos9Amostras/Q6-4-3-G5.jpg', 'Fotos9Amostras/Q6-4-1-G6.jpg', 'Fotos9Amostras/Q6-7-3-G7.jpg', 'Fotos9Amostras/Q6-9-3-G7.jpg', 'Fotos9Amostras/Q6-9-3-G9.jpg', 'Fotos9Amostras/Q6-5-2-G8.jpg', 'Fotos9Amostras/Q6-1-4-G10.jpg', 'Fotos9Amostras/Q6-6-2-G10.jpg', 'Fotos9Amostras/Q6-1-5-G2.jpg', 'Fotos9Amostras/Q6-4-3-G3.jpg', 'Fotos9Amostras/Q6-5-2-G1.jpg', 'Fotos9Amostras/Q6-8-3-G1.jpg', 'Fotos9Amostras/Q6-4-3-G9.jpg', 'Fotos9Amostras/Q6-3-2-G8.jpg', 'Fotos9Amostras/Q6-6-3-G4.jpg', 'Fotos9Amostras/Q6-5-2-G2.jpg', 'Fotos9Amostras/Q6-8-2-G4.jpg', 'Fotos9Amostras/Q6-8-2-G9.jpg', 'Fotos9Amostras/Q6-7-4-G3.jpg', 'Fotos9Amostras/Q6-2-1-G1.jpg', 'Fotos9Amostras/Q6-3-2-G2.jpg', 'Fotos9Amostras/Q6-1-5-G7.jpg', 'Fotos9Amostras/Q6-7-3-G10.jpg', 'Fotos9Amostras/Q6-8-2-G2.jpg', 'Fotos9Amostras/Q6-3-1-G2.jpg', 'Fotos9Amostras/Q6-1-5-G6.jpg', 'Fotos9Amostras/Q6-2-1-G4.jpg', 'Fotos9Amostras/Q6-7-3-G8.jpg', 'Fotos9Amostras/Q6-5-4-G3.jpg', 'Fotos9Amostras/Q6-1-5-G3.jpg', 'Fotos9Amostras/Q6-1-4-G9.jpg', 'Fotos9Amostras/Q6-7-4-G9.jpg', 'Fotos9Amostras/Q6-6-3-G9.jpg', 'Fotos9Amostras/Q6-4-3-G6.jpg', 'Fotos9Amostras/Q6-4-1-G9.jpg', 'Fotos9Amostras/Q6-7-3-G6.jpg', 'Fotos9Amostras/Q6-8-3-G3.jpg', 'Fotos9Amostras/Q6-1-5-G10.jpg', 'Fotos9Amostras/Q6-2-1-G5.jpg', 'Fotos9Amostras/Q6-6-3-G7.jpg', 'Fotos9Amostras/Q6-7-4-G4.jpg', 'Fotos9Amostras/Q6-8-2-G7.jpg', 'Fotos9Amostras/Q6-2-2-G9.jpg']\n",
            "['Fotos9Amostras/Q6-9-5-I8.jpg', 'Fotos9Amostras/Q6-6-3-I3.jpg', 'Fotos9Amostras/Q6-7-3-I1.jpg', 'Fotos9Amostras/Q6-8-3-I5.jpg', 'Fotos9Amostras/Q6-9-5-I3.jpg', 'Fotos9Amostras/Q6-9-5-I1.jpg', 'Fotos9Amostras/Q6-9-5-I4.jpg', 'Fotos9Amostras/Q6-9-5-I2.jpg', 'Fotos9Amostras/Q6-9-5-I7.jpg', 'Fotos9Amostras/Q6-9-5-I6.jpg', 'Fotos9Amostras/Q6-9-5-I10.jpg', 'Fotos9Amostras/Q6-9-5-I5.jpg', 'Fotos9Amostras/Q6-9-5-I9.jpg', 'Fotos9Amostras/Q6-6-2-I7.jpg', 'Fotos9Amostras/Q6-6-2-I2.jpg', 'Fotos9Amostras/Q6-6-2-I3.jpg', 'Fotos9Amostras/Q6-6-2-I6.jpg', 'Fotos9Amostras/Q6-6-2-I1.jpg', 'Fotos9Amostras/Q6-6-2-I8.jpg', 'Fotos9Amostras/Q6-6-2-I9.jpg', 'Fotos9Amostras/Q6-6-2-I4.jpg', 'Fotos9Amostras/Q6-6-2-I5.jpg', 'Fotos9Amostras/Q6-6-2-I10.jpg', 'Fotos9Amostras/Q6-2-2-I10.jpg', 'Fotos9Amostras/Q6-1-5-I7.jpg', 'Fotos9Amostras/Q6-1-5-I2.jpg', 'Fotos9Amostras/Q6-1-4-I5.jpg', 'Fotos9Amostras/Q6-6-3-I7.jpg', 'Fotos9Amostras/Q6-7-4-I5.jpg', 'Fotos9Amostras/Q6-7-4-I7.jpg', 'Fotos9Amostras/Q6-7-3-I2.jpg', 'Fotos9Amostras/Q6-4-1-I9.jpg', 'Fotos9Amostras/Q6-7-4-I10.jpg', 'Fotos9Amostras/Q6-2-2-I6.jpg', 'Fotos9Amostras/Q6-5-4-I4.jpg', 'Fotos9Amostras/Q6-9-3-I9.jpg', 'Fotos9Amostras/Q6-5-2-I4.jpg', 'Fotos9Amostras/Q6-1-5-I1.jpg', 'Fotos9Amostras/Q6-3-1-I3.jpg', 'Fotos9Amostras/Q6-7-4-I2.jpg', 'Fotos9Amostras/Q6-9-3-I8.jpg', 'Fotos9Amostras/Q6-5-2-I2.jpg', 'Fotos9Amostras/Q6-3-1-I1.jpg', 'Fotos9Amostras/Q6-4-3-I8.jpg', 'Fotos9Amostras/Q6-4-3-I7.jpg', 'Fotos9Amostras/Q6-7-4-I9.jpg', 'Fotos9Amostras/Q6-5-2-I8.jpg', 'Fotos9Amostras/Q6-7-3-I9.jpg', 'Fotos9Amostras/Q6-7-3-I5.jpg', 'Fotos9Amostras/Q6-3-2-I2.jpg', 'Fotos9Amostras/Q6-5-4-I2.jpg', 'Fotos9Amostras/Q6-3-1-I4.jpg', 'Fotos9Amostras/Q6-5-4-I3.jpg', 'Fotos9Amostras/Q6-5-4-I8.jpg', 'Fotos9Amostras/Q6-4-3-I10.jpg', 'Fotos9Amostras/Q6-6-3-I5.jpg', 'Fotos9Amostras/Q6-5-4-I9.jpg', 'Fotos9Amostras/Q6-5-2-I1.jpg', 'Fotos9Amostras/Q6-9-3-I10.jpg', 'Fotos9Amostras/Q6-2-2-I5.jpg', 'Fotos9Amostras/Q6-2-1-I3.jpg', 'Fotos9Amostras/Q6-1-5-I5.jpg', 'Fotos9Amostras/Q6-7-3-I3.jpg', 'Fotos9Amostras/Q6-3-1-I8.jpg', 'Fotos9Amostras/Q6-2-1-I6.jpg', 'Fotos9Amostras/Q6-9-3-I2.jpg', 'Fotos9Amostras/Q6-7-4-I3.jpg', 'Fotos9Amostras/Q6-5-2-I9.jpg', 'Fotos9Amostras/Q6-8-2-I6.jpg', 'Fotos9Amostras/Q6-6-3-I9.jpg', 'Fotos9Amostras/Q6-1-5-I9.jpg', 'Fotos9Amostras/Q6-9-3-I5.jpg', 'Fotos9Amostras/Q6-8-3-I7.jpg', 'Fotos9Amostras/Q6-5-2-I7.jpg', 'Fotos9Amostras/Q6-8-3-I4.jpg', 'Fotos9Amostras/Q6-3-2-I1.jpg', 'Fotos9Amostras/Q6-1-4-I8.jpg', 'Fotos9Amostras/Q6-2-2-I2.jpg', 'Fotos9Amostras/Q6-9-3-I4.jpg', 'Fotos9Amostras/Q6-1-5-I8.jpg', 'Fotos9Amostras/Q6-5-4-I6.jpg', 'Fotos9Amostras/Q6-2-1-I10.jpg', 'Fotos9Amostras/Q6-6-3-I10.jpg', 'Fotos9Amostras/Q6-8-2-I3.jpg', 'Fotos9Amostras/Q6-4-1-I3.jpg', 'Fotos9Amostras/Q6-2-2-I9.jpg', 'Fotos9Amostras/Q6-3-1-I2.jpg', 'Fotos9Amostras/Q6-2-1-I8.jpg', 'Fotos9Amostras/Q6-9-3-I6.jpg', 'Fotos9Amostras/Q6-2-1-I9.jpg', 'Fotos9Amostras/Q6-3-2-I8.jpg', 'Fotos9Amostras/Q6-4-1-I5.jpg', 'Fotos9Amostras/Q6-7-4-I4.jpg', 'Fotos9Amostras/Q6-4-3-I5.jpg', 'Fotos9Amostras/Q6-5-2-I6.jpg', 'Fotos9Amostras/Q6-2-2-I8.jpg', 'Fotos9Amostras/Q6-4-3-I3.jpg', 'Fotos9Amostras/Q6-2-2-I1.jpg', 'Fotos9Amostras/Q6-4-1-I1.jpg', 'Fotos9Amostras/Q6-2-1-I2.jpg', 'Fotos9Amostras/Q6-3-2-I10.jpg', 'Fotos9Amostras/Q6-5-2-I3.jpg', 'Fotos9Amostras/Q6-7-4-I6.jpg', 'Fotos9Amostras/Q6-9-3-I1.jpg', 'Fotos9Amostras/Q6-1-4-I9.jpg', 'Fotos9Amostras/Q6-4-1-I4.jpg', 'Fotos9Amostras/Q6-3-2-I4.jpg', 'Fotos9Amostras/Q6-8-2-I8.jpg', 'Fotos9Amostras/Q6-3-1-I6.jpg', 'Fotos9Amostras/Q6-4-3-I2.jpg', 'Fotos9Amostras/Q6-7-4-I1.jpg', 'Fotos9Amostras/Q6-8-3-I6.jpg', 'Fotos9Amostras/Q6-3-1-I10.jpg', 'Fotos9Amostras/Q6-2-2-I3.jpg', 'Fotos9Amostras/Q6-1-5-I4.jpg', 'Fotos9Amostras/Q6-8-2-I5.jpg', 'Fotos9Amostras/Q6-1-5-I3.jpg', 'Fotos9Amostras/Q6-6-3-I1.jpg', 'Fotos9Amostras/Q6-7-3-I7.jpg', 'Fotos9Amostras/Q6-6-3-I8.jpg', 'Fotos9Amostras/Q6-1-4-I10.jpg', 'Fotos9Amostras/Q6-7-4-I8.jpg', 'Fotos9Amostras/Q6-1-4-I6.jpg', 'Fotos9Amostras/Q6-5-4-I7.jpg', 'Fotos9Amostras/Q6-1-5-I10.jpg', 'Fotos9Amostras/Q6-8-2-I1.jpg', 'Fotos9Amostras/Q6-3-1-I5.jpg', 'Fotos9Amostras/Q6-3-2-I7.jpg', 'Fotos9Amostras/Q6-9-3-I3.jpg', 'Fotos9Amostras/Q6-2-2-I7.jpg', 'Fotos9Amostras/Q6-7-3-I4.jpg', 'Fotos9Amostras/Q6-3-2-I6.jpg', 'Fotos9Amostras/Q6-4-3-I6.jpg', 'Fotos9Amostras/Q6-7-3-I8.jpg', 'Fotos9Amostras/Q6-3-2-I3.jpg', 'Fotos9Amostras/Q6-4-1-I10.jpg', 'Fotos9Amostras/Q6-9-3-I7.jpg', 'Fotos9Amostras/Q6-3-2-I5.jpg', 'Fotos9Amostras/Q6-5-4-I1.jpg', 'Fotos9Amostras/Q6-1-4-I1.jpg', 'Fotos9Amostras/Q6-7-3-I6.jpg', 'Fotos9Amostras/Q6-1-4-I3.jpg', 'Fotos9Amostras/Q6-1-4-I7.jpg', 'Fotos9Amostras/Q6-4-1-I6.jpg', 'Fotos9Amostras/Q6-5-2-I5.jpg', 'Fotos9Amostras/Q6-8-3-I2.jpg', 'Fotos9Amostras/Q6-2-1-I5.jpg', 'Fotos9Amostras/Q6-4-3-I1.jpg', 'Fotos9Amostras/Q6-1-4-I4.jpg', 'Fotos9Amostras/Q6-8-3-I9.jpg', 'Fotos9Amostras/Q6-8-3-I1.jpg', 'Fotos9Amostras/Q6-1-5-I6.jpg', 'Fotos9Amostras/Q6-2-1-I4.jpg', 'Fotos9Amostras/Q6-1-4-I2.jpg', 'Fotos9Amostras/Q6-8-2-I7.jpg', 'Fotos9Amostras/Q6-8-3-I8.jpg', 'Fotos9Amostras/Q6-3-2-I9.jpg', 'Fotos9Amostras/Q6-8-3-I10.jpg', 'Fotos9Amostras/Q6-4-1-I8.jpg', 'Fotos9Amostras/Q6-4-1-I2.jpg', 'Fotos9Amostras/Q6-5-2-I10.jpg', 'Fotos9Amostras/Q6-2-1-I1.jpg', 'Fotos9Amostras/Q6-2-1-I7.jpg', 'Fotos9Amostras/Q6-6-3-I4.jpg', 'Fotos9Amostras/Q6-5-4-I10.jpg', 'Fotos9Amostras/Q6-8-2-I4.jpg', 'Fotos9Amostras/Q6-8-2-I2.jpg', 'Fotos9Amostras/Q6-6-3-I6.jpg', 'Fotos9Amostras/Q6-8-2-I10.jpg', 'Fotos9Amostras/Q6-7-3-I10.jpg', 'Fotos9Amostras/Q6-3-1-I9.jpg', 'Fotos9Amostras/Q6-4-3-I4.jpg', 'Fotos9Amostras/Q6-3-1-I7.jpg', 'Fotos9Amostras/Q6-4-3-I9.jpg', 'Fotos9Amostras/Q6-5-4-I5.jpg', 'Fotos9Amostras/Q6-6-3-I2.jpg', 'Fotos9Amostras/Q6-2-2-I4.jpg', 'Fotos9Amostras/Q6-8-2-I9.jpg', 'Fotos9Amostras/Q6-8-3-I3.jpg', 'Fotos9Amostras/Q6-4-1-I7.jpg']\n"
          ],
          "name": "stdout"
        }
      ]
    },
    {
      "cell_type": "code",
      "metadata": {
        "id": "WkQzQVXn3k42",
        "colab_type": "code",
        "outputId": "c7e9edce-71da-4ecf-d93d-a6e5ee6a78d7",
        "colab": {
          "base_uri": "https://localhost:8080/",
          "height": 150
        }
      },
      "source": [
        "# find df texture for a given picture\n",
        "df=Go2Mahotas.Mahotas(ww[0],Size,Sub_Size,Crop,img_name)   # gotoMahotas junta Mahotas com outros calculos\n",
        "print(df.head())"
      ],
      "execution_count": 74,
      "outputs": [
        {
          "output_type": "stream",
          "text": [
            "        ASM   constrast    correl  ...  dif entropy      IMC1      IMC2\n",
            "0  0.052758  203.298611  0.152889  ...     2.785192 -0.743669  0.996773\n",
            "1  0.055845   31.020833  0.342875  ...     2.670405 -0.703922  0.994526\n",
            "2  0.063465   32.423611  0.190614  ...     2.681161 -0.684040  0.992619\n",
            "3  0.060378   30.333333  0.339750  ...     2.689808 -0.673151  0.992236\n",
            "4  0.052951   48.104167  0.265168  ...     2.868526 -0.716823  0.995305\n",
            "\n",
            "[5 rows x 13 columns]\n"
          ],
          "name": "stdout"
        }
      ]
    },
    {
      "cell_type": "code",
      "metadata": {
        "id": "XfeRom6H2vPv",
        "colab_type": "code",
        "outputId": "152f65c8-d3e8-4cf0-b9ae-0c2753a43b03",
        "colab": {
          "base_uri": "https://localhost:8080/",
          "height": 33
        }
      },
      "source": [
        "Nomes=list(df.columns)\n",
        "Nomes_2=[]\n",
        "for it in Nomes:\n",
        "  Nomes_2.append(it)\n",
        "Nomes_2.append('colors') # vai adicionar as variaveis novas \n",
        "# caso queria adicionar outra variavel alem de cor, tem que modificar\n",
        "# a lista Nomes_2 com a adicao do nome da variavel a ser adicionada\n",
        "print(Nomes_2)"
      ],
      "execution_count": 75,
      "outputs": [
        {
          "output_type": "stream",
          "text": [
            "['ASM', 'constrast', 'correl', 'variance', 'inv diff mom', 'sum aveg', 'sum var', 'sum entropy', 'entropy', 'dif var', 'dif entropy', 'IMC1', 'IMC2', 'colors']\n"
          ],
          "name": "stdout"
        }
      ]
    },
    {
      "cell_type": "code",
      "metadata": {
        "id": "UgKlHvzR4T3J",
        "colab_type": "code",
        "colab": {}
      },
      "source": [
        "#print(Nomes)"
      ],
      "execution_count": 0,
      "outputs": []
    },
    {
      "cell_type": "code",
      "metadata": {
        "id": "BdfF9ZHzjDeI",
        "colab_type": "code",
        "outputId": "18fa1d38-a518-4c34-efae-0cd27640f897",
        "colab": {
          "base_uri": "https://localhost:8080/",
          "height": 33
        }
      },
      "source": [
        "print(len(df['ASM']))"
      ],
      "execution_count": 77,
      "outputs": [
        {
          "output_type": "stream",
          "text": [
            "17\n"
          ],
          "name": "stdout"
        }
      ]
    },
    {
      "cell_type": "code",
      "metadata": {
        "id": "U2ymyUPFiADf",
        "colab_type": "code",
        "outputId": "1ea89145-1f1f-41c8-a087-459daff51964",
        "colab": {
          "base_uri": "https://localhost:8080/",
          "height": 86
        }
      },
      "source": [
        "# observacao: cuidado para nao confundir Buracos com Buraco\n",
        "#             cuidado para nao confundir Graos com Grao\n",
        "#             cuidado para nao confundir Indefs com Indef\n",
        "\n",
        "j=0\n",
        "cont=-1\n",
        "Posicao_Buraco=[]\n",
        "Buracos=[]\n",
        "for i in img_name:\n",
        "  cont=cont+1\n",
        "  for k in Buraco:\n",
        "    if(i==k):\n",
        "      Posicao_Buraco.append(cont)\n",
        "      Buracos.append(4) # Buracos.append(1)\n",
        "j=0\n",
        "cont=-1\n",
        "Posicao_Grao=[]\n",
        "Graos=[]\n",
        "for i in img_name:\n",
        "  cont=cont+1\n",
        "  for k in Grao:\n",
        "    if(i==k):\n",
        "      Posicao_Grao.append(cont)\n",
        "      Graos.append(5) # Graos.append(2)\n",
        "\n",
        "j=0\n",
        "cont=-1\n",
        "Posicao_Indef=[]\n",
        "Indefs=[]\n",
        "for i in img_name:\n",
        "  cont=cont+1\n",
        "  for k in Indef:\n",
        "    if(i==k):\n",
        "      Posicao_Indef.append(cont)\n",
        "      Indefs.append(9) # Indefs.append(3)\n",
        "\n",
        "print(Posicao_Grao)\n",
        "print(Posicao_Buraco)\n",
        "print(Posicao_Indef)"
      ],
      "execution_count": 78,
      "outputs": [
        {
          "output_type": "stream",
          "text": [
            "[0, 3, 4, 10, 11, 14, 15, 16, 17, 21, 23, 26, 44, 48, 50, 54, 55, 59, 61, 65, 66, 68, 69, 71, 72, 76, 78, 79, 86, 93, 96, 100, 101, 103, 105, 106, 109, 112, 113, 114, 116, 121, 122, 123, 126, 132, 136, 138, 139, 140, 142, 148, 151, 158, 162, 163, 166, 170, 173, 175, 177, 179, 181, 182, 186, 195, 204, 209, 212, 213, 220, 224, 229, 230, 232, 234, 236, 237, 238, 239, 243, 244, 248, 249, 252, 256, 257, 258, 261, 262, 265, 268, 269, 275, 281, 283, 285, 286, 291, 295, 297, 299, 301, 306, 307, 310, 311, 315, 318, 325, 327, 328, 329, 331, 340, 342, 349, 350, 353, 354, 358, 360, 361, 366, 367, 369, 370, 371, 372, 373, 376, 383, 385, 387, 395, 399, 400, 404, 406, 410, 415, 420, 425, 429, 431, 437, 440, 444, 445, 446, 455, 457, 458, 460, 461, 462, 465, 466, 469, 472, 476, 477, 481, 483, 484, 488, 489, 491, 493, 496, 502, 503, 504, 517, 521, 525, 527, 529, 533, 539]\n",
            "[5, 6, 19, 27, 28, 30, 35, 36, 39, 40, 41, 45, 46, 49, 52, 53, 57, 58, 60, 70, 74, 80, 83, 91, 94, 97, 102, 104, 107, 108, 111, 115, 120, 127, 129, 130, 133, 134, 137, 145, 146, 147, 150, 152, 154, 157, 160, 167, 168, 169, 171, 174, 180, 184, 187, 189, 190, 197, 198, 199, 205, 206, 210, 211, 214, 218, 219, 221, 225, 226, 231, 233, 235, 240, 241, 242, 245, 246, 250, 251, 253, 254, 255, 263, 271, 277, 278, 282, 290, 292, 296, 298, 300, 302, 303, 305, 308, 314, 320, 321, 322, 330, 332, 333, 334, 335, 336, 339, 341, 343, 348, 352, 359, 362, 363, 365, 374, 375, 377, 379, 386, 388, 389, 390, 391, 393, 394, 397, 402, 405, 409, 413, 414, 418, 421, 422, 426, 427, 430, 433, 434, 436, 442, 443, 447, 448, 450, 451, 452, 453, 454, 464, 467, 471, 473, 479, 485, 486, 487, 494, 495, 497, 501, 506, 508, 509, 510, 511, 512, 514, 518, 519, 520, 522, 524, 526, 531, 532, 535, 536]\n",
            "[1, 2, 7, 8, 9, 12, 13, 18, 20, 22, 24, 25, 29, 31, 32, 33, 34, 37, 38, 42, 43, 47, 51, 56, 62, 63, 64, 67, 73, 75, 77, 81, 82, 84, 85, 87, 88, 89, 90, 92, 95, 98, 99, 110, 117, 118, 119, 124, 125, 128, 131, 135, 141, 143, 144, 149, 153, 155, 156, 159, 161, 164, 165, 172, 176, 178, 183, 185, 188, 191, 192, 193, 194, 196, 200, 201, 202, 203, 207, 208, 215, 216, 217, 222, 223, 227, 228, 247, 259, 260, 264, 266, 267, 270, 272, 273, 274, 276, 279, 280, 284, 287, 288, 289, 293, 294, 304, 309, 312, 313, 316, 317, 319, 323, 324, 326, 337, 338, 344, 345, 346, 347, 351, 355, 356, 357, 364, 368, 378, 380, 381, 382, 384, 392, 396, 398, 401, 403, 407, 408, 411, 412, 416, 417, 419, 423, 424, 428, 432, 435, 438, 439, 441, 449, 456, 459, 463, 468, 470, 474, 475, 478, 480, 482, 490, 492, 498, 499, 500, 505, 507, 513, 515, 516, 523, 528, 530, 534, 537, 538]\n"
          ],
          "name": "stdout"
        }
      ]
    },
    {
      "cell_type": "code",
      "metadata": {
        "id": "7YCD3ESkSFfV",
        "colab_type": "code",
        "colab": {}
      },
      "source": [
        "#for i in range(len(Posicao_Buraco)):\n",
        "#for i in Posicao_Buraco:\n",
        "#  print(i)"
      ],
      "execution_count": 0,
      "outputs": []
    },
    {
      "cell_type": "code",
      "metadata": {
        "id": "aNTlSGubnL3P",
        "colab_type": "code",
        "colab": {}
      },
      "source": [
        "# compara constrast dos tres primeiros buracos\n",
        "\n",
        "Matriz_X_Buraco=[] #é a matriz com as 14 variaveis (mahotas+cor) para todas as fotos de buraco\n",
        "\n",
        "for k in Posicao_Buraco:\n",
        "  df=Go2Mahotas.Mahotas(ww[k],Size,Sub_Size,Crop,img_name)\n",
        "  Linha=[]\n",
        "  for it in Nomes:\n",
        "    #print(Linha)\n",
        "    #print(\"Nomes=\",Nomes)\n",
        "    #print(\"it=\",it)\n",
        "    #print(df[it])\n",
        "    Linha.append(np.mean(df[it]))\n",
        "\n",
        "  Linha.append(New_Colunm[k])\n",
        "  Matriz_X_Buraco.append(Linha)\n",
        "  #plt.figure(i+1)\n",
        "  #plt.plot(df['constrast'])\n",
        "  #print(len(Matriz_X_Buraco))\n",
        "#print(pd.DataFrame(Matriz_X_Buraco)) \n",
        "#Contraste_Buraco=pd.DataFrame(Matriz_X_Buraco,columns=Nomes)\n",
        "Contraste_Buraco=pd.DataFrame(Matriz_X_Buraco,columns=Nomes_2) #é a matriz com as 14 variaveis (mahotas+cor) para todas as fotos de buraco, com os nomes do Índice"
      ],
      "execution_count": 0,
      "outputs": []
    },
    {
      "cell_type": "code",
      "metadata": {
        "id": "MMP5HkYEBrAK",
        "colab_type": "code",
        "outputId": "72c36d62-adbf-4ba5-dc50-472b09056110",
        "colab": {
          "base_uri": "https://localhost:8080/",
          "height": 150
        }
      },
      "source": [
        "# Insert the new column at position 1.\n",
        "Contraste_Buraco.insert(0,\"Type\",1,True)\n",
        "print(Contraste_Buraco.head())"
      ],
      "execution_count": 81,
      "outputs": [
        {
          "output_type": "stream",
          "text": [
            "   Type       ASM   constrast  ...      IMC1      IMC2  colors\n",
            "0     1  0.062500  220.456291  ... -0.663729  0.985292  0.5700\n",
            "1     1  0.062653   35.939134  ... -0.637104  0.983396  0.4250\n",
            "2     1  0.056685   94.662582  ... -0.673195  0.989868  0.4475\n",
            "3     1  0.053672  364.052288  ... -0.730844  0.992383  0.4875\n",
            "4     1  0.051437  196.939542  ... -0.770135  0.997371  0.5350\n",
            "\n",
            "[5 rows x 15 columns]\n"
          ],
          "name": "stdout"
        }
      ]
    },
    {
      "cell_type": "code",
      "metadata": {
        "id": "FKpqBGqMq0U2",
        "colab_type": "code",
        "colab": {}
      },
      "source": [
        "# compara constrast dos graos\n",
        "\n",
        "Matriz_X_Grao=[] #é a matriz com as 14 variaveis (mahotas+cor) para todas as fotos de grao\n",
        "\n",
        "for k in Posicao_Grao:\n",
        "  df=Go2Mahotas.Mahotas(ww[k],Size,Sub_Size,Crop,img_name)\n",
        "  Linha=[]\n",
        "  for it in Nomes:\n",
        "    Linha.append(np.mean(df[it]))\n",
        "    \n",
        "  Linha.append(New_Colunm[k])\n",
        "  Matriz_X_Grao.append(Linha)\n",
        "#print(pd.DataFrame(Matriz_X_Grao))\n",
        "\n",
        "Contraste_Grao=pd.DataFrame(Matriz_X_Grao,columns=Nomes_2) #é a matriz com as 14 variaveis (mahotas+cor) para todas as fotos de grao, com os nomes do Índice"
      ],
      "execution_count": 0,
      "outputs": []
    },
    {
      "cell_type": "code",
      "metadata": {
        "id": "BB-sS62MsF1p",
        "colab_type": "code",
        "outputId": "75666e58-fa58-40b1-b25f-39acf6e7cb44",
        "colab": {
          "base_uri": "https://localhost:8080/",
          "height": 150
        }
      },
      "source": [
        "# Insert the new column at position 1.\n",
        "Contraste_Grao.insert(0,\"Type\",2,True)\n",
        "print(Contraste_Grao.head())"
      ],
      "execution_count": 83,
      "outputs": [
        {
          "output_type": "stream",
          "text": [
            "   Type       ASM    constrast  ...      IMC1      IMC2  colors\n",
            "0     2  0.055652    82.936275  ... -0.704445  0.994020  0.6075\n",
            "1     2  0.053950   686.425245  ... -0.719483  0.994347  0.4950\n",
            "2     2  0.050625  1191.962010  ... -0.803702  0.998208  0.5150\n",
            "3     2  0.053042   323.158497  ... -0.748230  0.995994  0.5825\n",
            "4     2  0.051590   721.428513  ... -0.779493  0.997592  0.6175\n",
            "\n",
            "[5 rows x 15 columns]\n"
          ],
          "name": "stdout"
        }
      ]
    },
    {
      "cell_type": "code",
      "metadata": {
        "id": "e6cV2a71_tJL",
        "colab_type": "code",
        "outputId": "6d783703-f6cc-4bf5-b0c2-431923de89bb",
        "colab": {
          "base_uri": "https://localhost:8080/",
          "height": 86
        }
      },
      "source": [
        "print(Posicao_Grao)\n",
        "print(Posicao_Buraco)\n",
        "print(Posicao_Indef)"
      ],
      "execution_count": 84,
      "outputs": [
        {
          "output_type": "stream",
          "text": [
            "[0, 3, 4, 10, 11, 14, 15, 16, 17, 21, 23, 26, 44, 48, 50, 54, 55, 59, 61, 65, 66, 68, 69, 71, 72, 76, 78, 79, 86, 93, 96, 100, 101, 103, 105, 106, 109, 112, 113, 114, 116, 121, 122, 123, 126, 132, 136, 138, 139, 140, 142, 148, 151, 158, 162, 163, 166, 170, 173, 175, 177, 179, 181, 182, 186, 195, 204, 209, 212, 213, 220, 224, 229, 230, 232, 234, 236, 237, 238, 239, 243, 244, 248, 249, 252, 256, 257, 258, 261, 262, 265, 268, 269, 275, 281, 283, 285, 286, 291, 295, 297, 299, 301, 306, 307, 310, 311, 315, 318, 325, 327, 328, 329, 331, 340, 342, 349, 350, 353, 354, 358, 360, 361, 366, 367, 369, 370, 371, 372, 373, 376, 383, 385, 387, 395, 399, 400, 404, 406, 410, 415, 420, 425, 429, 431, 437, 440, 444, 445, 446, 455, 457, 458, 460, 461, 462, 465, 466, 469, 472, 476, 477, 481, 483, 484, 488, 489, 491, 493, 496, 502, 503, 504, 517, 521, 525, 527, 529, 533, 539]\n",
            "[5, 6, 19, 27, 28, 30, 35, 36, 39, 40, 41, 45, 46, 49, 52, 53, 57, 58, 60, 70, 74, 80, 83, 91, 94, 97, 102, 104, 107, 108, 111, 115, 120, 127, 129, 130, 133, 134, 137, 145, 146, 147, 150, 152, 154, 157, 160, 167, 168, 169, 171, 174, 180, 184, 187, 189, 190, 197, 198, 199, 205, 206, 210, 211, 214, 218, 219, 221, 225, 226, 231, 233, 235, 240, 241, 242, 245, 246, 250, 251, 253, 254, 255, 263, 271, 277, 278, 282, 290, 292, 296, 298, 300, 302, 303, 305, 308, 314, 320, 321, 322, 330, 332, 333, 334, 335, 336, 339, 341, 343, 348, 352, 359, 362, 363, 365, 374, 375, 377, 379, 386, 388, 389, 390, 391, 393, 394, 397, 402, 405, 409, 413, 414, 418, 421, 422, 426, 427, 430, 433, 434, 436, 442, 443, 447, 448, 450, 451, 452, 453, 454, 464, 467, 471, 473, 479, 485, 486, 487, 494, 495, 497, 501, 506, 508, 509, 510, 511, 512, 514, 518, 519, 520, 522, 524, 526, 531, 532, 535, 536]\n",
            "[1, 2, 7, 8, 9, 12, 13, 18, 20, 22, 24, 25, 29, 31, 32, 33, 34, 37, 38, 42, 43, 47, 51, 56, 62, 63, 64, 67, 73, 75, 77, 81, 82, 84, 85, 87, 88, 89, 90, 92, 95, 98, 99, 110, 117, 118, 119, 124, 125, 128, 131, 135, 141, 143, 144, 149, 153, 155, 156, 159, 161, 164, 165, 172, 176, 178, 183, 185, 188, 191, 192, 193, 194, 196, 200, 201, 202, 203, 207, 208, 215, 216, 217, 222, 223, 227, 228, 247, 259, 260, 264, 266, 267, 270, 272, 273, 274, 276, 279, 280, 284, 287, 288, 289, 293, 294, 304, 309, 312, 313, 316, 317, 319, 323, 324, 326, 337, 338, 344, 345, 346, 347, 351, 355, 356, 357, 364, 368, 378, 380, 381, 382, 384, 392, 396, 398, 401, 403, 407, 408, 411, 412, 416, 417, 419, 423, 424, 428, 432, 435, 438, 439, 441, 449, 456, 459, 463, 468, 470, 474, 475, 478, 480, 482, 490, 492, 498, 499, 500, 505, 507, 513, 515, 516, 523, 528, 530, 534, 537, 538]\n"
          ],
          "name": "stdout"
        }
      ]
    },
    {
      "cell_type": "code",
      "metadata": {
        "id": "uno28vfVq0lc",
        "colab_type": "code",
        "colab": {}
      },
      "source": [
        "# compara constrast dos indefinidos\n",
        "\n",
        "Matriz_X_Indef=[] #é a matriz com as 14 variaveis (mahotas+cor) para todas as fotos de indef\n",
        "\n",
        "for k in Posicao_Indef:\n",
        "  df=Go2Mahotas.Mahotas(ww[k],Size,Sub_Size,Crop,img_name)\n",
        "  Linha=[]\n",
        "  for it in Nomes:\n",
        "    Linha.append(np.mean(df[it]))\n",
        "    \n",
        "  Linha.append(New_Colunm[k])\n",
        "  Matriz_X_Indef.append(Linha)\n",
        "Contraste_Indef=pd.DataFrame(Matriz_X_Indef,columns=Nomes_2) #é a matriz com as 14 variaveis (mahotas+cor) para todas as fotos de indef, com os nomes do Índice"
      ],
      "execution_count": 0,
      "outputs": []
    },
    {
      "cell_type": "code",
      "metadata": {
        "id": "gf4jCbwHtDOs",
        "colab_type": "code",
        "outputId": "2073fb9c-3b20-4c4e-b8e5-207e73efef7b",
        "colab": {
          "base_uri": "https://localhost:8080/",
          "height": 150
        }
      },
      "source": [
        "# Insert the new column at position 1.\n",
        "Contraste_Indef.insert(0,\"Type\",3,True)\n",
        "print(Contraste_Indef.head())"
      ],
      "execution_count": 86,
      "outputs": [
        {
          "output_type": "stream",
          "text": [
            "   Type       ASM    constrast  ...      IMC1      IMC2  colors\n",
            "0     3  0.053933   104.133170  ... -0.730964  0.992647  0.5100\n",
            "1     3  0.061581   130.968546  ... -0.664889  0.986649  0.4775\n",
            "2     3  0.053468  3428.661356  ... -0.763836  0.995966  0.3225\n",
            "3     3  0.056021    23.720997  ... -0.693172  0.991625  0.5375\n",
            "4     3  0.062591   139.585376  ... -0.656057  0.962582  0.5075\n",
            "\n",
            "[5 rows x 15 columns]\n"
          ],
          "name": "stdout"
        }
      ]
    },
    {
      "cell_type": "code",
      "metadata": {
        "id": "EHSBh2ye9WV8",
        "colab_type": "code",
        "outputId": "8c51126f-8391-442d-e198-78dc4f7865e6",
        "colab": {
          "base_uri": "https://localhost:8080/",
          "height": 150
        }
      },
      "source": [
        "print(Contraste_Buraco.head())"
      ],
      "execution_count": 87,
      "outputs": [
        {
          "output_type": "stream",
          "text": [
            "   Type       ASM   constrast  ...      IMC1      IMC2  colors\n",
            "0     1  0.062500  220.456291  ... -0.663729  0.985292  0.5700\n",
            "1     1  0.062653   35.939134  ... -0.637104  0.983396  0.4250\n",
            "2     1  0.056685   94.662582  ... -0.673195  0.989868  0.4475\n",
            "3     1  0.053672  364.052288  ... -0.730844  0.992383  0.4875\n",
            "4     1  0.051437  196.939542  ... -0.770135  0.997371  0.5350\n",
            "\n",
            "[5 rows x 15 columns]\n"
          ],
          "name": "stdout"
        }
      ]
    },
    {
      "cell_type": "code",
      "metadata": {
        "id": "k5e1EwMAs84e",
        "colab_type": "code",
        "outputId": "f48f1761-d180-48ac-8553-beba77f9cac5",
        "colab": {
          "base_uri": "https://localhost:8080/",
          "height": 150
        }
      },
      "source": [
        "print(Contraste_Grao.head())"
      ],
      "execution_count": 88,
      "outputs": [
        {
          "output_type": "stream",
          "text": [
            "   Type       ASM    constrast  ...      IMC1      IMC2  colors\n",
            "0     2  0.055652    82.936275  ... -0.704445  0.994020  0.6075\n",
            "1     2  0.053950   686.425245  ... -0.719483  0.994347  0.4950\n",
            "2     2  0.050625  1191.962010  ... -0.803702  0.998208  0.5150\n",
            "3     2  0.053042   323.158497  ... -0.748230  0.995994  0.5825\n",
            "4     2  0.051590   721.428513  ... -0.779493  0.997592  0.6175\n",
            "\n",
            "[5 rows x 15 columns]\n"
          ],
          "name": "stdout"
        }
      ]
    },
    {
      "cell_type": "code",
      "metadata": {
        "id": "3ehKvYQAs9TP",
        "colab_type": "code",
        "outputId": "b66c01c2-bd7d-4978-d35a-ba223b83b401",
        "colab": {
          "base_uri": "https://localhost:8080/",
          "height": 150
        }
      },
      "source": [
        "print(Contraste_Indef.head())"
      ],
      "execution_count": 89,
      "outputs": [
        {
          "output_type": "stream",
          "text": [
            "   Type       ASM    constrast  ...      IMC1      IMC2  colors\n",
            "0     3  0.053933   104.133170  ... -0.730964  0.992647  0.5100\n",
            "1     3  0.061581   130.968546  ... -0.664889  0.986649  0.4775\n",
            "2     3  0.053468  3428.661356  ... -0.763836  0.995966  0.3225\n",
            "3     3  0.056021    23.720997  ... -0.693172  0.991625  0.5375\n",
            "4     3  0.062591   139.585376  ... -0.656057  0.962582  0.5075\n",
            "\n",
            "[5 rows x 15 columns]\n"
          ],
          "name": "stdout"
        }
      ]
    },
    {
      "cell_type": "code",
      "metadata": {
        "id": "umnYO8zBI2J_",
        "colab_type": "code",
        "colab": {}
      },
      "source": [
        "Contraste_Completo_mar_2020 = pd.concat([Contraste_Buraco, Contraste_Grao, Contraste_Indef], axis=0)"
      ],
      "execution_count": 0,
      "outputs": []
    },
    {
      "cell_type": "code",
      "metadata": {
        "id": "3aZ6btGKJpr7",
        "colab_type": "code",
        "outputId": "5be4a3e1-4d86-442c-a607-4972c54149bb",
        "colab": {
          "base_uri": "https://localhost:8080/",
          "height": 250
        }
      },
      "source": [
        "print(Contraste_Completo_mar_2020)"
      ],
      "execution_count": 91,
      "outputs": [
        {
          "output_type": "stream",
          "text": [
            "     Type       ASM   constrast  ...      IMC1      IMC2  colors\n",
            "0       1  0.062500  220.456291  ... -0.663729  0.985292  0.5700\n",
            "1       1  0.062653   35.939134  ... -0.637104  0.983396  0.4250\n",
            "2       1  0.056685   94.662582  ... -0.673195  0.989868  0.4475\n",
            "3       1  0.053672  364.052288  ... -0.730844  0.992383  0.4875\n",
            "4       1  0.051437  196.939542  ... -0.770135  0.997371  0.5350\n",
            "..    ...       ...         ...  ...       ...       ...     ...\n",
            "175     3  0.050926  410.030229  ... -0.780248  0.997502  0.5000\n",
            "176     3  0.053093  585.907680  ... -0.761510  0.994935  0.5550\n",
            "177     3  0.060123   16.233660  ... -0.607501  0.978556  0.6150\n",
            "178     3  0.056792  147.247958  ... -0.699026  0.991186  0.4900\n",
            "179     3  0.053984  484.488971  ... -0.759572  0.996433  0.4625\n",
            "\n",
            "[540 rows x 15 columns]\n"
          ],
          "name": "stdout"
        }
      ]
    },
    {
      "cell_type": "code",
      "metadata": {
        "id": "dZSOVH78CeU_",
        "colab_type": "code",
        "outputId": "7ad904a3-edbb-471f-a707-e997d6ea2496",
        "colab": {
          "base_uri": "https://localhost:8080/",
          "height": 33
        }
      },
      "source": [
        "# found drive\n",
        "from google.colab import drive\n",
        "drive.mount('drive')"
      ],
      "execution_count": 92,
      "outputs": [
        {
          "output_type": "stream",
          "text": [
            "Mounted at drive\n"
          ],
          "name": "stdout"
        }
      ]
    },
    {
      "cell_type": "code",
      "metadata": {
        "id": "Lw8rqNu0CpQv",
        "colab_type": "code",
        "colab": {}
      },
      "source": [
        "# get csv file\n",
        "Contraste_Completo_mar_2020.to_csv('Contraste_Completo_mar_2020.csv', float_format=\"%.5f\")"
      ],
      "execution_count": 0,
      "outputs": []
    },
    {
      "cell_type": "code",
      "metadata": {
        "id": "65m5BDM5NDfH",
        "colab_type": "code",
        "colab": {}
      },
      "source": [
        "\n",
        "# save in drive\n",
        "!cp Contraste_Completo_mar_2020.csv drive/My\\ Drive/Maria_Gabriela_Textura_dados_jan_2020/"
      ],
      "execution_count": 0,
      "outputs": []
    }
  ]
}