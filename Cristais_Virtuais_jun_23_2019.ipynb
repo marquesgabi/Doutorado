{
  "nbformat": 4,
  "nbformat_minor": 0,
  "metadata": {
    "colab": {
      "name": "Cristais_Virtuais_jun_23_2019.ipynb",
      "version": "0.3.2",
      "provenance": [],
      "collapsed_sections": [],
      "include_colab_link": true
    },
    "kernelspec": {
      "name": "python3",
      "display_name": "Python 3"
    }
  },
  "cells": [
    {
      "cell_type": "markdown",
      "metadata": {
        "id": "view-in-github",
        "colab_type": "text"
      },
      "source": [
        "<a href=\"https://colab.research.google.com/github/marquesgabi/Doutorado/blob/master/Cristais_Virtuais_jun_23_2019.ipynb\" target=\"_parent\"><img src=\"https://colab.research.google.com/assets/colab-badge.svg\" alt=\"Open In Colab\"/></a>"
      ]
    },
    {
      "cell_type": "code",
      "metadata": {
        "id": "7xeWqX7ABjwO",
        "colab_type": "code",
        "colab": {}
      },
      "source": [
        "\n",
        "import matplotlib.pyplot as plt\n",
        "import matplotlib.patches as patches\n",
        "from PIL import Image\n",
        "from random import randrange, uniform\n",
        "import numpy as np\n"
      ],
      "execution_count": 0,
      "outputs": []
    },
    {
      "cell_type": "code",
      "metadata": {
        "id": "PQK97uWhE-pc",
        "colab_type": "code",
        "outputId": "19e1f5c8-1f19-4a3b-91e0-fdbf64a0d007",
        "colab": {
          "base_uri": "https://localhost:8080/",
          "height": 114
        }
      },
      "source": [
        "# clona o diretorio github ucfilho/ANN no colaboratory research\n",
        "!git clone https://github.com/ucfilho/marquesgabi\n",
        "%cd marquesgabi"
      ],
      "execution_count": 0,
      "outputs": [
        {
          "output_type": "stream",
          "text": [
            "Cloning into 'marquesgabi'...\n",
            "remote: Enumerating objects: 81, done.\u001b[K\n",
            "remote: Counting objects: 100% (81/81), done.\u001b[K\n",
            "remote: Compressing objects: 100% (79/79), done.\u001b[K\n"
          ],
          "name": "stdout"
        }
      ]
    },
    {
      "cell_type": "code",
      "metadata": {
        "id": "qwuNuXeWF2o8",
        "colab_type": "code",
        "colab": {}
      },
      "source": [
        "!ls"
      ],
      "execution_count": 0,
      "outputs": []
    },
    {
      "cell_type": "code",
      "metadata": {
        "id": "iwnmJgsNC8wM",
        "colab_type": "code",
        "colab": {}
      },
      "source": [
        "\n",
        "im = np.array(Image.open('plain-white-background.jpg'), dtype=np.uint8)\n",
        "\n",
        "# Create figure and axes\n",
        "fig,ax = plt.subplots(1)\n",
        "\n",
        "# Display the image\n",
        "plt.axis(\"off\")\n",
        "ax.imshow(im)\n",
        "\n",
        "# Create a Rectangle patch\n",
        "rect_01 = patches.Rectangle((50,100),40,30,linewidth=1,edgecolor='gray',facecolor='gray')\n",
        "rect_02 = patches.Rectangle((200,100),100,80,linewidth=1,edgecolor='gray',facecolor='gray')\n",
        "# Add the patch to the Axes\n",
        "ax.add_patch(rect_01)\n",
        "ax.add_patch(rect_02)\n",
        "\n",
        "plt.show()"
      ],
      "execution_count": 0,
      "outputs": []
    },
    {
      "cell_type": "code",
      "metadata": {
        "id": "WOdf87_kIs4s",
        "colab_type": "code",
        "colab": {}
      },
      "source": [
        "A=im.shape\n",
        "print(im.shape)\n",
        "print(A[0])\n",
        "Nx=A[0]\n",
        "Ny=A[1]"
      ],
      "execution_count": 0,
      "outputs": []
    },
    {
      "cell_type": "code",
      "metadata": {
        "id": "JGo2f9KhIKJ1",
        "colab_type": "code",
        "colab": {}
      },
      "source": [
        "Num=100 # numero de cristais sinteticos\n",
        "im = np.array(Image.open('plain-white-background.jpg'), dtype=np.uint8)\n",
        "A=im.shape\n",
        "Nx=A[0]\n",
        "Ny=A[1]\n",
        "\n",
        "fig,ax = plt.subplots(1)\n",
        "plt.axis(\"off\")\n",
        "ax.imshow(im)\n",
        "\n",
        "for i in range(Num):\n",
        "  x1 = randrange(0, Nx)\n",
        "  x2 = randrange(0, int(Nx/5))\n",
        "  y1 = randrange(0, Ny)\n",
        "  y2 = randrange(0, int(Ny/5))                 \n",
        "  rect = patches.Rectangle((x1,y1),x2,y2,linewidth=1,edgecolor='black',facecolor='gray')\n",
        "  ax.add_patch(rect)\n",
        "\n",
        "\n",
        "plt.show()"
      ],
      "execution_count": 0,
      "outputs": []
    },
    {
      "cell_type": "code",
      "metadata": {
        "id": "hSCWFVXHMGnE",
        "colab_type": "code",
        "colab": {}
      },
      "source": [
        "Num=100 # numero de cristais sinteticos\n",
        "im = np.array(Image.open('plain-white-background.jpg'), dtype=np.uint8)\n",
        "A=im.shape\n",
        "Nx=A[0]\n",
        "Ny=A[1]\n",
        "\n",
        "fig,ax = plt.subplots(1)\n",
        "plt.axis(\"off\")\n",
        "ax.imshow(im)\n",
        "\n",
        "for i in range(Num):\n",
        "  x1 = randrange(0, Nx)\n",
        "  x2 = randrange(0, int(Nx/5))\n",
        "  frand = uniform(0.9, 1.1)\n",
        "  y1 = int(x1*frand)\n",
        "  y2 = randrange(0, int(Ny/5))                 \n",
        "  rect = patches.Rectangle((x1,y1),x2,y2,linewidth=1,edgecolor='black',facecolor='gray')\n",
        "  ax.add_patch(rect)\n",
        "\n",
        "\n",
        "plt.show()"
      ],
      "execution_count": 0,
      "outputs": []
    },
    {
      "cell_type": "code",
      "metadata": {
        "id": "gN9wOxfBM5sM",
        "colab_type": "code",
        "colab": {}
      },
      "source": [
        "Num=300 # numero de cristais sinteticos\n",
        "im = np.array(Image.open('plain-white-background.jpg'), dtype=np.uint8)\n",
        "A=im.shape\n",
        "Nx=A[0]\n",
        "Ny=A[1]\n",
        "\n",
        "fig,ax = plt.subplots(1)\n",
        "plt.axis(\"off\")\n",
        "ax.imshow(im)\n",
        "\n",
        "for i in range(Num):\n",
        "  x1 = randrange(0, Nx)\n",
        "  x2 = randrange(0, int(Nx/5))\n",
        "  frand = uniform(0.8, 1.1)\n",
        "  y1 = randrange(0, Ny) \n",
        "  y2 = int(x2*frand)                \n",
        "  rect = patches.Rectangle((x1,y1),x2,y2,linewidth=1,edgecolor='black',facecolor='gray')\n",
        "  ax.add_patch(rect)\n",
        "\n",
        "\n",
        "plt.show()"
      ],
      "execution_count": 0,
      "outputs": []
    }
  ]
}