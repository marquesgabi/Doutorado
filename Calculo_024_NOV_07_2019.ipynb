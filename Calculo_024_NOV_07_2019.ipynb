{
  "nbformat": 4,
  "nbformat_minor": 0,
  "metadata": {
    "colab": {
      "name": "Calculo_024_NOV_07_2019.ipynb",
      "provenance": [],
      "collapsed_sections": [],
      "include_colab_link": true
    },
    "kernelspec": {
      "name": "python3",
      "display_name": "Python 3"
    }
  },
  "cells": [
    {
      "cell_type": "markdown",
      "metadata": {
        "id": "view-in-github",
        "colab_type": "text"
      },
      "source": [
        "<a href=\"https://colab.research.google.com/github/marquesgabi/Doutorado/blob/master/Calculo_024_NOV_07_2019.ipynb\" target=\"_parent\"><img src=\"https://colab.research.google.com/assets/colab-badge.svg\" alt=\"Open In Colab\"/></a>"
      ]
    },
    {
      "cell_type": "code",
      "metadata": {
        "id": "9q3V2QrqnMBI",
        "colab_type": "code",
        "colab": {}
      },
      "source": [
        "# carrega as bibliotecas do python"
      ],
      "execution_count": 0,
      "outputs": []
    },
    {
      "cell_type": "code",
      "metadata": {
        "id": "7ehcD9CI2hdG",
        "colab_type": "code",
        "colab": {}
      },
      "source": [
        "# rotate image....\n",
        "# https://www.pyimagesearch.com/2017/01/02/rotate-images-correctly-with-opencv-and-python/\n",
        "# https://pythontic.com/image-processing/pillow/rotate"
      ],
      "execution_count": 0,
      "outputs": []
    },
    {
      "cell_type": "code",
      "metadata": {
        "id": "szqvrsIInRDg",
        "colab_type": "code",
        "colab": {}
      },
      "source": [
        "%matplotlib inline\n",
        "from matplotlib import pyplot as plt\n",
        "import os \n",
        "import cv2\n",
        "import zipfile\n",
        "from skimage import data\n",
        "from skimage import filters\n",
        "from skimage import exposure\n",
        "import skimage.feature as sk\n",
        "import numpy as np\n",
        "import pandas as pd\n",
        "from google.colab import files\n",
        "from sklearn.metrics.cluster import entropy\n",
        "from sklearn.metrics.cluster import homogeneity_score\n",
        "from numpy import linalg as LA\n"
      ],
      "execution_count": 0,
      "outputs": []
    },
    {
      "cell_type": "code",
      "metadata": {
        "id": "zsjb8DmRVtDy",
        "colab_type": "code",
        "outputId": "b27e646c-fdf6-4b71-9425-b6d3f7fbc8a0",
        "colab": {
          "base_uri": "https://localhost:8080/",
          "height": 204
        }
      },
      "source": [
        "!wget http://ftp.feq.ufu.br/ubirajara/Sugar_set_30_2019.zip\n",
        "#!ls -l trash_nov_22_2018.zip\n"
      ],
      "execution_count": 0,
      "outputs": [
        {
          "output_type": "stream",
          "text": [
            "--2019-11-08 12:54:08--  http://ftp.feq.ufu.br/ubirajara/Sugar_set_30_2019.zip\n",
            "Resolving ftp.feq.ufu.br (ftp.feq.ufu.br)... 200.19.144.11\n",
            "Connecting to ftp.feq.ufu.br (ftp.feq.ufu.br)|200.19.144.11|:80... connected.\n",
            "HTTP request sent, awaiting response... 200 OK\n",
            "Length: 19584173 (19M) [application/zip]\n",
            "Saving to: ‘Sugar_set_30_2019.zip.1’\n",
            "\n",
            "Sugar_set_30_2019.z 100%[===================>]  18.68M  5.02MB/s    in 3.7s    \n",
            "\n",
            "2019-11-08 12:54:12 (5.02 MB/s) - ‘Sugar_set_30_2019.zip.1’ saved [19584173/19584173]\n",
            "\n"
          ],
          "name": "stdout"
        }
      ]
    },
    {
      "cell_type": "code",
      "metadata": {
        "id": "ygswjsh1ptUl",
        "colab_type": "code",
        "colab": {}
      },
      "source": [
        "\n",
        "file_name = zipfile.ZipFile('Sugar_set_30_2019.zip', 'r')\n",
        "file_name.extractall() "
      ],
      "execution_count": 0,
      "outputs": []
    },
    {
      "cell_type": "code",
      "metadata": {
        "id": "Qq1UTVWMnU0n",
        "colab_type": "code",
        "colab": {}
      },
      "source": [
        "# all images are resized in variable x, scale gray in variable w and np.array in variable p para cada foto\n",
        "FILE='Sugar_set_30_2019.zip'\n",
        "img_name=[]\n",
        "x=[]\n",
        "p=[]\n",
        "w=[]\n",
        "Size=5 # trocar por 64 qdo acabar a analise\n",
        "\n",
        "with zipfile.ZipFile(FILE, \"r\") as f:\n",
        "    for name in f.namelist():\n",
        "        img_name.append(name)\n",
        "        #x.append(cv2.imread(name))\n",
        "        x.append(cv2.resize(cv2.imread(name),(Size,Size)))\n",
        "\n",
        "nrow=len(img_name)\n",
        "ncol=Size*Size\n",
        "pp=np.zeros((nrow,ncol)) # np.array pp é uma matriz e cada linha é uma foto\n",
        "for i in range(nrow):\n",
        "    w.append(cv2.cvtColor(np.array(x[i]), cv2.COLOR_BGR2GRAY))\n",
        "    pp[i,:]=w[i].ravel()"
      ],
      "execution_count": 0,
      "outputs": []
    },
    {
      "cell_type": "code",
      "metadata": {
        "id": "FFahQriWmGHt",
        "colab_type": "code",
        "outputId": "3be642a7-2982-437f-e1e0-c4fae6ba0c38",
        "colab": {
          "base_uri": "https://localhost:8080/",
          "height": 51
        }
      },
      "source": [
        "!git clone https://github.com/ucfilho/marquesgabi #clonar do Github\n",
        "%cd marquesgabi\n",
        "import Go2GLCM"
      ],
      "execution_count": 0,
      "outputs": [
        {
          "output_type": "stream",
          "text": [
            "fatal: destination path 'marquesgabi' already exists and is not an empty directory.\n",
            "/content/marquesgabi\n"
          ],
          "name": "stdout"
        }
      ]
    },
    {
      "cell_type": "code",
      "metadata": {
        "id": "9XPFWhiq3tGW",
        "colab_type": "code",
        "outputId": "ddcdfe96-9425-4636-d2b1-16e9fdbf3f47",
        "colab": {
          "base_uri": "https://localhost:8080/",
          "height": 357
        }
      },
      "source": [
        "Nfotos=len(img_name)\n",
        "GLCM=[]\n",
        "for k in range(Nfotos):\n",
        "  p=pp[k,:].reshape(Size,Size) #voltar o pp para p novamente no formato ij, mas sem as infos estranhas\n",
        "  MAT=Go2GLCM.GLCM(p)\n",
        "  pd.set_option('display.max_columns', 30)\n",
        "  GLCM.append(MAT.ravel())\n",
        "\n",
        "Nomes=['ASM','constrast','correl','variance','inv diff mom','sum aveg',\n",
        "       'sum var','sum entropy','entropy','dif var','dif entropy','IMC1',\n",
        "       'IMC2','MCC']\n",
        "#print(pd.DataFrame(GLCM,columns=Nomes))\n",
        "print(pd.DataFrame(GLCM,columns=Nomes).head())\n",
        "\n",
        "  "
      ],
      "execution_count": 0,
      "outputs": [
        {
          "output_type": "stream",
          "text": [
            "        ASM  constrast     correl  variance  inv diff mom   sum aveg  \\\n",
            "0  0.040159   4.006764 -48.388893  5.873156      0.423837  20.097900   \n",
            "1  0.041540   4.282528 -47.724904  5.762803      0.411868  20.118283   \n",
            "2  0.040287   4.030399 -49.193342  5.979967      0.424910  20.208554   \n",
            "3  0.040175   4.015663 -48.607804  6.027608      0.435603  20.231465   \n",
            "4  0.040313   4.043838 -47.746904  5.656749      0.422210  19.935322   \n",
            "\n",
            "     sum var  sum entropy   entropy    dif var  dif entropy      IMC1  \\\n",
            "0  38.848134     2.080038  0.648663  20.033820     7.608990 -0.000770   \n",
            "1  38.570089     2.064334  0.646616  21.412639     7.688757 -0.005531   \n",
            "2  39.133866     2.071191  0.656965  20.151997     7.628194 -0.001239   \n",
            "3  39.597120     2.083742  0.653877  20.078315     7.654684 -0.000658   \n",
            "4  38.085237     2.073301  0.652921  20.219188     7.614789 -0.001073   \n",
            "\n",
            "       IMC2       MCC  \n",
            "0  0.049748  0.039787  \n",
            "1  0.132720  0.133372  \n",
            "2  0.063068  0.045709  \n",
            "3  0.045987  0.036992  \n",
            "4  0.058718  0.051329  \n"
          ],
          "name": "stdout"
        }
      ]
    },
    {
      "cell_type": "code",
      "metadata": {
        "id": "8JqTwJ9TpmzE",
        "colab_type": "code",
        "outputId": "b2e71a38-4e6d-4df5-d531-8cf4db896566",
        "colab": {
          "base_uri": "https://localhost:8080/",
          "height": 34
        }
      },
      "source": [
        "print(p.shape)"
      ],
      "execution_count": 0,
      "outputs": [
        {
          "output_type": "stream",
          "text": [
            "(5, 5)\n"
          ],
          "name": "stdout"
        }
      ]
    },
    {
      "cell_type": "code",
      "metadata": {
        "id": "4SByB4bq4wO9",
        "colab_type": "code",
        "outputId": "9ebe6c11-42a5-48c2-ac32-8e91cf429226",
        "colab": {
          "base_uri": "https://localhost:8080/",
          "height": 54
        }
      },
      "source": [
        "'''          \n",
        "          0         1          2         3         4          5          6  \\\n",
        "0  0.040159  4.006764 -48.388893  5.873156  0.423837  20.097900  38.848134   \n",
        "1  0.041540  4.282528 -47.724904  5.762803  0.411868  20.118283  38.570089   \n",
        "2  0.040287  4.030399 -49.193342  5.979967  0.424910  20.208554  39.133866   \n",
        "3  0.040175  4.015663 -48.607804  6.027608  0.435603  20.231465  39.597120   \n",
        "4  0.040313  4.043838 -47.746904  5.656749  0.422210  19.935322  38.085237   \n",
        "\n",
        "          7         8          9        10        11        12        13  \n",
        "0  2.080038  0.648663  20.033820  7.608990 -0.000770  0.049748  0.039787  \n",
        "1  2.064334  0.646616  21.412639  7.688757 -0.005531  0.132720  0.133372  \n",
        "2  2.071191  0.656965  20.151997  7.628194 -0.001239  0.063068  0.045709  \n",
        "3  2.083742  0.653877  20.078315  7.654684 -0.000658  0.045987  0.036992  \n",
        "4  2.073301  0.652921  20.219188  7.614789 -0.001073  0.058718  0.051329\n",
        "'''"
      ],
      "execution_count": 0,
      "outputs": [
        {
          "output_type": "execute_result",
          "data": {
            "text/plain": [
              "'          \\n          0         1          2         3         4          5          6  0  0.040159  4.006764 -48.388893  5.873156  0.423837  20.097900  38.848134   \\n1  0.041540  4.282528 -47.724904  5.762803  0.411868  20.118283  38.570089   \\n2  0.040287  4.030399 -49.193342  5.979967  0.424910  20.208554  39.133866   \\n3  0.040175  4.015663 -48.607804  6.027608  0.435603  20.231465  39.597120   \\n4  0.040313  4.043838 -47.746904  5.656749  0.422210  19.935322  38.085237   \\n\\n          7         8          9        10        11        12        13  \\n0  2.080038  0.648663  20.033820  7.608990 -0.000770  0.049748  0.039787  \\n1  2.064334  0.646616  21.412639  7.688757 -0.005531  0.132720  0.133372  \\n2  2.071191  0.656965  20.151997  7.628194 -0.001239  0.063068  0.045709  \\n3  2.083742  0.653877  20.078315  7.654684 -0.000658  0.045987  0.036992  \\n4  2.073301  0.652921  20.219188  7.614789 -0.001073  0.058718  0.051329\\n'"
            ]
          },
          "metadata": {
            "tags": []
          },
          "execution_count": 10
        }
      ]
    },
    {
      "cell_type": "code",
      "metadata": {
        "id": "DVBIw8hpxRC3",
        "colab_type": "code",
        "outputId": "f532dbf2-1c98-468a-a2df-8ca293f758f9",
        "colab": {
          "base_uri": "https://localhost:8080/",
          "height": 85
        }
      },
      "source": [
        "import numpy as np\n",
        "#from skimage.feature import haar_like_feature_coord\n",
        "#from skimage.feature import draw_haar_like_feature\n",
        "from skimage.feature import greycomatrix\n",
        "from skimage.feature import greycoprops\n",
        "#import skimage.feature.greycoprops as greycoprops\n",
        "image = np.array([[0, 0, 1, 1],[0, 0, 1, 1],[0, 2, 2, 2],[2, 2, 3, 3]], dtype=np.uint8)\n",
        "g = greycomatrix(image, [1, 2], [0, np.pi/2], levels=6,normed=True, symmetric=True)\n",
        "contrast = greycoprops(g, 'contrast')\n",
        "correlation= greycoprops(g, 'correlation')\n",
        "print(contrast)\n",
        "print(correlation)"
      ],
      "execution_count": 0,
      "outputs": [
        {
          "output_type": "stream",
          "text": [
            "[[0.58333333 1.        ]\n",
            " [1.25       2.75      ]]\n",
            "[[ 0.71953255  0.48571429]\n",
            " [ 0.41176471 -0.29411765]]\n"
          ],
          "name": "stdout"
        }
      ]
    },
    {
      "cell_type": "code",
      "metadata": {
        "id": "f3-bQ4EKb7Ua",
        "colab_type": "code",
        "outputId": "cfd4e63e-c654-41bd-c338-d186e9c7a596",
        "colab": {
          "base_uri": "https://localhost:8080/",
          "height": 85
        }
      },
      "source": [
        "image = np.array(w[0], dtype=np.uint8)\n",
        "g = greycomatrix(image, [1, 2], [0, np.pi/2], levels=255,normed=True, symmetric=True)\n",
        "contrast = greycoprops(g, 'contrast')\n",
        "correlation= greycoprops(g, 'correlation')\n",
        "print(contrast)\n",
        "print(correlation)"
      ],
      "execution_count": 0,
      "outputs": [
        {
          "output_type": "stream",
          "text": [
            "[[ 98.2         85.1       ]\n",
            " [153.66666667  72.4       ]]\n",
            "[[-0.0829887   0.15825915]\n",
            " [-0.56657076  0.20068695]]\n"
          ],
          "name": "stdout"
        }
      ]
    },
    {
      "cell_type": "code",
      "metadata": {
        "id": "aiA8Ic5DR1Dc",
        "colab_type": "code",
        "outputId": "e2f8cd3a-9b4b-4254-ea5c-209f4dc9049b",
        "colab": {
          "base_uri": "https://localhost:8080/",
          "height": 85
        }
      },
      "source": [
        "P=w[0]\n",
        "print\n",
        "row,col=P.shape\n",
        "Size=row\n",
        "Soma=0\n",
        "for i in range(Size):\n",
        "    for j in range(Size):\n",
        "      Soma=Soma+P[i,j]\n",
        "  \n",
        "for i in range(Size):\n",
        "  for j in range(Size):\n",
        "    P[i,j]=P[i,j]/Soma\n",
        "\n",
        "image = np.array(P, dtype=np.uint8)\n",
        "g = greycomatrix(image, [1, 2], [0, np.pi/2], levels=255,normed=True, symmetric=True)\n",
        "contrast = greycoprops(g, 'contrast')\n",
        "correlation= greycoprops(g, 'correlation')\n",
        "print(contrast)\n",
        "print(correlation)"
      ],
      "execution_count": 0,
      "outputs": [
        {
          "output_type": "stream",
          "text": [
            "[[0. 0.]\n",
            " [0. 0.]]\n",
            "[[1. 1.]\n",
            " [1. 1.]]\n"
          ],
          "name": "stdout"
        }
      ]
    },
    {
      "cell_type": "code",
      "metadata": {
        "id": "T1T7VLXfX8u3",
        "colab_type": "code",
        "outputId": "0cf94681-9458-4947-c071-bce2366e32ee",
        "colab": {
          "base_uri": "https://localhost:8080/",
          "height": 119
        }
      },
      "source": [
        "print(P);print(Size)"
      ],
      "execution_count": 0,
      "outputs": [
        {
          "output_type": "stream",
          "text": [
            "[[0 0 0 0 0]\n",
            " [0 0 0 0 0]\n",
            " [0 0 0 0 0]\n",
            " [0 0 0 0 0]\n",
            " [0 0 0 0 0]]\n",
            "5\n"
          ],
          "name": "stdout"
        }
      ]
    },
    {
      "cell_type": "code",
      "metadata": {
        "id": "yfCdjVXYUyxa",
        "colab_type": "code",
        "colab": {}
      },
      "source": [
        "# glcm = [0 1 2 3;1 1 2 3;1 0 2 0;0 0 0 3]"
      ],
      "execution_count": 0,
      "outputs": []
    },
    {
      "cell_type": "code",
      "metadata": {
        "id": "rf0_P-i_U4sV",
        "colab_type": "code",
        "outputId": "7ff893c9-021f-4a96-d93e-5ad1e5a89ec8",
        "colab": {
          "base_uri": "https://localhost:8080/",
          "height": 54
        }
      },
      "source": [
        "'''\n",
        "https://www.mathworks.com/help/images/ref/graycoprops.html\n",
        "glcm = 4×4\n",
        "\n",
        "     0     1     2     3\n",
        "     1     1     2     3\n",
        "     1     0     2     0\n",
        "     0     0     0     3\n",
        "'''"
      ],
      "execution_count": 0,
      "outputs": [
        {
          "output_type": "execute_result",
          "data": {
            "text/plain": [
              "'\\nhttps://www.mathworks.com/help/images/ref/graycoprops.html\\nglcm = 4×4\\n\\n     0     1     2     3\\n     1     1     2     3\\n     1     0     2     0\\n     0     0     0     3\\n'"
            ]
          },
          "metadata": {
            "tags": []
          },
          "execution_count": 16
        }
      ]
    },
    {
      "cell_type": "code",
      "metadata": {
        "id": "0VHCSz9AU8aW",
        "colab_type": "code",
        "outputId": "86147522-01aa-4587-a479-eb3ac90b3176",
        "colab": {
          "base_uri": "https://localhost:8080/",
          "height": 54
        }
      },
      "source": [
        "'''\n",
        "stats = graycoprops(glcm)\n",
        "stats = struct with fields:\n",
        "       Contrast: 2.8947\n",
        "    Correlation: 0.0783\n",
        "         Energy: 0.1191\n",
        "    Homogeneity: 0.5658\n",
        "'''"
      ],
      "execution_count": 0,
      "outputs": [
        {
          "output_type": "execute_result",
          "data": {
            "text/plain": [
              "'\\nstats = graycoprops(glcm)\\nstats = struct with fields:\\n       Contrast: 2.8947\\n    Correlation: 0.0783\\n         Energy: 0.1191\\n    Homogeneity: 0.5658\\n'"
            ]
          },
          "metadata": {
            "tags": []
          },
          "execution_count": 17
        }
      ]
    },
    {
      "cell_type": "code",
      "metadata": {
        "id": "AQFCL9xiVFVI",
        "colab_type": "code",
        "outputId": "525f0a0f-ac1b-40aa-fac7-567b9ce6a8c1",
        "colab": {
          "base_uri": "https://localhost:8080/",
          "height": 85
        }
      },
      "source": [
        "glcm = np.array([[0, 1, 2, 3],[1, 1, 2, 3],[1, 0, 2, 0],[0, 0, 0, 3]]);print(glcm)"
      ],
      "execution_count": 0,
      "outputs": [
        {
          "output_type": "stream",
          "text": [
            "[[0 1 2 3]\n",
            " [1 1 2 3]\n",
            " [1 0 2 0]\n",
            " [0 0 0 3]]\n"
          ],
          "name": "stdout"
        }
      ]
    },
    {
      "cell_type": "code",
      "metadata": {
        "colab_type": "code",
        "outputId": "732dc36f-7f99-4d67-a19a-3ff0e0958d17",
        "id": "Tf3rDWIVKpCw",
        "colab": {
          "base_uri": "https://localhost:8080/",
          "height": 85
        }
      },
      "source": [
        "glcm = np.array([[0, 1, 2, 3],[1, 1, 2, 3],[1, 0, 2, 0],[0, 0, 0, 3]]);print(glcm)"
      ],
      "execution_count": 0,
      "outputs": [
        {
          "output_type": "stream",
          "text": [
            "[[0 1 2 3]\n",
            " [1 1 2 3]\n",
            " [1 0 2 0]\n",
            " [0 0 0 3]]\n"
          ],
          "name": "stdout"
        }
      ]
    },
    {
      "cell_type": "code",
      "metadata": {
        "id": "Es3xk8QnWZtf",
        "colab_type": "code",
        "outputId": "d93d62c7-b610-4a62-c4c6-0b6c22217b35",
        "colab": {
          "base_uri": "https://localhost:8080/",
          "height": 85
        }
      },
      "source": [
        "image = np.array(glcm, dtype=np.uint8)\n",
        "g = greycomatrix(image, [0,1], [0, np.pi/2], levels=4, normed=True, symmetric=True)\n",
        "contrast = greycoprops(g, 'contrast')\n",
        "correlation= greycoprops(g, 'correlation')\n",
        "print(contrast)\n",
        "print(correlation)"
      ],
      "execution_count": 0,
      "outputs": [
        {
          "output_type": "stream",
          "text": [
            "[[0.         0.        ]\n",
            " [1.91666667 2.08333333]]\n",
            "[[1.         1.        ]\n",
            " [0.13615023 0.10581222]]\n"
          ],
          "name": "stdout"
        }
      ]
    },
    {
      "cell_type": "code",
      "metadata": {
        "colab_type": "code",
        "outputId": "2654a881-0a17-4bac-87a7-827b81858184",
        "id": "73wNKi0TKv13",
        "colab": {
          "base_uri": "https://localhost:8080/",
          "height": 85
        }
      },
      "source": [
        "Glcm_test = np.array([[0, 1, 2, 3],[1, 1, 2, 3],[1, 0, 2, 0],[0, 0, 0, 3]]);print(Glcm_test)"
      ],
      "execution_count": 0,
      "outputs": [
        {
          "output_type": "stream",
          "text": [
            "[[0 1 2 3]\n",
            " [1 1 2 3]\n",
            " [1 0 2 0]\n",
            " [0 0 0 3]]\n"
          ],
          "name": "stdout"
        }
      ]
    },
    {
      "cell_type": "code",
      "metadata": {
        "id": "L6ctF1EmVssR",
        "colab_type": "code",
        "outputId": "e13d9684-749b-4196-db9f-2a154600ef2c",
        "colab": {
          "base_uri": "https://localhost:8080/",
          "height": 527
        }
      },
      "source": [
        "row,col=glcm.shape\n",
        "print('====');print(Glcm_test)\n",
        "GLCMat=np.zeros((row,col))\n",
        "for i in range(row):\n",
        "  for j in range(col):\n",
        "    print(Glcm_test[i,j])\n",
        "    A=2**Glcm_test[i,j]\n",
        "    GLCMat[i,j]=A\n",
        "print(GLCMat)\n",
        "MAT=Go2GLCM.GLCM(GLCMat) # como calcular se tem zero???\n",
        "Nomes=['ASM','constrast','correl','variance','inv diff mom','sum aveg',\n",
        "       'sum var','sum entropy','entropy','dif var','dif entropy','IMC1',\n",
        "       'IMC2','MCC']\n",
        "print(pd.DataFrame(MAT,columns=Nomes).head())\n",
        "#print(MAT)"
      ],
      "execution_count": 0,
      "outputs": [
        {
          "output_type": "stream",
          "text": [
            "====\n",
            "[[0 1 2 3]\n",
            " [1 1 2 3]\n",
            " [1 0 2 0]\n",
            " [0 0 0 3]]\n",
            "0\n",
            "1\n",
            "2\n",
            "3\n",
            "1\n",
            "1\n",
            "2\n",
            "3\n",
            "1\n",
            "0\n",
            "2\n",
            "0\n",
            "0\n",
            "0\n",
            "0\n",
            "3\n",
            "[[1. 2. 4. 8.]\n",
            " [2. 2. 4. 8.]\n",
            " [2. 1. 4. 1.]\n",
            " [1. 1. 1. 8.]]\n",
            "      ASM  constrast     correl  variance  inv diff mom  sum aveg    sum var  \\\n",
            "0  0.1048       3.04 -35.910537  2.781406         0.488     13.76  21.386099   \n",
            "\n",
            "   sum entropy  entropy  dif var  dif entropy      IMC1      IMC2       MCC  \n",
            "0     1.702149  0.95788    12.16     5.456622 -0.064736  0.400743  0.388483  \n"
          ],
          "name": "stdout"
        }
      ]
    },
    {
      "cell_type": "code",
      "metadata": {
        "id": "A72kNG5LLrZ0",
        "colab_type": "code",
        "outputId": "a527b0cd-7048-4cfb-d72c-38a777631d16",
        "colab": {
          "base_uri": "https://localhost:8080/",
          "height": 34
        }
      },
      "source": [
        "print(MAT[0,0]**0.5)"
      ],
      "execution_count": 0,
      "outputs": [
        {
          "output_type": "stream",
          "text": [
            "0.3237282811247729\n"
          ],
          "name": "stdout"
        }
      ]
    },
    {
      "cell_type": "code",
      "metadata": {
        "colab_type": "code",
        "id": "XaKkeOqwK1oH",
        "outputId": "77601987-b792-43fc-ccde-29ae944ac3cd",
        "colab": {
          "base_uri": "https://localhost:8080/",
          "height": 85
        }
      },
      "source": [
        "glcm = np.array([[0, 1, 2, 3],[1, 1, 2, 3],[1, 0, 2, 0],[0, 0, 0, 3]]);\n",
        "print(glcm)"
      ],
      "execution_count": 0,
      "outputs": [
        {
          "output_type": "stream",
          "text": [
            "[[0 1 2 3]\n",
            " [1 1 2 3]\n",
            " [1 0 2 0]\n",
            " [0 0 0 3]]\n"
          ],
          "name": "stdout"
        }
      ]
    },
    {
      "cell_type": "code",
      "metadata": {
        "colab_type": "code",
        "id": "Yt7lXlyGK6ff",
        "outputId": "719fe654-8dda-4470-9ec7-80124cdccc1c",
        "colab": {
          "base_uri": "https://localhost:8080/",
          "height": 970
        }
      },
      "source": [
        "MAT=Go2GLCM.GLCM(glcm) # como calcular se tem zero???\n",
        "print(MAT)"
      ],
      "execution_count": 0,
      "outputs": [
        {
          "output_type": "stream",
          "text": [
            "/content/marquesgabi/Go2GLCM.py:72: RuntimeWarning: divide by zero encountered in log\n",
            "  HXY=HXY-p[i,j]*np.log(p[i,j])\n",
            "/content/marquesgabi/Go2GLCM.py:72: RuntimeWarning: invalid value encountered in multiply\n",
            "  HXY=HXY-p[i,j]*np.log(p[i,j])\n",
            "/content/marquesgabi/Go2GLCM.py:73: RuntimeWarning: divide by zero encountered in log\n",
            "  HXY1=HXY1-p[i,j]*np.log(px[i]*py[j])\n",
            "/content/marquesgabi/Go2GLCM.py:73: RuntimeWarning: invalid value encountered in multiply\n",
            "  HXY1=HXY1-p[i,j]*np.log(px[i]*py[j])\n",
            "/content/marquesgabi/Go2GLCM.py:74: RuntimeWarning: divide by zero encountered in log\n",
            "  HXY2=HXY2-px[i]*py[j]*np.log(px[i]*py[j])\n",
            "/content/marquesgabi/Go2GLCM.py:74: RuntimeWarning: invalid value encountered in multiply\n",
            "  HXY2=HXY2-px[i]*py[j]*np.log(px[i]*py[j])\n",
            "/content/marquesgabi/Go2GLCM.py:77: RuntimeWarning: divide by zero encountered in log\n",
            "  HX=HX-px[i]*np.log(px[i])\n",
            "/content/marquesgabi/Go2GLCM.py:77: RuntimeWarning: invalid value encountered in multiply\n",
            "  HX=HX-px[i]*np.log(px[i])\n",
            "/content/marquesgabi/Go2GLCM.py:80: RuntimeWarning: divide by zero encountered in log\n",
            "  HY=HY-py[j]*np.log(py[j])\n",
            "/content/marquesgabi/Go2GLCM.py:80: RuntimeWarning: invalid value encountered in multiply\n",
            "  HY=HY-py[j]*np.log(py[j])\n",
            "/content/marquesgabi/Go2GLCM.py:107: RuntimeWarning: invalid value encountered in true_divide\n",
            "  GLCM[k,2]=GLCM[k,2]+((i*j)*p[i,j]-MIx*MIy)/(Sx*Sy) #Correlacao\n",
            "/content/marquesgabi/Go2GLCM.py:118: RuntimeWarning: divide by zero encountered in log\n",
            "  f8=f8-Psom[kr]*np.log(Psom[kr])\n",
            "/content/marquesgabi/Go2GLCM.py:118: RuntimeWarning: invalid value encountered in multiply\n",
            "  f8=f8-Psom[kr]*np.log(Psom[kr])\n",
            "/content/marquesgabi/Go2GLCM.py:124: RuntimeWarning: divide by zero encountered in log\n",
            "  GLCM[k,8]=GLCM[k,8]-p[i,j]*np.log(p[i,j]) # entropia\n",
            "/content/marquesgabi/Go2GLCM.py:124: RuntimeWarning: invalid value encountered in multiply\n",
            "  GLCM[k,8]=GLCM[k,8]-p[i,j]*np.log(p[i,j]) # entropia\n",
            "/content/marquesgabi/Go2GLCM.py:128: RuntimeWarning: divide by zero encountered in log\n",
            "  GLCM[k,10]=GLCM[k,10]-Pdif[kr]*np.log(Pdif[kr]) # difference entropy\n",
            "/content/marquesgabi/Go2GLCM.py:128: RuntimeWarning: invalid value encountered in multiply\n",
            "  GLCM[k,10]=GLCM[k,10]-Pdif[kr]*np.log(Pdif[kr]) # difference entropy\n",
            "/content/marquesgabi/Go2GLCM.py:137: RuntimeWarning: invalid value encountered in long_scalars\n",
            "  Q[i,j]=Q[i,j]+p[i,kr]*p[j,kr]/(px[i]*py[kr])\n"
          ],
          "name": "stderr"
        },
        {
          "output_type": "error",
          "ename": "LinAlgError",
          "evalue": "ignored",
          "traceback": [
            "\u001b[0;31m---------------------------------------------------------------------------\u001b[0m",
            "\u001b[0;31mLinAlgError\u001b[0m                               Traceback (most recent call last)",
            "\u001b[0;32m<ipython-input-25-c1c11aa81309>\u001b[0m in \u001b[0;36m<module>\u001b[0;34m()\u001b[0m\n\u001b[0;32m----> 1\u001b[0;31m \u001b[0mMAT\u001b[0m\u001b[0;34m=\u001b[0m\u001b[0mGo2GLCM\u001b[0m\u001b[0;34m.\u001b[0m\u001b[0mGLCM\u001b[0m\u001b[0;34m(\u001b[0m\u001b[0mglcm\u001b[0m\u001b[0;34m)\u001b[0m \u001b[0;31m# como calcular se tem zero???\u001b[0m\u001b[0;34m\u001b[0m\u001b[0;34m\u001b[0m\u001b[0m\n\u001b[0m\u001b[1;32m      2\u001b[0m \u001b[0mprint\u001b[0m\u001b[0;34m(\u001b[0m\u001b[0mMAT\u001b[0m\u001b[0;34m)\u001b[0m\u001b[0;34m\u001b[0m\u001b[0;34m\u001b[0m\u001b[0m\n",
            "\u001b[0;32m/content/marquesgabi/Go2GLCM.py\u001b[0m in \u001b[0;36mGLCM\u001b[0;34m(p)\u001b[0m\n\u001b[1;32m    138\u001b[0m \u001b[0;34m\u001b[0m\u001b[0m\n\u001b[1;32m    139\u001b[0m     \u001b[0;31m#v = LA.eig(Q)\u001b[0m\u001b[0;34m\u001b[0m\u001b[0;34m\u001b[0m\u001b[0;34m\u001b[0m\u001b[0m\n\u001b[0;32m--> 140\u001b[0;31m     \u001b[0mv\u001b[0m\u001b[0;34m=\u001b[0m\u001b[0mLA\u001b[0m\u001b[0;34m.\u001b[0m\u001b[0meigvals\u001b[0m\u001b[0;34m(\u001b[0m\u001b[0mQ\u001b[0m\u001b[0;34m)\u001b[0m\u001b[0;34m\u001b[0m\u001b[0;34m\u001b[0m\u001b[0m\n\u001b[0m\u001b[1;32m    141\u001b[0m     \u001b[0mn\u001b[0m\u001b[0;34m=\u001b[0m\u001b[0mlen\u001b[0m\u001b[0;34m(\u001b[0m\u001b[0mv\u001b[0m\u001b[0;34m)\u001b[0m\u001b[0;34m\u001b[0m\u001b[0;34m\u001b[0m\u001b[0m\n\u001b[1;32m    142\u001b[0m     \u001b[0mv\u001b[0m\u001b[0;34m.\u001b[0m\u001b[0msort\u001b[0m\u001b[0;34m(\u001b[0m\u001b[0;34m)\u001b[0m\u001b[0;34m\u001b[0m\u001b[0;34m\u001b[0m\u001b[0m\n",
            "\u001b[0;32m<__array_function__ internals>\u001b[0m in \u001b[0;36meigvals\u001b[0;34m(*args, **kwargs)\u001b[0m\n",
            "\u001b[0;32m/usr/local/lib/python3.6/dist-packages/numpy/linalg/linalg.py\u001b[0m in \u001b[0;36meigvals\u001b[0;34m(a)\u001b[0m\n\u001b[1;32m   1056\u001b[0m     \u001b[0m_assertRankAtLeast2\u001b[0m\u001b[0;34m(\u001b[0m\u001b[0ma\u001b[0m\u001b[0;34m)\u001b[0m\u001b[0;34m\u001b[0m\u001b[0;34m\u001b[0m\u001b[0m\n\u001b[1;32m   1057\u001b[0m     \u001b[0m_assertNdSquareness\u001b[0m\u001b[0;34m(\u001b[0m\u001b[0ma\u001b[0m\u001b[0;34m)\u001b[0m\u001b[0;34m\u001b[0m\u001b[0;34m\u001b[0m\u001b[0m\n\u001b[0;32m-> 1058\u001b[0;31m     \u001b[0m_assertFinite\u001b[0m\u001b[0;34m(\u001b[0m\u001b[0ma\u001b[0m\u001b[0;34m)\u001b[0m\u001b[0;34m\u001b[0m\u001b[0;34m\u001b[0m\u001b[0m\n\u001b[0m\u001b[1;32m   1059\u001b[0m     \u001b[0mt\u001b[0m\u001b[0;34m,\u001b[0m \u001b[0mresult_t\u001b[0m \u001b[0;34m=\u001b[0m \u001b[0m_commonType\u001b[0m\u001b[0;34m(\u001b[0m\u001b[0ma\u001b[0m\u001b[0;34m)\u001b[0m\u001b[0;34m\u001b[0m\u001b[0;34m\u001b[0m\u001b[0m\n\u001b[1;32m   1060\u001b[0m \u001b[0;34m\u001b[0m\u001b[0m\n",
            "\u001b[0;32m/usr/local/lib/python3.6/dist-packages/numpy/linalg/linalg.py\u001b[0m in \u001b[0;36m_assertFinite\u001b[0;34m(*arrays)\u001b[0m\n\u001b[1;32m    216\u001b[0m     \u001b[0;32mfor\u001b[0m \u001b[0ma\u001b[0m \u001b[0;32min\u001b[0m \u001b[0marrays\u001b[0m\u001b[0;34m:\u001b[0m\u001b[0;34m\u001b[0m\u001b[0;34m\u001b[0m\u001b[0m\n\u001b[1;32m    217\u001b[0m         \u001b[0;32mif\u001b[0m \u001b[0;32mnot\u001b[0m \u001b[0;34m(\u001b[0m\u001b[0misfinite\u001b[0m\u001b[0;34m(\u001b[0m\u001b[0ma\u001b[0m\u001b[0;34m)\u001b[0m\u001b[0;34m.\u001b[0m\u001b[0mall\u001b[0m\u001b[0;34m(\u001b[0m\u001b[0;34m)\u001b[0m\u001b[0;34m)\u001b[0m\u001b[0;34m:\u001b[0m\u001b[0;34m\u001b[0m\u001b[0;34m\u001b[0m\u001b[0m\n\u001b[0;32m--> 218\u001b[0;31m             \u001b[0;32mraise\u001b[0m \u001b[0mLinAlgError\u001b[0m\u001b[0;34m(\u001b[0m\u001b[0;34m\"Array must not contain infs or NaNs\"\u001b[0m\u001b[0;34m)\u001b[0m\u001b[0;34m\u001b[0m\u001b[0;34m\u001b[0m\u001b[0m\n\u001b[0m\u001b[1;32m    219\u001b[0m \u001b[0;34m\u001b[0m\u001b[0m\n\u001b[1;32m    220\u001b[0m \u001b[0;32mdef\u001b[0m \u001b[0m_isEmpty2d\u001b[0m\u001b[0;34m(\u001b[0m\u001b[0marr\u001b[0m\u001b[0;34m)\u001b[0m\u001b[0;34m:\u001b[0m\u001b[0;34m\u001b[0m\u001b[0;34m\u001b[0m\u001b[0m\n",
            "\u001b[0;31mLinAlgError\u001b[0m: Array must not contain infs or NaNs"
          ]
        }
      ]
    }
  ]
}