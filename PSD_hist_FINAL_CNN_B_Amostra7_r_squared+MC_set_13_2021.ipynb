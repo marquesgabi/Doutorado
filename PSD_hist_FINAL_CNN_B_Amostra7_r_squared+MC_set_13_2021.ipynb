{
  "nbformat": 4,
  "nbformat_minor": 0,
  "metadata": {
    "colab": {
      "name": "PSD_histogram_CNN_B_Amostra7_r_squared+MC_set_13_2021.ipynb",
      "provenance": [],
      "collapsed_sections": [],
      "include_colab_link": true
    },
    "kernelspec": {
      "name": "python3",
      "display_name": "Python 3"
    }
  },
  "cells": [
    {
      "cell_type": "markdown",
      "metadata": {
        "id": "view-in-github",
        "colab_type": "text"
      },
      "source": [
        "<a href=\"https://colab.research.google.com/github/marquesgabi/Doutorado/blob/master/PSD_hist_FINAL_CNN_B_Amostra7_r_squared%2BMC_set_13_2021.ipynb\" target=\"_parent\"><img src=\"https://colab.research.google.com/assets/colab-badge.svg\" alt=\"Open In Colab\"/></a>"
      ]
    },
    {
      "cell_type": "code",
      "metadata": {
        "id": "Sog7Z9pyhUD_"
      },
      "source": [
        "import matplotlib.pyplot as plt\n",
        "import numpy as np\n",
        "import cv2\n",
        "import zipfile\n",
        "#import random\n",
        "from random import randint\n",
        "from PIL import Image\n",
        "import re\n",
        "from sklearn.model_selection import train_test_split\n",
        "#import scikit-image\n",
        "import skimage\n",
        "import sklearn\n",
        "import pandas as pd\n",
        "from keras.models import Sequential\n",
        "from keras.layers import Dense, Activation, Conv2D, MaxPooling2D, Flatten, Dropout, BatchNormalization\n",
        "from sklearn.metrics import r2_score\n",
        "from google.colab import files"
      ],
      "execution_count": 1,
      "outputs": []
    },
    {
      "cell_type": "code",
      "metadata": {
        "id": "uZEvJvfoibE4",
        "colab": {
          "base_uri": "https://localhost:8080/"
        },
        "outputId": "039e3ebe-b307-472a-fa37-643fe991ab41"
      },
      "source": [
        "!pip install mahotas"
      ],
      "execution_count": 2,
      "outputs": [
        {
          "output_type": "stream",
          "name": "stdout",
          "text": [
            "Collecting mahotas\n",
            "  Downloading mahotas-1.4.11-cp37-cp37m-manylinux2010_x86_64.whl (5.7 MB)\n",
            "\u001b[K     |████████████████████████████████| 5.7 MB 4.6 MB/s \n",
            "\u001b[?25hRequirement already satisfied: numpy in /usr/local/lib/python3.7/dist-packages (from mahotas) (1.19.5)\n",
            "Installing collected packages: mahotas\n",
            "Successfully installed mahotas-1.4.11\n"
          ]
        }
      ]
    },
    {
      "cell_type": "code",
      "metadata": {
        "id": "nf_a6PJ1iUnT"
      },
      "source": [
        "import mahotas.features.texture as mht\n",
        "import mahotas.features"
      ],
      "execution_count": 3,
      "outputs": []
    },
    {
      "cell_type": "code",
      "metadata": {
        "id": "_VcTdaNVh9EE",
        "colab": {
          "base_uri": "https://localhost:8080/"
        },
        "outputId": "79160d97-50b6-4290-99d6-d9bbf4f96baf"
      },
      "source": [
        "!git clone https://github.com/ucfilho/marquesgabi_fev_2020 #clonar do Github\n",
        "%cd marquesgabi_fev_2020\n",
        "import Go2BlackWhite\n",
        "import Go2Mahotas"
      ],
      "execution_count": 4,
      "outputs": [
        {
          "output_type": "stream",
          "name": "stdout",
          "text": [
            "Cloning into 'marquesgabi_fev_2020'...\n",
            "remote: Enumerating objects: 73, done.\u001b[K\n",
            "remote: Counting objects: 100% (73/73), done.\u001b[K\n",
            "remote: Compressing objects: 100% (71/71), done.\u001b[K\n",
            "remote: Total 73 (delta 37), reused 0 (delta 0), pack-reused 0\u001b[K\n",
            "Unpacking objects: 100% (73/73), done.\n",
            "/content/marquesgabi_fev_2020\n"
          ]
        }
      ]
    },
    {
      "cell_type": "code",
      "metadata": {
        "id": "1v7SRrc8mH2N",
        "colab": {
          "base_uri": "https://localhost:8080/"
        },
        "outputId": "2b49da23-dfa3-4933-d7e6-03c122631730"
      },
      "source": [
        "!git clone https://github.com/marquesgabi/Doutorado\n",
        "%cd Doutorado\n",
        "\n",
        "Transfere='Fotos_Grandes_3cdAmostra.zip' \n",
        "file_name = zipfile.ZipFile(Transfere, 'r')\n",
        "file_name.extractall()"
      ],
      "execution_count": 5,
      "outputs": [
        {
          "output_type": "stream",
          "name": "stdout",
          "text": [
            "Cloning into 'Doutorado'...\n",
            "remote: Enumerating objects: 458, done.\u001b[K\n",
            "remote: Counting objects: 100% (208/208), done.\u001b[K\n",
            "remote: Compressing objects: 100% (207/207), done.\u001b[K\n",
            "remote: Total 458 (delta 98), reused 0 (delta 0), pack-reused 250\u001b[K\n",
            "Receiving objects: 100% (458/458), 203.19 MiB | 19.16 MiB/s, done.\n",
            "Resolving deltas: 100% (215/215), done.\n",
            "/content/marquesgabi_fev_2020/Doutorado\n"
          ]
        }
      ]
    },
    {
      "cell_type": "code",
      "metadata": {
        "colab": {
          "base_uri": "https://localhost:8080/"
        },
        "id": "NqIYzUcnrdMp",
        "outputId": "aaedf41a-81bb-4894-dcf6-dcc0bdc9c140"
      },
      "source": [
        "labels =[]\n",
        "with zipfile.ZipFile(Transfere, \"r\") as f:\n",
        "  for f in f.namelist():\n",
        "    labels.append(f)\n",
        "print(labels)"
      ],
      "execution_count": 6,
      "outputs": [
        {
          "output_type": "stream",
          "name": "stdout",
          "text": [
            "['Fotos_Grandes-3cdAmostra/Q6-8-4.jpg', 'Fotos_Grandes-3cdAmostra/Q6-5-3.jpg', 'Fotos_Grandes-3cdAmostra/Q6-7-4.jpg', 'Fotos_Grandes-3cdAmostra/Q6-8-2.jpg', 'Fotos_Grandes-3cdAmostra/Q6-3-2.jpg', 'Fotos_Grandes-3cdAmostra/Q6-7-2.jpg', 'Fotos_Grandes-3cdAmostra/Q6-4-4.jpg', 'Fotos_Grandes-3cdAmostra/Q6-9-5.jpg', 'Fotos_Grandes-3cdAmostra/Q6-2-5.jpg', 'Fotos_Grandes-3cdAmostra/Q6-8-3.jpg', 'Fotos_Grandes-3cdAmostra/Q6-9-3.jpg', 'Fotos_Grandes-3cdAmostra/Q6-1-2.jpg', 'Fotos_Grandes-3cdAmostra/Q6-6-3.jpg', 'Fotos_Grandes-3cdAmostra/Q6-3-4.jpg', 'Fotos_Grandes-3cdAmostra/Q6-1-4.jpg', 'Fotos_Grandes-3cdAmostra/Q6-6-2.jpg', 'Fotos_Grandes-3cdAmostra/Q6-4-3.jpg', 'Fotos_Grandes-3cdAmostra/Q6-7-3.jpg', 'Fotos_Grandes-3cdAmostra/Q6-2-2.jpg', 'Fotos_Grandes-3cdAmostra/Q6-9-2.jpg', 'Fotos_Grandes-3cdAmostra/Q6-1-5.jpg', 'Fotos_Grandes-3cdAmostra/Q6-6-5.jpg', 'Fotos_Grandes-3cdAmostra/Q6-2-1.jpg', 'Fotos_Grandes-3cdAmostra/Q6-5-2.jpg', 'Fotos_Grandes-3cdAmostra/Q6-4-1.jpg', 'Fotos_Grandes-3cdAmostra/Q6-3-1.jpg', 'Fotos_Grandes-3cdAmostra/Q6-5-4.jpg']\n"
          ]
        }
      ]
    },
    {
      "cell_type": "code",
      "metadata": {
        "id": "0kA4IWSmasoD"
      },
      "source": [
        "Size=1200 # tamanho da foto\n",
        "ww,img_name=Go2BlackWhite.BlackWhite(Transfere,Size) #Pegamos a primeira foto Grande\n",
        "img=ww[2] \n",
        "# this is the big image we want to segment \n",
        "# ww[0], change it if you want to segment another picture"
      ],
      "execution_count": 7,
      "outputs": []
    },
    {
      "cell_type": "code",
      "metadata": {
        "id": "tHgqAnaFyCjp",
        "colab": {
          "base_uri": "https://localhost:8080/"
        },
        "outputId": "e22bc8fe-b237-423c-9b72-6728e4e5334f"
      },
      "source": [
        "!git clone https://github.com/ucfilho/MarquesGabi_Routines\n",
        "%cd MarquesGabi_Routines"
      ],
      "execution_count": 8,
      "outputs": [
        {
          "output_type": "stream",
          "name": "stdout",
          "text": [
            "Cloning into 'MarquesGabi_Routines'...\n",
            "remote: Enumerating objects: 163, done.\u001b[K\n",
            "remote: Counting objects: 100% (163/163), done.\u001b[K\n",
            "remote: Compressing objects: 100% (161/161), done.\u001b[K\n",
            "remote: Total 163 (delta 65), reused 0 (delta 0), pack-reused 0\u001b[K\n",
            "Receiving objects: 100% (163/163), 211.71 MiB | 21.97 MiB/s, done.\n",
            "Resolving deltas: 100% (65/65), done.\n",
            "Checking out files: 100% (46/46), done.\n",
            "/content/marquesgabi_fev_2020/Doutorado/MarquesGabi_Routines\n"
          ]
        }
      ]
    },
    {
      "cell_type": "code",
      "metadata": {
        "id": "qc4rFvzkyWCi"
      },
      "source": [
        "from segment_filter_not_conclude import Segmenta  # got image provided segmented"
      ],
      "execution_count": 9,
      "outputs": []
    },
    {
      "cell_type": "code",
      "metadata": {
        "id": "SnTtH3KDP863"
      },
      "source": [
        "df=Segmenta(img)\n",
        "Img_Size = 28"
      ],
      "execution_count": 10,
      "outputs": []
    },
    {
      "cell_type": "code",
      "metadata": {
        "id": "YN5MN5a_v4np",
        "colab": {
          "base_uri": "https://localhost:8080/"
        },
        "outputId": "05110033-bb36-433f-a4b2-8af01df2f5cd"
      },
      "source": [
        "print(df)"
      ],
      "execution_count": 11,
      "outputs": [
        {
          "output_type": "stream",
          "name": "stdout",
          "text": [
            "    Width           0           1  ...         781         782         783\n",
            "0     101  103.174889   97.297623  ...   11.677385   11.983727   13.028723\n",
            "1     120  135.070007  134.073334  ...  119.756668  119.318878  118.144447\n",
            "2     137   99.868721   99.036819  ...  121.828056  127.388397  127.369423\n",
            "3     120  116.651115  120.628883  ...   11.074445   11.608890   11.811110\n",
            "4     191  139.489441  141.951660  ...  130.696426  129.628891  127.732658\n",
            "5     197  108.217926  142.040085  ...   94.424240   90.486237   88.290039\n",
            "6     158  111.992943  113.147552  ...  130.241791  124.456497  118.156227\n",
            "7     126  134.716049  131.037048  ...  178.382721  190.234558  199.592590\n",
            "8     179  117.570892  120.173256  ...   67.417030   74.917580   75.857559\n",
            "9     165  147.214996  141.395340  ...  195.383041  208.187485  203.134705\n",
            "10    181   65.331741   71.974152  ...  160.365417  163.839401  162.376938\n",
            "11    151  128.914429  128.391663  ...  136.479187  142.835312  144.772949\n",
            "12    188  123.824806  125.581696  ...  140.146210  138.179260  133.556808\n",
            "13    187  104.796608  100.910492  ...  107.207092  100.552429  101.294746\n",
            "14    189    0.000000    0.000000  ...   48.799728   20.713305    0.984911\n",
            "15    184    0.000000    0.195180  ...  151.549591  148.155472  146.253769\n",
            "16    113   22.783382   48.436756  ...   11.751116   12.218419   11.043074\n",
            "17    152  137.988220  147.346939  ...  114.331718  114.092102  107.790161\n",
            "18    105  122.200012  123.995575  ...  122.120010  123.644470  125.315567\n",
            "19    103   72.234039   71.747475  ...  111.070694   97.305489   88.466011\n",
            "20    184  131.517014  127.003296  ...  144.558578  136.859161  133.308594\n",
            "21    170  147.447205  147.985611  ...   51.469482   47.449417    9.406229\n",
            "22    122  156.703018  161.749527  ...   98.908348  104.549316  107.292664\n",
            "23    117  173.614288  170.142151  ...  198.502090  205.226974  208.525665\n",
            "24    112    0.000000    0.000000  ...  121.062500  119.562500  116.625000\n",
            "25    102  119.203392  121.303345  ...  151.844696  153.042313  152.345642\n",
            "26    113   46.447174   44.525486  ...   59.028740   62.078392   64.173149\n",
            "27    184  104.090263  106.778343  ...  180.362473  189.404526  179.632324\n",
            "28    110   80.911400   77.785446  ...  113.867767  108.103470  102.580170\n",
            "29    154  141.479370  136.752075  ...  122.297523  124.297531  125.818184\n",
            "30    193   80.163101   83.972694  ...   52.492577   39.150852   21.186554\n",
            "31    173  130.167099  141.205612  ...   91.378899   52.693474    1.689432\n",
            "32    133  142.473694  145.764542  ...   53.811638   55.955677   63.673134\n",
            "33    174  109.407593  108.406914  ...  149.922058  149.477234  154.742386\n",
            "34    132  130.917358  134.300293  ...  125.090912  125.839310  126.077133\n",
            "35    195  139.625580  158.483337  ...   67.468384   62.529819   35.644287\n",
            "36    182  104.071007  110.201187  ...  156.384628  153.319550  149.816574\n",
            "37    176  118.468475  114.599174  ...    0.000000    0.000000    0.000000\n",
            "38    108   99.050751  102.112480  ...    1.477366    1.567901    2.124829\n",
            "39    174  163.791550  171.521225  ...  148.508545  173.854141  196.074005\n",
            "40    138  147.385635   98.458511  ...   83.929214   86.829659   84.829651\n",
            "41    133  138.030472  132.878128  ...  104.662056  106.130196  109.243767\n",
            "42    110  121.143143  118.225449  ...   93.914711   91.367264   84.161980\n",
            "43    150   87.313416   91.576546  ...  203.801071  205.020981  216.147018\n",
            "44    121  132.845505  137.349838  ...  129.013596  129.124924  129.393768\n",
            "45    184  117.251884  119.796776  ...  126.503769  131.084579  115.142715\n",
            "46    182  111.171593  100.142021  ...   98.544388  101.047340  100.834320\n",
            "47    124   94.577515   94.953171  ...  128.012482  129.480728  128.876160\n",
            "48    164  106.228447  106.478882  ...    0.000000    0.000000    0.000000\n",
            "49    134  150.362900  145.187119  ...   76.252617   74.843842   76.413902\n",
            "\n",
            "[50 rows x 785 columns]\n"
          ]
        }
      ]
    },
    {
      "cell_type": "code",
      "metadata": {
        "id": "xzpQ1Pz0fX5L",
        "colab": {
          "base_uri": "https://localhost:8080/",
          "height": 52
        },
        "outputId": "d00f973e-c79f-4b05-8e41-e5b385a4d996"
      },
      "source": [
        "'''\n",
        "!git clone https://github.com/ucfilho/MarquesGabi_Routines\n",
        "%cd MarquesGabi_Routines\n",
        "# filename = 'model_ANN.pkl'\n",
        "filename = 'model_ANN_new.pkl'\n",
        "model = joblib.load(filename)\n",
        "'''"
      ],
      "execution_count": 12,
      "outputs": [
        {
          "output_type": "execute_result",
          "data": {
            "application/vnd.google.colaboratory.intrinsic+json": {
              "type": "string"
            },
            "text/plain": [
              "\"\\n!git clone https://github.com/ucfilho/MarquesGabi_Routines\\n%cd MarquesGabi_Routines\\n# filename = 'model_ANN.pkl'\\nfilename = 'model_ANN_new.pkl'\\nmodel = joblib.load(filename)\\n\""
            ]
          },
          "metadata": {},
          "execution_count": 12
        }
      ]
    },
    {
      "cell_type": "code",
      "metadata": {
        "colab": {
          "base_uri": "https://localhost:8080/"
        },
        "id": "xR2emP4rNjQy",
        "outputId": "2c379181-cd86-4d56-9057-a198f0cf83f0"
      },
      "source": [
        "!git clone https://github.com/ucfilho/MarquesGabi_Routines\n",
        "%cd MarquesGabi_Routines"
      ],
      "execution_count": 13,
      "outputs": [
        {
          "output_type": "stream",
          "name": "stdout",
          "text": [
            "Cloning into 'MarquesGabi_Routines'...\n",
            "remote: Enumerating objects: 163, done.\u001b[K\n",
            "remote: Counting objects: 100% (163/163), done.\u001b[K\n",
            "remote: Compressing objects: 100% (161/161), done.\u001b[K\n",
            "remote: Total 163 (delta 65), reused 0 (delta 0), pack-reused 0\u001b[K\n",
            "Receiving objects: 100% (163/163), 211.71 MiB | 22.42 MiB/s, done.\n",
            "Resolving deltas: 100% (65/65), done.\n",
            "Checking out files: 100% (46/46), done.\n",
            "/content/marquesgabi_fev_2020/Doutorado/MarquesGabi_Routines/MarquesGabi_Routines\n"
          ]
        }
      ]
    },
    {
      "cell_type": "code",
      "metadata": {
        "id": "O6cMHOrlNliO"
      },
      "source": [
        "# leitura dos dados\n",
        "df=pd.read_excel(\"FotosTreinoRede.xlsx\")\n",
        "y = df['y']\n",
        "df.drop(['Unnamed: 0','y'], axis='columns', inplace=True)"
      ],
      "execution_count": 14,
      "outputs": []
    },
    {
      "cell_type": "code",
      "metadata": {
        "id": "zQO8d2QbNqj0"
      },
      "source": [
        "X =np.array(df.copy())/255.0 \n",
        "\n",
        "\n",
        "X_train, X_test, Y_train, Y_test = train_test_split(X, y, test_size=0.30, shuffle=True, random_state=42)"
      ],
      "execution_count": 15,
      "outputs": []
    },
    {
      "cell_type": "code",
      "metadata": {
        "id": "gIFPGE_-vx3T"
      },
      "source": [
        ""
      ],
      "execution_count": 15,
      "outputs": []
    },
    {
      "cell_type": "code",
      "metadata": {
        "id": "23iKv6bDPWQl"
      },
      "source": [
        "# helper\n",
        "def ynindicator(Y):\n",
        "  N = len(Y)\n",
        "  K = len(set(Y))\n",
        "  I = np.zeros((N, K))\n",
        "  I[np.arange(N), Y] = 1\n",
        "  return I\n",
        "\n",
        "def yback(Y_test):\n",
        "  nrow, ncol = Y_test.shape\n",
        "  y_class = np.zeros(nrow,dtype=int)\n",
        "  y_resp = Y_test\n",
        "  for k in range(nrow):\n",
        "    for kk in range(K):\n",
        "      if(y_resp[k,kk] == 1):\n",
        "        y_class[k] = kk\n",
        "  Y_test = y_class.copy()\n",
        "  return Y_test\n",
        "\n",
        "X_train = np.array(X_train)\n",
        "Y_train = np.array(Y_train)\n",
        "K = len(set(Y_train))\n",
        "\n",
        "X_train = X_train.reshape(-1, Img_Size, Img_Size, 1) / 255.0\n",
        "Y_train = Y_train.astype(np.int32)\n",
        "Y_train = ynindicator(Y_train)\n",
        "\n",
        "X_test = np.array(X_test )\n",
        "Y_test = np.array(Y_test)\n",
        "X_test = X_test.reshape(-1, Img_Size, Img_Size, 1) / 255.0\n",
        "Y_test = Y_test.astype(np.int32)\n",
        "Y_test = ynindicator(Y_test)\n",
        "\n",
        "# the model will be a sequence of layers\n",
        "\n",
        "Description = '3 layers of Convolution: 64, 128, 256 '\n",
        "N1 = 20\n",
        "N2 = 20\n",
        "\n",
        "# make the CNN\n",
        "model = Sequential()\n",
        "model.add(Conv2D(input_shape=(Img_Size, Img_Size, 1), filters=64, kernel_size=(3, 3)))\n",
        "model.add(BatchNormalization())\n",
        "model.add(Activation('relu'))\n",
        "model.add(MaxPooling2D())\n",
        "\n",
        "model.add(Conv2D(filters=128, kernel_size=(3, 3)))\n",
        "model.add(BatchNormalization())\n",
        "model.add(Activation('relu'))\n",
        "model.add(MaxPooling2D())\n",
        "\n",
        "model.add(Conv2D(filters=256, kernel_size=(3, 3)))\n",
        "model.add(BatchNormalization())\n",
        "model.add(Activation('relu'))\n",
        "model.add(MaxPooling2D())\n",
        "\n",
        "model.add(Flatten())\n",
        "model.add(Dense(units=N1))\n",
        "model.add(Dropout(0.2))\n",
        "model.add(Dense(units=N2))\n",
        "model.add(Activation('relu'))\n",
        "#model.add(Dropout(0.2))\n",
        "model.add(Dense(units=K))\n",
        "model.add(Activation('softmax'))\n",
        "\n",
        "\n",
        "# list of losses: https://keras.io/losses/\n",
        "# list of optimizers: https://keras.io/optimizers/\n",
        "# list of metrics: https://keras.io/metrics/\n",
        "model.compile(\n",
        "  loss='categorical_crossentropy',\n",
        "  optimizer='adam',\n",
        "  metrics=['accuracy']\n",
        ")"
      ],
      "execution_count": 16,
      "outputs": []
    },
    {
      "cell_type": "code",
      "metadata": {
        "colab": {
          "base_uri": "https://localhost:8080/"
        },
        "id": "FpbPQ1FSRG6A",
        "outputId": "0c81010a-585f-47c0-df51-ce943a966440"
      },
      "source": [
        "\n",
        "# training the model\n",
        "r = model.fit(X_train, Y_train, validation_data=(X_test,Y_test), \n",
        "              epochs=200, batch_size=32)"
      ],
      "execution_count": 17,
      "outputs": [
        {
          "output_type": "stream",
          "name": "stdout",
          "text": [
            "Epoch 1/200\n",
            "11/11 [==============================] - 3s 154ms/step - loss: 0.5226 - accuracy: 0.7755 - val_loss: 0.6931 - val_accuracy: 0.5102\n",
            "Epoch 2/200\n",
            "11/11 [==============================] - 1s 133ms/step - loss: 0.2623 - accuracy: 0.8659 - val_loss: 0.6935 - val_accuracy: 0.5102\n",
            "Epoch 3/200\n",
            "11/11 [==============================] - 1s 128ms/step - loss: 0.1494 - accuracy: 0.9329 - val_loss: 0.6949 - val_accuracy: 0.5102\n",
            "Epoch 4/200\n",
            "11/11 [==============================] - 1s 128ms/step - loss: 0.0927 - accuracy: 0.9679 - val_loss: 0.6969 - val_accuracy: 0.5102\n",
            "Epoch 5/200\n",
            "11/11 [==============================] - 2s 140ms/step - loss: 0.0777 - accuracy: 0.9708 - val_loss: 0.6962 - val_accuracy: 0.5102\n",
            "Epoch 6/200\n",
            "11/11 [==============================] - 1s 130ms/step - loss: 0.0941 - accuracy: 0.9708 - val_loss: 0.6955 - val_accuracy: 0.5102\n",
            "Epoch 7/200\n",
            "11/11 [==============================] - 1s 132ms/step - loss: 0.0479 - accuracy: 0.9825 - val_loss: 0.6986 - val_accuracy: 0.5102\n",
            "Epoch 8/200\n",
            "11/11 [==============================] - 1s 132ms/step - loss: 0.0731 - accuracy: 0.9796 - val_loss: 0.6939 - val_accuracy: 0.5102\n",
            "Epoch 9/200\n",
            "11/11 [==============================] - 1s 133ms/step - loss: 0.0591 - accuracy: 0.9767 - val_loss: 0.6953 - val_accuracy: 0.5102\n",
            "Epoch 10/200\n",
            "11/11 [==============================] - 2s 138ms/step - loss: 0.0243 - accuracy: 0.9971 - val_loss: 0.6935 - val_accuracy: 0.5102\n",
            "Epoch 11/200\n",
            "11/11 [==============================] - 1s 133ms/step - loss: 0.0271 - accuracy: 0.9913 - val_loss: 0.6932 - val_accuracy: 0.5102\n",
            "Epoch 12/200\n",
            "11/11 [==============================] - 1s 132ms/step - loss: 0.0332 - accuracy: 0.9825 - val_loss: 0.6928 - val_accuracy: 0.5102\n",
            "Epoch 13/200\n",
            "11/11 [==============================] - 1s 131ms/step - loss: 0.0325 - accuracy: 0.9854 - val_loss: 0.6992 - val_accuracy: 0.5102\n",
            "Epoch 14/200\n",
            "11/11 [==============================] - 1s 133ms/step - loss: 0.0318 - accuracy: 0.9913 - val_loss: 0.6929 - val_accuracy: 0.5102\n",
            "Epoch 15/200\n",
            "11/11 [==============================] - 1s 134ms/step - loss: 0.0217 - accuracy: 0.9942 - val_loss: 0.6908 - val_accuracy: 0.5170\n",
            "Epoch 16/200\n",
            "11/11 [==============================] - 1s 135ms/step - loss: 0.0363 - accuracy: 0.9854 - val_loss: 0.6923 - val_accuracy: 0.5102\n",
            "Epoch 17/200\n",
            "11/11 [==============================] - 1s 134ms/step - loss: 0.0158 - accuracy: 0.9971 - val_loss: 0.6956 - val_accuracy: 0.5102\n",
            "Epoch 18/200\n",
            "11/11 [==============================] - 1s 136ms/step - loss: 0.0089 - accuracy: 0.9942 - val_loss: 0.6939 - val_accuracy: 0.5102\n",
            "Epoch 19/200\n",
            "11/11 [==============================] - 1s 133ms/step - loss: 0.0182 - accuracy: 0.9942 - val_loss: 0.6945 - val_accuracy: 0.5102\n",
            "Epoch 20/200\n",
            "11/11 [==============================] - 1s 131ms/step - loss: 0.0089 - accuracy: 0.9971 - val_loss: 0.6943 - val_accuracy: 0.5102\n",
            "Epoch 21/200\n",
            "11/11 [==============================] - 1s 135ms/step - loss: 0.0039 - accuracy: 1.0000 - val_loss: 0.6938 - val_accuracy: 0.5102\n",
            "Epoch 22/200\n",
            "11/11 [==============================] - 1s 134ms/step - loss: 0.0062 - accuracy: 0.9971 - val_loss: 0.6909 - val_accuracy: 0.5102\n",
            "Epoch 23/200\n",
            "11/11 [==============================] - 1s 133ms/step - loss: 0.0032 - accuracy: 1.0000 - val_loss: 0.6936 - val_accuracy: 0.5102\n",
            "Epoch 24/200\n",
            "11/11 [==============================] - 1s 135ms/step - loss: 0.0057 - accuracy: 0.9971 - val_loss: 0.6937 - val_accuracy: 0.5102\n",
            "Epoch 25/200\n",
            "11/11 [==============================] - 2s 138ms/step - loss: 0.0013 - accuracy: 1.0000 - val_loss: 0.6857 - val_accuracy: 0.5102\n",
            "Epoch 26/200\n",
            "11/11 [==============================] - 2s 139ms/step - loss: 0.0020 - accuracy: 1.0000 - val_loss: 0.6882 - val_accuracy: 0.5102\n",
            "Epoch 27/200\n",
            "11/11 [==============================] - 1s 136ms/step - loss: 0.0013 - accuracy: 1.0000 - val_loss: 0.6981 - val_accuracy: 0.5102\n",
            "Epoch 28/200\n",
            "11/11 [==============================] - 1s 136ms/step - loss: 0.0014 - accuracy: 1.0000 - val_loss: 0.7003 - val_accuracy: 0.5102\n",
            "Epoch 29/200\n",
            "11/11 [==============================] - 1s 136ms/step - loss: 9.1963e-04 - accuracy: 1.0000 - val_loss: 0.7147 - val_accuracy: 0.5102\n",
            "Epoch 30/200\n",
            "11/11 [==============================] - 1s 134ms/step - loss: 0.0013 - accuracy: 1.0000 - val_loss: 0.7279 - val_accuracy: 0.5102\n",
            "Epoch 31/200\n",
            "11/11 [==============================] - 1s 134ms/step - loss: 9.4357e-04 - accuracy: 1.0000 - val_loss: 0.7330 - val_accuracy: 0.5102\n",
            "Epoch 32/200\n",
            "11/11 [==============================] - 1s 136ms/step - loss: 0.0034 - accuracy: 1.0000 - val_loss: 0.7128 - val_accuracy: 0.5102\n",
            "Epoch 33/200\n",
            "11/11 [==============================] - 1s 135ms/step - loss: 0.0022 - accuracy: 1.0000 - val_loss: 0.6520 - val_accuracy: 0.5102\n",
            "Epoch 34/200\n",
            "11/11 [==============================] - 1s 135ms/step - loss: 7.0196e-04 - accuracy: 1.0000 - val_loss: 0.6433 - val_accuracy: 0.5102\n",
            "Epoch 35/200\n",
            "11/11 [==============================] - 2s 138ms/step - loss: 9.4653e-04 - accuracy: 1.0000 - val_loss: 0.6602 - val_accuracy: 0.5102\n",
            "Epoch 36/200\n",
            "11/11 [==============================] - 1s 135ms/step - loss: 0.0019 - accuracy: 1.0000 - val_loss: 0.7337 - val_accuracy: 0.5102\n",
            "Epoch 37/200\n",
            "11/11 [==============================] - 1s 136ms/step - loss: 5.1336e-04 - accuracy: 1.0000 - val_loss: 0.9209 - val_accuracy: 0.5102\n",
            "Epoch 38/200\n",
            "11/11 [==============================] - 1s 135ms/step - loss: 8.5616e-04 - accuracy: 1.0000 - val_loss: 1.1943 - val_accuracy: 0.5102\n",
            "Epoch 39/200\n",
            "11/11 [==============================] - 1s 136ms/step - loss: 0.0028 - accuracy: 0.9971 - val_loss: 1.3672 - val_accuracy: 0.5102\n",
            "Epoch 40/200\n",
            "11/11 [==============================] - 1s 138ms/step - loss: 0.0055 - accuracy: 0.9971 - val_loss: 1.4748 - val_accuracy: 0.5102\n",
            "Epoch 41/200\n",
            "11/11 [==============================] - 2s 136ms/step - loss: 0.0018 - accuracy: 1.0000 - val_loss: 2.2676 - val_accuracy: 0.5102\n",
            "Epoch 42/200\n",
            "11/11 [==============================] - 1s 136ms/step - loss: 0.0029 - accuracy: 1.0000 - val_loss: 2.4168 - val_accuracy: 0.5102\n",
            "Epoch 43/200\n",
            "11/11 [==============================] - 1s 136ms/step - loss: 3.3658e-04 - accuracy: 1.0000 - val_loss: 2.3664 - val_accuracy: 0.5102\n",
            "Epoch 44/200\n",
            "11/11 [==============================] - 2s 138ms/step - loss: 0.0014 - accuracy: 1.0000 - val_loss: 2.1225 - val_accuracy: 0.5102\n",
            "Epoch 45/200\n",
            "11/11 [==============================] - 1s 135ms/step - loss: 3.3900e-04 - accuracy: 1.0000 - val_loss: 1.9924 - val_accuracy: 0.5102\n",
            "Epoch 46/200\n",
            "11/11 [==============================] - 1s 137ms/step - loss: 4.3916e-04 - accuracy: 1.0000 - val_loss: 2.0252 - val_accuracy: 0.5102\n",
            "Epoch 47/200\n",
            "11/11 [==============================] - 2s 137ms/step - loss: 0.0014 - accuracy: 1.0000 - val_loss: 1.0953 - val_accuracy: 0.5102\n",
            "Epoch 48/200\n",
            "11/11 [==============================] - 1s 136ms/step - loss: 5.4560e-04 - accuracy: 1.0000 - val_loss: 0.6286 - val_accuracy: 0.5306\n",
            "Epoch 49/200\n",
            "11/11 [==============================] - 1s 135ms/step - loss: 7.7212e-04 - accuracy: 1.0000 - val_loss: 0.7298 - val_accuracy: 0.5102\n",
            "Epoch 50/200\n",
            "11/11 [==============================] - 1s 133ms/step - loss: 4.0702e-04 - accuracy: 1.0000 - val_loss: 0.9663 - val_accuracy: 0.5102\n",
            "Epoch 51/200\n",
            "11/11 [==============================] - 1s 134ms/step - loss: 3.4870e-04 - accuracy: 1.0000 - val_loss: 1.0260 - val_accuracy: 0.5102\n",
            "Epoch 52/200\n",
            "11/11 [==============================] - 1s 136ms/step - loss: 0.0016 - accuracy: 1.0000 - val_loss: 0.5768 - val_accuracy: 0.5714\n",
            "Epoch 53/200\n",
            "11/11 [==============================] - 2s 143ms/step - loss: 2.6673e-04 - accuracy: 1.0000 - val_loss: 0.4902 - val_accuracy: 0.7211\n",
            "Epoch 54/200\n",
            "11/11 [==============================] - 1s 137ms/step - loss: 7.2810e-04 - accuracy: 1.0000 - val_loss: 0.4637 - val_accuracy: 0.7755\n",
            "Epoch 55/200\n",
            "11/11 [==============================] - 1s 137ms/step - loss: 5.4015e-04 - accuracy: 1.0000 - val_loss: 0.5513 - val_accuracy: 0.6054\n",
            "Epoch 56/200\n",
            "11/11 [==============================] - 1s 132ms/step - loss: 6.5183e-04 - accuracy: 1.0000 - val_loss: 0.6317 - val_accuracy: 0.5714\n",
            "Epoch 57/200\n",
            "11/11 [==============================] - 1s 135ms/step - loss: 3.2517e-04 - accuracy: 1.0000 - val_loss: 0.6422 - val_accuracy: 0.5782\n",
            "Epoch 58/200\n",
            "11/11 [==============================] - 1s 134ms/step - loss: 1.5417e-04 - accuracy: 1.0000 - val_loss: 0.6224 - val_accuracy: 0.5918\n",
            "Epoch 59/200\n",
            "11/11 [==============================] - 2s 142ms/step - loss: 7.9120e-04 - accuracy: 1.0000 - val_loss: 0.8940 - val_accuracy: 0.5374\n",
            "Epoch 60/200\n",
            "11/11 [==============================] - 1s 135ms/step - loss: 9.2573e-04 - accuracy: 1.0000 - val_loss: 1.2813 - val_accuracy: 0.5170\n",
            "Epoch 61/200\n",
            "11/11 [==============================] - 1s 137ms/step - loss: 1.8558e-04 - accuracy: 1.0000 - val_loss: 3.4203 - val_accuracy: 0.5102\n",
            "Epoch 62/200\n",
            "11/11 [==============================] - 1s 135ms/step - loss: 2.5467e-04 - accuracy: 1.0000 - val_loss: 4.6533 - val_accuracy: 0.5102\n",
            "Epoch 63/200\n",
            "11/11 [==============================] - 1s 134ms/step - loss: 1.0699e-04 - accuracy: 1.0000 - val_loss: 4.8154 - val_accuracy: 0.5102\n",
            "Epoch 64/200\n",
            "11/11 [==============================] - 1s 135ms/step - loss: 1.3271e-04 - accuracy: 1.0000 - val_loss: 4.3603 - val_accuracy: 0.5102\n",
            "Epoch 65/200\n",
            "11/11 [==============================] - 2s 137ms/step - loss: 2.4288e-04 - accuracy: 1.0000 - val_loss: 3.8439 - val_accuracy: 0.5102\n",
            "Epoch 66/200\n",
            "11/11 [==============================] - 1s 135ms/step - loss: 1.3661e-04 - accuracy: 1.0000 - val_loss: 3.4409 - val_accuracy: 0.5102\n",
            "Epoch 67/200\n",
            "11/11 [==============================] - 1s 135ms/step - loss: 1.6951e-04 - accuracy: 1.0000 - val_loss: 3.1729 - val_accuracy: 0.5102\n",
            "Epoch 68/200\n",
            "11/11 [==============================] - 1s 137ms/step - loss: 0.0016 - accuracy: 1.0000 - val_loss: 4.4633 - val_accuracy: 0.5102\n",
            "Epoch 69/200\n",
            "11/11 [==============================] - 1s 131ms/step - loss: 0.0024 - accuracy: 1.0000 - val_loss: 6.2050 - val_accuracy: 0.5102\n",
            "Epoch 70/200\n",
            "11/11 [==============================] - 1s 134ms/step - loss: 0.0013 - accuracy: 1.0000 - val_loss: 1.0000 - val_accuracy: 0.5510\n",
            "Epoch 71/200\n",
            "11/11 [==============================] - 1s 133ms/step - loss: 4.7401e-04 - accuracy: 1.0000 - val_loss: 0.2586 - val_accuracy: 0.8912\n",
            "Epoch 72/200\n",
            "11/11 [==============================] - 1s 136ms/step - loss: 2.1541e-04 - accuracy: 1.0000 - val_loss: 0.4070 - val_accuracy: 0.7891\n",
            "Epoch 73/200\n",
            "11/11 [==============================] - 1s 134ms/step - loss: 3.3850e-04 - accuracy: 1.0000 - val_loss: 0.4869 - val_accuracy: 0.7551\n",
            "Epoch 74/200\n",
            "11/11 [==============================] - 2s 145ms/step - loss: 1.1532e-04 - accuracy: 1.0000 - val_loss: 1.3799 - val_accuracy: 0.5850\n",
            "Epoch 75/200\n",
            "11/11 [==============================] - 1s 135ms/step - loss: 0.0011 - accuracy: 1.0000 - val_loss: 1.1812 - val_accuracy: 0.6122\n",
            "Epoch 76/200\n",
            "11/11 [==============================] - 1s 136ms/step - loss: 1.6923e-04 - accuracy: 1.0000 - val_loss: 1.0530 - val_accuracy: 0.6190\n",
            "Epoch 77/200\n",
            "11/11 [==============================] - 1s 136ms/step - loss: 1.8135e-04 - accuracy: 1.0000 - val_loss: 0.8353 - val_accuracy: 0.6599\n",
            "Epoch 78/200\n",
            "11/11 [==============================] - 1s 136ms/step - loss: 7.4052e-04 - accuracy: 1.0000 - val_loss: 1.0900 - val_accuracy: 0.6190\n",
            "Epoch 79/200\n",
            "11/11 [==============================] - 2s 139ms/step - loss: 7.4430e-04 - accuracy: 1.0000 - val_loss: 1.3353 - val_accuracy: 0.6327\n",
            "Epoch 80/200\n",
            "11/11 [==============================] - 2s 151ms/step - loss: 1.8446e-04 - accuracy: 1.0000 - val_loss: 1.6116 - val_accuracy: 0.6259\n",
            "Epoch 81/200\n",
            "11/11 [==============================] - 2s 164ms/step - loss: 3.6579e-04 - accuracy: 1.0000 - val_loss: 1.6343 - val_accuracy: 0.6327\n",
            "Epoch 82/200\n",
            "11/11 [==============================] - 2s 160ms/step - loss: 9.5712e-05 - accuracy: 1.0000 - val_loss: 1.4362 - val_accuracy: 0.6463\n",
            "Epoch 83/200\n",
            "11/11 [==============================] - 2s 221ms/step - loss: 1.3105e-04 - accuracy: 1.0000 - val_loss: 1.0118 - val_accuracy: 0.6871\n",
            "Epoch 84/200\n",
            "11/11 [==============================] - 2s 168ms/step - loss: 3.8457e-05 - accuracy: 1.0000 - val_loss: 0.7003 - val_accuracy: 0.7551\n",
            "Epoch 85/200\n",
            "11/11 [==============================] - 2s 137ms/step - loss: 1.6446e-04 - accuracy: 1.0000 - val_loss: 0.4961 - val_accuracy: 0.8027\n",
            "Epoch 86/200\n",
            "11/11 [==============================] - 1s 136ms/step - loss: 1.9116e-04 - accuracy: 1.0000 - val_loss: 0.4653 - val_accuracy: 0.8231\n",
            "Epoch 87/200\n",
            "11/11 [==============================] - 2s 146ms/step - loss: 2.6373e-04 - accuracy: 1.0000 - val_loss: 0.3957 - val_accuracy: 0.8503\n",
            "Epoch 88/200\n",
            "11/11 [==============================] - 2s 138ms/step - loss: 1.3777e-04 - accuracy: 1.0000 - val_loss: 0.3939 - val_accuracy: 0.8639\n",
            "Epoch 89/200\n",
            "11/11 [==============================] - 1s 136ms/step - loss: 0.0013 - accuracy: 1.0000 - val_loss: 0.6269 - val_accuracy: 0.7891\n",
            "Epoch 90/200\n",
            "11/11 [==============================] - 1s 135ms/step - loss: 9.2441e-05 - accuracy: 1.0000 - val_loss: 0.7915 - val_accuracy: 0.7415\n",
            "Epoch 91/200\n",
            "11/11 [==============================] - 2s 145ms/step - loss: 1.1303e-04 - accuracy: 1.0000 - val_loss: 0.7009 - val_accuracy: 0.7755\n",
            "Epoch 92/200\n",
            "11/11 [==============================] - 1s 137ms/step - loss: 7.3409e-05 - accuracy: 1.0000 - val_loss: 0.6697 - val_accuracy: 0.7891\n",
            "Epoch 93/200\n",
            "11/11 [==============================] - 2s 140ms/step - loss: 1.3350e-04 - accuracy: 1.0000 - val_loss: 0.5801 - val_accuracy: 0.8027\n",
            "Epoch 94/200\n",
            "11/11 [==============================] - 2s 141ms/step - loss: 2.5152e-05 - accuracy: 1.0000 - val_loss: 0.5431 - val_accuracy: 0.8095\n",
            "Epoch 95/200\n",
            "11/11 [==============================] - 2s 139ms/step - loss: 8.2755e-04 - accuracy: 1.0000 - val_loss: 0.6777 - val_accuracy: 0.7415\n",
            "Epoch 96/200\n",
            "11/11 [==============================] - 1s 136ms/step - loss: 3.8710e-04 - accuracy: 1.0000 - val_loss: 0.8103 - val_accuracy: 0.7347\n",
            "Epoch 97/200\n",
            "11/11 [==============================] - 2s 142ms/step - loss: 3.0924e-05 - accuracy: 1.0000 - val_loss: 0.8286 - val_accuracy: 0.7347\n",
            "Epoch 98/200\n",
            "11/11 [==============================] - 2s 138ms/step - loss: 2.3911e-04 - accuracy: 1.0000 - val_loss: 1.2473 - val_accuracy: 0.6735\n",
            "Epoch 99/200\n",
            "11/11 [==============================] - 2s 140ms/step - loss: 1.2510e-04 - accuracy: 1.0000 - val_loss: 1.8694 - val_accuracy: 0.6531\n",
            "Epoch 100/200\n",
            "11/11 [==============================] - 2s 141ms/step - loss: 5.6564e-04 - accuracy: 1.0000 - val_loss: 1.7845 - val_accuracy: 0.6599\n",
            "Epoch 101/200\n",
            "11/11 [==============================] - 2s 138ms/step - loss: 1.0682e-04 - accuracy: 1.0000 - val_loss: 1.5448 - val_accuracy: 0.6871\n",
            "Epoch 102/200\n",
            "11/11 [==============================] - 2s 141ms/step - loss: 4.6892e-04 - accuracy: 1.0000 - val_loss: 0.9041 - val_accuracy: 0.7347\n",
            "Epoch 103/200\n",
            "11/11 [==============================] - 2s 141ms/step - loss: 7.1698e-05 - accuracy: 1.0000 - val_loss: 0.6873 - val_accuracy: 0.7687\n",
            "Epoch 104/200\n",
            "11/11 [==============================] - 2s 151ms/step - loss: 0.0011 - accuracy: 1.0000 - val_loss: 2.5231 - val_accuracy: 0.5102\n",
            "Epoch 105/200\n",
            "11/11 [==============================] - 2s 139ms/step - loss: 0.0116 - accuracy: 0.9942 - val_loss: 35.5249 - val_accuracy: 0.5102\n",
            "Epoch 106/200\n",
            "11/11 [==============================] - 2s 138ms/step - loss: 0.0269 - accuracy: 0.9854 - val_loss: 224.7971 - val_accuracy: 0.5102\n",
            "Epoch 107/200\n",
            "11/11 [==============================] - 2s 141ms/step - loss: 0.0157 - accuracy: 0.9942 - val_loss: 551.6971 - val_accuracy: 0.5102\n",
            "Epoch 108/200\n",
            "11/11 [==============================] - 2s 139ms/step - loss: 0.0439 - accuracy: 0.9913 - val_loss: 485.3933 - val_accuracy: 0.5102\n",
            "Epoch 109/200\n",
            "11/11 [==============================] - 2s 137ms/step - loss: 0.1103 - accuracy: 0.9708 - val_loss: 286.6379 - val_accuracy: 0.5102\n",
            "Epoch 110/200\n",
            "11/11 [==============================] - 1s 137ms/step - loss: 0.0579 - accuracy: 0.9796 - val_loss: 676.2120 - val_accuracy: 0.5102\n",
            "Epoch 111/200\n",
            "11/11 [==============================] - 2s 138ms/step - loss: 0.1275 - accuracy: 0.9563 - val_loss: 365.8629 - val_accuracy: 0.5102\n",
            "Epoch 112/200\n",
            "11/11 [==============================] - 1s 138ms/step - loss: 0.0880 - accuracy: 0.9650 - val_loss: 164.8560 - val_accuracy: 0.5102\n",
            "Epoch 113/200\n",
            "11/11 [==============================] - 2s 138ms/step - loss: 0.0404 - accuracy: 0.9825 - val_loss: 487.4574 - val_accuracy: 0.5102\n",
            "Epoch 114/200\n",
            "11/11 [==============================] - 2s 147ms/step - loss: 0.0186 - accuracy: 0.9971 - val_loss: 478.7050 - val_accuracy: 0.5102\n",
            "Epoch 115/200\n",
            "11/11 [==============================] - 2s 139ms/step - loss: 0.0366 - accuracy: 0.9883 - val_loss: 381.6703 - val_accuracy: 0.5102\n",
            "Epoch 116/200\n",
            "11/11 [==============================] - 1s 137ms/step - loss: 0.0044 - accuracy: 1.0000 - val_loss: 195.8419 - val_accuracy: 0.5102\n",
            "Epoch 117/200\n",
            "11/11 [==============================] - 2s 139ms/step - loss: 0.0211 - accuracy: 0.9942 - val_loss: 152.1557 - val_accuracy: 0.5102\n",
            "Epoch 118/200\n",
            "11/11 [==============================] - 1s 135ms/step - loss: 0.0171 - accuracy: 0.9913 - val_loss: 189.2703 - val_accuracy: 0.5102\n",
            "Epoch 119/200\n",
            "11/11 [==============================] - 2s 139ms/step - loss: 0.0167 - accuracy: 0.9971 - val_loss: 232.5992 - val_accuracy: 0.5102\n",
            "Epoch 120/200\n",
            "11/11 [==============================] - 2s 141ms/step - loss: 0.0061 - accuracy: 1.0000 - val_loss: 179.4155 - val_accuracy: 0.5102\n",
            "Epoch 121/200\n",
            "11/11 [==============================] - 2s 141ms/step - loss: 0.0025 - accuracy: 1.0000 - val_loss: 131.3151 - val_accuracy: 0.5102\n",
            "Epoch 122/200\n",
            "11/11 [==============================] - 2s 140ms/step - loss: 0.0013 - accuracy: 1.0000 - val_loss: 102.2469 - val_accuracy: 0.5102\n",
            "Epoch 123/200\n",
            "11/11 [==============================] - 2s 139ms/step - loss: 6.9801e-04 - accuracy: 1.0000 - val_loss: 88.7066 - val_accuracy: 0.5102\n",
            "Epoch 124/200\n",
            "11/11 [==============================] - 2s 139ms/step - loss: 9.7887e-04 - accuracy: 1.0000 - val_loss: 77.0079 - val_accuracy: 0.5102\n",
            "Epoch 125/200\n",
            "11/11 [==============================] - 2s 138ms/step - loss: 0.0011 - accuracy: 1.0000 - val_loss: 63.7452 - val_accuracy: 0.5102\n",
            "Epoch 126/200\n",
            "11/11 [==============================] - 2s 138ms/step - loss: 9.7924e-04 - accuracy: 1.0000 - val_loss: 61.0717 - val_accuracy: 0.5102\n",
            "Epoch 127/200\n",
            "11/11 [==============================] - 2s 145ms/step - loss: 1.9188e-04 - accuracy: 1.0000 - val_loss: 60.3471 - val_accuracy: 0.5102\n",
            "Epoch 128/200\n",
            "11/11 [==============================] - 1s 136ms/step - loss: 2.4234e-04 - accuracy: 1.0000 - val_loss: 55.9737 - val_accuracy: 0.5102\n",
            "Epoch 129/200\n",
            "11/11 [==============================] - 2s 138ms/step - loss: 0.0010 - accuracy: 1.0000 - val_loss: 52.0969 - val_accuracy: 0.5102\n",
            "Epoch 130/200\n",
            "11/11 [==============================] - 2s 139ms/step - loss: 6.7158e-04 - accuracy: 1.0000 - val_loss: 48.4735 - val_accuracy: 0.5102\n",
            "Epoch 131/200\n",
            "11/11 [==============================] - 2s 139ms/step - loss: 0.0032 - accuracy: 0.9971 - val_loss: 33.6575 - val_accuracy: 0.5102\n",
            "Epoch 132/200\n",
            "11/11 [==============================] - 2s 139ms/step - loss: 3.5581e-04 - accuracy: 1.0000 - val_loss: 25.6441 - val_accuracy: 0.5102\n",
            "Epoch 133/200\n",
            "11/11 [==============================] - 2s 138ms/step - loss: 0.0012 - accuracy: 1.0000 - val_loss: 25.7485 - val_accuracy: 0.5102\n",
            "Epoch 134/200\n",
            "11/11 [==============================] - 1s 138ms/step - loss: 0.0025 - accuracy: 0.9971 - val_loss: 25.0259 - val_accuracy: 0.5102\n",
            "Epoch 135/200\n",
            "11/11 [==============================] - 2s 138ms/step - loss: 3.1852e-04 - accuracy: 1.0000 - val_loss: 16.2578 - val_accuracy: 0.5102\n",
            "Epoch 136/200\n",
            "11/11 [==============================] - 1s 136ms/step - loss: 0.0014 - accuracy: 1.0000 - val_loss: 6.5618 - val_accuracy: 0.5102\n",
            "Epoch 137/200\n",
            "11/11 [==============================] - 2s 138ms/step - loss: 0.0018 - accuracy: 1.0000 - val_loss: 1.9773 - val_accuracy: 0.6122\n",
            "Epoch 138/200\n",
            "11/11 [==============================] - 1s 137ms/step - loss: 0.0016 - accuracy: 1.0000 - val_loss: 2.3855 - val_accuracy: 0.5850\n",
            "Epoch 139/200\n",
            "11/11 [==============================] - 2s 141ms/step - loss: 0.0025 - accuracy: 1.0000 - val_loss: 0.6208 - val_accuracy: 0.8027\n",
            "Epoch 140/200\n",
            "11/11 [==============================] - 1s 137ms/step - loss: 0.0051 - accuracy: 0.9971 - val_loss: 9.2184 - val_accuracy: 0.5102\n",
            "Epoch 141/200\n",
            "11/11 [==============================] - 2s 140ms/step - loss: 4.4748e-04 - accuracy: 1.0000 - val_loss: 50.1344 - val_accuracy: 0.5102\n",
            "Epoch 142/200\n",
            "11/11 [==============================] - 2s 138ms/step - loss: 3.7297e-04 - accuracy: 1.0000 - val_loss: 63.3957 - val_accuracy: 0.5102\n",
            "Epoch 143/200\n",
            "11/11 [==============================] - 2s 138ms/step - loss: 9.2887e-05 - accuracy: 1.0000 - val_loss: 65.0321 - val_accuracy: 0.5102\n",
            "Epoch 144/200\n",
            "11/11 [==============================] - 2s 139ms/step - loss: 1.2065e-04 - accuracy: 1.0000 - val_loss: 60.2290 - val_accuracy: 0.5102\n",
            "Epoch 145/200\n",
            "11/11 [==============================] - 1s 135ms/step - loss: 7.3697e-05 - accuracy: 1.0000 - val_loss: 52.1415 - val_accuracy: 0.5102\n",
            "Epoch 146/200\n",
            "11/11 [==============================] - 2s 139ms/step - loss: 1.2540e-04 - accuracy: 1.0000 - val_loss: 46.2910 - val_accuracy: 0.5102\n",
            "Epoch 147/200\n",
            "11/11 [==============================] - 2s 138ms/step - loss: 2.8569e-04 - accuracy: 1.0000 - val_loss: 42.1735 - val_accuracy: 0.5102\n",
            "Epoch 148/200\n",
            "11/11 [==============================] - 2s 138ms/step - loss: 9.4420e-05 - accuracy: 1.0000 - val_loss: 38.7896 - val_accuracy: 0.5102\n",
            "Epoch 149/200\n",
            "11/11 [==============================] - 1s 135ms/step - loss: 1.0641e-04 - accuracy: 1.0000 - val_loss: 34.6971 - val_accuracy: 0.5102\n",
            "Epoch 150/200\n",
            "11/11 [==============================] - 2s 138ms/step - loss: 2.9003e-04 - accuracy: 1.0000 - val_loss: 31.0025 - val_accuracy: 0.5102\n",
            "Epoch 151/200\n",
            "11/11 [==============================] - 1s 136ms/step - loss: 6.1849e-05 - accuracy: 1.0000 - val_loss: 27.6639 - val_accuracy: 0.5102\n",
            "Epoch 152/200\n",
            "11/11 [==============================] - 2s 141ms/step - loss: 5.8345e-05 - accuracy: 1.0000 - val_loss: 23.6592 - val_accuracy: 0.5102\n",
            "Epoch 153/200\n",
            "11/11 [==============================] - 1s 137ms/step - loss: 1.7138e-04 - accuracy: 1.0000 - val_loss: 20.3362 - val_accuracy: 0.5102\n",
            "Epoch 154/200\n",
            "11/11 [==============================] - 1s 135ms/step - loss: 2.1719e-04 - accuracy: 1.0000 - val_loss: 16.8386 - val_accuracy: 0.5102\n",
            "Epoch 155/200\n",
            "11/11 [==============================] - 2s 139ms/step - loss: 1.2173e-04 - accuracy: 1.0000 - val_loss: 14.1063 - val_accuracy: 0.5102\n",
            "Epoch 156/200\n",
            "11/11 [==============================] - 2s 138ms/step - loss: 2.2520e-04 - accuracy: 1.0000 - val_loss: 11.6058 - val_accuracy: 0.5170\n",
            "Epoch 157/200\n",
            "11/11 [==============================] - 2s 142ms/step - loss: 2.1339e-04 - accuracy: 1.0000 - val_loss: 8.9033 - val_accuracy: 0.5238\n",
            "Epoch 158/200\n",
            "11/11 [==============================] - 2s 139ms/step - loss: 5.4505e-05 - accuracy: 1.0000 - val_loss: 7.0009 - val_accuracy: 0.5374\n",
            "Epoch 159/200\n",
            "11/11 [==============================] - 1s 136ms/step - loss: 6.7130e-05 - accuracy: 1.0000 - val_loss: 5.4214 - val_accuracy: 0.5646\n",
            "Epoch 160/200\n",
            "11/11 [==============================] - 2s 138ms/step - loss: 1.5886e-04 - accuracy: 1.0000 - val_loss: 4.4453 - val_accuracy: 0.5986\n",
            "Epoch 161/200\n",
            "11/11 [==============================] - 1s 137ms/step - loss: 2.0801e-05 - accuracy: 1.0000 - val_loss: 3.4238 - val_accuracy: 0.6327\n",
            "Epoch 162/200\n",
            "11/11 [==============================] - 2s 142ms/step - loss: 2.3132e-04 - accuracy: 1.0000 - val_loss: 2.1837 - val_accuracy: 0.7007\n",
            "Epoch 163/200\n",
            "11/11 [==============================] - 2s 138ms/step - loss: 7.2064e-05 - accuracy: 1.0000 - val_loss: 1.5316 - val_accuracy: 0.7415\n",
            "Epoch 164/200\n",
            "11/11 [==============================] - 2s 139ms/step - loss: 5.2430e-04 - accuracy: 1.0000 - val_loss: 0.5733 - val_accuracy: 0.8912\n",
            "Epoch 165/200\n",
            "11/11 [==============================] - 2s 139ms/step - loss: 8.4583e-05 - accuracy: 1.0000 - val_loss: 0.2106 - val_accuracy: 0.9252\n",
            "Epoch 166/200\n",
            "11/11 [==============================] - 2s 140ms/step - loss: 6.5839e-05 - accuracy: 1.0000 - val_loss: 0.3036 - val_accuracy: 0.9116\n",
            "Epoch 167/200\n",
            "11/11 [==============================] - 2s 136ms/step - loss: 5.7762e-05 - accuracy: 1.0000 - val_loss: 0.3103 - val_accuracy: 0.9184\n",
            "Epoch 168/200\n",
            "11/11 [==============================] - 2s 139ms/step - loss: 4.4569e-05 - accuracy: 1.0000 - val_loss: 0.3120 - val_accuracy: 0.9252\n",
            "Epoch 169/200\n",
            "11/11 [==============================] - 2s 137ms/step - loss: 1.3390e-04 - accuracy: 1.0000 - val_loss: 0.3596 - val_accuracy: 0.9252\n",
            "Epoch 170/200\n",
            "11/11 [==============================] - 1s 137ms/step - loss: 2.3446e-05 - accuracy: 1.0000 - val_loss: 0.5138 - val_accuracy: 0.9048\n",
            "Epoch 171/200\n",
            "11/11 [==============================] - 2s 140ms/step - loss: 6.1116e-05 - accuracy: 1.0000 - val_loss: 0.5578 - val_accuracy: 0.9048\n",
            "Epoch 172/200\n",
            "11/11 [==============================] - 2s 140ms/step - loss: 6.9247e-05 - accuracy: 1.0000 - val_loss: 0.5619 - val_accuracy: 0.9048\n",
            "Epoch 173/200\n",
            "11/11 [==============================] - 1s 135ms/step - loss: 9.8541e-05 - accuracy: 1.0000 - val_loss: 0.6126 - val_accuracy: 0.9048\n",
            "Epoch 174/200\n",
            "11/11 [==============================] - 1s 136ms/step - loss: 1.3957e-04 - accuracy: 1.0000 - val_loss: 0.8036 - val_accuracy: 0.8503\n",
            "Epoch 175/200\n",
            "11/11 [==============================] - 2s 139ms/step - loss: 3.1870e-05 - accuracy: 1.0000 - val_loss: 1.2729 - val_accuracy: 0.7823\n",
            "Epoch 176/200\n",
            "11/11 [==============================] - 2s 138ms/step - loss: 4.5712e-05 - accuracy: 1.0000 - val_loss: 1.3751 - val_accuracy: 0.7755\n",
            "Epoch 177/200\n",
            "11/11 [==============================] - 2s 138ms/step - loss: 4.9660e-05 - accuracy: 1.0000 - val_loss: 1.2068 - val_accuracy: 0.7755\n",
            "Epoch 178/200\n",
            "11/11 [==============================] - 2s 141ms/step - loss: 2.0064e-04 - accuracy: 1.0000 - val_loss: 0.3682 - val_accuracy: 0.9184\n",
            "Epoch 179/200\n",
            "11/11 [==============================] - 2s 138ms/step - loss: 6.1699e-05 - accuracy: 1.0000 - val_loss: 0.2399 - val_accuracy: 0.9660\n",
            "Epoch 180/200\n",
            "11/11 [==============================] - 2s 141ms/step - loss: 1.5109e-05 - accuracy: 1.0000 - val_loss: 0.2315 - val_accuracy: 0.9592\n",
            "Epoch 181/200\n",
            "11/11 [==============================] - 2s 138ms/step - loss: 2.3945e-05 - accuracy: 1.0000 - val_loss: 0.2251 - val_accuracy: 0.9660\n",
            "Epoch 182/200\n",
            "11/11 [==============================] - 2s 140ms/step - loss: 3.6394e-05 - accuracy: 1.0000 - val_loss: 0.2247 - val_accuracy: 0.9660\n",
            "Epoch 183/200\n",
            "11/11 [==============================] - 2s 140ms/step - loss: 3.6146e-05 - accuracy: 1.0000 - val_loss: 0.2288 - val_accuracy: 0.9592\n",
            "Epoch 184/200\n",
            "11/11 [==============================] - 2s 138ms/step - loss: 2.2508e-05 - accuracy: 1.0000 - val_loss: 0.2276 - val_accuracy: 0.9660\n",
            "Epoch 185/200\n",
            "11/11 [==============================] - 2s 142ms/step - loss: 4.8712e-05 - accuracy: 1.0000 - val_loss: 0.2332 - val_accuracy: 0.9660\n",
            "Epoch 186/200\n",
            "11/11 [==============================] - 2s 139ms/step - loss: 1.7232e-04 - accuracy: 1.0000 - val_loss: 0.2318 - val_accuracy: 0.9592\n",
            "Epoch 187/200\n",
            "11/11 [==============================] - 2s 138ms/step - loss: 3.8676e-05 - accuracy: 1.0000 - val_loss: 0.2292 - val_accuracy: 0.9592\n",
            "Epoch 188/200\n",
            "11/11 [==============================] - 2s 138ms/step - loss: 6.4994e-05 - accuracy: 1.0000 - val_loss: 0.2241 - val_accuracy: 0.9728\n",
            "Epoch 189/200\n",
            "11/11 [==============================] - 2s 140ms/step - loss: 2.2925e-04 - accuracy: 1.0000 - val_loss: 5.2474 - val_accuracy: 0.6054\n",
            "Epoch 190/200\n",
            "11/11 [==============================] - 2s 143ms/step - loss: 6.3968e-05 - accuracy: 1.0000 - val_loss: 7.8891 - val_accuracy: 0.5510\n",
            "Epoch 191/200\n",
            "11/11 [==============================] - 1s 136ms/step - loss: 1.9239e-05 - accuracy: 1.0000 - val_loss: 7.5768 - val_accuracy: 0.5578\n",
            "Epoch 192/200\n",
            "11/11 [==============================] - 2s 140ms/step - loss: 9.5874e-04 - accuracy: 1.0000 - val_loss: 0.2468 - val_accuracy: 0.9320\n",
            "Epoch 193/200\n",
            "11/11 [==============================] - 1s 137ms/step - loss: 1.5487e-05 - accuracy: 1.0000 - val_loss: 0.2811 - val_accuracy: 0.9116\n",
            "Epoch 194/200\n",
            "11/11 [==============================] - 2s 137ms/step - loss: 0.0015 - accuracy: 1.0000 - val_loss: 7.8347 - val_accuracy: 0.5238\n",
            "Epoch 195/200\n",
            "11/11 [==============================] - 2s 138ms/step - loss: 1.7645e-04 - accuracy: 1.0000 - val_loss: 24.0508 - val_accuracy: 0.5102\n",
            "Epoch 196/200\n",
            "11/11 [==============================] - 2s 144ms/step - loss: 3.6360e-04 - accuracy: 1.0000 - val_loss: 28.7698 - val_accuracy: 0.5102\n",
            "Epoch 197/200\n",
            "11/11 [==============================] - 2s 139ms/step - loss: 9.1010e-04 - accuracy: 1.0000 - val_loss: 19.0928 - val_accuracy: 0.5102\n",
            "Epoch 198/200\n",
            "11/11 [==============================] - 1s 136ms/step - loss: 2.4079e-04 - accuracy: 1.0000 - val_loss: 0.4336 - val_accuracy: 0.8435\n",
            "Epoch 199/200\n",
            "11/11 [==============================] - 2s 143ms/step - loss: 2.8355e-04 - accuracy: 1.0000 - val_loss: 2.7358 - val_accuracy: 0.5578\n",
            "Epoch 200/200\n",
            "11/11 [==============================] - 2s 139ms/step - loss: 0.0033 - accuracy: 0.9971 - val_loss: 7.5671 - val_accuracy: 0.5102\n"
          ]
        }
      ]
    },
    {
      "cell_type": "code",
      "metadata": {
        "id": "cSTlOSUBWMpj"
      },
      "source": [
        "Y_test = yback(Y_test)"
      ],
      "execution_count": 18,
      "outputs": []
    },
    {
      "cell_type": "code",
      "metadata": {
        "id": "yEE2dRY62O66"
      },
      "source": [
        "pred_test= model.predict(X_test)\n",
        "Rows, Cols = pred_test.shape\n",
        "Prediction =[]\n",
        "for i in range(Rows):\n",
        "  if(pred_test[0,0] > pred_test[0,1]):\n",
        "    Prediction.append(0)\n",
        "  else:\n",
        "    Prediction.append(1)"
      ],
      "execution_count": 19,
      "outputs": []
    },
    {
      "cell_type": "code",
      "metadata": {
        "id": "qIPQG40CyIXq",
        "colab": {
          "base_uri": "https://localhost:8080/"
        },
        "outputId": "d1efbb15-773d-4f5a-ddc5-0726c09254ce"
      },
      "source": [
        "# pred_test= model.predict_classes(X_test)\n",
        "pred_test = np.argmax(model.predict(X_test), axis=-1)\n",
        "\n",
        "data = {'y_true': Y_test,'y_predict': pred_test}  # este dado esta no formato de dicionario\n",
        "\n",
        "df = pd.DataFrame(data, columns=['y_true','y_predict'])\n",
        "\n",
        "\n",
        "confusion_matrix = pd.crosstab(df['y_true'], df['y_predict'], rownames=['Actual'], colnames=['Predict'])\n",
        "print(confusion_matrix)\n",
        "\n",
        "y_true = df['y_true']\n",
        "y_pred = df['y_predict']\n",
        "  \n",
        "METRICS=sklearn.metrics.classification_report(y_true, y_pred)"
      ],
      "execution_count": 20,
      "outputs": [
        {
          "output_type": "stream",
          "name": "stdout",
          "text": [
            "Predict   1\n",
            "Actual     \n",
            "0        72\n",
            "1        75\n"
          ]
        },
        {
          "output_type": "stream",
          "name": "stderr",
          "text": [
            "/usr/local/lib/python3.7/dist-packages/sklearn/metrics/_classification.py:1272: UndefinedMetricWarning: Precision and F-score are ill-defined and being set to 0.0 in labels with no predicted samples. Use `zero_division` parameter to control this behavior.\n",
            "  _warn_prf(average, modifier, msg_start, len(result))\n"
          ]
        }
      ]
    },
    {
      "cell_type": "code",
      "metadata": {
        "id": "vJ3YoP6I0axi",
        "colab": {
          "base_uri": "https://localhost:8080/"
        },
        "outputId": "dd561f71-16c9-472e-e919-cb139ce97eab"
      },
      "source": [
        "print(METRICS)"
      ],
      "execution_count": 21,
      "outputs": [
        {
          "output_type": "stream",
          "name": "stdout",
          "text": [
            "              precision    recall  f1-score   support\n",
            "\n",
            "           0       0.00      0.00      0.00        72\n",
            "           1       0.51      1.00      0.68        75\n",
            "\n",
            "    accuracy                           0.51       147\n",
            "   macro avg       0.26      0.50      0.34       147\n",
            "weighted avg       0.26      0.51      0.34       147\n",
            "\n"
          ]
        }
      ]
    },
    {
      "cell_type": "code",
      "metadata": {
        "id": "_iFNNrlWV9tH"
      },
      "source": [
        "#pred_test"
      ],
      "execution_count": 22,
      "outputs": []
    },
    {
      "cell_type": "code",
      "metadata": {
        "id": "QISvYcJBgWbE",
        "colab": {
          "base_uri": "https://localhost:8080/"
        },
        "outputId": "19b8f103-b18c-47f4-993b-320709f8382e"
      },
      "source": [
        "cont = 0; num =25\n",
        "img_graos = []\n",
        "Width_new = []\n",
        "img=ww[2] \n",
        "while( cont < num):\n",
        "  df=Segmenta(img)\n",
        "  df_ann =df.copy()\n",
        "  Width = df['Width']\n",
        "  del df_ann['Width']\n",
        "  result = np.array(df_ann)\n",
        "  result = result.reshape(-1, Img_Size, Img_Size, 1) / 255.0\n",
        "  prediction_02 = model.predict(result)\n",
        "  Rows, Cols = prediction_02.shape\n",
        "  Prediction =[]\n",
        "  for i in range(Rows):\n",
        "    if(prediction_02[0,0] > prediction_02[0,1]):\n",
        "      Prediction.append(0)\n",
        "    else:\n",
        "      Prediction.append(1)\n",
        "  loc_grao =[];k=0\n",
        "  for i in Prediction:\n",
        "    if( i == 0):\n",
        "      img_graos.append(df.iloc[k,:])\n",
        "      Width_new.append(Width.iloc[k])\n",
        "      cont = cont + 1\n",
        "    k = k +1\n",
        "img_graos = pd.DataFrame(img_graos)\n",
        "print(img_graos)"
      ],
      "execution_count": 23,
      "outputs": [
        {
          "output_type": "stream",
          "name": "stdout",
          "text": [
            "    Width           0           1  ...         781         782         783\n",
            "0   111.0   39.139114   35.777046  ...    0.000000    0.000000    0.000000\n",
            "1   181.0   64.611183   70.103752  ...    8.125424    7.489546    8.058760\n",
            "2   142.0  159.149979  148.153336  ...  102.377907  103.613174  105.808380\n",
            "3   137.0  143.328781  141.488724  ...  144.816925  141.923798  138.413239\n",
            "4   182.0   34.893494   27.840239  ...   65.124260   80.319527  126.071022\n",
            "5   179.0   99.614624  100.183823  ...  112.516174  132.455139  133.112106\n",
            "6   139.0    0.000000    0.000000  ...   41.692921   41.147972   40.521713\n",
            "7   152.0  178.719528  177.253464  ...  133.371185  132.650970  133.094864\n",
            "8   185.0   96.681129  132.600784  ...  142.305817  147.257141  144.821838\n",
            "9   161.0   83.606804   74.506622  ...   58.155014   57.255203   54.892254\n",
            "10  165.0  145.567719  146.000992  ...  141.905365  139.257034  139.172775\n",
            "11  126.0   99.790123   99.172844  ...   52.296299   28.703703    5.938272\n",
            "12  161.0   75.652176   74.446129  ...   57.068054   57.793957   53.914932\n",
            "13  124.0   94.542137   88.524445  ...   56.249733   54.115501   55.869926\n",
            "14  120.0   83.994446   83.994446  ...   87.364449   71.400002   76.309998\n",
            "15  200.0  146.876801  149.571198  ...  116.251587  107.946808  108.013206\n",
            "16  165.0  133.573547  133.608170  ...  111.676071  116.173935  124.666115\n",
            "17  190.0    0.000000    0.000000  ...  129.959763  134.409073  131.125977\n",
            "18  107.0  137.118774  141.535416  ...  148.489655  145.491135  143.215469\n",
            "19  197.0  158.098068  158.052032  ...    6.830297    6.603752    6.704760\n",
            "20  114.0   62.750690   62.908894  ...   60.884583   59.915363   60.724838\n",
            "21  189.0  129.887527  144.880676  ...    7.085048    7.529492    7.200274\n",
            "22  196.0  130.448975  127.061218  ...  147.836731  147.244888  149.244888\n",
            "23  121.0  144.783203  141.146988  ...  145.750504  124.499344  126.497032\n",
            "24  198.0  129.358109  132.031311  ...    7.446485    6.310886    7.472196\n",
            "25  181.0  111.135437  120.768478  ...  131.802246  134.398270  132.861511\n",
            "26  197.0  145.590210  141.660797  ...   65.164421  108.645889  122.922005\n",
            "27  110.0  129.949753  117.354050  ...  100.758347  100.089249   98.759003\n",
            "28  114.0   64.961227   65.560173  ...  100.769470  104.003693  104.917824\n",
            "29  182.0    0.644970    1.177515  ...  113.449715  116.573975  119.260361\n",
            "30  193.0   79.948158   75.678726  ...  139.289474  138.306641  132.797180\n",
            "31  194.0   90.605270   97.088211  ...    6.072377    5.835794    5.283771\n",
            "32  119.0  115.224915  120.269897  ...    0.726644    0.778547    0.723183\n",
            "33  127.0  129.293320  124.487694  ...  162.587830  164.205963  162.656082\n",
            "34  161.0  121.820419   39.907372  ...  106.546326  110.659737  114.606804\n",
            "35  199.0   88.160950   88.877205  ...   63.018555   52.261330    5.296406\n",
            "36  130.0   57.275028   53.071953  ...  141.545105  135.213486  127.862007\n",
            "37  153.0  164.082535  163.959335  ...   91.553680   91.856468   91.103081\n",
            "38  146.0  135.440979  124.886658  ...   55.470821   50.981422   41.978607\n",
            "39  104.0  122.326935  126.965988  ...  158.831375  156.905350  154.254456\n",
            "40  176.0  125.808365  123.927689  ...  155.011887  157.271698  158.744308\n",
            "41  182.0   94.390541   85.952675  ...  141.029587  143.775146  145.550308\n",
            "42  196.0  126.510201  127.959183  ...  128.673462  126.102036  120.734688\n",
            "43  185.0  129.304031  129.779297  ...   74.910614   74.166138   75.320198\n",
            "44  129.0   83.660057   84.534760  ...  110.698929  109.662872  110.028603\n",
            "45  179.0   80.511505   76.957176  ...    7.554976    6.959865    7.178334\n",
            "46  114.0  110.157585   78.672203  ...  104.132965  105.857185  108.116348\n",
            "47  158.0   97.849533  102.441437  ...  100.887039  124.571060  136.335205\n",
            "48  104.0  128.251480  124.883148  ...   61.272194   66.500000   71.184921\n",
            "49  126.0  124.320992  127.432098  ...  169.098770  193.345673  213.123459\n",
            "\n",
            "[50 rows x 785 columns]\n"
          ]
        }
      ]
    },
    {
      "cell_type": "code",
      "metadata": {
        "id": "6LkA4vHp-f6_"
      },
      "source": [
        "Width=np.array(Width_new)"
      ],
      "execution_count": 24,
      "outputs": []
    },
    {
      "cell_type": "code",
      "metadata": {
        "colab": {
          "base_uri": "https://localhost:8080/"
        },
        "id": "MjRbWgmX_LFH",
        "outputId": "e1347d7c-6df3-435f-f746-ceab74fd5b8b"
      },
      "source": [
        "!git clone https://github.com/ucfilho/marquesgabi_paper_fev_2021\n",
        "%cd marquesgabi_paper_fev_2021\n",
        "\n",
        "from Get_PSDArea_New import PSDArea\n",
        "from histogram_fev_2021 import PSD\n",
        "from GetBetterSegm import GetBetter"
      ],
      "execution_count": 25,
      "outputs": [
        {
          "output_type": "stream",
          "name": "stdout",
          "text": [
            "Cloning into 'marquesgabi_paper_fev_2021'...\n",
            "remote: Enumerating objects: 692, done.\u001b[K\n",
            "remote: Counting objects: 100% (453/453), done.\u001b[K\n",
            "remote: Compressing objects: 100% (451/451), done.\u001b[K\n",
            "remote: Total 692 (delta 285), reused 0 (delta 0), pack-reused 239\u001b[K\n",
            "Receiving objects: 100% (692/692), 5.65 MiB | 13.51 MiB/s, done.\n",
            "Resolving deltas: 100% (422/422), done.\n",
            "/content/marquesgabi_fev_2020/Doutorado/MarquesGabi_Routines/MarquesGabi_Routines/marquesgabi_paper_fev_2021\n"
          ]
        }
      ]
    },
    {
      "cell_type": "code",
      "metadata": {
        "colab": {
          "base_uri": "https://localhost:8080/"
        },
        "id": "WAG_I6FwCvFr",
        "outputId": "427390a9-4a63-462b-95a8-476b1971631f"
      },
      "source": [
        "#!git clone https://github.com/ucfilho/marquesgabi_out_2020\n",
        "!git clone https://github.com/marquesgabi/Doutorado\n",
        "\n",
        "%cd Doutorado\n",
        "\n",
        "PSD_imageJ = 'Amostra7.csv' \n",
        "PSD_new = pd.read_csv(PSD_imageJ,sep=';')\n",
        "#encoding='utf8'\n",
        "print(PSD_new.head(3))"
      ],
      "execution_count": 26,
      "outputs": [
        {
          "output_type": "stream",
          "name": "stdout",
          "text": [
            "Cloning into 'Doutorado'...\n",
            "remote: Enumerating objects: 458, done.\u001b[K\n",
            "remote: Counting objects: 100% (208/208), done.\u001b[K\n",
            "remote: Compressing objects: 100% (207/207), done.\u001b[K\n",
            "remote: Total 458 (delta 98), reused 0 (delta 0), pack-reused 250\u001b[K\n",
            "Receiving objects: 100% (458/458), 166.03 MiB | 23.36 MiB/s, done.\n",
            "Resolving deltas: 100% (221/221), done.\n",
            "Checking out files: 100% (90/90), done.\n",
            "/content/marquesgabi_fev_2020/Doutorado/MarquesGabi_Routines/MarquesGabi_Routines/marquesgabi_paper_fev_2021/Doutorado\n",
            "   Unnamed: 0   Area\n",
            "0           1  1.387\n",
            "1           2  1.626\n",
            "2           3  1.336\n"
          ]
        }
      ]
    },
    {
      "cell_type": "code",
      "metadata": {
        "id": "7tEPjIBnv_xM",
        "colab": {
          "base_uri": "https://localhost:8080/"
        },
        "outputId": "80d52507-2a08-4ce3-a76f-545ff67059e9"
      },
      "source": [
        "PSD_new.shape"
      ],
      "execution_count": 27,
      "outputs": [
        {
          "output_type": "execute_result",
          "data": {
            "text/plain": [
              "(102, 2)"
            ]
          },
          "metadata": {},
          "execution_count": 27
        }
      ]
    },
    {
      "cell_type": "code",
      "metadata": {
        "id": "t_1WIM8w7poO"
      },
      "source": [
        "Area_All, Diameter_All=PSDArea(img_graos) "
      ],
      "execution_count": 28,
      "outputs": []
    },
    {
      "cell_type": "code",
      "metadata": {
        "id": "nfagXc-Mv3oa"
      },
      "source": [
        ""
      ],
      "execution_count": 28,
      "outputs": []
    },
    {
      "cell_type": "code",
      "metadata": {
        "id": "PekBHQOT_6CP",
        "colab": {
          "base_uri": "https://localhost:8080/",
          "height": 253
        },
        "outputId": "a56ee407-27e6-4c24-f8ee-8bd9487deef2"
      },
      "source": [
        "img_graos.head()"
      ],
      "execution_count": 29,
      "outputs": [
        {
          "output_type": "execute_result",
          "data": {
            "text/html": [
              "<div>\n",
              "<style scoped>\n",
              "    .dataframe tbody tr th:only-of-type {\n",
              "        vertical-align: middle;\n",
              "    }\n",
              "\n",
              "    .dataframe tbody tr th {\n",
              "        vertical-align: top;\n",
              "    }\n",
              "\n",
              "    .dataframe thead th {\n",
              "        text-align: right;\n",
              "    }\n",
              "</style>\n",
              "<table border=\"1\" class=\"dataframe\">\n",
              "  <thead>\n",
              "    <tr style=\"text-align: right;\">\n",
              "      <th></th>\n",
              "      <th>Width</th>\n",
              "      <th>0</th>\n",
              "      <th>1</th>\n",
              "      <th>2</th>\n",
              "      <th>3</th>\n",
              "      <th>4</th>\n",
              "      <th>5</th>\n",
              "      <th>6</th>\n",
              "      <th>7</th>\n",
              "      <th>8</th>\n",
              "      <th>9</th>\n",
              "      <th>10</th>\n",
              "      <th>11</th>\n",
              "      <th>12</th>\n",
              "      <th>13</th>\n",
              "      <th>14</th>\n",
              "      <th>15</th>\n",
              "      <th>16</th>\n",
              "      <th>17</th>\n",
              "      <th>18</th>\n",
              "      <th>19</th>\n",
              "      <th>20</th>\n",
              "      <th>21</th>\n",
              "      <th>22</th>\n",
              "      <th>23</th>\n",
              "      <th>24</th>\n",
              "      <th>25</th>\n",
              "      <th>26</th>\n",
              "      <th>27</th>\n",
              "      <th>28</th>\n",
              "      <th>29</th>\n",
              "      <th>30</th>\n",
              "      <th>31</th>\n",
              "      <th>32</th>\n",
              "      <th>33</th>\n",
              "      <th>34</th>\n",
              "      <th>35</th>\n",
              "      <th>36</th>\n",
              "      <th>37</th>\n",
              "      <th>38</th>\n",
              "      <th>...</th>\n",
              "      <th>744</th>\n",
              "      <th>745</th>\n",
              "      <th>746</th>\n",
              "      <th>747</th>\n",
              "      <th>748</th>\n",
              "      <th>749</th>\n",
              "      <th>750</th>\n",
              "      <th>751</th>\n",
              "      <th>752</th>\n",
              "      <th>753</th>\n",
              "      <th>754</th>\n",
              "      <th>755</th>\n",
              "      <th>756</th>\n",
              "      <th>757</th>\n",
              "      <th>758</th>\n",
              "      <th>759</th>\n",
              "      <th>760</th>\n",
              "      <th>761</th>\n",
              "      <th>762</th>\n",
              "      <th>763</th>\n",
              "      <th>764</th>\n",
              "      <th>765</th>\n",
              "      <th>766</th>\n",
              "      <th>767</th>\n",
              "      <th>768</th>\n",
              "      <th>769</th>\n",
              "      <th>770</th>\n",
              "      <th>771</th>\n",
              "      <th>772</th>\n",
              "      <th>773</th>\n",
              "      <th>774</th>\n",
              "      <th>775</th>\n",
              "      <th>776</th>\n",
              "      <th>777</th>\n",
              "      <th>778</th>\n",
              "      <th>779</th>\n",
              "      <th>780</th>\n",
              "      <th>781</th>\n",
              "      <th>782</th>\n",
              "      <th>783</th>\n",
              "    </tr>\n",
              "  </thead>\n",
              "  <tbody>\n",
              "    <tr>\n",
              "      <th>0</th>\n",
              "      <td>111.0</td>\n",
              "      <td>39.139114</td>\n",
              "      <td>35.777046</td>\n",
              "      <td>34.969563</td>\n",
              "      <td>31.241135</td>\n",
              "      <td>28.902523</td>\n",
              "      <td>28.072720</td>\n",
              "      <td>25.939939</td>\n",
              "      <td>20.325462</td>\n",
              "      <td>42.173687</td>\n",
              "      <td>95.541428</td>\n",
              "      <td>127.498009</td>\n",
              "      <td>133.011688</td>\n",
              "      <td>124.186516</td>\n",
              "      <td>113.438354</td>\n",
              "      <td>111.186424</td>\n",
              "      <td>112.927200</td>\n",
              "      <td>112.789948</td>\n",
              "      <td>113.845230</td>\n",
              "      <td>116.288612</td>\n",
              "      <td>116.469116</td>\n",
              "      <td>115.610985</td>\n",
              "      <td>110.651321</td>\n",
              "      <td>97.152580</td>\n",
              "      <td>83.539726</td>\n",
              "      <td>85.084084</td>\n",
              "      <td>84.607338</td>\n",
              "      <td>82.277412</td>\n",
              "      <td>80.693123</td>\n",
              "      <td>47.732246</td>\n",
              "      <td>44.228310</td>\n",
              "      <td>34.752861</td>\n",
              "      <td>30.267998</td>\n",
              "      <td>27.090820</td>\n",
              "      <td>26.933039</td>\n",
              "      <td>20.677055</td>\n",
              "      <td>19.302168</td>\n",
              "      <td>62.780128</td>\n",
              "      <td>103.158340</td>\n",
              "      <td>115.743607</td>\n",
              "      <td>...</td>\n",
              "      <td>31.057219</td>\n",
              "      <td>15.418228</td>\n",
              "      <td>2.361415</td>\n",
              "      <td>2.694668</td>\n",
              "      <td>1.510348</td>\n",
              "      <td>1.449476</td>\n",
              "      <td>0.990991</td>\n",
              "      <td>0.205340</td>\n",
              "      <td>0.000000</td>\n",
              "      <td>0.000000</td>\n",
              "      <td>0.000000</td>\n",
              "      <td>0.000000</td>\n",
              "      <td>0.368233</td>\n",
              "      <td>0.379434</td>\n",
              "      <td>0.000000</td>\n",
              "      <td>0.000000</td>\n",
              "      <td>0.000000</td>\n",
              "      <td>0.000000</td>\n",
              "      <td>0.000000</td>\n",
              "      <td>0.000000</td>\n",
              "      <td>0.000000</td>\n",
              "      <td>0.000000</td>\n",
              "      <td>0.405405</td>\n",
              "      <td>0.928577</td>\n",
              "      <td>1.144144</td>\n",
              "      <td>1.710170</td>\n",
              "      <td>2.688581</td>\n",
              "      <td>1.604578</td>\n",
              "      <td>1.520493</td>\n",
              "      <td>2.127262</td>\n",
              "      <td>1.878013</td>\n",
              "      <td>1.252252</td>\n",
              "      <td>1.000000</td>\n",
              "      <td>0.973216</td>\n",
              "      <td>0.504505</td>\n",
              "      <td>0.104537</td>\n",
              "      <td>0.000000</td>\n",
              "      <td>0.000000</td>\n",
              "      <td>0.000000</td>\n",
              "      <td>0.000000</td>\n",
              "    </tr>\n",
              "    <tr>\n",
              "      <th>1</th>\n",
              "      <td>181.0</td>\n",
              "      <td>64.611183</td>\n",
              "      <td>70.103752</td>\n",
              "      <td>91.097931</td>\n",
              "      <td>108.381950</td>\n",
              "      <td>115.860672</td>\n",
              "      <td>117.034187</td>\n",
              "      <td>107.872879</td>\n",
              "      <td>104.763741</td>\n",
              "      <td>106.575241</td>\n",
              "      <td>107.299995</td>\n",
              "      <td>104.803528</td>\n",
              "      <td>103.313156</td>\n",
              "      <td>106.252319</td>\n",
              "      <td>113.190453</td>\n",
              "      <td>122.381989</td>\n",
              "      <td>133.801666</td>\n",
              "      <td>148.853531</td>\n",
              "      <td>156.481628</td>\n",
              "      <td>158.514191</td>\n",
              "      <td>160.457169</td>\n",
              "      <td>148.662247</td>\n",
              "      <td>124.059845</td>\n",
              "      <td>104.241844</td>\n",
              "      <td>96.861427</td>\n",
              "      <td>90.854767</td>\n",
              "      <td>77.062462</td>\n",
              "      <td>71.725288</td>\n",
              "      <td>67.748604</td>\n",
              "      <td>68.823151</td>\n",
              "      <td>63.900650</td>\n",
              "      <td>104.141609</td>\n",
              "      <td>126.701180</td>\n",
              "      <td>125.180351</td>\n",
              "      <td>123.899368</td>\n",
              "      <td>118.144478</td>\n",
              "      <td>108.938591</td>\n",
              "      <td>106.880112</td>\n",
              "      <td>106.651787</td>\n",
              "      <td>105.039040</td>\n",
              "      <td>...</td>\n",
              "      <td>0.306798</td>\n",
              "      <td>0.274870</td>\n",
              "      <td>0.312231</td>\n",
              "      <td>0.346967</td>\n",
              "      <td>0.229663</td>\n",
              "      <td>0.191630</td>\n",
              "      <td>0.259089</td>\n",
              "      <td>0.395653</td>\n",
              "      <td>0.416074</td>\n",
              "      <td>0.298251</td>\n",
              "      <td>0.425597</td>\n",
              "      <td>0.429016</td>\n",
              "      <td>8.535667</td>\n",
              "      <td>6.537438</td>\n",
              "      <td>7.978420</td>\n",
              "      <td>7.465493</td>\n",
              "      <td>7.734105</td>\n",
              "      <td>7.934832</td>\n",
              "      <td>7.896371</td>\n",
              "      <td>7.737402</td>\n",
              "      <td>7.251092</td>\n",
              "      <td>7.553647</td>\n",
              "      <td>7.557920</td>\n",
              "      <td>7.827997</td>\n",
              "      <td>7.864748</td>\n",
              "      <td>7.998078</td>\n",
              "      <td>8.616007</td>\n",
              "      <td>7.858765</td>\n",
              "      <td>7.756204</td>\n",
              "      <td>8.124874</td>\n",
              "      <td>8.101189</td>\n",
              "      <td>7.728000</td>\n",
              "      <td>7.938463</td>\n",
              "      <td>7.808980</td>\n",
              "      <td>7.076586</td>\n",
              "      <td>7.842556</td>\n",
              "      <td>7.570008</td>\n",
              "      <td>8.125424</td>\n",
              "      <td>7.489546</td>\n",
              "      <td>8.058760</td>\n",
              "    </tr>\n",
              "    <tr>\n",
              "      <th>2</th>\n",
              "      <td>142.0</td>\n",
              "      <td>159.149979</td>\n",
              "      <td>148.153336</td>\n",
              "      <td>119.222572</td>\n",
              "      <td>85.171791</td>\n",
              "      <td>89.834557</td>\n",
              "      <td>102.524101</td>\n",
              "      <td>106.470345</td>\n",
              "      <td>108.921844</td>\n",
              "      <td>111.158707</td>\n",
              "      <td>112.365997</td>\n",
              "      <td>115.557823</td>\n",
              "      <td>117.473328</td>\n",
              "      <td>115.376907</td>\n",
              "      <td>115.055550</td>\n",
              "      <td>121.093643</td>\n",
              "      <td>132.005356</td>\n",
              "      <td>147.896439</td>\n",
              "      <td>154.822845</td>\n",
              "      <td>130.740128</td>\n",
              "      <td>127.963699</td>\n",
              "      <td>127.111885</td>\n",
              "      <td>121.867691</td>\n",
              "      <td>117.165848</td>\n",
              "      <td>113.555046</td>\n",
              "      <td>111.993454</td>\n",
              "      <td>110.481056</td>\n",
              "      <td>107.501289</td>\n",
              "      <td>103.672684</td>\n",
              "      <td>159.926010</td>\n",
              "      <td>154.293396</td>\n",
              "      <td>140.522324</td>\n",
              "      <td>112.456856</td>\n",
              "      <td>107.682205</td>\n",
              "      <td>112.384453</td>\n",
              "      <td>113.415794</td>\n",
              "      <td>114.342987</td>\n",
              "      <td>117.290413</td>\n",
              "      <td>120.091064</td>\n",
              "      <td>120.925026</td>\n",
              "      <td>...</td>\n",
              "      <td>127.639359</td>\n",
              "      <td>123.096207</td>\n",
              "      <td>116.448914</td>\n",
              "      <td>113.212250</td>\n",
              "      <td>106.395561</td>\n",
              "      <td>101.833366</td>\n",
              "      <td>99.927193</td>\n",
              "      <td>100.855980</td>\n",
              "      <td>102.337433</td>\n",
              "      <td>103.208298</td>\n",
              "      <td>105.419159</td>\n",
              "      <td>109.880592</td>\n",
              "      <td>152.138062</td>\n",
              "      <td>146.487213</td>\n",
              "      <td>142.609009</td>\n",
              "      <td>140.225754</td>\n",
              "      <td>139.951614</td>\n",
              "      <td>137.777420</td>\n",
              "      <td>141.731812</td>\n",
              "      <td>148.103943</td>\n",
              "      <td>155.255127</td>\n",
              "      <td>158.551300</td>\n",
              "      <td>149.034317</td>\n",
              "      <td>124.633217</td>\n",
              "      <td>119.476295</td>\n",
              "      <td>119.024803</td>\n",
              "      <td>119.664154</td>\n",
              "      <td>123.366592</td>\n",
              "      <td>126.541557</td>\n",
              "      <td>124.058327</td>\n",
              "      <td>117.693520</td>\n",
              "      <td>113.539581</td>\n",
              "      <td>107.348946</td>\n",
              "      <td>101.805206</td>\n",
              "      <td>99.661377</td>\n",
              "      <td>99.332481</td>\n",
              "      <td>100.984932</td>\n",
              "      <td>102.377907</td>\n",
              "      <td>103.613174</td>\n",
              "      <td>105.808380</td>\n",
              "    </tr>\n",
              "    <tr>\n",
              "      <th>3</th>\n",
              "      <td>137.0</td>\n",
              "      <td>143.328781</td>\n",
              "      <td>141.488724</td>\n",
              "      <td>145.284729</td>\n",
              "      <td>150.819275</td>\n",
              "      <td>153.772766</td>\n",
              "      <td>158.294357</td>\n",
              "      <td>160.300430</td>\n",
              "      <td>160.583344</td>\n",
              "      <td>165.866959</td>\n",
              "      <td>170.467743</td>\n",
              "      <td>163.890442</td>\n",
              "      <td>94.249138</td>\n",
              "      <td>79.242363</td>\n",
              "      <td>72.557083</td>\n",
              "      <td>75.949959</td>\n",
              "      <td>80.732857</td>\n",
              "      <td>86.125679</td>\n",
              "      <td>110.439819</td>\n",
              "      <td>133.223770</td>\n",
              "      <td>137.868042</td>\n",
              "      <td>138.710205</td>\n",
              "      <td>136.883057</td>\n",
              "      <td>132.596725</td>\n",
              "      <td>127.895676</td>\n",
              "      <td>128.467163</td>\n",
              "      <td>127.266968</td>\n",
              "      <td>127.784210</td>\n",
              "      <td>126.764771</td>\n",
              "      <td>135.089142</td>\n",
              "      <td>136.179871</td>\n",
              "      <td>143.785324</td>\n",
              "      <td>147.929520</td>\n",
              "      <td>155.417175</td>\n",
              "      <td>163.004486</td>\n",
              "      <td>162.746918</td>\n",
              "      <td>160.860291</td>\n",
              "      <td>166.854858</td>\n",
              "      <td>171.376801</td>\n",
              "      <td>163.480942</td>\n",
              "      <td>...</td>\n",
              "      <td>144.650223</td>\n",
              "      <td>146.899033</td>\n",
              "      <td>149.801376</td>\n",
              "      <td>152.468964</td>\n",
              "      <td>155.057755</td>\n",
              "      <td>153.420273</td>\n",
              "      <td>150.561508</td>\n",
              "      <td>148.615845</td>\n",
              "      <td>147.023651</td>\n",
              "      <td>143.221863</td>\n",
              "      <td>138.927902</td>\n",
              "      <td>135.946289</td>\n",
              "      <td>175.447968</td>\n",
              "      <td>180.413605</td>\n",
              "      <td>182.691299</td>\n",
              "      <td>183.029938</td>\n",
              "      <td>170.151031</td>\n",
              "      <td>125.751129</td>\n",
              "      <td>123.149132</td>\n",
              "      <td>123.688095</td>\n",
              "      <td>123.134422</td>\n",
              "      <td>121.415527</td>\n",
              "      <td>123.561829</td>\n",
              "      <td>127.440025</td>\n",
              "      <td>131.973465</td>\n",
              "      <td>135.291168</td>\n",
              "      <td>138.049713</td>\n",
              "      <td>142.178635</td>\n",
              "      <td>145.094879</td>\n",
              "      <td>147.015289</td>\n",
              "      <td>149.574188</td>\n",
              "      <td>151.419998</td>\n",
              "      <td>150.910583</td>\n",
              "      <td>151.027481</td>\n",
              "      <td>149.799179</td>\n",
              "      <td>149.104736</td>\n",
              "      <td>147.525879</td>\n",
              "      <td>144.816925</td>\n",
              "      <td>141.923798</td>\n",
              "      <td>138.413239</td>\n",
              "    </tr>\n",
              "    <tr>\n",
              "      <th>4</th>\n",
              "      <td>182.0</td>\n",
              "      <td>34.893494</td>\n",
              "      <td>27.840239</td>\n",
              "      <td>22.124262</td>\n",
              "      <td>18.798819</td>\n",
              "      <td>11.473374</td>\n",
              "      <td>7.082841</td>\n",
              "      <td>70.810654</td>\n",
              "      <td>136.467468</td>\n",
              "      <td>145.284027</td>\n",
              "      <td>155.366867</td>\n",
              "      <td>182.573975</td>\n",
              "      <td>153.082855</td>\n",
              "      <td>131.680481</td>\n",
              "      <td>186.461548</td>\n",
              "      <td>201.958603</td>\n",
              "      <td>59.828407</td>\n",
              "      <td>88.502960</td>\n",
              "      <td>92.668640</td>\n",
              "      <td>91.497055</td>\n",
              "      <td>93.840240</td>\n",
              "      <td>97.804741</td>\n",
              "      <td>98.573975</td>\n",
              "      <td>92.615402</td>\n",
              "      <td>35.621304</td>\n",
              "      <td>4.011835</td>\n",
              "      <td>2.946746</td>\n",
              "      <td>4.781066</td>\n",
              "      <td>53.443790</td>\n",
              "      <td>69.745567</td>\n",
              "      <td>73.295860</td>\n",
              "      <td>82.964508</td>\n",
              "      <td>89.272202</td>\n",
              "      <td>99.473373</td>\n",
              "      <td>94.917168</td>\n",
              "      <td>127.402374</td>\n",
              "      <td>138.479279</td>\n",
              "      <td>144.017761</td>\n",
              "      <td>151.686401</td>\n",
              "      <td>169.177521</td>\n",
              "      <td>...</td>\n",
              "      <td>141.260361</td>\n",
              "      <td>65.035507</td>\n",
              "      <td>65.686394</td>\n",
              "      <td>68.112434</td>\n",
              "      <td>65.491127</td>\n",
              "      <td>62.946751</td>\n",
              "      <td>61.147930</td>\n",
              "      <td>61.041424</td>\n",
              "      <td>61.621307</td>\n",
              "      <td>62.118347</td>\n",
              "      <td>104.816574</td>\n",
              "      <td>137.195267</td>\n",
              "      <td>172.325470</td>\n",
              "      <td>139.698227</td>\n",
              "      <td>140.071014</td>\n",
              "      <td>136.650894</td>\n",
              "      <td>132.372803</td>\n",
              "      <td>128.065094</td>\n",
              "      <td>124.810661</td>\n",
              "      <td>120.467468</td>\n",
              "      <td>120.431969</td>\n",
              "      <td>120.420135</td>\n",
              "      <td>118.278107</td>\n",
              "      <td>123.260361</td>\n",
              "      <td>125.508881</td>\n",
              "      <td>132.905334</td>\n",
              "      <td>138.183456</td>\n",
              "      <td>146.147949</td>\n",
              "      <td>146.384628</td>\n",
              "      <td>71.958588</td>\n",
              "      <td>61.710068</td>\n",
              "      <td>66.313614</td>\n",
              "      <td>62.603558</td>\n",
              "      <td>60.911251</td>\n",
              "      <td>59.420124</td>\n",
              "      <td>60.473381</td>\n",
              "      <td>62.449707</td>\n",
              "      <td>65.124260</td>\n",
              "      <td>80.319527</td>\n",
              "      <td>126.071022</td>\n",
              "    </tr>\n",
              "  </tbody>\n",
              "</table>\n",
              "<p>5 rows × 785 columns</p>\n",
              "</div>"
            ],
            "text/plain": [
              "   Width           0           1  ...         781         782         783\n",
              "0  111.0   39.139114   35.777046  ...    0.000000    0.000000    0.000000\n",
              "1  181.0   64.611183   70.103752  ...    8.125424    7.489546    8.058760\n",
              "2  142.0  159.149979  148.153336  ...  102.377907  103.613174  105.808380\n",
              "3  137.0  143.328781  141.488724  ...  144.816925  141.923798  138.413239\n",
              "4  182.0   34.893494   27.840239  ...   65.124260   80.319527  126.071022\n",
              "\n",
              "[5 rows x 785 columns]"
            ]
          },
          "metadata": {},
          "execution_count": 29
        }
      ]
    },
    {
      "cell_type": "code",
      "metadata": {
        "id": "9q09DRGPtM75"
      },
      "source": [
        "#lost_value = float(PSD_new.columns[1])\n",
        "\n",
        "# Area = np.array(PSD_new.iloc[:,1])\n",
        "Area = PSD_new['Area'].values\n",
        "# Area = np.concatenate( (Area, [lost_value] ) )\n",
        "# Area = np.concatenate( (Area, [lost_value] ) )\n",
        "diam_teste = []\n",
        "for A in Area:\n",
        "  diam_teste.append((4*A/np.pi)**0.5) \n",
        "\n",
        "Diam1 = [ (4*A/np.pi)**0.5 for A in Area]"
      ],
      "execution_count": 30,
      "outputs": []
    },
    {
      "cell_type": "code",
      "metadata": {
        "id": "1aUb2_-jsY1Z",
        "colab": {
          "base_uri": "https://localhost:8080/"
        },
        "outputId": "758b6a73-8b4a-4e3e-f703-680934df9796"
      },
      "source": [
        "PSD_new.iloc[:,1].values"
      ],
      "execution_count": 31,
      "outputs": [
        {
          "output_type": "execute_result",
          "data": {
            "text/plain": [
              "array([1.387, 1.626, 1.336, 0.64 , 2.211, 1.12 , 0.974, 1.237, 1.29 ,\n",
              "       3.755, 2.778, 1.256, 1.386, 1.302, 1.071, 1.497, 1.518, 1.244,\n",
              "       1.532, 1.325, 1.519, 1.895, 1.22 , 1.241, 1.301, 1.429, 0.667,\n",
              "       2.157, 1.052, 2.082, 1.517, 1.281, 0.784, 1.067, 2.764, 1.215,\n",
              "       0.943, 2.182, 1.486, 1.569, 2.667, 0.709, 1.006, 1.6  , 1.408,\n",
              "       3.16 , 2.465, 2.284, 1.273, 1.256, 3.021, 1.701, 1.955, 5.248,\n",
              "       1.627, 1.367, 1.592, 2.718, 1.658, 1.128, 2.192, 1.508, 2.547,\n",
              "       1.945, 1.606, 3.482, 1.756, 1.457, 1.864, 1.821, 1.314, 1.715,\n",
              "       1.015, 1.345, 1.265, 1.844, 1.396, 1.785, 1.694, 1.413, 1.368,\n",
              "       2.21 , 1.034, 1.367, 1.943, 1.008, 1.279, 1.579, 1.444, 1.879,\n",
              "       1.466, 2.154, 1.794, 3.149, 1.883, 1.692, 1.163, 1.297, 2.949,\n",
              "       1.09 , 1.444, 1.524])"
            ]
          },
          "metadata": {},
          "execution_count": 31
        }
      ]
    },
    {
      "cell_type": "code",
      "metadata": {
        "id": "9J705kDqsE8f",
        "colab": {
          "base_uri": "https://localhost:8080/"
        },
        "outputId": "4f93b3a4-61a4-4102-b983-7023c82ae2d5"
      },
      "source": [
        "X.shape"
      ],
      "execution_count": 32,
      "outputs": [
        {
          "output_type": "execute_result",
          "data": {
            "text/plain": [
              "(490, 784)"
            ]
          },
          "metadata": {},
          "execution_count": 32
        }
      ]
    },
    {
      "cell_type": "code",
      "metadata": {
        "id": "mK1GBUHWiIr4",
        "colab": {
          "base_uri": "https://localhost:8080/",
          "height": 282
        },
        "outputId": "f95bb7ac-75ee-409c-b22e-6ac99a2e5765"
      },
      "source": [
        "Freq = [12.8, 23.2, 29.2, 18.4, 12.0, 0.8]\n",
        "Freq2 = [16.4, 22.2, 29.6, 20.8, 8., 0.2]\n",
        "Freq3 = [22.22489, 30.15078, 25.10463, 19.30926, 2.810434, 0.]\n",
        "barWidth = 0.25\n",
        "\n",
        "br1 = range(len(Freq))\n",
        "# Set position of bar on X axis\n",
        "br2 = [x + barWidth for x in br1]\n",
        "br3 = [x + barWidth for x in br2]\n",
        "labels = [0.8, 1.0, 1.2, 1.4, 1.6, 1.8]\n",
        "\n",
        "xx=[]\n",
        "for a in labels:\n",
        "  xx.append(str(a))\n",
        "plt.bar(br1, Freq , color=\"green\", align=\"center\", width=0.3, tick_label= xx) \n",
        "plt.bar(br2, Freq2 , color=\"red\", align=\"center\", width=0.3, tick_label= xx)\n",
        "plt.bar(br3, Freq3 , color=\"blue\", align=\"center\", width=0.3, tick_label= xx)"
      ],
      "execution_count": 33,
      "outputs": [
        {
          "output_type": "execute_result",
          "data": {
            "text/plain": [
              "<BarContainer object of 6 artists>"
            ]
          },
          "metadata": {},
          "execution_count": 33
        },
        {
          "output_type": "display_data",
          "data": {
            "image/png": "[encoded data removed]",
            "text/plain": [
              "<Figure size 432x288 with 1 Axes>"
            ]
          },
          "metadata": {
            "needs_background": "light"
          }
        }
      ]
    },
    {
      "cell_type": "code",
      "metadata": {
        "id": "Vfk_fNXGDK5_",
        "colab": {
          "base_uri": "https://localhost:8080/",
          "height": 286
        },
        "outputId": "444567c0-bc64-4781-de41-42a3edd6c85d"
      },
      "source": [
        " wt1 = np.ones(len(Diam1)) / len(Diam1)*100\n",
        " wt2 = np.ones(len(Diameter_All)) / len(Diameter_All)*100\n",
        " X = pd.DataFrame([Diam1,Diameter_All])\n",
        " wts = pd.DataFrame([wt1,wt2])\n",
        "plt.hist(X,weights=wts)\n",
        "plt.legend(['Image J','CNN'])"
      ],
      "execution_count": 34,
      "outputs": [
        {
          "output_type": "execute_result",
          "data": {
            "text/plain": [
              "<matplotlib.legend.Legend at 0x7f929ca5d550>"
            ]
          },
          "metadata": {},
          "execution_count": 34
        },
        {
          "output_type": "display_data",
          "data": {
            "image/png": "[encoded data removed]",
            "text/plain": [
              "<Figure size 432x288 with 1 Axes>"
            ]
          },
          "metadata": {
            "needs_background": "light"
          }
        }
      ]
    },
    {
      "cell_type": "code",
      "metadata": {
        "id": "-nGDbBEeiUij",
        "colab": {
          "base_uri": "https://localhost:8080/",
          "height": 401
        },
        "outputId": "ce3857f9-0aa4-48fb-edc2-2d7ed948fe39"
      },
      "source": [
        "# plt.hist(x, bins=bins, density=True, histtype='step', cumulative=-1,label='Reversed emp.')\n",
        "plt.hist(X, density=True, histtype='step', cumulative=True,label='Reversed emp.')"
      ],
      "execution_count": 35,
      "outputs": [
        {
          "output_type": "execute_result",
          "data": {
            "text/plain": [
              "(array([[0.        , 0.03921569, 0.25490196, 0.6372549 , 0.80392157,\n",
              "         0.89215686, 0.97058824, 0.99019608, 0.99019608, 1.        ],\n",
              "        [0.1       , 0.24      , 0.42      , 0.68      , 0.96      ,\n",
              "         1.        , 1.        , 1.        , 1.        , 1.        ]]),\n",
              " array([0.71139016, 0.89874604, 1.08610192, 1.2734578 , 1.46081368,\n",
              "        1.64816956, 1.83552544, 2.02288132, 2.2102372 , 2.39759308,\n",
              "        2.58494896]),\n",
              " <a list of 2 Lists of Patches objects>)"
            ]
          },
          "metadata": {},
          "execution_count": 35
        },
        {
          "output_type": "display_data",
          "data": {
            "image/png": "[encoded data removed]",
            "text/plain": [
              "<Figure size 432x288 with 1 Axes>"
            ]
          },
          "metadata": {
            "needs_background": "light"
          }
        }
      ]
    },
    {
      "cell_type": "code",
      "metadata": {
        "id": "9xENlBUUxfTu",
        "colab": {
          "base_uri": "https://localhost:8080/",
          "height": 282
        },
        "outputId": "59da9da4-a94f-43ee-b8ef-c53436eca245"
      },
      "source": [
        "Obj = plt.hist(X, density=True, histtype='step', cumulative=True,label='Reversed emp.')\n",
        "Y1, Y2 = Obj[0]\n",
        "Rsquared = r2_score(Y1, Y2)\n",
        "print('r_squared =',Rsquared)"
      ],
      "execution_count": 36,
      "outputs": [
        {
          "output_type": "stream",
          "name": "stdout",
          "text": [
            "r_squared = 0.921862636972828\n"
          ]
        },
        {
          "output_type": "display_data",
          "data": {
            "image/png": "[encoded data removed]",
            "text/plain": [
              "<Figure size 432x288 with 1 Axes>"
            ]
          },
          "metadata": {
            "needs_background": "light"
          }
        }
      ]
    },
    {
      "cell_type": "code",
      "metadata": {
        "id": "O2XboMiFbkaa"
      },
      "source": [
        "acc_train = r.history['accuracy'][-1]\n",
        "acc_test = r.history['val_accuracy'][-1]\n",
        "loss_train = r.history['loss'][-1]\n",
        "loss_test = r.history['val_loss'][-1]"
      ],
      "execution_count": 37,
      "outputs": []
    },
    {
      "cell_type": "code",
      "metadata": {
        "id": "euTd_-CYN1v0"
      },
      "source": [
        "df = pd.DataFrame({'N1':N1, 'N2':N2,'R^2':Rsquared,\n",
        "                   'acc train':acc_train,'acc test':acc_test,\n",
        "                   'loss train':loss_train,'loss test':loss_test,\n",
        "                   'Details':Description},\n",
        "                  index= [0])\n"
      ],
      "execution_count": 38,
      "outputs": []
    },
    {
      "cell_type": "code",
      "metadata": {
        "id": "-KukfpGTTKlj",
        "colab": {
          "base_uri": "https://localhost:8080/",
          "height": 80
        },
        "outputId": "47a72502-bcb3-4621-f38a-f3a8e292ec79"
      },
      "source": [
        "df"
      ],
      "execution_count": 39,
      "outputs": [
        {
          "output_type": "execute_result",
          "data": {
            "text/html": [
              "<div>\n",
              "<style scoped>\n",
              "    .dataframe tbody tr th:only-of-type {\n",
              "        vertical-align: middle;\n",
              "    }\n",
              "\n",
              "    .dataframe tbody tr th {\n",
              "        vertical-align: top;\n",
              "    }\n",
              "\n",
              "    .dataframe thead th {\n",
              "        text-align: right;\n",
              "    }\n",
              "</style>\n",
              "<table border=\"1\" class=\"dataframe\">\n",
              "  <thead>\n",
              "    <tr style=\"text-align: right;\">\n",
              "      <th></th>\n",
              "      <th>N1</th>\n",
              "      <th>N2</th>\n",
              "      <th>R^2</th>\n",
              "      <th>acc train</th>\n",
              "      <th>acc test</th>\n",
              "      <th>loss train</th>\n",
              "      <th>loss test</th>\n",
              "      <th>Details</th>\n",
              "    </tr>\n",
              "  </thead>\n",
              "  <tbody>\n",
              "    <tr>\n",
              "      <th>0</th>\n",
              "      <td>20</td>\n",
              "      <td>20</td>\n",
              "      <td>0.921863</td>\n",
              "      <td>0.997085</td>\n",
              "      <td>0.510204</td>\n",
              "      <td>0.003307</td>\n",
              "      <td>7.567057</td>\n",
              "      <td>3 layers of Convolution: 64, 128, 256</td>\n",
              "    </tr>\n",
              "  </tbody>\n",
              "</table>\n",
              "</div>"
            ],
            "text/plain": [
              "   N1  N2  ...  loss test                                 Details\n",
              "0  20  20  ...   7.567057  3 layers of Convolution: 64, 128, 256 \n",
              "\n",
              "[1 rows x 8 columns]"
            ]
          },
          "metadata": {},
          "execution_count": 39
        }
      ]
    },
    {
      "cell_type": "code",
      "metadata": {
        "id": "ZZHa1j4HT9Dq",
        "colab": {
          "base_uri": "https://localhost:8080/",
          "height": 388
        },
        "outputId": "c529bbd9-d9a9-42eb-8868-c1ea18d897db"
      },
      "source": [
        "counts, bins, bars = plt.hist(X,weights=wts)\n",
        "print(bars)\n",
        "print(bins)\n",
        "print(counts)"
      ],
      "execution_count": 40,
      "outputs": [
        {
          "output_type": "stream",
          "name": "stdout",
          "text": [
            "<a list of 2 Lists of Patches objects>\n",
            "[0.71139016 0.89874604 1.08610192 1.2734578  1.46081368 1.64816956\n",
            " 1.83552544 2.02288132 2.2102372  2.39759308 2.58494896]\n",
            "[[ 0.          3.92156863 21.56862745 38.23529412 16.66666667  8.82352941\n",
            "   7.84313725  1.96078431  0.          0.98039216]\n",
            " [10.         14.         18.         26.         28.          4.\n",
            "   0.          0.          0.          0.        ]]\n"
          ]
        },
        {
          "output_type": "display_data",
          "data": {
            "image/png": "[encoded data removed]",
            "text/plain": [
              "<Figure size 432x288 with 1 Axes>"
            ]
          },
          "metadata": {
            "needs_background": "light"
          }
        }
      ]
    },
    {
      "cell_type": "code",
      "metadata": {
        "id": "8o_vDGeWUwIZ",
        "colab": {
          "base_uri": "https://localhost:8080/"
        },
        "outputId": "da285bff-37e2-4389-eaf3-0d855586cedf"
      },
      "source": [
        "print(counts.sum())"
      ],
      "execution_count": 41,
      "outputs": [
        {
          "output_type": "stream",
          "name": "stdout",
          "text": [
            "200.0\n"
          ]
        }
      ]
    },
    {
      "cell_type": "code",
      "metadata": {
        "id": "KcH52-6iJQ8t",
        "colab": {
          "base_uri": "https://localhost:8080/",
          "height": 336
        },
        "outputId": "26f6bd95-4355-4795-b3a9-620b3e13be63"
      },
      "source": [
        "\n",
        "plt.hist([Diam1,Diameter_All])\n",
        "plt.legend(['Image J','CNN'])\n"
      ],
      "execution_count": 42,
      "outputs": [
        {
          "output_type": "stream",
          "name": "stderr",
          "text": [
            "/usr/local/lib/python3.7/dist-packages/numpy/core/_asarray.py:83: VisibleDeprecationWarning: Creating an ndarray from ragged nested sequences (which is a list-or-tuple of lists-or-tuples-or ndarrays with different lengths or shapes) is deprecated. If you meant to do this, you must specify 'dtype=object' when creating the ndarray\n",
            "  return array(a, dtype, copy=False, order=order)\n"
          ]
        },
        {
          "output_type": "execute_result",
          "data": {
            "text/plain": [
              "<matplotlib.legend.Legend at 0x7f92a45a6bd0>"
            ]
          },
          "metadata": {},
          "execution_count": 42
        },
        {
          "output_type": "display_data",
          "data": {
            "image/png": "[encoded data removed]",
            "text/plain": [
              "<Figure size 432x288 with 1 Axes>"
            ]
          },
          "metadata": {
            "needs_background": "light"
          }
        }
      ]
    },
    {
      "cell_type": "code",
      "metadata": {
        "id": "r11AxFK_JIii",
        "colab": {
          "base_uri": "https://localhost:8080/"
        },
        "outputId": "27cc85bc-0656-4f17-c31c-eb6aee13757f"
      },
      "source": [
        "[Diam1,Diameter_All]"
      ],
      "execution_count": 43,
      "outputs": [
        {
          "output_type": "execute_result",
          "data": {
            "text/plain": [
              "[[1.3289030245084366,\n",
              "  1.4388493665910183,\n",
              "  1.3042423209535017,\n",
              "  0.9027033336764101,\n",
              "  1.6778356991700483,\n",
              "  1.1941642642883694,\n",
              "  1.113613629842976,\n",
              "  1.254988970803089,\n",
              "  1.2815923738491737,\n",
              "  2.186553107171316,\n",
              "  1.8807071689325485,\n",
              "  1.2645903954195463,\n",
              "  1.3284238815238665,\n",
              "  1.2875394701698204,\n",
              "  1.1677497815933682,\n",
              "  1.3805939296073044,\n",
              "  1.3902437300372827,\n",
              "  1.2585348599266302,\n",
              "  1.3966398900698307,\n",
              "  1.2988619621707653,\n",
              "  1.3907015741893414,\n",
              "  1.5533154661153457,\n",
              "  1.2463355264843006,\n",
              "  1.2570164179581493,\n",
              "  1.2870449283923413,\n",
              "  1.3488733481786004,\n",
              "  0.9215480325725586,\n",
              "  1.6572198701420842,\n",
              "  1.157345238492556,\n",
              "  1.6281537802488464,\n",
              "  1.3897857350553149,\n",
              "  1.2771138777750963,\n",
              "  0.9991095050455518,\n",
              "  1.165567069812981,\n",
              "  1.875962180228586,\n",
              "  1.2437789380968078,\n",
              "  1.0957485526731296,\n",
              "  1.6667959343039342,\n",
              "  1.3755122549350303,\n",
              "  1.413404699896484,\n",
              "  1.8427506249649406,\n",
              "  0.9501193805081709,\n",
              "  1.1317592420667806,\n",
              "  1.4272992929222168,\n",
              "  1.3389254195014408,\n",
              "  2.0058506827187097,\n",
              "  1.7715912276177528,\n",
              "  1.7053090981329784,\n",
              "  1.273119766733618,\n",
              "  1.2645903954195463,\n",
              "  1.9612385537320356,\n",
              "  1.4716590860639265,\n",
              "  1.5777145844408116,\n",
              "  2.584948960960377,\n",
              "  1.4392917491892008,\n",
              "  1.319287102056625,\n",
              "  1.4237265731938766,\n",
              "  1.8602862904913782,\n",
              "  1.4529388029682806,\n",
              "  1.1984215478959244,\n",
              "  1.6706109906436855,\n",
              "  1.3856569681781365,\n",
              "  1.8008167925806498,\n",
              "  1.5736743355948497,\n",
              "  1.4299729748651446,\n",
              "  2.1055688292639205,\n",
              "  1.4952620641730152,\n",
              "  1.3620242349823046,\n",
              "  1.540557857201846,\n",
              "  1.5226848692236787,\n",
              "  1.293459223084363,\n",
              "  1.4777028859756633,\n",
              "  1.1368105109938904,\n",
              "  1.3086279790944384,\n",
              "  1.269113085619237,\n",
              "  1.5322707725763225,\n",
              "  1.3332075624036517,\n",
              "  1.507558485549488,\n",
              "  1.4686278591874,\n",
              "  1.341300666036808,\n",
              "  1.319769562157615,\n",
              "  1.6774562271083886,\n",
              "  1.1474012764748687,\n",
              "  1.319287102056625,\n",
              "  1.5728650404343092,\n",
              "  1.1328836926591555,\n",
              "  1.2761165219980004,\n",
              "  1.417901703622935,\n",
              "  1.355934328276106,\n",
              "  1.546744033302657,\n",
              "  1.3662244224803437,\n",
              "  1.6560670213972442,\n",
              "  1.5113542745679724,\n",
              "  2.0023564433863985,\n",
              "  1.5483895061438226,\n",
              "  1.467760644550703,\n",
              "  1.2168720518308382,\n",
              "  1.2850648580991957,\n",
              "  1.937726352564777,\n",
              "  1.1780624362746346,\n",
              "  1.355934328276106,\n",
              "  1.3929885377045959],\n",
              " [0.7619769059790192,\n",
              "  1.4287778577193873,\n",
              "  1.3307233041216784,\n",
              "  1.1406613160316459,\n",
              "  1.391051351387613,\n",
              "  1.5817446144503136,\n",
              "  1.2097642545549692,\n",
              "  1.2258235723674462,\n",
              "  1.5250904059920267,\n",
              "  1.300347498957053,\n",
              "  1.3699247827188596,\n",
              "  1.128574674289959,\n",
              "  1.2886499823938515,\n",
              "  0.995512755932789,\n",
              "  1.1504384611960339,\n",
              "  1.7181486997946478,\n",
              "  1.5513972518323593,\n",
              "  1.5640634600635148,\n",
              "  0.7113901595641053,\n",
              "  1.5056984407876912,\n",
              "  0.891416816026254,\n",
              "  1.6064229726296286,\n",
              "  1.5520122841008464,\n",
              "  1.0732161515115186,\n",
              "  1.4672390990298814,\n",
              "  1.4376799865731829,\n",
              "  1.6425230822008792,\n",
              "  0.9336942716226224,\n",
              "  1.094073676139681,\n",
              "  1.4411542638079289,\n",
              "  1.4873678020978742,\n",
              "  1.548056308107394,\n",
              "  1.0073537741008887,\n",
              "  0.9755200105125168,\n",
              "  1.3310383893152864,\n",
              "  1.767224546391867,\n",
              "  1.1197394706529056,\n",
              "  1.4129917729991484,\n",
              "  1.093352612019035,\n",
              "  0.9593679482706046,\n",
              "  1.4320667901022832,\n",
              "  1.4545191952448477,\n",
              "  1.606485337401383,\n",
              "  1.5934754005445195,\n",
              "  1.0022630146026297,\n",
              "  1.4777405824778564,\n",
              "  0.8713178794405928,\n",
              "  1.3501557426909685,\n",
              "  0.8646864689648678,\n",
              "  1.088130739593666]]"
            ]
          },
          "metadata": {},
          "execution_count": 43
        }
      ]
    },
    {
      "cell_type": "code",
      "metadata": {
        "id": "4xS7NSM92s_8",
        "colab": {
          "base_uri": "https://localhost:8080/",
          "height": 282
        },
        "outputId": "60cf0e83-c94b-4019-a177-966239bab4ad"
      },
      "source": [
        " bins_list = [0.8, 1.0, 1.2, 1.4,1.6, 1.8,2.0]\n",
        " wt1 = np.ones(len(Diam1)) / len(Diam1)*100\n",
        " wt2 = np.ones(len(Diameter_All)) / len(Diameter_All)*100\n",
        " X = pd.DataFrame([Diam1,Diameter_All])\n",
        " wts = pd.DataFrame([wt1,wt2])\n",
        "plt.hist(X,weights=wts,bins = bins_list)\n",
        "plt.legend(['Image J','CNN'])"
      ],
      "execution_count": 44,
      "outputs": [
        {
          "output_type": "execute_result",
          "data": {
            "text/plain": [
              "<matplotlib.legend.Legend at 0x7f92a0ec8990>"
            ]
          },
          "metadata": {},
          "execution_count": 44
        },
        {
          "output_type": "display_data",
          "data": {
            "image/png": "[encoded data removed]",
            "text/plain": [
              "<Figure size 432x288 with 1 Axes>"
            ]
          },
          "metadata": {
            "needs_background": "light"
          }
        }
      ]
    },
    {
      "cell_type": "code",
      "metadata": {
        "id": "jD80rFZs37Wm",
        "colab": {
          "base_uri": "https://localhost:8080/",
          "height": 265
        },
        "outputId": "6feb1b28-ec3e-4f8c-c0e4-130690fcfb29"
      },
      "source": [
        "yy = plt.hist(X,weights=wts,bins = bins_list)"
      ],
      "execution_count": 45,
      "outputs": [
        {
          "output_type": "display_data",
          "data": {
            "image/png": "[encoded data removed]",
            "text/plain": [
              "<Figure size 432x288 with 1 Axes>"
            ]
          },
          "metadata": {
            "needs_background": "light"
          }
        }
      ]
    },
    {
      "cell_type": "code",
      "metadata": {
        "id": "edcwJoJP4GBs",
        "colab": {
          "base_uri": "https://localhost:8080/"
        },
        "outputId": "443a8d6f-31f5-40ca-b8cf-24faf9e08c10"
      },
      "source": [
        "yy[0][0]"
      ],
      "execution_count": 46,
      "outputs": [
        {
          "output_type": "execute_result",
          "data": {
            "text/plain": [
              "array([ 3.92156863, 11.76470588, 40.19607843, 23.52941176,  8.82352941,\n",
              "        6.8627451 ])"
            ]
          },
          "metadata": {},
          "execution_count": 46
        }
      ]
    },
    {
      "cell_type": "code",
      "metadata": {
        "id": "_0zY-NBY6Rgx",
        "colab": {
          "base_uri": "https://localhost:8080/"
        },
        "outputId": "6f77cd49-56b0-4209-f234-759e6dd5ec66"
      },
      "source": [
        "bins_list"
      ],
      "execution_count": 47,
      "outputs": [
        {
          "output_type": "execute_result",
          "data": {
            "text/plain": [
              "[0.8, 1.0, 1.2, 1.4, 1.6, 1.8, 2.0]"
            ]
          },
          "metadata": {},
          "execution_count": 47
        }
      ]
    },
    {
      "cell_type": "code",
      "metadata": {
        "id": "9ujCjAa85RG5"
      },
      "source": [
        "k =0\n",
        "for kk in yy[0][0]:\n",
        "  name = str(bins_list[k])\n",
        "  df[name] = yy[0][1][k]\n",
        "  k = k+1"
      ],
      "execution_count": 48,
      "outputs": []
    },
    {
      "cell_type": "code",
      "metadata": {
        "id": "iMQRVn4D69RC",
        "colab": {
          "base_uri": "https://localhost:8080/",
          "height": 80
        },
        "outputId": "4b11b2f8-0800-4092-f812-fca8a73c421e"
      },
      "source": [
        "df"
      ],
      "execution_count": 49,
      "outputs": [
        {
          "output_type": "execute_result",
          "data": {
            "text/html": [
              "<div>\n",
              "<style scoped>\n",
              "    .dataframe tbody tr th:only-of-type {\n",
              "        vertical-align: middle;\n",
              "    }\n",
              "\n",
              "    .dataframe tbody tr th {\n",
              "        vertical-align: top;\n",
              "    }\n",
              "\n",
              "    .dataframe thead th {\n",
              "        text-align: right;\n",
              "    }\n",
              "</style>\n",
              "<table border=\"1\" class=\"dataframe\">\n",
              "  <thead>\n",
              "    <tr style=\"text-align: right;\">\n",
              "      <th></th>\n",
              "      <th>N1</th>\n",
              "      <th>N2</th>\n",
              "      <th>R^2</th>\n",
              "      <th>acc train</th>\n",
              "      <th>acc test</th>\n",
              "      <th>loss train</th>\n",
              "      <th>loss test</th>\n",
              "      <th>Details</th>\n",
              "      <th>0.8</th>\n",
              "      <th>1.0</th>\n",
              "      <th>1.2</th>\n",
              "      <th>1.4</th>\n",
              "      <th>1.6</th>\n",
              "      <th>1.8</th>\n",
              "    </tr>\n",
              "  </thead>\n",
              "  <tbody>\n",
              "    <tr>\n",
              "      <th>0</th>\n",
              "      <td>20</td>\n",
              "      <td>20</td>\n",
              "      <td>0.921863</td>\n",
              "      <td>0.997085</td>\n",
              "      <td>0.510204</td>\n",
              "      <td>0.003307</td>\n",
              "      <td>7.567057</td>\n",
              "      <td>3 layers of Convolution: 64, 128, 256</td>\n",
              "      <td>14.0</td>\n",
              "      <td>20.0</td>\n",
              "      <td>18.0</td>\n",
              "      <td>34.0</td>\n",
              "      <td>10.0</td>\n",
              "      <td>0.0</td>\n",
              "    </tr>\n",
              "  </tbody>\n",
              "</table>\n",
              "</div>"
            ],
            "text/plain": [
              "   N1  N2       R^2  acc train  acc test  ...   1.0   1.2   1.4   1.6  1.8\n",
              "0  20  20  0.921863   0.997085  0.510204  ...  20.0  18.0  34.0  10.0  0.0\n",
              "\n",
              "[1 rows x 14 columns]"
            ]
          },
          "metadata": {},
          "execution_count": 49
        }
      ]
    },
    {
      "cell_type": "code",
      "metadata": {
        "id": "JMWpAwMq5Hw2",
        "colab": {
          "base_uri": "https://localhost:8080/",
          "height": 17
        },
        "outputId": "b333b63f-228f-43a9-b9f0-8b2d1df26a45"
      },
      "source": [
        "Arq = \"output.xlsx\"\n",
        "df.to_excel(Arq)\n",
        "files.download(Arq)"
      ],
      "execution_count": 50,
      "outputs": [
        {
          "output_type": "display_data",
          "data": {
            "application/javascript": [
              "\n",
              "    async function download(id, filename, size) {\n",
              "      if (!google.colab.kernel.accessAllowed) {\n",
              "        return;\n",
              "      }\n",
              "      const div = document.createElement('div');\n",
              "      const label = document.createElement('label');\n",
              "      label.textContent = `Downloading \"${filename}\": `;\n",
              "      div.appendChild(label);\n",
              "      const progress = document.createElement('progress');\n",
              "      progress.max = size;\n",
              "      div.appendChild(progress);\n",
              "      document.body.appendChild(div);\n",
              "\n",
              "      const buffers = [];\n",
              "      let downloaded = 0;\n",
              "\n",
              "      const channel = await google.colab.kernel.comms.open(id);\n",
              "      // Send a message to notify the kernel that we're ready.\n",
              "      channel.send({})\n",
              "\n",
              "      for await (const message of channel.messages) {\n",
              "        // Send a message to notify the kernel that we're ready.\n",
              "        channel.send({})\n",
              "        if (message.buffers) {\n",
              "          for (const buffer of message.buffers) {\n",
              "            buffers.push(buffer);\n",
              "            downloaded += buffer.byteLength;\n",
              "            progress.value = downloaded;\n",
              "          }\n",
              "        }\n",
              "      }\n",
              "      const blob = new Blob(buffers, {type: 'application/binary'});\n",
              "      const a = document.createElement('a');\n",
              "      a.href = window.URL.createObjectURL(blob);\n",
              "      a.download = filename;\n",
              "      div.appendChild(a);\n",
              "      a.click();\n",
              "      div.remove();\n",
              "    }\n",
              "  "
            ],
            "text/plain": [
              "<IPython.core.display.Javascript object>"
            ]
          },
          "metadata": {}
        },
        {
          "output_type": "display_data",
          "data": {
            "application/javascript": [
              "download(\"download_3375a2af-cbb7-4756-8d7b-1121e94ee3e6\", \"output.xlsx\", 5243)"
            ],
            "text/plain": [
              "<IPython.core.display.Javascript object>"
            ]
          },
          "metadata": {}
        }
      ]
    }
  ]
}