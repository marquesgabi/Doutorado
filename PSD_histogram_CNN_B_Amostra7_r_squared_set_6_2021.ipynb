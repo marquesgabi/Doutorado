{
  "nbformat": 4,
  "nbformat_minor": 0,
  "metadata": {
    "colab": {
      "name": "PSD_histogram_CNN_B_Amostra7_r_squared_set_6_2021.ipynb",
      "provenance": [],
      "collapsed_sections": [],
      "include_colab_link": true
    },
    "kernelspec": {
      "name": "python3",
      "display_name": "Python 3"
    }
  },
  "cells": [
    {
      "cell_type": "markdown",
      "metadata": {
        "id": "view-in-github",
        "colab_type": "text"
      },
      "source": [
        "<a href=\"https://colab.research.google.com/github/marquesgabi/Doutorado/blob/master/PSD_histogram_CNN_B_Amostra7_r_squared_set_6_2021.ipynb\" target=\"_parent\"><img src=\"https://colab.research.google.com/assets/colab-badge.svg\" alt=\"Open In Colab\"/></a>"
      ]
    },
    {
      "cell_type": "code",
      "metadata": {
        "id": "Sog7Z9pyhUD_"
      },
      "source": [
        "import matplotlib.pyplot as plt\n",
        "import numpy as np\n",
        "import cv2\n",
        "import zipfile\n",
        "#import random\n",
        "from random import randint\n",
        "from PIL import Image\n",
        "import re\n",
        "from sklearn.model_selection import train_test_split\n",
        "#import scikit-image\n",
        "import skimage\n",
        "import sklearn\n",
        "import pandas as pd\n",
        "from keras.models import Sequential\n",
        "from keras.layers import Dense, Activation, Conv2D, MaxPooling2D, Flatten, Dropout, BatchNormalization\n",
        "from sklearn.metrics import r2_score\n",
        "from google.colab import files"
      ],
      "execution_count": 1,
      "outputs": []
    },
    {
      "cell_type": "code",
      "metadata": {
        "id": "uZEvJvfoibE4",
        "colab": {
          "base_uri": "https://localhost:8080/"
        },
        "outputId": "b17c1585-ec12-40a1-b094-b84f17126878"
      },
      "source": [
        "!pip install mahotas"
      ],
      "execution_count": 2,
      "outputs": [
        {
          "output_type": "stream",
          "name": "stdout",
          "text": [
            "Requirement already satisfied: mahotas in /usr/local/lib/python3.7/dist-packages (1.4.11)\n",
            "Requirement already satisfied: numpy in /usr/local/lib/python3.7/dist-packages (from mahotas) (1.19.5)\n"
          ]
        }
      ]
    },
    {
      "cell_type": "code",
      "metadata": {
        "id": "nf_a6PJ1iUnT"
      },
      "source": [
        "import mahotas.features.texture as mht\n",
        "import mahotas.features"
      ],
      "execution_count": 3,
      "outputs": []
    },
    {
      "cell_type": "code",
      "metadata": {
        "id": "_VcTdaNVh9EE",
        "colab": {
          "base_uri": "https://localhost:8080/"
        },
        "outputId": "7c3ff174-6ed8-404a-af7f-36937e6e38a1"
      },
      "source": [
        "!git clone https://github.com/ucfilho/marquesgabi_fev_2020 #clonar do Github\n",
        "%cd marquesgabi_fev_2020\n",
        "import Go2BlackWhite\n",
        "import Go2Mahotas"
      ],
      "execution_count": 4,
      "outputs": [
        {
          "output_type": "stream",
          "name": "stdout",
          "text": [
            "fatal: destination path 'marquesgabi_fev_2020' already exists and is not an empty directory.\n",
            "/content/marquesgabi_fev_2020\n"
          ]
        }
      ]
    },
    {
      "cell_type": "code",
      "metadata": {
        "id": "1v7SRrc8mH2N",
        "colab": {
          "base_uri": "https://localhost:8080/"
        },
        "outputId": "7f234366-7002-491a-9501-b6cbcb17d87b"
      },
      "source": [
        "!git clone https://github.com/marquesgabi/Doutorado\n",
        "%cd Doutorado\n",
        "\n",
        "Transfere='Fotos_Grandes_3cdAmostra.zip' \n",
        "file_name = zipfile.ZipFile(Transfere, 'r')\n",
        "file_name.extractall()"
      ],
      "execution_count": 5,
      "outputs": [
        {
          "output_type": "stream",
          "name": "stdout",
          "text": [
            "fatal: destination path 'Doutorado' already exists and is not an empty directory.\n",
            "/content/marquesgabi_fev_2020/Doutorado\n"
          ]
        }
      ]
    },
    {
      "cell_type": "code",
      "metadata": {
        "colab": {
          "base_uri": "https://localhost:8080/"
        },
        "id": "NqIYzUcnrdMp",
        "outputId": "08a6182b-e9bb-4693-f1c5-36ceaad9cb9d"
      },
      "source": [
        "labels =[]\n",
        "with zipfile.ZipFile(Transfere, \"r\") as f:\n",
        "  for f in f.namelist():\n",
        "    labels.append(f)\n",
        "print(labels)"
      ],
      "execution_count": 6,
      "outputs": [
        {
          "output_type": "stream",
          "name": "stdout",
          "text": [
            "['Fotos_Grandes-3cdAmostra/Q6-8-4.jpg', 'Fotos_Grandes-3cdAmostra/Q6-5-3.jpg', 'Fotos_Grandes-3cdAmostra/Q6-7-4.jpg', 'Fotos_Grandes-3cdAmostra/Q6-8-2.jpg', 'Fotos_Grandes-3cdAmostra/Q6-3-2.jpg', 'Fotos_Grandes-3cdAmostra/Q6-7-2.jpg', 'Fotos_Grandes-3cdAmostra/Q6-4-4.jpg', 'Fotos_Grandes-3cdAmostra/Q6-9-5.jpg', 'Fotos_Grandes-3cdAmostra/Q6-2-5.jpg', 'Fotos_Grandes-3cdAmostra/Q6-8-3.jpg', 'Fotos_Grandes-3cdAmostra/Q6-9-3.jpg', 'Fotos_Grandes-3cdAmostra/Q6-1-2.jpg', 'Fotos_Grandes-3cdAmostra/Q6-6-3.jpg', 'Fotos_Grandes-3cdAmostra/Q6-3-4.jpg', 'Fotos_Grandes-3cdAmostra/Q6-1-4.jpg', 'Fotos_Grandes-3cdAmostra/Q6-6-2.jpg', 'Fotos_Grandes-3cdAmostra/Q6-4-3.jpg', 'Fotos_Grandes-3cdAmostra/Q6-7-3.jpg', 'Fotos_Grandes-3cdAmostra/Q6-2-2.jpg', 'Fotos_Grandes-3cdAmostra/Q6-9-2.jpg', 'Fotos_Grandes-3cdAmostra/Q6-1-5.jpg', 'Fotos_Grandes-3cdAmostra/Q6-6-5.jpg', 'Fotos_Grandes-3cdAmostra/Q6-2-1.jpg', 'Fotos_Grandes-3cdAmostra/Q6-5-2.jpg', 'Fotos_Grandes-3cdAmostra/Q6-4-1.jpg', 'Fotos_Grandes-3cdAmostra/Q6-3-1.jpg', 'Fotos_Grandes-3cdAmostra/Q6-5-4.jpg']\n"
          ]
        }
      ]
    },
    {
      "cell_type": "code",
      "metadata": {
        "id": "0kA4IWSmasoD"
      },
      "source": [
        "Size=1200 # tamanho da foto\n",
        "ww,img_name=Go2BlackWhite.BlackWhite(Transfere,Size) #Pegamos a primeira foto Grande\n",
        "img=ww[2] \n",
        "# this is the big image we want to segment \n",
        "# ww[0], change it if you want to segment another picture"
      ],
      "execution_count": 7,
      "outputs": []
    },
    {
      "cell_type": "code",
      "metadata": {
        "id": "tHgqAnaFyCjp",
        "colab": {
          "base_uri": "https://localhost:8080/"
        },
        "outputId": "0415f403-3d67-48dd-c4bd-22859986f0aa"
      },
      "source": [
        "!git clone https://github.com/ucfilho/MarquesGabi_Routines\n",
        "%cd MarquesGabi_Routines"
      ],
      "execution_count": 8,
      "outputs": [
        {
          "output_type": "stream",
          "name": "stdout",
          "text": [
            "fatal: destination path 'MarquesGabi_Routines' already exists and is not an empty directory.\n",
            "/content/marquesgabi_fev_2020/Doutorado/MarquesGabi_Routines\n"
          ]
        }
      ]
    },
    {
      "cell_type": "code",
      "metadata": {
        "id": "qc4rFvzkyWCi"
      },
      "source": [
        "from segment_filter_not_conclude import Segmenta  # got image provided segmented"
      ],
      "execution_count": 9,
      "outputs": []
    },
    {
      "cell_type": "code",
      "metadata": {
        "id": "SnTtH3KDP863"
      },
      "source": [
        "df=Segmenta(img)\n",
        "Img_Size = 28"
      ],
      "execution_count": 10,
      "outputs": []
    },
    {
      "cell_type": "code",
      "metadata": {
        "id": "YN5MN5a_v4np",
        "colab": {
          "base_uri": "https://localhost:8080/"
        },
        "outputId": "19a339f4-419f-4319-8c07-230582ce5c0b"
      },
      "source": [
        "print(df)"
      ],
      "execution_count": 11,
      "outputs": [
        {
          "output_type": "stream",
          "name": "stdout",
          "text": [
            "    Width           0           1  ...         781         782         783\n",
            "0     197  142.933273  125.461037  ...  107.405373  107.725250  107.984207\n",
            "1     115   64.041054   60.992886  ...    0.000000    0.000000    0.000000\n",
            "2     134  119.442635  119.453339  ...  150.950546  151.625534  155.139465\n",
            "3     185  125.610046  132.190491  ...  159.036346  169.847473  137.066101\n",
            "4     190  120.968643  111.820938  ...  119.356560  118.733749  119.834007\n",
            "5     177   82.100990   88.037460  ...  184.779358  153.431641  154.724167\n",
            "6     179  117.431641  120.164505  ...   69.363480   69.588120   70.300331\n",
            "7     155   91.991768   86.322166  ...    8.151217    8.350552    8.048616\n",
            "8     105   83.591118  105.946671  ...   12.822224   12.586668   12.524446\n",
            "9     172   89.174156  105.926437  ...  105.029213   98.713898   21.082748\n",
            "10    110   81.501480   87.014870  ...   62.378513   60.867104   60.199997\n",
            "11    118   92.457047   90.088768  ...   62.712730   65.243317   66.164886\n",
            "12    139  117.849228  112.947411  ...   89.039597   86.832245   83.843475\n",
            "13    197    1.145044    0.873766  ...  125.718140  120.505363  116.804565\n",
            "14    142   60.910538   68.518944  ...   37.235073   58.211067   62.428486\n",
            "15    167   94.911659   95.266136  ...    5.887376    5.746818    4.937610\n",
            "16    195   95.862259   97.254128  ...  122.961884  120.289696  119.809319\n",
            "17    159  130.153702  131.175110  ...  115.623474   76.917564   77.363510\n",
            "18    117  100.093430  104.299156  ...  162.592087  162.685883  164.174088\n",
            "19    134  140.393402  142.161285  ...   79.337723   79.038315   77.609940\n",
            "20    190  108.730400  115.525528  ...   93.648308    0.306039    0.103934\n",
            "21    128  114.404297   99.183594  ...   10.002930   10.985352   11.365234\n",
            "22    163  136.267334  134.521851  ...    8.897625    8.211563    8.770108\n",
            "23    149   45.379761   72.611595  ...  124.923035  127.172913  130.824829\n",
            "24    190  116.677330  117.159546  ...  109.843765  111.876564  106.287857\n",
            "25    177    0.861374    0.961282  ...  110.925522  119.269775  129.037201\n",
            "26    124  145.123825  145.550446  ...  115.671173  115.314247  114.303848\n",
            "27    115   72.210579   79.771263  ...   97.399536   91.164230   88.104416\n",
            "28    102   75.812775   77.619003  ...    8.314879    7.740870    6.739716\n",
            "29    127    0.828136    0.251658  ...   76.462402   71.368401   66.681824\n",
            "30    198  248.198730  234.533813  ...  106.329048  113.157127  107.591972\n",
            "31    124   58.104053   63.647236  ...  140.714859  144.263260  158.002075\n",
            "32    100   91.790398   91.521599  ...   56.508797   59.196800   60.156796\n",
            "33    191   98.832687  102.140877  ...   63.197582   63.418472   65.216614\n",
            "34    105   71.191116   73.084457  ...  125.844467  126.848907  133.586670\n",
            "35    108  147.205750  126.945129  ...  112.866943  106.089165   85.572014\n",
            "36    174   53.943459   70.495445  ...  143.899338  159.460449  201.126709\n",
            "37    183   99.045685   89.046646  ...    6.197109    7.459733    7.363522\n",
            "38    200   97.968803  108.453613  ...   71.396004   67.216003   67.198402\n",
            "39    163   48.576347   48.029396  ...   49.250477   37.677219    3.762806\n",
            "40    143  192.292130  193.748337  ...  108.874077  108.890945  110.327690\n",
            "41    164   99.599640   95.888161  ...   55.578228   61.075550   73.123138\n",
            "42    151   96.429459   93.521866  ...  141.792999  144.380295  143.637436\n",
            "43    121  160.702545  172.983139  ...  120.712311  128.183258  133.049042\n",
            "44    128  140.115234  138.535156  ...   70.027344   85.175781  114.879883\n",
            "45    192   83.762154   92.384109  ...   53.485241   55.720478   61.172306\n",
            "46    117  224.978088  168.167084  ...  198.608154  193.708679  193.010452\n",
            "47    187  155.292572  174.766235  ...  124.200470  126.341438  129.849304\n",
            "48    110   97.188759   95.858513  ...   12.380497   11.822148   11.353388\n",
            "49    186  103.695236  102.343857  ...    7.803330    7.868425    8.031219\n",
            "\n",
            "[50 rows x 785 columns]\n"
          ]
        }
      ]
    },
    {
      "cell_type": "code",
      "metadata": {
        "id": "xzpQ1Pz0fX5L",
        "colab": {
          "base_uri": "https://localhost:8080/",
          "height": 52
        },
        "outputId": "c9ddfef3-2205-4875-dee3-fa0abf75a1aa"
      },
      "source": [
        "'''\n",
        "!git clone https://github.com/ucfilho/MarquesGabi_Routines\n",
        "%cd MarquesGabi_Routines\n",
        "# filename = 'model_ANN.pkl'\n",
        "filename = 'model_ANN_new.pkl'\n",
        "model = joblib.load(filename)\n",
        "'''"
      ],
      "execution_count": 12,
      "outputs": [
        {
          "output_type": "execute_result",
          "data": {
            "application/vnd.google.colaboratory.intrinsic+json": {
              "type": "string"
            },
            "text/plain": [
              "\"\\n!git clone https://github.com/ucfilho/MarquesGabi_Routines\\n%cd MarquesGabi_Routines\\n# filename = 'model_ANN.pkl'\\nfilename = 'model_ANN_new.pkl'\\nmodel = joblib.load(filename)\\n\""
            ]
          },
          "metadata": {},
          "execution_count": 12
        }
      ]
    },
    {
      "cell_type": "code",
      "metadata": {
        "colab": {
          "base_uri": "https://localhost:8080/"
        },
        "id": "xR2emP4rNjQy",
        "outputId": "0095f16c-e1c3-4eb1-8bec-12df446c950c"
      },
      "source": [
        "!git clone https://github.com/ucfilho/MarquesGabi_Routines\n",
        "%cd MarquesGabi_Routines"
      ],
      "execution_count": 13,
      "outputs": [
        {
          "output_type": "stream",
          "name": "stdout",
          "text": [
            "fatal: destination path 'MarquesGabi_Routines' already exists and is not an empty directory.\n",
            "/content/marquesgabi_fev_2020/Doutorado/MarquesGabi_Routines/MarquesGabi_Routines\n"
          ]
        }
      ]
    },
    {
      "cell_type": "code",
      "metadata": {
        "id": "O6cMHOrlNliO"
      },
      "source": [
        "# leitura dos dados\n",
        "df=pd.read_excel(\"FotosTreinoRede.xlsx\")\n",
        "y = df['y']\n",
        "df.drop(['Unnamed: 0','y'], axis='columns', inplace=True)"
      ],
      "execution_count": 14,
      "outputs": []
    },
    {
      "cell_type": "code",
      "metadata": {
        "id": "zQO8d2QbNqj0"
      },
      "source": [
        "X =np.array(df.copy())/255.0 \n",
        "\n",
        "\n",
        "X_train, X_test, Y_train, Y_test = train_test_split(X, y, test_size=0.30, shuffle=True, random_state=42)"
      ],
      "execution_count": 15,
      "outputs": []
    },
    {
      "cell_type": "code",
      "metadata": {
        "id": "gIFPGE_-vx3T"
      },
      "source": [
        ""
      ],
      "execution_count": 15,
      "outputs": []
    },
    {
      "cell_type": "code",
      "metadata": {
        "id": "23iKv6bDPWQl"
      },
      "source": [
        "# helper\n",
        "def ynindicator(Y):\n",
        "  N = len(Y)\n",
        "  K = len(set(Y))\n",
        "  I = np.zeros((N, K))\n",
        "  I[np.arange(N), Y] = 1\n",
        "  return I\n",
        "\n",
        "def yback(Y_test):\n",
        "  nrow, ncol = Y_test.shape\n",
        "  y_class = np.zeros(nrow,dtype=int)\n",
        "  y_resp = Y_test\n",
        "  for k in range(nrow):\n",
        "    for kk in range(K):\n",
        "      if(y_resp[k,kk] == 1):\n",
        "        y_class[k] = kk\n",
        "  Y_test = y_class.copy()\n",
        "  return Y_test\n",
        "\n",
        "X_train = np.array(X_train)\n",
        "Y_train = np.array(Y_train)\n",
        "K = len(set(Y_train))\n",
        "\n",
        "X_train = X_train.reshape(-1, Img_Size, Img_Size, 1) / 255.0\n",
        "Y_train = Y_train.astype(np.int32)\n",
        "Y_train = ynindicator(Y_train)\n",
        "\n",
        "X_test = np.array(X_test )\n",
        "Y_test = np.array(Y_test)\n",
        "X_test = X_test.reshape(-1, Img_Size, Img_Size, 1) / 255.0\n",
        "Y_test = Y_test.astype(np.int32)\n",
        "Y_test = ynindicator(Y_test)\n",
        "\n",
        "# the model will be a sequence of layers\n",
        "\n",
        "Description = '3 layers of Convolution: 64, 128, 256 '\n",
        "N1 = 20\n",
        "N2 = 20\n",
        "\n",
        "# make the CNN\n",
        "model = Sequential()\n",
        "model.add(Conv2D(input_shape=(Img_Size, Img_Size, 1), filters=64, kernel_size=(3, 3)))\n",
        "model.add(BatchNormalization())\n",
        "model.add(Activation('relu'))\n",
        "model.add(MaxPooling2D())\n",
        "\n",
        "model.add(Conv2D(filters=128, kernel_size=(3, 3)))\n",
        "model.add(BatchNormalization())\n",
        "model.add(Activation('relu'))\n",
        "model.add(MaxPooling2D())\n",
        "\n",
        "model.add(Conv2D(filters=256, kernel_size=(3, 3)))\n",
        "model.add(BatchNormalization())\n",
        "model.add(Activation('relu'))\n",
        "model.add(MaxPooling2D())\n",
        "\n",
        "model.add(Flatten())\n",
        "model.add(Dense(units=N1))\n",
        "model.add(Dropout(0.2))\n",
        "model.add(Dense(units=N2))\n",
        "model.add(Activation('relu'))\n",
        "#model.add(Dropout(0.2))\n",
        "model.add(Dense(units=K))\n",
        "model.add(Activation('softmax'))\n",
        "\n",
        "\n",
        "# list of losses: https://keras.io/losses/\n",
        "# list of optimizers: https://keras.io/optimizers/\n",
        "# list of metrics: https://keras.io/metrics/\n",
        "model.compile(\n",
        "  loss='categorical_crossentropy',\n",
        "  optimizer='adam',\n",
        "  metrics=['accuracy']\n",
        ")"
      ],
      "execution_count": 16,
      "outputs": []
    },
    {
      "cell_type": "code",
      "metadata": {
        "colab": {
          "base_uri": "https://localhost:8080/"
        },
        "id": "FpbPQ1FSRG6A",
        "outputId": "407b62de-e2df-431c-cb0d-31edca0b8185"
      },
      "source": [
        "\n",
        "# training the model\n",
        "r = model.fit(X_train, Y_train, validation_data=(X_test,Y_test), \n",
        "              epochs=200, batch_size=32)"
      ],
      "execution_count": 17,
      "outputs": [
        {
          "output_type": "stream",
          "name": "stdout",
          "text": [
            "Epoch 1/200\n",
            "11/11 [==============================] - 2s 137ms/step - loss: 0.6268 - accuracy: 0.7143 - val_loss: 0.6929 - val_accuracy: 0.5102\n",
            "Epoch 2/200\n",
            "11/11 [==============================] - 1s 116ms/step - loss: 0.3335 - accuracy: 0.8571 - val_loss: 0.6929 - val_accuracy: 0.5102\n",
            "Epoch 3/200\n",
            "11/11 [==============================] - 1s 114ms/step - loss: 0.2064 - accuracy: 0.9096 - val_loss: 0.6929 - val_accuracy: 0.5102\n",
            "Epoch 4/200\n",
            "11/11 [==============================] - 1s 114ms/step - loss: 0.1550 - accuracy: 0.9563 - val_loss: 0.6933 - val_accuracy: 0.4898\n",
            "Epoch 5/200\n",
            "11/11 [==============================] - 1s 116ms/step - loss: 0.1063 - accuracy: 0.9621 - val_loss: 0.6930 - val_accuracy: 0.4898\n",
            "Epoch 6/200\n",
            "11/11 [==============================] - 1s 113ms/step - loss: 0.0904 - accuracy: 0.9650 - val_loss: 0.6927 - val_accuracy: 0.5102\n",
            "Epoch 7/200\n",
            "11/11 [==============================] - 1s 116ms/step - loss: 0.0558 - accuracy: 0.9796 - val_loss: 0.6924 - val_accuracy: 0.5102\n",
            "Epoch 8/200\n",
            "11/11 [==============================] - 1s 115ms/step - loss: 0.0357 - accuracy: 0.9913 - val_loss: 0.6923 - val_accuracy: 0.5102\n",
            "Epoch 9/200\n",
            "11/11 [==============================] - 1s 114ms/step - loss: 0.0227 - accuracy: 0.9942 - val_loss: 0.6922 - val_accuracy: 0.5102\n",
            "Epoch 10/200\n",
            "11/11 [==============================] - 1s 116ms/step - loss: 0.0320 - accuracy: 0.9883 - val_loss: 0.6921 - val_accuracy: 0.5102\n",
            "Epoch 11/200\n",
            "11/11 [==============================] - 1s 114ms/step - loss: 0.0201 - accuracy: 0.9942 - val_loss: 0.6922 - val_accuracy: 0.5102\n",
            "Epoch 12/200\n",
            "11/11 [==============================] - 1s 115ms/step - loss: 0.0228 - accuracy: 0.9913 - val_loss: 0.6919 - val_accuracy: 0.5102\n",
            "Epoch 13/200\n",
            "11/11 [==============================] - 1s 117ms/step - loss: 0.0218 - accuracy: 0.9971 - val_loss: 0.6919 - val_accuracy: 0.5102\n",
            "Epoch 14/200\n",
            "11/11 [==============================] - 1s 115ms/step - loss: 0.0186 - accuracy: 0.9971 - val_loss: 0.6948 - val_accuracy: 0.5102\n",
            "Epoch 15/200\n",
            "11/11 [==============================] - 1s 114ms/step - loss: 0.0107 - accuracy: 0.9971 - val_loss: 0.7028 - val_accuracy: 0.5102\n",
            "Epoch 16/200\n",
            "11/11 [==============================] - 1s 113ms/step - loss: 0.0054 - accuracy: 1.0000 - val_loss: 0.7003 - val_accuracy: 0.5102\n",
            "Epoch 17/200\n",
            "11/11 [==============================] - 1s 115ms/step - loss: 0.0052 - accuracy: 1.0000 - val_loss: 0.7029 - val_accuracy: 0.5102\n",
            "Epoch 18/200\n",
            "11/11 [==============================] - 1s 117ms/step - loss: 0.0057 - accuracy: 1.0000 - val_loss: 0.7084 - val_accuracy: 0.5102\n",
            "Epoch 19/200\n",
            "11/11 [==============================] - 1s 114ms/step - loss: 0.0071 - accuracy: 0.9971 - val_loss: 0.6987 - val_accuracy: 0.5102\n",
            "Epoch 20/200\n",
            "11/11 [==============================] - 1s 116ms/step - loss: 0.0045 - accuracy: 1.0000 - val_loss: 0.6951 - val_accuracy: 0.5102\n",
            "Epoch 21/200\n",
            "11/11 [==============================] - 1s 116ms/step - loss: 0.0048 - accuracy: 1.0000 - val_loss: 0.6941 - val_accuracy: 0.5102\n",
            "Epoch 22/200\n",
            "11/11 [==============================] - 1s 116ms/step - loss: 0.0022 - accuracy: 1.0000 - val_loss: 0.6912 - val_accuracy: 0.5102\n",
            "Epoch 23/200\n",
            "11/11 [==============================] - 1s 116ms/step - loss: 0.0022 - accuracy: 1.0000 - val_loss: 0.6904 - val_accuracy: 0.5102\n",
            "Epoch 24/200\n",
            "11/11 [==============================] - 1s 114ms/step - loss: 0.0016 - accuracy: 1.0000 - val_loss: 0.6885 - val_accuracy: 0.5102\n",
            "Epoch 25/200\n",
            "11/11 [==============================] - 1s 115ms/step - loss: 0.0013 - accuracy: 1.0000 - val_loss: 0.6882 - val_accuracy: 0.5102\n",
            "Epoch 26/200\n",
            "11/11 [==============================] - 1s 118ms/step - loss: 0.0013 - accuracy: 1.0000 - val_loss: 0.6884 - val_accuracy: 0.5102\n",
            "Epoch 27/200\n",
            "11/11 [==============================] - 1s 117ms/step - loss: 5.5046e-04 - accuracy: 1.0000 - val_loss: 0.6888 - val_accuracy: 0.5102\n",
            "Epoch 28/200\n",
            "11/11 [==============================] - 1s 116ms/step - loss: 7.2557e-04 - accuracy: 1.0000 - val_loss: 0.6882 - val_accuracy: 0.5102\n",
            "Epoch 29/200\n",
            "11/11 [==============================] - 1s 115ms/step - loss: 8.6051e-04 - accuracy: 1.0000 - val_loss: 0.6851 - val_accuracy: 0.5102\n",
            "Epoch 30/200\n",
            "11/11 [==============================] - 1s 115ms/step - loss: 7.6056e-04 - accuracy: 1.0000 - val_loss: 0.6841 - val_accuracy: 0.5102\n",
            "Epoch 31/200\n",
            "11/11 [==============================] - 1s 116ms/step - loss: 0.0017 - accuracy: 1.0000 - val_loss: 0.6738 - val_accuracy: 0.5102\n",
            "Epoch 32/200\n",
            "11/11 [==============================] - 1s 115ms/step - loss: 5.8004e-04 - accuracy: 1.0000 - val_loss: 0.6625 - val_accuracy: 0.5850\n",
            "Epoch 33/200\n",
            "11/11 [==============================] - 1s 115ms/step - loss: 0.0010 - accuracy: 1.0000 - val_loss: 0.6648 - val_accuracy: 0.5102\n",
            "Epoch 34/200\n",
            "11/11 [==============================] - 1s 114ms/step - loss: 0.0012 - accuracy: 1.0000 - val_loss: 0.6615 - val_accuracy: 0.5102\n",
            "Epoch 35/200\n",
            "11/11 [==============================] - 1s 115ms/step - loss: 4.4384e-04 - accuracy: 1.0000 - val_loss: 0.6583 - val_accuracy: 0.6190\n",
            "Epoch 36/200\n",
            "11/11 [==============================] - 1s 115ms/step - loss: 5.8936e-04 - accuracy: 1.0000 - val_loss: 0.6530 - val_accuracy: 0.5442\n",
            "Epoch 37/200\n",
            "11/11 [==============================] - 1s 115ms/step - loss: 6.4781e-04 - accuracy: 1.0000 - val_loss: 0.6451 - val_accuracy: 0.5714\n",
            "Epoch 38/200\n",
            "11/11 [==============================] - 1s 116ms/step - loss: 7.2556e-04 - accuracy: 1.0000 - val_loss: 0.6391 - val_accuracy: 0.6190\n",
            "Epoch 39/200\n",
            "11/11 [==============================] - 1s 115ms/step - loss: 0.0015 - accuracy: 1.0000 - val_loss: 0.6196 - val_accuracy: 0.9592\n",
            "Epoch 40/200\n",
            "11/11 [==============================] - 1s 115ms/step - loss: 0.0019 - accuracy: 1.0000 - val_loss: 0.6086 - val_accuracy: 0.6599\n",
            "Epoch 41/200\n",
            "11/11 [==============================] - 1s 115ms/step - loss: 3.8892e-04 - accuracy: 1.0000 - val_loss: 0.6658 - val_accuracy: 0.5102\n",
            "Epoch 42/200\n",
            "11/11 [==============================] - 1s 116ms/step - loss: 4.9776e-04 - accuracy: 1.0000 - val_loss: 0.7069 - val_accuracy: 0.5102\n",
            "Epoch 43/200\n",
            "11/11 [==============================] - 1s 117ms/step - loss: 0.0012 - accuracy: 1.0000 - val_loss: 0.9345 - val_accuracy: 0.5102\n",
            "Epoch 44/200\n",
            "11/11 [==============================] - 1s 115ms/step - loss: 9.1491e-04 - accuracy: 1.0000 - val_loss: 1.5694 - val_accuracy: 0.5102\n",
            "Epoch 45/200\n",
            "11/11 [==============================] - 1s 116ms/step - loss: 6.5750e-04 - accuracy: 1.0000 - val_loss: 1.8516 - val_accuracy: 0.5102\n",
            "Epoch 46/200\n",
            "11/11 [==============================] - 1s 118ms/step - loss: 3.5106e-04 - accuracy: 1.0000 - val_loss: 1.9512 - val_accuracy: 0.5102\n",
            "Epoch 47/200\n",
            "11/11 [==============================] - 1s 115ms/step - loss: 0.0013 - accuracy: 1.0000 - val_loss: 1.9967 - val_accuracy: 0.5102\n",
            "Epoch 48/200\n",
            "11/11 [==============================] - 1s 115ms/step - loss: 3.4241e-04 - accuracy: 1.0000 - val_loss: 2.3670 - val_accuracy: 0.5102\n",
            "Epoch 49/200\n",
            "11/11 [==============================] - 1s 116ms/step - loss: 4.3621e-04 - accuracy: 1.0000 - val_loss: 2.3254 - val_accuracy: 0.5102\n",
            "Epoch 50/200\n",
            "11/11 [==============================] - 1s 119ms/step - loss: 1.7258e-04 - accuracy: 1.0000 - val_loss: 2.2520 - val_accuracy: 0.5102\n",
            "Epoch 51/200\n",
            "11/11 [==============================] - 1s 118ms/step - loss: 3.2546e-04 - accuracy: 1.0000 - val_loss: 2.2387 - val_accuracy: 0.5102\n",
            "Epoch 52/200\n",
            "11/11 [==============================] - 1s 115ms/step - loss: 1.4624e-04 - accuracy: 1.0000 - val_loss: 2.2360 - val_accuracy: 0.5102\n",
            "Epoch 53/200\n",
            "11/11 [==============================] - 1s 118ms/step - loss: 7.3917e-04 - accuracy: 1.0000 - val_loss: 2.4502 - val_accuracy: 0.5102\n",
            "Epoch 54/200\n",
            "11/11 [==============================] - 1s 116ms/step - loss: 2.9318e-04 - accuracy: 1.0000 - val_loss: 3.1861 - val_accuracy: 0.5102\n",
            "Epoch 55/200\n",
            "11/11 [==============================] - 1s 115ms/step - loss: 2.8125e-04 - accuracy: 1.0000 - val_loss: 3.3443 - val_accuracy: 0.5102\n",
            "Epoch 56/200\n",
            "11/11 [==============================] - 1s 116ms/step - loss: 2.0094e-04 - accuracy: 1.0000 - val_loss: 3.4201 - val_accuracy: 0.5102\n",
            "Epoch 57/200\n",
            "11/11 [==============================] - 1s 117ms/step - loss: 3.5424e-04 - accuracy: 1.0000 - val_loss: 3.3543 - val_accuracy: 0.5102\n",
            "Epoch 58/200\n",
            "11/11 [==============================] - 1s 117ms/step - loss: 1.2040e-04 - accuracy: 1.0000 - val_loss: 3.3435 - val_accuracy: 0.5102\n",
            "Epoch 59/200\n",
            "11/11 [==============================] - 1s 117ms/step - loss: 2.9795e-04 - accuracy: 1.0000 - val_loss: 3.3182 - val_accuracy: 0.5102\n",
            "Epoch 60/200\n",
            "11/11 [==============================] - 1s 116ms/step - loss: 1.6430e-04 - accuracy: 1.0000 - val_loss: 3.0930 - val_accuracy: 0.5102\n",
            "Epoch 61/200\n",
            "11/11 [==============================] - 1s 116ms/step - loss: 1.5872e-04 - accuracy: 1.0000 - val_loss: 2.5476 - val_accuracy: 0.5170\n",
            "Epoch 62/200\n",
            "11/11 [==============================] - 1s 118ms/step - loss: 2.0704e-04 - accuracy: 1.0000 - val_loss: 2.8847 - val_accuracy: 0.5102\n",
            "Epoch 63/200\n",
            "11/11 [==============================] - 1s 115ms/step - loss: 2.6637e-04 - accuracy: 1.0000 - val_loss: 4.0670 - val_accuracy: 0.5102\n",
            "Epoch 64/200\n",
            "11/11 [==============================] - 1s 117ms/step - loss: 2.0374e-04 - accuracy: 1.0000 - val_loss: 4.4457 - val_accuracy: 0.5102\n",
            "Epoch 65/200\n",
            "11/11 [==============================] - 1s 116ms/step - loss: 1.2372e-04 - accuracy: 1.0000 - val_loss: 4.3208 - val_accuracy: 0.5102\n",
            "Epoch 66/200\n",
            "11/11 [==============================] - 1s 117ms/step - loss: 3.1706e-04 - accuracy: 1.0000 - val_loss: 3.1755 - val_accuracy: 0.5102\n",
            "Epoch 67/200\n",
            "11/11 [==============================] - 1s 118ms/step - loss: 2.6718e-04 - accuracy: 1.0000 - val_loss: 3.3772 - val_accuracy: 0.5102\n",
            "Epoch 68/200\n",
            "11/11 [==============================] - 1s 117ms/step - loss: 1.5647e-04 - accuracy: 1.0000 - val_loss: 3.0756 - val_accuracy: 0.5170\n",
            "Epoch 69/200\n",
            "11/11 [==============================] - 1s 116ms/step - loss: 1.6388e-04 - accuracy: 1.0000 - val_loss: 2.5676 - val_accuracy: 0.5306\n",
            "Epoch 70/200\n",
            "11/11 [==============================] - 1s 117ms/step - loss: 3.5821e-04 - accuracy: 1.0000 - val_loss: 2.2632 - val_accuracy: 0.5102\n",
            "Epoch 71/200\n",
            "11/11 [==============================] - 1s 115ms/step - loss: 8.9787e-05 - accuracy: 1.0000 - val_loss: 2.6724 - val_accuracy: 0.5102\n",
            "Epoch 72/200\n",
            "11/11 [==============================] - 1s 116ms/step - loss: 1.8913e-04 - accuracy: 1.0000 - val_loss: 2.5460 - val_accuracy: 0.5102\n",
            "Epoch 73/200\n",
            "11/11 [==============================] - 1s 117ms/step - loss: 2.6165e-04 - accuracy: 1.0000 - val_loss: 1.7643 - val_accuracy: 0.5102\n",
            "Epoch 74/200\n",
            "11/11 [==============================] - 1s 116ms/step - loss: 1.1827e-04 - accuracy: 1.0000 - val_loss: 1.2954 - val_accuracy: 0.5238\n",
            "Epoch 75/200\n",
            "11/11 [==============================] - 1s 118ms/step - loss: 2.6119e-04 - accuracy: 1.0000 - val_loss: 0.8437 - val_accuracy: 0.5714\n",
            "Epoch 76/200\n",
            "11/11 [==============================] - 1s 117ms/step - loss: 4.3456e-04 - accuracy: 1.0000 - val_loss: 1.6699 - val_accuracy: 0.5102\n",
            "Epoch 77/200\n",
            "11/11 [==============================] - 1s 117ms/step - loss: 2.2410e-04 - accuracy: 1.0000 - val_loss: 2.4771 - val_accuracy: 0.5102\n",
            "Epoch 78/200\n",
            "11/11 [==============================] - 1s 119ms/step - loss: 1.2173e-04 - accuracy: 1.0000 - val_loss: 2.0754 - val_accuracy: 0.5238\n",
            "Epoch 79/200\n",
            "11/11 [==============================] - 1s 117ms/step - loss: 2.8292e-04 - accuracy: 1.0000 - val_loss: 1.9104 - val_accuracy: 0.5238\n",
            "Epoch 80/200\n",
            "11/11 [==============================] - 1s 118ms/step - loss: 3.4026e-04 - accuracy: 1.0000 - val_loss: 1.8196 - val_accuracy: 0.5238\n",
            "Epoch 81/200\n",
            "11/11 [==============================] - 1s 119ms/step - loss: 1.0589e-04 - accuracy: 1.0000 - val_loss: 2.3426 - val_accuracy: 0.5102\n",
            "Epoch 82/200\n",
            "11/11 [==============================] - 1s 117ms/step - loss: 1.0579e-04 - accuracy: 1.0000 - val_loss: 2.2839 - val_accuracy: 0.5102\n",
            "Epoch 83/200\n",
            "11/11 [==============================] - 1s 120ms/step - loss: 8.8330e-05 - accuracy: 1.0000 - val_loss: 1.7154 - val_accuracy: 0.5238\n",
            "Epoch 84/200\n",
            "11/11 [==============================] - 1s 118ms/step - loss: 3.9122e-04 - accuracy: 1.0000 - val_loss: 2.5140 - val_accuracy: 0.5170\n",
            "Epoch 85/200\n",
            "11/11 [==============================] - 1s 116ms/step - loss: 1.7747e-04 - accuracy: 1.0000 - val_loss: 3.6061 - val_accuracy: 0.5102\n",
            "Epoch 86/200\n",
            "11/11 [==============================] - 1s 118ms/step - loss: 2.1676e-04 - accuracy: 1.0000 - val_loss: 4.7333 - val_accuracy: 0.5102\n",
            "Epoch 87/200\n",
            "11/11 [==============================] - 1s 117ms/step - loss: 2.0138e-04 - accuracy: 1.0000 - val_loss: 8.6274 - val_accuracy: 0.5102\n",
            "Epoch 88/200\n",
            "11/11 [==============================] - 1s 116ms/step - loss: 6.0675e-05 - accuracy: 1.0000 - val_loss: 8.5916 - val_accuracy: 0.5102\n",
            "Epoch 89/200\n",
            "11/11 [==============================] - 1s 118ms/step - loss: 1.0135e-04 - accuracy: 1.0000 - val_loss: 8.7535 - val_accuracy: 0.5102\n",
            "Epoch 90/200\n",
            "11/11 [==============================] - 1s 115ms/step - loss: 2.5591e-04 - accuracy: 1.0000 - val_loss: 4.1013 - val_accuracy: 0.5102\n",
            "Epoch 91/200\n",
            "11/11 [==============================] - 1s 119ms/step - loss: 6.1884e-05 - accuracy: 1.0000 - val_loss: 2.3702 - val_accuracy: 0.5102\n",
            "Epoch 92/200\n",
            "11/11 [==============================] - 1s 117ms/step - loss: 1.0489e-04 - accuracy: 1.0000 - val_loss: 1.0120 - val_accuracy: 0.6395\n",
            "Epoch 93/200\n",
            "11/11 [==============================] - 1s 116ms/step - loss: 2.0316e-04 - accuracy: 1.0000 - val_loss: 0.5776 - val_accuracy: 0.7891\n",
            "Epoch 94/200\n",
            "11/11 [==============================] - 1s 117ms/step - loss: 1.0528e-04 - accuracy: 1.0000 - val_loss: 0.2397 - val_accuracy: 0.9116\n",
            "Epoch 95/200\n",
            "11/11 [==============================] - 1s 117ms/step - loss: 1.3714e-04 - accuracy: 1.0000 - val_loss: 0.1152 - val_accuracy: 0.9592\n",
            "Epoch 96/200\n",
            "11/11 [==============================] - 1s 117ms/step - loss: 6.2097e-05 - accuracy: 1.0000 - val_loss: 0.1399 - val_accuracy: 0.9592\n",
            "Epoch 97/200\n",
            "11/11 [==============================] - 1s 116ms/step - loss: 8.8124e-05 - accuracy: 1.0000 - val_loss: 0.1895 - val_accuracy: 0.9320\n",
            "Epoch 98/200\n",
            "11/11 [==============================] - 1s 116ms/step - loss: 6.1066e-05 - accuracy: 1.0000 - val_loss: 0.2095 - val_accuracy: 0.8980\n",
            "Epoch 99/200\n",
            "11/11 [==============================] - 1s 120ms/step - loss: 4.7963e-05 - accuracy: 1.0000 - val_loss: 0.1922 - val_accuracy: 0.9252\n",
            "Epoch 100/200\n",
            "11/11 [==============================] - 1s 116ms/step - loss: 3.7215e-05 - accuracy: 1.0000 - val_loss: 0.1752 - val_accuracy: 0.9456\n",
            "Epoch 101/200\n",
            "11/11 [==============================] - 1s 117ms/step - loss: 6.2388e-05 - accuracy: 1.0000 - val_loss: 0.1457 - val_accuracy: 0.9592\n",
            "Epoch 102/200\n",
            "11/11 [==============================] - 1s 118ms/step - loss: 6.7541e-05 - accuracy: 1.0000 - val_loss: 0.1382 - val_accuracy: 0.9456\n",
            "Epoch 103/200\n",
            "11/11 [==============================] - 1s 118ms/step - loss: 1.0403e-04 - accuracy: 1.0000 - val_loss: 0.4295 - val_accuracy: 0.8503\n",
            "Epoch 104/200\n",
            "11/11 [==============================] - 1s 123ms/step - loss: 7.9687e-05 - accuracy: 1.0000 - val_loss: 0.5297 - val_accuracy: 0.8095\n",
            "Epoch 105/200\n",
            "11/11 [==============================] - 1s 122ms/step - loss: 1.9419e-05 - accuracy: 1.0000 - val_loss: 0.5902 - val_accuracy: 0.8027\n",
            "Epoch 106/200\n",
            "11/11 [==============================] - 1s 119ms/step - loss: 1.6840e-04 - accuracy: 1.0000 - val_loss: 1.4032 - val_accuracy: 0.6463\n",
            "Epoch 107/200\n",
            "11/11 [==============================] - 1s 122ms/step - loss: 3.2537e-05 - accuracy: 1.0000 - val_loss: 1.7722 - val_accuracy: 0.5714\n",
            "Epoch 108/200\n",
            "11/11 [==============================] - 1s 116ms/step - loss: 5.5580e-05 - accuracy: 1.0000 - val_loss: 1.5553 - val_accuracy: 0.5918\n",
            "Epoch 109/200\n",
            "11/11 [==============================] - 1s 118ms/step - loss: 5.6574e-05 - accuracy: 1.0000 - val_loss: 1.2205 - val_accuracy: 0.6667\n",
            "Epoch 110/200\n",
            "11/11 [==============================] - 1s 121ms/step - loss: 2.6084e-05 - accuracy: 1.0000 - val_loss: 0.9270 - val_accuracy: 0.7483\n",
            "Epoch 111/200\n",
            "11/11 [==============================] - 1s 117ms/step - loss: 4.6688e-05 - accuracy: 1.0000 - val_loss: 0.8216 - val_accuracy: 0.7755\n",
            "Epoch 112/200\n",
            "11/11 [==============================] - 1s 118ms/step - loss: 1.2309e-04 - accuracy: 1.0000 - val_loss: 0.7806 - val_accuracy: 0.7891\n",
            "Epoch 113/200\n",
            "11/11 [==============================] - 1s 118ms/step - loss: 6.2690e-05 - accuracy: 1.0000 - val_loss: 0.6271 - val_accuracy: 0.8639\n",
            "Epoch 114/200\n",
            "11/11 [==============================] - 1s 118ms/step - loss: 6.0418e-05 - accuracy: 1.0000 - val_loss: 0.4454 - val_accuracy: 0.8844\n",
            "Epoch 115/200\n",
            "11/11 [==============================] - 1s 120ms/step - loss: 1.1029e-04 - accuracy: 1.0000 - val_loss: 0.2285 - val_accuracy: 0.9388\n",
            "Epoch 116/200\n",
            "11/11 [==============================] - 1s 117ms/step - loss: 5.4945e-04 - accuracy: 1.0000 - val_loss: 0.6630 - val_accuracy: 0.7687\n",
            "Epoch 117/200\n",
            "11/11 [==============================] - 1s 119ms/step - loss: 1.3826e-04 - accuracy: 1.0000 - val_loss: 1.0512 - val_accuracy: 0.6190\n",
            "Epoch 118/200\n",
            "11/11 [==============================] - 1s 118ms/step - loss: 2.3994e-04 - accuracy: 1.0000 - val_loss: 0.6577 - val_accuracy: 0.7075\n",
            "Epoch 119/200\n",
            "11/11 [==============================] - 1s 118ms/step - loss: 1.0475e-04 - accuracy: 1.0000 - val_loss: 0.7880 - val_accuracy: 0.6735\n",
            "Epoch 120/200\n",
            "11/11 [==============================] - 1s 118ms/step - loss: 7.9781e-05 - accuracy: 1.0000 - val_loss: 1.6716 - val_accuracy: 0.5238\n",
            "Epoch 121/200\n",
            "11/11 [==============================] - 1s 117ms/step - loss: 1.7758e-05 - accuracy: 1.0000 - val_loss: 1.7050 - val_accuracy: 0.5238\n",
            "Epoch 122/200\n",
            "11/11 [==============================] - 1s 117ms/step - loss: 5.7740e-05 - accuracy: 1.0000 - val_loss: 1.4830 - val_accuracy: 0.5374\n",
            "Epoch 123/200\n",
            "11/11 [==============================] - 1s 119ms/step - loss: 7.1708e-04 - accuracy: 1.0000 - val_loss: 0.7269 - val_accuracy: 0.7551\n",
            "Epoch 124/200\n",
            "11/11 [==============================] - 1s 118ms/step - loss: 0.0034 - accuracy: 1.0000 - val_loss: 9.4504 - val_accuracy: 0.5102\n",
            "Epoch 125/200\n",
            "11/11 [==============================] - 1s 118ms/step - loss: 0.0043 - accuracy: 1.0000 - val_loss: 77.3560 - val_accuracy: 0.5102\n",
            "Epoch 126/200\n",
            "11/11 [==============================] - 1s 119ms/step - loss: 0.1128 - accuracy: 0.9679 - val_loss: 166.9981 - val_accuracy: 0.5102\n",
            "Epoch 127/200\n",
            "11/11 [==============================] - 1s 118ms/step - loss: 0.2066 - accuracy: 0.9475 - val_loss: 225.6973 - val_accuracy: 0.5102\n",
            "Epoch 128/200\n",
            "11/11 [==============================] - 1s 117ms/step - loss: 0.1250 - accuracy: 0.9621 - val_loss: 602.2205 - val_accuracy: 0.5102\n",
            "Epoch 129/200\n",
            "11/11 [==============================] - 1s 119ms/step - loss: 0.1759 - accuracy: 0.9417 - val_loss: 607.1441 - val_accuracy: 0.5102\n",
            "Epoch 130/200\n",
            "11/11 [==============================] - 1s 118ms/step - loss: 0.1218 - accuracy: 0.9650 - val_loss: 875.8438 - val_accuracy: 0.5102\n",
            "Epoch 131/200\n",
            "11/11 [==============================] - 1s 120ms/step - loss: 0.0357 - accuracy: 0.9854 - val_loss: 580.1383 - val_accuracy: 0.5102\n",
            "Epoch 132/200\n",
            "11/11 [==============================] - 1s 117ms/step - loss: 0.0358 - accuracy: 0.9767 - val_loss: 446.3177 - val_accuracy: 0.5102\n",
            "Epoch 133/200\n",
            "11/11 [==============================] - 1s 118ms/step - loss: 0.0283 - accuracy: 0.9883 - val_loss: 459.3362 - val_accuracy: 0.5102\n",
            "Epoch 134/200\n",
            "11/11 [==============================] - 1s 118ms/step - loss: 0.0341 - accuracy: 0.9942 - val_loss: 343.7898 - val_accuracy: 0.5102\n",
            "Epoch 135/200\n",
            "11/11 [==============================] - 1s 118ms/step - loss: 0.0190 - accuracy: 0.9913 - val_loss: 252.0822 - val_accuracy: 0.5102\n",
            "Epoch 136/200\n",
            "11/11 [==============================] - 1s 119ms/step - loss: 0.0159 - accuracy: 0.9913 - val_loss: 254.8976 - val_accuracy: 0.5102\n",
            "Epoch 137/200\n",
            "11/11 [==============================] - 1s 117ms/step - loss: 0.0064 - accuracy: 0.9971 - val_loss: 235.3029 - val_accuracy: 0.5102\n",
            "Epoch 138/200\n",
            "11/11 [==============================] - 1s 119ms/step - loss: 0.0112 - accuracy: 0.9971 - val_loss: 213.8350 - val_accuracy: 0.5102\n",
            "Epoch 139/200\n",
            "11/11 [==============================] - 1s 121ms/step - loss: 0.0064 - accuracy: 0.9971 - val_loss: 190.5643 - val_accuracy: 0.5102\n",
            "Epoch 140/200\n",
            "11/11 [==============================] - 1s 120ms/step - loss: 0.0031 - accuracy: 1.0000 - val_loss: 166.6391 - val_accuracy: 0.5102\n",
            "Epoch 141/200\n",
            "11/11 [==============================] - 1s 116ms/step - loss: 0.0013 - accuracy: 1.0000 - val_loss: 146.8683 - val_accuracy: 0.5102\n",
            "Epoch 142/200\n",
            "11/11 [==============================] - 1s 121ms/step - loss: 0.0041 - accuracy: 1.0000 - val_loss: 134.4813 - val_accuracy: 0.5102\n",
            "Epoch 143/200\n",
            "11/11 [==============================] - 1s 118ms/step - loss: 0.0015 - accuracy: 1.0000 - val_loss: 119.4787 - val_accuracy: 0.5102\n",
            "Epoch 144/200\n",
            "11/11 [==============================] - 1s 118ms/step - loss: 7.2977e-04 - accuracy: 1.0000 - val_loss: 104.6492 - val_accuracy: 0.5102\n",
            "Epoch 145/200\n",
            "11/11 [==============================] - 1s 118ms/step - loss: 9.3376e-04 - accuracy: 1.0000 - val_loss: 91.7757 - val_accuracy: 0.5102\n",
            "Epoch 146/200\n",
            "11/11 [==============================] - 1s 119ms/step - loss: 0.0010 - accuracy: 1.0000 - val_loss: 83.1999 - val_accuracy: 0.5102\n",
            "Epoch 147/200\n",
            "11/11 [==============================] - 1s 119ms/step - loss: 5.0145e-04 - accuracy: 1.0000 - val_loss: 74.9750 - val_accuracy: 0.5102\n",
            "Epoch 148/200\n",
            "11/11 [==============================] - 1s 119ms/step - loss: 5.0529e-04 - accuracy: 1.0000 - val_loss: 67.0559 - val_accuracy: 0.5102\n",
            "Epoch 149/200\n",
            "11/11 [==============================] - 1s 119ms/step - loss: 4.2758e-04 - accuracy: 1.0000 - val_loss: 59.6883 - val_accuracy: 0.5102\n",
            "Epoch 150/200\n",
            "11/11 [==============================] - 1s 119ms/step - loss: 2.6666e-04 - accuracy: 1.0000 - val_loss: 53.2434 - val_accuracy: 0.5102\n",
            "Epoch 151/200\n",
            "11/11 [==============================] - 1s 118ms/step - loss: 3.1187e-04 - accuracy: 1.0000 - val_loss: 47.1761 - val_accuracy: 0.5102\n",
            "Epoch 152/200\n",
            "11/11 [==============================] - 1s 119ms/step - loss: 7.9765e-04 - accuracy: 1.0000 - val_loss: 41.4651 - val_accuracy: 0.5102\n",
            "Epoch 153/200\n",
            "11/11 [==============================] - 1s 120ms/step - loss: 4.4139e-04 - accuracy: 1.0000 - val_loss: 36.2908 - val_accuracy: 0.5102\n",
            "Epoch 154/200\n",
            "11/11 [==============================] - 1s 118ms/step - loss: 0.0017 - accuracy: 1.0000 - val_loss: 31.6342 - val_accuracy: 0.5102\n",
            "Epoch 155/200\n",
            "11/11 [==============================] - 1s 120ms/step - loss: 2.6730e-04 - accuracy: 1.0000 - val_loss: 25.9981 - val_accuracy: 0.5102\n",
            "Epoch 156/200\n",
            "11/11 [==============================] - 1s 126ms/step - loss: 5.4836e-04 - accuracy: 1.0000 - val_loss: 21.5950 - val_accuracy: 0.5102\n",
            "Epoch 157/200\n",
            "11/11 [==============================] - 1s 120ms/step - loss: 4.0754e-04 - accuracy: 1.0000 - val_loss: 18.4369 - val_accuracy: 0.5102\n",
            "Epoch 158/200\n",
            "11/11 [==============================] - 1s 121ms/step - loss: 4.6323e-04 - accuracy: 1.0000 - val_loss: 16.0825 - val_accuracy: 0.5102\n",
            "Epoch 159/200\n",
            "11/11 [==============================] - 1s 122ms/step - loss: 4.7753e-04 - accuracy: 1.0000 - val_loss: 13.4174 - val_accuracy: 0.5102\n",
            "Epoch 160/200\n",
            "11/11 [==============================] - 1s 120ms/step - loss: 3.8471e-04 - accuracy: 1.0000 - val_loss: 11.5744 - val_accuracy: 0.5102\n",
            "Epoch 161/200\n",
            "11/11 [==============================] - 1s 119ms/step - loss: 4.0570e-04 - accuracy: 1.0000 - val_loss: 9.8887 - val_accuracy: 0.5102\n",
            "Epoch 162/200\n",
            "11/11 [==============================] - 1s 121ms/step - loss: 5.6238e-04 - accuracy: 1.0000 - val_loss: 8.1644 - val_accuracy: 0.5102\n",
            "Epoch 163/200\n",
            "11/11 [==============================] - 1s 124ms/step - loss: 4.1267e-04 - accuracy: 1.0000 - val_loss: 6.8184 - val_accuracy: 0.5102\n",
            "Epoch 164/200\n",
            "11/11 [==============================] - 1s 120ms/step - loss: 1.9329e-04 - accuracy: 1.0000 - val_loss: 5.8650 - val_accuracy: 0.5102\n",
            "Epoch 165/200\n",
            "11/11 [==============================] - 1s 122ms/step - loss: 9.1716e-04 - accuracy: 1.0000 - val_loss: 4.4684 - val_accuracy: 0.5102\n",
            "Epoch 166/200\n",
            "11/11 [==============================] - 1s 122ms/step - loss: 2.2633e-04 - accuracy: 1.0000 - val_loss: 2.4055 - val_accuracy: 0.5782\n",
            "Epoch 167/200\n",
            "11/11 [==============================] - 1s 123ms/step - loss: 9.7845e-05 - accuracy: 1.0000 - val_loss: 1.4408 - val_accuracy: 0.6735\n",
            "Epoch 168/200\n",
            "11/11 [==============================] - 1s 121ms/step - loss: 1.8829e-04 - accuracy: 1.0000 - val_loss: 1.0105 - val_accuracy: 0.7619\n",
            "Epoch 169/200\n",
            "11/11 [==============================] - 1s 120ms/step - loss: 1.9559e-04 - accuracy: 1.0000 - val_loss: 0.8575 - val_accuracy: 0.7891\n",
            "Epoch 170/200\n",
            "11/11 [==============================] - 1s 122ms/step - loss: 1.8576e-04 - accuracy: 1.0000 - val_loss: 0.6762 - val_accuracy: 0.8095\n",
            "Epoch 171/200\n",
            "11/11 [==============================] - 1s 121ms/step - loss: 7.1848e-04 - accuracy: 1.0000 - val_loss: 0.5627 - val_accuracy: 0.8435\n",
            "Epoch 172/200\n",
            "11/11 [==============================] - 1s 120ms/step - loss: 2.5546e-04 - accuracy: 1.0000 - val_loss: 0.3855 - val_accuracy: 0.8912\n",
            "Epoch 173/200\n",
            "11/11 [==============================] - 1s 120ms/step - loss: 5.9540e-05 - accuracy: 1.0000 - val_loss: 0.2858 - val_accuracy: 0.9320\n",
            "Epoch 174/200\n",
            "11/11 [==============================] - 1s 122ms/step - loss: 1.2477e-04 - accuracy: 1.0000 - val_loss: 0.2395 - val_accuracy: 0.9456\n",
            "Epoch 175/200\n",
            "11/11 [==============================] - 1s 123ms/step - loss: 1.6938e-04 - accuracy: 1.0000 - val_loss: 0.1885 - val_accuracy: 0.9524\n",
            "Epoch 176/200\n",
            "11/11 [==============================] - 1s 122ms/step - loss: 1.9909e-04 - accuracy: 1.0000 - val_loss: 0.1815 - val_accuracy: 0.9728\n",
            "Epoch 177/200\n",
            "11/11 [==============================] - 1s 120ms/step - loss: 1.1563e-04 - accuracy: 1.0000 - val_loss: 0.1841 - val_accuracy: 0.9728\n",
            "Epoch 178/200\n",
            "11/11 [==============================] - 1s 128ms/step - loss: 4.2129e-05 - accuracy: 1.0000 - val_loss: 0.1828 - val_accuracy: 0.9728\n",
            "Epoch 179/200\n",
            "11/11 [==============================] - 1s 122ms/step - loss: 1.8117e-04 - accuracy: 1.0000 - val_loss: 0.1832 - val_accuracy: 0.9728\n",
            "Epoch 180/200\n",
            "11/11 [==============================] - 1s 125ms/step - loss: 1.5064e-04 - accuracy: 1.0000 - val_loss: 0.1799 - val_accuracy: 0.9728\n",
            "Epoch 181/200\n",
            "11/11 [==============================] - 1s 137ms/step - loss: 1.5073e-04 - accuracy: 1.0000 - val_loss: 0.1782 - val_accuracy: 0.9728\n",
            "Epoch 182/200\n",
            "11/11 [==============================] - 1s 120ms/step - loss: 4.2760e-04 - accuracy: 1.0000 - val_loss: 0.1953 - val_accuracy: 0.9592\n",
            "Epoch 183/200\n",
            "11/11 [==============================] - 1s 132ms/step - loss: 3.9982e-04 - accuracy: 1.0000 - val_loss: 0.2270 - val_accuracy: 0.9592\n",
            "Epoch 184/200\n",
            "11/11 [==============================] - 1s 133ms/step - loss: 1.3378e-04 - accuracy: 1.0000 - val_loss: 0.2237 - val_accuracy: 0.9592\n",
            "Epoch 185/200\n",
            "11/11 [==============================] - 1s 129ms/step - loss: 1.5243e-04 - accuracy: 1.0000 - val_loss: 0.2108 - val_accuracy: 0.9456\n",
            "Epoch 186/200\n",
            "11/11 [==============================] - 1s 125ms/step - loss: 1.6726e-04 - accuracy: 1.0000 - val_loss: 0.1919 - val_accuracy: 0.9524\n",
            "Epoch 187/200\n",
            "11/11 [==============================] - 1s 125ms/step - loss: 1.7408e-04 - accuracy: 1.0000 - val_loss: 0.1935 - val_accuracy: 0.9660\n",
            "Epoch 188/200\n",
            "11/11 [==============================] - 1s 131ms/step - loss: 1.1800e-04 - accuracy: 1.0000 - val_loss: 0.2006 - val_accuracy: 0.9660\n",
            "Epoch 189/200\n",
            "11/11 [==============================] - 1s 125ms/step - loss: 1.3913e-04 - accuracy: 1.0000 - val_loss: 0.2031 - val_accuracy: 0.9660\n",
            "Epoch 190/200\n",
            "11/11 [==============================] - 1s 128ms/step - loss: 1.1037e-04 - accuracy: 1.0000 - val_loss: 0.2040 - val_accuracy: 0.9660\n",
            "Epoch 191/200\n",
            "11/11 [==============================] - 1s 122ms/step - loss: 1.6062e-04 - accuracy: 1.0000 - val_loss: 0.2046 - val_accuracy: 0.9660\n",
            "Epoch 192/200\n",
            "11/11 [==============================] - 1s 130ms/step - loss: 3.5884e-04 - accuracy: 1.0000 - val_loss: 0.1865 - val_accuracy: 0.9728\n",
            "Epoch 193/200\n",
            "11/11 [==============================] - 1s 132ms/step - loss: 1.0205e-04 - accuracy: 1.0000 - val_loss: 0.1793 - val_accuracy: 0.9728\n",
            "Epoch 194/200\n",
            "11/11 [==============================] - 1s 127ms/step - loss: 0.0011 - accuracy: 1.0000 - val_loss: 0.1996 - val_accuracy: 0.9592\n",
            "Epoch 195/200\n",
            "11/11 [==============================] - 1s 129ms/step - loss: 3.4958e-05 - accuracy: 1.0000 - val_loss: 0.4891 - val_accuracy: 0.8776\n",
            "Epoch 196/200\n",
            "11/11 [==============================] - 1s 129ms/step - loss: 8.8251e-05 - accuracy: 1.0000 - val_loss: 0.5945 - val_accuracy: 0.8639\n",
            "Epoch 197/200\n",
            "11/11 [==============================] - 1s 128ms/step - loss: 9.2963e-05 - accuracy: 1.0000 - val_loss: 0.6352 - val_accuracy: 0.8571\n",
            "Epoch 198/200\n",
            "11/11 [==============================] - 1s 130ms/step - loss: 1.1966e-04 - accuracy: 1.0000 - val_loss: 0.5366 - val_accuracy: 0.8707\n",
            "Epoch 199/200\n",
            "11/11 [==============================] - 1s 127ms/step - loss: 8.5848e-05 - accuracy: 1.0000 - val_loss: 0.4568 - val_accuracy: 0.8912\n",
            "Epoch 200/200\n",
            "11/11 [==============================] - 1s 124ms/step - loss: 5.2331e-05 - accuracy: 1.0000 - val_loss: 0.3695 - val_accuracy: 0.9116\n"
          ]
        }
      ]
    },
    {
      "cell_type": "code",
      "metadata": {
        "id": "cSTlOSUBWMpj"
      },
      "source": [
        "Y_test = yback(Y_test)"
      ],
      "execution_count": 18,
      "outputs": []
    },
    {
      "cell_type": "code",
      "metadata": {
        "id": "tlTCuKF-Alnh"
      },
      "source": [
        "#pred_test[0,0]"
      ],
      "execution_count": 19,
      "outputs": []
    },
    {
      "cell_type": "code",
      "metadata": {
        "id": "udwjTMHPA83h"
      },
      "source": [
        ""
      ],
      "execution_count": 19,
      "outputs": []
    },
    {
      "cell_type": "code",
      "metadata": {
        "id": "RVeiPQLiA86E"
      },
      "source": [
        "#pred_test"
      ],
      "execution_count": 20,
      "outputs": []
    },
    {
      "cell_type": "code",
      "metadata": {
        "colab": {
          "base_uri": "https://localhost:8080/"
        },
        "id": "qpf0XlSARX78",
        "outputId": "baf4e99a-d9da-472d-dc05-b3c4aa6a6375"
      },
      "source": [
        "pred_test= model.predict(X_test)\n",
        "Rows, Cols = pred_test.shape\n",
        "Prediction =[]\n",
        "for i in range(Rows):\n",
        "  if(pred_test[0,0] > pred_test[0,1]):\n",
        "    Prediction.append(0)\n",
        "  else:\n",
        "    Prediction.append(1)\n",
        "  \n",
        "\n",
        "\n",
        "data = {'y_true': Y_test,'y_predict': Prediction}  # este dado esta no formato de dicionario\n",
        "\n",
        "df = pd.DataFrame(data, columns=['y_true','y_predict'])\n",
        "\n",
        "\n",
        "confusion_matrix = pd.crosstab(df['y_true'], df['y_predict'], rownames=['Actual'], colnames=['Predict'])\n",
        "print(confusion_matrix)\n",
        "\n",
        "y_true = df['y_true']\n",
        "y_pred = df['y_predict']\n",
        "\n",
        "  \n",
        "METRICS=sklearn.metrics.classification_report(y_true, y_pred)"
      ],
      "execution_count": 21,
      "outputs": [
        {
          "output_type": "stream",
          "name": "stdout",
          "text": [
            "Predict   1\n",
            "Actual     \n",
            "0        72\n",
            "1        75\n"
          ]
        },
        {
          "output_type": "stream",
          "name": "stderr",
          "text": [
            "/usr/local/lib/python3.7/dist-packages/sklearn/metrics/_classification.py:1272: UndefinedMetricWarning: Precision and F-score are ill-defined and being set to 0.0 in labels with no predicted samples. Use `zero_division` parameter to control this behavior.\n",
            "  _warn_prf(average, modifier, msg_start, len(result))\n"
          ]
        }
      ]
    },
    {
      "cell_type": "code",
      "metadata": {
        "id": "_iFNNrlWV9tH"
      },
      "source": [
        "#pred_test"
      ],
      "execution_count": 22,
      "outputs": []
    },
    {
      "cell_type": "code",
      "metadata": {
        "id": "QISvYcJBgWbE",
        "colab": {
          "base_uri": "https://localhost:8080/"
        },
        "outputId": "69571632-21af-4050-97b8-27e7be77e2af"
      },
      "source": [
        "cont = 0; num =25\n",
        "img_graos = []\n",
        "Width_new = []\n",
        "img=ww[2] \n",
        "while( cont < num):\n",
        "  df=Segmenta(img)\n",
        "  df_ann =df.copy()\n",
        "  Width = df['Width']\n",
        "  del df_ann['Width']\n",
        "  result = np.array(df_ann)\n",
        "  result = result.reshape(-1, Img_Size, Img_Size, 1) / 255.0\n",
        "  prediction_02 = model.predict(result)\n",
        "  Rows, Cols = prediction_02.shape\n",
        "  Prediction =[]\n",
        "  for i in range(Rows):\n",
        "    if(prediction_02[0,0] > prediction_02[0,1]):\n",
        "      Prediction.append(0)\n",
        "    else:\n",
        "      Prediction.append(1)\n",
        "  loc_grao =[];k=0\n",
        "  for i in Prediction:\n",
        "    if( i == 0):\n",
        "      img_graos.append(df.iloc[k,:])\n",
        "      Width_new.append(Width.iloc[k])\n",
        "      cont = cont + 1\n",
        "    k = k +1\n",
        "img_graos = pd.DataFrame(img_graos)\n",
        "print(img_graos)"
      ],
      "execution_count": 23,
      "outputs": [
        {
          "output_type": "stream",
          "name": "stdout",
          "text": [
            "    Width           0           1  ...         781         782         783\n",
            "0   127.0  126.494888  127.560661  ...   76.596878   77.640526   79.420052\n",
            "1   191.0  145.324875  150.678436  ...  108.355507  103.045921   96.047760\n",
            "2   105.0  114.924454  115.084457  ...  141.351120  139.244446  136.266678\n",
            "3   138.0  109.902748  109.394455  ...  171.403702  176.591248  179.792694\n",
            "4   159.0   97.081703   99.522758  ...    0.000000    0.000000    0.000000\n",
            "5   171.0    0.000000    0.000000  ...  105.104378  105.307419  106.818382\n",
            "6   133.0  123.556793  121.279785  ...  146.085861  141.407196  139.656509\n",
            "7   125.0   92.063362   96.676491  ...  123.461502  126.945854  129.118286\n",
            "8   148.0  153.297318  149.967133  ...   54.393719   56.666183   58.146828\n",
            "9   136.0   90.711075   79.615906  ...  118.048447  117.402252  114.748276\n",
            "10  196.0  121.897957  123.897957  ...  153.387756  161.265305  169.163269\n",
            "11  159.0  131.943756  139.480240  ...  104.205879  103.247139  103.017471\n",
            "12  172.0  156.982697  167.964325  ...   89.743645   98.523537  100.964844\n",
            "13  197.0  102.058235   96.132088  ...  102.116028   85.975502   43.479584\n",
            "14  120.0  136.567780  134.809998  ...  131.183350  137.158890  140.139999\n",
            "15  193.0   79.206718   83.161827  ...    6.602406    6.436280    5.869500\n",
            "16  180.0  113.236557   80.790634  ...   93.953590   94.508156   94.320999\n",
            "17  132.0   88.831963   86.204788  ...   97.699730   97.786964   97.784210\n",
            "18  197.0   72.132271   89.597397  ...  149.467575  122.856735  118.087959\n",
            "19  159.0   82.497765   63.659111  ...   58.946716   57.182663   54.640282\n",
            "20  139.0  143.165207  139.502869  ...  106.107651  107.195587  109.882607\n",
            "21  160.0   84.998123   79.756248  ...   69.178749   83.260628   84.030617\n",
            "22  165.0  134.582397  138.630890  ...  180.997391  186.464172  123.273056\n",
            "23  192.0  138.076813  142.019516  ...  154.714828  160.279068  156.349380\n",
            "24  182.0  131.656815  135.964508  ...  161.579895  167.609467  117.088768\n",
            "25  155.0  170.929794  123.739197  ...  189.037964  194.199097  196.665436\n",
            "26  171.0    0.000000    0.000000  ...  109.800240  111.151505   67.101433\n",
            "27  186.0    0.000000    0.000000  ...  107.930054  113.440521  110.517181\n",
            "28  165.0  122.889557  136.402939  ...    0.832397    0.692489    0.743912\n",
            "29  198.0   96.775940  102.878166  ...   62.493214   62.746655   63.090088\n",
            "30  153.0  132.679398  134.572021  ...  156.031021  153.289993  150.769073\n",
            "31  101.0  104.123520  105.490448  ...   12.120185   12.040586   12.120184\n",
            "32  149.0  123.454720   89.657227  ...   69.260353   66.375031   62.109459\n",
            "33  197.0   82.860657   79.869446  ...  107.534866   99.497643   98.448761\n",
            "34  124.0  159.612885  159.689896  ...   10.352757   11.505723   10.838709\n",
            "35  186.0   64.731766   62.241997  ...    7.617181    7.863222    7.141288\n",
            "36  140.0   34.880001   36.119999  ...    9.559999   10.360000   10.120000\n",
            "37  108.0   57.448559   72.528122  ...   10.824417   10.880658   11.296296\n",
            "38  181.0   98.464119  100.787376  ...    7.633101    7.868991    7.913434\n",
            "39  102.0  141.135712  140.495209  ...  149.031143  150.364868  150.596329\n",
            "40  179.0  160.779510  172.267670  ...  108.902840  106.705574  156.282104\n",
            "41  105.0  103.266678  100.573349  ...  126.271118   73.293335   65.195557\n",
            "42  156.0  130.230118  130.013809  ...  108.052597  112.414215  121.861282\n",
            "43  137.0  184.995789  214.909592  ...    9.586926   10.894241   10.809739\n",
            "44  160.0    0.000000    0.000000  ...  133.101242  135.467499  125.051247\n",
            "45  200.0  134.671204  134.624405  ...  145.629593  153.511597  162.646408\n",
            "46  154.0   70.785133   81.942154  ...  151.966949  151.611572  150.735535\n",
            "47  135.0  194.007721  203.564377  ...  134.985016  131.065781  123.299416\n",
            "48  155.0    0.402164    0.135193  ...  103.952522  104.620903  109.915970\n",
            "49  159.0  112.925034  111.844696  ...  148.197540  131.938599   67.152878\n",
            "\n",
            "[50 rows x 785 columns]\n"
          ]
        }
      ]
    },
    {
      "cell_type": "code",
      "metadata": {
        "id": "6LkA4vHp-f6_"
      },
      "source": [
        "Width=np.array(Width_new)"
      ],
      "execution_count": 24,
      "outputs": []
    },
    {
      "cell_type": "code",
      "metadata": {
        "colab": {
          "base_uri": "https://localhost:8080/"
        },
        "id": "MjRbWgmX_LFH",
        "outputId": "12398447-2566-476c-a445-fb6fef2d8f54"
      },
      "source": [
        "!git clone https://github.com/ucfilho/marquesgabi_paper_fev_2021\n",
        "%cd marquesgabi_paper_fev_2021\n",
        "\n",
        "from Get_PSDArea_New import PSDArea\n",
        "from histogram_fev_2021 import PSD\n",
        "from GetBetterSegm import GetBetter"
      ],
      "execution_count": 25,
      "outputs": [
        {
          "output_type": "stream",
          "name": "stdout",
          "text": [
            "fatal: destination path 'marquesgabi_paper_fev_2021' already exists and is not an empty directory.\n",
            "/content/marquesgabi_fev_2020/Doutorado/MarquesGabi_Routines/MarquesGabi_Routines/marquesgabi_paper_fev_2021\n"
          ]
        }
      ]
    },
    {
      "cell_type": "code",
      "metadata": {
        "colab": {
          "base_uri": "https://localhost:8080/"
        },
        "id": "WAG_I6FwCvFr",
        "outputId": "ff3719de-7f6d-4c34-87ef-f79f344fe742"
      },
      "source": [
        "#!git clone https://github.com/ucfilho/marquesgabi_out_2020\n",
        "!git clone https://github.com/marquesgabi/Doutorado\n",
        "\n",
        "%cd Doutorado\n",
        "\n",
        "PSD_imageJ = 'Amostra7.csv' \n",
        "PSD_new = pd.read_csv(PSD_imageJ,sep=';')\n",
        "#encoding='utf8'\n",
        "print(PSD_new.head(3))"
      ],
      "execution_count": 26,
      "outputs": [
        {
          "output_type": "stream",
          "name": "stdout",
          "text": [
            "fatal: destination path 'Doutorado' already exists and is not an empty directory.\n",
            "/content/marquesgabi_fev_2020/Doutorado/MarquesGabi_Routines/MarquesGabi_Routines/marquesgabi_paper_fev_2021/Doutorado\n",
            "   Unnamed: 0   Area\n",
            "0           1  1.387\n",
            "1           2  1.626\n",
            "2           3  1.336\n"
          ]
        }
      ]
    },
    {
      "cell_type": "code",
      "metadata": {
        "id": "7tEPjIBnv_xM",
        "colab": {
          "base_uri": "https://localhost:8080/"
        },
        "outputId": "9c2c02d7-34f2-45f2-e46c-40178151c90f"
      },
      "source": [
        "PSD_new.shape"
      ],
      "execution_count": 27,
      "outputs": [
        {
          "output_type": "execute_result",
          "data": {
            "text/plain": [
              "(102, 2)"
            ]
          },
          "metadata": {},
          "execution_count": 27
        }
      ]
    },
    {
      "cell_type": "code",
      "metadata": {
        "id": "t_1WIM8w7poO"
      },
      "source": [
        "Area_All, Diameter_All=PSDArea(img_graos) "
      ],
      "execution_count": 28,
      "outputs": []
    },
    {
      "cell_type": "code",
      "metadata": {
        "id": "nfagXc-Mv3oa"
      },
      "source": [
        ""
      ],
      "execution_count": 28,
      "outputs": []
    },
    {
      "cell_type": "code",
      "metadata": {
        "id": "PekBHQOT_6CP",
        "colab": {
          "base_uri": "https://localhost:8080/",
          "height": 253
        },
        "outputId": "4596b712-40a6-41ae-b328-df2b7a43fe88"
      },
      "source": [
        "img_graos.head()"
      ],
      "execution_count": 29,
      "outputs": [
        {
          "output_type": "execute_result",
          "data": {
            "text/html": [
              "<div>\n",
              "<style scoped>\n",
              "    .dataframe tbody tr th:only-of-type {\n",
              "        vertical-align: middle;\n",
              "    }\n",
              "\n",
              "    .dataframe tbody tr th {\n",
              "        vertical-align: top;\n",
              "    }\n",
              "\n",
              "    .dataframe thead th {\n",
              "        text-align: right;\n",
              "    }\n",
              "</style>\n",
              "<table border=\"1\" class=\"dataframe\">\n",
              "  <thead>\n",
              "    <tr style=\"text-align: right;\">\n",
              "      <th></th>\n",
              "      <th>Width</th>\n",
              "      <th>0</th>\n",
              "      <th>1</th>\n",
              "      <th>2</th>\n",
              "      <th>3</th>\n",
              "      <th>4</th>\n",
              "      <th>5</th>\n",
              "      <th>6</th>\n",
              "      <th>7</th>\n",
              "      <th>8</th>\n",
              "      <th>9</th>\n",
              "      <th>10</th>\n",
              "      <th>11</th>\n",
              "      <th>12</th>\n",
              "      <th>13</th>\n",
              "      <th>14</th>\n",
              "      <th>15</th>\n",
              "      <th>16</th>\n",
              "      <th>17</th>\n",
              "      <th>18</th>\n",
              "      <th>19</th>\n",
              "      <th>20</th>\n",
              "      <th>21</th>\n",
              "      <th>22</th>\n",
              "      <th>23</th>\n",
              "      <th>24</th>\n",
              "      <th>25</th>\n",
              "      <th>26</th>\n",
              "      <th>27</th>\n",
              "      <th>28</th>\n",
              "      <th>29</th>\n",
              "      <th>30</th>\n",
              "      <th>31</th>\n",
              "      <th>32</th>\n",
              "      <th>33</th>\n",
              "      <th>34</th>\n",
              "      <th>35</th>\n",
              "      <th>36</th>\n",
              "      <th>37</th>\n",
              "      <th>38</th>\n",
              "      <th>...</th>\n",
              "      <th>744</th>\n",
              "      <th>745</th>\n",
              "      <th>746</th>\n",
              "      <th>747</th>\n",
              "      <th>748</th>\n",
              "      <th>749</th>\n",
              "      <th>750</th>\n",
              "      <th>751</th>\n",
              "      <th>752</th>\n",
              "      <th>753</th>\n",
              "      <th>754</th>\n",
              "      <th>755</th>\n",
              "      <th>756</th>\n",
              "      <th>757</th>\n",
              "      <th>758</th>\n",
              "      <th>759</th>\n",
              "      <th>760</th>\n",
              "      <th>761</th>\n",
              "      <th>762</th>\n",
              "      <th>763</th>\n",
              "      <th>764</th>\n",
              "      <th>765</th>\n",
              "      <th>766</th>\n",
              "      <th>767</th>\n",
              "      <th>768</th>\n",
              "      <th>769</th>\n",
              "      <th>770</th>\n",
              "      <th>771</th>\n",
              "      <th>772</th>\n",
              "      <th>773</th>\n",
              "      <th>774</th>\n",
              "      <th>775</th>\n",
              "      <th>776</th>\n",
              "      <th>777</th>\n",
              "      <th>778</th>\n",
              "      <th>779</th>\n",
              "      <th>780</th>\n",
              "      <th>781</th>\n",
              "      <th>782</th>\n",
              "      <th>783</th>\n",
              "    </tr>\n",
              "  </thead>\n",
              "  <tbody>\n",
              "    <tr>\n",
              "      <th>0</th>\n",
              "      <td>127.0</td>\n",
              "      <td>126.494888</td>\n",
              "      <td>127.560661</td>\n",
              "      <td>127.552048</td>\n",
              "      <td>127.605621</td>\n",
              "      <td>126.868309</td>\n",
              "      <td>127.664513</td>\n",
              "      <td>128.261154</td>\n",
              "      <td>128.748459</td>\n",
              "      <td>124.290604</td>\n",
              "      <td>124.387695</td>\n",
              "      <td>125.161690</td>\n",
              "      <td>127.033989</td>\n",
              "      <td>125.979965</td>\n",
              "      <td>126.587708</td>\n",
              "      <td>129.282104</td>\n",
              "      <td>128.856659</td>\n",
              "      <td>128.256622</td>\n",
              "      <td>131.775879</td>\n",
              "      <td>133.335098</td>\n",
              "      <td>132.996841</td>\n",
              "      <td>131.670471</td>\n",
              "      <td>134.887650</td>\n",
              "      <td>139.201675</td>\n",
              "      <td>134.894424</td>\n",
              "      <td>70.185379</td>\n",
              "      <td>103.093811</td>\n",
              "      <td>112.774384</td>\n",
              "      <td>113.862602</td>\n",
              "      <td>124.621254</td>\n",
              "      <td>126.409691</td>\n",
              "      <td>127.020592</td>\n",
              "      <td>126.932304</td>\n",
              "      <td>126.009361</td>\n",
              "      <td>126.598976</td>\n",
              "      <td>125.909477</td>\n",
              "      <td>126.365807</td>\n",
              "      <td>123.683617</td>\n",
              "      <td>124.466927</td>\n",
              "      <td>124.418076</td>\n",
              "      <td>...</td>\n",
              "      <td>187.761047</td>\n",
              "      <td>216.810471</td>\n",
              "      <td>234.091644</td>\n",
              "      <td>239.838181</td>\n",
              "      <td>205.139755</td>\n",
              "      <td>51.214516</td>\n",
              "      <td>62.493832</td>\n",
              "      <td>73.478020</td>\n",
              "      <td>74.264305</td>\n",
              "      <td>76.044456</td>\n",
              "      <td>77.517273</td>\n",
              "      <td>79.619690</td>\n",
              "      <td>108.430527</td>\n",
              "      <td>103.438904</td>\n",
              "      <td>100.914314</td>\n",
              "      <td>99.415894</td>\n",
              "      <td>102.290596</td>\n",
              "      <td>106.586212</td>\n",
              "      <td>110.455887</td>\n",
              "      <td>114.536736</td>\n",
              "      <td>121.098152</td>\n",
              "      <td>123.978676</td>\n",
              "      <td>125.826035</td>\n",
              "      <td>124.769554</td>\n",
              "      <td>123.525391</td>\n",
              "      <td>135.917725</td>\n",
              "      <td>146.077393</td>\n",
              "      <td>156.969177</td>\n",
              "      <td>189.470764</td>\n",
              "      <td>219.829620</td>\n",
              "      <td>237.744064</td>\n",
              "      <td>241.495453</td>\n",
              "      <td>190.070496</td>\n",
              "      <td>44.206276</td>\n",
              "      <td>64.909111</td>\n",
              "      <td>74.698425</td>\n",
              "      <td>75.395309</td>\n",
              "      <td>76.596878</td>\n",
              "      <td>77.640526</td>\n",
              "      <td>79.420052</td>\n",
              "    </tr>\n",
              "    <tr>\n",
              "      <th>1</th>\n",
              "      <td>191.0</td>\n",
              "      <td>145.324875</td>\n",
              "      <td>150.678436</td>\n",
              "      <td>159.987610</td>\n",
              "      <td>169.481766</td>\n",
              "      <td>178.425720</td>\n",
              "      <td>189.058212</td>\n",
              "      <td>210.719955</td>\n",
              "      <td>222.653961</td>\n",
              "      <td>160.201309</td>\n",
              "      <td>170.292221</td>\n",
              "      <td>181.180008</td>\n",
              "      <td>169.237564</td>\n",
              "      <td>151.691223</td>\n",
              "      <td>140.685211</td>\n",
              "      <td>141.214508</td>\n",
              "      <td>162.362930</td>\n",
              "      <td>187.845642</td>\n",
              "      <td>212.156555</td>\n",
              "      <td>230.004181</td>\n",
              "      <td>187.081329</td>\n",
              "      <td>113.534042</td>\n",
              "      <td>120.877426</td>\n",
              "      <td>118.013161</td>\n",
              "      <td>117.571060</td>\n",
              "      <td>118.891846</td>\n",
              "      <td>123.885246</td>\n",
              "      <td>134.595383</td>\n",
              "      <td>139.544540</td>\n",
              "      <td>153.645844</td>\n",
              "      <td>156.239746</td>\n",
              "      <td>160.895752</td>\n",
              "      <td>168.199524</td>\n",
              "      <td>179.266373</td>\n",
              "      <td>187.548386</td>\n",
              "      <td>185.238678</td>\n",
              "      <td>148.568314</td>\n",
              "      <td>130.264801</td>\n",
              "      <td>168.583649</td>\n",
              "      <td>169.838959</td>\n",
              "      <td>...</td>\n",
              "      <td>184.969849</td>\n",
              "      <td>216.738220</td>\n",
              "      <td>227.135513</td>\n",
              "      <td>227.028702</td>\n",
              "      <td>215.721512</td>\n",
              "      <td>161.873093</td>\n",
              "      <td>140.377945</td>\n",
              "      <td>141.973312</td>\n",
              "      <td>131.134659</td>\n",
              "      <td>117.591537</td>\n",
              "      <td>99.388130</td>\n",
              "      <td>98.180481</td>\n",
              "      <td>149.076752</td>\n",
              "      <td>154.877808</td>\n",
              "      <td>151.240952</td>\n",
              "      <td>80.199478</td>\n",
              "      <td>109.199837</td>\n",
              "      <td>130.234131</td>\n",
              "      <td>132.067596</td>\n",
              "      <td>134.516708</td>\n",
              "      <td>143.296692</td>\n",
              "      <td>158.708160</td>\n",
              "      <td>164.343597</td>\n",
              "      <td>165.064636</td>\n",
              "      <td>173.175278</td>\n",
              "      <td>178.603149</td>\n",
              "      <td>183.008972</td>\n",
              "      <td>178.807343</td>\n",
              "      <td>190.316330</td>\n",
              "      <td>218.833344</td>\n",
              "      <td>223.149597</td>\n",
              "      <td>222.007095</td>\n",
              "      <td>210.469803</td>\n",
              "      <td>163.083267</td>\n",
              "      <td>135.547455</td>\n",
              "      <td>127.951698</td>\n",
              "      <td>114.335983</td>\n",
              "      <td>108.355507</td>\n",
              "      <td>103.045921</td>\n",
              "      <td>96.047760</td>\n",
              "    </tr>\n",
              "    <tr>\n",
              "      <th>2</th>\n",
              "      <td>105.0</td>\n",
              "      <td>114.924454</td>\n",
              "      <td>115.084457</td>\n",
              "      <td>115.191124</td>\n",
              "      <td>123.066681</td>\n",
              "      <td>132.826675</td>\n",
              "      <td>148.622238</td>\n",
              "      <td>165.000000</td>\n",
              "      <td>178.368912</td>\n",
              "      <td>188.071136</td>\n",
              "      <td>192.631134</td>\n",
              "      <td>193.640030</td>\n",
              "      <td>186.617798</td>\n",
              "      <td>189.684448</td>\n",
              "      <td>205.311127</td>\n",
              "      <td>211.253357</td>\n",
              "      <td>211.262238</td>\n",
              "      <td>202.506683</td>\n",
              "      <td>115.546677</td>\n",
              "      <td>115.106682</td>\n",
              "      <td>125.293350</td>\n",
              "      <td>129.951126</td>\n",
              "      <td>132.546677</td>\n",
              "      <td>136.213348</td>\n",
              "      <td>141.893341</td>\n",
              "      <td>142.728897</td>\n",
              "      <td>139.288895</td>\n",
              "      <td>126.146683</td>\n",
              "      <td>92.120010</td>\n",
              "      <td>96.968895</td>\n",
              "      <td>95.582230</td>\n",
              "      <td>97.253342</td>\n",
              "      <td>107.848900</td>\n",
              "      <td>123.768898</td>\n",
              "      <td>137.946686</td>\n",
              "      <td>153.684448</td>\n",
              "      <td>167.462234</td>\n",
              "      <td>174.151138</td>\n",
              "      <td>186.533356</td>\n",
              "      <td>191.755569</td>\n",
              "      <td>...</td>\n",
              "      <td>134.408905</td>\n",
              "      <td>132.711121</td>\n",
              "      <td>133.826691</td>\n",
              "      <td>135.853348</td>\n",
              "      <td>138.840027</td>\n",
              "      <td>141.808899</td>\n",
              "      <td>144.702240</td>\n",
              "      <td>148.639999</td>\n",
              "      <td>149.431122</td>\n",
              "      <td>148.408905</td>\n",
              "      <td>143.075577</td>\n",
              "      <td>139.155579</td>\n",
              "      <td>126.742233</td>\n",
              "      <td>129.835556</td>\n",
              "      <td>127.497795</td>\n",
              "      <td>131.835571</td>\n",
              "      <td>133.568893</td>\n",
              "      <td>135.791122</td>\n",
              "      <td>136.111130</td>\n",
              "      <td>137.675568</td>\n",
              "      <td>146.075577</td>\n",
              "      <td>149.880020</td>\n",
              "      <td>145.524460</td>\n",
              "      <td>140.564453</td>\n",
              "      <td>137.977798</td>\n",
              "      <td>137.853333</td>\n",
              "      <td>136.573349</td>\n",
              "      <td>135.542236</td>\n",
              "      <td>136.373352</td>\n",
              "      <td>135.724457</td>\n",
              "      <td>136.217789</td>\n",
              "      <td>137.337799</td>\n",
              "      <td>138.786682</td>\n",
              "      <td>142.288910</td>\n",
              "      <td>142.266678</td>\n",
              "      <td>143.822235</td>\n",
              "      <td>144.684448</td>\n",
              "      <td>141.351120</td>\n",
              "      <td>139.244446</td>\n",
              "      <td>136.266678</td>\n",
              "    </tr>\n",
              "    <tr>\n",
              "      <th>3</th>\n",
              "      <td>138.0</td>\n",
              "      <td>109.902748</td>\n",
              "      <td>109.394455</td>\n",
              "      <td>109.914093</td>\n",
              "      <td>110.524887</td>\n",
              "      <td>109.292587</td>\n",
              "      <td>108.114685</td>\n",
              "      <td>107.434158</td>\n",
              "      <td>107.702156</td>\n",
              "      <td>116.443588</td>\n",
              "      <td>127.533699</td>\n",
              "      <td>130.968689</td>\n",
              "      <td>135.108582</td>\n",
              "      <td>136.890991</td>\n",
              "      <td>140.805298</td>\n",
              "      <td>144.155838</td>\n",
              "      <td>145.677795</td>\n",
              "      <td>149.730515</td>\n",
              "      <td>153.807404</td>\n",
              "      <td>144.466278</td>\n",
              "      <td>111.211090</td>\n",
              "      <td>98.976891</td>\n",
              "      <td>98.573196</td>\n",
              "      <td>96.752144</td>\n",
              "      <td>96.881538</td>\n",
              "      <td>98.022041</td>\n",
              "      <td>99.436882</td>\n",
              "      <td>99.520050</td>\n",
              "      <td>101.735138</td>\n",
              "      <td>103.972893</td>\n",
              "      <td>107.562912</td>\n",
              "      <td>107.663300</td>\n",
              "      <td>110.642509</td>\n",
              "      <td>115.259819</td>\n",
              "      <td>117.779457</td>\n",
              "      <td>117.240494</td>\n",
              "      <td>122.113426</td>\n",
              "      <td>131.498840</td>\n",
              "      <td>136.522156</td>\n",
              "      <td>135.469452</td>\n",
              "      <td>...</td>\n",
              "      <td>134.483093</td>\n",
              "      <td>134.720016</td>\n",
              "      <td>139.522156</td>\n",
              "      <td>145.271362</td>\n",
              "      <td>148.949371</td>\n",
              "      <td>159.324936</td>\n",
              "      <td>165.907990</td>\n",
              "      <td>168.938034</td>\n",
              "      <td>173.109634</td>\n",
              "      <td>179.486038</td>\n",
              "      <td>185.467560</td>\n",
              "      <td>190.232529</td>\n",
              "      <td>94.327446</td>\n",
              "      <td>106.284599</td>\n",
              "      <td>127.711609</td>\n",
              "      <td>138.721909</td>\n",
              "      <td>143.994949</td>\n",
              "      <td>142.448212</td>\n",
              "      <td>139.844147</td>\n",
              "      <td>137.679901</td>\n",
              "      <td>136.391296</td>\n",
              "      <td>134.261490</td>\n",
              "      <td>132.298874</td>\n",
              "      <td>131.338165</td>\n",
              "      <td>131.886780</td>\n",
              "      <td>132.867249</td>\n",
              "      <td>132.626968</td>\n",
              "      <td>131.401596</td>\n",
              "      <td>128.460403</td>\n",
              "      <td>127.907578</td>\n",
              "      <td>131.672119</td>\n",
              "      <td>139.061340</td>\n",
              "      <td>143.820618</td>\n",
              "      <td>151.176636</td>\n",
              "      <td>158.535172</td>\n",
              "      <td>160.875443</td>\n",
              "      <td>166.930267</td>\n",
              "      <td>171.403702</td>\n",
              "      <td>176.591248</td>\n",
              "      <td>179.792694</td>\n",
              "    </tr>\n",
              "    <tr>\n",
              "      <th>4</th>\n",
              "      <td>159.0</td>\n",
              "      <td>97.081703</td>\n",
              "      <td>99.522758</td>\n",
              "      <td>102.579330</td>\n",
              "      <td>105.707916</td>\n",
              "      <td>107.353531</td>\n",
              "      <td>110.252701</td>\n",
              "      <td>112.956085</td>\n",
              "      <td>118.525261</td>\n",
              "      <td>130.813934</td>\n",
              "      <td>144.445435</td>\n",
              "      <td>151.875580</td>\n",
              "      <td>142.026093</td>\n",
              "      <td>133.355194</td>\n",
              "      <td>121.544052</td>\n",
              "      <td>121.469719</td>\n",
              "      <td>129.354843</td>\n",
              "      <td>141.705627</td>\n",
              "      <td>152.027359</td>\n",
              "      <td>162.726196</td>\n",
              "      <td>165.086792</td>\n",
              "      <td>163.327637</td>\n",
              "      <td>159.213638</td>\n",
              "      <td>144.852020</td>\n",
              "      <td>109.916306</td>\n",
              "      <td>102.369019</td>\n",
              "      <td>105.967369</td>\n",
              "      <td>108.057320</td>\n",
              "      <td>108.805313</td>\n",
              "      <td>98.538788</td>\n",
              "      <td>100.593445</td>\n",
              "      <td>104.689613</td>\n",
              "      <td>107.606346</td>\n",
              "      <td>109.439217</td>\n",
              "      <td>110.940498</td>\n",
              "      <td>112.238007</td>\n",
              "      <td>115.186386</td>\n",
              "      <td>125.385979</td>\n",
              "      <td>139.154175</td>\n",
              "      <td>146.844513</td>\n",
              "      <td>...</td>\n",
              "      <td>13.005498</td>\n",
              "      <td>59.816944</td>\n",
              "      <td>95.608093</td>\n",
              "      <td>95.614090</td>\n",
              "      <td>77.376175</td>\n",
              "      <td>12.084451</td>\n",
              "      <td>1.751988</td>\n",
              "      <td>0.409715</td>\n",
              "      <td>0.000000</td>\n",
              "      <td>0.000000</td>\n",
              "      <td>0.000000</td>\n",
              "      <td>0.000000</td>\n",
              "      <td>8.501087</td>\n",
              "      <td>49.512993</td>\n",
              "      <td>63.117237</td>\n",
              "      <td>24.336021</td>\n",
              "      <td>1.962027</td>\n",
              "      <td>1.564416</td>\n",
              "      <td>1.128397</td>\n",
              "      <td>0.722954</td>\n",
              "      <td>0.000000</td>\n",
              "      <td>0.000000</td>\n",
              "      <td>0.000000</td>\n",
              "      <td>0.000000</td>\n",
              "      <td>0.000000</td>\n",
              "      <td>0.000000</td>\n",
              "      <td>0.207547</td>\n",
              "      <td>1.199359</td>\n",
              "      <td>2.277995</td>\n",
              "      <td>2.767849</td>\n",
              "      <td>6.827103</td>\n",
              "      <td>11.053677</td>\n",
              "      <td>2.523753</td>\n",
              "      <td>1.466042</td>\n",
              "      <td>0.819667</td>\n",
              "      <td>0.136229</td>\n",
              "      <td>0.000000</td>\n",
              "      <td>0.000000</td>\n",
              "      <td>0.000000</td>\n",
              "      <td>0.000000</td>\n",
              "    </tr>\n",
              "  </tbody>\n",
              "</table>\n",
              "<p>5 rows × 785 columns</p>\n",
              "</div>"
            ],
            "text/plain": [
              "   Width           0           1  ...         781         782         783\n",
              "0  127.0  126.494888  127.560661  ...   76.596878   77.640526   79.420052\n",
              "1  191.0  145.324875  150.678436  ...  108.355507  103.045921   96.047760\n",
              "2  105.0  114.924454  115.084457  ...  141.351120  139.244446  136.266678\n",
              "3  138.0  109.902748  109.394455  ...  171.403702  176.591248  179.792694\n",
              "4  159.0   97.081703   99.522758  ...    0.000000    0.000000    0.000000\n",
              "\n",
              "[5 rows x 785 columns]"
            ]
          },
          "metadata": {},
          "execution_count": 29
        }
      ]
    },
    {
      "cell_type": "code",
      "metadata": {
        "id": "9q09DRGPtM75"
      },
      "source": [
        "#lost_value = float(PSD_new.columns[1])\n",
        "\n",
        "# Area = np.array(PSD_new.iloc[:,1])\n",
        "Area = PSD_new['Area'].values\n",
        "# Area = np.concatenate( (Area, [lost_value] ) )\n",
        "# Area = np.concatenate( (Area, [lost_value] ) )\n",
        "diam_teste = []\n",
        "for A in Area:\n",
        "  diam_teste.append((4*A/np.pi)**0.5) \n",
        "\n",
        "Diam1 = [ (4*A/np.pi)**0.5 for A in Area]"
      ],
      "execution_count": 30,
      "outputs": []
    },
    {
      "cell_type": "code",
      "metadata": {
        "id": "1aUb2_-jsY1Z",
        "colab": {
          "base_uri": "https://localhost:8080/"
        },
        "outputId": "f851eee0-7621-4911-e59f-1a9e96ae277d"
      },
      "source": [
        "PSD_new.iloc[:,1].values"
      ],
      "execution_count": 31,
      "outputs": [
        {
          "output_type": "execute_result",
          "data": {
            "text/plain": [
              "array([1.387, 1.626, 1.336, 0.64 , 2.211, 1.12 , 0.974, 1.237, 1.29 ,\n",
              "       3.755, 2.778, 1.256, 1.386, 1.302, 1.071, 1.497, 1.518, 1.244,\n",
              "       1.532, 1.325, 1.519, 1.895, 1.22 , 1.241, 1.301, 1.429, 0.667,\n",
              "       2.157, 1.052, 2.082, 1.517, 1.281, 0.784, 1.067, 2.764, 1.215,\n",
              "       0.943, 2.182, 1.486, 1.569, 2.667, 0.709, 1.006, 1.6  , 1.408,\n",
              "       3.16 , 2.465, 2.284, 1.273, 1.256, 3.021, 1.701, 1.955, 5.248,\n",
              "       1.627, 1.367, 1.592, 2.718, 1.658, 1.128, 2.192, 1.508, 2.547,\n",
              "       1.945, 1.606, 3.482, 1.756, 1.457, 1.864, 1.821, 1.314, 1.715,\n",
              "       1.015, 1.345, 1.265, 1.844, 1.396, 1.785, 1.694, 1.413, 1.368,\n",
              "       2.21 , 1.034, 1.367, 1.943, 1.008, 1.279, 1.579, 1.444, 1.879,\n",
              "       1.466, 2.154, 1.794, 3.149, 1.883, 1.692, 1.163, 1.297, 2.949,\n",
              "       1.09 , 1.444, 1.524])"
            ]
          },
          "metadata": {},
          "execution_count": 31
        }
      ]
    },
    {
      "cell_type": "code",
      "metadata": {
        "id": "9J705kDqsE8f",
        "colab": {
          "base_uri": "https://localhost:8080/"
        },
        "outputId": "7ecece11-e36c-4a19-8c7c-878d518eec07"
      },
      "source": [
        "X.shape"
      ],
      "execution_count": 32,
      "outputs": [
        {
          "output_type": "execute_result",
          "data": {
            "text/plain": [
              "(490, 784)"
            ]
          },
          "metadata": {},
          "execution_count": 32
        }
      ]
    },
    {
      "cell_type": "code",
      "metadata": {
        "id": "mK1GBUHWiIr4",
        "colab": {
          "base_uri": "https://localhost:8080/",
          "height": 282
        },
        "outputId": "23f0188c-ea02-4339-964a-d8a290253f11"
      },
      "source": [
        "Freq = [10.52631579, 24.21052632, 36.84210526, 14.73684211,  7.36842105, 0.]\n",
        "Freq2 = [12.90153, 28.11527, 27.66761, 20.21617, 10.34227, 0.]\n",
        "Freq3 = [22.22489, 30.15078, 25.10463, 19.30926, 2.810434, 0.]\n",
        "barWidth = 0.25\n",
        "\n",
        "br1 = range(len(Freq))\n",
        "# Set position of bar on X axis\n",
        "br2 = [x + barWidth for x in br1]\n",
        "br3 = [x + barWidth for x in br2]\n",
        "labels = [0.8, 1.0, 1.2, 1.4, 1.6, 1.8]\n",
        "\n",
        "xx=[]\n",
        "for a in labels:\n",
        "  xx.append(str(a))\n",
        "plt.bar(br1, Freq , color=\"green\", align=\"center\", width=0.3, tick_label= xx) \n",
        "plt.bar(br2, Freq2 , color=\"red\", align=\"center\", width=0.3, tick_label= xx)\n",
        "plt.bar(br3, Freq3 , color=\"blue\", align=\"center\", width=0.3, tick_label= xx)"
      ],
      "execution_count": 33,
      "outputs": [
        {
          "output_type": "execute_result",
          "data": {
            "text/plain": [
              "<BarContainer object of 6 artists>"
            ]
          },
          "metadata": {},
          "execution_count": 33
        },
        {
          "output_type": "display_data",
          "data": {
            "image/png": "[encoded data removed]",
            "text/plain": [
              "<Figure size 432x288 with 1 Axes>"
            ]
          },
          "metadata": {
            "needs_background": "light"
          }
        }
      ]
    },
    {
      "cell_type": "code",
      "metadata": {
        "id": "Vfk_fNXGDK5_",
        "colab": {
          "base_uri": "https://localhost:8080/",
          "height": 282
        },
        "outputId": "af627510-c316-4d8d-d909-03f0b1939be7"
      },
      "source": [
        " wt1 = np.ones(len(Diam1)) / len(Diam1)*100\n",
        " wt2 = np.ones(len(Diameter_All)) / len(Diameter_All)*100\n",
        " X = pd.DataFrame([Diam1,Diameter_All])\n",
        " wts = pd.DataFrame([wt1,wt2])\n",
        "plt.hist(X,weights=wts)\n",
        "plt.legend(['Image J','CNN'])"
      ],
      "execution_count": 34,
      "outputs": [
        {
          "output_type": "execute_result",
          "data": {
            "text/plain": [
              "<matplotlib.legend.Legend at 0x7f5c3ffd59d0>"
            ]
          },
          "metadata": {},
          "execution_count": 34
        },
        {
          "output_type": "display_data",
          "data": {
            "image/png": "[encoded data removed]",
            "text/plain": [
              "<Figure size 432x288 with 1 Axes>"
            ]
          },
          "metadata": {
            "needs_background": "light"
          }
        }
      ]
    },
    {
      "cell_type": "code",
      "metadata": {
        "id": "-nGDbBEeiUij",
        "colab": {
          "base_uri": "https://localhost:8080/",
          "height": 401
        },
        "outputId": "658dc940-b0ad-4f16-ca68-5d5ffa5e8d05"
      },
      "source": [
        "# plt.hist(x, bins=bins, density=True, histtype='step', cumulative=-1,label='Reversed emp.')\n",
        "plt.hist(X, density=True, histtype='step', cumulative=True,label='Reversed emp.')"
      ],
      "execution_count": 35,
      "outputs": [
        {
          "output_type": "execute_result",
          "data": {
            "text/plain": [
              "(array([[0.01960784, 0.05882353, 0.32352941, 0.67647059, 0.82352941,\n",
              "         0.90196078, 0.97058824, 0.99019608, 0.99019608, 1.        ],\n",
              "        [0.04      , 0.22      , 0.46      , 0.74      , 0.9       ,\n",
              "         1.        , 1.        , 1.        , 1.        , 1.        ]]),\n",
              " array([0.74711442, 0.93089788, 1.11468133, 1.29846478, 1.48224824,\n",
              "        1.66603169, 1.84981515, 2.0335986 , 2.21738205, 2.40116551,\n",
              "        2.58494896]),\n",
              " <a list of 2 Lists of Patches objects>)"
            ]
          },
          "metadata": {},
          "execution_count": 35
        },
        {
          "output_type": "display_data",
          "data": {
            "image/png": "[encoded data removed]",
            "text/plain": [
              "<Figure size 432x288 with 1 Axes>"
            ]
          },
          "metadata": {
            "needs_background": "light"
          }
        }
      ]
    },
    {
      "cell_type": "code",
      "metadata": {
        "id": "9xENlBUUxfTu",
        "colab": {
          "base_uri": "https://localhost:8080/",
          "height": 282
        },
        "outputId": "870e638e-e639-46c9-8af9-d279efacd929"
      },
      "source": [
        "Obj = plt.hist(X, density=True, histtype='step', cumulative=True,label='Reversed emp.')\n",
        "Y1, Y2 = Obj[0]\n",
        "Rsquared = r2_score(Y1, Y2)\n",
        "print('r_squared =',Rsquared)"
      ],
      "execution_count": 36,
      "outputs": [
        {
          "output_type": "stream",
          "name": "stdout",
          "text": [
            "r_squared = 0.9530971818300572\n"
          ]
        },
        {
          "output_type": "display_data",
          "data": {
            "image/png": "[encoded data removed]",
            "text/plain": [
              "<Figure size 432x288 with 1 Axes>"
            ]
          },
          "metadata": {
            "needs_background": "light"
          }
        }
      ]
    },
    {
      "cell_type": "code",
      "metadata": {
        "id": "O2XboMiFbkaa"
      },
      "source": [
        "acc_train = r.history['accuracy'][-1]\n",
        "acc_test = r.history['val_accuracy'][-1]\n",
        "loss_train = r.history['loss'][-1]\n",
        "loss_test = r.history['val_loss'][-1]"
      ],
      "execution_count": 37,
      "outputs": []
    },
    {
      "cell_type": "code",
      "metadata": {
        "id": "euTd_-CYN1v0"
      },
      "source": [
        "df = pd.DataFrame({'N1':N1, 'N2':N2,'R^2':Rsquared,\n",
        "                   'acc train':acc_train,'acc test':acc_test,\n",
        "                   'loss train':loss_train,'loss test':loss_test,\n",
        "                   'Details':Description},\n",
        "                  index= [0])\n"
      ],
      "execution_count": 38,
      "outputs": []
    },
    {
      "cell_type": "code",
      "metadata": {
        "id": "-KukfpGTTKlj",
        "colab": {
          "base_uri": "https://localhost:8080/",
          "height": 80
        },
        "outputId": "bb6a6d62-a685-4d43-a258-a60755b4649b"
      },
      "source": [
        "df"
      ],
      "execution_count": 39,
      "outputs": [
        {
          "output_type": "execute_result",
          "data": {
            "text/html": [
              "<div>\n",
              "<style scoped>\n",
              "    .dataframe tbody tr th:only-of-type {\n",
              "        vertical-align: middle;\n",
              "    }\n",
              "\n",
              "    .dataframe tbody tr th {\n",
              "        vertical-align: top;\n",
              "    }\n",
              "\n",
              "    .dataframe thead th {\n",
              "        text-align: right;\n",
              "    }\n",
              "</style>\n",
              "<table border=\"1\" class=\"dataframe\">\n",
              "  <thead>\n",
              "    <tr style=\"text-align: right;\">\n",
              "      <th></th>\n",
              "      <th>N1</th>\n",
              "      <th>N2</th>\n",
              "      <th>R^2</th>\n",
              "      <th>acc train</th>\n",
              "      <th>acc test</th>\n",
              "      <th>loss train</th>\n",
              "      <th>loss test</th>\n",
              "      <th>Details</th>\n",
              "    </tr>\n",
              "  </thead>\n",
              "  <tbody>\n",
              "    <tr>\n",
              "      <th>0</th>\n",
              "      <td>20</td>\n",
              "      <td>20</td>\n",
              "      <td>0.953097</td>\n",
              "      <td>1.0</td>\n",
              "      <td>0.911565</td>\n",
              "      <td>0.000052</td>\n",
              "      <td>0.369471</td>\n",
              "      <td>3 layers of Convolution: 64, 128, 256</td>\n",
              "    </tr>\n",
              "  </tbody>\n",
              "</table>\n",
              "</div>"
            ],
            "text/plain": [
              "   N1  N2  ...  loss test                                 Details\n",
              "0  20  20  ...   0.369471  3 layers of Convolution: 64, 128, 256 \n",
              "\n",
              "[1 rows x 8 columns]"
            ]
          },
          "metadata": {},
          "execution_count": 39
        }
      ]
    },
    {
      "cell_type": "code",
      "metadata": {
        "id": "ZZHa1j4HT9Dq",
        "colab": {
          "base_uri": "https://localhost:8080/",
          "height": 384
        },
        "outputId": "26df63ba-8bc4-49fd-dd8c-75b0867ad6fa"
      },
      "source": [
        "counts, bins, bars = plt.hist(X,weights=wts)\n",
        "print(bars)\n",
        "print(bins)\n",
        "print(counts)"
      ],
      "execution_count": 40,
      "outputs": [
        {
          "output_type": "stream",
          "name": "stdout",
          "text": [
            "<a list of 2 Lists of Patches objects>\n",
            "[0.74711442 0.93089788 1.11468133 1.29846478 1.48224824 1.66603169\n",
            " 1.84981515 2.0335986  2.21738205 2.40116551 2.58494896]\n",
            "[[ 1.96078431  3.92156863 26.47058824 35.29411765 14.70588235  7.84313725\n",
            "   6.8627451   1.96078431  0.          0.98039216]\n",
            " [ 4.         18.         24.         28.         16.         10.\n",
            "   0.          0.          0.          0.        ]]\n"
          ]
        },
        {
          "output_type": "display_data",
          "data": {
            "image/png": "[encoded data removed]",
            "text/plain": [
              "<Figure size 432x288 with 1 Axes>"
            ]
          },
          "metadata": {
            "needs_background": "light"
          }
        }
      ]
    },
    {
      "cell_type": "code",
      "metadata": {
        "id": "8o_vDGeWUwIZ",
        "colab": {
          "base_uri": "https://localhost:8080/"
        },
        "outputId": "03256fe9-ebec-419f-e094-638306f19026"
      },
      "source": [
        "print(counts.sum())"
      ],
      "execution_count": 41,
      "outputs": [
        {
          "output_type": "stream",
          "name": "stdout",
          "text": [
            "200.0\n"
          ]
        }
      ]
    },
    {
      "cell_type": "code",
      "metadata": {
        "id": "KcH52-6iJQ8t",
        "colab": {
          "base_uri": "https://localhost:8080/",
          "height": 336
        },
        "outputId": "4578363f-be3a-477e-b5fa-c19660d247c7"
      },
      "source": [
        "\n",
        "plt.hist([Diam1,Diameter_All])\n",
        "plt.legend(['Image J','CNN'])\n"
      ],
      "execution_count": 42,
      "outputs": [
        {
          "output_type": "stream",
          "name": "stderr",
          "text": [
            "/usr/local/lib/python3.7/dist-packages/numpy/core/_asarray.py:83: VisibleDeprecationWarning: Creating an ndarray from ragged nested sequences (which is a list-or-tuple of lists-or-tuples-or ndarrays with different lengths or shapes) is deprecated. If you meant to do this, you must specify 'dtype=object' when creating the ndarray\n",
            "  return array(a, dtype, copy=False, order=order)\n"
          ]
        },
        {
          "output_type": "execute_result",
          "data": {
            "text/plain": [
              "<matplotlib.legend.Legend at 0x7f5c3ff6e090>"
            ]
          },
          "metadata": {},
          "execution_count": 42
        },
        {
          "output_type": "display_data",
          "data": {
            "image/png": "[encoded data removed]",
            "text/plain": [
              "<Figure size 432x288 with 1 Axes>"
            ]
          },
          "metadata": {
            "needs_background": "light"
          }
        }
      ]
    },
    {
      "cell_type": "code",
      "metadata": {
        "id": "r11AxFK_JIii",
        "colab": {
          "base_uri": "https://localhost:8080/"
        },
        "outputId": "8e2851b1-0104-40c7-f14f-e9705a8d221e"
      },
      "source": [
        "[Diam1,Diameter_All]"
      ],
      "execution_count": 43,
      "outputs": [
        {
          "output_type": "execute_result",
          "data": {
            "text/plain": [
              "[[1.3289030245084366,\n",
              "  1.4388493665910183,\n",
              "  1.3042423209535017,\n",
              "  0.9027033336764101,\n",
              "  1.6778356991700483,\n",
              "  1.1941642642883694,\n",
              "  1.113613629842976,\n",
              "  1.254988970803089,\n",
              "  1.2815923738491737,\n",
              "  2.186553107171316,\n",
              "  1.8807071689325485,\n",
              "  1.2645903954195463,\n",
              "  1.3284238815238665,\n",
              "  1.2875394701698204,\n",
              "  1.1677497815933682,\n",
              "  1.3805939296073044,\n",
              "  1.3902437300372827,\n",
              "  1.2585348599266302,\n",
              "  1.3966398900698307,\n",
              "  1.2988619621707653,\n",
              "  1.3907015741893414,\n",
              "  1.5533154661153457,\n",
              "  1.2463355264843006,\n",
              "  1.2570164179581493,\n",
              "  1.2870449283923413,\n",
              "  1.3488733481786004,\n",
              "  0.9215480325725586,\n",
              "  1.6572198701420842,\n",
              "  1.157345238492556,\n",
              "  1.6281537802488464,\n",
              "  1.3897857350553149,\n",
              "  1.2771138777750963,\n",
              "  0.9991095050455518,\n",
              "  1.165567069812981,\n",
              "  1.875962180228586,\n",
              "  1.2437789380968078,\n",
              "  1.0957485526731296,\n",
              "  1.6667959343039342,\n",
              "  1.3755122549350303,\n",
              "  1.413404699896484,\n",
              "  1.8427506249649406,\n",
              "  0.9501193805081709,\n",
              "  1.1317592420667806,\n",
              "  1.4272992929222168,\n",
              "  1.3389254195014408,\n",
              "  2.0058506827187097,\n",
              "  1.7715912276177528,\n",
              "  1.7053090981329784,\n",
              "  1.273119766733618,\n",
              "  1.2645903954195463,\n",
              "  1.9612385537320356,\n",
              "  1.4716590860639265,\n",
              "  1.5777145844408116,\n",
              "  2.584948960960377,\n",
              "  1.4392917491892008,\n",
              "  1.319287102056625,\n",
              "  1.4237265731938766,\n",
              "  1.8602862904913782,\n",
              "  1.4529388029682806,\n",
              "  1.1984215478959244,\n",
              "  1.6706109906436855,\n",
              "  1.3856569681781365,\n",
              "  1.8008167925806498,\n",
              "  1.5736743355948497,\n",
              "  1.4299729748651446,\n",
              "  2.1055688292639205,\n",
              "  1.4952620641730152,\n",
              "  1.3620242349823046,\n",
              "  1.540557857201846,\n",
              "  1.5226848692236787,\n",
              "  1.293459223084363,\n",
              "  1.4777028859756633,\n",
              "  1.1368105109938904,\n",
              "  1.3086279790944384,\n",
              "  1.269113085619237,\n",
              "  1.5322707725763225,\n",
              "  1.3332075624036517,\n",
              "  1.507558485549488,\n",
              "  1.4686278591874,\n",
              "  1.341300666036808,\n",
              "  1.319769562157615,\n",
              "  1.6774562271083886,\n",
              "  1.1474012764748687,\n",
              "  1.319287102056625,\n",
              "  1.5728650404343092,\n",
              "  1.1328836926591555,\n",
              "  1.2761165219980004,\n",
              "  1.417901703622935,\n",
              "  1.355934328276106,\n",
              "  1.546744033302657,\n",
              "  1.3662244224803437,\n",
              "  1.6560670213972442,\n",
              "  1.5113542745679724,\n",
              "  2.0023564433863985,\n",
              "  1.5483895061438226,\n",
              "  1.467760644550703,\n",
              "  1.2168720518308382,\n",
              "  1.2850648580991957,\n",
              "  1.937726352564777,\n",
              "  1.1780624362746346,\n",
              "  1.355934328276106,\n",
              "  1.3929885377045959],\n",
              " [1.039427228784109,\n",
              "  1.6343250480704565,\n",
              "  0.7904000166238216,\n",
              "  1.1489873110391762,\n",
              "  1.0982249693658,\n",
              "  1.287222884215938,\n",
              "  1.1289212556891708,\n",
              "  1.0465799502789024,\n",
              "  1.309440861497914,\n",
              "  1.065136659692472,\n",
              "  1.6882225865228422,\n",
              "  1.299437307712041,\n",
              "  1.3341935407657994,\n",
              "  1.57679532007198,\n",
              "  1.1467765788199706,\n",
              "  1.5282569940380784,\n",
              "  1.566601192948881,\n",
              "  1.2218317788807431,\n",
              "  1.6879051894390797,\n",
              "  1.2918381939681616,\n",
              "  1.2851629818239911,\n",
              "  1.4657832848691945,\n",
              "  1.4212077896748418,\n",
              "  1.6667400008084814,\n",
              "  1.6884712484880207,\n",
              "  1.4281903356908023,\n",
              "  1.4096781590520895,\n",
              "  1.4451234164037916,\n",
              "  1.2139966528233084,\n",
              "  1.740891042911505,\n",
              "  1.3670818149925894,\n",
              "  0.9517325927072688,\n",
              "  1.315005021481917,\n",
              "  1.5863517428349356,\n",
              "  0.9864487181598385,\n",
              "  1.3511660885241257,\n",
              "  1.0502389097741482,\n",
              "  1.1043889318085855,\n",
              "  1.307546429240261,\n",
              "  1.0014145989114904,\n",
              "  1.5028597852427144,\n",
              "  0.7471144224609926,\n",
              "  1.530027441070819,\n",
              "  1.184669824752969,\n",
              "  1.2451203302678828,\n",
              "  1.520965515385562,\n",
              "  1.314218780551164,\n",
              "  1.251019877819206,\n",
              "  1.357659791881576,\n",
              "  1.2112015097766395]]"
            ]
          },
          "metadata": {},
          "execution_count": 43
        }
      ]
    },
    {
      "cell_type": "code",
      "metadata": {
        "id": "4xS7NSM92s_8",
        "colab": {
          "base_uri": "https://localhost:8080/",
          "height": 282
        },
        "outputId": "32b35d66-05ed-4fef-bc30-747abd7c563c"
      },
      "source": [
        " bins_list = [0.8, 1.0, 1.2, 1.4,1.6, 1.8,2.0]\n",
        " wt1 = np.ones(len(Diam1)) / len(Diam1)*100\n",
        " wt2 = np.ones(len(Diameter_All)) / len(Diameter_All)*100\n",
        " X = pd.DataFrame([Diam1,Diameter_All])\n",
        " wts = pd.DataFrame([wt1,wt2])\n",
        "plt.hist(X,weights=wts,bins = bins_list)\n",
        "plt.legend(['Image J','CNN'])"
      ],
      "execution_count": 44,
      "outputs": [
        {
          "output_type": "execute_result",
          "data": {
            "text/plain": [
              "<matplotlib.legend.Legend at 0x7f5c401899d0>"
            ]
          },
          "metadata": {},
          "execution_count": 44
        },
        {
          "output_type": "display_data",
          "data": {
            "image/png": "[encoded data removed]",
            "text/plain": [
              "<Figure size 432x288 with 1 Axes>"
            ]
          },
          "metadata": {
            "needs_background": "light"
          }
        }
      ]
    },
    {
      "cell_type": "code",
      "metadata": {
        "id": "jD80rFZs37Wm",
        "colab": {
          "base_uri": "https://localhost:8080/",
          "height": 265
        },
        "outputId": "e5e2e91c-0ade-4722-fcd5-e9885f68caef"
      },
      "source": [
        "yy = plt.hist(X,weights=wts,bins = bins_list)"
      ],
      "execution_count": 45,
      "outputs": [
        {
          "output_type": "display_data",
          "data": {
            "image/png": "[encoded data removed]",
            "text/plain": [
              "<Figure size 432x288 with 1 Axes>"
            ]
          },
          "metadata": {
            "needs_background": "light"
          }
        }
      ]
    },
    {
      "cell_type": "code",
      "metadata": {
        "id": "edcwJoJP4GBs",
        "colab": {
          "base_uri": "https://localhost:8080/"
        },
        "outputId": "f6d5b792-c7ac-431d-fb86-5f0648afba39"
      },
      "source": [
        "yy[0][0]"
      ],
      "execution_count": 46,
      "outputs": [
        {
          "output_type": "execute_result",
          "data": {
            "text/plain": [
              "array([ 3.92156863, 11.76470588, 40.19607843, 23.52941176,  8.82352941,\n",
              "        6.8627451 ])"
            ]
          },
          "metadata": {},
          "execution_count": 46
        }
      ]
    },
    {
      "cell_type": "code",
      "metadata": {
        "id": "_0zY-NBY6Rgx",
        "colab": {
          "base_uri": "https://localhost:8080/"
        },
        "outputId": "c6cf3d2e-cce6-4de3-fa68-28c4f93f8de4"
      },
      "source": [
        "bins_list"
      ],
      "execution_count": 47,
      "outputs": [
        {
          "output_type": "execute_result",
          "data": {
            "text/plain": [
              "[0.8, 1.0, 1.2, 1.4, 1.6, 1.8, 2.0]"
            ]
          },
          "metadata": {},
          "execution_count": 47
        }
      ]
    },
    {
      "cell_type": "code",
      "metadata": {
        "id": "9ujCjAa85RG5"
      },
      "source": [
        "k =0\n",
        "for kk in yy[0][0]:\n",
        "  name = str(bins_list[k])\n",
        "  df[name] = yy[0][1][k]\n",
        "  k = k+1"
      ],
      "execution_count": 48,
      "outputs": []
    },
    {
      "cell_type": "code",
      "metadata": {
        "id": "iMQRVn4D69RC",
        "colab": {
          "base_uri": "https://localhost:8080/",
          "height": 80
        },
        "outputId": "43b384e4-993e-4565-e8ce-7e1954af9cc8"
      },
      "source": [
        "df"
      ],
      "execution_count": 49,
      "outputs": [
        {
          "output_type": "execute_result",
          "data": {
            "text/html": [
              "<div>\n",
              "<style scoped>\n",
              "    .dataframe tbody tr th:only-of-type {\n",
              "        vertical-align: middle;\n",
              "    }\n",
              "\n",
              "    .dataframe tbody tr th {\n",
              "        vertical-align: top;\n",
              "    }\n",
              "\n",
              "    .dataframe thead th {\n",
              "        text-align: right;\n",
              "    }\n",
              "</style>\n",
              "<table border=\"1\" class=\"dataframe\">\n",
              "  <thead>\n",
              "    <tr style=\"text-align: right;\">\n",
              "      <th></th>\n",
              "      <th>N1</th>\n",
              "      <th>N2</th>\n",
              "      <th>R^2</th>\n",
              "      <th>acc train</th>\n",
              "      <th>acc test</th>\n",
              "      <th>loss train</th>\n",
              "      <th>loss test</th>\n",
              "      <th>Details</th>\n",
              "      <th>0.8</th>\n",
              "      <th>1.0</th>\n",
              "      <th>1.2</th>\n",
              "      <th>1.4</th>\n",
              "      <th>1.6</th>\n",
              "      <th>1.8</th>\n",
              "    </tr>\n",
              "  </thead>\n",
              "  <tbody>\n",
              "    <tr>\n",
              "      <th>0</th>\n",
              "      <td>20</td>\n",
              "      <td>20</td>\n",
              "      <td>0.953097</td>\n",
              "      <td>1.0</td>\n",
              "      <td>0.911565</td>\n",
              "      <td>0.000052</td>\n",
              "      <td>0.369471</td>\n",
              "      <td>3 layers of Convolution: 64, 128, 256</td>\n",
              "      <td>4.0</td>\n",
              "      <td>22.0</td>\n",
              "      <td>34.0</td>\n",
              "      <td>24.0</td>\n",
              "      <td>12.0</td>\n",
              "      <td>0.0</td>\n",
              "    </tr>\n",
              "  </tbody>\n",
              "</table>\n",
              "</div>"
            ],
            "text/plain": [
              "   N1  N2       R^2  acc train  acc test  ...   1.0   1.2   1.4   1.6  1.8\n",
              "0  20  20  0.953097        1.0  0.911565  ...  22.0  34.0  24.0  12.0  0.0\n",
              "\n",
              "[1 rows x 14 columns]"
            ]
          },
          "metadata": {},
          "execution_count": 49
        }
      ]
    },
    {
      "cell_type": "code",
      "metadata": {
        "id": "JMWpAwMq5Hw2",
        "colab": {
          "base_uri": "https://localhost:8080/",
          "height": 17
        },
        "outputId": "fa7f4c30-7c90-4e13-e9e3-5f73365b1388"
      },
      "source": [
        "Arq = \"output.xlsx\"\n",
        "df.to_excel(Arq)\n",
        "files.download(Arq)"
      ],
      "execution_count": 50,
      "outputs": [
        {
          "output_type": "display_data",
          "data": {
            "application/javascript": [
              "\n",
              "    async function download(id, filename, size) {\n",
              "      if (!google.colab.kernel.accessAllowed) {\n",
              "        return;\n",
              "      }\n",
              "      const div = document.createElement('div');\n",
              "      const label = document.createElement('label');\n",
              "      label.textContent = `Downloading \"${filename}\": `;\n",
              "      div.appendChild(label);\n",
              "      const progress = document.createElement('progress');\n",
              "      progress.max = size;\n",
              "      div.appendChild(progress);\n",
              "      document.body.appendChild(div);\n",
              "\n",
              "      const buffers = [];\n",
              "      let downloaded = 0;\n",
              "\n",
              "      const channel = await google.colab.kernel.comms.open(id);\n",
              "      // Send a message to notify the kernel that we're ready.\n",
              "      channel.send({})\n",
              "\n",
              "      for await (const message of channel.messages) {\n",
              "        // Send a message to notify the kernel that we're ready.\n",
              "        channel.send({})\n",
              "        if (message.buffers) {\n",
              "          for (const buffer of message.buffers) {\n",
              "            buffers.push(buffer);\n",
              "            downloaded += buffer.byteLength;\n",
              "            progress.value = downloaded;\n",
              "          }\n",
              "        }\n",
              "      }\n",
              "      const blob = new Blob(buffers, {type: 'application/binary'});\n",
              "      const a = document.createElement('a');\n",
              "      a.href = window.URL.createObjectURL(blob);\n",
              "      a.download = filename;\n",
              "      div.appendChild(a);\n",
              "      a.click();\n",
              "      div.remove();\n",
              "    }\n",
              "  "
            ],
            "text/plain": [
              "<IPython.core.display.Javascript object>"
            ]
          },
          "metadata": {}
        },
        {
          "output_type": "display_data",
          "data": {
            "application/javascript": [
              "download(\"download_d0f95076-83fd-4ba4-a247-9a2b7fe14784\", \"output.xlsx\", 5238)"
            ],
            "text/plain": [
              "<IPython.core.display.Javascript object>"
            ]
          },
          "metadata": {}
        }
      ]
    }
  ]
}