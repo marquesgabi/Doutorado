{
  "nbformat": 4,
  "nbformat_minor": 0,
  "metadata": {
    "colab": {
      "name": "01_Features_Mahotas_Completo_fev_11_2020.ipynb",
      "provenance": [],
      "collapsed_sections": [],
      "include_colab_link": true
    },
    "kernelspec": {
      "name": "python3",
      "display_name": "Python 3"
    },
    "accelerator": "GPU"
  },
  "cells": [
    {
      "cell_type": "markdown",
      "metadata": {
        "id": "view-in-github",
        "colab_type": "text"
      },
      "source": [
        "<a href=\"https://colab.research.google.com/github/marquesgabi/Doutorado/blob/master/01_Features_Mahotas_Completo_fev_11_2020.ipynb\" target=\"_parent\"><img src=\"https://colab.research.google.com/assets/colab-badge.svg\" alt=\"Open In Colab\"/></a>"
      ]
    },
    {
      "cell_type": "code",
      "metadata": {
        "id": "f393Z8HdEmRg",
        "colab_type": "code",
        "outputId": "0a553cd0-6daa-45df-9958-62041d580c98",
        "colab": {
          "base_uri": "https://localhost:8080/",
          "height": 200
        }
      },
      "source": [
        "!pip install mahotas"
      ],
      "execution_count": 0,
      "outputs": [
        {
          "output_type": "stream",
          "text": [
            "Collecting mahotas\n",
            "\u001b[?25l  Downloading https://files.pythonhosted.org/packages/84/74/bd38163462eb346519f36dc205f0a52a01fb372c7bbcc87392c9b21cfe26/mahotas-1.4.9.tar.gz (1.5MB)\n",
            "\r\u001b[K     |▏                               | 10kB 18.0MB/s eta 0:00:01\r\u001b[K     |▍                               | 20kB 1.9MB/s eta 0:00:01\r\u001b[K     |▋                               | 30kB 2.5MB/s eta 0:00:01\r\u001b[K     |▉                               | 40kB 1.8MB/s eta 0:00:01\r\u001b[K     |█                               | 51kB 2.1MB/s eta 0:00:01\r\u001b[K     |█▎                              | 61kB 2.5MB/s eta 0:00:01\r\u001b[K     |█▌                              | 71kB 2.7MB/s eta 0:00:01\r\u001b[K     |█▊                              | 81kB 2.8MB/s eta 0:00:01\r\u001b[K     |██                              | 92kB 3.1MB/s eta 0:00:01\r\u001b[K     |██▏                             | 102kB 3.0MB/s eta 0:00:01\r\u001b[K     |██▍                             | 112kB 3.0MB/s eta 0:00:01\r\u001b[K     |██▋                             | 122kB 3.0MB/s eta 0:00:01\r\u001b[K     |██▉                             | 133kB 3.0MB/s eta 0:00:01\r\u001b[K     |███                             | 143kB 3.0MB/s eta 0:00:01\r\u001b[K     |███▏                            | 153kB 3.0MB/s eta 0:00:01\r\u001b[K     |███▍                            | 163kB 3.0MB/s eta 0:00:01\r\u001b[K     |███▋                            | 174kB 3.0MB/s eta 0:00:01\r\u001b[K     |███▉                            | 184kB 3.0MB/s eta 0:00:01\r\u001b[K     |████                            | 194kB 3.0MB/s eta 0:00:01\r\u001b[K     |████▎                           | 204kB 3.0MB/s eta 0:00:01\r\u001b[K     |████▌                           | 215kB 3.0MB/s eta 0:00:01\r\u001b[K     |████▊                           | 225kB 3.0MB/s eta 0:00:01\r\u001b[K     |█████                           | 235kB 3.0MB/s eta 0:00:01\r\u001b[K     |█████▏                          | 245kB 3.0MB/s eta 0:00:01\r\u001b[K     |█████▍                          | 256kB 3.0MB/s eta 0:00:01\r\u001b[K     |█████▋                          | 266kB 3.0MB/s eta 0:00:01\r\u001b[K     |█████▊                          | 276kB 3.0MB/s eta 0:00:01\r\u001b[K     |██████                          | 286kB 3.0MB/s eta 0:00:01\r\u001b[K     |██████▏                         | 296kB 3.0MB/s eta 0:00:01\r\u001b[K     |██████▍                         | 307kB 3.0MB/s eta 0:00:01\r\u001b[K     |██████▋                         | 317kB 3.0MB/s eta 0:00:01\r\u001b[K     |██████▉                         | 327kB 3.0MB/s eta 0:00:01\r\u001b[K     |███████                         | 337kB 3.0MB/s eta 0:00:01\r\u001b[K     |███████▎                        | 348kB 3.0MB/s eta 0:00:01\r\u001b[K     |███████▌                        | 358kB 3.0MB/s eta 0:00:01\r\u001b[K     |███████▊                        | 368kB 3.0MB/s eta 0:00:01\r\u001b[K     |████████                        | 378kB 3.0MB/s eta 0:00:01\r\u001b[K     |████████▏                       | 389kB 3.0MB/s eta 0:00:01\r\u001b[K     |████████▍                       | 399kB 3.0MB/s eta 0:00:01\r\u001b[K     |████████▋                       | 409kB 3.0MB/s eta 0:00:01\r\u001b[K     |████████▊                       | 419kB 3.0MB/s eta 0:00:01\r\u001b[K     |█████████                       | 430kB 3.0MB/s eta 0:00:01\r\u001b[K     |█████████▏                      | 440kB 3.0MB/s eta 0:00:01\r\u001b[K     |█████████▍                      | 450kB 3.0MB/s eta 0:00:01\r\u001b[K     |█████████▋                      | 460kB 3.0MB/s eta 0:00:01\r\u001b[K     |█████████▉                      | 471kB 3.0MB/s eta 0:00:01\r\u001b[K     |██████████                      | 481kB 3.0MB/s eta 0:00:01\r\u001b[K     |██████████▎                     | 491kB 3.0MB/s eta 0:00:01\r\u001b[K     |██████████▌                     | 501kB 3.0MB/s eta 0:00:01\r\u001b[K     |██████████▊                     | 512kB 3.0MB/s eta 0:00:01\r\u001b[K     |███████████                     | 522kB 3.0MB/s eta 0:00:01\r\u001b[K     |███████████▏                    | 532kB 3.0MB/s eta 0:00:01\r\u001b[K     |███████████▍                    | 542kB 3.0MB/s eta 0:00:01\r\u001b[K     |███████████▌                    | 552kB 3.0MB/s eta 0:00:01\r\u001b[K     |███████████▊                    | 563kB 3.0MB/s eta 0:00:01\r\u001b[K     |████████████                    | 573kB 3.0MB/s eta 0:00:01\r\u001b[K     |████████████▏                   | 583kB 3.0MB/s eta 0:00:01\r\u001b[K     |████████████▍                   | 593kB 3.0MB/s eta 0:00:01\r\u001b[K     |████████████▋                   | 604kB 3.0MB/s eta 0:00:01\r\u001b[K     |████████████▉                   | 614kB 3.0MB/s eta 0:00:01\r\u001b[K     |█████████████                   | 624kB 3.0MB/s eta 0:00:01\r\u001b[K     |█████████████▎                  | 634kB 3.0MB/s eta 0:00:01\r\u001b[K     |█████████████▌                  | 645kB 3.0MB/s eta 0:00:01\r\u001b[K     |█████████████▊                  | 655kB 3.0MB/s eta 0:00:01\r\u001b[K     |██████████████                  | 665kB 3.0MB/s eta 0:00:01\r\u001b[K     |██████████████▏                 | 675kB 3.0MB/s eta 0:00:01\r\u001b[K     |██████████████▍                 | 686kB 3.0MB/s eta 0:00:01\r\u001b[K     |██████████████▌                 | 696kB 3.0MB/s eta 0:00:01\r\u001b[K     |██████████████▊                 | 706kB 3.0MB/s eta 0:00:01\r\u001b[K     |███████████████                 | 716kB 3.0MB/s eta 0:00:01\r\u001b[K     |███████████████▏                | 727kB 3.0MB/s eta 0:00:01\r\u001b[K     |███████████████▍                | 737kB 3.0MB/s eta 0:00:01\r\u001b[K     |███████████████▋                | 747kB 3.0MB/s eta 0:00:01\r\u001b[K     |███████████████▉                | 757kB 3.0MB/s eta 0:00:01\r\u001b[K     |████████████████                | 768kB 3.0MB/s eta 0:00:01\r\u001b[K     |████████████████▎               | 778kB 3.0MB/s eta 0:00:01\r\u001b[K     |████████████████▌               | 788kB 3.0MB/s eta 0:00:01\r\u001b[K     |████████████████▊               | 798kB 3.0MB/s eta 0:00:01\r\u001b[K     |█████████████████               | 808kB 3.0MB/s eta 0:00:01\r\u001b[K     |█████████████████▏              | 819kB 3.0MB/s eta 0:00:01\r\u001b[K     |█████████████████▎              | 829kB 3.0MB/s eta 0:00:01\r\u001b[K     |█████████████████▌              | 839kB 3.0MB/s eta 0:00:01\r\u001b[K     |█████████████████▊              | 849kB 3.0MB/s eta 0:00:01\r\u001b[K     |██████████████████              | 860kB 3.0MB/s eta 0:00:01\r\u001b[K     |██████████████████▏             | 870kB 3.0MB/s eta 0:00:01\r\u001b[K     |██████████████████▍             | 880kB 3.0MB/s eta 0:00:01\r\u001b[K     |██████████████████▋             | 890kB 3.0MB/s eta 0:00:01\r\u001b[K     |██████████████████▉             | 901kB 3.0MB/s eta 0:00:01\r\u001b[K     |███████████████████             | 911kB 3.0MB/s eta 0:00:01\r\u001b[K     |███████████████████▎            | 921kB 3.0MB/s eta 0:00:01\r\u001b[K     |███████████████████▌            | 931kB 3.0MB/s eta 0:00:01\r\u001b[K     |███████████████████▊            | 942kB 3.0MB/s eta 0:00:01\r\u001b[K     |████████████████████            | 952kB 3.0MB/s eta 0:00:01\r\u001b[K     |████████████████████▏           | 962kB 3.0MB/s eta 0:00:01\r\u001b[K     |████████████████████▎           | 972kB 3.0MB/s eta 0:00:01\r\u001b[K     |████████████████████▌           | 983kB 3.0MB/s eta 0:00:01\r\u001b[K     |████████████████████▊           | 993kB 3.0MB/s eta 0:00:01\r\u001b[K     |█████████████████████           | 1.0MB 3.0MB/s eta 0:00:01\r\u001b[K     |█████████████████████▏          | 1.0MB 3.0MB/s eta 0:00:01\r\u001b[K     |█████████████████████▍          | 1.0MB 3.0MB/s eta 0:00:01\r\u001b[K     |█████████████████████▋          | 1.0MB 3.0MB/s eta 0:00:01\r\u001b[K     |█████████████████████▉          | 1.0MB 3.0MB/s eta 0:00:01\r\u001b[K     |██████████████████████          | 1.1MB 3.0MB/s eta 0:00:01\r\u001b[K     |██████████████████████▎         | 1.1MB 3.0MB/s eta 0:00:01\r\u001b[K     |██████████████████████▌         | 1.1MB 3.0MB/s eta 0:00:01\r\u001b[K     |██████████████████████▊         | 1.1MB 3.0MB/s eta 0:00:01\r\u001b[K     |███████████████████████         | 1.1MB 3.0MB/s eta 0:00:01\r\u001b[K     |███████████████████████         | 1.1MB 3.0MB/s eta 0:00:01\r\u001b[K     |███████████████████████▎        | 1.1MB 3.0MB/s eta 0:00:01\r\u001b[K     |███████████████████████▌        | 1.1MB 3.0MB/s eta 0:00:01\r\u001b[K     |███████████████████████▊        | 1.1MB 3.0MB/s eta 0:00:01\r\u001b[K     |████████████████████████        | 1.1MB 3.0MB/s eta 0:00:01\r\u001b[K     |████████████████████████▏       | 1.2MB 3.0MB/s eta 0:00:01\r\u001b[K     |████████████████████████▍       | 1.2MB 3.0MB/s eta 0:00:01\r\u001b[K     |████████████████████████▋       | 1.2MB 3.0MB/s eta 0:00:01\r\u001b[K     |████████████████████████▉       | 1.2MB 3.0MB/s eta 0:00:01\r\u001b[K     |█████████████████████████       | 1.2MB 3.0MB/s eta 0:00:01\r\u001b[K     |█████████████████████████▎      | 1.2MB 3.0MB/s eta 0:00:01\r\u001b[K     |█████████████████████████▌      | 1.2MB 3.0MB/s eta 0:00:01\r\u001b[K     |█████████████████████████▊      | 1.2MB 3.0MB/s eta 0:00:01\r\u001b[K     |█████████████████████████▉      | 1.2MB 3.0MB/s eta 0:00:01\r\u001b[K     |██████████████████████████      | 1.2MB 3.0MB/s eta 0:00:01\r\u001b[K     |██████████████████████████▎     | 1.3MB 3.0MB/s eta 0:00:01\r\u001b[K     |██████████████████████████▌     | 1.3MB 3.0MB/s eta 0:00:01\r\u001b[K     |██████████████████████████▊     | 1.3MB 3.0MB/s eta 0:00:01\r\u001b[K     |███████████████████████████     | 1.3MB 3.0MB/s eta 0:00:01\r\u001b[K     |███████████████████████████▏    | 1.3MB 3.0MB/s eta 0:00:01\r\u001b[K     |███████████████████████████▍    | 1.3MB 3.0MB/s eta 0:00:01\r\u001b[K     |███████████████████████████▋    | 1.3MB 3.0MB/s eta 0:00:01\r\u001b[K     |███████████████████████████▉    | 1.3MB 3.0MB/s eta 0:00:01\r\u001b[K     |████████████████████████████    | 1.3MB 3.0MB/s eta 0:00:01\r\u001b[K     |████████████████████████████▎   | 1.4MB 3.0MB/s eta 0:00:01\r\u001b[K     |████████████████████████████▌   | 1.4MB 3.0MB/s eta 0:00:01\r\u001b[K     |████████████████████████████▊   | 1.4MB 3.0MB/s eta 0:00:01\r\u001b[K     |████████████████████████████▉   | 1.4MB 3.0MB/s eta 0:00:01\r\u001b[K     |█████████████████████████████   | 1.4MB 3.0MB/s eta 0:00:01\r\u001b[K     |█████████████████████████████▎  | 1.4MB 3.0MB/s eta 0:00:01\r\u001b[K     |█████████████████████████████▌  | 1.4MB 3.0MB/s eta 0:00:01\r\u001b[K     |█████████████████████████████▊  | 1.4MB 3.0MB/s eta 0:00:01\r\u001b[K     |██████████████████████████████  | 1.4MB 3.0MB/s eta 0:00:01\r\u001b[K     |██████████████████████████████▏ | 1.4MB 3.0MB/s eta 0:00:01\r\u001b[K     |██████████████████████████████▍ | 1.5MB 3.0MB/s eta 0:00:01\r\u001b[K     |██████████████████████████████▋ | 1.5MB 3.0MB/s eta 0:00:01\r\u001b[K     |██████████████████████████████▉ | 1.5MB 3.0MB/s eta 0:00:01\r\u001b[K     |███████████████████████████████ | 1.5MB 3.0MB/s eta 0:00:01\r\u001b[K     |███████████████████████████████▎| 1.5MB 3.0MB/s eta 0:00:01\r\u001b[K     |███████████████████████████████▌| 1.5MB 3.0MB/s eta 0:00:01\r\u001b[K     |███████████████████████████████▋| 1.5MB 3.0MB/s eta 0:00:01\r\u001b[K     |███████████████████████████████▉| 1.5MB 3.0MB/s eta 0:00:01\r\u001b[K     |████████████████████████████████| 1.5MB 3.0MB/s \n",
            "\u001b[?25hRequirement already satisfied: numpy in /usr/local/lib/python3.6/dist-packages (from mahotas) (1.17.5)\n",
            "Building wheels for collected packages: mahotas\n",
            "  Building wheel for mahotas (setup.py) ... \u001b[?25l\u001b[?25hdone\n",
            "  Created wheel for mahotas: filename=mahotas-1.4.9-cp36-cp36m-linux_x86_64.whl size=4264067 sha256=26fc66ef3f2f15c7d386841c688518e7871096b3cbb80a0b0136db5c2bd789ea\n",
            "  Stored in directory: /root/.cache/pip/wheels/02/e7/50/b67eee3b19c479cc5b41f10230bf9c1556be6eaaf095c6e997\n",
            "Successfully built mahotas\n",
            "Installing collected packages: mahotas\n",
            "Successfully installed mahotas-1.4.9\n"
          ],
          "name": "stdout"
        }
      ]
    },
    {
      "cell_type": "code",
      "metadata": {
        "id": "W0wfLMP8nWAM",
        "colab_type": "code",
        "outputId": "597ff429-6782-48d5-ec11-2e8115ab2678",
        "colab": {
          "base_uri": "https://localhost:8080/",
          "height": 133
        }
      },
      "source": [
        "\n",
        "!git clone https://github.com/ucfilho/marquesgabi_fev_2020 #clonar do Github\n",
        "%cd marquesgabi_fev_2020"
      ],
      "execution_count": 0,
      "outputs": [
        {
          "output_type": "stream",
          "text": [
            "Cloning into 'marquesgabi_fev_2020'...\n",
            "remote: Enumerating objects: 46, done.\u001b[K\n",
            "remote: Counting objects:   2% (1/46)\u001b[K\rremote: Counting objects:   4% (2/46)\u001b[K\rremote: Counting objects:   6% (3/46)\u001b[K\rremote: Counting objects:   8% (4/46)\u001b[K\rremote: Counting objects:  10% (5/46)\u001b[K\rremote: Counting objects:  13% (6/46)\u001b[K\rremote: Counting objects:  15% (7/46)\u001b[K\rremote: Counting objects:  17% (8/46)\u001b[K\rremote: Counting objects:  19% (9/46)\u001b[K\rremote: Counting objects:  21% (10/46)\u001b[K\rremote: Counting objects:  23% (11/46)\u001b[K\rremote: Counting objects:  26% (12/46)\u001b[K\rremote: Counting objects:  28% (13/46)\u001b[K\rremote: Counting objects:  30% (14/46)\u001b[K\rremote: Counting objects:  32% (15/46)\u001b[K\rremote: Counting objects:  34% (16/46)\u001b[K\rremote: Counting objects:  36% (17/46)\u001b[K\rremote: Counting objects:  39% (18/46)\u001b[K\rremote: Counting objects:  41% (19/46)\u001b[K\rremote: Counting objects:  43% (20/46)\u001b[K\rremote: Counting objects:  45% (21/46)\u001b[K\rremote: Counting objects:  47% (22/46)\u001b[K\rremote: Counting objects:  50% (23/46)\u001b[K\rremote: Counting objects:  52% (24/46)\u001b[K\rremote: Counting objects:  54% (25/46)\u001b[K\rremote: Counting objects:  56% (26/46)\u001b[K\rremote: Counting objects:  58% (27/46)\u001b[K\rremote: Counting objects:  60% (28/46)\u001b[K\rremote: Counting objects:  63% (29/46)\u001b[K\rremote: Counting objects:  65% (30/46)\u001b[K\rremote: Counting objects:  67% (31/46)\u001b[K\rremote: Counting objects:  69% (32/46)\u001b[K\rremote: Counting objects:  71% (33/46)\u001b[K\rremote: Counting objects:  73% (34/46)\u001b[K\rremote: Counting objects:  76% (35/46)\u001b[K\rremote: Counting objects:  78% (36/46)\u001b[K\rremote: Counting objects:  80% (37/46)\u001b[K\rremote: Counting objects:  82% (38/46)\u001b[K\rremote: Counting objects:  84% (39/46)\u001b[K\rremote: Counting objects:  86% (40/46)\u001b[K\rremote: Counting objects:  89% (41/46)\u001b[K\rremote: Counting objects:  91% (42/46)\u001b[K\rremote: Counting objects:  93% (43/46)\u001b[K\rremote: Counting objects:  95% (44/46)\u001b[K\rremote: Counting objects:  97% (45/46)\u001b[K\rremote: Counting objects: 100% (46/46)\u001b[K\rremote: Counting objects: 100% (46/46), done.\u001b[K\n",
            "remote: Compressing objects:   2% (1/44)\u001b[K\rremote: Compressing objects:   4% (2/44)\u001b[K\rremote: Compressing objects:   6% (3/44)\u001b[K\rremote: Compressing objects:   9% (4/44)\u001b[K\rremote: Compressing objects:  11% (5/44)\u001b[K\rremote: Compressing objects:  13% (6/44)\u001b[K\rremote: Compressing objects:  15% (7/44)\u001b[K\rremote: Compressing objects:  18% (8/44)\u001b[K\rremote: Compressing objects:  20% (9/44)\u001b[K\rremote: Compressing objects:  22% (10/44)\u001b[K\rremote: Compressing objects:  25% (11/44)\u001b[K\rremote: Compressing objects:  27% (12/44)\u001b[K\rremote: Compressing objects:  29% (13/44)\u001b[K\rremote: Compressing objects:  31% (14/44)\u001b[K\rremote: Compressing objects:  34% (15/44)\u001b[K\rremote: Compressing objects:  36% (16/44)\u001b[K\rremote: Compressing objects:  38% (17/44)\u001b[K\rremote: Compressing objects:  40% (18/44)\u001b[K\rremote: Compressing objects:  43% (19/44)\u001b[K\rremote: Compressing objects:  45% (20/44)\u001b[K\rremote: Compressing objects:  47% (21/44)\u001b[K\rremote: Compressing objects:  50% (22/44)\u001b[K\rremote: Compressing objects:  52% (23/44)\u001b[K\rremote: Compressing objects:  54% (24/44)\u001b[K\rremote: Compressing objects:  56% (25/44)\u001b[K\rremote: Compressing objects:  59% (26/44)\u001b[K\rremote: Compressing objects:  61% (27/44)\u001b[K\rremote: Compressing objects:  63% (28/44)\u001b[K\rremote: Compressing objects:  65% (29/44)\u001b[K\rremote: Compressing objects:  68% (30/44)\u001b[K\rremote: Compressing objects:  70% (31/44)\u001b[K\rremote: Compressing objects:  72% (32/44)\u001b[K\rremote: Compressing objects:  75% (33/44)\u001b[K\rremote: Compressing objects:  77% (34/44)\u001b[K\rremote: Compressing objects:  79% (35/44)\u001b[K\rremote: Compressing objects:  81% (36/44)\u001b[K\rremote: Compressing objects:  84% (37/44)\u001b[K\rremote: Compressing objects:  86% (38/44)\u001b[K\rremote: Compressing objects:  88% (39/44)\u001b[K\rremote: Compressing objects:  90% (40/44)\u001b[K\rremote: Compressing objects:  93% (41/44)\u001b[K\rremote: Compressing objects:  95% (42/44)\u001b[K\rremote: Compressing objects:  97% (43/44)\u001b[K\rremote: Compressing objects: 100% (44/44)\u001b[K\rremote: Compressing objects: 100% (44/44), done.\u001b[K\n",
            "Unpacking objects:   2% (1/46)   \rUnpacking objects:   4% (2/46)   \rUnpacking objects:   6% (3/46)   \rUnpacking objects:   8% (4/46)   \rUnpacking objects:  10% (5/46)   \rUnpacking objects:  13% (6/46)   \rUnpacking objects:  15% (7/46)   \rUnpacking objects:  17% (8/46)   \rUnpacking objects:  19% (9/46)   \rUnpacking objects:  21% (10/46)   \rUnpacking objects:  23% (11/46)   \rUnpacking objects:  26% (12/46)   \rUnpacking objects:  28% (13/46)   \rUnpacking objects:  30% (14/46)   \rUnpacking objects:  32% (15/46)   \rUnpacking objects:  34% (16/46)   \rUnpacking objects:  36% (17/46)   \rUnpacking objects:  39% (18/46)   \rUnpacking objects:  41% (19/46)   \rUnpacking objects:  43% (20/46)   \rUnpacking objects:  45% (21/46)   \rUnpacking objects:  47% (22/46)   \rUnpacking objects:  50% (23/46)   \rUnpacking objects:  52% (24/46)   \rUnpacking objects:  54% (25/46)   \rUnpacking objects:  56% (26/46)   \rremote: Total 46 (delta 20), reused 0 (delta 0), pack-reused 0\u001b[K\n",
            "Unpacking objects:  58% (27/46)   \rUnpacking objects:  60% (28/46)   \rUnpacking objects:  63% (29/46)   \rUnpacking objects:  65% (30/46)   \rUnpacking objects:  67% (31/46)   \rUnpacking objects:  69% (32/46)   \rUnpacking objects:  71% (33/46)   \rUnpacking objects:  73% (34/46)   \rUnpacking objects:  76% (35/46)   \rUnpacking objects:  78% (36/46)   \rUnpacking objects:  80% (37/46)   \rUnpacking objects:  82% (38/46)   \rUnpacking objects:  84% (39/46)   \rUnpacking objects:  86% (40/46)   \rUnpacking objects:  89% (41/46)   \rUnpacking objects:  91% (42/46)   \rUnpacking objects:  93% (43/46)   \rUnpacking objects:  95% (44/46)   \rUnpacking objects:  97% (45/46)   \rUnpacking objects: 100% (46/46)   \rUnpacking objects: 100% (46/46), done.\n",
            "/content/marquesgabi_fev_2020\n"
          ],
          "name": "stdout"
        }
      ]
    },
    {
      "cell_type": "code",
      "metadata": {
        "id": "SzWdrvAgvBId",
        "colab_type": "code",
        "colab": {}
      },
      "source": [
        "import numpy as np\n",
        "import cv2\n",
        "from skimage import data\n",
        "import matplotlib.pyplot as plt\n",
        "import matplotlib\n",
        "import pandas as pd\n",
        "from skimage import io, util\n",
        "import mahotas.features.texture as mht\n",
        "import mahotas.features\n",
        "import os \n",
        "import zipfile\n",
        "from skimage import filters\n",
        "from skimage import exposure\n",
        "import skimage.feature as sk\n",
        "from google.colab import files\n",
        "from numpy import linalg as LA\n",
        "from scipy.signal import find_peaks\n",
        "from scipy.signal import peak_prominences\n",
        "from scipy.signal import peak_widths\n",
        "from scipy.integrate import simps\n",
        "import re\n",
        "import Go2BlackWhite\n",
        "import Go2Mahotas\n",
        "%matplotlib inline"
      ],
      "execution_count": 0,
      "outputs": []
    },
    {
      "cell_type": "code",
      "metadata": {
        "id": "xoW1HoWp3qNO",
        "colab_type": "code",
        "colab": {}
      },
      "source": [
        "Size=20 # tamanho da foto\n",
        "Sub_Size=int(Size/5) # tamanho do fracionamento\n",
        "Row_Crop=1/2 # posicao do corte\n",
        "Crop=int(Size*Row_Crop)\n",
        "Propriedade='contrast' # aquela q vai calcular os picos e outras informacoes"
      ],
      "execution_count": 0,
      "outputs": []
    },
    {
      "cell_type": "code",
      "metadata": {
        "id": "h1Zsufcm9bfv",
        "colab_type": "code",
        "colab": {}
      },
      "source": [
        "Transfere='Fotos9Amostras.zip'\n",
        "file_name = zipfile.ZipFile(Transfere, 'r')\n",
        "file_name.extractall()"
      ],
      "execution_count": 0,
      "outputs": []
    },
    {
      "cell_type": "code",
      "metadata": {
        "id": "9ZQOQdJVjkW1",
        "colab_type": "code",
        "colab": {}
      },
      "source": [
        "Prop=Propriedade"
      ],
      "execution_count": 0,
      "outputs": []
    },
    {
      "cell_type": "code",
      "metadata": {
        "id": "MDDexaSZiaJA",
        "colab_type": "code",
        "outputId": "a9c89e7e-6796-4a9a-910a-8430dc39d065",
        "colab": {
          "base_uri": "https://localhost:8080/",
          "height": 264
        }
      },
      "source": [
        "ww,img_name=Go2BlackWhite.BlackWhite(Transfere,Size)\n",
        "plt.axis(\"off\")\n",
        "plt.imshow(ww[5], cmap = \"gray\")"
      ],
      "execution_count": 0,
      "outputs": [
        {
          "output_type": "execute_result",
          "data": {
            "text/plain": [
              "<matplotlib.image.AxesImage at 0x7f4d77cad860>"
            ]
          },
          "metadata": {
            "tags": []
          },
          "execution_count": 7
        },
        {
          "output_type": "display_data",
          "data": {
            "image/png": "[encoded data removed]",
            "text/plain": [
              "<Figure size 432x288 with 1 Axes>"
            ]
          },
          "metadata": {
            "tags": []
          }
        }
      ]
    },
    {
      "cell_type": "code",
      "metadata": {
        "id": "c43TnWalRs_H",
        "colab_type": "code",
        "colab": {}
      },
      "source": [
        "file_name = zipfile.ZipFile(Transfere, 'r')\n",
        "file_name.extractall()"
      ],
      "execution_count": 0,
      "outputs": []
    },
    {
      "cell_type": "code",
      "metadata": {
        "id": "GrLtSCRor_By",
        "colab_type": "code",
        "outputId": "a0e1c3cb-21c6-423a-c6db-779773790ea8",
        "colab": {
          "base_uri": "https://localhost:8080/",
          "height": 33
        }
      },
      "source": [
        "print(len(img_name))"
      ],
      "execution_count": 0,
      "outputs": [
        {
          "output_type": "stream",
          "text": [
            "540\n"
          ],
          "name": "stdout"
        }
      ]
    },
    {
      "cell_type": "code",
      "metadata": {
        "colab_type": "code",
        "id": "qCKcPafHsAuJ",
        "colab": {}
      },
      "source": [
        "# ww contain all photos in black and white\n",
        "ww,img_name=Go2BlackWhite.BlackWhite(Transfere,Size)\n"
      ],
      "execution_count": 0,
      "outputs": []
    },
    {
      "cell_type": "code",
      "metadata": {
        "id": "hDdj1998k-7s",
        "colab_type": "code",
        "outputId": "f092095a-9208-4e4f-e320-255bcc3856dd",
        "colab": {
          "base_uri": "https://localhost:8080/",
          "height": 264
        }
      },
      "source": [
        "plt.axis(\"off\")\n",
        "plt.imshow(ww[539], cmap = \"gray\")"
      ],
      "execution_count": 0,
      "outputs": [
        {
          "output_type": "execute_result",
          "data": {
            "text/plain": [
              "<matplotlib.image.AxesImage at 0x7f4d77cad630>"
            ]
          },
          "metadata": {
            "tags": []
          },
          "execution_count": 11
        },
        {
          "output_type": "display_data",
          "data": {
            "image/png": "[encoded data removed]",
            "text/plain": [
              "<Figure size 432x288 with 1 Axes>"
            ]
          },
          "metadata": {
            "tags": []
          }
        }
      ]
    },
    {
      "cell_type": "code",
      "metadata": {
        "id": "MukX2r3ys3tm",
        "colab_type": "code",
        "colab": {}
      },
      "source": [
        "# Find the list elements starting with specific letter\n",
        "subs = 'B'\n",
        "Buraco = [x for x in img_name if re.search(subs, x)] \n",
        "subs = 'G'\n",
        "Grao = [x for x in img_name if re.search(subs, x)] \n",
        "subs = 'I'\n",
        "Indef = [x for x in img_name if re.search(subs, x)] "
      ],
      "execution_count": 0,
      "outputs": []
    },
    {
      "cell_type": "code",
      "metadata": {
        "id": "WkQzQVXn3k42",
        "colab_type": "code",
        "outputId": "bfc871a0-c653-4a20-8482-bbac073920cf",
        "colab": {
          "base_uri": "https://localhost:8080/",
          "height": 350
        }
      },
      "source": [
        "# find df texture for a given picture\n",
        "df=Go2Mahotas.Mahotas(ww[0],Size,Sub_Size,Crop,img_name)   # gotoMahotas junta Mahotas com outros calculos\n",
        "print(df)"
      ],
      "execution_count": 0,
      "outputs": [
        {
          "output_type": "stream",
          "text": [
            "         ASM   constrast    correl  ...  dif entropy      IMC1      IMC2\n",
            "0   0.062114   15.805556  0.118833  ...     2.600961 -0.510280  0.968961\n",
            "1   0.054688   59.854167 -0.082244  ...     2.712072 -0.621625  0.989078\n",
            "2   0.052951   90.243056 -0.000144  ...     2.840748 -0.725483  0.995986\n",
            "3   0.052083   90.388889  0.160040  ...     2.771303 -0.680857  0.993830\n",
            "4   0.053434   77.562500  0.331489  ...     2.764495 -0.644239  0.991322\n",
            "5   0.060185   46.638889  0.507428  ...     2.696888 -0.673112  0.992278\n",
            "6   0.064333   41.708333  0.522625  ...     2.634252 -0.634782  0.988039\n",
            "7   0.058931   30.319444  0.483757  ...     2.319265 -0.723731  0.995494\n",
            "8   0.057388   19.104167  0.481467  ...     2.259791 -0.750027  0.996652\n",
            "9   0.053434   32.263889  0.207233  ...     2.535192 -0.732016  0.996303\n",
            "10  0.051890   43.611111  0.369478  ...     2.595990 -0.779193  0.997869\n",
            "11  0.056713   38.555556  0.426907  ...     2.498496 -0.744323  0.996186\n",
            "12  0.058256   26.868056  0.170268  ...     2.415163 -0.710839  0.994484\n",
            "13  0.055170   18.458333  0.520341  ...     2.343881 -0.736825  0.996181\n",
            "14  0.054302   22.236111  0.507916  ...     2.413325 -0.768986  0.997439\n",
            "15  0.052083  221.625000  0.234800  ...     2.783354 -0.733072  0.996397\n",
            "16  0.052083  263.694444  0.581437  ...     2.998768 -0.699292  0.994689\n",
            "\n",
            "[17 rows x 13 columns]\n"
          ],
          "name": "stdout"
        }
      ]
    },
    {
      "cell_type": "code",
      "metadata": {
        "id": "XfeRom6H2vPv",
        "colab_type": "code",
        "colab": {}
      },
      "source": [
        "Nomes=list(df.columns)"
      ],
      "execution_count": 0,
      "outputs": []
    },
    {
      "cell_type": "code",
      "metadata": {
        "id": "UgKlHvzR4T3J",
        "colab_type": "code",
        "outputId": "ab2aee57-72a0-4cac-ebc9-db2019de5a32",
        "colab": {
          "base_uri": "https://localhost:8080/",
          "height": 33
        }
      },
      "source": [
        "print(Nomes)"
      ],
      "execution_count": 0,
      "outputs": [
        {
          "output_type": "stream",
          "text": [
            "['ASM', 'constrast', 'correl', 'variance', 'inv diff mom', 'sum aveg', 'sum var', 'sum entropy', 'entropy', 'dif var', 'dif entropy', 'IMC1', 'IMC2']\n"
          ],
          "name": "stdout"
        }
      ]
    },
    {
      "cell_type": "code",
      "metadata": {
        "id": "BdfF9ZHzjDeI",
        "colab_type": "code",
        "outputId": "9026718d-daed-47ec-9978-5693d1e3e5db",
        "colab": {
          "base_uri": "https://localhost:8080/",
          "height": 33
        }
      },
      "source": [
        "print(len(df['ASM']))"
      ],
      "execution_count": 0,
      "outputs": [
        {
          "output_type": "stream",
          "text": [
            "17\n"
          ],
          "name": "stdout"
        }
      ]
    },
    {
      "cell_type": "code",
      "metadata": {
        "id": "U2ymyUPFiADf",
        "colab_type": "code",
        "colab": {}
      },
      "source": [
        "j=0\n",
        "cont=-1\n",
        "Posicao_Buraco=[]\n",
        "for i in img_name:\n",
        "  cont=cont+1\n",
        "  for k in Buraco:\n",
        "    if(i==k):\n",
        "      Posicao_Buraco.append(cont)\n",
        "j=0\n",
        "cont=-1\n",
        "Posicao_Grao=[]\n",
        "for i in img_name:\n",
        "  cont=cont+1\n",
        "  for k in Grao:\n",
        "    if(i==k):\n",
        "      Posicao_Grao.append(cont)\n",
        "\n",
        "j=0\n",
        "cont=-1\n",
        "Posicao_Indef=[]\n",
        "for i in img_name:\n",
        "  cont=cont+1\n",
        "  for k in Indef:\n",
        "    if(i==k):\n",
        "      Posicao_Indef.append(cont)\n",
        "\n",
        "# print(Posicao_Grao)\n",
        "# print(Posicao_Buraco)\n",
        "# print(Posicao_Indef)\n"
      ],
      "execution_count": 0,
      "outputs": []
    },
    {
      "cell_type": "code",
      "metadata": {
        "id": "c2FWBU8DR2Ap",
        "colab_type": "code",
        "colab": {}
      },
      "source": [
        "#print(Posicao_Buraco)"
      ],
      "execution_count": 0,
      "outputs": []
    },
    {
      "cell_type": "code",
      "metadata": {
        "id": "7YCD3ESkSFfV",
        "colab_type": "code",
        "colab": {}
      },
      "source": [
        "#for i in range(len(Posicao_Buraco)):\n",
        "#for i in Posicao_Buraco:\n",
        "#  print(i)"
      ],
      "execution_count": 0,
      "outputs": []
    },
    {
      "cell_type": "code",
      "metadata": {
        "id": "aNTlSGubnL3P",
        "colab_type": "code",
        "colab": {}
      },
      "source": [
        "# compara constrast dos tres primeiros buracos\n",
        "\n",
        "Matriz_X_Buraco=[]\n",
        "\n",
        "for k in Posicao_Buraco:\n",
        "  df=Go2Mahotas.Mahotas(ww[k],Size,Sub_Size,Crop,img_name)\n",
        "  Linha=[]\n",
        "  for it in Nomes:\n",
        "    #print(Linha)\n",
        "    #print(\"Nomes=\",Nomes)\n",
        "    #print(\"it=\",it)\n",
        "    #print(df[it])\n",
        "    Linha.append(np.mean(df[it]))\n",
        "  Matriz_X_Buraco.append(Linha)\n",
        "  #plt.figure(i+1)\n",
        "  #plt.plot(df['constrast'])\n",
        "  #print(Matriz_X_Buraco)\n",
        "#print(pd.DataFrame(Matriz_X_Buraco))\n",
        "#Contraste_Buraco=pd.DataFrame(Matriz_X_Buraco,columns=Nomes)\n",
        "Contraste_Buraco=pd.DataFrame(Matriz_X_Buraco,columns=Nomes) \n",
        "# precisa unir aqui fazer para as fotos sem esquecer de colocar o numero \n",
        "# de picos e outras variaveis de interess"
      ],
      "execution_count": 0,
      "outputs": []
    },
    {
      "cell_type": "code",
      "metadata": {
        "id": "FKpqBGqMq0U2",
        "colab_type": "code",
        "colab": {}
      },
      "source": [
        "# compara constrast dos graos\n",
        "\n",
        "Matriz_X_Grao=[]\n",
        "\n",
        "for k in Posicao_Grao:\n",
        "  df=Go2Mahotas.Mahotas(ww[k],Size,Sub_Size,Crop,img_name)\n",
        "  Linha=[]\n",
        "  for it in Nomes:\n",
        "    Linha.append(np.mean(df[it]))\n",
        "  Matriz_X_Grao.append(Linha)\n",
        "#print(pd.DataFrame(Matriz_X_Grao))\n",
        "\n",
        "Contraste_Grao=pd.DataFrame(Matriz_X_Grao,columns=Nomes)\n"
      ],
      "execution_count": 0,
      "outputs": []
    },
    {
      "cell_type": "code",
      "metadata": {
        "id": "uno28vfVq0lc",
        "colab_type": "code",
        "colab": {}
      },
      "source": [
        "# compara constrast dos indefinidos\n",
        "\n",
        "Matriz_X_Indef=[]\n",
        "\n",
        "for k in Posicao_Indef:\n",
        "  df=Go2Mahotas.Mahotas(ww[k],Size,Sub_Size,Crop,img_name)\n",
        "  Linha=[]\n",
        "  for it in Nomes:\n",
        "    Linha.append(np.mean(df[it]))\n",
        "  Matriz_X_Indef.append(Linha)\n",
        "#print(pd.DataFrame(Matriz_X_Indef))\n",
        "Contraste_Indef=pd.DataFrame(Matriz_X_Indef,columns=Nomes)\n",
        "\n"
      ],
      "execution_count": 0,
      "outputs": []
    },
    {
      "cell_type": "code",
      "metadata": {
        "id": "EHSBh2ye9WV8",
        "colab_type": "code",
        "outputId": "d3e1d40b-0866-4e0e-dc14-119661c29ea7",
        "colab": {
          "base_uri": "https://localhost:8080/",
          "height": 150
        }
      },
      "source": [
        "print(Contraste_Buraco.head())"
      ],
      "execution_count": 0,
      "outputs": [
        {
          "output_type": "stream",
          "text": [
            "        ASM   constrast    correl  ...  dif entropy      IMC1      IMC2\n",
            "0  0.055885   66.996324  0.325978  ...     2.599056 -0.698158  0.993011\n",
            "1  0.060038   86.345997  0.254951  ...     2.706948 -0.649175  0.983259\n",
            "2  0.056129  130.039216  0.316819  ...     2.820146 -0.738904  0.995701\n",
            "3  0.060032  285.037990  0.349562  ...     2.781249 -0.719246  0.992884\n",
            "4  0.054319  347.037582  0.350965  ...     2.837783 -0.738866  0.994207\n",
            "\n",
            "[5 rows x 13 columns]\n"
          ],
          "name": "stdout"
        }
      ]
    },
    {
      "cell_type": "code",
      "metadata": {
        "id": "k5e1EwMAs84e",
        "colab_type": "code",
        "outputId": "4b181034-00ca-48cd-f1d8-6a7f59ccbb68",
        "colab": {
          "base_uri": "https://localhost:8080/",
          "height": 150
        }
      },
      "source": [
        "print(Contraste_Grao.head())"
      ],
      "execution_count": 0,
      "outputs": [
        {
          "output_type": "stream",
          "text": [
            "        ASM    constrast    correl  ...  dif entropy      IMC1      IMC2\n",
            "0  0.051249   602.328840  0.365643  ...     3.041363 -0.794911  0.998111\n",
            "1  0.051357   358.185458  0.455260  ...     3.021880 -0.786490  0.997785\n",
            "2  0.050410  1091.308415  0.388338  ...     3.083138 -0.805934  0.998271\n",
            "3  0.050449   814.251225  0.409345  ...     3.083047 -0.810067  0.998500\n",
            "4  0.050801   724.794118  0.312578  ...     3.147821 -0.795408  0.998164\n",
            "\n",
            "[5 rows x 13 columns]\n"
          ],
          "name": "stdout"
        }
      ]
    },
    {
      "cell_type": "code",
      "metadata": {
        "id": "3ehKvYQAs9TP",
        "colab_type": "code",
        "outputId": "6dad1453-0cee-47ac-dc6f-0f5e31531c2c",
        "colab": {
          "base_uri": "https://localhost:8080/",
          "height": 150
        }
      },
      "source": [
        "print(Contraste_Indef.head())"
      ],
      "execution_count": 0,
      "outputs": [
        {
          "output_type": "stream",
          "text": [
            "        ASM   constrast    correl  ...  dif entropy      IMC1      IMC2\n",
            "0  0.056009  120.755310  0.321776  ...     2.767745 -0.700931  0.993236\n",
            "1  0.052668  321.672386  0.136216  ...     2.892483 -0.754262  0.996182\n",
            "2  0.053195  207.910948  0.321090  ...     2.900438 -0.777385  0.997112\n",
            "3  0.057138  209.535539  0.308492  ...     2.968791 -0.685876  0.990546\n",
            "4  0.068134   77.505310  0.230726  ...     2.552767 -0.597803  0.966357\n",
            "\n",
            "[5 rows x 13 columns]\n"
          ],
          "name": "stdout"
        }
      ]
    },
    {
      "cell_type": "code",
      "metadata": {
        "id": "dZSOVH78CeU_",
        "colab_type": "code",
        "outputId": "0312fd36-86fb-4f52-e53a-483096ea6992",
        "colab": {
          "base_uri": "https://localhost:8080/",
          "height": 120
        }
      },
      "source": [
        "# found drive\n",
        "from google.colab import drive\n",
        "drive.mount('drive')"
      ],
      "execution_count": 0,
      "outputs": [
        {
          "output_type": "stream",
          "text": [
            "Go to this URL in a browser: https://accounts.google.com/o/oauth2/auth?client_id=947318989803-6bn6qk8qdgf4n4g3pfee6491hc0brc4i.apps.googleusercontent.com&redirect_uri=urn%3aietf%3awg%3aoauth%3a2.0%3aoob&response_type=code&scope=email%20https%3a%2f%2fwww.googleapis.com%2fauth%2fdocs.test%20https%3a%2f%2fwww.googleapis.com%2fauth%2fdrive%20https%3a%2f%2fwww.googleapis.com%2fauth%2fdrive.photos.readonly%20https%3a%2f%2fwww.googleapis.com%2fauth%2fpeopleapi.readonly\n",
            "\n",
            "Enter your authorization code:\n",
            "··········\n",
            "Mounted at drive\n"
          ],
          "name": "stdout"
        }
      ]
    },
    {
      "cell_type": "code",
      "metadata": {
        "id": "Lw8rqNu0CpQv",
        "colab_type": "code",
        "colab": {}
      },
      "source": [
        "# get csv file\n",
        "Contraste_Buraco.to_csv('Contraste_Buraco_jan_2020.csv')"
      ],
      "execution_count": 0,
      "outputs": []
    },
    {
      "cell_type": "code",
      "metadata": {
        "id": "QS3XRVNFtISH",
        "colab_type": "code",
        "colab": {}
      },
      "source": [
        "# get csv file\n",
        "Contraste_Grao.to_csv('Contraste_Grao_jan_2020.csv')"
      ],
      "execution_count": 0,
      "outputs": []
    },
    {
      "cell_type": "code",
      "metadata": {
        "id": "1r-ljDKotIlT",
        "colab_type": "code",
        "colab": {}
      },
      "source": [
        "# get csv file\n",
        "Contraste_Indef.to_csv('Contraste_Indef_jan_2020.csv')"
      ],
      "execution_count": 0,
      "outputs": []
    },
    {
      "cell_type": "code",
      "metadata": {
        "id": "6KFSiJ3tB7L2",
        "colab_type": "code",
        "colab": {}
      },
      "source": [
        "# save in drive\n",
        "!cp Contraste_Buraco_jan_2020.csv drive/My\\ Drive/Maria_Gabriela_Textura_dados_jan_2020/"
      ],
      "execution_count": 0,
      "outputs": []
    },
    {
      "cell_type": "code",
      "metadata": {
        "id": "foBD0uxUtROs",
        "colab_type": "code",
        "colab": {}
      },
      "source": [
        "# save in drive\n",
        "!cp Contraste_Grao_jan_2020.csv drive/My\\ Drive/Maria_Gabriela_Textura_dados_jan_2020/"
      ],
      "execution_count": 0,
      "outputs": []
    },
    {
      "cell_type": "code",
      "metadata": {
        "id": "g778xFc2tRh3",
        "colab_type": "code",
        "colab": {}
      },
      "source": [
        "# save in drive\n",
        "!cp Contraste_Indef_jan_2020.csv drive/My\\ Drive/Maria_Gabriela_Textura_dados_jan_2020/"
      ],
      "execution_count": 0,
      "outputs": []
    }
  ]
}