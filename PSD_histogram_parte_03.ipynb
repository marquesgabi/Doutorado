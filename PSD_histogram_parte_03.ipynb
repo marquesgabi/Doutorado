{
  "nbformat": 4,
  "nbformat_minor": 0,
  "metadata": {
    "colab": {
      "name": "PSD_histogram_parte_03.ipynb",
      "provenance": [],
      "collapsed_sections": [],
      "include_colab_link": true
    },
    "kernelspec": {
      "name": "python3",
      "display_name": "Python 3"
    }
  },
  "cells": [
    {
      "cell_type": "markdown",
      "metadata": {
        "id": "view-in-github",
        "colab_type": "text"
      },
      "source": [
        "<a href=\"https://colab.research.google.com/github/marquesgabi/Doutorado/blob/master/PSD_histogram_parte_03.ipynb\" target=\"_parent\"><img src=\"https://colab.research.google.com/assets/colab-badge.svg\" alt=\"Open In Colab\"/></a>"
      ]
    },
    {
      "cell_type": "code",
      "metadata": {
        "id": "Sog7Z9pyhUD_"
      },
      "source": [
        "import matplotlib.pyplot as plt\n",
        "import numpy as np\n",
        "import cv2\n",
        "import zipfile\n",
        "#import random\n",
        "from random import randint\n",
        "from PIL import Image\n",
        "import re\n",
        "from sklearn.model_selection import train_test_split\n",
        "from sklearn.neural_network import MLPClassifier\n",
        "#import scikit-image\n",
        "import skimage\n",
        "import pandas as pd\n",
        "from collections import Counter"
      ],
      "execution_count": null,
      "outputs": []
    },
    {
      "cell_type": "code",
      "metadata": {
        "id": "uZEvJvfoibE4",
        "colab": {
          "base_uri": "https://localhost:8080/"
        },
        "outputId": "85886440-3d40-4de9-df1a-bec2d9e29fc2"
      },
      "source": [
        "!pip install mahotas"
      ],
      "execution_count": null,
      "outputs": [
        {
          "output_type": "stream",
          "text": [
            "Collecting mahotas\n",
            "\u001b[?25l  Downloading https://files.pythonhosted.org/packages/19/ad/553b246b0a35dccc3ed58dc8889a67124bf5ab858e9c6b7255d56086e70c/mahotas-1.4.11-cp37-cp37m-manylinux2010_x86_64.whl (5.7MB)\n",
            "\u001b[K     |████████████████████████████████| 5.7MB 26.0MB/s \n",
            "\u001b[?25hRequirement already satisfied: numpy in /usr/local/lib/python3.7/dist-packages (from mahotas) (1.19.5)\n",
            "Installing collected packages: mahotas\n",
            "Successfully installed mahotas-1.4.11\n"
          ],
          "name": "stdout"
        }
      ]
    },
    {
      "cell_type": "code",
      "metadata": {
        "id": "nf_a6PJ1iUnT"
      },
      "source": [
        "import mahotas.features.texture as mht\n",
        "import mahotas.features"
      ],
      "execution_count": null,
      "outputs": []
    },
    {
      "cell_type": "code",
      "metadata": {
        "id": "_VcTdaNVh9EE",
        "colab": {
          "base_uri": "https://localhost:8080/"
        },
        "outputId": "c031fcfe-4577-4d3f-91da-db778206c988"
      },
      "source": [
        "!git clone https://github.com/ucfilho/marquesgabi_fev_2020 #clonar do Github\n",
        "%cd marquesgabi_fev_2020\n",
        "import Go2BlackWhite\n",
        "import Go2Mahotas"
      ],
      "execution_count": null,
      "outputs": [
        {
          "output_type": "stream",
          "text": [
            "Cloning into 'marquesgabi_fev_2020'...\n",
            "remote: Enumerating objects: 73, done.\u001b[K\n",
            "remote: Counting objects: 100% (73/73), done.\u001b[K\n",
            "remote: Compressing objects: 100% (71/71), done.\u001b[K\n",
            "remote: Total 73 (delta 37), reused 0 (delta 0), pack-reused 0\u001b[K\n",
            "Unpacking objects: 100% (73/73), done.\n",
            "/content/marquesgabi_fev_2020\n"
          ],
          "name": "stdout"
        }
      ]
    },
    {
      "cell_type": "code",
      "metadata": {
        "id": "1v7SRrc8mH2N",
        "colab": {
          "base_uri": "https://localhost:8080/"
        },
        "outputId": "d249474e-87aa-485d-cc13-beb2902e5734"
      },
      "source": [
        "!git clone https://github.com/marquesgabi/Doutorado\n",
        "%cd Doutorado\n",
        "\n",
        "Transfere='Fotos_Grandes_3cdAmostra.zip'\n",
        "file_name = zipfile.ZipFile(Transfere, 'r')\n",
        "file_name.extractall()"
      ],
      "execution_count": null,
      "outputs": [
        {
          "output_type": "stream",
          "text": [
            "Cloning into 'Doutorado'...\n",
            "remote: Enumerating objects: 311, done.\u001b[K\n",
            "remote: Counting objects: 100% (61/61), done.\u001b[K\n",
            "remote: Compressing objects: 100% (61/61), done.\u001b[K\n",
            "remote: Total 311 (delta 24), reused 0 (delta 0), pack-reused 250\u001b[K\n",
            "Receiving objects: 100% (311/311), 91.61 MiB | 36.02 MiB/s, done.\n",
            "Resolving deltas: 100% (147/147), done.\n",
            "/content/marquesgabi_fev_2020/Doutorado\n"
          ],
          "name": "stdout"
        }
      ]
    },
    {
      "cell_type": "code",
      "metadata": {
        "id": "0kA4IWSmasoD"
      },
      "source": [
        "Size=1200 # tamanho da foto\n",
        "ww,img_name=Go2BlackWhite.BlackWhite(Transfere,Size) #Pegamos a primeira foto Grande\n",
        "img=ww[0] \n",
        "# this is the big image we want to segment \n",
        "# ww[0], change it if you want to segment another picture"
      ],
      "execution_count": null,
      "outputs": []
    },
    {
      "cell_type": "code",
      "metadata": {
        "id": "tHgqAnaFyCjp",
        "colab": {
          "base_uri": "https://localhost:8080/"
        },
        "outputId": "7f160df6-9291-4a26-f21a-5df69a1f70f3"
      },
      "source": [
        "!git clone https://github.com/ucfilho/MarquesGabi_Routines\n",
        "%cd MarquesGabi_Routines"
      ],
      "execution_count": null,
      "outputs": [
        {
          "output_type": "stream",
          "text": [
            "Cloning into 'MarquesGabi_Routines'...\n",
            "remote: Enumerating objects: 120, done.\u001b[K\n",
            "remote: Counting objects: 100% (120/120), done.\u001b[K\n",
            "remote: Compressing objects: 100% (118/118), done.\u001b[K\n",
            "remote: Total 120 (delta 55), reused 0 (delta 0), pack-reused 0\u001b[K\n",
            "Receiving objects: 100% (120/120), 124.74 MiB | 22.10 MiB/s, done.\n",
            "Resolving deltas: 100% (55/55), done.\n",
            "/content/marquesgabi_fev_2020/Doutorado/MarquesGabi_Routines\n"
          ],
          "name": "stdout"
        }
      ]
    },
    {
      "cell_type": "code",
      "metadata": {
        "id": "qc4rFvzkyWCi"
      },
      "source": [
        "from segment_filter_not_conclude_parte_03 import Segmenta  # got image provided segmented"
      ],
      "execution_count": null,
      "outputs": []
    },
    {
      "cell_type": "code",
      "metadata": {
        "id": "ilIvas1OBle3"
      },
      "source": [
        "n1 = 20 # neurons in hidden layer\n",
        "n2 = 20 # neurons in hidden layer\n",
        "c =10 # size to segment\n",
        "d = 1000  # size to segment"
      ],
      "execution_count": null,
      "outputs": []
    },
    {
      "cell_type": "code",
      "metadata": {
        "id": "SnTtH3KDP863"
      },
      "source": [
        "df=Segmenta(img,c,d)\n",
        "df = df.dropna()"
      ],
      "execution_count": null,
      "outputs": []
    },
    {
      "cell_type": "code",
      "metadata": {
        "id": "YN5MN5a_v4np",
        "colab": {
          "base_uri": "https://localhost:8080/"
        },
        "outputId": "ce2d5c7b-fd3a-4fe9-8691-2490af7fa6da"
      },
      "source": [
        "print(df)"
      ],
      "execution_count": null,
      "outputs": [
        {
          "output_type": "stream",
          "text": [
            "    Width           0           1  ...        9997        9998        9999\n",
            "0      83  108.000000  108.795181  ...   62.590363   61.795181   61.000000\n",
            "1     936   80.808022   71.224236  ...    3.670813    3.366864    3.670027\n",
            "2     400   81.875000   85.500000  ...   76.687500   80.375000   81.375000\n",
            "3     331   86.352325   81.886826  ...   38.101562   35.561176   34.752098\n",
            "4     850   82.975777   86.788933  ...    5.429066    6.190312    0.965398\n",
            "5     885   46.846245   76.639534  ...    3.050432    1.749178    0.916723\n",
            "6     398    6.539330   36.990685  ...    9.213202    8.785182    8.972046\n",
            "7     762   82.952782   82.386551  ...    3.219067    1.655403    1.054002\n",
            "8     460   38.311909   30.083176  ...    0.132325    0.000000    0.000000\n",
            "9     194   81.249756   81.985016  ...  111.084915   26.383568   18.280687\n",
            "10    836  102.307938   83.059769  ...    3.148806    1.691811    0.971246\n",
            "11    217  133.715439  134.329880  ...  109.797302  108.071037  107.617508\n",
            "12    723  109.132561   41.176163  ...    4.184059    4.529937    4.596128\n",
            "13    959   60.936722   58.777069  ...    2.989929    1.875391    0.845076\n",
            "14     67  100.000000  102.029846  ...   50.985077   51.000000   51.000000\n",
            "15    741   76.564339   79.844208  ...    3.205434    1.654401    1.076344\n",
            "16    307  106.430794  107.764519  ...   28.375748   29.966045   34.157963\n",
            "17    456   78.827950   72.985306  ...    2.107418    1.729686    1.438596\n",
            "18    657  103.979385  106.463554  ...   51.639584   31.823606   12.717894\n",
            "19    117   83.269493   86.084457  ...   22.239317   22.239317   21.508804\n",
            "20    431   59.886204   59.437244  ...  102.217209  101.716721  103.784668\n",
            "21    743   76.515816   77.141289  ...    5.309401    5.118114    5.058336\n",
            "22    500   80.559998   83.320000  ...   57.959999   59.079998   58.279999\n",
            "23    746   55.365398   70.556511  ...    3.209877    1.653861    1.070948\n",
            "24    687   76.223595   73.971886  ...    5.051881    5.232139    4.712744\n",
            "25    322   57.319893   57.767410  ...   32.177036   25.782106   13.593998\n",
            "26    830  105.100746  105.434906  ...    5.674119    4.572362    4.768327\n",
            "27    356   99.529091   96.343140  ...   10.127131   10.594242    9.824139\n",
            "28    509  119.399147  110.433426  ...    0.000000    0.000000    0.000000\n",
            "29    887    3.516964    2.036926  ...    7.408752    1.501269    1.152229\n",
            "30    251   72.485710   72.047523  ...    9.258615    9.382471    9.618975\n",
            "31    783   83.157593   83.513229  ...    3.204048    1.656856    1.032477\n",
            "32    174  104.330292  105.574051  ...    2.203197    2.149425    2.149425\n",
            "33    761   83.357269   80.593025  ...    3.218607    1.655267    1.055047\n",
            "34    396   43.005104   43.518211  ...    8.988878    8.871951    9.009489\n",
            "35    918    2.347298    1.152306  ...   48.166077   44.787052   45.147205\n",
            "36    445   47.888908   49.033455  ...    0.674789    0.694862    0.196945\n",
            "37    328   93.092659   92.944527  ...   31.697205   33.844143   35.561569\n",
            "38    274  103.441574  103.438278  ...   57.065964   57.521767   59.228088\n",
            "39    828   93.835075   76.468651  ...    3.159350    1.684987    0.980770\n",
            "40    209   69.697487   70.208336  ...   42.832878   42.026165   43.891418\n",
            "41     21    0.000000    0.000000  ...    0.000000    0.000000    0.000000\n",
            "42    943   64.348724   61.067314  ...    4.121848    4.290754    4.411080\n",
            "43    226   45.681335   46.259926  ...   87.977844   89.080750   90.620560\n",
            "44    517  120.428040  120.896049  ...    1.407881    2.135849    2.114068\n",
            "45    893   42.691963   44.206268  ...    3.036491    1.758106    0.908397\n",
            "46    101   93.990097   95.000198  ...   79.989807   79.019615   79.000000\n",
            "47    744   64.897278   65.411301  ...    4.850880    5.121141    4.751156\n",
            "48    854  104.463737  103.356529  ...    3.114628    1.708450    0.950480\n",
            "49    533  103.994637  108.825012  ...    6.850983    6.816486    6.639782\n",
            "\n",
            "[50 rows x 10001 columns]\n"
          ],
          "name": "stdout"
        }
      ]
    },
    {
      "cell_type": "code",
      "metadata": {
        "id": "ZLECVexN9Jsg",
        "colab": {
          "base_uri": "https://localhost:8080/"
        },
        "outputId": "7b31c17f-7156-412b-9799-154d05a26cf4"
      },
      "source": [
        "!git clone https://github.com/ucfilho/MarquesGabi_Routines\n",
        "%cd MarquesGabi_Routines"
      ],
      "execution_count": null,
      "outputs": [
        {
          "output_type": "stream",
          "text": [
            "Cloning into 'MarquesGabi_Routines'...\n",
            "remote: Enumerating objects: 120, done.\u001b[K\n",
            "remote: Counting objects: 100% (120/120), done.\u001b[K\n",
            "remote: Compressing objects: 100% (117/117), done.\u001b[K\n",
            "remote: Total 120 (delta 55), reused 3 (delta 1), pack-reused 0\u001b[K\n",
            "Receiving objects: 100% (120/120), 124.74 MiB | 23.47 MiB/s, done.\n",
            "Resolving deltas: 100% (55/55), done.\n",
            "/content/marquesgabi_fev_2020/Doutorado/MarquesGabi_Routines/MarquesGabi_Routines\n"
          ],
          "name": "stdout"
        }
      ]
    },
    {
      "cell_type": "code",
      "metadata": {
        "id": "UuaAzbXy9UwP"
      },
      "source": [
        "# leitura dos dados\n",
        "df1=pd.read_excel(\"ImgGrao_a.xlsx\")\n",
        "df2=pd.read_excel(\"ImgGrao_b.xlsx\")\n",
        "df3=pd.read_excel(\"ImgIndef.xlsx\")\n",
        "df4=pd.read_excel(\"ImgVarios.xlsx\")\n",
        "df5=pd.read_excel(\"ImgBuraco.xlsx\")"
      ],
      "execution_count": null,
      "outputs": []
    },
    {
      "cell_type": "code",
      "metadata": {
        "id": "txde4lbo9Xw9"
      },
      "source": [
        "df = pd.concat([df1, df2, df3, df4, df5], ignore_index=True)\n",
        "df.head()\n",
        "df_all = df.copy()"
      ],
      "execution_count": null,
      "outputs": []
    },
    {
      "cell_type": "code",
      "metadata": {
        "colab": {
          "base_uri": "https://localhost:8080/"
        },
        "id": "GIyJVxqB90I-",
        "outputId": "98ea43e8-ca99-4d64-9acb-2938d16796a8"
      },
      "source": [
        "print(df1.shape)\n",
        "print(df2.shape)\n",
        "print(df3.shape)\n",
        "print(df4.shape)\n",
        "print(df5.shape)"
      ],
      "execution_count": null,
      "outputs": [
        {
          "output_type": "stream",
          "text": [
            "(180, 10002)\n",
            "(179, 10002)\n",
            "(180, 10002)\n",
            "(162, 10002)\n",
            "(180, 10002)\n"
          ],
          "name": "stdout"
        }
      ]
    },
    {
      "cell_type": "code",
      "metadata": {
        "id": "8CUYBGXl-v2l"
      },
      "source": [
        "w = df_all['Type']\n",
        "y = []\n",
        "for wi in w:\n",
        "  if(wi == 'G'):\n",
        "    y.append(1)\n",
        "  elif(wi == 'B'):\n",
        "    y.append(2)\n",
        "  elif(wi == 'I'):\n",
        "    y.append(2)\n",
        "  elif(wi == 'V'):\n",
        "    y.append(2)"
      ],
      "execution_count": null,
      "outputs": []
    },
    {
      "cell_type": "code",
      "metadata": {
        "id": "_3BTDVex_zmH"
      },
      "source": [
        "df_all.drop(['Unnamed: 0','Type'], axis='columns', inplace=True)"
      ],
      "execution_count": null,
      "outputs": []
    },
    {
      "cell_type": "code",
      "metadata": {
        "id": "YDkHBPKeBbkz"
      },
      "source": [
        "y_ann = y.copy()\n",
        "X =np.array(df_all.copy())\n",
        "X_train, X_test, y_train, y_test = train_test_split(X, y, test_size=0.30, shuffle=True, random_state=42)"
      ],
      "execution_count": null,
      "outputs": []
    },
    {
      "cell_type": "code",
      "metadata": {
        "colab": {
          "base_uri": "https://localhost:8080/"
        },
        "id": "zntmbKMH9iLw",
        "outputId": "ac80f408-25ff-42b5-ae16-fa657c97a458"
      },
      "source": [
        "X_test.shape"
      ],
      "execution_count": null,
      "outputs": [
        {
          "output_type": "execute_result",
          "data": {
            "text/plain": [
              "(265, 10000)"
            ]
          },
          "metadata": {
            "tags": []
          },
          "execution_count": 19
        }
      ]
    },
    {
      "cell_type": "code",
      "metadata": {
        "id": "Mz-aTpaBBuhD",
        "colab": {
          "base_uri": "https://localhost:8080/"
        },
        "outputId": "777c05b8-9535-4493-9efe-1939d55a7056"
      },
      "source": [
        "model = MLPClassifier(hidden_layer_sizes=(n1,n2), activation='tanh',solver='adam',random_state=1, max_iter=300).fit(X_train,y_train)\n",
        "prediction = model.predict(X_test)\n",
        "  \n",
        "y =np.copy(y_test)\n",
        "data = {'y_true': y_test,'y_predict': prediction}  # este dado esta no formato de dicionario\n",
        "\n",
        "df = pd.DataFrame(data, columns=['y_true','y_predict'])\n",
        "\n",
        "confusion_matrix = pd.crosstab(df['y_true'], df['y_predict'], rownames=['Actual'], colnames=['Predict'])\n",
        "# print(confusion_matrix)\n",
        "\n",
        "y_true = df['y_true']\n",
        "y_pred = df['y_predict']\n",
        "print('n1, n2 =',n1,n2,'true',Counter(y_true),'calc',Counter(y_pred))"
      ],
      "execution_count": null,
      "outputs": [
        {
          "output_type": "stream",
          "text": [
            "n1, n2 = 20 20 true Counter({2: 159, 1: 106}) calc Counter({2: 265})\n"
          ],
          "name": "stdout"
        }
      ]
    },
    {
      "cell_type": "code",
      "metadata": {
        "id": "MjRbWgmX_LFH",
        "colab": {
          "base_uri": "https://localhost:8080/"
        },
        "outputId": "8b601689-ec56-4024-d00c-73702bf1108c"
      },
      "source": [
        "!git clone https://github.com/ucfilho/marquesgabi_paper_fev_2021\n",
        "%cd marquesgabi_paper_fev_2021\n",
        "\n",
        "from Get_PSDArea_New import PSDArea\n",
        "from histogram_fev_2021 import PSD\n",
        "from GetBetterSegm import GetBetter"
      ],
      "execution_count": null,
      "outputs": [
        {
          "output_type": "stream",
          "text": [
            "Cloning into 'marquesgabi_paper_fev_2021'...\n",
            "remote: Enumerating objects: 537, done.\u001b[K\n",
            "remote: Counting objects: 100% (298/298), done.\u001b[K\n",
            "remote: Compressing objects: 100% (297/297), done.\u001b[K\n",
            "remote: Total 537 (delta 183), reused 0 (delta 0), pack-reused 239\u001b[K\n",
            "Receiving objects: 100% (537/537), 3.40 MiB | 13.88 MiB/s, done.\n",
            "Resolving deltas: 100% (320/320), done.\n",
            "/content/marquesgabi_fev_2020/Doutorado/MarquesGabi_Routines/MarquesGabi_Routines/marquesgabi_paper_fev_2021\n"
          ],
          "name": "stdout"
        }
      ]
    },
    {
      "cell_type": "code",
      "metadata": {
        "id": "YycL4kbzF4V2",
        "colab": {
          "base_uri": "https://localhost:8080/"
        },
        "outputId": "e1f95fd4-2d62-4148-c19d-6757d3e8dce9"
      },
      "source": [
        "!git clone https://github.com/marquesgabi/Doutorado\n",
        "%cd Doutorado\n",
        "\n",
        "Transfere='Fotos_Grandes_3cdAmostra.zip'\n",
        "file_name = zipfile.ZipFile(Transfere, 'r')\n",
        "file_name.extractall()"
      ],
      "execution_count": null,
      "outputs": [
        {
          "output_type": "stream",
          "text": [
            "Cloning into 'Doutorado'...\n",
            "remote: Enumerating objects: 311, done.\u001b[K\n",
            "remote: Counting objects: 100% (61/61), done.\u001b[K\n",
            "remote: Compressing objects: 100% (61/61), done.\u001b[K\n",
            "remote: Total 311 (delta 24), reused 0 (delta 0), pack-reused 250\u001b[K\n",
            "Receiving objects: 100% (311/311), 128.77 MiB | 41.98 MiB/s, done.\n",
            "Resolving deltas: 100% (141/141), done.\n",
            "/content/marquesgabi_fev_2020/Doutorado/MarquesGabi_Routines/MarquesGabi_Routines/marquesgabi_paper_fev_2021/Doutorado\n"
          ],
          "name": "stdout"
        }
      ]
    },
    {
      "cell_type": "code",
      "metadata": {
        "id": "lMHu2XXHF-X5"
      },
      "source": [
        "Size=1200 # tamanho da foto\n",
        "ww,img_name=Go2BlackWhite.BlackWhite(Transfere,Size) #Pegamos a primeira foto Grande\n",
        "img=ww[0] \n",
        "# this is the big image we want to segment \n",
        "# ww[0], change it if you want to segment another picture"
      ],
      "execution_count": null,
      "outputs": []
    },
    {
      "cell_type": "code",
      "metadata": {
        "id": "BlIzgAPWF_Xa",
        "colab": {
          "base_uri": "https://localhost:8080/"
        },
        "outputId": "1cc23c7c-1f64-4989-c46c-d80f0b6619f7"
      },
      "source": [
        "!git clone https://github.com/ucfilho/MarquesGabi_Routines\n",
        "%cd MarquesGabi_Routines"
      ],
      "execution_count": null,
      "outputs": [
        {
          "output_type": "stream",
          "text": [
            "Cloning into 'MarquesGabi_Routines'...\n",
            "remote: Enumerating objects: 120, done.\u001b[K\n",
            "remote: Counting objects: 100% (120/120), done.\u001b[K\n",
            "remote: Compressing objects: 100% (118/118), done.\u001b[K\n",
            "remote: Total 120 (delta 55), reused 0 (delta 0), pack-reused 0\u001b[K\n",
            "Receiving objects: 100% (120/120), 124.74 MiB | 22.03 MiB/s, done.\n",
            "Resolving deltas: 100% (55/55), done.\n",
            "/content/marquesgabi_fev_2020/Doutorado/MarquesGabi_Routines/MarquesGabi_Routines/marquesgabi_paper_fev_2021/Doutorado/MarquesGabi_Routines\n"
          ],
          "name": "stdout"
        }
      ]
    },
    {
      "cell_type": "code",
      "metadata": {
        "id": "OOtU1jNkGIq1"
      },
      "source": [
        "df=Segmenta(img,c,d)\n",
        "# df = df.dropna()"
      ],
      "execution_count": null,
      "outputs": []
    },
    {
      "cell_type": "code",
      "metadata": {
        "id": "Ie57GwxFAtLx"
      },
      "source": [
        ""
      ],
      "execution_count": null,
      "outputs": []
    },
    {
      "cell_type": "code",
      "metadata": {
        "id": "3LdsoVIfFpdE",
        "colab": {
          "base_uri": "https://localhost:8080/"
        },
        "outputId": "7299eb83-6b9f-4b6b-ebdf-dca0f451e022"
      },
      "source": [
        "cont = 0; num =25\n",
        "img_graos = []\n",
        "Width_new = []\n",
        "img=ww[0] \n",
        "global_cont = 0\n",
        "while( cont < num):\n",
        "  global_cont = global_cont + 1\n",
        "  print('global=',global_cont,'cont =', cont)\n",
        "  df=Segmenta(img,c,d)\n",
        "  df_ann =df.copy()\n",
        "  Width = df['Width']\n",
        "  del df_ann['Width']\n",
        "  result = np.array(df_ann)/255\n",
        "\n",
        "  df = df.dropna()\n",
        "  \n",
        "  prediction = model.predict(result)\n",
        "  loc_grao =[];k=0\n",
        "  for i in prediction:\n",
        "    # print('i= (1 grao, 2 nao grao',i)\n",
        "    if( i == 1):\n",
        "      img_graos.append(df.iloc[k,:])\n",
        "      Width_new.append(Width.iloc[k])\n",
        "      cont = cont + 1\n",
        "    k = k +1\n",
        "img_graos = pd.DataFrame(img_graos)\n",
        "print(img_graos)"
      ],
      "execution_count": null,
      "outputs": [
        {
          "output_type": "stream",
          "text": [
            "global= 1 cont = 0\n",
            "global= 2 cont = 0\n",
            "global= 3 cont = 0\n",
            "global= 4 cont = 0\n",
            "global= 5 cont = 0\n",
            "global= 6 cont = 0\n",
            "global= 7 cont = 0\n",
            "global= 8 cont = 0\n",
            "global= 9 cont = 0\n",
            "global= 10 cont = 0\n",
            "global= 11 cont = 0\n",
            "global= 12 cont = 0\n",
            "global= 13 cont = 0\n",
            "global= 14 cont = 0\n",
            "global= 15 cont = 0\n",
            "global= 16 cont = 0\n",
            "global= 17 cont = 0\n",
            "global= 18 cont = 0\n",
            "global= 19 cont = 0\n",
            "global= 20 cont = 0\n",
            "global= 21 cont = 0\n",
            "global= 22 cont = 0\n",
            "global= 23 cont = 0\n",
            "global= 24 cont = 0\n",
            "global= 25 cont = 0\n",
            "global= 26 cont = 0\n",
            "global= 27 cont = 0\n",
            "global= 28 cont = 0\n",
            "global= 29 cont = 0\n",
            "global= 30 cont = 0\n",
            "global= 31 cont = 0\n",
            "global= 32 cont = 0\n",
            "global= 33 cont = 0\n",
            "global= 34 cont = 0\n",
            "global= 35 cont = 0\n",
            "global= 36 cont = 0\n",
            "global= 37 cont = 0\n",
            "global= 38 cont = 0\n",
            "global= 39 cont = 0\n",
            "global= 40 cont = 0\n",
            "global= 41 cont = 0\n",
            "global= 42 cont = 0\n",
            "global= 43 cont = 0\n",
            "global= 44 cont = 0\n",
            "global= 45 cont = 0\n",
            "global= 46 cont = 0\n",
            "global= 47 cont = 0\n",
            "global= 48 cont = 0\n",
            "global= 49 cont = 0\n",
            "global= 50 cont = 0\n",
            "global= 51 cont = 0\n",
            "global= 52 cont = 0\n",
            "global= 53 cont = 0\n",
            "global= 54 cont = 0\n",
            "global= 55 cont = 0\n",
            "global= 56 cont = 0\n",
            "global= 57 cont = 0\n",
            "global= 58 cont = 0\n",
            "global= 59 cont = 0\n",
            "global= 60 cont = 0\n",
            "global= 61 cont = 0\n",
            "global= 62 cont = 0\n",
            "global= 63 cont = 0\n",
            "global= 64 cont = 0\n",
            "global= 65 cont = 0\n",
            "global= 66 cont = 0\n",
            "global= 67 cont = 0\n",
            "global= 68 cont = 0\n",
            "global= 69 cont = 0\n",
            "global= 70 cont = 0\n",
            "global= 71 cont = 0\n",
            "global= 72 cont = 0\n",
            "global= 73 cont = 0\n",
            "global= 74 cont = 0\n",
            "global= 75 cont = 0\n",
            "global= 76 cont = 0\n",
            "global= 77 cont = 0\n",
            "global= 78 cont = 0\n",
            "global= 79 cont = 0\n",
            "global= 80 cont = 0\n",
            "global= 81 cont = 0\n",
            "global= 82 cont = 0\n",
            "global= 83 cont = 0\n",
            "global= 84 cont = 0\n",
            "global= 85 cont = 0\n",
            "global= 86 cont = 0\n",
            "global= 87 cont = 0\n",
            "global= 88 cont = 0\n",
            "global= 89 cont = 0\n",
            "global= 90 cont = 0\n",
            "global= 91 cont = 0\n",
            "global= 92 cont = 0\n",
            "global= 93 cont = 0\n",
            "global= 94 cont = 0\n",
            "global= 95 cont = 0\n",
            "global= 96 cont = 0\n",
            "global= 97 cont = 0\n",
            "global= 98 cont = 0\n",
            "global= 99 cont = 0\n",
            "global= 100 cont = 0\n",
            "global= 101 cont = 0\n",
            "global= 102 cont = 0\n",
            "global= 103 cont = 0\n",
            "global= 104 cont = 0\n",
            "global= 105 cont = 0\n",
            "global= 106 cont = 0\n",
            "global= 107 cont = 0\n",
            "global= 108 cont = 0\n",
            "global= 109 cont = 0\n",
            "global= 110 cont = 0\n",
            "global= 111 cont = 0\n",
            "global= 112 cont = 0\n",
            "global= 113 cont = 0\n",
            "global= 114 cont = 0\n",
            "global= 115 cont = 0\n",
            "global= 116 cont = 0\n",
            "global= 117 cont = 0\n",
            "global= 118 cont = 0\n",
            "global= 119 cont = 0\n",
            "global= 120 cont = 0\n",
            "global= 121 cont = 0\n",
            "global= 122 cont = 0\n",
            "global= 123 cont = 0\n",
            "global= 124 cont = 0\n",
            "global= 125 cont = 0\n",
            "global= 126 cont = 0\n",
            "global= 127 cont = 0\n",
            "global= 128 cont = 0\n",
            "global= 129 cont = 0\n",
            "global= 130 cont = 0\n",
            "global= 131 cont = 0\n",
            "global= 132 cont = 0\n",
            "global= 133 cont = 0\n",
            "global= 134 cont = 0\n",
            "global= 135 cont = 0\n",
            "global= 136 cont = 0\n",
            "global= 137 cont = 0\n",
            "global= 138 cont = 0\n",
            "global= 139 cont = 0\n",
            "global= 140 cont = 0\n",
            "global= 141 cont = 0\n",
            "global= 142 cont = 0\n",
            "global= 143 cont = 0\n",
            "global= 144 cont = 0\n",
            "global= 145 cont = 0\n",
            "global= 146 cont = 0\n",
            "global= 147 cont = 0\n",
            "global= 148 cont = 0\n",
            "global= 149 cont = 0\n",
            "global= 150 cont = 0\n",
            "global= 151 cont = 0\n",
            "global= 152 cont = 0\n",
            "global= 153 cont = 0\n",
            "global= 154 cont = 0\n",
            "global= 155 cont = 0\n",
            "global= 156 cont = 0\n",
            "global= 157 cont = 0\n",
            "global= 158 cont = 0\n",
            "global= 159 cont = 0\n",
            "global= 160 cont = 0\n",
            "global= 161 cont = 0\n",
            "global= 162 cont = 0\n",
            "global= 163 cont = 0\n",
            "global= 164 cont = 0\n",
            "global= 165 cont = 0\n",
            "global= 166 cont = 0\n",
            "global= 167 cont = 0\n",
            "global= 168 cont = 0\n",
            "global= 169 cont = 0\n",
            "global= 170 cont = 0\n",
            "global= 171 cont = 0\n",
            "global= 172 cont = 0\n",
            "global= 173 cont = 0\n",
            "global= 174 cont = 0\n",
            "global= 175 cont = 0\n",
            "global= 176 cont = 0\n",
            "global= 177 cont = 0\n",
            "global= 178 cont = 0\n",
            "global= 179 cont = 0\n",
            "global= 180 cont = 0\n",
            "global= 181 cont = 0\n",
            "global= 182 cont = 0\n",
            "global= 183 cont = 0\n",
            "global= 184 cont = 0\n",
            "global= 185 cont = 0\n",
            "global= 186 cont = 0\n",
            "global= 187 cont = 0\n",
            "global= 188 cont = 0\n",
            "global= 189 cont = 0\n",
            "global= 190 cont = 0\n",
            "global= 191 cont = 0\n",
            "global= 192 cont = 0\n",
            "global= 193 cont = 0\n",
            "global= 194 cont = 0\n",
            "global= 195 cont = 0\n",
            "global= 196 cont = 0\n",
            "global= 197 cont = 0\n",
            "global= 198 cont = 0\n",
            "global= 199 cont = 0\n",
            "global= 200 cont = 0\n",
            "global= 201 cont = 0\n",
            "global= 202 cont = 0\n",
            "global= 203 cont = 0\n",
            "global= 204 cont = 0\n",
            "global= 205 cont = 0\n",
            "global= 206 cont = 0\n",
            "global= 207 cont = 0\n",
            "global= 208 cont = 0\n",
            "global= 209 cont = 0\n",
            "global= 210 cont = 0\n",
            "global= 211 cont = 0\n",
            "global= 212 cont = 0\n",
            "global= 213 cont = 0\n",
            "global= 214 cont = 0\n",
            "global= 215 cont = 0\n",
            "global= 216 cont = 0\n",
            "global= 217 cont = 0\n",
            "global= 218 cont = 0\n",
            "global= 219 cont = 0\n",
            "global= 220 cont = 0\n",
            "global= 221 cont = 0\n",
            "global= 222 cont = 0\n",
            "global= 223 cont = 0\n",
            "global= 224 cont = 0\n",
            "global= 225 cont = 0\n",
            "global= 226 cont = 0\n",
            "global= 227 cont = 0\n",
            "global= 228 cont = 0\n",
            "global= 229 cont = 0\n",
            "global= 230 cont = 0\n",
            "global= 231 cont = 0\n",
            "global= 232 cont = 0\n",
            "global= 233 cont = 0\n",
            "global= 234 cont = 0\n",
            "global= 235 cont = 0\n",
            "global= 236 cont = 0\n",
            "global= 237 cont = 0\n",
            "global= 238 cont = 0\n",
            "global= 239 cont = 0\n",
            "global= 240 cont = 0\n",
            "global= 241 cont = 0\n",
            "global= 242 cont = 0\n",
            "global= 243 cont = 0\n",
            "global= 244 cont = 0\n",
            "global= 245 cont = 0\n",
            "global= 246 cont = 0\n",
            "global= 247 cont = 0\n",
            "global= 248 cont = 0\n",
            "global= 249 cont = 0\n",
            "global= 250 cont = 0\n",
            "global= 251 cont = 0\n",
            "global= 252 cont = 0\n",
            "global= 253 cont = 0\n",
            "global= 254 cont = 0\n",
            "global= 255 cont = 0\n",
            "global= 256 cont = 0\n",
            "global= 257 cont = 0\n",
            "global= 258 cont = 0\n",
            "global= 259 cont = 0\n",
            "global= 260 cont = 0\n",
            "global= 261 cont = 0\n",
            "global= 262 cont = 0\n",
            "global= 263 cont = 0\n",
            "global= 264 cont = 0\n",
            "global= 265 cont = 0\n",
            "global= 266 cont = 0\n",
            "global= 267 cont = 0\n",
            "global= 268 cont = 0\n",
            "global= 269 cont = 0\n",
            "global= 270 cont = 0\n",
            "global= 271 cont = 0\n",
            "global= 272 cont = 0\n",
            "global= 273 cont = 0\n",
            "global= 274 cont = 0\n",
            "global= 275 cont = 0\n",
            "global= 276 cont = 0\n",
            "global= 277 cont = 0\n",
            "global= 278 cont = 0\n",
            "global= 279 cont = 0\n",
            "global= 280 cont = 0\n",
            "global= 281 cont = 0\n",
            "global= 282 cont = 0\n",
            "global= 283 cont = 0\n",
            "global= 284 cont = 0\n",
            "global= 285 cont = 0\n",
            "global= 286 cont = 0\n",
            "global= 287 cont = 0\n",
            "global= 288 cont = 0\n",
            "global= 289 cont = 0\n",
            "global= 290 cont = 0\n",
            "global= 291 cont = 0\n",
            "global= 292 cont = 0\n",
            "global= 293 cont = 0\n",
            "global= 294 cont = 0\n",
            "global= 295 cont = 0\n",
            "global= 296 cont = 0\n",
            "global= 297 cont = 0\n",
            "global= 298 cont = 0\n",
            "global= 299 cont = 0\n",
            "global= 300 cont = 0\n",
            "global= 301 cont = 0\n",
            "global= 302 cont = 0\n",
            "global= 303 cont = 0\n",
            "global= 304 cont = 0\n",
            "global= 305 cont = 0\n",
            "global= 306 cont = 0\n",
            "global= 307 cont = 0\n",
            "global= 308 cont = 0\n",
            "global= 309 cont = 0\n",
            "global= 310 cont = 0\n",
            "global= 311 cont = 0\n",
            "global= 312 cont = 0\n",
            "global= 313 cont = 0\n",
            "global= 314 cont = 0\n",
            "global= 315 cont = 0\n",
            "global= 316 cont = 0\n",
            "global= 317 cont = 0\n",
            "global= 318 cont = 0\n",
            "global= 319 cont = 0\n",
            "global= 320 cont = 0\n",
            "global= 321 cont = 0\n",
            "global= 322 cont = 0\n",
            "global= 323 cont = 0\n",
            "global= 324 cont = 0\n",
            "global= 325 cont = 0\n",
            "global= 326 cont = 0\n",
            "global= 327 cont = 0\n",
            "global= 328 cont = 0\n",
            "global= 329 cont = 0\n",
            "global= 330 cont = 0\n",
            "global= 331 cont = 0\n",
            "global= 332 cont = 0\n",
            "global= 333 cont = 0\n",
            "global= 334 cont = 0\n",
            "global= 335 cont = 0\n",
            "global= 336 cont = 0\n",
            "global= 337 cont = 0\n",
            "global= 338 cont = 0\n",
            "global= 339 cont = 0\n",
            "global= 340 cont = 0\n",
            "global= 341 cont = 0\n",
            "global= 342 cont = 0\n",
            "global= 343 cont = 0\n",
            "global= 344 cont = 0\n",
            "global= 345 cont = 0\n",
            "global= 346 cont = 0\n",
            "global= 347 cont = 0\n",
            "global= 348 cont = 0\n",
            "global= 349 cont = 0\n",
            "global= 350 cont = 0\n",
            "global= 351 cont = 0\n",
            "global= 352 cont = 0\n",
            "global= 353 cont = 0\n",
            "global= 354 cont = 0\n",
            "global= 355 cont = 0\n",
            "global= 356 cont = 0\n",
            "global= 357 cont = 0\n",
            "global= 358 cont = 0\n",
            "global= 359 cont = 0\n",
            "global= 360 cont = 0\n",
            "global= 361 cont = 0\n",
            "global= 362 cont = 0\n",
            "global= 363 cont = 0\n",
            "global= 364 cont = 0\n",
            "global= 365 cont = 0\n",
            "global= 366 cont = 0\n",
            "global= 367 cont = 0\n",
            "global= 368 cont = 0\n",
            "global= 369 cont = 0\n",
            "global= 370 cont = 0\n",
            "global= 371 cont = 0\n",
            "global= 372 cont = 0\n",
            "global= 373 cont = 0\n",
            "global= 374 cont = 0\n",
            "global= 375 cont = 0\n",
            "global= 376 cont = 0\n",
            "global= 377 cont = 0\n",
            "global= 378 cont = 0\n",
            "global= 379 cont = 0\n",
            "global= 380 cont = 0\n",
            "global= 381 cont = 0\n",
            "global= 382 cont = 0\n",
            "global= 383 cont = 0\n",
            "global= 384 cont = 0\n",
            "global= 385 cont = 0\n",
            "global= 386 cont = 0\n",
            "global= 387 cont = 0\n",
            "global= 388 cont = 0\n",
            "global= 389 cont = 0\n",
            "global= 390 cont = 0\n",
            "global= 391 cont = 0\n",
            "global= 392 cont = 0\n",
            "global= 393 cont = 0\n",
            "global= 394 cont = 0\n",
            "global= 395 cont = 0\n",
            "global= 396 cont = 0\n",
            "global= 397 cont = 0\n",
            "global= 398 cont = 0\n",
            "global= 399 cont = 0\n",
            "global= 400 cont = 0\n",
            "global= 401 cont = 0\n",
            "global= 402 cont = 0\n",
            "global= 403 cont = 0\n",
            "global= 404 cont = 0\n",
            "global= 405 cont = 0\n",
            "global= 406 cont = 0\n",
            "global= 407 cont = 0\n",
            "global= 408 cont = 0\n",
            "global= 409 cont = 0\n",
            "global= 410 cont = 0\n",
            "global= 411 cont = 0\n",
            "global= 412 cont = 0\n",
            "global= 413 cont = 0\n",
            "global= 414 cont = 0\n",
            "global= 415 cont = 0\n",
            "global= 416 cont = 0\n",
            "global= 417 cont = 0\n",
            "global= 418 cont = 0\n",
            "global= 419 cont = 0\n",
            "global= 420 cont = 0\n",
            "global= 421 cont = 0\n",
            "global= 422 cont = 0\n",
            "global= 423 cont = 0\n",
            "global= 424 cont = 0\n",
            "global= 425 cont = 0\n",
            "global= 426 cont = 0\n",
            "global= 427 cont = 0\n",
            "global= 428 cont = 0\n",
            "global= 429 cont = 0\n",
            "global= 430 cont = 0\n",
            "global= 431 cont = 0\n",
            "global= 432 cont = 0\n",
            "global= 433 cont = 0\n",
            "global= 434 cont = 0\n",
            "global= 435 cont = 0\n",
            "global= 436 cont = 0\n",
            "global= 437 cont = 0\n",
            "global= 438 cont = 0\n",
            "global= 439 cont = 0\n",
            "global= 440 cont = 0\n",
            "global= 441 cont = 0\n",
            "global= 442 cont = 0\n",
            "global= 443 cont = 0\n",
            "global= 444 cont = 0\n",
            "global= 445 cont = 0\n",
            "global= 446 cont = 0\n",
            "global= 447 cont = 0\n",
            "global= 448 cont = 0\n",
            "global= 449 cont = 0\n",
            "global= 450 cont = 0\n",
            "global= 451 cont = 0\n",
            "global= 452 cont = 0\n",
            "global= 453 cont = 0\n",
            "global= 454 cont = 0\n",
            "global= 455 cont = 0\n",
            "global= 456 cont = 0\n",
            "global= 457 cont = 0\n",
            "global= 458 cont = 0\n",
            "global= 459 cont = 0\n",
            "global= 460 cont = 0\n",
            "global= 461 cont = 0\n",
            "global= 462 cont = 0\n",
            "global= 463 cont = 0\n",
            "global= 464 cont = 0\n",
            "global= 465 cont = 0\n",
            "global= 466 cont = 0\n",
            "global= 467 cont = 0\n",
            "global= 468 cont = 0\n"
          ],
          "name": "stdout"
        }
      ]
    },
    {
      "cell_type": "code",
      "metadata": {
        "id": "6LkA4vHp-f6_"
      },
      "source": [
        "Width=np.array(Width_new)"
      ],
      "execution_count": null,
      "outputs": []
    },
    {
      "cell_type": "code",
      "metadata": {
        "id": "WAG_I6FwCvFr"
      },
      "source": [
        "!git clone https://github.com/ucfilho/marquesgabi_out_2020\n",
        "%cd marquesgabi_out_2020\n",
        "PSD_imageJ = 'Areas_ImageJ.csv'\n",
        "PSD_new = pd.read_csv(PSD_imageJ)\n",
        "print(PSD_new.head(3))"
      ],
      "execution_count": null,
      "outputs": []
    },
    {
      "cell_type": "code",
      "metadata": {
        "id": "t_1WIM8w7poO"
      },
      "source": [
        "Area_All, Diameter_All=PSDArea(img_graos) "
      ],
      "execution_count": null,
      "outputs": []
    },
    {
      "cell_type": "code",
      "metadata": {
        "id": "PekBHQOT_6CP"
      },
      "source": [
        "img_graos.head()"
      ],
      "execution_count": null,
      "outputs": []
    },
    {
      "cell_type": "code",
      "metadata": {
        "id": "4vmhG2LgCabC"
      },
      "source": [
        "Area = np.array(PSD_new['Area'])\n",
        "diam_teste = []\n",
        "for A in Area:\n",
        "  diam_teste.append((4*A/np.pi)**0.5) \n",
        "\n",
        "Diam1 = [ (4*A/np.pi)**0.5 for A in Area]"
      ],
      "execution_count": null,
      "outputs": []
    },
    {
      "cell_type": "code",
      "metadata": {
        "id": "Vfk_fNXGDK5_"
      },
      "source": [
        " wt1 = np.ones(len(Diam1)) / len(Diam1)*100\n",
        " wt2 = np.ones(len(Diameter_All)) / len(Diameter_All)*100\n",
        " X = pd.DataFrame([Diam1,Diameter_All])\n",
        " wts = pd.DataFrame([wt1,wt2])\n",
        "plt.hist(X,weights=wts)\n",
        "plt.legend(['Image J','CNN'])"
      ],
      "execution_count": null,
      "outputs": []
    },
    {
      "cell_type": "code",
      "metadata": {
        "id": "ZZHa1j4HT9Dq"
      },
      "source": [
        "counts, bins, bars = plt.hist(X,weights=wts)\n",
        "print(bars)\n",
        "print(bins)\n",
        "print(counts)"
      ],
      "execution_count": null,
      "outputs": []
    },
    {
      "cell_type": "code",
      "metadata": {
        "id": "8o_vDGeWUwIZ"
      },
      "source": [
        "print(counts.sum())"
      ],
      "execution_count": null,
      "outputs": []
    },
    {
      "cell_type": "code",
      "metadata": {
        "id": "KcH52-6iJQ8t"
      },
      "source": [
        "\n",
        "plt.hist([Diam1,Diameter_All])\n",
        "plt.legend(['Image J','CNN'])\n"
      ],
      "execution_count": null,
      "outputs": []
    },
    {
      "cell_type": "code",
      "metadata": {
        "id": "r11AxFK_JIii"
      },
      "source": [
        "[Diam1,Diameter_All]"
      ],
      "execution_count": null,
      "outputs": []
    }
  ]
}