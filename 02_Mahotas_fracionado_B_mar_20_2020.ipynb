{
  "nbformat": 4,
  "nbformat_minor": 0,
  "metadata": {
    "colab": {
      "name": "02_Mahotas_fracionado_B_mar_20_2020.ipynb",
      "provenance": [],
      "collapsed_sections": [],
      "include_colab_link": true
    },
    "kernelspec": {
      "name": "python3",
      "display_name": "Python 3"
    },
    "accelerator": "GPU"
  },
  "cells": [
    {
      "cell_type": "markdown",
      "metadata": {
        "id": "view-in-github",
        "colab_type": "text"
      },
      "source": [
        "<a href=\"https://colab.research.google.com/github/marquesgabi/Doutorado/blob/master/02_Mahotas_fracionado_B_mar_20_2020.ipynb\" target=\"_parent\"><img src=\"https://colab.research.google.com/assets/colab-badge.svg\" alt=\"Open In Colab\"/></a>"
      ]
    },
    {
      "cell_type": "code",
      "metadata": {
        "id": "f393Z8HdEmRg",
        "colab_type": "code",
        "outputId": "828f9e28-f4b9-4c76-d074-fb6532cafb65",
        "colab": {
          "base_uri": "https://localhost:8080/",
          "height": 50
        }
      },
      "source": [
        "!pip install mahotas"
      ],
      "execution_count": 8,
      "outputs": [
        {
          "output_type": "stream",
          "text": [
            "Requirement already satisfied: mahotas in /usr/local/lib/python3.6/dist-packages (1.4.9)\n",
            "Requirement already satisfied: numpy in /usr/local/lib/python3.6/dist-packages (from mahotas) (1.18.2)\n"
          ],
          "name": "stdout"
        }
      ]
    },
    {
      "cell_type": "code",
      "metadata": {
        "id": "XBCyxlSmWLRH",
        "colab_type": "code",
        "colab": {}
      },
      "source": [
        "# fotos pequenas \n",
        "# 02_Mahotas_fracionado_B_mar_03_2020.ipynb \n",
        "# fotos grandes\n",
        "# 02_Mahotas_fracionado_A_mar_03_2020.ipynb"
      ],
      "execution_count": 0,
      "outputs": []
    },
    {
      "cell_type": "code",
      "metadata": {
        "id": "8yb-DpxXF8Ht",
        "colab_type": "code",
        "colab": {}
      },
      "source": [
        "Escolha=['ASM', 'constrast', 'correl', 'variance', 'inv diff mom', 'sum aveg', \n",
        "         'sum var', 'sum entropy', 'entropy', 'dif var', 'dif entropy', \n",
        "         'IMC1', 'IMC2']\n",
        "Prop=Escolha[1] # Propriedade a escolher para ter picos, largura de pico, proeminencia,..."
      ],
      "execution_count": 0,
      "outputs": []
    },
    {
      "cell_type": "code",
      "metadata": {
        "id": "W0wfLMP8nWAM",
        "colab_type": "code",
        "outputId": "febf6e56-eb47-476d-cb58-ebb30f749d0e",
        "colab": {
          "base_uri": "https://localhost:8080/",
          "height": 133
        }
      },
      "source": [
        "!git clone https://github.com/ucfilho/marquesgabi_fev_2020 #clonar do Github\n",
        "%cd marquesgabi_fev_2020"
      ],
      "execution_count": 11,
      "outputs": [
        {
          "output_type": "stream",
          "text": [
            "Cloning into 'marquesgabi_fev_2020'...\n",
            "remote: Enumerating objects: 73, done.\u001b[K\n",
            "remote: Counting objects: 100% (73/73), done.\u001b[K\n",
            "remote: Compressing objects: 100% (71/71), done.\u001b[K\n",
            "remote: Total 73 (delta 37), reused 0 (delta 0), pack-reused 0\u001b[K\n",
            "Unpacking objects: 100% (73/73), done.\n",
            "/content/marquesgabi_fev_2020/marquesgabi_fev_2020\n"
          ],
          "name": "stdout"
        }
      ]
    },
    {
      "cell_type": "code",
      "metadata": {
        "id": "8UmjK94cT5sP",
        "colab_type": "code",
        "colab": {
          "base_uri": "https://localhost:8080/",
          "height": 150
        },
        "outputId": "1f061cc3-b9ab-4868-b0ed-0935fcc48795"
      },
      "source": [
        "!git clone https://github.com/marquesgabi/Doutorado\n",
        "%cd Doutorado"
      ],
      "execution_count": 12,
      "outputs": [
        {
          "output_type": "stream",
          "text": [
            "Cloning into 'Doutorado'...\n",
            "remote: Enumerating objects: 56, done.\u001b[K\n",
            "remote: Counting objects: 100% (56/56), done.\u001b[K\n",
            "remote: Compressing objects: 100% (56/56), done.\u001b[K\n",
            "remote: Total 203 (delta 22), reused 0 (delta 0), pack-reused 147\u001b[K\n",
            "Receiving objects: 100% (203/203), 87.33 MiB | 13.19 MiB/s, done.\n",
            "Resolving deltas: 100% (91/91), done.\n",
            "/content/marquesgabi_fev_2020/marquesgabi_fev_2020/Doutorado\n"
          ],
          "name": "stdout"
        }
      ]
    },
    {
      "cell_type": "code",
      "metadata": {
        "id": "SzWdrvAgvBId",
        "colab_type": "code",
        "colab": {}
      },
      "source": [
        "import numpy as np\n",
        "import cv2\n",
        "from skimage import data\n",
        "import matplotlib.pyplot as plt\n",
        "import matplotlib\n",
        "import pandas as pd\n",
        "from skimage import io, util\n",
        "import mahotas.features.texture as mht\n",
        "import mahotas.features\n",
        "import os \n",
        "import zipfile\n",
        "from skimage import filters\n",
        "from skimage import exposure\n",
        "import skimage.feature as sk\n",
        "from google.colab import files\n",
        "from numpy import linalg as LA\n",
        "from scipy import stats\n",
        "from scipy.signal import find_peaks\n",
        "from scipy.signal import peak_prominences\n",
        "from scipy.signal import peak_widths\n",
        "from scipy import integrate\n",
        "import re\n",
        "import Go2BlackWhite\n",
        "import Go2Mahotas\n",
        "%matplotlib inline"
      ],
      "execution_count": 0,
      "outputs": []
    },
    {
      "cell_type": "code",
      "metadata": {
        "id": "xoW1HoWp3qNO",
        "colab_type": "code",
        "colab": {}
      },
      "source": [
        "\n",
        "Size=20 # tamanho da foto\n",
        "Sub_Size=int(Size/5) # tamanho do fracionamento\n",
        "Row_Crop=1/2 # posicao do corte\n",
        "Crop=int(Size*Row_Crop)"
      ],
      "execution_count": 0,
      "outputs": []
    },
    {
      "cell_type": "code",
      "metadata": {
        "id": "c43TnWalRs_H",
        "colab_type": "code",
        "colab": {}
      },
      "source": [
        "Transfere='Fotos9Amostras720.zip'\n",
        "file_name = zipfile.ZipFile(Transfere, 'r')\n",
        "file_name.extractall()"
      ],
      "execution_count": 0,
      "outputs": []
    },
    {
      "cell_type": "code",
      "metadata": {
        "id": "GrLtSCRor_By",
        "colab_type": "code",
        "outputId": "be99d457-379a-4d63-c7ce-1894720055a6",
        "colab": {
          "base_uri": "https://localhost:8080/",
          "height": 264
        }
      },
      "source": [
        "ww,img_name=Go2BlackWhite.BlackWhite(Transfere,Size)\n",
        "plt.axis(\"off\")\n",
        "plt.imshow(ww[539], cmap = \"gray\")"
      ],
      "execution_count": 16,
      "outputs": [
        {
          "output_type": "execute_result",
          "data": {
            "text/plain": [
              "<matplotlib.image.AxesImage at 0x7f826eb99a58>"
            ]
          },
          "metadata": {
            "tags": []
          },
          "execution_count": 16
        },
        {
          "output_type": "display_data",
          "data": {
            "image/png": "[encoded data removed]",
            "text/plain": [
              "<Figure size 432x288 with 1 Axes>"
            ]
          },
          "metadata": {
            "tags": []
          }
        }
      ]
    },
    {
      "cell_type": "code",
      "metadata": {
        "id": "rDUgTX8BMOoD",
        "colab_type": "code",
        "colab": {}
      },
      "source": [
        "NumFotos=len(img_name)"
      ],
      "execution_count": 0,
      "outputs": []
    },
    {
      "cell_type": "code",
      "metadata": {
        "id": "MukX2r3ys3tm",
        "colab_type": "code",
        "colab": {}
      },
      "source": [
        "# Find the list elements starting with specific letter\n",
        "subs = 'B'\n",
        "Buraco = [x for x in img_name if re.search(subs, x)] \n",
        "subs = 'G'\n",
        "Grao = [x for x in img_name if re.search(subs, x)] \n",
        "subs = 'I'\n",
        "Indef = [x for x in img_name if re.search(subs, x)] "
      ],
      "execution_count": 0,
      "outputs": []
    },
    {
      "cell_type": "code",
      "metadata": {
        "id": "jEeQ6NiHRLJs",
        "colab_type": "code",
        "colab": {}
      },
      "source": [
        "# ESTA PARTE PRECISA PARA CALCULAR OS PICOS E AREA ABAIXO DA CURVA, CADA\n",
        "# LINHA E UMA CURVA DA PROPRIEDADE ESCOLHIDA PARA UMA FOTO E CADA COLUNA \n",
        "# UM QUADRADO DA FOTO ANDANDO...\n",
        "Todas_Fotos=[] \n",
        "# Todas_Fotos tem os valores medio da propriedade cada linha representa \n",
        "# uma foto e cada coluna as subdivisoes da foto (um quadrado que anda ao \n",
        "# longo da foto)\n",
        "for k in range(NumFotos):\n",
        "  Prop_Escolhida=[]\n",
        "  #p_foto=ww[k,:].reshape(Size,Size)\n",
        "  p_foto=ww[k].reshape(Size,Size)\n",
        "  GLCM=[]\n",
        "  glcm_haralick=[]\n",
        "  x_ref=[]\n",
        "  Count=Sub_Size\n",
        "  p=np.zeros((Sub_Size,Sub_Size))\n",
        "  j_ref=0\n",
        "  Cada_foto=[]\n",
        "  Posicao_X=[]\n",
        "  Posicao_Y=[]\n",
        "  for k in range(Size):\n",
        "    if((k+Sub_Size-1)<Size):\n",
        "      #print(\"(k+Sub_Size)=\",(k+Sub_Size),\"k=\",k)\n",
        "      for i in range(Sub_Size):\n",
        "        Posicao_X.append(Crop+i)\n",
        "        for j in range(Sub_Size):\n",
        "          p[i,j]=p_foto[Crop+i,j+k]\n",
        "          Posicao_Y.append(j+k)\n",
        "\n",
        "      WW=np.copy(p) \n",
        "      Cada_foto.append(WW.ravel())\n",
        "      x_ref.append(Count-Sub_Size)\n",
        "      Count=Count+1\n",
        "     \n",
        "      Mahotas =pd.DataFrame(mahotas.features.haralick(p.astype(int)), columns =Escolha)\n",
        "      Prop_Escolhida.append(Mahotas[Prop].mean())\n",
        "\n",
        "  Todas_Fotos.append(Prop_Escolhida)\n",
        "\n",
        "df=pd.DataFrame(Todas_Fotos)\n",
        "\n"
      ],
      "execution_count": 0,
      "outputs": []
    },
    {
      "cell_type": "code",
      "metadata": {
        "id": "Liq_cEDz1kPV",
        "colab_type": "code",
        "outputId": "560e91fb-c669-4684-8bd9-9f7d046ea341",
        "colab": {
          "base_uri": "https://localhost:8080/",
          "height": 250
        }
      },
      "source": [
        "print(df)"
      ],
      "execution_count": 20,
      "outputs": [
        {
          "output_type": "stream",
          "text": [
            "              0            1           2   ...          14          15           16\n",
            "0     289.777778   253.722222  282.965278  ...   58.423611   77.819444    62.166667\n",
            "1     280.250000   140.520833   36.500000  ...   43.722222   46.013889    53.847222\n",
            "2      61.888889    55.472222   46.937500  ...  206.416667  265.451389   458.125000\n",
            "3    1618.798611  1373.083333  775.562500  ...  267.527778  608.069444   622.652778\n",
            "4      93.312500    63.951389   11.368056  ...  317.256944  316.034722   229.923611\n",
            "..           ...          ...         ...  ...         ...         ...          ...\n",
            "715   147.111111    10.034722   12.361111  ...  313.284722  762.381944  1372.465278\n",
            "716   261.347222   287.013889  161.187500  ...   50.145833  133.520833   268.055556\n",
            "717    62.291667    40.458333   33.527778  ...   33.180556   25.229167    15.722222\n",
            "718    63.986111    43.104167   24.840278  ...  178.347222  127.006944  8161.145833\n",
            "719  1495.173611  1279.555556  743.333333  ...   79.256944  486.138889  1246.791667\n",
            "\n",
            "[720 rows x 17 columns]\n"
          ],
          "name": "stdout"
        }
      ]
    },
    {
      "cell_type": "code",
      "metadata": {
        "id": "DEJ2xcDgtNRH",
        "colab_type": "code",
        "outputId": "54ae6b95-95bf-4527-9d03-01e194c6bf6f",
        "colab": {
          "base_uri": "https://localhost:8080/",
          "height": 50
        }
      },
      "source": [
        "print(len(Cada_foto[0])) # Cada_foto contem a foto pequena varrida\n",
        "print(np.array(Cada_foto).shape)"
      ],
      "execution_count": 21,
      "outputs": [
        {
          "output_type": "stream",
          "text": [
            "16\n",
            "(17, 16)\n"
          ],
          "name": "stdout"
        }
      ]
    },
    {
      "cell_type": "code",
      "metadata": {
        "id": "hZF4pOns2qOy",
        "colab_type": "code",
        "outputId": "f068efe1-b055-45e3-e553-9afa7405a6fb",
        "colab": {
          "base_uri": "https://localhost:8080/",
          "height": 33
        }
      },
      "source": [
        "print(NumFotos)"
      ],
      "execution_count": 22,
      "outputs": [
        {
          "output_type": "stream",
          "text": [
            "720\n"
          ],
          "name": "stdout"
        }
      ]
    },
    {
      "cell_type": "code",
      "metadata": {
        "id": "IPEQ7pf5NUjs",
        "colab_type": "code",
        "colab": {}
      },
      "source": [
        "# esta parte calcula picos, area abaixo da curva antes ela precisa gerar \n",
        "# o dataframe que contem a propriedade escolhida com uma foto em cada linha ....\n",
        "Features_Total=[]\n",
        "for i in range(NumFotos):\n",
        "  x=df.iloc[i]\n",
        "  peaks, rr = find_peaks(x, height=0)\n",
        "\n",
        "  N_peaks=len(peaks)\n",
        "  prominences = peak_prominences(x, peaks)\n",
        "  \n",
        "  #Area = simps(x, dx=1)\n",
        "  Area = integrate.simps(x, dx=1)\n",
        "  if(len(peaks)==0):\n",
        "    Width_peaks =0\n",
        "    Width_peaks_max =0\n",
        "    Width_peaks_min =0\n",
        "    Media_proem=0    \n",
        "  else:\n",
        "    Width_peaks =np.mean(peak_widths(x, peaks, rel_height=0.5))\n",
        "    Width_peaks_max =np.max(peak_widths(x, peaks, rel_height=0.5))\n",
        "    Width_peaks_min =np.min(peak_widths(x, peaks, rel_height=0.5))\n",
        "    Media_proem=np.mean(prominences)\n",
        "  Median = np.median(x)\n",
        "  Mode= stats.mode(x)[0]\n",
        "  Mean=np.mean(x)\n",
        "  Sd=np.std(x)\n",
        "\n",
        "  Features=[]\n",
        "  Features.append(N_peaks)\n",
        "  Features.append(Media_proem )\n",
        "  Features.append(Area)\n",
        "  Features.append(Width_peaks )\n",
        "  Features.append(Width_peaks_max)\n",
        "  Features.append(Width_peaks_min)\n",
        "  Features.append(Median )\n",
        "  Features.append(Mode[0])\n",
        "  Features.append(Mean)\n",
        "  Features.append(Sd)\n",
        "\n",
        "  Features_Total.append(Features)\n",
        "\n",
        "Nomes_Fracionada=['N_peaks','Media_proem','Area','Width_peaks','Width_peaks_max',\n",
        "                    'Width_peaks_min','Median','Mode','Mean','Sd'] \n",
        "  \n",
        "Features_Total=pd.DataFrame(Features_Total,columns=Nomes_Fracionada)\n"
      ],
      "execution_count": 0,
      "outputs": []
    },
    {
      "cell_type": "code",
      "metadata": {
        "id": "JQD34kQ6y_GO",
        "colab_type": "code",
        "outputId": "ea1b7a37-9383-460d-f63d-4b09bd31d8bd",
        "colab": {
          "base_uri": "https://localhost:8080/",
          "height": 250
        }
      },
      "source": [
        "print(Features_Total)"
      ],
      "execution_count": 24,
      "outputs": [
        {
          "output_type": "stream",
          "text": [
            "     N_peaks  Media_proem         Area  ...       Mode        Mean           Sd\n",
            "0          2    13.649306  1407.703704  ...   7.527778   93.163399   101.417987\n",
            "1          2   268.502315  6954.069444  ...  36.375000  402.455882   374.616672\n",
            "2          2    16.582176  2372.189815  ...  46.937500  154.894608   109.031011\n",
            "3          2     6.756944  5663.775463  ...  77.493056  397.558007   451.881212\n",
            "4          3    25.916667  1681.699074  ...  10.229167  108.011438    94.422902\n",
            "..       ...          ...          ...  ...        ...         ...          ...\n",
            "715        2     2.827546  2325.761574  ...  10.034722  185.276144   346.456982\n",
            "716        2    10.042824  1243.384259  ...   8.180556   88.034314    95.038247\n",
            "717        3    12.634259   466.212963  ...   6.069444   29.092729    21.045419\n",
            "718        2    21.590278  4145.969907  ...  24.840278  563.948121  1900.115260\n",
            "719        0     0.000000  5489.270833  ...  19.201389  405.430964   487.975019\n",
            "\n",
            "[720 rows x 10 columns]\n"
          ],
          "name": "stdout"
        }
      ]
    },
    {
      "cell_type": "code",
      "metadata": {
        "id": "dZSOVH78CeU_",
        "colab_type": "code",
        "outputId": "33254da0-5d5d-4236-c047-cc0ec9effad4",
        "colab": {
          "base_uri": "https://localhost:8080/",
          "height": 120
        }
      },
      "source": [
        "# found drive\n",
        "from google.colab import drive\n",
        "drive.mount('drive')"
      ],
      "execution_count": 25,
      "outputs": [
        {
          "output_type": "stream",
          "text": [
            "Go to this URL in a browser: https://accounts.google.com/o/oauth2/auth?client_id=947318989803-6bn6qk8qdgf4n4g3pfee6491hc0brc4i.apps.googleusercontent.com&redirect_uri=urn%3aietf%3awg%3aoauth%3a2.0%3aoob&response_type=code&scope=email%20https%3a%2f%2fwww.googleapis.com%2fauth%2fdocs.test%20https%3a%2f%2fwww.googleapis.com%2fauth%2fdrive%20https%3a%2f%2fwww.googleapis.com%2fauth%2fdrive.photos.readonly%20https%3a%2f%2fwww.googleapis.com%2fauth%2fpeopleapi.readonly\n",
            "\n",
            "Enter your authorization code:\n",
            "··········\n",
            "Mounted at drive\n"
          ],
          "name": "stdout"
        }
      ]
    },
    {
      "cell_type": "code",
      "metadata": {
        "id": "oIVbtweYI7e0",
        "colab_type": "code",
        "outputId": "f67d94d3-fde8-42fd-a176-f43e548556d0",
        "colab": {
          "base_uri": "https://localhost:8080/",
          "height": 200
        }
      },
      "source": [
        "print(Features_Total.iloc[92])\n"
      ],
      "execution_count": 26,
      "outputs": [
        {
          "output_type": "stream",
          "text": [
            "N_peaks               2.000000\n",
            "Media_proem         112.196759\n",
            "Area               7345.708333\n",
            "Width_peaks         124.182847\n",
            "Width_peaks_max     496.218750\n",
            "Width_peaks_min       2.704120\n",
            "Median              539.111111\n",
            "Mode                 26.979167\n",
            "Mean                450.913807\n",
            "Sd                  208.849337\n",
            "Name: 92, dtype: float64\n"
          ],
          "name": "stdout"
        }
      ]
    },
    {
      "cell_type": "code",
      "metadata": {
        "id": "I0g7qrM-IxvF",
        "colab_type": "code",
        "outputId": "7af5ab90-5205-4639-c419-460408f88034",
        "colab": {
          "base_uri": "https://localhost:8080/",
          "height": 200
        }
      },
      "source": [
        "\n",
        "print(Features_Total.iloc[520])"
      ],
      "execution_count": 27,
      "outputs": [
        {
          "output_type": "stream",
          "text": [
            "N_peaks               2.000000\n",
            "Media_proem          25.549769\n",
            "Area               1040.918981\n",
            "Width_peaks          18.287807\n",
            "Width_peaks_max      67.666667\n",
            "Width_peaks_min       2.905374\n",
            "Median               46.965278\n",
            "Mode                 11.236111\n",
            "Mean                 67.365605\n",
            "Sd                   51.580904\n",
            "Name: 520, dtype: float64\n"
          ],
          "name": "stdout"
        }
      ]
    },
    {
      "cell_type": "code",
      "metadata": {
        "id": "Lw8rqNu0CpQv",
        "colab_type": "code",
        "colab": {}
      },
      "source": [
        "# get csv file\n",
        "#Features_Total.to_csv('Contraste_Fracionado_fev_2020.csv')\n",
        "# a mundaca do formato  float_format=\"%.5f\"   objetiva \n",
        "# evitar corromper alguns pontos como aconteceu \n",
        "# antes desta mudanca mudar \n",
        "Features_Total.to_csv('Contraste_Fracionado_mar_2020.csv', float_format=\"%.5f\")"
      ],
      "execution_count": 0,
      "outputs": []
    },
    {
      "cell_type": "code",
      "metadata": {
        "id": "6KFSiJ3tB7L2",
        "colab_type": "code",
        "colab": {}
      },
      "source": [
        "# save in drive\n",
        "!cp Contraste_Fracionado_mar_2020.csv drive/My\\ Drive/Maria_Gabriela_Textura_dados_jan_2020/"
      ],
      "execution_count": 0,
      "outputs": []
    }
  ]
}