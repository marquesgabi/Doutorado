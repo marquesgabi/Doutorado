{
  "nbformat": 4,
  "nbformat_minor": 0,
  "metadata": {
    "colab": {
      "name": "ANN_CLASSIFICA_julho_23_2020.ipynb",
      "provenance": [],
      "collapsed_sections": [],
      "include_colab_link": true
    },
    "kernelspec": {
      "name": "python3",
      "display_name": "Python 3"
    }
  },
  "cells": [
    {
      "cell_type": "markdown",
      "metadata": {
        "id": "view-in-github",
        "colab_type": "text"
      },
      "source": [
        "<a href=\"https://colab.research.google.com/github/marquesgabi/Doutorado/blob/master/ANN_CLASSIFICA_julho_23_2020.ipynb\" target=\"_parent\"><img src=\"https://colab.research.google.com/assets/colab-badge.svg\" alt=\"Open In Colab\"/></a>"
      ]
    },
    {
      "cell_type": "code",
      "metadata": {
        "id": "Sog7Z9pyhUD_",
        "colab_type": "code",
        "colab": {}
      },
      "source": [
        "import matplotlib.pyplot as plt\n",
        "import numpy as np\n",
        "import cv2\n",
        "import zipfile\n",
        "#import random\n",
        "from random import randint\n",
        "from PIL import Image\n",
        "import re\n",
        "from sklearn.model_selection import train_test_split\n",
        "#import scikit-image\n",
        "import skimage\n",
        "import pandas as pd"
      ],
      "execution_count": 1,
      "outputs": []
    },
    {
      "cell_type": "code",
      "metadata": {
        "id": "wYo6yMKOjiJQ",
        "colab_type": "code",
        "colab": {}
      },
      "source": [
        "# Import the 'transform' module from 'skimage'\n",
        "from skimage import transform "
      ],
      "execution_count": 2,
      "outputs": []
    },
    {
      "cell_type": "code",
      "metadata": {
        "id": "La6dFeJujmZM",
        "colab_type": "code",
        "colab": {}
      },
      "source": [
        "# TensorFlow and tf.keras\n",
        "import tensorflow as tf\n",
        "from tensorflow import keras"
      ],
      "execution_count": 3,
      "outputs": []
    },
    {
      "cell_type": "markdown",
      "metadata": {
        "id": "EJ52PcNznFZp",
        "colab_type": "text"
      },
      "source": [
        ""
      ]
    },
    {
      "cell_type": "markdown",
      "metadata": {
        "id": "j8Bl70iLs7FF",
        "colab_type": "text"
      },
      "source": [
        "# First step: get the csv file (segmented and cropped photos)"
      ]
    },
    {
      "cell_type": "code",
      "metadata": {
        "id": "LJAZpHlAi6Vq",
        "colab_type": "code",
        "colab": {
          "base_uri": "https://localhost:8080/",
          "height": 50
        },
        "outputId": "c8dfa365-2129-453d-e384-28088f15110a"
      },
      "source": [
        "!git clone https://github.com/ucfilho/marquesgabi_Julho_2020_using\n",
        "%cd marquesgabi_Julho_2020_using\n",
        "Transfere='FotosTreino882_and_Segm.zip'\n",
        "file_name = zipfile.ZipFile(Transfere, 'r')\n",
        "file_name.extractall()"
      ],
      "execution_count": 4,
      "outputs": [
        {
          "output_type": "stream",
          "text": [
            "fatal: destination path 'marquesgabi_Julho_2020_using' already exists and is not an empty directory.\n",
            "/content/marquesgabi_Julho_2020_using\n"
          ],
          "name": "stdout"
        }
      ]
    },
    {
      "cell_type": "code",
      "metadata": {
        "id": "C35MvO7VjUA0",
        "colab_type": "code",
        "colab": {}
      },
      "source": [
        "labels = [] #name files\n",
        "\n",
        "with zipfile.ZipFile(Transfere, \"r\") as f:\n",
        "  for f in f.namelist():\n",
        "    labels.append(f)"
      ],
      "execution_count": 5,
      "outputs": []
    },
    {
      "cell_type": "code",
      "metadata": {
        "id": "RDVo_UFsfbTB",
        "colab_type": "code",
        "colab": {}
      },
      "source": [
        "df=pd.read_csv(labels[0])\n"
      ],
      "execution_count": 6,
      "outputs": []
    },
    {
      "cell_type": "code",
      "metadata": {
        "id": "KuDx6iA-w0aW",
        "colab_type": "code",
        "colab": {}
      },
      "source": [
        "Num=len(labels)\n",
        "df=pd.read_csv(labels[0])\n",
        "for i in range(1,Num):\n",
        "  df_new=pd.read_csv(labels[i])\n",
        "  frames = [df, df_new]\n",
        "  df= pd.concat(frames, ignore_index=True)\n",
        "\n",
        "y_valor=df['Type']"
      ],
      "execution_count": 7,
      "outputs": []
    },
    {
      "cell_type": "code",
      "metadata": {
        "id": "DuwLJl-21LQt",
        "colab_type": "code",
        "colab": {
          "base_uri": "https://localhost:8080/",
          "height": 150
        },
        "outputId": "b0a339f8-88e2-4a69-a186-6695abb6067d"
      },
      "source": [
        "print(df.tail())"
      ],
      "execution_count": 8,
      "outputs": [
        {
          "output_type": "stream",
          "text": [
            "     Unnamed: 0 Type          0  ...        782        783  Width\n",
            "985           7    B   84.33883  ...    7.14600    7.38484  142.0\n",
            "986           8    I  104.73698  ...    2.05457    0.38150  163.0\n",
            "987           9    I   75.70248  ...  107.38844  106.00001  154.0\n",
            "988          10    I   56.64465  ...    3.15316    0.40107  187.0\n",
            "989          11    B  111.50165  ...    0.00000    0.00000  194.0\n",
            "\n",
            "[5 rows x 787 columns]\n"
          ],
          "name": "stdout"
        }
      ]
    },
    {
      "cell_type": "code",
      "metadata": {
        "id": "UwELp2Lv1NKY",
        "colab_type": "code",
        "colab": {
          "base_uri": "https://localhost:8080/",
          "height": 150
        },
        "outputId": "4254cb8d-fc03-4a1e-af9a-2bd2fbd5edb2"
      },
      "source": [
        "print(df.head())"
      ],
      "execution_count": 9,
      "outputs": [
        {
          "output_type": "stream",
          "text": [
            "   Unnamed: 0 Type        0        1  ...      781      782      783  Width\n",
            "0           0    G  0.00000  0.00000  ...  0.68642  0.68631  0.68769    NaN\n",
            "1           1    G  0.00000  0.00000  ...  0.47277  0.49262  0.50909    NaN\n",
            "2           2    G  0.45321  0.52257  ...  0.54645  0.54919  0.55439    NaN\n",
            "3           3    G  0.75367  0.64590  ...  0.43356  0.48524  0.61876    NaN\n",
            "4           4    G  0.94521  0.89736  ...  0.98942  0.98108  0.95838    NaN\n",
            "\n",
            "[5 rows x 787 columns]\n"
          ],
          "name": "stdout"
        }
      ]
    },
    {
      "cell_type": "code",
      "metadata": {
        "id": "cMCpdgC91ON0",
        "colab_type": "code",
        "colab": {}
      },
      "source": [
        "#print(df)"
      ],
      "execution_count": 10,
      "outputs": []
    },
    {
      "cell_type": "code",
      "metadata": {
        "colab_type": "code",
        "id": "wq1CSlXUhjEv",
        "colab": {
          "base_uri": "https://localhost:8080/",
          "height": 150
        },
        "outputId": "735d22b9-5666-4ab8-ce56-69f163099606"
      },
      "source": [
        "df_teste=pd.read_csv(labels[2])\n",
        "print(df_teste.head())"
      ],
      "execution_count": 11,
      "outputs": [
        {
          "output_type": "stream",
          "text": [
            "   Unnamed: 0  Width Type          0  ...       780       781        782        783\n",
            "0           0    157    I   71.90012  ...  49.57118  35.95513    7.75954    1.03862\n",
            "1           1    124    I  127.06763  ...  94.57544  98.71695  100.52861  100.84391\n",
            "2           2    182    G   87.10651  ...   5.33136   5.84024    5.89941    5.65089\n",
            "3           3    101    I   99.01176  ...  35.15087  41.39006   43.76875   44.09146\n",
            "4           4    183    I   56.30844  ...  52.96656  53.65711   53.44656   53.11703\n",
            "\n",
            "[5 rows x 787 columns]\n"
          ],
          "name": "stdout"
        }
      ]
    },
    {
      "cell_type": "code",
      "metadata": {
        "id": "nkMXproqxZig",
        "colab_type": "code",
        "colab": {
          "base_uri": "https://localhost:8080/",
          "height": 150
        },
        "outputId": "afa27185-e056-4a2a-9a35-499299c5eed2"
      },
      "source": [
        "print(df.tail())"
      ],
      "execution_count": 12,
      "outputs": [
        {
          "output_type": "stream",
          "text": [
            "     Unnamed: 0 Type          0  ...        782        783  Width\n",
            "985           7    B   84.33883  ...    7.14600    7.38484  142.0\n",
            "986           8    I  104.73698  ...    2.05457    0.38150  163.0\n",
            "987           9    I   75.70248  ...  107.38844  106.00001  154.0\n",
            "988          10    I   56.64465  ...    3.15316    0.40107  187.0\n",
            "989          11    B  111.50165  ...    0.00000    0.00000  194.0\n",
            "\n",
            "[5 rows x 787 columns]\n"
          ],
          "name": "stdout"
        }
      ]
    },
    {
      "cell_type": "code",
      "metadata": {
        "id": "TpuIGIU-pkiG",
        "colab_type": "code",
        "colab": {}
      },
      "source": [
        "Fotos=df.drop(['Unnamed: 0','Type','Width'], axis=1)"
      ],
      "execution_count": 13,
      "outputs": []
    },
    {
      "cell_type": "code",
      "metadata": {
        "id": "X2PqY2SbzFI2",
        "colab_type": "code",
        "colab": {
          "base_uri": "https://localhost:8080/",
          "height": 33
        },
        "outputId": "93dae5e9-a2e1-481c-a3dc-44feae472cfa"
      },
      "source": [
        "print(np.array(Fotos).shape )"
      ],
      "execution_count": 14,
      "outputs": [
        {
          "output_type": "stream",
          "text": [
            "(990, 784)\n"
          ],
          "name": "stdout"
        }
      ]
    },
    {
      "cell_type": "code",
      "metadata": {
        "id": "rMzX9ryJQ-W7",
        "colab_type": "code",
        "colab": {
          "base_uri": "https://localhost:8080/",
          "height": 250
        },
        "outputId": "e5d7f025-e89d-4afc-9397-e215fd3630e6"
      },
      "source": [
        "print(Fotos)"
      ],
      "execution_count": 15,
      "outputs": [
        {
          "output_type": "stream",
          "text": [
            "             0          1          2  ...        781        782        783\n",
            "0      0.00000    0.00000    0.00315  ...    0.68642    0.68631    0.68769\n",
            "1      0.00000    0.00000    0.00000  ...    0.47277    0.49262    0.50909\n",
            "2      0.45321    0.52257    0.56642  ...    0.54645    0.54919    0.55439\n",
            "3      0.75367    0.64590    0.62497  ...    0.43356    0.48524    0.61876\n",
            "4      0.94521    0.89736    0.61852  ...    0.98942    0.98108    0.95838\n",
            "..         ...        ...        ...  ...        ...        ...        ...\n",
            "985   84.33883   93.31998  103.44733  ...    7.52371    7.14600    7.38484\n",
            "986  104.73698  108.48595  108.84282  ...    7.58692    2.05457    0.38150\n",
            "987   75.70248   76.11571   76.23968  ...  106.21488  107.38844  106.00001\n",
            "988   56.64465   56.24413   54.42472  ...   11.69516    3.15316    0.40107\n",
            "989  111.50165  117.65936  105.70792  ...    0.00000    0.00000    0.00000\n",
            "\n",
            "[990 rows x 784 columns]\n"
          ],
          "name": "stdout"
        }
      ]
    },
    {
      "cell_type": "markdown",
      "metadata": {
        "id": "sDoUMG4vsmoa",
        "colab_type": "text"
      },
      "source": [
        "# Second step: create the ANN to evaluate which is a grain in photos segmented\n"
      ]
    },
    {
      "cell_type": "code",
      "metadata": {
        "id": "biuEDBlM4H_J",
        "colab_type": "code",
        "colab": {}
      },
      "source": [
        "images28=np.array(df)"
      ],
      "execution_count": 16,
      "outputs": []
    },
    {
      "cell_type": "code",
      "metadata": {
        "id": "G1FNc_PgKZ3o",
        "colab_type": "code",
        "colab": {
          "base_uri": "https://localhost:8080/",
          "height": 216
        },
        "outputId": "52ee0547-1a82-4bc2-827a-52ab539ff84d"
      },
      "source": [
        "print(y_valor)"
      ],
      "execution_count": 17,
      "outputs": [
        {
          "output_type": "stream",
          "text": [
            "0      G\n",
            "1      G\n",
            "2      G\n",
            "3      G\n",
            "4      G\n",
            "      ..\n",
            "985    B\n",
            "986    I\n",
            "987    I\n",
            "988    I\n",
            "989    B\n",
            "Name: Type, Length: 990, dtype: object\n"
          ],
          "name": "stdout"
        }
      ]
    },
    {
      "cell_type": "code",
      "metadata": {
        "id": "9RyKdZI7SPqc",
        "colab_type": "code",
        "colab": {
          "base_uri": "https://localhost:8080/",
          "height": 70
        },
        "outputId": "608bb3c3-23f1-4621-bd3e-fd0b5233dbd7"
      },
      "source": [
        "#for i in labels:\n",
        "#  print(i)\n",
        "#different_type=['B','V','N','I']\n",
        "\n",
        "img_name=y_valor\n",
        "\n",
        "Graos='G' # numero 1\n",
        "Indef='I' # numero 2\n",
        "Buraco='B' # numero 3\n",
        "Varios='V' # numero 4\n",
        "NaoGrao='N' # numero 5\n",
        "y_new_valor=[]\n",
        "y_G=[]; y_N=[]; y_I=[]; y_B=[]; y_V=[]\n",
        "\n",
        "for x in img_name:\n",
        "  if re.search(Graos, x):\n",
        "    y_new_valor.append(1)\n",
        "    y_G.append(x)\n",
        "  elif re.search(Indef, x):\n",
        "    y_new_valor.append(2)\n",
        "    y_I.append(x)\n",
        "  elif re.search(Buraco, x):\n",
        "    y_new_valor.append(3)\n",
        "    y_G.append(x)\n",
        "  elif re.search(Varios, x):\n",
        "    y_new_valor.append(4)\n",
        "    y_V.append(x)\n",
        "  else:\n",
        "    y_new_valor.append(5)\n",
        "    y_N.append(x)\n",
        "\n",
        "print(y_N)\n",
        "Num=len(y_N);print(Num) "
      ],
      "execution_count": 18,
      "outputs": [
        {
          "output_type": "stream",
          "text": [
            "['N', 'N', 'N', 'N', 'N', 'N', 'N', 'N', 'N', 'N', 'N', 'N', 'N', 'N', 'N', 'N', 'N', 'N', 'N', 'N', 'N', 'N', 'N', 'N', 'N', 'N', 'N', 'N', 'N', 'N', 'N', 'N', 'N', 'N', 'N', 'N', 'N', 'N', 'N', 'N', 'N', 'N', 'N', 'N', 'N', 'N', 'N', 'N', 'N', 'N', 'N', 'N', 'N', 'N', 'N', 'N', 'N', 'N', 'N', 'N', 'N', 'N', 'N', 'N', 'N', 'N', 'N', 'N', 'N', 'N', 'N', 'N', 'N', 'N', 'N', 'N', 'N', 'N', 'N', 'N', 'N', 'N', 'N', 'N', 'N', 'N', 'N', 'N', 'N', 'N', 'N', 'N', 'N', 'N', 'N', 'N', 'N', 'N', 'N', 'N', 'N', 'N', 'N', 'N', 'N', 'N', 'N', 'N', 'N', 'N', 'N', 'N', 'N', 'N', 'N']\n",
            "115\n"
          ],
          "name": "stdout"
        }
      ]
    },
    {
      "cell_type": "code",
      "metadata": {
        "id": "Gnb3mABWVtcm",
        "colab_type": "code",
        "colab": {
          "base_uri": "https://localhost:8080/",
          "height": 70
        },
        "outputId": "1356d001-44eb-48ef-f106-f296593bc6b7"
      },
      "source": [
        "print (y_new_valor)\n",
        "print(len(y_new_valor))"
      ],
      "execution_count": 19,
      "outputs": [
        {
          "output_type": "stream",
          "text": [
            "[1, 1, 1, 1, 1, 1, 1, 1, 1, 1, 1, 1, 1, 5, 5, 5, 5, 5, 5, 5, 4, 4, 4, 4, 4, 4, 3, 3, 3, 3, 3, 3, 3, 3, 3, 3, 1, 1, 1, 1, 1, 1, 1, 1, 2, 2, 2, 2, 2, 2, 2, 2, 2, 2, 5, 5, 4, 4, 4, 4, 4, 4, 3, 3, 3, 3, 3, 3, 3, 3, 3, 3, 1, 1, 1, 1, 1, 2, 2, 2, 2, 2, 2, 2, 2, 2, 2, 5, 5, 5, 5, 5, 4, 4, 4, 4, 4, 4, 3, 3, 3, 3, 3, 3, 3, 3, 3, 3, 1, 1, 1, 1, 1, 1, 1, 2, 2, 2, 2, 2, 2, 2, 2, 2, 2, 5, 5, 5, 4, 4, 4, 4, 4, 4, 3, 3, 3, 3, 3, 3, 3, 3, 3, 3, 1, 1, 1, 1, 1, 1, 2, 2, 2, 2, 2, 2, 2, 2, 2, 2, 5, 5, 5, 5, 4, 4, 4, 4, 4, 4, 1, 1, 1, 1, 5, 5, 5, 5, 5, 5, 5, 5, 5, 5, 5, 5, 5, 5, 5, 5, 4, 4, 4, 4, 4, 4, 3, 3, 3, 3, 3, 3, 3, 3, 3, 3, 1, 1, 1, 1, 1, 1, 1, 1, 2, 2, 2, 2, 2, 2, 2, 2, 2, 2, 5, 5, 4, 4, 4, 4, 4, 4, 3, 3, 3, 3, 3, 3, 3, 3, 3, 3, 1, 1, 1, 1, 1, 1, 1, 1, 2, 2, 2, 2, 2, 2, 2, 2, 2, 2, 5, 5, 4, 4, 4, 4, 4, 4, 1, 1, 1, 1, 1, 1, 1, 1, 1, 5, 5, 5, 5, 5, 5, 5, 5, 5, 5, 5, 4, 4, 4, 4, 4, 4, 3, 3, 3, 3, 3, 3, 3, 3, 3, 3, 1, 1, 1, 1, 1, 1, 1, 2, 2, 2, 2, 2, 2, 2, 2, 2, 2, 5, 5, 5, 4, 4, 4, 4, 4, 4, 3, 3, 3, 3, 3, 3, 3, 3, 3, 3, 1, 1, 1, 1, 1, 1, 2, 2, 2, 2, 2, 2, 2, 2, 2, 2, 5, 5, 5, 5, 4, 4, 4, 4, 4, 4, 1, 1, 1, 1, 1, 1, 1, 1, 1, 1, 1, 1, 1, 1, 1, 5, 5, 5, 5, 5, 4, 4, 4, 4, 4, 4, 3, 3, 3, 3, 3, 3, 3, 3, 3, 3, 1, 1, 1, 1, 1, 2, 2, 2, 2, 2, 2, 2, 2, 2, 2, 5, 5, 5, 5, 5, 4, 4, 4, 4, 4, 4, 1, 1, 1, 1, 1, 1, 1, 1, 1, 1, 1, 1, 1, 1, 1, 5, 5, 5, 5, 5, 4, 4, 4, 4, 4, 4, 3, 3, 3, 3, 3, 3, 3, 3, 3, 3, 1, 1, 1, 1, 1, 1, 1, 1, 1, 1, 2, 2, 2, 2, 2, 2, 2, 2, 2, 2, 4, 4, 4, 4, 4, 4, 3, 3, 3, 3, 3, 3, 3, 3, 3, 3, 1, 1, 1, 1, 1, 1, 1, 1, 1, 2, 2, 2, 2, 2, 2, 2, 2, 2, 2, 5, 4, 4, 4, 4, 4, 4, 3, 3, 3, 3, 3, 3, 3, 3, 3, 3, 1, 1, 1, 1, 1, 1, 1, 1, 1, 2, 2, 2, 2, 2, 2, 2, 2, 2, 2, 5, 4, 4, 4, 4, 4, 4, 1, 1, 1, 1, 1, 1, 1, 1, 1, 1, 1, 1, 1, 1, 1, 1, 5, 5, 5, 5, 4, 4, 4, 4, 4, 4, 1, 1, 1, 1, 1, 1, 1, 5, 5, 5, 5, 5, 5, 5, 5, 5, 5, 5, 5, 5, 4, 4, 4, 4, 4, 4, 3, 3, 3, 3, 3, 3, 3, 3, 3, 3, 1, 1, 1, 1, 1, 1, 1, 1, 1, 2, 2, 2, 2, 2, 2, 2, 2, 2, 2, 5, 4, 4, 4, 4, 4, 4, 3, 3, 3, 3, 3, 3, 3, 3, 3, 3, 1, 1, 1, 1, 1, 1, 1, 1, 1, 1, 2, 2, 2, 2, 2, 2, 2, 2, 2, 2, 4, 4, 4, 4, 4, 4, 3, 3, 3, 3, 3, 3, 3, 3, 3, 3, 1, 1, 1, 1, 1, 1, 1, 1, 1, 2, 2, 2, 2, 2, 2, 2, 2, 2, 2, 5, 4, 4, 4, 4, 4, 4, 3, 3, 3, 3, 3, 3, 3, 3, 3, 3, 1, 1, 1, 1, 1, 1, 1, 1, 2, 2, 2, 2, 2, 2, 2, 2, 2, 2, 5, 5, 4, 4, 4, 4, 4, 4, 1, 1, 1, 1, 1, 1, 1, 1, 1, 1, 1, 1, 1, 5, 5, 5, 5, 5, 5, 5, 4, 4, 4, 4, 4, 4, 1, 1, 1, 1, 1, 1, 1, 1, 1, 1, 1, 1, 5, 5, 5, 5, 5, 5, 5, 5, 4, 4, 4, 4, 4, 4, 3, 3, 3, 3, 3, 3, 3, 3, 3, 3, 1, 1, 1, 1, 1, 1, 1, 1, 1, 2, 2, 2, 2, 2, 2, 2, 2, 2, 2, 5, 4, 4, 4, 4, 4, 4, 3, 3, 3, 3, 3, 3, 3, 3, 3, 3, 1, 1, 1, 1, 1, 1, 1, 1, 2, 2, 2, 2, 2, 2, 2, 2, 2, 2, 5, 5, 4, 4, 4, 4, 4, 4, 2, 2, 1, 2, 2, 2, 2, 2, 2, 3, 2, 2, 2, 1, 3, 2, 2, 2, 2, 2, 3, 2, 2, 2, 2, 3, 3, 2, 1, 2, 3, 3, 2, 2, 2, 3, 2, 2, 1, 2, 2, 2, 2, 2, 2, 3, 2, 2, 2, 1, 3, 2, 2, 2, 2, 2, 3, 2, 2, 2, 2, 3, 3, 2, 1, 2, 3, 3, 2, 2, 2, 3, 2, 2, 1, 2, 2, 2, 2, 2, 2, 3, 2, 2, 2, 1, 3, 2, 2, 2, 2, 2, 3, 2, 2, 2, 2, 3, 3, 2, 1, 2, 3, 3, 2, 2, 2, 3]\n",
            "990\n"
          ],
          "name": "stdout"
        }
      ]
    },
    {
      "cell_type": "code",
      "metadata": {
        "id": "MSs3qh0_uO94",
        "colab_type": "code",
        "colab": {}
      },
      "source": [
        "#Define data train and data test\n",
        "W_train, W_test, yw_train, yw_test = train_test_split(np.array(Fotos), np.array(y_new_valor), \n",
        "                                                    test_size=0.30, \n",
        "                                                    random_state=42)"
      ],
      "execution_count": 20,
      "outputs": []
    },
    {
      "cell_type": "code",
      "metadata": {
        "id": "pwHcagDGuow0",
        "colab_type": "code",
        "colab": {}
      },
      "source": [
        "train_images=W_train #imagens utilizadas para o treino\n",
        "train_labels=yw_train # resposta da rede\n",
        "test_images=W_test\n",
        "test_labels=yw_test"
      ],
      "execution_count": 21,
      "outputs": []
    },
    {
      "cell_type": "code",
      "metadata": {
        "id": "IWSEclzGurul",
        "colab_type": "code",
        "colab": {}
      },
      "source": [
        "model = keras.Sequential([\n",
        "    keras.layers.Flatten(input_shape=(28, 28)),\n",
        "    keras.layers.Dense(128, activation='relu'),\n",
        "    keras.layers.Dense(10)\n",
        "])"
      ],
      "execution_count": 22,
      "outputs": []
    },
    {
      "cell_type": "code",
      "metadata": {
        "id": "w88iZqfVusm0",
        "colab_type": "code",
        "colab": {}
      },
      "source": [
        "model.compile(optimizer='adam',\n",
        "              loss=tf.keras.losses.SparseCategoricalCrossentropy(from_logits=True),\n",
        "              metrics=['accuracy'])"
      ],
      "execution_count": 23,
      "outputs": []
    },
    {
      "cell_type": "code",
      "metadata": {
        "id": "a0MAtbvxuwQE",
        "colab_type": "code",
        "colab": {
          "base_uri": "https://localhost:8080/",
          "height": 420
        },
        "outputId": "b4377740-b6a2-41ce-c9c2-a8813fb5818c"
      },
      "source": [
        "model.fit(train_images, train_labels, epochs=10)"
      ],
      "execution_count": 24,
      "outputs": [
        {
          "output_type": "stream",
          "text": [
            "Epoch 1/10\n",
            "WARNING:tensorflow:Model was constructed with shape (None, 28, 28) for input Tensor(\"flatten_input:0\", shape=(None, 28, 28), dtype=float32), but it was called on an input with incompatible shape (None, 784).\n",
            "WARNING:tensorflow:Model was constructed with shape (None, 28, 28) for input Tensor(\"flatten_input:0\", shape=(None, 28, 28), dtype=float32), but it was called on an input with incompatible shape (None, 784).\n",
            "22/22 [==============================] - 0s 2ms/step - loss: 5.6770 - accuracy: 0.2670\n",
            "Epoch 2/10\n",
            "22/22 [==============================] - 0s 2ms/step - loss: 2.9020 - accuracy: 0.3074\n",
            "Epoch 3/10\n",
            "22/22 [==============================] - 0s 2ms/step - loss: 2.4552 - accuracy: 0.3434\n",
            "Epoch 4/10\n",
            "22/22 [==============================] - 0s 2ms/step - loss: 1.7069 - accuracy: 0.3983\n",
            "Epoch 5/10\n",
            "22/22 [==============================] - 0s 2ms/step - loss: 1.4189 - accuracy: 0.4170\n",
            "Epoch 6/10\n",
            "22/22 [==============================] - 0s 3ms/step - loss: 1.3703 - accuracy: 0.4574\n",
            "Epoch 7/10\n",
            "22/22 [==============================] - 0s 2ms/step - loss: 1.7005 - accuracy: 0.3752\n",
            "Epoch 8/10\n",
            "22/22 [==============================] - 0s 2ms/step - loss: 1.4478 - accuracy: 0.4661\n",
            "Epoch 9/10\n",
            "22/22 [==============================] - 0s 2ms/step - loss: 1.3121 - accuracy: 0.5137\n",
            "Epoch 10/10\n",
            "22/22 [==============================] - 0s 2ms/step - loss: 1.3298 - accuracy: 0.4921\n"
          ],
          "name": "stdout"
        },
        {
          "output_type": "execute_result",
          "data": {
            "text/plain": [
              "<tensorflow.python.keras.callbacks.History at 0x7fa9d3b085c0>"
            ]
          },
          "metadata": {
            "tags": []
          },
          "execution_count": 24
        }
      ]
    },
    {
      "cell_type": "code",
      "metadata": {
        "id": "UKdur5RAXFoV",
        "colab_type": "code",
        "colab": {}
      },
      "source": [
        "#arrumar com o bira?????\n",
        "data = {'y_Actual': y_valor,\n",
        "        'y_Predicted': prediction\n",
        "        }\n",
        "\n",
        "df = pd.DataFrame(data, columns=['y_Actual','y_Predicted'])\n",
        "#print (df)"
      ],
      "execution_count": null,
      "outputs": []
    },
    {
      "cell_type": "code",
      "metadata": {
        "id": "N2VCRfqKYdod",
        "colab_type": "code",
        "colab": {}
      },
      "source": [
        "#arrumar com o bira?????\n",
        "data = {'y_Predicted': prediction,\n",
        "        'y_Actual': y_valor\n",
        "        }\n",
        "\n",
        "df = pd.DataFrame(data, columns=['y_Actual','y_Predicted'])\n",
        "print (df)"
      ],
      "execution_count": null,
      "outputs": []
    }
  ]
}