{
  "nbformat": 4,
  "nbformat_minor": 0,
  "metadata": {
    "colab": {
      "name": "PSD_histogram_CNN_B_Amostra8_r_squared_jul_29_2021.ipynb",
      "provenance": [],
      "collapsed_sections": [],
      "include_colab_link": true
    },
    "kernelspec": {
      "display_name": "Python 3",
      "name": "python3"
    }
  },
  "cells": [
    {
      "cell_type": "markdown",
      "metadata": {
        "id": "view-in-github",
        "colab_type": "text"
      },
      "source": [
        "<a href=\"https://colab.research.google.com/github/marquesgabi/Doutorado/blob/master/PSD_histogram_CNN_B_Amostra8_r_squared_set_9_2021.ipynb\" target=\"_parent\"><img src=\"https://colab.research.google.com/assets/colab-badge.svg\" alt=\"Open In Colab\"/></a>"
      ]
    },
    {
      "cell_type": "code",
      "metadata": {
        "id": "Sog7Z9pyhUD_"
      },
      "source": [
        "import matplotlib.pyplot as plt\n",
        "import numpy as np\n",
        "import cv2\n",
        "import zipfile\n",
        "#import random\n",
        "from random import randint\n",
        "from PIL import Image\n",
        "import re\n",
        "from sklearn.model_selection import train_test_split\n",
        "#import scikit-image\n",
        "import skimage\n",
        "import sklearn\n",
        "import pandas as pd\n",
        "from keras.models import Sequential\n",
        "from keras.layers import Dense, Activation, Conv2D, MaxPooling2D, Flatten, Dropout, BatchNormalization\n",
        "from sklearn.metrics import r2_score\n",
        "from google.colab import files"
      ],
      "execution_count": 1,
      "outputs": []
    },
    {
      "cell_type": "code",
      "metadata": {
        "colab": {
          "base_uri": "https://localhost:8080/"
        },
        "id": "uZEvJvfoibE4",
        "outputId": "7b364dbf-d21f-4b09-d916-6f57a918dd8b"
      },
      "source": [
        "!pip install mahotas"
      ],
      "execution_count": 2,
      "outputs": [
        {
          "output_type": "stream",
          "name": "stdout",
          "text": [
            "Collecting mahotas\n",
            "  Downloading mahotas-1.4.11-cp37-cp37m-manylinux2010_x86_64.whl (5.7 MB)\n",
            "\u001b[K     |████████████████████████████████| 5.7 MB 4.3 MB/s \n",
            "\u001b[?25hRequirement already satisfied: numpy in /usr/local/lib/python3.7/dist-packages (from mahotas) (1.19.5)\n",
            "Installing collected packages: mahotas\n",
            "Successfully installed mahotas-1.4.11\n"
          ]
        }
      ]
    },
    {
      "cell_type": "code",
      "metadata": {
        "id": "nf_a6PJ1iUnT"
      },
      "source": [
        "import mahotas.features.texture as mht\n",
        "import mahotas.features"
      ],
      "execution_count": 3,
      "outputs": []
    },
    {
      "cell_type": "code",
      "metadata": {
        "colab": {
          "base_uri": "https://localhost:8080/"
        },
        "id": "_VcTdaNVh9EE",
        "outputId": "6a0bfd54-cfe3-490a-ece2-1e7f2607b780"
      },
      "source": [
        "!git clone https://github.com/ucfilho/marquesgabi_fev_2020 #clonar do Github\n",
        "%cd marquesgabi_fev_2020\n",
        "import Go2BlackWhite\n",
        "import Go2Mahotas"
      ],
      "execution_count": 4,
      "outputs": [
        {
          "output_type": "stream",
          "name": "stdout",
          "text": [
            "Cloning into 'marquesgabi_fev_2020'...\n",
            "remote: Enumerating objects: 73, done.\u001b[K\n",
            "remote: Counting objects: 100% (73/73), done.\u001b[K\n",
            "remote: Compressing objects: 100% (71/71), done.\u001b[K\n",
            "remote: Total 73 (delta 37), reused 0 (delta 0), pack-reused 0\u001b[K\n",
            "Unpacking objects: 100% (73/73), done.\n",
            "/content/marquesgabi_fev_2020\n"
          ]
        }
      ]
    },
    {
      "cell_type": "code",
      "metadata": {
        "colab": {
          "base_uri": "https://localhost:8080/"
        },
        "id": "1v7SRrc8mH2N",
        "outputId": "55d45f4b-7744-4129-cb89-5154b40f8e3b"
      },
      "source": [
        "!git clone https://github.com/marquesgabi/Doutorado\n",
        "%cd Doutorado\n",
        "\n",
        "Transfere='Fotos_Grandes_3cdAmostra.zip' \n",
        "file_name = zipfile.ZipFile(Transfere, 'r')\n",
        "file_name.extractall()"
      ],
      "execution_count": 5,
      "outputs": [
        {
          "output_type": "stream",
          "name": "stdout",
          "text": [
            "Cloning into 'Doutorado'...\n",
            "remote: Enumerating objects: 434, done.\u001b[K\n",
            "remote: Counting objects: 100% (184/184), done.\u001b[K\n",
            "remote: Compressing objects: 100% (183/183), done.\u001b[K\n",
            "remote: Total 434 (delta 82), reused 0 (delta 0), pack-reused 250\u001b[K\n",
            "Receiving objects: 100% (434/434), 202.94 MiB | 25.75 MiB/s, done.\n",
            "Resolving deltas: 100% (199/199), done.\n",
            "/content/marquesgabi_fev_2020/Doutorado\n"
          ]
        }
      ]
    },
    {
      "cell_type": "code",
      "metadata": {
        "colab": {
          "base_uri": "https://localhost:8080/"
        },
        "id": "NqIYzUcnrdMp",
        "outputId": "895afc7d-948b-4345-d004-3458fcc319cc"
      },
      "source": [
        "labels =[]\n",
        "with zipfile.ZipFile(Transfere, \"r\") as f:\n",
        "  for f in f.namelist():\n",
        "    labels.append(f)\n",
        "print(labels)"
      ],
      "execution_count": 6,
      "outputs": [
        {
          "output_type": "stream",
          "name": "stdout",
          "text": [
            "['Fotos_Grandes-3cdAmostra/Q6-8-4.jpg', 'Fotos_Grandes-3cdAmostra/Q6-5-3.jpg', 'Fotos_Grandes-3cdAmostra/Q6-7-4.jpg', 'Fotos_Grandes-3cdAmostra/Q6-8-2.jpg', 'Fotos_Grandes-3cdAmostra/Q6-3-2.jpg', 'Fotos_Grandes-3cdAmostra/Q6-7-2.jpg', 'Fotos_Grandes-3cdAmostra/Q6-4-4.jpg', 'Fotos_Grandes-3cdAmostra/Q6-9-5.jpg', 'Fotos_Grandes-3cdAmostra/Q6-2-5.jpg', 'Fotos_Grandes-3cdAmostra/Q6-8-3.jpg', 'Fotos_Grandes-3cdAmostra/Q6-9-3.jpg', 'Fotos_Grandes-3cdAmostra/Q6-1-2.jpg', 'Fotos_Grandes-3cdAmostra/Q6-6-3.jpg', 'Fotos_Grandes-3cdAmostra/Q6-3-4.jpg', 'Fotos_Grandes-3cdAmostra/Q6-1-4.jpg', 'Fotos_Grandes-3cdAmostra/Q6-6-2.jpg', 'Fotos_Grandes-3cdAmostra/Q6-4-3.jpg', 'Fotos_Grandes-3cdAmostra/Q6-7-3.jpg', 'Fotos_Grandes-3cdAmostra/Q6-2-2.jpg', 'Fotos_Grandes-3cdAmostra/Q6-9-2.jpg', 'Fotos_Grandes-3cdAmostra/Q6-1-5.jpg', 'Fotos_Grandes-3cdAmostra/Q6-6-5.jpg', 'Fotos_Grandes-3cdAmostra/Q6-2-1.jpg', 'Fotos_Grandes-3cdAmostra/Q6-5-2.jpg', 'Fotos_Grandes-3cdAmostra/Q6-4-1.jpg', 'Fotos_Grandes-3cdAmostra/Q6-3-1.jpg', 'Fotos_Grandes-3cdAmostra/Q6-5-4.jpg']\n"
          ]
        }
      ]
    },
    {
      "cell_type": "code",
      "metadata": {
        "id": "0kA4IWSmasoD"
      },
      "source": [
        "Size=1200 # tamanho da foto\n",
        "ww,img_name=Go2BlackWhite.BlackWhite(Transfere,Size) #Pegamos a primeira foto Grande\n",
        "img=ww[9] \n",
        "# this is the big image we want to segment \n",
        "# ww[0], change it if you want to segment another picture"
      ],
      "execution_count": 7,
      "outputs": []
    },
    {
      "cell_type": "code",
      "metadata": {
        "colab": {
          "base_uri": "https://localhost:8080/"
        },
        "id": "tHgqAnaFyCjp",
        "outputId": "9c02d41b-fce8-4465-d04b-f297a77f787e"
      },
      "source": [
        "!git clone https://github.com/ucfilho/MarquesGabi_Routines\n",
        "%cd MarquesGabi_Routines"
      ],
      "execution_count": 8,
      "outputs": [
        {
          "output_type": "stream",
          "name": "stdout",
          "text": [
            "Cloning into 'MarquesGabi_Routines'...\n",
            "remote: Enumerating objects: 163, done.\u001b[K\n",
            "remote: Counting objects: 100% (163/163), done.\u001b[K\n",
            "remote: Compressing objects: 100% (161/161), done.\u001b[K\n",
            "remote: Total 163 (delta 65), reused 0 (delta 0), pack-reused 0\u001b[K\n",
            "Receiving objects: 100% (163/163), 211.71 MiB | 22.30 MiB/s, done.\n",
            "Resolving deltas: 100% (65/65), done.\n",
            "Checking out files: 100% (46/46), done.\n",
            "/content/marquesgabi_fev_2020/Doutorado/MarquesGabi_Routines\n"
          ]
        }
      ]
    },
    {
      "cell_type": "code",
      "metadata": {
        "id": "qc4rFvzkyWCi"
      },
      "source": [
        "from segment_filter_not_conclude import Segmenta  # got image provided segmented"
      ],
      "execution_count": 9,
      "outputs": []
    },
    {
      "cell_type": "code",
      "metadata": {
        "id": "SnTtH3KDP863"
      },
      "source": [
        "df=Segmenta(img)\n",
        "Img_Size = 28"
      ],
      "execution_count": 10,
      "outputs": []
    },
    {
      "cell_type": "code",
      "metadata": {
        "colab": {
          "base_uri": "https://localhost:8080/"
        },
        "id": "YN5MN5a_v4np",
        "outputId": "6dc527a5-5d49-4f93-c67d-1364a514f42e"
      },
      "source": [
        "print(df)"
      ],
      "execution_count": 11,
      "outputs": [
        {
          "output_type": "stream",
          "name": "stdout",
          "text": [
            "    Width           0           1  ...         781         782         783\n",
            "0     197    0.471154    0.764797  ...   96.021523   95.115524   89.676781\n",
            "1     140   94.959999   96.439995  ...   78.279999   73.159996   62.680000\n",
            "2     115   74.795998   74.701469  ...   79.840370   76.531113   68.005592\n",
            "3     149   51.697990   72.187607  ...   84.707626   89.328186   87.429535\n",
            "4     189   22.331963   16.282579  ...   81.403297   79.497948   78.716049\n",
            "5     178   49.837021   55.419144  ...    6.601819    7.067290    6.413332\n",
            "6     149   67.923752   73.401062  ...  113.565025  103.040596   88.591141\n",
            "7     113   93.094521   95.671394  ...   19.002975   10.417809    2.423761\n",
            "8     146   95.332703   94.612122  ...   85.997932   90.742348   93.488464\n",
            "9     177   56.618465   56.375050  ...   75.360840   86.687851   90.714279\n",
            "10    198   74.058037   80.491066  ...    4.831038    4.695337    4.412509\n",
            "11    137  112.669395  114.286324  ...    7.054718    7.352709    7.094091\n",
            "12    163   85.147202   82.686813  ...    0.000000    0.000000    0.000000\n",
            "13    198   87.811539   90.186203  ...    0.041424    0.491276    0.648607\n",
            "14    110   88.236694   89.773232  ...   29.401983   31.142479   35.133224\n",
            "15    162   86.750191   91.998474  ...   97.000916   99.335930   98.978668\n",
            "16    122   51.668907   53.482391  ...   61.338345   59.538025   58.629128\n",
            "17    143   41.071640   46.052425  ...   46.547264   48.137413   49.252380\n",
            "18    154   57.123970   53.818184  ...   88.892563   88.033066   86.727272\n",
            "19    133   69.138504   71.094185  ...  109.814400  114.221611  114.581718\n",
            "20    169   67.622597   71.134308  ...   58.205063   67.506172   74.781410\n",
            "21    191   43.219265   45.257477  ...   95.948143   96.642334   96.507362\n",
            "22    129   76.082985   85.534576  ...  102.933952  106.357552  111.283218\n",
            "23    141   57.753689   59.855095  ...    7.193903    7.664454    7.239122\n",
            "24    152   98.954979  103.128807  ...  104.504158  103.905815  104.058861\n",
            "25    182   54.781071   55.656811  ...   66.005920   68.402367   69.704147\n",
            "26    104   69.755928   62.844673  ...   67.634621   67.855042   63.684921\n",
            "27    163   48.857616   50.759754  ...   64.248863   64.745079   64.118256\n",
            "28    170   88.563477   78.138550  ...   91.026863   93.299255   97.879181\n",
            "29    195   83.166351   67.695572  ...   53.323429   55.774883   57.814655\n",
            "30    134   76.470932   77.276459  ...  121.096909  122.440857  113.983299\n",
            "31    174  114.967384  115.430061  ...   58.957726   58.156162   53.196728\n",
            "32    179   57.926060   50.385101  ...   84.625511   77.452606   70.998817\n",
            "33    159   40.974407   46.542938  ...    6.293343    6.572089    5.910882\n",
            "34    134   91.100693   92.494324  ...   48.663841   50.990200   58.863224\n",
            "35    137   88.196808   31.822792  ...   75.097984   74.403275   68.722939\n",
            "36    112  119.562500  121.750000  ...    0.000000    0.000000    0.000000\n",
            "37    164   78.403923   80.001190  ...   11.251637    9.272457    7.454492\n",
            "38    156   52.801449   63.132153  ...   84.906639   89.160439   90.859962\n",
            "39    183   78.137939   71.122185  ...   93.204842   98.273376  101.910324\n",
            "40    197   79.768593   84.436378  ...   78.820358   79.672401   79.824692\n",
            "41    195  112.925560  108.467384  ...   51.520901   53.605896   57.782780\n",
            "42    149   78.766685   80.615059  ...   83.871185   66.012299   60.511105\n",
            "43    102   66.837761   54.687050  ...   52.800083   45.882740   31.502888\n",
            "44    133   47.692520   52.468143  ...   68.850418   64.213295   60.867035\n",
            "45    171   88.266434   88.131500  ...    5.827366    6.053658    5.939093\n",
            "46    181    1.552150    2.224779  ...   74.064835   63.254395   10.392204\n",
            "47    125   75.791946   73.555656  ...   57.957695   66.919037   67.801094\n",
            "48    135  100.583473  101.581772  ...   58.599171   59.624634   55.666119\n",
            "49    130   62.383667   76.566391  ...   21.224615   22.515739   24.695148\n",
            "\n",
            "[50 rows x 785 columns]\n"
          ]
        }
      ]
    },
    {
      "cell_type": "code",
      "metadata": {
        "colab": {
          "base_uri": "https://localhost:8080/",
          "height": 52
        },
        "id": "xzpQ1Pz0fX5L",
        "outputId": "3db9b1a7-50ed-41f6-cf46-3d58a402cd34"
      },
      "source": [
        "'''\n",
        "!git clone https://github.com/ucfilho/MarquesGabi_Routines\n",
        "%cd MarquesGabi_Routines\n",
        "# filename = 'model_ANN.pkl'\n",
        "filename = 'model_ANN_new.pkl'\n",
        "model = joblib.load(filename)\n",
        "'''"
      ],
      "execution_count": 12,
      "outputs": [
        {
          "output_type": "execute_result",
          "data": {
            "application/vnd.google.colaboratory.intrinsic+json": {
              "type": "string"
            },
            "text/plain": [
              "\"\\n!git clone https://github.com/ucfilho/MarquesGabi_Routines\\n%cd MarquesGabi_Routines\\n# filename = 'model_ANN.pkl'\\nfilename = 'model_ANN_new.pkl'\\nmodel = joblib.load(filename)\\n\""
            ]
          },
          "metadata": {},
          "execution_count": 12
        }
      ]
    },
    {
      "cell_type": "code",
      "metadata": {
        "colab": {
          "base_uri": "https://localhost:8080/"
        },
        "id": "xR2emP4rNjQy",
        "outputId": "2f03b613-b707-4ee9-e7a2-bbb063a89f51"
      },
      "source": [
        "!git clone https://github.com/ucfilho/MarquesGabi_Routines\n",
        "%cd MarquesGabi_Routines"
      ],
      "execution_count": 13,
      "outputs": [
        {
          "output_type": "stream",
          "name": "stdout",
          "text": [
            "Cloning into 'MarquesGabi_Routines'...\n",
            "remote: Enumerating objects: 163, done.\u001b[K\n",
            "remote: Counting objects: 100% (163/163), done.\u001b[K\n",
            "remote: Compressing objects: 100% (161/161), done.\u001b[K\n",
            "remote: Total 163 (delta 65), reused 0 (delta 0), pack-reused 0\u001b[K\n",
            "Receiving objects: 100% (163/163), 211.71 MiB | 21.33 MiB/s, done.\n",
            "Resolving deltas: 100% (65/65), done.\n",
            "Checking out files: 100% (46/46), done.\n",
            "/content/marquesgabi_fev_2020/Doutorado/MarquesGabi_Routines/MarquesGabi_Routines\n"
          ]
        }
      ]
    },
    {
      "cell_type": "code",
      "metadata": {
        "id": "O6cMHOrlNliO"
      },
      "source": [
        "# leitura dos dados\n",
        "df=pd.read_excel(\"FotosTreinoRede.xlsx\")\n",
        "y = df['y']\n",
        "df.drop(['Unnamed: 0','y'], axis='columns', inplace=True)"
      ],
      "execution_count": 14,
      "outputs": []
    },
    {
      "cell_type": "code",
      "metadata": {
        "id": "zQO8d2QbNqj0"
      },
      "source": [
        "X =np.array(df.copy())/255.0 \n",
        "\n",
        "\n",
        "X_train, X_test, Y_train, Y_test = train_test_split(X, y, test_size=0.30, shuffle=True, random_state=42)"
      ],
      "execution_count": 15,
      "outputs": []
    },
    {
      "cell_type": "code",
      "metadata": {
        "id": "gIFPGE_-vx3T"
      },
      "source": [
        ""
      ],
      "execution_count": 15,
      "outputs": []
    },
    {
      "cell_type": "code",
      "metadata": {
        "id": "23iKv6bDPWQl"
      },
      "source": [
        "# helper\n",
        "def ynindicator(Y):\n",
        "  N = len(Y)\n",
        "  K = len(set(Y))\n",
        "  I = np.zeros((N, K))\n",
        "  I[np.arange(N), Y] = 1\n",
        "  return I\n",
        "\n",
        "def yback(Y_test):\n",
        "  nrow, ncol = Y_test.shape\n",
        "  y_class = np.zeros(nrow,dtype=int)\n",
        "  y_resp = Y_test\n",
        "  for k in range(nrow):\n",
        "    for kk in range(K):\n",
        "      if(y_resp[k,kk] == 1):\n",
        "        y_class[k] = kk\n",
        "  Y_test = y_class.copy()\n",
        "  return Y_test\n",
        "\n",
        "X_train = np.array(X_train)\n",
        "Y_train = np.array(Y_train)\n",
        "K = len(set(Y_train))\n",
        "\n",
        "X_train = X_train.reshape(-1, Img_Size, Img_Size, 1) / 255.0\n",
        "Y_train = Y_train.astype(np.int32)\n",
        "Y_train = ynindicator(Y_train)\n",
        "\n",
        "X_test = np.array(X_test )\n",
        "Y_test = np.array(Y_test)\n",
        "X_test = X_test.reshape(-1, Img_Size, Img_Size, 1) / 255.0\n",
        "Y_test = Y_test.astype(np.int32)\n",
        "Y_test = ynindicator(Y_test)\n",
        "\n",
        "# the model will be a sequence of layers\n",
        "\n",
        "Description = '3 layers of Convolution: 64, 128, 256 '\n",
        "N1 = 20\n",
        "N2 = 20\n",
        "\n",
        "# make the CNN\n",
        "model = Sequential()\n",
        "model.add(Conv2D(input_shape=(Img_Size, Img_Size, 1), filters=64, kernel_size=(3, 3)))\n",
        "model.add(BatchNormalization())\n",
        "model.add(Activation('relu'))\n",
        "model.add(MaxPooling2D())\n",
        "\n",
        "model.add(Conv2D(filters=128, kernel_size=(3, 3)))\n",
        "model.add(BatchNormalization())\n",
        "model.add(Activation('relu'))\n",
        "model.add(MaxPooling2D())\n",
        "\n",
        "model.add(Conv2D(filters=256, kernel_size=(3, 3)))\n",
        "model.add(BatchNormalization())\n",
        "model.add(Activation('relu'))\n",
        "model.add(MaxPooling2D())\n",
        "\n",
        "model.add(Flatten())\n",
        "model.add(Dense(units=N1))\n",
        "model.add(Dropout(0.2))\n",
        "model.add(Dense(units=N2))\n",
        "model.add(Activation('relu'))\n",
        "#model.add(Dropout(0.2))\n",
        "model.add(Dense(units=K))\n",
        "model.add(Activation('softmax'))\n",
        "\n",
        "\n",
        "# list of losses: https://keras.io/losses/\n",
        "# list of optimizers: https://keras.io/optimizers/\n",
        "# list of metrics: https://keras.io/metrics/\n",
        "model.compile(\n",
        "  loss='categorical_crossentropy',\n",
        "  optimizer='adam',\n",
        "  metrics=['accuracy']\n",
        ")"
      ],
      "execution_count": 16,
      "outputs": []
    },
    {
      "cell_type": "code",
      "metadata": {
        "colab": {
          "base_uri": "https://localhost:8080/"
        },
        "id": "FpbPQ1FSRG6A",
        "outputId": "fb946577-8a78-4483-acf5-8e76c24e0eb6"
      },
      "source": [
        "\n",
        "# training the model\n",
        "r = model.fit(X_train, Y_train, validation_data=(X_test,Y_test), \n",
        "              epochs=200, batch_size=32)"
      ],
      "execution_count": 17,
      "outputs": [
        {
          "output_type": "stream",
          "name": "stdout",
          "text": [
            "Epoch 1/200\n",
            "11/11 [==============================] - 2s 74ms/step - loss: 0.5844 - accuracy: 0.7318 - val_loss: 0.6931 - val_accuracy: 0.5714\n",
            "Epoch 2/200\n",
            "11/11 [==============================] - 1s 53ms/step - loss: 0.3144 - accuracy: 0.8717 - val_loss: 0.6930 - val_accuracy: 0.5102\n",
            "Epoch 3/200\n",
            "11/11 [==============================] - 1s 51ms/step - loss: 0.1917 - accuracy: 0.9242 - val_loss: 0.6929 - val_accuracy: 0.5102\n",
            "Epoch 4/200\n",
            "11/11 [==============================] - 1s 52ms/step - loss: 0.1102 - accuracy: 0.9534 - val_loss: 0.6930 - val_accuracy: 0.4898\n",
            "Epoch 5/200\n",
            "11/11 [==============================] - 1s 50ms/step - loss: 0.1360 - accuracy: 0.9446 - val_loss: 0.6930 - val_accuracy: 0.4898\n",
            "Epoch 6/200\n",
            "11/11 [==============================] - 1s 52ms/step - loss: 0.1136 - accuracy: 0.9679 - val_loss: 0.6925 - val_accuracy: 0.5102\n",
            "Epoch 7/200\n",
            "11/11 [==============================] - 1s 51ms/step - loss: 0.0656 - accuracy: 0.9738 - val_loss: 0.6925 - val_accuracy: 0.5102\n",
            "Epoch 8/200\n",
            "11/11 [==============================] - 1s 51ms/step - loss: 0.0450 - accuracy: 0.9796 - val_loss: 0.6930 - val_accuracy: 0.5102\n",
            "Epoch 9/200\n",
            "11/11 [==============================] - 1s 54ms/step - loss: 0.0275 - accuracy: 0.9942 - val_loss: 0.6937 - val_accuracy: 0.5102\n",
            "Epoch 10/200\n",
            "11/11 [==============================] - 1s 51ms/step - loss: 0.0139 - accuracy: 0.9942 - val_loss: 0.6938 - val_accuracy: 0.5102\n",
            "Epoch 11/200\n",
            "11/11 [==============================] - 1s 54ms/step - loss: 0.0177 - accuracy: 0.9971 - val_loss: 0.6937 - val_accuracy: 0.5102\n",
            "Epoch 12/200\n",
            "11/11 [==============================] - 1s 50ms/step - loss: 0.0145 - accuracy: 0.9971 - val_loss: 0.6932 - val_accuracy: 0.5102\n",
            "Epoch 13/200\n",
            "11/11 [==============================] - 1s 51ms/step - loss: 0.0165 - accuracy: 0.9942 - val_loss: 0.6942 - val_accuracy: 0.5102\n",
            "Epoch 14/200\n",
            "11/11 [==============================] - 1s 51ms/step - loss: 0.0193 - accuracy: 0.9971 - val_loss: 0.6922 - val_accuracy: 0.5102\n",
            "Epoch 15/200\n",
            "11/11 [==============================] - 1s 51ms/step - loss: 0.0175 - accuracy: 0.9913 - val_loss: 0.6908 - val_accuracy: 0.5102\n",
            "Epoch 16/200\n",
            "11/11 [==============================] - 1s 51ms/step - loss: 0.0123 - accuracy: 0.9942 - val_loss: 0.6906 - val_accuracy: 0.5102\n",
            "Epoch 17/200\n",
            "11/11 [==============================] - 1s 51ms/step - loss: 0.0042 - accuracy: 1.0000 - val_loss: 0.6908 - val_accuracy: 0.5102\n",
            "Epoch 18/200\n",
            "11/11 [==============================] - 1s 52ms/step - loss: 0.0106 - accuracy: 0.9942 - val_loss: 0.6929 - val_accuracy: 0.5102\n",
            "Epoch 19/200\n",
            "11/11 [==============================] - 1s 51ms/step - loss: 0.0079 - accuracy: 0.9971 - val_loss: 0.6982 - val_accuracy: 0.5102\n",
            "Epoch 20/200\n",
            "11/11 [==============================] - 1s 51ms/step - loss: 0.0072 - accuracy: 0.9971 - val_loss: 0.6990 - val_accuracy: 0.5102\n",
            "Epoch 21/200\n",
            "11/11 [==============================] - 1s 49ms/step - loss: 0.0147 - accuracy: 0.9942 - val_loss: 0.7042 - val_accuracy: 0.5102\n",
            "Epoch 22/200\n",
            "11/11 [==============================] - 1s 50ms/step - loss: 0.0113 - accuracy: 1.0000 - val_loss: 0.6879 - val_accuracy: 0.5102\n",
            "Epoch 23/200\n",
            "11/11 [==============================] - 1s 50ms/step - loss: 0.0095 - accuracy: 0.9942 - val_loss: 0.7199 - val_accuracy: 0.5102\n",
            "Epoch 24/200\n",
            "11/11 [==============================] - 1s 54ms/step - loss: 0.0138 - accuracy: 0.9971 - val_loss: 0.6937 - val_accuracy: 0.5102\n",
            "Epoch 25/200\n",
            "11/11 [==============================] - 1s 51ms/step - loss: 0.0168 - accuracy: 0.9971 - val_loss: 0.6822 - val_accuracy: 0.7007\n",
            "Epoch 26/200\n",
            "11/11 [==============================] - 1s 51ms/step - loss: 0.0278 - accuracy: 0.9883 - val_loss: 0.7062 - val_accuracy: 0.5102\n",
            "Epoch 27/200\n",
            "11/11 [==============================] - 1s 51ms/step - loss: 0.0148 - accuracy: 0.9971 - val_loss: 0.7059 - val_accuracy: 0.5102\n",
            "Epoch 28/200\n",
            "11/11 [==============================] - 1s 53ms/step - loss: 0.0316 - accuracy: 0.9883 - val_loss: 0.7715 - val_accuracy: 0.5102\n",
            "Epoch 29/200\n",
            "11/11 [==============================] - 1s 52ms/step - loss: 0.0570 - accuracy: 0.9883 - val_loss: 0.6749 - val_accuracy: 0.5170\n",
            "Epoch 30/200\n",
            "11/11 [==============================] - 1s 50ms/step - loss: 0.0613 - accuracy: 0.9796 - val_loss: 0.7554 - val_accuracy: 0.5102\n",
            "Epoch 31/200\n",
            "11/11 [==============================] - 1s 51ms/step - loss: 0.0839 - accuracy: 0.9592 - val_loss: 1.5625 - val_accuracy: 0.5102\n",
            "Epoch 32/200\n",
            "11/11 [==============================] - 1s 52ms/step - loss: 0.0113 - accuracy: 1.0000 - val_loss: 2.8515 - val_accuracy: 0.5102\n",
            "Epoch 33/200\n",
            "11/11 [==============================] - 1s 50ms/step - loss: 0.0321 - accuracy: 0.9942 - val_loss: 3.1812 - val_accuracy: 0.5102\n",
            "Epoch 34/200\n",
            "11/11 [==============================] - 1s 50ms/step - loss: 0.0239 - accuracy: 0.9913 - val_loss: 3.3742 - val_accuracy: 0.5102\n",
            "Epoch 35/200\n",
            "11/11 [==============================] - 1s 51ms/step - loss: 0.0382 - accuracy: 0.9913 - val_loss: 2.4080 - val_accuracy: 0.5102\n",
            "Epoch 36/200\n",
            "11/11 [==============================] - 1s 50ms/step - loss: 0.0101 - accuracy: 0.9971 - val_loss: 2.4366 - val_accuracy: 0.5102\n",
            "Epoch 37/200\n",
            "11/11 [==============================] - 1s 52ms/step - loss: 0.0026 - accuracy: 1.0000 - val_loss: 2.4981 - val_accuracy: 0.5102\n",
            "Epoch 38/200\n",
            "11/11 [==============================] - 1s 51ms/step - loss: 0.0022 - accuracy: 1.0000 - val_loss: 2.5047 - val_accuracy: 0.5102\n",
            "Epoch 39/200\n",
            "11/11 [==============================] - 1s 51ms/step - loss: 5.1775e-04 - accuracy: 1.0000 - val_loss: 2.4068 - val_accuracy: 0.5102\n",
            "Epoch 40/200\n",
            "11/11 [==============================] - 1s 51ms/step - loss: 0.0012 - accuracy: 1.0000 - val_loss: 2.2709 - val_accuracy: 0.5102\n",
            "Epoch 41/200\n",
            "11/11 [==============================] - 1s 50ms/step - loss: 4.5728e-04 - accuracy: 1.0000 - val_loss: 2.0925 - val_accuracy: 0.5102\n",
            "Epoch 42/200\n",
            "11/11 [==============================] - 1s 51ms/step - loss: 0.0019 - accuracy: 1.0000 - val_loss: 2.4071 - val_accuracy: 0.5102\n",
            "Epoch 43/200\n",
            "11/11 [==============================] - 1s 50ms/step - loss: 0.0014 - accuracy: 1.0000 - val_loss: 2.3312 - val_accuracy: 0.5102\n",
            "Epoch 44/200\n",
            "11/11 [==============================] - 1s 51ms/step - loss: 0.0065 - accuracy: 0.9971 - val_loss: 2.8160 - val_accuracy: 0.5102\n",
            "Epoch 45/200\n",
            "11/11 [==============================] - 1s 52ms/step - loss: 0.0078 - accuracy: 0.9942 - val_loss: 2.5285 - val_accuracy: 0.5102\n",
            "Epoch 46/200\n",
            "11/11 [==============================] - 1s 54ms/step - loss: 0.0056 - accuracy: 0.9971 - val_loss: 2.6560 - val_accuracy: 0.5102\n",
            "Epoch 47/200\n",
            "11/11 [==============================] - 1s 52ms/step - loss: 0.0092 - accuracy: 0.9942 - val_loss: 5.1433 - val_accuracy: 0.5102\n",
            "Epoch 48/200\n",
            "11/11 [==============================] - 1s 49ms/step - loss: 0.0020 - accuracy: 1.0000 - val_loss: 5.4700 - val_accuracy: 0.5102\n",
            "Epoch 49/200\n",
            "11/11 [==============================] - 1s 52ms/step - loss: 0.0054 - accuracy: 0.9971 - val_loss: 3.0265 - val_accuracy: 0.5102\n",
            "Epoch 50/200\n",
            "11/11 [==============================] - 1s 50ms/step - loss: 0.0051 - accuracy: 0.9971 - val_loss: 5.3162 - val_accuracy: 0.5102\n",
            "Epoch 51/200\n",
            "11/11 [==============================] - 1s 52ms/step - loss: 3.9280e-04 - accuracy: 1.0000 - val_loss: 6.4983 - val_accuracy: 0.5102\n",
            "Epoch 52/200\n",
            "11/11 [==============================] - 1s 50ms/step - loss: 8.6818e-04 - accuracy: 1.0000 - val_loss: 7.1325 - val_accuracy: 0.5102\n",
            "Epoch 53/200\n",
            "11/11 [==============================] - 1s 50ms/step - loss: 0.0042 - accuracy: 0.9971 - val_loss: 6.9989 - val_accuracy: 0.5102\n",
            "Epoch 54/200\n",
            "11/11 [==============================] - 1s 50ms/step - loss: 7.0001e-04 - accuracy: 1.0000 - val_loss: 4.4847 - val_accuracy: 0.5102\n",
            "Epoch 55/200\n",
            "11/11 [==============================] - 1s 51ms/step - loss: 0.0028 - accuracy: 1.0000 - val_loss: 10.3918 - val_accuracy: 0.5102\n",
            "Epoch 56/200\n",
            "11/11 [==============================] - 1s 50ms/step - loss: 4.5713e-04 - accuracy: 1.0000 - val_loss: 13.2627 - val_accuracy: 0.5102\n",
            "Epoch 57/200\n",
            "11/11 [==============================] - 1s 50ms/step - loss: 1.9807e-04 - accuracy: 1.0000 - val_loss: 14.8298 - val_accuracy: 0.5102\n",
            "Epoch 58/200\n",
            "11/11 [==============================] - 1s 51ms/step - loss: 3.8513e-04 - accuracy: 1.0000 - val_loss: 14.4826 - val_accuracy: 0.5102\n",
            "Epoch 59/200\n",
            "11/11 [==============================] - 1s 50ms/step - loss: 2.8244e-04 - accuracy: 1.0000 - val_loss: 13.1235 - val_accuracy: 0.5102\n",
            "Epoch 60/200\n",
            "11/11 [==============================] - 1s 51ms/step - loss: 7.5209e-05 - accuracy: 1.0000 - val_loss: 12.1424 - val_accuracy: 0.5102\n",
            "Epoch 61/200\n",
            "11/11 [==============================] - 1s 50ms/step - loss: 6.3410e-05 - accuracy: 1.0000 - val_loss: 11.3661 - val_accuracy: 0.5102\n",
            "Epoch 62/200\n",
            "11/11 [==============================] - 1s 51ms/step - loss: 1.9431e-04 - accuracy: 1.0000 - val_loss: 10.6691 - val_accuracy: 0.5102\n",
            "Epoch 63/200\n",
            "11/11 [==============================] - 1s 50ms/step - loss: 1.1519e-04 - accuracy: 1.0000 - val_loss: 9.8395 - val_accuracy: 0.5102\n",
            "Epoch 64/200\n",
            "11/11 [==============================] - 1s 51ms/step - loss: 1.6673e-04 - accuracy: 1.0000 - val_loss: 9.4793 - val_accuracy: 0.5102\n",
            "Epoch 65/200\n",
            "11/11 [==============================] - 1s 55ms/step - loss: 1.2947e-04 - accuracy: 1.0000 - val_loss: 8.9930 - val_accuracy: 0.5102\n",
            "Epoch 66/200\n",
            "11/11 [==============================] - 1s 50ms/step - loss: 5.9083e-05 - accuracy: 1.0000 - val_loss: 8.4009 - val_accuracy: 0.5102\n",
            "Epoch 67/200\n",
            "11/11 [==============================] - 1s 50ms/step - loss: 9.1011e-04 - accuracy: 1.0000 - val_loss: 7.6920 - val_accuracy: 0.5102\n",
            "Epoch 68/200\n",
            "11/11 [==============================] - 1s 51ms/step - loss: 0.0012 - accuracy: 1.0000 - val_loss: 5.8737 - val_accuracy: 0.5102\n",
            "Epoch 69/200\n",
            "11/11 [==============================] - 1s 52ms/step - loss: 3.1802e-04 - accuracy: 1.0000 - val_loss: 0.9224 - val_accuracy: 0.7279\n",
            "Epoch 70/200\n",
            "11/11 [==============================] - 1s 50ms/step - loss: 8.8385e-05 - accuracy: 1.0000 - val_loss: 0.7610 - val_accuracy: 0.7687\n",
            "Epoch 71/200\n",
            "11/11 [==============================] - 1s 51ms/step - loss: 8.1794e-05 - accuracy: 1.0000 - val_loss: 0.6789 - val_accuracy: 0.7959\n",
            "Epoch 72/200\n",
            "11/11 [==============================] - 1s 50ms/step - loss: 9.5040e-05 - accuracy: 1.0000 - val_loss: 0.5535 - val_accuracy: 0.8231\n",
            "Epoch 73/200\n",
            "11/11 [==============================] - 1s 51ms/step - loss: 7.9253e-05 - accuracy: 1.0000 - val_loss: 0.4924 - val_accuracy: 0.8367\n",
            "Epoch 74/200\n",
            "11/11 [==============================] - 1s 51ms/step - loss: 5.4374e-05 - accuracy: 1.0000 - val_loss: 0.5606 - val_accuracy: 0.8231\n",
            "Epoch 75/200\n",
            "11/11 [==============================] - 1s 54ms/step - loss: 2.9967e-05 - accuracy: 1.0000 - val_loss: 0.5228 - val_accuracy: 0.8231\n",
            "Epoch 76/200\n",
            "11/11 [==============================] - 1s 52ms/step - loss: 4.7462e-05 - accuracy: 1.0000 - val_loss: 0.4076 - val_accuracy: 0.8503\n",
            "Epoch 77/200\n",
            "11/11 [==============================] - 1s 52ms/step - loss: 3.2905e-04 - accuracy: 1.0000 - val_loss: 0.2258 - val_accuracy: 0.8707\n",
            "Epoch 78/200\n",
            "11/11 [==============================] - 1s 51ms/step - loss: 6.7310e-05 - accuracy: 1.0000 - val_loss: 0.1977 - val_accuracy: 0.9184\n",
            "Epoch 79/200\n",
            "11/11 [==============================] - 1s 51ms/step - loss: 1.1984e-04 - accuracy: 1.0000 - val_loss: 0.2032 - val_accuracy: 0.9252\n",
            "Epoch 80/200\n",
            "11/11 [==============================] - 1s 54ms/step - loss: 2.7423e-05 - accuracy: 1.0000 - val_loss: 0.2069 - val_accuracy: 0.9252\n",
            "Epoch 81/200\n",
            "11/11 [==============================] - 1s 51ms/step - loss: 4.7183e-05 - accuracy: 1.0000 - val_loss: 0.2037 - val_accuracy: 0.9252\n",
            "Epoch 82/200\n",
            "11/11 [==============================] - 1s 52ms/step - loss: 3.7926e-05 - accuracy: 1.0000 - val_loss: 0.2036 - val_accuracy: 0.9252\n",
            "Epoch 83/200\n",
            "11/11 [==============================] - 1s 50ms/step - loss: 3.8728e-05 - accuracy: 1.0000 - val_loss: 0.2137 - val_accuracy: 0.9252\n",
            "Epoch 84/200\n",
            "11/11 [==============================] - 1s 54ms/step - loss: 8.7374e-05 - accuracy: 1.0000 - val_loss: 0.2344 - val_accuracy: 0.9388\n",
            "Epoch 85/200\n",
            "11/11 [==============================] - 1s 53ms/step - loss: 8.8638e-05 - accuracy: 1.0000 - val_loss: 0.2515 - val_accuracy: 0.9388\n",
            "Epoch 86/200\n",
            "11/11 [==============================] - 1s 51ms/step - loss: 2.8852e-05 - accuracy: 1.0000 - val_loss: 0.2544 - val_accuracy: 0.9456\n",
            "Epoch 87/200\n",
            "11/11 [==============================] - 1s 53ms/step - loss: 1.5163e-04 - accuracy: 1.0000 - val_loss: 0.2395 - val_accuracy: 0.9388\n",
            "Epoch 88/200\n",
            "11/11 [==============================] - 1s 51ms/step - loss: 5.7389e-05 - accuracy: 1.0000 - val_loss: 0.2478 - val_accuracy: 0.9320\n",
            "Epoch 89/200\n",
            "11/11 [==============================] - 1s 52ms/step - loss: 1.3317e-04 - accuracy: 1.0000 - val_loss: 0.2692 - val_accuracy: 0.9388\n",
            "Epoch 90/200\n",
            "11/11 [==============================] - 1s 51ms/step - loss: 3.3972e-05 - accuracy: 1.0000 - val_loss: 0.2896 - val_accuracy: 0.9320\n",
            "Epoch 91/200\n",
            "11/11 [==============================] - 1s 51ms/step - loss: 2.7826e-05 - accuracy: 1.0000 - val_loss: 0.2950 - val_accuracy: 0.9388\n",
            "Epoch 92/200\n",
            "11/11 [==============================] - 1s 51ms/step - loss: 2.7706e-05 - accuracy: 1.0000 - val_loss: 0.2916 - val_accuracy: 0.9456\n",
            "Epoch 93/200\n",
            "11/11 [==============================] - 1s 51ms/step - loss: 2.4586e-05 - accuracy: 1.0000 - val_loss: 0.2854 - val_accuracy: 0.9456\n",
            "Epoch 94/200\n",
            "11/11 [==============================] - 1s 52ms/step - loss: 3.0833e-05 - accuracy: 1.0000 - val_loss: 0.2672 - val_accuracy: 0.9524\n",
            "Epoch 95/200\n",
            "11/11 [==============================] - 1s 50ms/step - loss: 1.3501e-04 - accuracy: 1.0000 - val_loss: 0.2390 - val_accuracy: 0.9592\n",
            "Epoch 96/200\n",
            "11/11 [==============================] - 1s 51ms/step - loss: 2.6551e-05 - accuracy: 1.0000 - val_loss: 0.2224 - val_accuracy: 0.9660\n",
            "Epoch 97/200\n",
            "11/11 [==============================] - 1s 52ms/step - loss: 5.4108e-05 - accuracy: 1.0000 - val_loss: 0.2166 - val_accuracy: 0.9660\n",
            "Epoch 98/200\n",
            "11/11 [==============================] - 1s 52ms/step - loss: 3.2127e-05 - accuracy: 1.0000 - val_loss: 0.2123 - val_accuracy: 0.9660\n",
            "Epoch 99/200\n",
            "11/11 [==============================] - 1s 53ms/step - loss: 1.0708e-05 - accuracy: 1.0000 - val_loss: 0.2092 - val_accuracy: 0.9796\n",
            "Epoch 100/200\n",
            "11/11 [==============================] - 1s 53ms/step - loss: 1.9757e-04 - accuracy: 1.0000 - val_loss: 0.1948 - val_accuracy: 0.9728\n",
            "Epoch 101/200\n",
            "11/11 [==============================] - 1s 51ms/step - loss: 1.8640e-05 - accuracy: 1.0000 - val_loss: 2.2693 - val_accuracy: 0.7075\n",
            "Epoch 102/200\n",
            "11/11 [==============================] - 1s 53ms/step - loss: 3.4874e-05 - accuracy: 1.0000 - val_loss: 3.3787 - val_accuracy: 0.6327\n",
            "Epoch 103/200\n",
            "11/11 [==============================] - 1s 52ms/step - loss: 2.0530e-05 - accuracy: 1.0000 - val_loss: 3.4300 - val_accuracy: 0.6327\n",
            "Epoch 104/200\n",
            "11/11 [==============================] - 1s 51ms/step - loss: 2.6213e-05 - accuracy: 1.0000 - val_loss: 3.0276 - val_accuracy: 0.6463\n",
            "Epoch 105/200\n",
            "11/11 [==============================] - 1s 51ms/step - loss: 1.8138e-05 - accuracy: 1.0000 - val_loss: 2.4635 - val_accuracy: 0.7007\n",
            "Epoch 106/200\n",
            "11/11 [==============================] - 1s 51ms/step - loss: 2.2731e-05 - accuracy: 1.0000 - val_loss: 1.7516 - val_accuracy: 0.7279\n",
            "Epoch 107/200\n",
            "11/11 [==============================] - 1s 52ms/step - loss: 3.1958e-05 - accuracy: 1.0000 - val_loss: 1.3274 - val_accuracy: 0.7823\n",
            "Epoch 108/200\n",
            "11/11 [==============================] - 1s 52ms/step - loss: 6.9389e-05 - accuracy: 1.0000 - val_loss: 1.1655 - val_accuracy: 0.7891\n",
            "Epoch 109/200\n",
            "11/11 [==============================] - 1s 50ms/step - loss: 6.2255e-05 - accuracy: 1.0000 - val_loss: 0.9728 - val_accuracy: 0.8163\n",
            "Epoch 110/200\n",
            "11/11 [==============================] - 1s 52ms/step - loss: 8.7589e-05 - accuracy: 1.0000 - val_loss: 0.7711 - val_accuracy: 0.8503\n",
            "Epoch 111/200\n",
            "11/11 [==============================] - 1s 51ms/step - loss: 5.1645e-05 - accuracy: 1.0000 - val_loss: 0.5610 - val_accuracy: 0.8912\n",
            "Epoch 112/200\n",
            "11/11 [==============================] - 1s 54ms/step - loss: 4.8786e-05 - accuracy: 1.0000 - val_loss: 0.4699 - val_accuracy: 0.8844\n",
            "Epoch 113/200\n",
            "11/11 [==============================] - 1s 51ms/step - loss: 4.5037e-05 - accuracy: 1.0000 - val_loss: 0.3910 - val_accuracy: 0.9184\n",
            "Epoch 114/200\n",
            "11/11 [==============================] - 1s 54ms/step - loss: 1.0028e-04 - accuracy: 1.0000 - val_loss: 0.2104 - val_accuracy: 0.9524\n",
            "Epoch 115/200\n",
            "11/11 [==============================] - 1s 51ms/step - loss: 7.7853e-05 - accuracy: 1.0000 - val_loss: 0.1615 - val_accuracy: 0.9728\n",
            "Epoch 116/200\n",
            "11/11 [==============================] - 1s 54ms/step - loss: 1.6642e-05 - accuracy: 1.0000 - val_loss: 0.2387 - val_accuracy: 0.9456\n",
            "Epoch 117/200\n",
            "11/11 [==============================] - 1s 53ms/step - loss: 1.5455e-05 - accuracy: 1.0000 - val_loss: 0.2648 - val_accuracy: 0.9320\n",
            "Epoch 118/200\n",
            "11/11 [==============================] - 1s 51ms/step - loss: 1.5361e-05 - accuracy: 1.0000 - val_loss: 0.2590 - val_accuracy: 0.9388\n",
            "Epoch 119/200\n",
            "11/11 [==============================] - 1s 52ms/step - loss: 1.3055e-05 - accuracy: 1.0000 - val_loss: 0.2472 - val_accuracy: 0.9456\n",
            "Epoch 120/200\n",
            "11/11 [==============================] - 1s 54ms/step - loss: 5.9016e-05 - accuracy: 1.0000 - val_loss: 0.2367 - val_accuracy: 0.9524\n",
            "Epoch 121/200\n",
            "11/11 [==============================] - 1s 52ms/step - loss: 1.1600e-04 - accuracy: 1.0000 - val_loss: 0.1725 - val_accuracy: 0.9728\n",
            "Epoch 122/200\n",
            "11/11 [==============================] - 1s 50ms/step - loss: 2.6410e-05 - accuracy: 1.0000 - val_loss: 0.2043 - val_accuracy: 0.9592\n",
            "Epoch 123/200\n",
            "11/11 [==============================] - 1s 54ms/step - loss: 1.5209e-04 - accuracy: 1.0000 - val_loss: 0.2760 - val_accuracy: 0.9456\n",
            "Epoch 124/200\n",
            "11/11 [==============================] - 1s 52ms/step - loss: 1.8743e-05 - accuracy: 1.0000 - val_loss: 0.5248 - val_accuracy: 0.8912\n",
            "Epoch 125/200\n",
            "11/11 [==============================] - 1s 51ms/step - loss: 1.0044e-04 - accuracy: 1.0000 - val_loss: 0.6380 - val_accuracy: 0.8639\n",
            "Epoch 126/200\n",
            "11/11 [==============================] - 1s 53ms/step - loss: 2.0154e-05 - accuracy: 1.0000 - val_loss: 0.6497 - val_accuracy: 0.8571\n",
            "Epoch 127/200\n",
            "11/11 [==============================] - 1s 54ms/step - loss: 1.9817e-05 - accuracy: 1.0000 - val_loss: 0.5861 - val_accuracy: 0.8776\n",
            "Epoch 128/200\n",
            "11/11 [==============================] - 1s 52ms/step - loss: 7.0516e-05 - accuracy: 1.0000 - val_loss: 0.5431 - val_accuracy: 0.8844\n",
            "Epoch 129/200\n",
            "11/11 [==============================] - 1s 52ms/step - loss: 1.0928e-05 - accuracy: 1.0000 - val_loss: 0.4956 - val_accuracy: 0.8912\n",
            "Epoch 130/200\n",
            "11/11 [==============================] - 1s 51ms/step - loss: 9.1018e-06 - accuracy: 1.0000 - val_loss: 0.4355 - val_accuracy: 0.9048\n",
            "Epoch 131/200\n",
            "11/11 [==============================] - 1s 51ms/step - loss: 3.1221e-05 - accuracy: 1.0000 - val_loss: 0.3247 - val_accuracy: 0.9116\n",
            "Epoch 132/200\n",
            "11/11 [==============================] - 1s 53ms/step - loss: 2.2058e-05 - accuracy: 1.0000 - val_loss: 0.2424 - val_accuracy: 0.9524\n",
            "Epoch 133/200\n",
            "11/11 [==============================] - 1s 53ms/step - loss: 2.8174e-05 - accuracy: 1.0000 - val_loss: 0.2214 - val_accuracy: 0.9660\n",
            "Epoch 134/200\n",
            "11/11 [==============================] - 1s 50ms/step - loss: 1.1488e-05 - accuracy: 1.0000 - val_loss: 0.2212 - val_accuracy: 0.9524\n",
            "Epoch 135/200\n",
            "11/11 [==============================] - 1s 52ms/step - loss: 9.8502e-06 - accuracy: 1.0000 - val_loss: 0.2181 - val_accuracy: 0.9524\n",
            "Epoch 136/200\n",
            "11/11 [==============================] - 1s 52ms/step - loss: 1.4657e-05 - accuracy: 1.0000 - val_loss: 0.2102 - val_accuracy: 0.9592\n",
            "Epoch 137/200\n",
            "11/11 [==============================] - 1s 53ms/step - loss: 8.0945e-06 - accuracy: 1.0000 - val_loss: 0.2059 - val_accuracy: 0.9592\n",
            "Epoch 138/200\n",
            "11/11 [==============================] - 1s 53ms/step - loss: 1.2944e-05 - accuracy: 1.0000 - val_loss: 0.2029 - val_accuracy: 0.9660\n",
            "Epoch 139/200\n",
            "11/11 [==============================] - 1s 52ms/step - loss: 1.8945e-05 - accuracy: 1.0000 - val_loss: 0.1989 - val_accuracy: 0.9660\n",
            "Epoch 140/200\n",
            "11/11 [==============================] - 1s 52ms/step - loss: 2.6653e-04 - accuracy: 1.0000 - val_loss: 0.2581 - val_accuracy: 0.9388\n",
            "Epoch 141/200\n",
            "11/11 [==============================] - 1s 52ms/step - loss: 3.4628e-05 - accuracy: 1.0000 - val_loss: 0.6784 - val_accuracy: 0.8639\n",
            "Epoch 142/200\n",
            "11/11 [==============================] - 1s 53ms/step - loss: 1.8802e-05 - accuracy: 1.0000 - val_loss: 0.7914 - val_accuracy: 0.8299\n",
            "Epoch 143/200\n",
            "11/11 [==============================] - 1s 52ms/step - loss: 1.0922e-05 - accuracy: 1.0000 - val_loss: 0.7224 - val_accuracy: 0.8503\n",
            "Epoch 144/200\n",
            "11/11 [==============================] - 1s 54ms/step - loss: 2.1724e-05 - accuracy: 1.0000 - val_loss: 0.6150 - val_accuracy: 0.8707\n",
            "Epoch 145/200\n",
            "11/11 [==============================] - 1s 52ms/step - loss: 1.9503e-05 - accuracy: 1.0000 - val_loss: 0.4720 - val_accuracy: 0.8844\n",
            "Epoch 146/200\n",
            "11/11 [==============================] - 1s 52ms/step - loss: 1.1883e-05 - accuracy: 1.0000 - val_loss: 0.4108 - val_accuracy: 0.8912\n",
            "Epoch 147/200\n",
            "11/11 [==============================] - 1s 51ms/step - loss: 8.1375e-06 - accuracy: 1.0000 - val_loss: 0.3613 - val_accuracy: 0.8980\n",
            "Epoch 148/200\n",
            "11/11 [==============================] - 1s 53ms/step - loss: 2.8882e-05 - accuracy: 1.0000 - val_loss: 0.2652 - val_accuracy: 0.9184\n",
            "Epoch 149/200\n",
            "11/11 [==============================] - 1s 54ms/step - loss: 1.8679e-04 - accuracy: 1.0000 - val_loss: 0.2440 - val_accuracy: 0.9388\n",
            "Epoch 150/200\n",
            "11/11 [==============================] - 1s 53ms/step - loss: 2.5816e-05 - accuracy: 1.0000 - val_loss: 0.4908 - val_accuracy: 0.9116\n",
            "Epoch 151/200\n",
            "11/11 [==============================] - 1s 52ms/step - loss: 1.6915e-05 - accuracy: 1.0000 - val_loss: 0.5481 - val_accuracy: 0.9116\n",
            "Epoch 152/200\n",
            "11/11 [==============================] - 1s 52ms/step - loss: 7.4969e-05 - accuracy: 1.0000 - val_loss: 0.5326 - val_accuracy: 0.9116\n",
            "Epoch 153/200\n",
            "11/11 [==============================] - 1s 52ms/step - loss: 2.6507e-05 - accuracy: 1.0000 - val_loss: 0.5119 - val_accuracy: 0.9184\n",
            "Epoch 154/200\n",
            "11/11 [==============================] - 1s 51ms/step - loss: 3.3136e-05 - accuracy: 1.0000 - val_loss: 0.4559 - val_accuracy: 0.9184\n",
            "Epoch 155/200\n",
            "11/11 [==============================] - 1s 50ms/step - loss: 7.8278e-06 - accuracy: 1.0000 - val_loss: 0.3961 - val_accuracy: 0.9184\n",
            "Epoch 156/200\n",
            "11/11 [==============================] - 1s 54ms/step - loss: 1.4158e-04 - accuracy: 1.0000 - val_loss: 0.5620 - val_accuracy: 0.8980\n",
            "Epoch 157/200\n",
            "11/11 [==============================] - 1s 52ms/step - loss: 6.5033e-06 - accuracy: 1.0000 - val_loss: 0.7584 - val_accuracy: 0.8776\n",
            "Epoch 158/200\n",
            "11/11 [==============================] - 1s 52ms/step - loss: 1.2760e-05 - accuracy: 1.0000 - val_loss: 0.7330 - val_accuracy: 0.8776\n",
            "Epoch 159/200\n",
            "11/11 [==============================] - 1s 51ms/step - loss: 7.6716e-06 - accuracy: 1.0000 - val_loss: 0.6355 - val_accuracy: 0.8980\n",
            "Epoch 160/200\n",
            "11/11 [==============================] - 1s 51ms/step - loss: 1.4994e-05 - accuracy: 1.0000 - val_loss: 0.5251 - val_accuracy: 0.9184\n",
            "Epoch 161/200\n",
            "11/11 [==============================] - 1s 51ms/step - loss: 1.6930e-05 - accuracy: 1.0000 - val_loss: 0.4631 - val_accuracy: 0.9184\n",
            "Epoch 162/200\n",
            "11/11 [==============================] - 1s 51ms/step - loss: 9.5868e-06 - accuracy: 1.0000 - val_loss: 0.4110 - val_accuracy: 0.9184\n",
            "Epoch 163/200\n",
            "11/11 [==============================] - 1s 51ms/step - loss: 1.3767e-05 - accuracy: 1.0000 - val_loss: 0.3264 - val_accuracy: 0.9388\n",
            "Epoch 164/200\n",
            "11/11 [==============================] - 1s 52ms/step - loss: 5.3218e-06 - accuracy: 1.0000 - val_loss: 0.2726 - val_accuracy: 0.9524\n",
            "Epoch 165/200\n",
            "11/11 [==============================] - 1s 51ms/step - loss: 4.0947e-06 - accuracy: 1.0000 - val_loss: 0.2501 - val_accuracy: 0.9592\n",
            "Epoch 166/200\n",
            "11/11 [==============================] - 1s 51ms/step - loss: 4.9007e-05 - accuracy: 1.0000 - val_loss: 0.2805 - val_accuracy: 0.9388\n",
            "Epoch 167/200\n",
            "11/11 [==============================] - 1s 52ms/step - loss: 1.0304e-05 - accuracy: 1.0000 - val_loss: 0.3480 - val_accuracy: 0.9252\n",
            "Epoch 168/200\n",
            "11/11 [==============================] - 1s 51ms/step - loss: 6.3173e-06 - accuracy: 1.0000 - val_loss: 0.3283 - val_accuracy: 0.9252\n",
            "Epoch 169/200\n",
            "11/11 [==============================] - 1s 54ms/step - loss: 1.4105e-05 - accuracy: 1.0000 - val_loss: 0.2968 - val_accuracy: 0.9388\n",
            "Epoch 170/200\n",
            "11/11 [==============================] - 1s 52ms/step - loss: 9.8307e-05 - accuracy: 1.0000 - val_loss: 0.2092 - val_accuracy: 0.9660\n",
            "Epoch 171/200\n",
            "11/11 [==============================] - 1s 54ms/step - loss: 1.2146e-04 - accuracy: 1.0000 - val_loss: 0.2035 - val_accuracy: 0.9728\n",
            "Epoch 172/200\n",
            "11/11 [==============================] - 1s 51ms/step - loss: 1.1875e-05 - accuracy: 1.0000 - val_loss: 0.2149 - val_accuracy: 0.9728\n",
            "Epoch 173/200\n",
            "11/11 [==============================] - 1s 51ms/step - loss: 7.3187e-05 - accuracy: 1.0000 - val_loss: 0.1789 - val_accuracy: 0.9728\n",
            "Epoch 174/200\n",
            "11/11 [==============================] - 1s 52ms/step - loss: 8.9444e-06 - accuracy: 1.0000 - val_loss: 0.1624 - val_accuracy: 0.9660\n",
            "Epoch 175/200\n",
            "11/11 [==============================] - 1s 53ms/step - loss: 6.7455e-06 - accuracy: 1.0000 - val_loss: 0.1662 - val_accuracy: 0.9660\n",
            "Epoch 176/200\n",
            "11/11 [==============================] - 1s 54ms/step - loss: 9.4440e-06 - accuracy: 1.0000 - val_loss: 0.1746 - val_accuracy: 0.9728\n",
            "Epoch 177/200\n",
            "11/11 [==============================] - 1s 51ms/step - loss: 6.0223e-06 - accuracy: 1.0000 - val_loss: 0.1839 - val_accuracy: 0.9728\n",
            "Epoch 178/200\n",
            "11/11 [==============================] - 1s 52ms/step - loss: 6.2737e-06 - accuracy: 1.0000 - val_loss: 0.1933 - val_accuracy: 0.9728\n",
            "Epoch 179/200\n",
            "11/11 [==============================] - 1s 52ms/step - loss: 7.6905e-06 - accuracy: 1.0000 - val_loss: 0.2000 - val_accuracy: 0.9728\n",
            "Epoch 180/200\n",
            "11/11 [==============================] - 1s 52ms/step - loss: 9.7146e-06 - accuracy: 1.0000 - val_loss: 0.2057 - val_accuracy: 0.9728\n",
            "Epoch 181/200\n",
            "11/11 [==============================] - 1s 53ms/step - loss: 9.4872e-06 - accuracy: 1.0000 - val_loss: 0.2026 - val_accuracy: 0.9728\n",
            "Epoch 182/200\n",
            "11/11 [==============================] - 1s 51ms/step - loss: 1.2703e-05 - accuracy: 1.0000 - val_loss: 0.2024 - val_accuracy: 0.9728\n",
            "Epoch 183/200\n",
            "11/11 [==============================] - 1s 51ms/step - loss: 1.1300e-05 - accuracy: 1.0000 - val_loss: 0.2045 - val_accuracy: 0.9728\n",
            "Epoch 184/200\n",
            "11/11 [==============================] - 1s 53ms/step - loss: 1.5461e-05 - accuracy: 1.0000 - val_loss: 0.2063 - val_accuracy: 0.9728\n",
            "Epoch 185/200\n",
            "11/11 [==============================] - 1s 57ms/step - loss: 2.0289e-05 - accuracy: 1.0000 - val_loss: 0.2063 - val_accuracy: 0.9728\n",
            "Epoch 186/200\n",
            "11/11 [==============================] - 1s 52ms/step - loss: 1.3379e-05 - accuracy: 1.0000 - val_loss: 0.2090 - val_accuracy: 0.9728\n",
            "Epoch 187/200\n",
            "11/11 [==============================] - 1s 51ms/step - loss: 7.9776e-06 - accuracy: 1.0000 - val_loss: 0.2092 - val_accuracy: 0.9728\n",
            "Epoch 188/200\n",
            "11/11 [==============================] - 1s 52ms/step - loss: 7.6845e-05 - accuracy: 1.0000 - val_loss: 0.2109 - val_accuracy: 0.9728\n",
            "Epoch 189/200\n",
            "11/11 [==============================] - 1s 52ms/step - loss: 3.0918e-05 - accuracy: 1.0000 - val_loss: 0.2058 - val_accuracy: 0.9728\n",
            "Epoch 190/200\n",
            "11/11 [==============================] - 1s 53ms/step - loss: 1.3025e-05 - accuracy: 1.0000 - val_loss: 0.1990 - val_accuracy: 0.9728\n",
            "Epoch 191/200\n",
            "11/11 [==============================] - 1s 51ms/step - loss: 2.1152e-05 - accuracy: 1.0000 - val_loss: 0.1927 - val_accuracy: 0.9728\n",
            "Epoch 192/200\n",
            "11/11 [==============================] - 1s 52ms/step - loss: 4.1720e-06 - accuracy: 1.0000 - val_loss: 0.1899 - val_accuracy: 0.9660\n",
            "Epoch 193/200\n",
            "11/11 [==============================] - 1s 53ms/step - loss: 5.3972e-06 - accuracy: 1.0000 - val_loss: 0.1886 - val_accuracy: 0.9728\n",
            "Epoch 194/200\n",
            "11/11 [==============================] - 1s 53ms/step - loss: 3.9302e-06 - accuracy: 1.0000 - val_loss: 0.1890 - val_accuracy: 0.9728\n",
            "Epoch 195/200\n",
            "11/11 [==============================] - 1s 52ms/step - loss: 8.0530e-06 - accuracy: 1.0000 - val_loss: 0.1917 - val_accuracy: 0.9728\n",
            "Epoch 196/200\n",
            "11/11 [==============================] - 1s 51ms/step - loss: 4.9163e-06 - accuracy: 1.0000 - val_loss: 0.1999 - val_accuracy: 0.9796\n",
            "Epoch 197/200\n",
            "11/11 [==============================] - 1s 51ms/step - loss: 7.0503e-06 - accuracy: 1.0000 - val_loss: 0.2074 - val_accuracy: 0.9796\n",
            "Epoch 198/200\n",
            "11/11 [==============================] - 1s 52ms/step - loss: 5.8307e-06 - accuracy: 1.0000 - val_loss: 0.2134 - val_accuracy: 0.9796\n",
            "Epoch 199/200\n",
            "11/11 [==============================] - 1s 52ms/step - loss: 2.1132e-05 - accuracy: 1.0000 - val_loss: 0.2195 - val_accuracy: 0.9796\n",
            "Epoch 200/200\n",
            "11/11 [==============================] - 1s 51ms/step - loss: 1.0175e-05 - accuracy: 1.0000 - val_loss: 0.2244 - val_accuracy: 0.9796\n"
          ]
        }
      ]
    },
    {
      "cell_type": "code",
      "metadata": {
        "id": "cSTlOSUBWMpj"
      },
      "source": [
        "Y_test = yback(Y_test)"
      ],
      "execution_count": 18,
      "outputs": []
    },
    {
      "cell_type": "code",
      "metadata": {
        "id": "s2Q1QDQTGqqV",
        "colab": {
          "base_uri": "https://localhost:8080/"
        },
        "outputId": "20e73aa4-df69-4a34-8d2f-db0512d789a3"
      },
      "source": [
        "pred_test= model.predict(X_test)\n",
        "Rows, Cols = pred_test.shape\n",
        "Prediction =[]\n",
        "for i in range(Rows):\n",
        "  if(pred_test[0,0] > pred_test[0,1]):\n",
        "    Prediction.append(0)\n",
        "  else:\n",
        "    Prediction.append(1)\n",
        "  \n",
        "\n",
        "\n",
        "data = {'y_true': Y_test,'y_predict': Prediction}  # este dado esta no formato de dicionario\n",
        "\n",
        "df = pd.DataFrame(data, columns=['y_true','y_predict'])\n",
        "\n",
        "\n",
        "confusion_matrix = pd.crosstab(df['y_true'], df['y_predict'], rownames=['Actual'], colnames=['Predict'])\n",
        "print(confusion_matrix)\n",
        "\n",
        "y_true = df['y_true']\n",
        "y_pred = df['y_predict']\n",
        "\n",
        "  \n",
        "METRICS=sklearn.metrics.classification_report(y_true, y_pred)"
      ],
      "execution_count": 19,
      "outputs": [
        {
          "output_type": "stream",
          "name": "stdout",
          "text": [
            "Predict   1\n",
            "Actual     \n",
            "0        72\n",
            "1        75\n"
          ]
        },
        {
          "output_type": "stream",
          "name": "stderr",
          "text": [
            "/usr/local/lib/python3.7/dist-packages/sklearn/metrics/_classification.py:1272: UndefinedMetricWarning: Precision and F-score are ill-defined and being set to 0.0 in labels with no predicted samples. Use `zero_division` parameter to control this behavior.\n",
            "  _warn_prf(average, modifier, msg_start, len(result))\n"
          ]
        }
      ]
    },
    {
      "cell_type": "code",
      "metadata": {
        "id": "_iFNNrlWV9tH"
      },
      "source": [
        "#pred_test"
      ],
      "execution_count": 20,
      "outputs": []
    },
    {
      "cell_type": "code",
      "metadata": {
        "id": "Y2_t9FpLG42n",
        "colab": {
          "base_uri": "https://localhost:8080/"
        },
        "outputId": "017ee7a8-f4da-43c4-a122-486703915483"
      },
      "source": [
        "cont = 0; num =25\n",
        "img_graos = []\n",
        "Width_new = []\n",
        "img=ww[9] \n",
        "while( cont < num):\n",
        "  df=Segmenta(img)\n",
        "  df_ann =df.copy()\n",
        "  Width = df['Width']\n",
        "  del df_ann['Width']\n",
        "  result = np.array(df_ann)\n",
        "  result = result.reshape(-1, Img_Size, Img_Size, 1) / 255.0\n",
        "  prediction_02 = model.predict(result)\n",
        "  Rows, Cols = prediction_02.shape\n",
        "  Prediction =[]\n",
        "  for i in range(Rows):\n",
        "    if(prediction_02[0,0] > prediction_02[0,1]):\n",
        "      Prediction.append(0)\n",
        "    else:\n",
        "      Prediction.append(1)\n",
        "  loc_grao =[];k=0\n",
        "  for i in Prediction:\n",
        "    if( i == 0):\n",
        "      img_graos.append(df.iloc[k,:])\n",
        "      Width_new.append(Width.iloc[k])\n",
        "      cont = cont + 1\n",
        "    k = k +1\n",
        "img_graos = pd.DataFrame(img_graos)\n",
        "print(img_graos)"
      ],
      "execution_count": 21,
      "outputs": [
        {
          "output_type": "stream",
          "name": "stdout",
          "text": [
            "    Width           0           1  ...         781         782         783\n",
            "0   119.0   88.387543   91.826996  ...   74.737022   61.657440   57.685123\n",
            "1   158.0   73.140839   72.573631  ...  100.230255   96.581787   92.794891\n",
            "2   119.0   75.975777   77.899658  ...   87.363319   88.743950   89.961937\n",
            "3   120.0   67.971115   67.234444  ...   83.311119   91.075554   94.491119\n",
            "4   188.0   94.818924   93.645088  ...    5.626075    5.927116    5.813490\n",
            "5   179.0   73.168381   71.546204  ...   88.408356  105.161850  112.133354\n",
            "6   193.0   47.278904   49.222424  ...   28.186420   19.086607    5.140944\n",
            "7   169.0   54.477852   66.980637  ...   59.777664   60.347183   63.271519\n",
            "8   183.0   94.720085  102.316612  ...   64.737465   74.837112   86.345253\n",
            "9   189.0   91.817566   90.218102  ...   39.663925   25.208504   17.545954\n",
            "10  179.0   28.828722   29.482946  ...   92.308571   93.453827   96.452675\n",
            "11  107.0   72.577080   60.620232  ...   57.085243   57.620667   56.919296\n",
            "12  135.0   26.634182   28.969328  ...   66.410416   60.774754   48.352371\n",
            "13  183.0   74.851151   73.151306  ...  127.386253  128.813583  120.386513\n",
            "14  141.0   68.090340   77.994766  ...   95.394096   91.294601   97.012321\n",
            "15  120.0  103.256668  103.093338  ...   65.856667   65.230003   67.267776\n",
            "16  120.0   71.591110   78.227783  ...    0.000000    0.000000    0.000000\n",
            "17  150.0   63.245872   48.620796  ...   47.954670   52.275024   55.838757\n",
            "18  195.0   97.290108   99.182281  ...   75.030304   66.453369   59.450130\n",
            "19  159.0   69.545189   74.515404  ...   23.123810   16.866064    4.930857\n",
            "20  169.0   82.060822   83.283249  ...  122.494377  148.094711  174.480042\n",
            "21  151.0   60.405247   59.700718  ...    0.000000    0.000000    0.000000\n",
            "22  112.0   91.750000   98.625000  ...   73.000000   71.500000   71.562500\n",
            "23  136.0   61.953289   50.240486  ...   56.830452   56.191177   50.657440\n",
            "24  140.0    3.120000    8.960000  ...   90.479996   93.559998   97.720001\n",
            "25  174.0    0.000000    0.000000  ...   63.171494   88.337173   93.637733\n",
            "26  126.0   90.222221   89.975319  ...   35.716049   43.555553   48.617283\n",
            "27  167.0   42.644627   41.543049  ...   67.502892   81.100296   82.698769\n",
            "28  100.0   87.731201   88.350395  ...   52.897602   52.782398   52.768002\n",
            "29  194.0   73.607071   75.269310  ...   92.770958   90.752144   91.296303\n",
            "30  111.0  117.765686  115.968102  ...    0.856830    0.441036    0.436328\n",
            "31  175.0   76.350395   72.334404  ...    4.700800    4.478399    2.862400\n",
            "32  151.0   46.471512   49.224293  ...    6.959564    6.763080    7.436034\n",
            "33  160.0   71.187500   69.330620  ...    4.139375    4.980625    3.531250\n",
            "34  190.0  132.041992  116.078331  ...  100.341927   99.728302  100.682098\n",
            "35  170.0    0.058270    0.088997  ...   89.032539   88.376755   80.975227\n",
            "36  138.0  100.350761  102.905685  ...    3.149549    3.020164    3.076035\n",
            "37  154.0   57.404964   60.628101  ...   58.297523   56.115707   56.826447\n",
            "38  135.0   70.498489   67.555832  ...   55.195770   56.009377   57.763237\n",
            "39  116.0   45.093933   43.809746  ...   47.858501   48.595718   49.940544\n",
            "40  185.0   41.453030   64.059547  ...   41.452942   51.121693   59.386765\n",
            "41  167.0  135.972855  139.589279  ...   57.724159   47.364128   43.475853\n",
            "42  129.0   86.796402   89.592026  ...   80.214111   81.948380   84.708908\n",
            "43  132.0   79.653816   84.336098  ...    7.705235    7.597797    8.324151\n",
            "44  115.0   55.296558   53.689445  ...   56.874630   99.068497  111.808762\n",
            "45  125.0   86.360199   85.385345  ...   78.258827   78.549576   78.303040\n",
            "46  149.0   86.421295   98.753983  ...  121.088829  117.842407  104.399399\n",
            "47  190.0   71.174622   76.706589  ...    0.922438    3.684764    3.220277\n",
            "48  151.0   48.783081   47.921013  ...   45.300564   43.840797   40.575939\n",
            "49  147.0   28.954651   60.192741  ...    7.603175    7.367348    6.696145\n",
            "\n",
            "[50 rows x 785 columns]\n"
          ]
        }
      ]
    },
    {
      "cell_type": "code",
      "metadata": {
        "id": "6LkA4vHp-f6_"
      },
      "source": [
        "Width=np.array(Width_new)"
      ],
      "execution_count": 22,
      "outputs": []
    },
    {
      "cell_type": "code",
      "metadata": {
        "colab": {
          "base_uri": "https://localhost:8080/"
        },
        "id": "MjRbWgmX_LFH",
        "outputId": "de51de0a-1546-491d-e2cc-46e11a0c8c51"
      },
      "source": [
        "!git clone https://github.com/ucfilho/marquesgabi_paper_fev_2021\n",
        "%cd marquesgabi_paper_fev_2021\n",
        "\n",
        "from Get_PSDArea_New import PSDArea\n",
        "from histogram_fev_2021 import PSD\n",
        "from GetBetterSegm import GetBetter"
      ],
      "execution_count": 23,
      "outputs": [
        {
          "output_type": "stream",
          "name": "stdout",
          "text": [
            "Cloning into 'marquesgabi_paper_fev_2021'...\n",
            "remote: Enumerating objects: 687, done.\u001b[K\n",
            "remote: Counting objects: 100% (448/448), done.\u001b[K\n",
            "remote: Compressing objects: 100% (446/446), done.\u001b[K\n",
            "remote: Total 687 (delta 282), reused 0 (delta 0), pack-reused 239\u001b[K\n",
            "Receiving objects: 100% (687/687), 5.59 MiB | 6.35 MiB/s, done.\n",
            "Resolving deltas: 100% (419/419), done.\n",
            "/content/marquesgabi_fev_2020/Doutorado/MarquesGabi_Routines/MarquesGabi_Routines/marquesgabi_paper_fev_2021\n"
          ]
        }
      ]
    },
    {
      "cell_type": "code",
      "metadata": {
        "colab": {
          "base_uri": "https://localhost:8080/"
        },
        "id": "WAG_I6FwCvFr",
        "outputId": "e5e1b5c1-9fe2-4097-9117-f400303a8189"
      },
      "source": [
        "#!git clone https://github.com/ucfilho/marquesgabi_out_2020\n",
        "!git clone https://github.com/marquesgabi/Doutorado\n",
        "\n",
        "%cd Doutorado\n",
        "\n",
        "PSD_imageJ = 'Amostra8.csv' \n",
        "PSD_new = pd.read_csv(PSD_imageJ,sep=';')\n",
        "#encoding='utf8'\n",
        "print(PSD_new.head(3))"
      ],
      "execution_count": 24,
      "outputs": [
        {
          "output_type": "stream",
          "name": "stdout",
          "text": [
            "Cloning into 'Doutorado'...\n",
            "remote: Enumerating objects: 434, done.\u001b[K\n",
            "remote: Counting objects: 100% (184/184), done.\u001b[K\n",
            "remote: Compressing objects: 100% (183/183), done.\u001b[K\n",
            "remote: Total 434 (delta 82), reused 0 (delta 0), pack-reused 250\u001b[K\n",
            "Receiving objects: 100% (434/434), 165.78 MiB | 26.30 MiB/s, done.\n",
            "Resolving deltas: 100% (205/205), done.\n",
            "/content/marquesgabi_fev_2020/Doutorado/MarquesGabi_Routines/MarquesGabi_Routines/marquesgabi_paper_fev_2021/Doutorado\n",
            "   Unnamed: 0   Area\n",
            "0           1  0.807\n",
            "1           2  1.407\n",
            "2           3  1.177\n"
          ]
        }
      ]
    },
    {
      "cell_type": "code",
      "metadata": {
        "colab": {
          "base_uri": "https://localhost:8080/"
        },
        "id": "7tEPjIBnv_xM",
        "outputId": "41316838-7708-411c-aad4-29dbfdc03222"
      },
      "source": [
        "PSD_new.shape"
      ],
      "execution_count": 25,
      "outputs": [
        {
          "output_type": "execute_result",
          "data": {
            "text/plain": [
              "(99, 2)"
            ]
          },
          "metadata": {},
          "execution_count": 25
        }
      ]
    },
    {
      "cell_type": "code",
      "metadata": {
        "id": "t_1WIM8w7poO"
      },
      "source": [
        "Area_All, Diameter_All=PSDArea(img_graos) "
      ],
      "execution_count": 26,
      "outputs": []
    },
    {
      "cell_type": "code",
      "metadata": {
        "id": "nfagXc-Mv3oa"
      },
      "source": [
        ""
      ],
      "execution_count": 26,
      "outputs": []
    },
    {
      "cell_type": "code",
      "metadata": {
        "colab": {
          "base_uri": "https://localhost:8080/",
          "height": 253
        },
        "id": "PekBHQOT_6CP",
        "outputId": "7f2ae9a7-9a3c-4cd1-bd46-814509fab247"
      },
      "source": [
        "img_graos.head()"
      ],
      "execution_count": 27,
      "outputs": [
        {
          "output_type": "execute_result",
          "data": {
            "text/html": [
              "<div>\n",
              "<style scoped>\n",
              "    .dataframe tbody tr th:only-of-type {\n",
              "        vertical-align: middle;\n",
              "    }\n",
              "\n",
              "    .dataframe tbody tr th {\n",
              "        vertical-align: top;\n",
              "    }\n",
              "\n",
              "    .dataframe thead th {\n",
              "        text-align: right;\n",
              "    }\n",
              "</style>\n",
              "<table border=\"1\" class=\"dataframe\">\n",
              "  <thead>\n",
              "    <tr style=\"text-align: right;\">\n",
              "      <th></th>\n",
              "      <th>Width</th>\n",
              "      <th>0</th>\n",
              "      <th>1</th>\n",
              "      <th>2</th>\n",
              "      <th>3</th>\n",
              "      <th>4</th>\n",
              "      <th>5</th>\n",
              "      <th>6</th>\n",
              "      <th>7</th>\n",
              "      <th>8</th>\n",
              "      <th>9</th>\n",
              "      <th>10</th>\n",
              "      <th>11</th>\n",
              "      <th>12</th>\n",
              "      <th>13</th>\n",
              "      <th>14</th>\n",
              "      <th>15</th>\n",
              "      <th>16</th>\n",
              "      <th>17</th>\n",
              "      <th>18</th>\n",
              "      <th>19</th>\n",
              "      <th>20</th>\n",
              "      <th>21</th>\n",
              "      <th>22</th>\n",
              "      <th>23</th>\n",
              "      <th>24</th>\n",
              "      <th>25</th>\n",
              "      <th>26</th>\n",
              "      <th>27</th>\n",
              "      <th>28</th>\n",
              "      <th>29</th>\n",
              "      <th>30</th>\n",
              "      <th>31</th>\n",
              "      <th>32</th>\n",
              "      <th>33</th>\n",
              "      <th>34</th>\n",
              "      <th>35</th>\n",
              "      <th>36</th>\n",
              "      <th>37</th>\n",
              "      <th>38</th>\n",
              "      <th>...</th>\n",
              "      <th>744</th>\n",
              "      <th>745</th>\n",
              "      <th>746</th>\n",
              "      <th>747</th>\n",
              "      <th>748</th>\n",
              "      <th>749</th>\n",
              "      <th>750</th>\n",
              "      <th>751</th>\n",
              "      <th>752</th>\n",
              "      <th>753</th>\n",
              "      <th>754</th>\n",
              "      <th>755</th>\n",
              "      <th>756</th>\n",
              "      <th>757</th>\n",
              "      <th>758</th>\n",
              "      <th>759</th>\n",
              "      <th>760</th>\n",
              "      <th>761</th>\n",
              "      <th>762</th>\n",
              "      <th>763</th>\n",
              "      <th>764</th>\n",
              "      <th>765</th>\n",
              "      <th>766</th>\n",
              "      <th>767</th>\n",
              "      <th>768</th>\n",
              "      <th>769</th>\n",
              "      <th>770</th>\n",
              "      <th>771</th>\n",
              "      <th>772</th>\n",
              "      <th>773</th>\n",
              "      <th>774</th>\n",
              "      <th>775</th>\n",
              "      <th>776</th>\n",
              "      <th>777</th>\n",
              "      <th>778</th>\n",
              "      <th>779</th>\n",
              "      <th>780</th>\n",
              "      <th>781</th>\n",
              "      <th>782</th>\n",
              "      <th>783</th>\n",
              "    </tr>\n",
              "  </thead>\n",
              "  <tbody>\n",
              "    <tr>\n",
              "      <th>0</th>\n",
              "      <td>119.0</td>\n",
              "      <td>88.387543</td>\n",
              "      <td>91.826996</td>\n",
              "      <td>91.577858</td>\n",
              "      <td>88.083046</td>\n",
              "      <td>84.487892</td>\n",
              "      <td>81.975777</td>\n",
              "      <td>77.422150</td>\n",
              "      <td>72.432533</td>\n",
              "      <td>72.685120</td>\n",
              "      <td>75.750870</td>\n",
              "      <td>77.588242</td>\n",
              "      <td>78.017303</td>\n",
              "      <td>79.307953</td>\n",
              "      <td>80.214531</td>\n",
              "      <td>84.020767</td>\n",
              "      <td>87.653984</td>\n",
              "      <td>95.470596</td>\n",
              "      <td>104.044991</td>\n",
              "      <td>113.449821</td>\n",
              "      <td>109.069206</td>\n",
              "      <td>86.083046</td>\n",
              "      <td>74.269890</td>\n",
              "      <td>73.553635</td>\n",
              "      <td>74.993080</td>\n",
              "      <td>76.844284</td>\n",
              "      <td>77.301033</td>\n",
              "      <td>77.519035</td>\n",
              "      <td>78.550179</td>\n",
              "      <td>87.349487</td>\n",
              "      <td>92.269897</td>\n",
              "      <td>94.740479</td>\n",
              "      <td>90.387543</td>\n",
              "      <td>83.346024</td>\n",
              "      <td>80.086502</td>\n",
              "      <td>75.830460</td>\n",
              "      <td>72.072670</td>\n",
              "      <td>72.463669</td>\n",
              "      <td>78.145325</td>\n",
              "      <td>80.474052</td>\n",
              "      <td>...</td>\n",
              "      <td>114.366791</td>\n",
              "      <td>113.515579</td>\n",
              "      <td>111.173012</td>\n",
              "      <td>112.889282</td>\n",
              "      <td>114.446365</td>\n",
              "      <td>114.162628</td>\n",
              "      <td>111.328720</td>\n",
              "      <td>110.788925</td>\n",
              "      <td>106.986160</td>\n",
              "      <td>98.557098</td>\n",
              "      <td>82.391006</td>\n",
              "      <td>62.930801</td>\n",
              "      <td>36.449829</td>\n",
              "      <td>39.307961</td>\n",
              "      <td>38.927338</td>\n",
              "      <td>40.941177</td>\n",
              "      <td>44.484432</td>\n",
              "      <td>44.920418</td>\n",
              "      <td>45.397923</td>\n",
              "      <td>47.813148</td>\n",
              "      <td>82.806229</td>\n",
              "      <td>99.740486</td>\n",
              "      <td>103.875435</td>\n",
              "      <td>104.871971</td>\n",
              "      <td>103.000000</td>\n",
              "      <td>105.830452</td>\n",
              "      <td>106.996536</td>\n",
              "      <td>106.650513</td>\n",
              "      <td>107.743942</td>\n",
              "      <td>106.269897</td>\n",
              "      <td>104.446365</td>\n",
              "      <td>106.217995</td>\n",
              "      <td>108.764709</td>\n",
              "      <td>106.667824</td>\n",
              "      <td>104.318329</td>\n",
              "      <td>99.778549</td>\n",
              "      <td>90.377167</td>\n",
              "      <td>74.737022</td>\n",
              "      <td>61.657440</td>\n",
              "      <td>57.685123</td>\n",
              "    </tr>\n",
              "    <tr>\n",
              "      <th>1</th>\n",
              "      <td>158.0</td>\n",
              "      <td>73.140839</td>\n",
              "      <td>72.573631</td>\n",
              "      <td>72.092125</td>\n",
              "      <td>73.680344</td>\n",
              "      <td>78.377022</td>\n",
              "      <td>86.444641</td>\n",
              "      <td>95.738014</td>\n",
              "      <td>99.084908</td>\n",
              "      <td>60.326229</td>\n",
              "      <td>26.012497</td>\n",
              "      <td>43.265984</td>\n",
              "      <td>68.918289</td>\n",
              "      <td>81.441269</td>\n",
              "      <td>86.572502</td>\n",
              "      <td>76.349945</td>\n",
              "      <td>47.230892</td>\n",
              "      <td>18.889278</td>\n",
              "      <td>16.501842</td>\n",
              "      <td>19.866367</td>\n",
              "      <td>33.714787</td>\n",
              "      <td>54.501202</td>\n",
              "      <td>70.488701</td>\n",
              "      <td>79.268867</td>\n",
              "      <td>82.078667</td>\n",
              "      <td>84.276886</td>\n",
              "      <td>83.584686</td>\n",
              "      <td>80.612244</td>\n",
              "      <td>79.952415</td>\n",
              "      <td>70.147728</td>\n",
              "      <td>69.654869</td>\n",
              "      <td>71.855949</td>\n",
              "      <td>72.995514</td>\n",
              "      <td>79.772636</td>\n",
              "      <td>85.496391</td>\n",
              "      <td>94.862198</td>\n",
              "      <td>94.209732</td>\n",
              "      <td>51.452976</td>\n",
              "      <td>40.655346</td>\n",
              "      <td>49.583561</td>\n",
              "      <td>...</td>\n",
              "      <td>58.676495</td>\n",
              "      <td>54.748596</td>\n",
              "      <td>51.425892</td>\n",
              "      <td>50.883030</td>\n",
              "      <td>52.455696</td>\n",
              "      <td>52.856270</td>\n",
              "      <td>54.450085</td>\n",
              "      <td>83.099022</td>\n",
              "      <td>95.907860</td>\n",
              "      <td>98.289528</td>\n",
              "      <td>95.749550</td>\n",
              "      <td>90.484688</td>\n",
              "      <td>38.410831</td>\n",
              "      <td>22.858517</td>\n",
              "      <td>13.134433</td>\n",
              "      <td>10.662394</td>\n",
              "      <td>16.331678</td>\n",
              "      <td>58.193554</td>\n",
              "      <td>68.853546</td>\n",
              "      <td>68.978531</td>\n",
              "      <td>63.964592</td>\n",
              "      <td>60.278961</td>\n",
              "      <td>59.079315</td>\n",
              "      <td>60.097099</td>\n",
              "      <td>63.697166</td>\n",
              "      <td>65.328308</td>\n",
              "      <td>60.157028</td>\n",
              "      <td>59.346256</td>\n",
              "      <td>55.809643</td>\n",
              "      <td>53.145649</td>\n",
              "      <td>50.252682</td>\n",
              "      <td>50.029003</td>\n",
              "      <td>50.011219</td>\n",
              "      <td>50.515625</td>\n",
              "      <td>53.826473</td>\n",
              "      <td>85.692833</td>\n",
              "      <td>97.942795</td>\n",
              "      <td>100.230255</td>\n",
              "      <td>96.581787</td>\n",
              "      <td>92.794891</td>\n",
              "    </tr>\n",
              "    <tr>\n",
              "      <th>2</th>\n",
              "      <td>119.0</td>\n",
              "      <td>75.975777</td>\n",
              "      <td>77.899658</td>\n",
              "      <td>81.065742</td>\n",
              "      <td>83.370239</td>\n",
              "      <td>83.830444</td>\n",
              "      <td>86.743950</td>\n",
              "      <td>90.287201</td>\n",
              "      <td>93.200699</td>\n",
              "      <td>95.574394</td>\n",
              "      <td>97.089966</td>\n",
              "      <td>101.705887</td>\n",
              "      <td>102.044983</td>\n",
              "      <td>67.851212</td>\n",
              "      <td>36.141869</td>\n",
              "      <td>49.930794</td>\n",
              "      <td>58.089966</td>\n",
              "      <td>58.522488</td>\n",
              "      <td>54.771629</td>\n",
              "      <td>50.235291</td>\n",
              "      <td>47.058823</td>\n",
              "      <td>43.664360</td>\n",
              "      <td>39.602077</td>\n",
              "      <td>37.010380</td>\n",
              "      <td>36.027679</td>\n",
              "      <td>37.519032</td>\n",
              "      <td>39.006924</td>\n",
              "      <td>43.411766</td>\n",
              "      <td>44.768166</td>\n",
              "      <td>75.297577</td>\n",
              "      <td>78.065742</td>\n",
              "      <td>80.276825</td>\n",
              "      <td>81.709343</td>\n",
              "      <td>81.948097</td>\n",
              "      <td>85.166092</td>\n",
              "      <td>89.484428</td>\n",
              "      <td>92.591690</td>\n",
              "      <td>93.595161</td>\n",
              "      <td>94.377167</td>\n",
              "      <td>97.913498</td>\n",
              "      <td>...</td>\n",
              "      <td>71.913498</td>\n",
              "      <td>73.595154</td>\n",
              "      <td>77.301041</td>\n",
              "      <td>80.913498</td>\n",
              "      <td>82.065750</td>\n",
              "      <td>81.885818</td>\n",
              "      <td>83.612457</td>\n",
              "      <td>84.795845</td>\n",
              "      <td>85.709343</td>\n",
              "      <td>87.543251</td>\n",
              "      <td>89.145332</td>\n",
              "      <td>90.861588</td>\n",
              "      <td>23.719723</td>\n",
              "      <td>26.778549</td>\n",
              "      <td>21.384085</td>\n",
              "      <td>19.397924</td>\n",
              "      <td>17.446369</td>\n",
              "      <td>13.404845</td>\n",
              "      <td>12.287198</td>\n",
              "      <td>13.692041</td>\n",
              "      <td>18.173012</td>\n",
              "      <td>33.903114</td>\n",
              "      <td>53.283737</td>\n",
              "      <td>63.581314</td>\n",
              "      <td>63.017300</td>\n",
              "      <td>68.608994</td>\n",
              "      <td>70.705879</td>\n",
              "      <td>69.972321</td>\n",
              "      <td>71.692047</td>\n",
              "      <td>74.743942</td>\n",
              "      <td>78.733566</td>\n",
              "      <td>82.152252</td>\n",
              "      <td>82.051910</td>\n",
              "      <td>81.830452</td>\n",
              "      <td>83.764709</td>\n",
              "      <td>84.602066</td>\n",
              "      <td>85.944633</td>\n",
              "      <td>87.363319</td>\n",
              "      <td>88.743950</td>\n",
              "      <td>89.961937</td>\n",
              "    </tr>\n",
              "    <tr>\n",
              "      <th>3</th>\n",
              "      <td>120.0</td>\n",
              "      <td>67.971115</td>\n",
              "      <td>67.234444</td>\n",
              "      <td>66.906662</td>\n",
              "      <td>64.957779</td>\n",
              "      <td>65.480003</td>\n",
              "      <td>68.602226</td>\n",
              "      <td>68.431114</td>\n",
              "      <td>69.265556</td>\n",
              "      <td>69.891113</td>\n",
              "      <td>68.481117</td>\n",
              "      <td>70.156670</td>\n",
              "      <td>76.336670</td>\n",
              "      <td>86.012222</td>\n",
              "      <td>92.984444</td>\n",
              "      <td>98.598892</td>\n",
              "      <td>85.156662</td>\n",
              "      <td>52.483337</td>\n",
              "      <td>45.442223</td>\n",
              "      <td>54.695553</td>\n",
              "      <td>87.077774</td>\n",
              "      <td>97.602234</td>\n",
              "      <td>98.172226</td>\n",
              "      <td>95.852226</td>\n",
              "      <td>91.186668</td>\n",
              "      <td>91.878891</td>\n",
              "      <td>90.774445</td>\n",
              "      <td>91.310005</td>\n",
              "      <td>93.155556</td>\n",
              "      <td>67.317780</td>\n",
              "      <td>66.163338</td>\n",
              "      <td>67.172226</td>\n",
              "      <td>65.479996</td>\n",
              "      <td>64.604446</td>\n",
              "      <td>67.624451</td>\n",
              "      <td>68.740005</td>\n",
              "      <td>68.611115</td>\n",
              "      <td>69.081116</td>\n",
              "      <td>67.589996</td>\n",
              "      <td>70.976669</td>\n",
              "      <td>...</td>\n",
              "      <td>48.381115</td>\n",
              "      <td>42.622223</td>\n",
              "      <td>36.618889</td>\n",
              "      <td>34.348892</td>\n",
              "      <td>33.320000</td>\n",
              "      <td>30.807779</td>\n",
              "      <td>31.980000</td>\n",
              "      <td>32.585556</td>\n",
              "      <td>43.627781</td>\n",
              "      <td>70.800003</td>\n",
              "      <td>86.944443</td>\n",
              "      <td>92.687782</td>\n",
              "      <td>91.692223</td>\n",
              "      <td>89.605560</td>\n",
              "      <td>89.427780</td>\n",
              "      <td>89.313332</td>\n",
              "      <td>89.014450</td>\n",
              "      <td>89.309998</td>\n",
              "      <td>91.029999</td>\n",
              "      <td>93.384445</td>\n",
              "      <td>92.882233</td>\n",
              "      <td>93.750000</td>\n",
              "      <td>97.241119</td>\n",
              "      <td>99.070000</td>\n",
              "      <td>102.301117</td>\n",
              "      <td>107.145554</td>\n",
              "      <td>106.158905</td>\n",
              "      <td>93.833336</td>\n",
              "      <td>67.535561</td>\n",
              "      <td>56.216667</td>\n",
              "      <td>52.531116</td>\n",
              "      <td>50.572224</td>\n",
              "      <td>45.877777</td>\n",
              "      <td>42.044445</td>\n",
              "      <td>39.483330</td>\n",
              "      <td>43.091114</td>\n",
              "      <td>62.942223</td>\n",
              "      <td>83.311119</td>\n",
              "      <td>91.075554</td>\n",
              "      <td>94.491119</td>\n",
              "    </tr>\n",
              "    <tr>\n",
              "      <th>4</th>\n",
              "      <td>188.0</td>\n",
              "      <td>94.818924</td>\n",
              "      <td>93.645088</td>\n",
              "      <td>94.982788</td>\n",
              "      <td>97.474876</td>\n",
              "      <td>88.727478</td>\n",
              "      <td>86.163414</td>\n",
              "      <td>88.798996</td>\n",
              "      <td>90.293335</td>\n",
              "      <td>96.276588</td>\n",
              "      <td>106.170212</td>\n",
              "      <td>121.123138</td>\n",
              "      <td>119.290169</td>\n",
              "      <td>54.325939</td>\n",
              "      <td>44.662746</td>\n",
              "      <td>43.568577</td>\n",
              "      <td>44.044815</td>\n",
              "      <td>46.091896</td>\n",
              "      <td>48.350838</td>\n",
              "      <td>52.278404</td>\n",
              "      <td>56.657307</td>\n",
              "      <td>71.106834</td>\n",
              "      <td>86.512909</td>\n",
              "      <td>93.315529</td>\n",
              "      <td>90.582603</td>\n",
              "      <td>85.511543</td>\n",
              "      <td>82.065178</td>\n",
              "      <td>73.312363</td>\n",
              "      <td>64.474419</td>\n",
              "      <td>93.229965</td>\n",
              "      <td>91.155273</td>\n",
              "      <td>93.779083</td>\n",
              "      <td>99.356270</td>\n",
              "      <td>93.641914</td>\n",
              "      <td>89.493881</td>\n",
              "      <td>87.764145</td>\n",
              "      <td>88.582153</td>\n",
              "      <td>93.436394</td>\n",
              "      <td>101.780441</td>\n",
              "      <td>115.311913</td>\n",
              "      <td>...</td>\n",
              "      <td>0.121775</td>\n",
              "      <td>0.489362</td>\n",
              "      <td>0.413309</td>\n",
              "      <td>0.526030</td>\n",
              "      <td>0.405161</td>\n",
              "      <td>0.299230</td>\n",
              "      <td>0.299230</td>\n",
              "      <td>0.433228</td>\n",
              "      <td>0.341784</td>\n",
              "      <td>0.258488</td>\n",
              "      <td>0.115890</td>\n",
              "      <td>0.220009</td>\n",
              "      <td>5.975101</td>\n",
              "      <td>5.584879</td>\n",
              "      <td>5.360796</td>\n",
              "      <td>5.658216</td>\n",
              "      <td>5.464916</td>\n",
              "      <td>5.946582</td>\n",
              "      <td>5.677229</td>\n",
              "      <td>6.437754</td>\n",
              "      <td>5.914893</td>\n",
              "      <td>5.724762</td>\n",
              "      <td>5.701674</td>\n",
              "      <td>5.668628</td>\n",
              "      <td>5.547306</td>\n",
              "      <td>5.696243</td>\n",
              "      <td>5.556813</td>\n",
              "      <td>5.468085</td>\n",
              "      <td>5.243096</td>\n",
              "      <td>5.471253</td>\n",
              "      <td>5.737437</td>\n",
              "      <td>6.838388</td>\n",
              "      <td>6.255772</td>\n",
              "      <td>5.772295</td>\n",
              "      <td>5.556813</td>\n",
              "      <td>5.359439</td>\n",
              "      <td>5.812132</td>\n",
              "      <td>5.626075</td>\n",
              "      <td>5.927116</td>\n",
              "      <td>5.813490</td>\n",
              "    </tr>\n",
              "  </tbody>\n",
              "</table>\n",
              "<p>5 rows × 785 columns</p>\n",
              "</div>"
            ],
            "text/plain": [
              "   Width          0          1  ...         781        782        783\n",
              "0  119.0  88.387543  91.826996  ...   74.737022  61.657440  57.685123\n",
              "1  158.0  73.140839  72.573631  ...  100.230255  96.581787  92.794891\n",
              "2  119.0  75.975777  77.899658  ...   87.363319  88.743950  89.961937\n",
              "3  120.0  67.971115  67.234444  ...   83.311119  91.075554  94.491119\n",
              "4  188.0  94.818924  93.645088  ...    5.626075   5.927116   5.813490\n",
              "\n",
              "[5 rows x 785 columns]"
            ]
          },
          "metadata": {},
          "execution_count": 27
        }
      ]
    },
    {
      "cell_type": "code",
      "metadata": {
        "colab": {
          "base_uri": "https://localhost:8080/",
          "height": 204
        },
        "id": "VaZPe_AxNBK9",
        "outputId": "0d6822ad-641b-4a74-c913-9600b24af997"
      },
      "source": [
        "PSD_new.head()"
      ],
      "execution_count": 28,
      "outputs": [
        {
          "output_type": "execute_result",
          "data": {
            "text/html": [
              "<div>\n",
              "<style scoped>\n",
              "    .dataframe tbody tr th:only-of-type {\n",
              "        vertical-align: middle;\n",
              "    }\n",
              "\n",
              "    .dataframe tbody tr th {\n",
              "        vertical-align: top;\n",
              "    }\n",
              "\n",
              "    .dataframe thead th {\n",
              "        text-align: right;\n",
              "    }\n",
              "</style>\n",
              "<table border=\"1\" class=\"dataframe\">\n",
              "  <thead>\n",
              "    <tr style=\"text-align: right;\">\n",
              "      <th></th>\n",
              "      <th>Unnamed: 0</th>\n",
              "      <th>Area</th>\n",
              "    </tr>\n",
              "  </thead>\n",
              "  <tbody>\n",
              "    <tr>\n",
              "      <th>0</th>\n",
              "      <td>1</td>\n",
              "      <td>0.807</td>\n",
              "    </tr>\n",
              "    <tr>\n",
              "      <th>1</th>\n",
              "      <td>2</td>\n",
              "      <td>1.407</td>\n",
              "    </tr>\n",
              "    <tr>\n",
              "      <th>2</th>\n",
              "      <td>3</td>\n",
              "      <td>1.177</td>\n",
              "    </tr>\n",
              "    <tr>\n",
              "      <th>3</th>\n",
              "      <td>4</td>\n",
              "      <td>1.289</td>\n",
              "    </tr>\n",
              "    <tr>\n",
              "      <th>4</th>\n",
              "      <td>5</td>\n",
              "      <td>1.743</td>\n",
              "    </tr>\n",
              "  </tbody>\n",
              "</table>\n",
              "</div>"
            ],
            "text/plain": [
              "   Unnamed: 0   Area\n",
              "0           1  0.807\n",
              "1           2  1.407\n",
              "2           3  1.177\n",
              "3           4  1.289\n",
              "4           5  1.743"
            ]
          },
          "metadata": {},
          "execution_count": 28
        }
      ]
    },
    {
      "cell_type": "code",
      "metadata": {
        "id": "dExnOsslHrab"
      },
      "source": [
        "#lost_value = float(PSD_new.columns[1])\n",
        "\n",
        "# Area = np.array(PSD_new.iloc[:,1])\n",
        "Area = PSD_new['Area'].values\n",
        "# Area = np.concatenate( (Area, [lost_value] ) )\n",
        "# Area = np.concatenate( (Area, [lost_value] ) )\n",
        "diam_teste = []\n",
        "for A in Area:\n",
        "  diam_teste.append((4*A/np.pi)**0.5) \n",
        "\n",
        "Diam1 = [ (4*A/np.pi)**0.5 for A in Area]"
      ],
      "execution_count": 29,
      "outputs": []
    },
    {
      "cell_type": "code",
      "metadata": {
        "id": "P8IJgjcFLssj",
        "colab": {
          "base_uri": "https://localhost:8080/",
          "height": 419
        },
        "outputId": "4956971e-963d-45b7-8530-ed928ecee3ca"
      },
      "source": [
        "PSD_new"
      ],
      "execution_count": 30,
      "outputs": [
        {
          "output_type": "execute_result",
          "data": {
            "text/html": [
              "<div>\n",
              "<style scoped>\n",
              "    .dataframe tbody tr th:only-of-type {\n",
              "        vertical-align: middle;\n",
              "    }\n",
              "\n",
              "    .dataframe tbody tr th {\n",
              "        vertical-align: top;\n",
              "    }\n",
              "\n",
              "    .dataframe thead th {\n",
              "        text-align: right;\n",
              "    }\n",
              "</style>\n",
              "<table border=\"1\" class=\"dataframe\">\n",
              "  <thead>\n",
              "    <tr style=\"text-align: right;\">\n",
              "      <th></th>\n",
              "      <th>Unnamed: 0</th>\n",
              "      <th>Area</th>\n",
              "    </tr>\n",
              "  </thead>\n",
              "  <tbody>\n",
              "    <tr>\n",
              "      <th>0</th>\n",
              "      <td>1</td>\n",
              "      <td>0.807</td>\n",
              "    </tr>\n",
              "    <tr>\n",
              "      <th>1</th>\n",
              "      <td>2</td>\n",
              "      <td>1.407</td>\n",
              "    </tr>\n",
              "    <tr>\n",
              "      <th>2</th>\n",
              "      <td>3</td>\n",
              "      <td>1.177</td>\n",
              "    </tr>\n",
              "    <tr>\n",
              "      <th>3</th>\n",
              "      <td>4</td>\n",
              "      <td>1.289</td>\n",
              "    </tr>\n",
              "    <tr>\n",
              "      <th>4</th>\n",
              "      <td>5</td>\n",
              "      <td>1.743</td>\n",
              "    </tr>\n",
              "    <tr>\n",
              "      <th>...</th>\n",
              "      <td>...</td>\n",
              "      <td>...</td>\n",
              "    </tr>\n",
              "    <tr>\n",
              "      <th>94</th>\n",
              "      <td>28</td>\n",
              "      <td>2.097</td>\n",
              "    </tr>\n",
              "    <tr>\n",
              "      <th>95</th>\n",
              "      <td>29</td>\n",
              "      <td>1.871</td>\n",
              "    </tr>\n",
              "    <tr>\n",
              "      <th>96</th>\n",
              "      <td>30</td>\n",
              "      <td>1.315</td>\n",
              "    </tr>\n",
              "    <tr>\n",
              "      <th>97</th>\n",
              "      <td>31</td>\n",
              "      <td>1.034</td>\n",
              "    </tr>\n",
              "    <tr>\n",
              "      <th>98</th>\n",
              "      <td>32</td>\n",
              "      <td>2.095</td>\n",
              "    </tr>\n",
              "  </tbody>\n",
              "</table>\n",
              "<p>99 rows × 2 columns</p>\n",
              "</div>"
            ],
            "text/plain": [
              "    Unnamed: 0   Area\n",
              "0            1  0.807\n",
              "1            2  1.407\n",
              "2            3  1.177\n",
              "3            4  1.289\n",
              "4            5  1.743\n",
              "..         ...    ...\n",
              "94          28  2.097\n",
              "95          29  1.871\n",
              "96          30  1.315\n",
              "97          31  1.034\n",
              "98          32  2.095\n",
              "\n",
              "[99 rows x 2 columns]"
            ]
          },
          "metadata": {},
          "execution_count": 30
        }
      ]
    },
    {
      "cell_type": "code",
      "metadata": {
        "id": "t_sp1BcwKM9q",
        "colab": {
          "base_uri": "https://localhost:8080/"
        },
        "outputId": "3757761a-6d73-4347-f1a2-119623e05612"
      },
      "source": [
        "PSD_new.iloc[:,1].values"
      ],
      "execution_count": 31,
      "outputs": [
        {
          "output_type": "execute_result",
          "data": {
            "text/plain": [
              "array([0.807, 1.407, 1.177, 1.289, 1.743, 1.425, 2.553, 0.968, 1.43 ,\n",
              "       0.722, 1.235, 1.058, 1.342, 1.207, 1.682, 1.474, 1.997, 1.187,\n",
              "       2.082, 2.877, 1.386, 1.176, 0.96 , 1.147, 1.02 , 1.249, 1.704,\n",
              "       1.602, 1.303, 1.707, 2.264, 1.233, 0.84 , 1.105, 1.343, 0.811,\n",
              "       2.03 , 1.844, 2.266, 1.472, 1.009, 1.851, 0.941, 2.252, 1.269,\n",
              "       1.082, 1.065, 1.995, 2.063, 0.969, 1.389, 1.721, 1.355, 1.178,\n",
              "       1.529, 1.371, 1.423, 2.756, 0.854, 0.811, 0.69 , 1.752, 0.978,\n",
              "       1.108, 1.149, 0.994, 1.594, 1.492, 1.322, 1.564, 1.29 , 1.057,\n",
              "       1.193, 1.413, 1.477, 2.21 , 1.27 , 1.865, 1.088, 2.316, 1.855,\n",
              "       0.882, 1.587, 1.075, 2.179, 1.749, 0.957, 1.24 , 1.586, 2.507,\n",
              "       1.864, 1.281, 2.137, 1.282, 2.097, 1.871, 1.315, 1.034, 2.095])"
            ]
          },
          "metadata": {},
          "execution_count": 31
        }
      ]
    },
    {
      "cell_type": "code",
      "metadata": {
        "colab": {
          "base_uri": "https://localhost:8080/"
        },
        "id": "9J705kDqsE8f",
        "outputId": "01f02620-783d-4676-93e4-22e0fe176664"
      },
      "source": [
        "X.shape"
      ],
      "execution_count": 32,
      "outputs": [
        {
          "output_type": "execute_result",
          "data": {
            "text/plain": [
              "(490, 784)"
            ]
          },
          "metadata": {},
          "execution_count": 32
        }
      ]
    },
    {
      "cell_type": "code",
      "metadata": {
        "colab": {
          "base_uri": "https://localhost:8080/",
          "height": 282
        },
        "id": "mK1GBUHWiIr4",
        "outputId": "9d3353c7-6a32-4a2c-81f1-dad50a5e9941"
      },
      "source": [
        "Freq = [10.52631579, 24.21052632, 36.84210526, 14.73684211,  7.36842105, 0.]\n",
        "Freq2 = [12.90153, 28.11527, 27.66761, 20.21617, 10.34227, 0.]\n",
        "Freq3 = [22.22489, 30.15078, 25.10463, 19.30926, 2.810434, 0.]\n",
        "barWidth = 0.25\n",
        "\n",
        "br1 = range(len(Freq))\n",
        "# Set position of bar on X axis\n",
        "br2 = [x + barWidth for x in br1]\n",
        "br3 = [x + barWidth for x in br2]\n",
        "labels = [0.8, 1.0, 1.2, 1.4, 1.6, 1.8]\n",
        "\n",
        "xx=[]\n",
        "for a in labels:\n",
        "  xx.append(str(a))\n",
        "plt.bar(br1, Freq , color=\"green\", align=\"center\", width=0.3, tick_label= xx) \n",
        "plt.bar(br2, Freq2 , color=\"red\", align=\"center\", width=0.3, tick_label= xx)\n",
        "plt.bar(br3, Freq3 , color=\"blue\", align=\"center\", width=0.3, tick_label= xx)"
      ],
      "execution_count": 33,
      "outputs": [
        {
          "output_type": "execute_result",
          "data": {
            "text/plain": [
              "<BarContainer object of 6 artists>"
            ]
          },
          "metadata": {},
          "execution_count": 33
        },
        {
          "output_type": "display_data",
          "data": {
            "image/png": "[encoded data removed]",
            "text/plain": [
              "<Figure size 432x288 with 1 Axes>"
            ]
          },
          "metadata": {
            "needs_background": "light"
          }
        }
      ]
    },
    {
      "cell_type": "code",
      "metadata": {
        "id": "Vfk_fNXGDK5_",
        "colab": {
          "base_uri": "https://localhost:8080/",
          "height": 282
        },
        "outputId": "01e9b9c0-398b-44f5-9155-0bfd25a0af2d"
      },
      "source": [
        " wt1 = np.ones(len(Diam1)) / len(Diam1)*100\n",
        " wt2 = np.ones(len(Diameter_All)) / len(Diameter_All)*100\n",
        " X = pd.DataFrame([Diam1,Diameter_All])\n",
        " wts = pd.DataFrame([wt1,wt2])\n",
        "plt.hist(X,weights=wts)\n",
        "plt.legend(['Image J','CNN'])"
      ],
      "execution_count": 34,
      "outputs": [
        {
          "output_type": "execute_result",
          "data": {
            "text/plain": [
              "<matplotlib.legend.Legend at 0x7fb0fe029bd0>"
            ]
          },
          "metadata": {},
          "execution_count": 34
        },
        {
          "output_type": "display_data",
          "data": {
            "image/png": "[encoded data removed]",
            "text/plain": [
              "<Figure size 432x288 with 1 Axes>"
            ]
          },
          "metadata": {
            "needs_background": "light"
          }
        }
      ]
    },
    {
      "cell_type": "code",
      "metadata": {
        "id": "-nGDbBEeiUij",
        "colab": {
          "base_uri": "https://localhost:8080/",
          "height": 401
        },
        "outputId": "f49d6e1a-45bb-4378-810d-38de0a48a35f"
      },
      "source": [
        "# plt.hist(x, bins=bins, density=True, histtype='step', cumulative=-1,label='Reversed emp.')\n",
        "plt.hist(X, density=True, histtype='step', cumulative=True,label='Reversed emp.')"
      ],
      "execution_count": 35,
      "outputs": [
        {
          "output_type": "execute_result",
          "data": {
            "text/plain": [
              "(array([[0.01010101, 0.08080808, 0.21212121, 0.4040404 , 0.62626263,\n",
              "         0.72727273, 0.82828283, 0.94949495, 0.97979798, 1.        ],\n",
              "        [0.1       , 0.3       , 0.4       , 0.52      , 0.58      ,\n",
              "         0.74      , 0.86      , 0.94      , 1.        , 1.        ]]),\n",
              " array([0.84917135, 0.95564675, 1.06212215, 1.16859754, 1.27507294,\n",
              "        1.38154834, 1.48802374, 1.59449914, 1.70097453, 1.80744993,\n",
              "        1.91392533]),\n",
              " <a list of 2 Lists of Patches objects>)"
            ]
          },
          "metadata": {},
          "execution_count": 35
        },
        {
          "output_type": "display_data",
          "data": {
            "image/png": "[encoded data removed]",
            "text/plain": [
              "<Figure size 432x288 with 1 Axes>"
            ]
          },
          "metadata": {
            "needs_background": "light"
          }
        }
      ]
    },
    {
      "cell_type": "code",
      "metadata": {
        "id": "9xENlBUUxfTu",
        "colab": {
          "base_uri": "https://localhost:8080/",
          "height": 282
        },
        "outputId": "b1fee256-502d-44ec-c770-580a886bad68"
      },
      "source": [
        "Obj = plt.hist(X, density=True, histtype='step', cumulative=True,label='Reversed emp.')\n",
        "Y1, Y2 = Obj[0]\n",
        "Rsquared = r2_score(Y1, Y2)\n",
        "print('r_squared =',Rsquared)"
      ],
      "execution_count": 36,
      "outputs": [
        {
          "output_type": "stream",
          "name": "stdout",
          "text": [
            "r_squared = 0.9163033065124466\n"
          ]
        },
        {
          "output_type": "display_data",
          "data": {
            "image/png": "[encoded data removed]",
            "text/plain": [
              "<Figure size 432x288 with 1 Axes>"
            ]
          },
          "metadata": {
            "needs_background": "light"
          }
        }
      ]
    },
    {
      "cell_type": "code",
      "metadata": {
        "id": "O2XboMiFbkaa"
      },
      "source": [
        "acc_train = r.history['accuracy'][-1]\n",
        "acc_test = r.history['val_accuracy'][-1]\n",
        "loss_train = r.history['loss'][-1]\n",
        "loss_test = r.history['val_loss'][-1]"
      ],
      "execution_count": 37,
      "outputs": []
    },
    {
      "cell_type": "code",
      "metadata": {
        "id": "euTd_-CYN1v0"
      },
      "source": [
        "df = pd.DataFrame({'N1':N1, 'N2':N2,'R^2':Rsquared,\n",
        "                   'acc train':acc_train,'acc test':acc_test,\n",
        "                   'loss train':loss_train,'loss test':loss_test,\n",
        "                   'Details':Description},\n",
        "                  index= [0])\n"
      ],
      "execution_count": 38,
      "outputs": []
    },
    {
      "cell_type": "code",
      "metadata": {
        "id": "-KukfpGTTKlj",
        "colab": {
          "base_uri": "https://localhost:8080/",
          "height": 80
        },
        "outputId": "e3caa5d0-d046-40ac-ae87-813596c0af3e"
      },
      "source": [
        "df"
      ],
      "execution_count": 39,
      "outputs": [
        {
          "output_type": "execute_result",
          "data": {
            "text/html": [
              "<div>\n",
              "<style scoped>\n",
              "    .dataframe tbody tr th:only-of-type {\n",
              "        vertical-align: middle;\n",
              "    }\n",
              "\n",
              "    .dataframe tbody tr th {\n",
              "        vertical-align: top;\n",
              "    }\n",
              "\n",
              "    .dataframe thead th {\n",
              "        text-align: right;\n",
              "    }\n",
              "</style>\n",
              "<table border=\"1\" class=\"dataframe\">\n",
              "  <thead>\n",
              "    <tr style=\"text-align: right;\">\n",
              "      <th></th>\n",
              "      <th>N1</th>\n",
              "      <th>N2</th>\n",
              "      <th>R^2</th>\n",
              "      <th>acc train</th>\n",
              "      <th>acc test</th>\n",
              "      <th>loss train</th>\n",
              "      <th>loss test</th>\n",
              "      <th>Details</th>\n",
              "    </tr>\n",
              "  </thead>\n",
              "  <tbody>\n",
              "    <tr>\n",
              "      <th>0</th>\n",
              "      <td>200</td>\n",
              "      <td>10</td>\n",
              "      <td>0.916303</td>\n",
              "      <td>1.0</td>\n",
              "      <td>0.979592</td>\n",
              "      <td>0.00001</td>\n",
              "      <td>0.224399</td>\n",
              "      <td>3 layers of Convolution: 32, 64, 128</td>\n",
              "    </tr>\n",
              "  </tbody>\n",
              "</table>\n",
              "</div>"
            ],
            "text/plain": [
              "    N1  N2  ...  loss test                                Details\n",
              "0  200  10  ...   0.224399  3 layers of Convolution: 32, 64, 128 \n",
              "\n",
              "[1 rows x 8 columns]"
            ]
          },
          "metadata": {},
          "execution_count": 39
        }
      ]
    },
    {
      "cell_type": "code",
      "metadata": {
        "id": "ZZHa1j4HT9Dq",
        "colab": {
          "base_uri": "https://localhost:8080/",
          "height": 384
        },
        "outputId": "1878b12f-65d8-460f-b2f2-f961c1d87ec6"
      },
      "source": [
        "counts, bins, bars = plt.hist(X,weights=wts)\n",
        "print(bars)\n",
        "print(bins)\n",
        "print(counts)"
      ],
      "execution_count": 40,
      "outputs": [
        {
          "output_type": "stream",
          "name": "stdout",
          "text": [
            "<a list of 2 Lists of Patches objects>\n",
            "[0.84917135 0.95564675 1.06212215 1.16859754 1.27507294 1.38154834\n",
            " 1.48802374 1.59449914 1.70097453 1.80744993 1.91392533]\n",
            "[[ 1.01010101  7.07070707 13.13131313 19.19191919 22.22222222 10.1010101\n",
            "  10.1010101  12.12121212  3.03030303  2.02020202]\n",
            " [10.         20.         10.         12.          6.         16.\n",
            "  12.          8.          6.          0.        ]]\n"
          ]
        },
        {
          "output_type": "display_data",
          "data": {
            "image/png": "[encoded data removed]",
            "text/plain": [
              "<Figure size 432x288 with 1 Axes>"
            ]
          },
          "metadata": {
            "needs_background": "light"
          }
        }
      ]
    },
    {
      "cell_type": "code",
      "metadata": {
        "id": "8o_vDGeWUwIZ",
        "colab": {
          "base_uri": "https://localhost:8080/"
        },
        "outputId": "610efc7c-04a9-4cbd-8f0a-f4d3f96d7b9a"
      },
      "source": [
        "print(counts.sum())"
      ],
      "execution_count": 41,
      "outputs": [
        {
          "output_type": "stream",
          "name": "stdout",
          "text": [
            "200.00000000000003\n"
          ]
        }
      ]
    },
    {
      "cell_type": "code",
      "metadata": {
        "id": "KcH52-6iJQ8t",
        "colab": {
          "base_uri": "https://localhost:8080/",
          "height": 336
        },
        "outputId": "6e2ce659-d7d5-4f08-e936-7d56cdffff01"
      },
      "source": [
        "\n",
        "plt.hist([Diam1,Diameter_All])\n",
        "plt.legend(['Image J','CNN'])\n"
      ],
      "execution_count": 42,
      "outputs": [
        {
          "output_type": "stream",
          "name": "stderr",
          "text": [
            "/usr/local/lib/python3.7/dist-packages/numpy/core/_asarray.py:83: VisibleDeprecationWarning: Creating an ndarray from ragged nested sequences (which is a list-or-tuple of lists-or-tuples-or ndarrays with different lengths or shapes) is deprecated. If you meant to do this, you must specify 'dtype=object' when creating the ndarray\n",
            "  return array(a, dtype, copy=False, order=order)\n"
          ]
        },
        {
          "output_type": "execute_result",
          "data": {
            "text/plain": [
              "<matplotlib.legend.Legend at 0x7fb106da6f50>"
            ]
          },
          "metadata": {},
          "execution_count": 42
        },
        {
          "output_type": "display_data",
          "data": {
            "image/png": "[encoded data removed]",
            "text/plain": [
              "<Figure size 432x288 with 1 Axes>"
            ]
          },
          "metadata": {
            "needs_background": "light"
          }
        }
      ]
    },
    {
      "cell_type": "code",
      "metadata": {
        "id": "r11AxFK_JIii",
        "colab": {
          "base_uri": "https://localhost:8080/"
        },
        "outputId": "db201ea3-c71f-45e8-b819-31403ad5f4a5"
      },
      "source": [
        "[Diam1,Diameter_All]"
      ],
      "execution_count": 43,
      "outputs": [
        {
          "output_type": "execute_result",
          "data": {
            "text/plain": [
              "[[1.0136588738827657,\n",
              "  1.3384498643738487,\n",
              "  1.2241743928678164,\n",
              "  1.2810955363139882,\n",
              "  1.4897169283032898,\n",
              "  1.3469841688927182,\n",
              "  1.802936648279376,\n",
              "  1.1101783096888704,\n",
              "  1.349345229721172,\n",
              "  0.9587903583676608,\n",
              "  1.2539740179716348,\n",
              "  1.1606409601292735,\n",
              "  1.3071677279655385,\n",
              "  1.2396774300177211,\n",
              "  1.4634168627716928,\n",
              "  1.369947111730825,\n",
              "  1.5945718456175375,\n",
              "  1.2293637946517857,\n",
              "  1.6281537802488464,\n",
              "  1.9139253303624628,\n",
              "  1.3284238815238665,\n",
              "  1.2236542422631285,\n",
              "  1.1055812783082735,\n",
              "  1.2084724894722394,\n",
              "  1.1396070970426018,\n",
              "  1.2610615335399848,\n",
              "  1.4729562736988213,\n",
              "  1.428191076384995,\n",
              "  1.2880338220675407,\n",
              "  1.474252319944901,\n",
              "  1.697826354277848,\n",
              "  1.2529582429827641,\n",
              "  1.034176589165282,\n",
              "  1.1861406733319428,\n",
              "  1.3076546595257188,\n",
              "  1.016167934339702,\n",
              "  1.607692842495848,\n",
              "  1.5322707725763225,\n",
              "  1.6985761120332168,\n",
              "  1.3690173884396646,\n",
              "  1.1334454996327699,\n",
              "  1.5351763407845973,\n",
              "  1.09458595441189,\n",
              "  1.6933208363283037,\n",
              "  1.2711180048559307,\n",
              "  1.1737313097142148,\n",
              "  1.1644741796806608,\n",
              "  1.59377316194829,\n",
              "  1.6207076173044417,\n",
              "  1.110751600875899,\n",
              "  1.329860792578359,\n",
              "  1.480285532081299,\n",
              "  1.3134837582232015,\n",
              "  1.224694322554825,\n",
              "  1.3952717527062835,\n",
              "  1.3212158853994709,\n",
              "  1.3460385849440337,\n",
              "  1.8732453617425853,\n",
              "  1.0427591146587158,\n",
              "  1.016167934339702,\n",
              "  0.9373021315815206,\n",
              "  1.4935580612671222,\n",
              "  1.1158979678944616,\n",
              "  1.1877497276642752,\n",
              "  1.2095256247391792,\n",
              "  1.1249889365974903,\n",
              "  1.4246205931081612,\n",
              "  1.3782864001160509,\n",
              "  1.2973907191512837,\n",
              "  1.411150823960995,\n",
              "  1.2815923738491737,\n",
              "  1.1600923233885598,\n",
              "  1.2324669475767085,\n",
              "  1.341300666036808,\n",
              "  1.3713405148152793,\n",
              "  1.6774562271083886,\n",
              "  1.2716187407449044,\n",
              "  1.540971041561482,\n",
              "  1.1769811488175403,\n",
              "  1.7172136691765054,\n",
              "  1.5368341990871126,\n",
              "  1.0597156592484673,\n",
              "  1.4214890634453377,\n",
              "  1.169928421139644,\n",
              "  1.6656497134685673,\n",
              "  1.4922787821790537,\n",
              "  1.103852455861539,\n",
              "  1.2565098628628435,\n",
              "  1.4210411387253952,\n",
              "  1.7866201439172942,\n",
              "  1.540557857201846,\n",
              "  1.2771138777750963,\n",
              "  1.6495189926457479,\n",
              "  1.2776122636975893,\n",
              "  1.6340083614564633,\n",
              "  1.5434478249035466,\n",
              "  1.2939513133525307,\n",
              "  1.1474012764748687,\n",
              "  1.6332289631953525],\n",
              " [1.0128137261467878,\n",
              "  1.3768940956741216,\n",
              "  0.9767786489154577,\n",
              "  1.0630285197541367,\n",
              "  1.5024703775056667,\n",
              "  1.6149248560710483,\n",
              "  1.5471250788995297,\n",
              "  1.4070931562726143,\n",
              "  1.360884936387832,\n",
              "  1.6343255246592054,\n",
              "  1.5357130615548447,\n",
              "  0.9915490883455929,\n",
              "  0.9531580021479665,\n",
              "  1.4691841478685514,\n",
              "  1.1887121235006561,\n",
              "  1.134484942238766,\n",
              "  0.9442912233630995,\n",
              "  1.1747830805431676,\n",
              "  1.7781143874453742,\n",
              "  1.4258810501077392,\n",
              "  1.474640748306832,\n",
              "  1.1788546562630593,\n",
              "  1.0116637329926004,\n",
              "  1.0342565504621821,\n",
              "  1.1307369556148286,\n",
              "  1.5716918708992182,\n",
              "  0.9678387505872212,\n",
              "  1.2657228669892993,\n",
              "  1.0120547772293007,\n",
              "  1.7793228274892103,\n",
              "  1.0344310672091992,\n",
              "  1.650848790469497,\n",
              "  1.3091268997729202,\n",
              "  1.420884057400496,\n",
              "  1.7923501153668822,\n",
              "  1.2002730397418837,\n",
              "  1.4032578942554432,\n",
              "  1.4367646348892205,\n",
              "  0.9968364992103552,\n",
              "  0.9658154208735106,\n",
              "  1.6224877382835867,\n",
              "  1.559791772779233,\n",
              "  0.9178834333092193,\n",
              "  1.1324811403644666,\n",
              "  0.9020955257905483,\n",
              "  0.849171349972712,\n",
              "  1.2335840554011461,\n",
              "  1.5207670599678993,\n",
              "  1.0785461678941726,\n",
              "  1.4490345968186882]]"
            ]
          },
          "metadata": {},
          "execution_count": 43
        }
      ]
    },
    {
      "cell_type": "code",
      "metadata": {
        "id": "4xS7NSM92s_8",
        "colab": {
          "base_uri": "https://localhost:8080/",
          "height": 282
        },
        "outputId": "df3f6667-4ab4-4a93-9c0d-08a6404df0b7"
      },
      "source": [
        " bins_list = [0.8, 1.0, 1.2, 1.4,1.6, 1.8,2.0]\n",
        " wt1 = np.ones(len(Diam1)) / len(Diam1)*100\n",
        " wt2 = np.ones(len(Diameter_All)) / len(Diameter_All)*100\n",
        " X = pd.DataFrame([Diam1,Diameter_All])\n",
        " wts = pd.DataFrame([wt1,wt2])\n",
        "plt.hist(X,weights=wts,bins = bins_list)\n",
        "plt.legend(['Image J','CNN'])"
      ],
      "execution_count": 44,
      "outputs": [
        {
          "output_type": "execute_result",
          "data": {
            "text/plain": [
              "<matplotlib.legend.Legend at 0x7fb106f1da10>"
            ]
          },
          "metadata": {},
          "execution_count": 44
        },
        {
          "output_type": "display_data",
          "data": {
            "image/png": "[encoded data removed]",
            "text/plain": [
              "<Figure size 432x288 with 1 Axes>"
            ]
          },
          "metadata": {
            "needs_background": "light"
          }
        }
      ]
    },
    {
      "cell_type": "code",
      "metadata": {
        "id": "jD80rFZs37Wm",
        "colab": {
          "base_uri": "https://localhost:8080/",
          "height": 265
        },
        "outputId": "ab50a1b8-9c85-40c9-9b3b-0f604b73771e"
      },
      "source": [
        "yy = plt.hist(X,weights=wts,bins = bins_list)"
      ],
      "execution_count": 45,
      "outputs": [
        {
          "output_type": "display_data",
          "data": {
            "image/png": "[encoded data removed]",
            "text/plain": [
              "<Figure size 432x288 with 1 Axes>"
            ]
          },
          "metadata": {
            "needs_background": "light"
          }
        }
      ]
    },
    {
      "cell_type": "code",
      "metadata": {
        "id": "edcwJoJP4GBs",
        "colab": {
          "base_uri": "https://localhost:8080/"
        },
        "outputId": "c139bef3-c38e-4c5e-b05d-68655a65b59f"
      },
      "source": [
        "yy[0][0]"
      ],
      "execution_count": 46,
      "outputs": [
        {
          "output_type": "execute_result",
          "data": {
            "text/plain": [
              "array([ 2.02020202, 24.24242424, 37.37373737, 20.2020202 , 13.13131313,\n",
              "        3.03030303])"
            ]
          },
          "metadata": {},
          "execution_count": 46
        }
      ]
    },
    {
      "cell_type": "code",
      "metadata": {
        "id": "_0zY-NBY6Rgx",
        "colab": {
          "base_uri": "https://localhost:8080/"
        },
        "outputId": "84cd810e-3469-4515-acaa-c7437091fac9"
      },
      "source": [
        "bins_list"
      ],
      "execution_count": 47,
      "outputs": [
        {
          "output_type": "execute_result",
          "data": {
            "text/plain": [
              "[0.8, 1.0, 1.2, 1.4, 1.6, 1.8, 2.0]"
            ]
          },
          "metadata": {},
          "execution_count": 47
        }
      ]
    },
    {
      "cell_type": "code",
      "metadata": {
        "id": "9ujCjAa85RG5"
      },
      "source": [
        "k =0\n",
        "for kk in yy[0][0]:\n",
        "  name = str(bins_list[k])\n",
        "  df[name] = yy[0][1][k]\n",
        "  k = k+1"
      ],
      "execution_count": 48,
      "outputs": []
    },
    {
      "cell_type": "code",
      "metadata": {
        "id": "iMQRVn4D69RC",
        "colab": {
          "base_uri": "https://localhost:8080/",
          "height": 80
        },
        "outputId": "413ed956-357f-470c-ba9b-34f7bac839a7"
      },
      "source": [
        "df"
      ],
      "execution_count": 49,
      "outputs": [
        {
          "output_type": "execute_result",
          "data": {
            "text/html": [
              "<div>\n",
              "<style scoped>\n",
              "    .dataframe tbody tr th:only-of-type {\n",
              "        vertical-align: middle;\n",
              "    }\n",
              "\n",
              "    .dataframe tbody tr th {\n",
              "        vertical-align: top;\n",
              "    }\n",
              "\n",
              "    .dataframe thead th {\n",
              "        text-align: right;\n",
              "    }\n",
              "</style>\n",
              "<table border=\"1\" class=\"dataframe\">\n",
              "  <thead>\n",
              "    <tr style=\"text-align: right;\">\n",
              "      <th></th>\n",
              "      <th>N1</th>\n",
              "      <th>N2</th>\n",
              "      <th>R^2</th>\n",
              "      <th>acc train</th>\n",
              "      <th>acc test</th>\n",
              "      <th>loss train</th>\n",
              "      <th>loss test</th>\n",
              "      <th>Details</th>\n",
              "      <th>0.8</th>\n",
              "      <th>1.0</th>\n",
              "      <th>1.2</th>\n",
              "      <th>1.4</th>\n",
              "      <th>1.6</th>\n",
              "      <th>1.8</th>\n",
              "    </tr>\n",
              "  </thead>\n",
              "  <tbody>\n",
              "    <tr>\n",
              "      <th>0</th>\n",
              "      <td>200</td>\n",
              "      <td>10</td>\n",
              "      <td>0.916303</td>\n",
              "      <td>1.0</td>\n",
              "      <td>0.979592</td>\n",
              "      <td>0.00001</td>\n",
              "      <td>0.224399</td>\n",
              "      <td>3 layers of Convolution: 32, 64, 128</td>\n",
              "      <td>20.0</td>\n",
              "      <td>26.0</td>\n",
              "      <td>12.0</td>\n",
              "      <td>28.0</td>\n",
              "      <td>14.0</td>\n",
              "      <td>0.0</td>\n",
              "    </tr>\n",
              "  </tbody>\n",
              "</table>\n",
              "</div>"
            ],
            "text/plain": [
              "    N1  N2       R^2  acc train  acc test  ...   1.0   1.2   1.4   1.6  1.8\n",
              "0  200  10  0.916303        1.0  0.979592  ...  26.0  12.0  28.0  14.0  0.0\n",
              "\n",
              "[1 rows x 14 columns]"
            ]
          },
          "metadata": {},
          "execution_count": 49
        }
      ]
    },
    {
      "cell_type": "code",
      "metadata": {
        "id": "JMWpAwMq5Hw2",
        "colab": {
          "base_uri": "https://localhost:8080/",
          "height": 17
        },
        "outputId": "ce961a90-f652-4996-aa6b-5e7b8a6727b3"
      },
      "source": [
        "Arq = \"output.xlsx\"\n",
        "df.to_excel(Arq)\n",
        "files.download(Arq)"
      ],
      "execution_count": 50,
      "outputs": [
        {
          "output_type": "display_data",
          "data": {
            "application/javascript": [
              "\n",
              "    async function download(id, filename, size) {\n",
              "      if (!google.colab.kernel.accessAllowed) {\n",
              "        return;\n",
              "      }\n",
              "      const div = document.createElement('div');\n",
              "      const label = document.createElement('label');\n",
              "      label.textContent = `Downloading \"${filename}\": `;\n",
              "      div.appendChild(label);\n",
              "      const progress = document.createElement('progress');\n",
              "      progress.max = size;\n",
              "      div.appendChild(progress);\n",
              "      document.body.appendChild(div);\n",
              "\n",
              "      const buffers = [];\n",
              "      let downloaded = 0;\n",
              "\n",
              "      const channel = await google.colab.kernel.comms.open(id);\n",
              "      // Send a message to notify the kernel that we're ready.\n",
              "      channel.send({})\n",
              "\n",
              "      for await (const message of channel.messages) {\n",
              "        // Send a message to notify the kernel that we're ready.\n",
              "        channel.send({})\n",
              "        if (message.buffers) {\n",
              "          for (const buffer of message.buffers) {\n",
              "            buffers.push(buffer);\n",
              "            downloaded += buffer.byteLength;\n",
              "            progress.value = downloaded;\n",
              "          }\n",
              "        }\n",
              "      }\n",
              "      const blob = new Blob(buffers, {type: 'application/binary'});\n",
              "      const a = document.createElement('a');\n",
              "      a.href = window.URL.createObjectURL(blob);\n",
              "      a.download = filename;\n",
              "      div.appendChild(a);\n",
              "      a.click();\n",
              "      div.remove();\n",
              "    }\n",
              "  "
            ],
            "text/plain": [
              "<IPython.core.display.Javascript object>"
            ]
          },
          "metadata": {}
        },
        {
          "output_type": "display_data",
          "data": {
            "application/javascript": [
              "download(\"download_ff5e046f-a745-44ef-afbe-e6c5adfdc0ec\", \"output.xlsx\", 5238)"
            ],
            "text/plain": [
              "<IPython.core.display.Javascript object>"
            ]
          },
          "metadata": {}
        }
      ]
    }
  ]
}