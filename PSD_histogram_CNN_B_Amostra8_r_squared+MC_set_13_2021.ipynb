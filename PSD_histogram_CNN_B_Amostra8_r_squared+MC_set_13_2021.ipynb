{
  "nbformat": 4,
  "nbformat_minor": 0,
  "metadata": {
    "colab": {
      "name": "PSD_histogram_CNN_B_Amostra8_r_squared+MC_set_13_2021.ipynb",
      "provenance": [],
      "collapsed_sections": [],
      "include_colab_link": true
    },
    "kernelspec": {
      "display_name": "Python 3",
      "name": "python3"
    }
  },
  "cells": [
    {
      "cell_type": "markdown",
      "metadata": {
        "id": "view-in-github",
        "colab_type": "text"
      },
      "source": [
        "<a href=\"https://colab.research.google.com/github/marquesgabi/Doutorado/blob/master/PSD_histogram_CNN_B_Amostra8_r_squared%2BMC_set_13_2021.ipynb\" target=\"_parent\"><img src=\"https://colab.research.google.com/assets/colab-badge.svg\" alt=\"Open In Colab\"/></a>"
      ]
    },
    {
      "cell_type": "code",
      "metadata": {
        "id": "Sog7Z9pyhUD_"
      },
      "source": [
        "import matplotlib.pyplot as plt\n",
        "import numpy as np\n",
        "import cv2\n",
        "import zipfile\n",
        "#import random\n",
        "from random import randint\n",
        "from PIL import Image\n",
        "import re\n",
        "from sklearn.model_selection import train_test_split\n",
        "#import scikit-image\n",
        "import skimage\n",
        "import sklearn\n",
        "import pandas as pd\n",
        "from keras.models import Sequential\n",
        "from keras.layers import Dense, Activation, Conv2D, MaxPooling2D, Flatten, Dropout, BatchNormalization\n",
        "from sklearn.metrics import r2_score\n",
        "from google.colab import files"
      ],
      "execution_count": null,
      "outputs": []
    },
    {
      "cell_type": "code",
      "metadata": {
        "colab": {
          "base_uri": "https://localhost:8080/"
        },
        "id": "uZEvJvfoibE4",
        "outputId": "c4b15bf3-4092-430b-be03-7bdadf16ce4d"
      },
      "source": [
        "!pip install mahotas"
      ],
      "execution_count": null,
      "outputs": [
        {
          "output_type": "stream",
          "name": "stdout",
          "text": [
            "Requirement already satisfied: mahotas in /usr/local/lib/python3.7/dist-packages (1.4.11)\n",
            "Requirement already satisfied: numpy in /usr/local/lib/python3.7/dist-packages (from mahotas) (1.19.5)\n"
          ]
        }
      ]
    },
    {
      "cell_type": "code",
      "metadata": {
        "id": "nf_a6PJ1iUnT"
      },
      "source": [
        "import mahotas.features.texture as mht\n",
        "import mahotas.features"
      ],
      "execution_count": null,
      "outputs": []
    },
    {
      "cell_type": "code",
      "metadata": {
        "colab": {
          "base_uri": "https://localhost:8080/"
        },
        "id": "_VcTdaNVh9EE",
        "outputId": "f16563c1-746b-47fe-9b03-10f8913ccca3"
      },
      "source": [
        "!git clone https://github.com/ucfilho/marquesgabi_fev_2020 #clonar do Github\n",
        "%cd marquesgabi_fev_2020\n",
        "import Go2BlackWhite\n",
        "import Go2Mahotas"
      ],
      "execution_count": null,
      "outputs": [
        {
          "output_type": "stream",
          "name": "stdout",
          "text": [
            "fatal: destination path 'marquesgabi_fev_2020' already exists and is not an empty directory.\n",
            "/content/marquesgabi_fev_2020\n"
          ]
        }
      ]
    },
    {
      "cell_type": "code",
      "metadata": {
        "colab": {
          "base_uri": "https://localhost:8080/"
        },
        "id": "1v7SRrc8mH2N",
        "outputId": "a4f5b034-a651-4838-968a-b84efcfde89e"
      },
      "source": [
        "!git clone https://github.com/marquesgabi/Doutorado\n",
        "%cd Doutorado\n",
        "\n",
        "Transfere='Fotos_Grandes_3cdAmostra.zip' \n",
        "file_name = zipfile.ZipFile(Transfere, 'r')\n",
        "file_name.extractall()"
      ],
      "execution_count": null,
      "outputs": [
        {
          "output_type": "stream",
          "name": "stdout",
          "text": [
            "fatal: destination path 'Doutorado' already exists and is not an empty directory.\n",
            "/content/marquesgabi_fev_2020/Doutorado\n"
          ]
        }
      ]
    },
    {
      "cell_type": "code",
      "metadata": {
        "colab": {
          "base_uri": "https://localhost:8080/"
        },
        "id": "NqIYzUcnrdMp",
        "outputId": "ca162a04-97e4-4abc-c193-637202cf156c"
      },
      "source": [
        "labels =[]\n",
        "with zipfile.ZipFile(Transfere, \"r\") as f:\n",
        "  for f in f.namelist():\n",
        "    labels.append(f)\n",
        "print(labels)"
      ],
      "execution_count": null,
      "outputs": [
        {
          "output_type": "stream",
          "name": "stdout",
          "text": [
            "['Fotos_Grandes-3cdAmostra/Q6-8-4.jpg', 'Fotos_Grandes-3cdAmostra/Q6-5-3.jpg', 'Fotos_Grandes-3cdAmostra/Q6-7-4.jpg', 'Fotos_Grandes-3cdAmostra/Q6-8-2.jpg', 'Fotos_Grandes-3cdAmostra/Q6-3-2.jpg', 'Fotos_Grandes-3cdAmostra/Q6-7-2.jpg', 'Fotos_Grandes-3cdAmostra/Q6-4-4.jpg', 'Fotos_Grandes-3cdAmostra/Q6-9-5.jpg', 'Fotos_Grandes-3cdAmostra/Q6-2-5.jpg', 'Fotos_Grandes-3cdAmostra/Q6-8-3.jpg', 'Fotos_Grandes-3cdAmostra/Q6-9-3.jpg', 'Fotos_Grandes-3cdAmostra/Q6-1-2.jpg', 'Fotos_Grandes-3cdAmostra/Q6-6-3.jpg', 'Fotos_Grandes-3cdAmostra/Q6-3-4.jpg', 'Fotos_Grandes-3cdAmostra/Q6-1-4.jpg', 'Fotos_Grandes-3cdAmostra/Q6-6-2.jpg', 'Fotos_Grandes-3cdAmostra/Q6-4-3.jpg', 'Fotos_Grandes-3cdAmostra/Q6-7-3.jpg', 'Fotos_Grandes-3cdAmostra/Q6-2-2.jpg', 'Fotos_Grandes-3cdAmostra/Q6-9-2.jpg', 'Fotos_Grandes-3cdAmostra/Q6-1-5.jpg', 'Fotos_Grandes-3cdAmostra/Q6-6-5.jpg', 'Fotos_Grandes-3cdAmostra/Q6-2-1.jpg', 'Fotos_Grandes-3cdAmostra/Q6-5-2.jpg', 'Fotos_Grandes-3cdAmostra/Q6-4-1.jpg', 'Fotos_Grandes-3cdAmostra/Q6-3-1.jpg', 'Fotos_Grandes-3cdAmostra/Q6-5-4.jpg']\n"
          ]
        }
      ]
    },
    {
      "cell_type": "code",
      "metadata": {
        "id": "0kA4IWSmasoD"
      },
      "source": [
        "Size=1200 # tamanho da foto\n",
        "ww,img_name=Go2BlackWhite.BlackWhite(Transfere,Size) #Pegamos a primeira foto Grande\n",
        "img=ww[9] \n",
        "# this is the big image we want to segment \n",
        "# ww[0], change it if you want to segment another picture"
      ],
      "execution_count": null,
      "outputs": []
    },
    {
      "cell_type": "code",
      "metadata": {
        "colab": {
          "base_uri": "https://localhost:8080/"
        },
        "id": "tHgqAnaFyCjp",
        "outputId": "b59f86b5-73f3-4a0c-b07f-487b0afccee8"
      },
      "source": [
        "!git clone https://github.com/ucfilho/MarquesGabi_Routines\n",
        "%cd MarquesGabi_Routines"
      ],
      "execution_count": null,
      "outputs": [
        {
          "output_type": "stream",
          "name": "stdout",
          "text": [
            "fatal: destination path 'MarquesGabi_Routines' already exists and is not an empty directory.\n",
            "/content/marquesgabi_fev_2020/Doutorado/MarquesGabi_Routines\n"
          ]
        }
      ]
    },
    {
      "cell_type": "code",
      "metadata": {
        "id": "qc4rFvzkyWCi"
      },
      "source": [
        "from segment_filter_not_conclude import Segmenta  # got image provided segmented"
      ],
      "execution_count": null,
      "outputs": []
    },
    {
      "cell_type": "code",
      "metadata": {
        "id": "SnTtH3KDP863"
      },
      "source": [
        "df=Segmenta(img)\n",
        "Img_Size = 28"
      ],
      "execution_count": null,
      "outputs": []
    },
    {
      "cell_type": "code",
      "metadata": {
        "colab": {
          "base_uri": "https://localhost:8080/"
        },
        "id": "YN5MN5a_v4np",
        "outputId": "2edcd40d-ad61-44f4-b6f7-6fb8bdf34584"
      },
      "source": [
        "print(df)"
      ],
      "execution_count": null,
      "outputs": [
        {
          "output_type": "stream",
          "name": "stdout",
          "text": [
            "    Width           0           1  ...         781         782         783\n",
            "0     101  109.646805  107.661499  ...   92.739540   55.871975   43.479462\n",
            "1     145   50.161045   52.548676  ...    0.039952    0.000000    0.000000\n",
            "2     155   52.855442   54.283043  ...   58.562210   57.326492   56.897282\n",
            "3     183   82.030876   81.702164  ...   92.012955   94.672913   97.224907\n",
            "4     145   50.600811   52.495415  ...   24.180450    6.249845    1.249512\n",
            "5     109   52.670059   53.260750  ...   79.106812   80.358215   80.742355\n",
            "6     117   89.010445   89.897728  ...    8.298122    8.028125    7.997443\n",
            "7     121   86.237152   87.007446  ...    8.247524    8.854382    9.330579\n",
            "8     126   56.148151   65.753090  ...    0.740741    0.888889    0.691358\n",
            "9     195   82.409264   45.635033  ...   44.593220   42.192585   41.824829\n",
            "10    113   90.168770   92.074631  ...  136.983246  142.495422  149.710693\n",
            "11    177   77.875099   89.102066  ...   55.885632   54.113693   56.893543\n",
            "12    182  108.071007  112.852081  ...   58.958580   56.733734   57.857994\n",
            "13    161   47.472595   44.618149  ...   73.595459   73.782608   73.748581\n",
            "14    107   54.222290   54.432091  ...    0.000000    0.000000    0.000000\n",
            "15    159   62.291283   62.751080  ...   15.880938    4.433725    0.460623\n",
            "16    198  107.366898  109.044884  ...   75.764511   78.466278   81.902039\n",
            "17    162   90.308647   91.346291  ...    7.149673    6.893614    6.733577\n",
            "18    157    7.812610    3.686600  ...   47.027061   66.515930   78.021378\n",
            "19    125   74.086594   50.682564  ...    5.763137    5.060672    3.155776\n",
            "20    117   69.287895   67.566513  ...   51.478264   62.124916   72.328735\n",
            "21    144   52.402775   63.277782  ...    1.002315    0.125772    0.507716\n",
            "22    133   72.664825   74.382271  ...    0.376731    0.000000    0.000000\n",
            "23    175   12.524799   13.571198  ...   83.140793   86.654404   84.913589\n",
            "24    134   50.541767   48.830475  ...   50.196259   51.247494   52.348412\n",
            "25    139   67.425911   63.013195  ...    1.247813    0.868174    0.000000\n",
            "26    120   89.242226   90.728889  ...   50.098888   33.584446   29.822222\n",
            "27    127   92.675674   50.151649  ...    5.713125    5.043276    3.140492\n",
            "28    132   83.919197   79.378334  ...  123.308548  115.014694   74.853081\n",
            "29    175   73.711990   77.161598  ...   85.209595   85.006393   86.206398\n",
            "30    187   50.357830   48.540909  ...  115.098312  114.407730  112.970917\n",
            "31    118   80.122375   75.721344  ...    8.058316    8.440391    9.437805\n",
            "32    119   54.349480   58.114185  ...   94.958481   94.252602   84.245674\n",
            "33    191   53.306244   50.620846  ...    2.168965    0.480387    0.479620\n",
            "34    146   97.464813   92.177895  ...   58.250519   44.085007   39.240574\n",
            "35    141   36.440876   38.006897  ...   86.008453  100.759010  104.860321\n",
            "36    151   90.578789   91.931633  ...   86.457260   87.150963   89.733566\n",
            "37    183   39.953987   40.128906  ...   50.153122   38.529549    5.473439\n",
            "38    131   90.569603   91.166069  ...  110.373230  113.508476  115.823608\n",
            "39    199   69.947906   74.237991  ...    0.000000    0.000000    0.000000\n",
            "40    176   56.873451   54.954033  ...   25.381714   23.877581   26.895145\n",
            "41    130   39.780121   43.613491  ...   42.427692   50.841423   52.734913\n",
            "42    131   63.896156   75.566223  ...   58.301666   58.164440   55.221367\n",
            "43    131   43.835556   43.550262  ...   64.177200   70.781067   77.498169\n",
            "44    152   75.621880   76.134354  ...   60.521461   50.180054   17.243767\n",
            "45    139   77.831894   86.618088  ...   53.366436   97.751144  111.879814\n",
            "46    166   26.968210   34.581795  ...    0.757439    2.420671    2.434896\n",
            "47    136  113.500877   93.883217  ...   77.828720   76.151382   76.348618\n",
            "48    125  136.853455  125.693123  ...  113.610382  115.724167  113.760010\n",
            "49    168   56.305557   58.083332  ...   58.611111   57.250000   58.750000\n",
            "\n",
            "[50 rows x 785 columns]\n"
          ]
        }
      ]
    },
    {
      "cell_type": "code",
      "metadata": {
        "colab": {
          "base_uri": "https://localhost:8080/",
          "height": 52
        },
        "id": "xzpQ1Pz0fX5L",
        "outputId": "5efe3022-49b2-4fb9-db4c-57746d4fd445"
      },
      "source": [
        "'''\n",
        "!git clone https://github.com/ucfilho/MarquesGabi_Routines\n",
        "%cd MarquesGabi_Routines\n",
        "# filename = 'model_ANN.pkl'\n",
        "filename = 'model_ANN_new.pkl'\n",
        "model = joblib.load(filename)\n",
        "'''"
      ],
      "execution_count": null,
      "outputs": [
        {
          "output_type": "execute_result",
          "data": {
            "application/vnd.google.colaboratory.intrinsic+json": {
              "type": "string"
            },
            "text/plain": [
              "\"\\n!git clone https://github.com/ucfilho/MarquesGabi_Routines\\n%cd MarquesGabi_Routines\\n# filename = 'model_ANN.pkl'\\nfilename = 'model_ANN_new.pkl'\\nmodel = joblib.load(filename)\\n\""
            ]
          },
          "metadata": {},
          "execution_count": 12
        }
      ]
    },
    {
      "cell_type": "code",
      "metadata": {
        "colab": {
          "base_uri": "https://localhost:8080/"
        },
        "id": "xR2emP4rNjQy",
        "outputId": "ac4cd650-bc16-4ca6-b53d-1e2e066ec7b1"
      },
      "source": [
        "!git clone https://github.com/ucfilho/MarquesGabi_Routines\n",
        "%cd MarquesGabi_Routines"
      ],
      "execution_count": null,
      "outputs": [
        {
          "output_type": "stream",
          "name": "stdout",
          "text": [
            "fatal: destination path 'MarquesGabi_Routines' already exists and is not an empty directory.\n",
            "/content/marquesgabi_fev_2020/Doutorado/MarquesGabi_Routines/MarquesGabi_Routines\n"
          ]
        }
      ]
    },
    {
      "cell_type": "code",
      "metadata": {
        "id": "O6cMHOrlNliO"
      },
      "source": [
        "# leitura dos dados\n",
        "df=pd.read_excel(\"FotosTreinoRede.xlsx\")\n",
        "y = df['y']\n",
        "df.drop(['Unnamed: 0','y'], axis='columns', inplace=True)"
      ],
      "execution_count": null,
      "outputs": []
    },
    {
      "cell_type": "code",
      "metadata": {
        "id": "zQO8d2QbNqj0"
      },
      "source": [
        "X =np.array(df.copy())/255.0 \n",
        "\n",
        "\n",
        "X_train, X_test, Y_train, Y_test = train_test_split(X, y, test_size=0.30, shuffle=True, random_state=42)"
      ],
      "execution_count": null,
      "outputs": []
    },
    {
      "cell_type": "code",
      "metadata": {
        "id": "gIFPGE_-vx3T"
      },
      "source": [
        ""
      ],
      "execution_count": null,
      "outputs": []
    },
    {
      "cell_type": "code",
      "metadata": {
        "id": "23iKv6bDPWQl"
      },
      "source": [
        "# helper\n",
        "def ynindicator(Y):\n",
        "  N = len(Y)\n",
        "  K = len(set(Y))\n",
        "  I = np.zeros((N, K))\n",
        "  I[np.arange(N), Y] = 1\n",
        "  return I\n",
        "\n",
        "def yback(Y_test):\n",
        "  nrow, ncol = Y_test.shape\n",
        "  y_class = np.zeros(nrow,dtype=int)\n",
        "  y_resp = Y_test\n",
        "  for k in range(nrow):\n",
        "    for kk in range(K):\n",
        "      if(y_resp[k,kk] == 1):\n",
        "        y_class[k] = kk\n",
        "  Y_test = y_class.copy()\n",
        "  return Y_test\n",
        "\n",
        "X_train = np.array(X_train)\n",
        "Y_train = np.array(Y_train)\n",
        "K = len(set(Y_train))\n",
        "\n",
        "X_train = X_train.reshape(-1, Img_Size, Img_Size, 1) / 255.0\n",
        "Y_train = Y_train.astype(np.int32)\n",
        "Y_train = ynindicator(Y_train)\n",
        "\n",
        "X_test = np.array(X_test )\n",
        "Y_test = np.array(Y_test)\n",
        "X_test = X_test.reshape(-1, Img_Size, Img_Size, 1) / 255.0\n",
        "Y_test = Y_test.astype(np.int32)\n",
        "Y_test = ynindicator(Y_test)\n",
        "\n",
        "# the model will be a sequence of layers\n",
        "\n",
        "Description = '3 layers of Convolution: 64, 128, 256 '\n",
        "N1 = 20\n",
        "N2 = 20\n",
        "\n",
        "# make the CNN\n",
        "model = Sequential()\n",
        "model.add(Conv2D(input_shape=(Img_Size, Img_Size, 1), filters=64, kernel_size=(3, 3)))\n",
        "model.add(BatchNormalization())\n",
        "model.add(Activation('relu'))\n",
        "model.add(MaxPooling2D())\n",
        "\n",
        "model.add(Conv2D(filters=128, kernel_size=(3, 3)))\n",
        "model.add(BatchNormalization())\n",
        "model.add(Activation('relu'))\n",
        "model.add(MaxPooling2D())\n",
        "\n",
        "model.add(Conv2D(filters=256, kernel_size=(3, 3)))\n",
        "model.add(BatchNormalization())\n",
        "model.add(Activation('relu'))\n",
        "model.add(MaxPooling2D())\n",
        "\n",
        "model.add(Flatten())\n",
        "model.add(Dense(units=N1))\n",
        "model.add(Dropout(0.2))\n",
        "model.add(Dense(units=N2))\n",
        "model.add(Activation('relu'))\n",
        "#model.add(Dropout(0.2))\n",
        "model.add(Dense(units=K))\n",
        "model.add(Activation('softmax'))\n",
        "\n",
        "\n",
        "# list of losses: https://keras.io/losses/\n",
        "# list of optimizers: https://keras.io/optimizers/\n",
        "# list of metrics: https://keras.io/metrics/\n",
        "model.compile(\n",
        "  loss='categorical_crossentropy',\n",
        "  optimizer='adam',\n",
        "  metrics=['accuracy']\n",
        ")"
      ],
      "execution_count": null,
      "outputs": []
    },
    {
      "cell_type": "code",
      "metadata": {
        "colab": {
          "base_uri": "https://localhost:8080/"
        },
        "id": "FpbPQ1FSRG6A",
        "outputId": "706bbcc7-59da-428b-a8d6-72f55227c17f"
      },
      "source": [
        "\n",
        "# training the model\n",
        "r = model.fit(X_train, Y_train, validation_data=(X_test,Y_test), \n",
        "              epochs=200, batch_size=32)"
      ],
      "execution_count": null,
      "outputs": [
        {
          "output_type": "stream",
          "name": "stdout",
          "text": [
            "Epoch 1/200\n",
            "11/11 [==============================] - 3s 157ms/step - loss: 0.5549 - accuracy: 0.7376 - val_loss: 0.6937 - val_accuracy: 0.4898\n",
            "Epoch 2/200\n",
            "11/11 [==============================] - 1s 131ms/step - loss: 0.3788 - accuracy: 0.8601 - val_loss: 0.6931 - val_accuracy: 0.4898\n",
            "Epoch 3/200\n",
            "11/11 [==============================] - 1s 130ms/step - loss: 0.2088 - accuracy: 0.9067 - val_loss: 0.6930 - val_accuracy: 0.5102\n",
            "Epoch 4/200\n",
            "11/11 [==============================] - 1s 134ms/step - loss: 0.1866 - accuracy: 0.9213 - val_loss: 0.6929 - val_accuracy: 0.5102\n",
            "Epoch 5/200\n",
            "11/11 [==============================] - 1s 135ms/step - loss: 0.0913 - accuracy: 0.9708 - val_loss: 0.6929 - val_accuracy: 0.5102\n",
            "Epoch 6/200\n",
            "11/11 [==============================] - 1s 134ms/step - loss: 0.0716 - accuracy: 0.9738 - val_loss: 0.6929 - val_accuracy: 0.5102\n",
            "Epoch 7/200\n",
            "11/11 [==============================] - 1s 134ms/step - loss: 0.0410 - accuracy: 0.9942 - val_loss: 0.6929 - val_accuracy: 0.5102\n",
            "Epoch 8/200\n",
            "11/11 [==============================] - 1s 132ms/step - loss: 0.0341 - accuracy: 0.9942 - val_loss: 0.6933 - val_accuracy: 0.5102\n",
            "Epoch 9/200\n",
            "11/11 [==============================] - 1s 132ms/step - loss: 0.0233 - accuracy: 0.9913 - val_loss: 0.6943 - val_accuracy: 0.5102\n",
            "Epoch 10/200\n",
            "11/11 [==============================] - 1s 132ms/step - loss: 0.0183 - accuracy: 0.9942 - val_loss: 0.6949 - val_accuracy: 0.5102\n",
            "Epoch 11/200\n",
            "11/11 [==============================] - 1s 131ms/step - loss: 0.0113 - accuracy: 0.9942 - val_loss: 0.6965 - val_accuracy: 0.5102\n",
            "Epoch 12/200\n",
            "11/11 [==============================] - 1s 132ms/step - loss: 0.0127 - accuracy: 1.0000 - val_loss: 0.6966 - val_accuracy: 0.5102\n",
            "Epoch 13/200\n",
            "11/11 [==============================] - 1s 132ms/step - loss: 0.0134 - accuracy: 0.9971 - val_loss: 0.6988 - val_accuracy: 0.5102\n",
            "Epoch 14/200\n",
            "11/11 [==============================] - 1s 135ms/step - loss: 0.0079 - accuracy: 0.9971 - val_loss: 0.7002 - val_accuracy: 0.5102\n",
            "Epoch 15/200\n",
            "11/11 [==============================] - 1s 134ms/step - loss: 0.0111 - accuracy: 0.9971 - val_loss: 0.6990 - val_accuracy: 0.5102\n",
            "Epoch 16/200\n",
            "11/11 [==============================] - 1s 133ms/step - loss: 0.0285 - accuracy: 0.9913 - val_loss: 0.6993 - val_accuracy: 0.5102\n",
            "Epoch 17/200\n",
            "11/11 [==============================] - 1s 131ms/step - loss: 0.0298 - accuracy: 0.9913 - val_loss: 0.6978 - val_accuracy: 0.5102\n",
            "Epoch 18/200\n",
            "11/11 [==============================] - 1s 133ms/step - loss: 0.0390 - accuracy: 0.9942 - val_loss: 0.6970 - val_accuracy: 0.5102\n",
            "Epoch 19/200\n",
            "11/11 [==============================] - 1s 134ms/step - loss: 0.0219 - accuracy: 0.9942 - val_loss: 0.7041 - val_accuracy: 0.5102\n",
            "Epoch 20/200\n",
            "11/11 [==============================] - 1s 131ms/step - loss: 0.0146 - accuracy: 0.9971 - val_loss: 0.7086 - val_accuracy: 0.5102\n",
            "Epoch 21/200\n",
            "11/11 [==============================] - 1s 132ms/step - loss: 0.0103 - accuracy: 0.9971 - val_loss: 0.7215 - val_accuracy: 0.5102\n",
            "Epoch 22/200\n",
            "11/11 [==============================] - 1s 132ms/step - loss: 0.0102 - accuracy: 0.9971 - val_loss: 0.7369 - val_accuracy: 0.5102\n",
            "Epoch 23/200\n",
            "11/11 [==============================] - 1s 132ms/step - loss: 0.0097 - accuracy: 0.9971 - val_loss: 0.7374 - val_accuracy: 0.5102\n",
            "Epoch 24/200\n",
            "11/11 [==============================] - 1s 131ms/step - loss: 0.0016 - accuracy: 1.0000 - val_loss: 0.7768 - val_accuracy: 0.5102\n",
            "Epoch 25/200\n",
            "11/11 [==============================] - 1s 135ms/step - loss: 0.0247 - accuracy: 0.9883 - val_loss: 0.8035 - val_accuracy: 0.5102\n",
            "Epoch 26/200\n",
            "11/11 [==============================] - 1s 131ms/step - loss: 0.0071 - accuracy: 1.0000 - val_loss: 0.7673 - val_accuracy: 0.5102\n",
            "Epoch 27/200\n",
            "11/11 [==============================] - 1s 132ms/step - loss: 0.0073 - accuracy: 0.9971 - val_loss: 0.8263 - val_accuracy: 0.5102\n",
            "Epoch 28/200\n",
            "11/11 [==============================] - 1s 134ms/step - loss: 0.0066 - accuracy: 1.0000 - val_loss: 0.7819 - val_accuracy: 0.5102\n",
            "Epoch 29/200\n",
            "11/11 [==============================] - 1s 135ms/step - loss: 0.0055 - accuracy: 0.9971 - val_loss: 1.0504 - val_accuracy: 0.5102\n",
            "Epoch 30/200\n",
            "11/11 [==============================] - 1s 135ms/step - loss: 0.0022 - accuracy: 1.0000 - val_loss: 1.1588 - val_accuracy: 0.5102\n",
            "Epoch 31/200\n",
            "11/11 [==============================] - 1s 132ms/step - loss: 0.0032 - accuracy: 0.9971 - val_loss: 1.2627 - val_accuracy: 0.5102\n",
            "Epoch 32/200\n",
            "11/11 [==============================] - 1s 133ms/step - loss: 0.0065 - accuracy: 0.9971 - val_loss: 1.1269 - val_accuracy: 0.5102\n",
            "Epoch 33/200\n",
            "11/11 [==============================] - 1s 137ms/step - loss: 0.0175 - accuracy: 0.9942 - val_loss: 1.3557 - val_accuracy: 0.5102\n",
            "Epoch 34/200\n",
            "11/11 [==============================] - 1s 135ms/step - loss: 0.0040 - accuracy: 1.0000 - val_loss: 1.4886 - val_accuracy: 0.5102\n",
            "Epoch 35/200\n",
            "11/11 [==============================] - 1s 137ms/step - loss: 0.0014 - accuracy: 1.0000 - val_loss: 1.6097 - val_accuracy: 0.5102\n",
            "Epoch 36/200\n",
            "11/11 [==============================] - 1s 135ms/step - loss: 0.0025 - accuracy: 1.0000 - val_loss: 1.5848 - val_accuracy: 0.5102\n",
            "Epoch 37/200\n",
            "11/11 [==============================] - 1s 136ms/step - loss: 0.0027 - accuracy: 1.0000 - val_loss: 1.1100 - val_accuracy: 0.5102\n",
            "Epoch 38/200\n",
            "11/11 [==============================] - 1s 136ms/step - loss: 0.0017 - accuracy: 1.0000 - val_loss: 0.9745 - val_accuracy: 0.5102\n",
            "Epoch 39/200\n",
            "11/11 [==============================] - 1s 136ms/step - loss: 4.5096e-04 - accuracy: 1.0000 - val_loss: 0.7870 - val_accuracy: 0.5102\n",
            "Epoch 40/200\n",
            "11/11 [==============================] - 1s 134ms/step - loss: 0.0059 - accuracy: 0.9942 - val_loss: 1.8337 - val_accuracy: 0.5102\n",
            "Epoch 41/200\n",
            "11/11 [==============================] - 1s 134ms/step - loss: 0.0067 - accuracy: 0.9971 - val_loss: 3.1121 - val_accuracy: 0.5102\n",
            "Epoch 42/200\n",
            "11/11 [==============================] - 1s 134ms/step - loss: 0.0112 - accuracy: 0.9942 - val_loss: 1.4641 - val_accuracy: 0.5102\n",
            "Epoch 43/200\n",
            "11/11 [==============================] - 2s 137ms/step - loss: 0.0083 - accuracy: 0.9971 - val_loss: 1.0198 - val_accuracy: 0.5102\n",
            "Epoch 44/200\n",
            "11/11 [==============================] - 1s 135ms/step - loss: 0.0106 - accuracy: 0.9942 - val_loss: 7.7699 - val_accuracy: 0.5102\n",
            "Epoch 45/200\n",
            "11/11 [==============================] - 2s 139ms/step - loss: 0.0045 - accuracy: 1.0000 - val_loss: 7.0058 - val_accuracy: 0.5102\n",
            "Epoch 46/200\n",
            "11/11 [==============================] - 2s 139ms/step - loss: 0.0029 - accuracy: 1.0000 - val_loss: 6.2012 - val_accuracy: 0.5102\n",
            "Epoch 47/200\n",
            "11/11 [==============================] - 1s 136ms/step - loss: 0.0069 - accuracy: 0.9942 - val_loss: 5.2658 - val_accuracy: 0.5102\n",
            "Epoch 48/200\n",
            "11/11 [==============================] - 1s 136ms/step - loss: 0.0262 - accuracy: 0.9942 - val_loss: 6.3151 - val_accuracy: 0.5102\n",
            "Epoch 49/200\n",
            "11/11 [==============================] - 1s 137ms/step - loss: 0.0158 - accuracy: 0.9971 - val_loss: 8.6593 - val_accuracy: 0.5102\n",
            "Epoch 50/200\n",
            "11/11 [==============================] - 1s 135ms/step - loss: 0.0089 - accuracy: 0.9942 - val_loss: 13.2328 - val_accuracy: 0.5102\n",
            "Epoch 51/200\n",
            "11/11 [==============================] - 1s 136ms/step - loss: 0.0091 - accuracy: 0.9913 - val_loss: 14.3200 - val_accuracy: 0.5102\n",
            "Epoch 52/200\n",
            "11/11 [==============================] - 1s 134ms/step - loss: 0.0103 - accuracy: 0.9971 - val_loss: 17.5926 - val_accuracy: 0.5102\n",
            "Epoch 53/200\n",
            "11/11 [==============================] - 1s 136ms/step - loss: 0.0023 - accuracy: 1.0000 - val_loss: 24.4986 - val_accuracy: 0.5102\n",
            "Epoch 54/200\n",
            "11/11 [==============================] - 1s 137ms/step - loss: 0.0061 - accuracy: 0.9971 - val_loss: 19.7155 - val_accuracy: 0.5102\n",
            "Epoch 55/200\n",
            "11/11 [==============================] - 1s 135ms/step - loss: 0.0068 - accuracy: 0.9971 - val_loss: 1.3050 - val_accuracy: 0.5238\n",
            "Epoch 56/200\n",
            "11/11 [==============================] - 1s 136ms/step - loss: 0.0104 - accuracy: 0.9942 - val_loss: 21.7169 - val_accuracy: 0.5102\n",
            "Epoch 57/200\n",
            "11/11 [==============================] - 1s 136ms/step - loss: 0.0046 - accuracy: 0.9971 - val_loss: 42.0210 - val_accuracy: 0.5102\n",
            "Epoch 58/200\n",
            "11/11 [==============================] - 1s 135ms/step - loss: 0.0102 - accuracy: 0.9942 - val_loss: 33.3214 - val_accuracy: 0.5102\n",
            "Epoch 59/200\n",
            "11/11 [==============================] - 1s 135ms/step - loss: 0.0024 - accuracy: 1.0000 - val_loss: 10.7915 - val_accuracy: 0.5102\n",
            "Epoch 60/200\n",
            "11/11 [==============================] - 1s 135ms/step - loss: 0.0012 - accuracy: 1.0000 - val_loss: 13.3301 - val_accuracy: 0.5102\n",
            "Epoch 61/200\n",
            "11/11 [==============================] - 2s 138ms/step - loss: 0.0022 - accuracy: 1.0000 - val_loss: 13.9867 - val_accuracy: 0.5102\n",
            "Epoch 62/200\n",
            "11/11 [==============================] - 1s 135ms/step - loss: 3.0022e-04 - accuracy: 1.0000 - val_loss: 12.5240 - val_accuracy: 0.5102\n",
            "Epoch 63/200\n",
            "11/11 [==============================] - 2s 139ms/step - loss: 0.0018 - accuracy: 1.0000 - val_loss: 13.7034 - val_accuracy: 0.5102\n",
            "Epoch 64/200\n",
            "11/11 [==============================] - 1s 135ms/step - loss: 2.9506e-04 - accuracy: 1.0000 - val_loss: 13.3447 - val_accuracy: 0.5102\n",
            "Epoch 65/200\n",
            "11/11 [==============================] - 1s 137ms/step - loss: 0.0012 - accuracy: 1.0000 - val_loss: 12.2927 - val_accuracy: 0.5102\n",
            "Epoch 66/200\n",
            "11/11 [==============================] - 1s 135ms/step - loss: 0.0015 - accuracy: 1.0000 - val_loss: 8.1051 - val_accuracy: 0.5102\n",
            "Epoch 67/200\n",
            "11/11 [==============================] - 1s 138ms/step - loss: 0.0015 - accuracy: 1.0000 - val_loss: 1.3967 - val_accuracy: 0.5442\n",
            "Epoch 68/200\n",
            "11/11 [==============================] - 1s 137ms/step - loss: 0.0167 - accuracy: 0.9942 - val_loss: 15.4471 - val_accuracy: 0.4898\n",
            "Epoch 69/200\n",
            "11/11 [==============================] - 1s 136ms/step - loss: 0.0049 - accuracy: 0.9971 - val_loss: 6.2871 - val_accuracy: 0.4898\n",
            "Epoch 70/200\n",
            "11/11 [==============================] - 1s 135ms/step - loss: 0.0132 - accuracy: 0.9971 - val_loss: 0.5819 - val_accuracy: 0.6939\n",
            "Epoch 71/200\n",
            "11/11 [==============================] - 1s 132ms/step - loss: 0.0023 - accuracy: 1.0000 - val_loss: 16.5971 - val_accuracy: 0.5102\n",
            "Epoch 72/200\n",
            "11/11 [==============================] - 1s 136ms/step - loss: 0.0025 - accuracy: 1.0000 - val_loss: 1.9538 - val_accuracy: 0.5034\n",
            "Epoch 73/200\n",
            "11/11 [==============================] - 1s 135ms/step - loss: 5.4047e-04 - accuracy: 1.0000 - val_loss: 11.5480 - val_accuracy: 0.4898\n",
            "Epoch 74/200\n",
            "11/11 [==============================] - 1s 137ms/step - loss: 0.0031 - accuracy: 0.9971 - val_loss: 10.4678 - val_accuracy: 0.4898\n",
            "Epoch 75/200\n",
            "11/11 [==============================] - 2s 139ms/step - loss: 9.4212e-04 - accuracy: 1.0000 - val_loss: 17.3427 - val_accuracy: 0.4898\n",
            "Epoch 76/200\n",
            "11/11 [==============================] - 2s 140ms/step - loss: 2.5565e-04 - accuracy: 1.0000 - val_loss: 17.6610 - val_accuracy: 0.4898\n",
            "Epoch 77/200\n",
            "11/11 [==============================] - 1s 136ms/step - loss: 6.4678e-05 - accuracy: 1.0000 - val_loss: 15.8808 - val_accuracy: 0.4898\n",
            "Epoch 78/200\n",
            "11/11 [==============================] - 1s 135ms/step - loss: 3.7215e-04 - accuracy: 1.0000 - val_loss: 14.1451 - val_accuracy: 0.4898\n",
            "Epoch 79/200\n",
            "11/11 [==============================] - 1s 136ms/step - loss: 9.8834e-05 - accuracy: 1.0000 - val_loss: 12.5724 - val_accuracy: 0.4898\n",
            "Epoch 80/200\n",
            "11/11 [==============================] - 1s 134ms/step - loss: 2.3159e-04 - accuracy: 1.0000 - val_loss: 10.9727 - val_accuracy: 0.4898\n",
            "Epoch 81/200\n",
            "11/11 [==============================] - 1s 134ms/step - loss: 1.1229e-04 - accuracy: 1.0000 - val_loss: 9.1790 - val_accuracy: 0.4898\n",
            "Epoch 82/200\n",
            "11/11 [==============================] - 2s 138ms/step - loss: 6.5363e-05 - accuracy: 1.0000 - val_loss: 7.8064 - val_accuracy: 0.4898\n",
            "Epoch 83/200\n",
            "11/11 [==============================] - 1s 136ms/step - loss: 6.9382e-05 - accuracy: 1.0000 - val_loss: 6.7609 - val_accuracy: 0.4898\n",
            "Epoch 84/200\n",
            "11/11 [==============================] - 1s 136ms/step - loss: 1.0762e-04 - accuracy: 1.0000 - val_loss: 5.6592 - val_accuracy: 0.4898\n",
            "Epoch 85/200\n",
            "11/11 [==============================] - 2s 137ms/step - loss: 1.9226e-04 - accuracy: 1.0000 - val_loss: 4.6634 - val_accuracy: 0.4898\n",
            "Epoch 86/200\n",
            "11/11 [==============================] - 1s 135ms/step - loss: 7.6161e-05 - accuracy: 1.0000 - val_loss: 3.8055 - val_accuracy: 0.4898\n",
            "Epoch 87/200\n",
            "11/11 [==============================] - 2s 136ms/step - loss: 1.0239e-04 - accuracy: 1.0000 - val_loss: 3.0501 - val_accuracy: 0.4898\n",
            "Epoch 88/200\n",
            "11/11 [==============================] - 1s 136ms/step - loss: 1.0230e-04 - accuracy: 1.0000 - val_loss: 2.3374 - val_accuracy: 0.4966\n",
            "Epoch 89/200\n",
            "11/11 [==============================] - 2s 138ms/step - loss: 1.0395e-04 - accuracy: 1.0000 - val_loss: 1.7784 - val_accuracy: 0.5374\n",
            "Epoch 90/200\n",
            "11/11 [==============================] - 1s 134ms/step - loss: 0.0032 - accuracy: 0.9971 - val_loss: 4.1333 - val_accuracy: 0.4898\n",
            "Epoch 91/200\n",
            "11/11 [==============================] - 1s 136ms/step - loss: 0.0038 - accuracy: 0.9971 - val_loss: 16.0295 - val_accuracy: 0.4898\n",
            "Epoch 92/200\n",
            "11/11 [==============================] - 1s 135ms/step - loss: 4.1371e-04 - accuracy: 1.0000 - val_loss: 20.8692 - val_accuracy: 0.4898\n",
            "Epoch 93/200\n",
            "11/11 [==============================] - 1s 135ms/step - loss: 5.8011e-04 - accuracy: 1.0000 - val_loss: 19.9623 - val_accuracy: 0.4898\n",
            "Epoch 94/200\n",
            "11/11 [==============================] - 1s 136ms/step - loss: 2.0020e-04 - accuracy: 1.0000 - val_loss: 17.5123 - val_accuracy: 0.4898\n",
            "Epoch 95/200\n",
            "11/11 [==============================] - 1s 137ms/step - loss: 0.0016 - accuracy: 1.0000 - val_loss: 15.0404 - val_accuracy: 0.4898\n",
            "Epoch 96/200\n",
            "11/11 [==============================] - 1s 136ms/step - loss: 4.0907e-05 - accuracy: 1.0000 - val_loss: 13.2593 - val_accuracy: 0.4898\n",
            "Epoch 97/200\n",
            "11/11 [==============================] - 1s 137ms/step - loss: 6.1319e-04 - accuracy: 1.0000 - val_loss: 10.1522 - val_accuracy: 0.4898\n",
            "Epoch 98/200\n",
            "11/11 [==============================] - 1s 136ms/step - loss: 3.3352e-04 - accuracy: 1.0000 - val_loss: 7.4297 - val_accuracy: 0.4898\n",
            "Epoch 99/200\n",
            "11/11 [==============================] - 1s 136ms/step - loss: 0.0011 - accuracy: 1.0000 - val_loss: 7.6928 - val_accuracy: 0.4898\n",
            "Epoch 100/200\n",
            "11/11 [==============================] - 1s 134ms/step - loss: 8.6712e-04 - accuracy: 1.0000 - val_loss: 8.6734 - val_accuracy: 0.4898\n",
            "Epoch 101/200\n",
            "11/11 [==============================] - 1s 135ms/step - loss: 0.0013 - accuracy: 1.0000 - val_loss: 10.0881 - val_accuracy: 0.5102\n",
            "Epoch 102/200\n",
            "11/11 [==============================] - 1s 135ms/step - loss: 2.1837e-04 - accuracy: 1.0000 - val_loss: 56.6448 - val_accuracy: 0.5102\n",
            "Epoch 103/200\n",
            "11/11 [==============================] - 2s 138ms/step - loss: 0.0015 - accuracy: 1.0000 - val_loss: 48.6876 - val_accuracy: 0.5102\n",
            "Epoch 104/200\n",
            "11/11 [==============================] - 1s 136ms/step - loss: 0.0017 - accuracy: 1.0000 - val_loss: 33.2441 - val_accuracy: 0.5102\n",
            "Epoch 105/200\n",
            "11/11 [==============================] - 1s 135ms/step - loss: 5.7474e-04 - accuracy: 1.0000 - val_loss: 27.8914 - val_accuracy: 0.5102\n",
            "Epoch 106/200\n",
            "11/11 [==============================] - 2s 138ms/step - loss: 1.2347e-04 - accuracy: 1.0000 - val_loss: 26.8778 - val_accuracy: 0.5102\n",
            "Epoch 107/200\n",
            "11/11 [==============================] - 1s 135ms/step - loss: 7.4375e-04 - accuracy: 1.0000 - val_loss: 26.2010 - val_accuracy: 0.5102\n",
            "Epoch 108/200\n",
            "11/11 [==============================] - 1s 137ms/step - loss: 4.9612e-04 - accuracy: 1.0000 - val_loss: 26.2212 - val_accuracy: 0.5102\n",
            "Epoch 109/200\n",
            "11/11 [==============================] - 1s 136ms/step - loss: 1.3599e-04 - accuracy: 1.0000 - val_loss: 24.8004 - val_accuracy: 0.5102\n",
            "Epoch 110/200\n",
            "11/11 [==============================] - 2s 136ms/step - loss: 9.7586e-05 - accuracy: 1.0000 - val_loss: 23.1124 - val_accuracy: 0.5102\n",
            "Epoch 111/200\n",
            "11/11 [==============================] - 1s 134ms/step - loss: 1.9398e-04 - accuracy: 1.0000 - val_loss: 21.6549 - val_accuracy: 0.5102\n",
            "Epoch 112/200\n",
            "11/11 [==============================] - 1s 133ms/step - loss: 1.6467e-04 - accuracy: 1.0000 - val_loss: 19.9555 - val_accuracy: 0.5102\n",
            "Epoch 113/200\n",
            "11/11 [==============================] - 1s 134ms/step - loss: 1.3909e-04 - accuracy: 1.0000 - val_loss: 18.2241 - val_accuracy: 0.5102\n",
            "Epoch 114/200\n",
            "11/11 [==============================] - 1s 136ms/step - loss: 3.2638e-05 - accuracy: 1.0000 - val_loss: 16.7544 - val_accuracy: 0.5102\n",
            "Epoch 115/200\n",
            "11/11 [==============================] - 2s 139ms/step - loss: 1.4328e-04 - accuracy: 1.0000 - val_loss: 15.5469 - val_accuracy: 0.5102\n",
            "Epoch 116/200\n",
            "11/11 [==============================] - 2s 139ms/step - loss: 6.5319e-05 - accuracy: 1.0000 - val_loss: 14.7053 - val_accuracy: 0.5102\n",
            "Epoch 117/200\n",
            "11/11 [==============================] - 2s 138ms/step - loss: 1.0689e-04 - accuracy: 1.0000 - val_loss: 13.8509 - val_accuracy: 0.5102\n",
            "Epoch 118/200\n",
            "11/11 [==============================] - 1s 136ms/step - loss: 3.3223e-04 - accuracy: 1.0000 - val_loss: 12.8537 - val_accuracy: 0.5102\n",
            "Epoch 119/200\n",
            "11/11 [==============================] - 1s 137ms/step - loss: 4.4954e-04 - accuracy: 1.0000 - val_loss: 12.8219 - val_accuracy: 0.5102\n",
            "Epoch 120/200\n",
            "11/11 [==============================] - 1s 136ms/step - loss: 5.9323e-05 - accuracy: 1.0000 - val_loss: 13.5254 - val_accuracy: 0.5102\n",
            "Epoch 121/200\n",
            "11/11 [==============================] - 1s 137ms/step - loss: 7.2837e-04 - accuracy: 1.0000 - val_loss: 11.4695 - val_accuracy: 0.5102\n",
            "Epoch 122/200\n",
            "11/11 [==============================] - 1s 135ms/step - loss: 4.7283e-05 - accuracy: 1.0000 - val_loss: 9.7067 - val_accuracy: 0.5102\n",
            "Epoch 123/200\n",
            "11/11 [==============================] - 2s 139ms/step - loss: 4.9465e-05 - accuracy: 1.0000 - val_loss: 8.9081 - val_accuracy: 0.5102\n",
            "Epoch 124/200\n",
            "11/11 [==============================] - 1s 135ms/step - loss: 4.3971e-05 - accuracy: 1.0000 - val_loss: 8.3152 - val_accuracy: 0.5102\n",
            "Epoch 125/200\n",
            "11/11 [==============================] - 1s 136ms/step - loss: 4.2067e-05 - accuracy: 1.0000 - val_loss: 7.4636 - val_accuracy: 0.5102\n",
            "Epoch 126/200\n",
            "11/11 [==============================] - 1s 137ms/step - loss: 2.6978e-04 - accuracy: 1.0000 - val_loss: 7.4380 - val_accuracy: 0.5102\n",
            "Epoch 127/200\n",
            "11/11 [==============================] - 1s 136ms/step - loss: 7.4764e-05 - accuracy: 1.0000 - val_loss: 7.1477 - val_accuracy: 0.5102\n",
            "Epoch 128/200\n",
            "11/11 [==============================] - 1s 134ms/step - loss: 2.1541e-04 - accuracy: 1.0000 - val_loss: 7.3598 - val_accuracy: 0.5102\n",
            "Epoch 129/200\n",
            "11/11 [==============================] - 1s 138ms/step - loss: 5.3855e-05 - accuracy: 1.0000 - val_loss: 6.7327 - val_accuracy: 0.5102\n",
            "Epoch 130/200\n",
            "11/11 [==============================] - 1s 137ms/step - loss: 1.0759e-05 - accuracy: 1.0000 - val_loss: 6.2086 - val_accuracy: 0.5102\n",
            "Epoch 131/200\n",
            "11/11 [==============================] - 1s 137ms/step - loss: 3.5890e-04 - accuracy: 1.0000 - val_loss: 9.8752 - val_accuracy: 0.5102\n",
            "Epoch 132/200\n",
            "11/11 [==============================] - 1s 137ms/step - loss: 4.9687e-05 - accuracy: 1.0000 - val_loss: 10.0220 - val_accuracy: 0.5102\n",
            "Epoch 133/200\n",
            "11/11 [==============================] - 1s 136ms/step - loss: 2.7050e-05 - accuracy: 1.0000 - val_loss: 9.2459 - val_accuracy: 0.5102\n",
            "Epoch 134/200\n",
            "11/11 [==============================] - 2s 138ms/step - loss: 9.9334e-06 - accuracy: 1.0000 - val_loss: 8.2901 - val_accuracy: 0.5102\n",
            "Epoch 135/200\n",
            "11/11 [==============================] - 1s 136ms/step - loss: 5.1981e-05 - accuracy: 1.0000 - val_loss: 7.0250 - val_accuracy: 0.5306\n",
            "Epoch 136/200\n",
            "11/11 [==============================] - 1s 137ms/step - loss: 1.8618e-05 - accuracy: 1.0000 - val_loss: 5.7519 - val_accuracy: 0.5510\n",
            "Epoch 137/200\n",
            "11/11 [==============================] - 2s 138ms/step - loss: 2.9071e-04 - accuracy: 1.0000 - val_loss: 4.9772 - val_accuracy: 0.5850\n",
            "Epoch 138/200\n",
            "11/11 [==============================] - 1s 137ms/step - loss: 6.7261e-05 - accuracy: 1.0000 - val_loss: 4.3895 - val_accuracy: 0.6122\n",
            "Epoch 139/200\n",
            "11/11 [==============================] - 2s 140ms/step - loss: 1.9918e-05 - accuracy: 1.0000 - val_loss: 3.6243 - val_accuracy: 0.6395\n",
            "Epoch 140/200\n",
            "11/11 [==============================] - 2s 138ms/step - loss: 2.2966e-04 - accuracy: 1.0000 - val_loss: 4.2707 - val_accuracy: 0.6122\n",
            "Epoch 141/200\n",
            "11/11 [==============================] - 1s 136ms/step - loss: 1.3944e-04 - accuracy: 1.0000 - val_loss: 7.2953 - val_accuracy: 0.5306\n",
            "Epoch 142/200\n",
            "11/11 [==============================] - 1s 137ms/step - loss: 1.8898e-05 - accuracy: 1.0000 - val_loss: 7.2230 - val_accuracy: 0.5238\n",
            "Epoch 143/200\n",
            "11/11 [==============================] - 2s 139ms/step - loss: 4.4523e-05 - accuracy: 1.0000 - val_loss: 6.2065 - val_accuracy: 0.5374\n",
            "Epoch 144/200\n",
            "11/11 [==============================] - 2s 142ms/step - loss: 2.1384e-04 - accuracy: 1.0000 - val_loss: 4.8024 - val_accuracy: 0.5918\n",
            "Epoch 145/200\n",
            "11/11 [==============================] - 1s 138ms/step - loss: 4.2290e-05 - accuracy: 1.0000 - val_loss: 3.9067 - val_accuracy: 0.6259\n",
            "Epoch 146/200\n",
            "11/11 [==============================] - 2s 140ms/step - loss: 1.0055e-04 - accuracy: 1.0000 - val_loss: 3.3736 - val_accuracy: 0.6735\n",
            "Epoch 147/200\n",
            "11/11 [==============================] - 1s 137ms/step - loss: 4.8473e-05 - accuracy: 1.0000 - val_loss: 3.8148 - val_accuracy: 0.6395\n",
            "Epoch 148/200\n",
            "11/11 [==============================] - 1s 137ms/step - loss: 8.2710e-05 - accuracy: 1.0000 - val_loss: 3.9015 - val_accuracy: 0.6327\n",
            "Epoch 149/200\n",
            "11/11 [==============================] - 2s 138ms/step - loss: 1.7515e-05 - accuracy: 1.0000 - val_loss: 3.6199 - val_accuracy: 0.6531\n",
            "Epoch 150/200\n",
            "11/11 [==============================] - 2s 138ms/step - loss: 3.4564e-05 - accuracy: 1.0000 - val_loss: 3.2436 - val_accuracy: 0.6939\n",
            "Epoch 151/200\n",
            "11/11 [==============================] - 2s 137ms/step - loss: 1.7466e-05 - accuracy: 1.0000 - val_loss: 2.7478 - val_accuracy: 0.7143\n",
            "Epoch 152/200\n",
            "11/11 [==============================] - 1s 136ms/step - loss: 3.6046e-05 - accuracy: 1.0000 - val_loss: 2.0767 - val_accuracy: 0.7483\n",
            "Epoch 153/200\n",
            "11/11 [==============================] - 1s 137ms/step - loss: 1.0660e-05 - accuracy: 1.0000 - val_loss: 1.4095 - val_accuracy: 0.7823\n",
            "Epoch 154/200\n",
            "11/11 [==============================] - 1s 135ms/step - loss: 4.7833e-05 - accuracy: 1.0000 - val_loss: 1.0373 - val_accuracy: 0.8435\n",
            "Epoch 155/200\n",
            "11/11 [==============================] - 2s 142ms/step - loss: 1.7627e-04 - accuracy: 1.0000 - val_loss: 0.6033 - val_accuracy: 0.9116\n",
            "Epoch 156/200\n",
            "11/11 [==============================] - 1s 137ms/step - loss: 2.9353e-04 - accuracy: 1.0000 - val_loss: 0.5565 - val_accuracy: 0.9116\n",
            "Epoch 157/200\n",
            "11/11 [==============================] - 1s 137ms/step - loss: 1.7628e-05 - accuracy: 1.0000 - val_loss: 0.5639 - val_accuracy: 0.9116\n",
            "Epoch 158/200\n",
            "11/11 [==============================] - 1s 137ms/step - loss: 1.2489e-05 - accuracy: 1.0000 - val_loss: 0.5033 - val_accuracy: 0.9184\n",
            "Epoch 159/200\n",
            "11/11 [==============================] - 2s 141ms/step - loss: 2.1259e-05 - accuracy: 1.0000 - val_loss: 0.5395 - val_accuracy: 0.9184\n",
            "Epoch 160/200\n",
            "11/11 [==============================] - 2s 138ms/step - loss: 2.5940e-05 - accuracy: 1.0000 - val_loss: 0.5257 - val_accuracy: 0.9184\n",
            "Epoch 161/200\n",
            "11/11 [==============================] - 2s 138ms/step - loss: 1.1466e-05 - accuracy: 1.0000 - val_loss: 0.4543 - val_accuracy: 0.9184\n",
            "Epoch 162/200\n",
            "11/11 [==============================] - 1s 136ms/step - loss: 5.4857e-05 - accuracy: 1.0000 - val_loss: 0.4364 - val_accuracy: 0.9252\n",
            "Epoch 163/200\n",
            "11/11 [==============================] - 2s 138ms/step - loss: 1.8161e-05 - accuracy: 1.0000 - val_loss: 0.3816 - val_accuracy: 0.9320\n",
            "Epoch 164/200\n",
            "11/11 [==============================] - 1s 137ms/step - loss: 2.7513e-05 - accuracy: 1.0000 - val_loss: 0.2775 - val_accuracy: 0.9592\n",
            "Epoch 165/200\n",
            "11/11 [==============================] - 2s 140ms/step - loss: 5.0453e-06 - accuracy: 1.0000 - val_loss: 0.2443 - val_accuracy: 0.9728\n",
            "Epoch 166/200\n",
            "11/11 [==============================] - 2s 140ms/step - loss: 3.9377e-06 - accuracy: 1.0000 - val_loss: 0.2386 - val_accuracy: 0.9660\n",
            "Epoch 167/200\n",
            "11/11 [==============================] - 1s 137ms/step - loss: 2.9845e-05 - accuracy: 1.0000 - val_loss: 0.2514 - val_accuracy: 0.9660\n",
            "Epoch 168/200\n",
            "11/11 [==============================] - 2s 139ms/step - loss: 2.8644e-04 - accuracy: 1.0000 - val_loss: 0.2441 - val_accuracy: 0.9660\n",
            "Epoch 169/200\n",
            "11/11 [==============================] - 2s 143ms/step - loss: 2.0763e-05 - accuracy: 1.0000 - val_loss: 0.2418 - val_accuracy: 0.9660\n",
            "Epoch 170/200\n",
            "11/11 [==============================] - 1s 136ms/step - loss: 8.4646e-06 - accuracy: 1.0000 - val_loss: 0.2590 - val_accuracy: 0.9592\n",
            "Epoch 171/200\n",
            "11/11 [==============================] - 2s 141ms/step - loss: 1.5620e-05 - accuracy: 1.0000 - val_loss: 0.2688 - val_accuracy: 0.9660\n",
            "Epoch 172/200\n",
            "11/11 [==============================] - 2s 140ms/step - loss: 9.9001e-06 - accuracy: 1.0000 - val_loss: 0.2772 - val_accuracy: 0.9660\n",
            "Epoch 173/200\n",
            "11/11 [==============================] - 2s 140ms/step - loss: 6.3905e-06 - accuracy: 1.0000 - val_loss: 0.2800 - val_accuracy: 0.9592\n",
            "Epoch 174/200\n",
            "11/11 [==============================] - 2s 138ms/step - loss: 3.6987e-05 - accuracy: 1.0000 - val_loss: 0.2768 - val_accuracy: 0.9592\n",
            "Epoch 175/200\n",
            "11/11 [==============================] - 2s 140ms/step - loss: 1.2525e-05 - accuracy: 1.0000 - val_loss: 0.2636 - val_accuracy: 0.9592\n",
            "Epoch 176/200\n",
            "11/11 [==============================] - 2s 140ms/step - loss: 5.8657e-05 - accuracy: 1.0000 - val_loss: 0.2697 - val_accuracy: 0.9728\n",
            "Epoch 177/200\n",
            "11/11 [==============================] - 2s 138ms/step - loss: 3.2287e-05 - accuracy: 1.0000 - val_loss: 0.4419 - val_accuracy: 0.9320\n",
            "Epoch 178/200\n",
            "11/11 [==============================] - 2s 141ms/step - loss: 6.3663e-05 - accuracy: 1.0000 - val_loss: 0.5397 - val_accuracy: 0.9184\n",
            "Epoch 179/200\n",
            "11/11 [==============================] - 2s 139ms/step - loss: 1.7071e-05 - accuracy: 1.0000 - val_loss: 0.5925 - val_accuracy: 0.9048\n",
            "Epoch 180/200\n",
            "11/11 [==============================] - 1s 136ms/step - loss: 3.4551e-05 - accuracy: 1.0000 - val_loss: 0.4469 - val_accuracy: 0.9320\n",
            "Epoch 181/200\n",
            "11/11 [==============================] - 2s 140ms/step - loss: 1.9290e-05 - accuracy: 1.0000 - val_loss: 0.3336 - val_accuracy: 0.9456\n",
            "Epoch 182/200\n",
            "11/11 [==============================] - 1s 136ms/step - loss: 1.2543e-05 - accuracy: 1.0000 - val_loss: 0.2815 - val_accuracy: 0.9592\n",
            "Epoch 183/200\n",
            "11/11 [==============================] - 2s 139ms/step - loss: 9.4399e-06 - accuracy: 1.0000 - val_loss: 0.2442 - val_accuracy: 0.9728\n",
            "Epoch 184/200\n",
            "11/11 [==============================] - 2s 139ms/step - loss: 3.1905e-05 - accuracy: 1.0000 - val_loss: 0.2333 - val_accuracy: 0.9728\n",
            "Epoch 185/200\n",
            "11/11 [==============================] - 2s 142ms/step - loss: 3.5898e-05 - accuracy: 1.0000 - val_loss: 0.2364 - val_accuracy: 0.9728\n",
            "Epoch 186/200\n",
            "11/11 [==============================] - 2s 142ms/step - loss: 2.6945e-05 - accuracy: 1.0000 - val_loss: 0.2440 - val_accuracy: 0.9728\n",
            "Epoch 187/200\n",
            "11/11 [==============================] - 1s 137ms/step - loss: 4.5044e-05 - accuracy: 1.0000 - val_loss: 0.2518 - val_accuracy: 0.9660\n",
            "Epoch 188/200\n",
            "11/11 [==============================] - 1s 137ms/step - loss: 1.4849e-05 - accuracy: 1.0000 - val_loss: 0.2495 - val_accuracy: 0.9660\n",
            "Epoch 189/200\n",
            "11/11 [==============================] - 1s 137ms/step - loss: 4.8553e-06 - accuracy: 1.0000 - val_loss: 0.2439 - val_accuracy: 0.9660\n",
            "Epoch 190/200\n",
            "11/11 [==============================] - 1s 136ms/step - loss: 2.4908e-05 - accuracy: 1.0000 - val_loss: 0.2440 - val_accuracy: 0.9660\n",
            "Epoch 191/200\n",
            "11/11 [==============================] - 1s 136ms/step - loss: 2.2974e-05 - accuracy: 1.0000 - val_loss: 0.2415 - val_accuracy: 0.9660\n",
            "Epoch 192/200\n",
            "11/11 [==============================] - 2s 138ms/step - loss: 1.5351e-05 - accuracy: 1.0000 - val_loss: 0.2368 - val_accuracy: 0.9728\n",
            "Epoch 193/200\n",
            "11/11 [==============================] - 2s 139ms/step - loss: 4.1677e-06 - accuracy: 1.0000 - val_loss: 0.2425 - val_accuracy: 0.9728\n",
            "Epoch 194/200\n",
            "11/11 [==============================] - 2s 137ms/step - loss: 2.9096e-05 - accuracy: 1.0000 - val_loss: 0.2442 - val_accuracy: 0.9728\n",
            "Epoch 195/200\n",
            "11/11 [==============================] - 2s 139ms/step - loss: 5.1783e-05 - accuracy: 1.0000 - val_loss: 0.2263 - val_accuracy: 0.9728\n",
            "Epoch 196/200\n",
            "11/11 [==============================] - 1s 137ms/step - loss: 9.4005e-06 - accuracy: 1.0000 - val_loss: 0.2205 - val_accuracy: 0.9728\n",
            "Epoch 197/200\n",
            "11/11 [==============================] - 2s 143ms/step - loss: 6.9699e-05 - accuracy: 1.0000 - val_loss: 0.2316 - val_accuracy: 0.9728\n",
            "Epoch 198/200\n",
            "11/11 [==============================] - 2s 140ms/step - loss: 9.9825e-06 - accuracy: 1.0000 - val_loss: 0.2403 - val_accuracy: 0.9728\n",
            "Epoch 199/200\n",
            "11/11 [==============================] - 2s 145ms/step - loss: 5.1927e-05 - accuracy: 1.0000 - val_loss: 0.2673 - val_accuracy: 0.9456\n",
            "Epoch 200/200\n",
            "11/11 [==============================] - 2s 140ms/step - loss: 3.2717e-05 - accuracy: 1.0000 - val_loss: 0.2921 - val_accuracy: 0.9456\n"
          ]
        }
      ]
    },
    {
      "cell_type": "code",
      "metadata": {
        "id": "cSTlOSUBWMpj"
      },
      "source": [
        "Y_test = yback(Y_test)"
      ],
      "execution_count": null,
      "outputs": []
    },
    {
      "cell_type": "code",
      "metadata": {
        "id": "s2Q1QDQTGqqV"
      },
      "source": [
        "pred_test= model.predict(X_test)\n",
        "Rows, Cols = pred_test.shape\n",
        "Prediction =[]\n",
        "for i in range(Rows):\n",
        "  if(pred_test[0,0] > pred_test[0,1]):\n",
        "    Prediction.append(0)\n",
        "  else:\n",
        "    Prediction.append(1)"
      ],
      "execution_count": null,
      "outputs": []
    },
    {
      "cell_type": "code",
      "metadata": {
        "id": "xaBx_Qdz5PIZ",
        "colab": {
          "base_uri": "https://localhost:8080/"
        },
        "outputId": "c9ed1984-b3c0-476f-924f-61a4eb73b212"
      },
      "source": [
        "# pred_test= model.predict_classes(X_test)\n",
        "pred_test = np.argmax(model.predict(X_test), axis=-1)\n",
        "\n",
        "data = {'y_true': Y_test,'y_predict': pred_test}  # este dado esta no formato de dicionario\n",
        "\n",
        "df = pd.DataFrame(data, columns=['y_true','y_predict'])\n",
        "\n",
        "\n",
        "confusion_matrix = pd.crosstab(df['y_true'], df['y_predict'], rownames=['Actual'], colnames=['Predict'])\n",
        "print(confusion_matrix)\n",
        "\n",
        "y_true = df['y_true']\n",
        "y_pred = df['y_predict']\n",
        "\n",
        "  \n",
        "METRICS=sklearn.metrics.classification_report(y_true, y_pred)"
      ],
      "execution_count": null,
      "outputs": [
        {
          "output_type": "stream",
          "name": "stdout",
          "text": [
            "Predict   0   1\n",
            "Actual         \n",
            "0        65   7\n",
            "1         1  74\n"
          ]
        }
      ]
    },
    {
      "cell_type": "code",
      "metadata": {
        "id": "oXognw8S5VLf",
        "colab": {
          "base_uri": "https://localhost:8080/"
        },
        "outputId": "0acc5ed6-9826-4499-fbab-fe23c8f0bbb0"
      },
      "source": [
        "print(METRICS)"
      ],
      "execution_count": null,
      "outputs": [
        {
          "output_type": "stream",
          "name": "stdout",
          "text": [
            "              precision    recall  f1-score   support\n",
            "\n",
            "           0       0.98      0.90      0.94        72\n",
            "           1       0.91      0.99      0.95        75\n",
            "\n",
            "    accuracy                           0.95       147\n",
            "   macro avg       0.95      0.94      0.95       147\n",
            "weighted avg       0.95      0.95      0.95       147\n",
            "\n"
          ]
        }
      ]
    },
    {
      "cell_type": "code",
      "metadata": {
        "id": "_iFNNrlWV9tH"
      },
      "source": [
        "#pred_test"
      ],
      "execution_count": null,
      "outputs": []
    },
    {
      "cell_type": "code",
      "metadata": {
        "id": "Y2_t9FpLG42n",
        "colab": {
          "base_uri": "https://localhost:8080/"
        },
        "outputId": "ee162dd2-e47a-4299-dc85-6dc326469cd3"
      },
      "source": [
        "cont = 0; num =25\n",
        "img_graos = []\n",
        "Width_new = []\n",
        "img=ww[9] \n",
        "while( cont < num):\n",
        "  df=Segmenta(img)\n",
        "  df_ann =df.copy()\n",
        "  Width = df['Width']\n",
        "  del df_ann['Width']\n",
        "  result = np.array(df_ann)\n",
        "  result = result.reshape(-1, Img_Size, Img_Size, 1) / 255.0\n",
        "  prediction_02 = model.predict(result)\n",
        "  Rows, Cols = prediction_02.shape\n",
        "  Prediction =[]\n",
        "  for i in range(Rows):\n",
        "    if(prediction_02[0,0] > prediction_02[0,1]):\n",
        "      Prediction.append(0)\n",
        "    else:\n",
        "      Prediction.append(1)\n",
        "  loc_grao =[];k=0\n",
        "  for i in Prediction:\n",
        "    if( i == 0):\n",
        "      img_graos.append(df.iloc[k,:])\n",
        "      Width_new.append(Width.iloc[k])\n",
        "      cont = cont + 1\n",
        "    k = k +1\n",
        "img_graos = pd.DataFrame(img_graos)\n",
        "print(img_graos)"
      ],
      "execution_count": null,
      "outputs": [
        {
          "output_type": "stream",
          "name": "stdout",
          "text": [
            "    Width           0           1  ...         781         782         783\n",
            "0   188.0   98.318245   99.374825  ...   53.462654   67.958801   82.128113\n",
            "1   145.0   65.560616   70.889793  ...   53.045662   70.018593   77.044991\n",
            "2   189.0  111.385460  114.194794  ...   75.085052   75.459534   75.220848\n",
            "3   164.0   86.909569   82.128494  ...    0.000000    0.000000    0.000000\n",
            "4   166.0   95.134262   98.513275  ...    7.775584    6.851067    5.865147\n",
            "5   156.0   89.757401   92.889549  ...   59.771202   57.485207   39.226826\n",
            "6   115.0   39.888920   36.254742  ...   40.702530   41.733986   46.967560\n",
            "7   141.0   52.365925   47.905483  ...   65.215736   64.508224   76.216484\n",
            "8   154.0   73.008270   75.966949  ...    7.495868    8.000001    7.239670\n",
            "9   129.0   51.001141   52.398769  ...   63.580791   55.459408   51.397633\n",
            "10  102.0   79.969627   82.893898  ...   59.670898   78.835068   88.478287\n",
            "11  139.0   73.411781   77.809784  ...   85.644470   94.927681  113.201164\n",
            "12  159.0  102.823418  109.218338  ...   59.107391   58.121078   59.405365\n",
            "13  146.0   41.510605   40.942390  ...    1.516982    0.552449    0.420342\n",
            "14  101.0   93.123520   93.684441  ...    8.881090    8.911577    8.834526\n",
            "15  183.0   43.488998   42.044701  ...    6.233031    6.123592    6.414554\n",
            "16  166.0   94.184929   86.199432  ...   14.098852    6.479605    1.022500\n",
            "17  108.0   95.404663   98.028801  ...   52.174210   54.632370   57.998627\n",
            "18  166.0   44.168377   44.882275  ...   18.860212   14.495427    4.448396\n",
            "19  161.0  123.387527  131.489594  ...   55.712666   62.801517   61.655956\n",
            "20  110.0   67.698509   67.236359  ...   95.365616   95.323959   95.254547\n",
            "21  130.0   43.646866   43.022484  ...   85.371597   85.055862   84.294197\n",
            "22  173.0  108.206848   99.558586  ...   65.536728   68.386978   70.144806\n",
            "23  169.0   97.149780   96.669472  ...   78.132172   80.330269   76.607788\n",
            "24  147.0   52.598640   52.634922  ...   28.848074   18.764172    6.047619\n",
            "25  111.0  105.702866  108.745796  ...   48.087330   29.265644   27.469036\n",
            "26  174.0   61.127632   62.495316  ...   84.140060   88.242302   91.372444\n",
            "27  156.0    1.082840    1.566075  ...   91.466797   91.654175   95.203163\n",
            "28  118.0   40.427460   37.035908  ...   78.712723   77.058891   75.605850\n",
            "29  137.0   84.318031   93.860031  ...  131.199738  138.946350  142.836914\n",
            "30  110.0   66.176529   66.345123  ...    0.903471    0.254545    0.000000\n",
            "31  116.0   86.984543   85.558861  ...   24.003567   21.903687   21.476814\n",
            "32  102.0   96.567474   95.833153  ...   59.104965   53.244915   52.758942\n",
            "33  192.0  122.348076  112.123688  ...   50.577690   31.154945   74.091576\n",
            "34  113.0   78.576553   71.316154  ...   88.055450   87.576546   87.438721\n",
            "35  103.0   80.366859   81.400314  ...   13.821661   13.448675   14.113770\n",
            "36  107.0   95.642418   96.109184  ...   85.132935   86.011436   85.791855\n",
            "37  142.0   45.255901   47.343185  ...   89.239433   88.564171   89.571907\n",
            "38  168.0   92.555557   92.388893  ...   84.138893   94.972221  100.305557\n",
            "39  122.0   99.244553   98.526474  ...   70.135178   70.260139   70.071487\n",
            "40  173.0   70.226700   65.874268  ...   16.439405   11.328544    0.857496\n",
            "41  163.0   55.952618   69.921753  ...   62.099174   63.247887   59.432915\n",
            "42  150.0   48.222755   54.982220  ...   22.183468   20.352179   15.086044\n",
            "43  171.0   43.537804   52.599747  ...  113.615601  101.681000   47.571560\n",
            "44  111.0   71.952194   69.649788  ...   16.477072    6.861943    1.979709\n",
            "45  129.0   87.481216   88.031425  ...   74.123856   73.236160   75.593956\n",
            "46  128.0  102.236328  108.422852  ...   61.742188   58.141602   57.143555\n",
            "47  145.0   69.534790   71.478470  ...   14.409369   17.934555   15.168037\n",
            "48  193.0   46.412014   41.771240  ...   68.868690   55.800560   54.852612\n",
            "49  174.0   40.344437   52.255386  ...   48.820591   56.179161   68.809624\n",
            "\n",
            "[50 rows x 785 columns]\n"
          ]
        }
      ]
    },
    {
      "cell_type": "code",
      "metadata": {
        "id": "6LkA4vHp-f6_"
      },
      "source": [
        "Width=np.array(Width_new)"
      ],
      "execution_count": null,
      "outputs": []
    },
    {
      "cell_type": "code",
      "metadata": {
        "colab": {
          "base_uri": "https://localhost:8080/"
        },
        "id": "MjRbWgmX_LFH",
        "outputId": "f2706289-ac31-4871-a203-be1003d234c4"
      },
      "source": [
        "!git clone https://github.com/ucfilho/marquesgabi_paper_fev_2021\n",
        "%cd marquesgabi_paper_fev_2021\n",
        "\n",
        "from Get_PSDArea_New import PSDArea\n",
        "from histogram_fev_2021 import PSD\n",
        "from GetBetterSegm import GetBetter"
      ],
      "execution_count": null,
      "outputs": [
        {
          "output_type": "stream",
          "name": "stdout",
          "text": [
            "fatal: destination path 'marquesgabi_paper_fev_2021' already exists and is not an empty directory.\n",
            "/content/marquesgabi_fev_2020/Doutorado/MarquesGabi_Routines/MarquesGabi_Routines/marquesgabi_paper_fev_2021\n"
          ]
        }
      ]
    },
    {
      "cell_type": "code",
      "metadata": {
        "colab": {
          "base_uri": "https://localhost:8080/"
        },
        "id": "WAG_I6FwCvFr",
        "outputId": "30faeaea-1dcc-454b-acc8-724d4fadfb04"
      },
      "source": [
        "#!git clone https://github.com/ucfilho/marquesgabi_out_2020\n",
        "!git clone https://github.com/marquesgabi/Doutorado\n",
        "\n",
        "%cd Doutorado\n",
        "\n",
        "PSD_imageJ = 'Amostra8.csv' \n",
        "PSD_new = pd.read_csv(PSD_imageJ,sep=';')\n",
        "#encoding='utf8'\n",
        "print(PSD_new.head(3))"
      ],
      "execution_count": null,
      "outputs": [
        {
          "output_type": "stream",
          "name": "stdout",
          "text": [
            "fatal: destination path 'Doutorado' already exists and is not an empty directory.\n",
            "/content/marquesgabi_fev_2020/Doutorado/MarquesGabi_Routines/MarquesGabi_Routines/marquesgabi_paper_fev_2021/Doutorado\n",
            "   Unnamed: 0   Area\n",
            "0           1  0.807\n",
            "1           2  1.407\n",
            "2           3  1.177\n"
          ]
        }
      ]
    },
    {
      "cell_type": "code",
      "metadata": {
        "colab": {
          "base_uri": "https://localhost:8080/"
        },
        "id": "7tEPjIBnv_xM",
        "outputId": "34d9f828-ec00-4562-cabe-b0dc37b0af34"
      },
      "source": [
        "PSD_new.shape"
      ],
      "execution_count": null,
      "outputs": [
        {
          "output_type": "execute_result",
          "data": {
            "text/plain": [
              "(99, 2)"
            ]
          },
          "metadata": {},
          "execution_count": 27
        }
      ]
    },
    {
      "cell_type": "code",
      "metadata": {
        "id": "t_1WIM8w7poO"
      },
      "source": [
        "Area_All, Diameter_All=PSDArea(img_graos) "
      ],
      "execution_count": null,
      "outputs": []
    },
    {
      "cell_type": "code",
      "metadata": {
        "id": "nfagXc-Mv3oa"
      },
      "source": [
        ""
      ],
      "execution_count": null,
      "outputs": []
    },
    {
      "cell_type": "code",
      "metadata": {
        "colab": {
          "base_uri": "https://localhost:8080/",
          "height": 253
        },
        "id": "PekBHQOT_6CP",
        "outputId": "f85a7fed-365b-437a-d75b-12c894298b16"
      },
      "source": [
        "img_graos.head()"
      ],
      "execution_count": null,
      "outputs": [
        {
          "output_type": "execute_result",
          "data": {
            "text/html": [
              "<div>\n",
              "<style scoped>\n",
              "    .dataframe tbody tr th:only-of-type {\n",
              "        vertical-align: middle;\n",
              "    }\n",
              "\n",
              "    .dataframe tbody tr th {\n",
              "        vertical-align: top;\n",
              "    }\n",
              "\n",
              "    .dataframe thead th {\n",
              "        text-align: right;\n",
              "    }\n",
              "</style>\n",
              "<table border=\"1\" class=\"dataframe\">\n",
              "  <thead>\n",
              "    <tr style=\"text-align: right;\">\n",
              "      <th></th>\n",
              "      <th>Width</th>\n",
              "      <th>0</th>\n",
              "      <th>1</th>\n",
              "      <th>2</th>\n",
              "      <th>3</th>\n",
              "      <th>4</th>\n",
              "      <th>5</th>\n",
              "      <th>6</th>\n",
              "      <th>7</th>\n",
              "      <th>8</th>\n",
              "      <th>9</th>\n",
              "      <th>10</th>\n",
              "      <th>11</th>\n",
              "      <th>12</th>\n",
              "      <th>13</th>\n",
              "      <th>14</th>\n",
              "      <th>15</th>\n",
              "      <th>16</th>\n",
              "      <th>17</th>\n",
              "      <th>18</th>\n",
              "      <th>19</th>\n",
              "      <th>20</th>\n",
              "      <th>21</th>\n",
              "      <th>22</th>\n",
              "      <th>23</th>\n",
              "      <th>24</th>\n",
              "      <th>25</th>\n",
              "      <th>26</th>\n",
              "      <th>27</th>\n",
              "      <th>28</th>\n",
              "      <th>29</th>\n",
              "      <th>30</th>\n",
              "      <th>31</th>\n",
              "      <th>32</th>\n",
              "      <th>33</th>\n",
              "      <th>34</th>\n",
              "      <th>35</th>\n",
              "      <th>36</th>\n",
              "      <th>37</th>\n",
              "      <th>38</th>\n",
              "      <th>...</th>\n",
              "      <th>744</th>\n",
              "      <th>745</th>\n",
              "      <th>746</th>\n",
              "      <th>747</th>\n",
              "      <th>748</th>\n",
              "      <th>749</th>\n",
              "      <th>750</th>\n",
              "      <th>751</th>\n",
              "      <th>752</th>\n",
              "      <th>753</th>\n",
              "      <th>754</th>\n",
              "      <th>755</th>\n",
              "      <th>756</th>\n",
              "      <th>757</th>\n",
              "      <th>758</th>\n",
              "      <th>759</th>\n",
              "      <th>760</th>\n",
              "      <th>761</th>\n",
              "      <th>762</th>\n",
              "      <th>763</th>\n",
              "      <th>764</th>\n",
              "      <th>765</th>\n",
              "      <th>766</th>\n",
              "      <th>767</th>\n",
              "      <th>768</th>\n",
              "      <th>769</th>\n",
              "      <th>770</th>\n",
              "      <th>771</th>\n",
              "      <th>772</th>\n",
              "      <th>773</th>\n",
              "      <th>774</th>\n",
              "      <th>775</th>\n",
              "      <th>776</th>\n",
              "      <th>777</th>\n",
              "      <th>778</th>\n",
              "      <th>779</th>\n",
              "      <th>780</th>\n",
              "      <th>781</th>\n",
              "      <th>782</th>\n",
              "      <th>783</th>\n",
              "    </tr>\n",
              "  </thead>\n",
              "  <tbody>\n",
              "    <tr>\n",
              "      <th>0</th>\n",
              "      <td>188.0</td>\n",
              "      <td>98.318245</td>\n",
              "      <td>99.374825</td>\n",
              "      <td>103.311897</td>\n",
              "      <td>105.932091</td>\n",
              "      <td>101.731560</td>\n",
              "      <td>90.404251</td>\n",
              "      <td>87.218658</td>\n",
              "      <td>88.123123</td>\n",
              "      <td>88.928925</td>\n",
              "      <td>90.443184</td>\n",
              "      <td>85.645988</td>\n",
              "      <td>64.451340</td>\n",
              "      <td>68.864189</td>\n",
              "      <td>75.865997</td>\n",
              "      <td>86.578087</td>\n",
              "      <td>90.663193</td>\n",
              "      <td>89.795387</td>\n",
              "      <td>85.065636</td>\n",
              "      <td>87.244904</td>\n",
              "      <td>88.459488</td>\n",
              "      <td>88.003159</td>\n",
              "      <td>86.807602</td>\n",
              "      <td>90.261200</td>\n",
              "      <td>80.787682</td>\n",
              "      <td>40.846989</td>\n",
              "      <td>32.817112</td>\n",
              "      <td>68.426888</td>\n",
              "      <td>87.999092</td>\n",
              "      <td>96.479393</td>\n",
              "      <td>98.961967</td>\n",
              "      <td>103.949745</td>\n",
              "      <td>104.516525</td>\n",
              "      <td>99.822998</td>\n",
              "      <td>89.887276</td>\n",
              "      <td>87.267540</td>\n",
              "      <td>87.771835</td>\n",
              "      <td>88.439110</td>\n",
              "      <td>85.780891</td>\n",
              "      <td>73.576286</td>\n",
              "      <td>...</td>\n",
              "      <td>74.959702</td>\n",
              "      <td>75.572655</td>\n",
              "      <td>74.195564</td>\n",
              "      <td>68.704391</td>\n",
              "      <td>49.372112</td>\n",
              "      <td>44.365322</td>\n",
              "      <td>44.948391</td>\n",
              "      <td>45.149837</td>\n",
              "      <td>51.910820</td>\n",
              "      <td>60.794025</td>\n",
              "      <td>76.054779</td>\n",
              "      <td>84.884102</td>\n",
              "      <td>83.264832</td>\n",
              "      <td>83.081940</td>\n",
              "      <td>72.488457</td>\n",
              "      <td>59.027161</td>\n",
              "      <td>68.665009</td>\n",
              "      <td>76.915787</td>\n",
              "      <td>70.361244</td>\n",
              "      <td>67.969215</td>\n",
              "      <td>68.771393</td>\n",
              "      <td>68.454956</td>\n",
              "      <td>68.056129</td>\n",
              "      <td>67.860123</td>\n",
              "      <td>70.527832</td>\n",
              "      <td>73.588043</td>\n",
              "      <td>74.556351</td>\n",
              "      <td>76.543686</td>\n",
              "      <td>77.313255</td>\n",
              "      <td>78.041191</td>\n",
              "      <td>77.890457</td>\n",
              "      <td>75.388405</td>\n",
              "      <td>64.474419</td>\n",
              "      <td>49.703484</td>\n",
              "      <td>40.362610</td>\n",
              "      <td>44.953369</td>\n",
              "      <td>48.988228</td>\n",
              "      <td>53.462654</td>\n",
              "      <td>67.958801</td>\n",
              "      <td>82.128113</td>\n",
              "    </tr>\n",
              "    <tr>\n",
              "      <th>1</th>\n",
              "      <td>145.0</td>\n",
              "      <td>65.560616</td>\n",
              "      <td>70.889793</td>\n",
              "      <td>53.308060</td>\n",
              "      <td>43.941593</td>\n",
              "      <td>39.856266</td>\n",
              "      <td>13.350297</td>\n",
              "      <td>1.976457</td>\n",
              "      <td>0.969370</td>\n",
              "      <td>1.043948</td>\n",
              "      <td>0.648514</td>\n",
              "      <td>0.897123</td>\n",
              "      <td>1.722045</td>\n",
              "      <td>9.715291</td>\n",
              "      <td>31.313578</td>\n",
              "      <td>44.374935</td>\n",
              "      <td>51.882473</td>\n",
              "      <td>56.014034</td>\n",
              "      <td>56.096123</td>\n",
              "      <td>60.742783</td>\n",
              "      <td>69.548210</td>\n",
              "      <td>64.710915</td>\n",
              "      <td>45.873821</td>\n",
              "      <td>49.022732</td>\n",
              "      <td>52.877094</td>\n",
              "      <td>55.563046</td>\n",
              "      <td>55.949539</td>\n",
              "      <td>55.381638</td>\n",
              "      <td>50.627586</td>\n",
              "      <td>53.479385</td>\n",
              "      <td>51.053604</td>\n",
              "      <td>51.132366</td>\n",
              "      <td>52.277954</td>\n",
              "      <td>49.001377</td>\n",
              "      <td>36.263783</td>\n",
              "      <td>7.909393</td>\n",
              "      <td>1.996908</td>\n",
              "      <td>1.567991</td>\n",
              "      <td>1.084851</td>\n",
              "      <td>2.490178</td>\n",
              "      <td>...</td>\n",
              "      <td>80.968468</td>\n",
              "      <td>86.951630</td>\n",
              "      <td>90.107025</td>\n",
              "      <td>87.537506</td>\n",
              "      <td>65.218079</td>\n",
              "      <td>36.177979</td>\n",
              "      <td>30.654791</td>\n",
              "      <td>34.630344</td>\n",
              "      <td>44.306347</td>\n",
              "      <td>67.506638</td>\n",
              "      <td>79.631821</td>\n",
              "      <td>85.907112</td>\n",
              "      <td>44.014793</td>\n",
              "      <td>66.637764</td>\n",
              "      <td>91.288132</td>\n",
              "      <td>99.702499</td>\n",
              "      <td>101.819740</td>\n",
              "      <td>95.142838</td>\n",
              "      <td>91.591293</td>\n",
              "      <td>93.479523</td>\n",
              "      <td>98.511673</td>\n",
              "      <td>100.193008</td>\n",
              "      <td>100.355438</td>\n",
              "      <td>94.782440</td>\n",
              "      <td>79.920715</td>\n",
              "      <td>73.061256</td>\n",
              "      <td>74.531502</td>\n",
              "      <td>76.514297</td>\n",
              "      <td>80.885422</td>\n",
              "      <td>85.084419</td>\n",
              "      <td>86.290039</td>\n",
              "      <td>75.125992</td>\n",
              "      <td>44.170845</td>\n",
              "      <td>33.952721</td>\n",
              "      <td>32.442570</td>\n",
              "      <td>35.787632</td>\n",
              "      <td>36.587063</td>\n",
              "      <td>53.045662</td>\n",
              "      <td>70.018593</td>\n",
              "      <td>77.044991</td>\n",
              "    </tr>\n",
              "    <tr>\n",
              "      <th>2</th>\n",
              "      <td>189.0</td>\n",
              "      <td>111.385460</td>\n",
              "      <td>114.194794</td>\n",
              "      <td>110.865570</td>\n",
              "      <td>99.899857</td>\n",
              "      <td>90.156380</td>\n",
              "      <td>90.279839</td>\n",
              "      <td>94.097397</td>\n",
              "      <td>96.154999</td>\n",
              "      <td>99.278473</td>\n",
              "      <td>102.770927</td>\n",
              "      <td>107.736626</td>\n",
              "      <td>113.500679</td>\n",
              "      <td>112.921806</td>\n",
              "      <td>113.220848</td>\n",
              "      <td>110.384087</td>\n",
              "      <td>103.237312</td>\n",
              "      <td>70.526749</td>\n",
              "      <td>60.573391</td>\n",
              "      <td>76.222229</td>\n",
              "      <td>89.736633</td>\n",
              "      <td>94.355278</td>\n",
              "      <td>93.718788</td>\n",
              "      <td>95.064476</td>\n",
              "      <td>96.565163</td>\n",
              "      <td>101.417007</td>\n",
              "      <td>100.530869</td>\n",
              "      <td>97.807961</td>\n",
              "      <td>95.832657</td>\n",
              "      <td>111.593956</td>\n",
              "      <td>115.506172</td>\n",
              "      <td>110.906723</td>\n",
              "      <td>99.381340</td>\n",
              "      <td>93.528122</td>\n",
              "      <td>93.514397</td>\n",
              "      <td>95.238678</td>\n",
              "      <td>94.969826</td>\n",
              "      <td>96.603569</td>\n",
              "      <td>98.740746</td>\n",
              "      <td>100.466393</td>\n",
              "      <td>...</td>\n",
              "      <td>74.827164</td>\n",
              "      <td>74.780525</td>\n",
              "      <td>76.231827</td>\n",
              "      <td>75.345688</td>\n",
              "      <td>73.425240</td>\n",
              "      <td>73.126205</td>\n",
              "      <td>73.475998</td>\n",
              "      <td>76.290817</td>\n",
              "      <td>75.611794</td>\n",
              "      <td>72.528130</td>\n",
              "      <td>71.851845</td>\n",
              "      <td>71.322357</td>\n",
              "      <td>69.864197</td>\n",
              "      <td>42.953362</td>\n",
              "      <td>100.267494</td>\n",
              "      <td>116.604942</td>\n",
              "      <td>115.879288</td>\n",
              "      <td>108.348427</td>\n",
              "      <td>102.888893</td>\n",
              "      <td>107.665298</td>\n",
              "      <td>113.052124</td>\n",
              "      <td>119.128952</td>\n",
              "      <td>130.152283</td>\n",
              "      <td>134.879288</td>\n",
              "      <td>129.068588</td>\n",
              "      <td>95.285324</td>\n",
              "      <td>77.390945</td>\n",
              "      <td>79.434837</td>\n",
              "      <td>79.932785</td>\n",
              "      <td>77.427994</td>\n",
              "      <td>77.016472</td>\n",
              "      <td>76.838135</td>\n",
              "      <td>74.761322</td>\n",
              "      <td>73.908096</td>\n",
              "      <td>74.203026</td>\n",
              "      <td>81.050751</td>\n",
              "      <td>82.898499</td>\n",
              "      <td>75.085052</td>\n",
              "      <td>75.459534</td>\n",
              "      <td>75.220848</td>\n",
              "    </tr>\n",
              "    <tr>\n",
              "      <th>3</th>\n",
              "      <td>164.0</td>\n",
              "      <td>86.909569</td>\n",
              "      <td>82.128494</td>\n",
              "      <td>73.444382</td>\n",
              "      <td>66.050568</td>\n",
              "      <td>60.384293</td>\n",
              "      <td>57.346222</td>\n",
              "      <td>55.662109</td>\n",
              "      <td>54.424747</td>\n",
              "      <td>57.348602</td>\n",
              "      <td>58.252232</td>\n",
              "      <td>56.976204</td>\n",
              "      <td>82.762047</td>\n",
              "      <td>72.390839</td>\n",
              "      <td>72.641289</td>\n",
              "      <td>74.140984</td>\n",
              "      <td>74.279007</td>\n",
              "      <td>71.197502</td>\n",
              "      <td>85.914932</td>\n",
              "      <td>114.483055</td>\n",
              "      <td>115.575256</td>\n",
              "      <td>113.910172</td>\n",
              "      <td>105.620461</td>\n",
              "      <td>99.374176</td>\n",
              "      <td>85.618080</td>\n",
              "      <td>80.437836</td>\n",
              "      <td>79.014275</td>\n",
              "      <td>82.047585</td>\n",
              "      <td>74.555626</td>\n",
              "      <td>86.305176</td>\n",
              "      <td>84.212372</td>\n",
              "      <td>78.269478</td>\n",
              "      <td>67.907791</td>\n",
              "      <td>63.407497</td>\n",
              "      <td>57.288525</td>\n",
              "      <td>54.916115</td>\n",
              "      <td>54.607967</td>\n",
              "      <td>56.309341</td>\n",
              "      <td>58.049969</td>\n",
              "      <td>59.776329</td>\n",
              "      <td>...</td>\n",
              "      <td>1.803093</td>\n",
              "      <td>0.687091</td>\n",
              "      <td>0.593099</td>\n",
              "      <td>0.575253</td>\n",
              "      <td>0.926234</td>\n",
              "      <td>0.834027</td>\n",
              "      <td>1.318263</td>\n",
              "      <td>0.778703</td>\n",
              "      <td>0.192148</td>\n",
              "      <td>0.049970</td>\n",
              "      <td>0.000000</td>\n",
              "      <td>0.000000</td>\n",
              "      <td>0.024985</td>\n",
              "      <td>0.124926</td>\n",
              "      <td>0.000000</td>\n",
              "      <td>0.000000</td>\n",
              "      <td>0.000000</td>\n",
              "      <td>0.037478</td>\n",
              "      <td>1.116002</td>\n",
              "      <td>0.541344</td>\n",
              "      <td>0.145747</td>\n",
              "      <td>0.000000</td>\n",
              "      <td>0.195717</td>\n",
              "      <td>0.262344</td>\n",
              "      <td>0.511600</td>\n",
              "      <td>1.474717</td>\n",
              "      <td>1.891731</td>\n",
              "      <td>1.050565</td>\n",
              "      <td>0.547293</td>\n",
              "      <td>0.000000</td>\n",
              "      <td>0.000000</td>\n",
              "      <td>0.586556</td>\n",
              "      <td>0.292088</td>\n",
              "      <td>0.000000</td>\n",
              "      <td>0.654967</td>\n",
              "      <td>0.781678</td>\n",
              "      <td>0.012493</td>\n",
              "      <td>0.000000</td>\n",
              "      <td>0.000000</td>\n",
              "      <td>0.000000</td>\n",
              "    </tr>\n",
              "    <tr>\n",
              "      <th>4</th>\n",
              "      <td>166.0</td>\n",
              "      <td>95.134262</td>\n",
              "      <td>98.513275</td>\n",
              "      <td>103.265778</td>\n",
              "      <td>131.222229</td>\n",
              "      <td>146.591064</td>\n",
              "      <td>149.519516</td>\n",
              "      <td>155.112915</td>\n",
              "      <td>159.356506</td>\n",
              "      <td>85.773399</td>\n",
              "      <td>19.975468</td>\n",
              "      <td>34.362606</td>\n",
              "      <td>43.219040</td>\n",
              "      <td>44.695457</td>\n",
              "      <td>49.591663</td>\n",
              "      <td>61.265926</td>\n",
              "      <td>71.154160</td>\n",
              "      <td>88.337349</td>\n",
              "      <td>97.902153</td>\n",
              "      <td>100.744370</td>\n",
              "      <td>96.273460</td>\n",
              "      <td>94.613007</td>\n",
              "      <td>92.186523</td>\n",
              "      <td>63.792416</td>\n",
              "      <td>44.085350</td>\n",
              "      <td>47.240089</td>\n",
              "      <td>47.921173</td>\n",
              "      <td>45.656696</td>\n",
              "      <td>43.898243</td>\n",
              "      <td>98.844238</td>\n",
              "      <td>100.524887</td>\n",
              "      <td>107.454201</td>\n",
              "      <td>122.188408</td>\n",
              "      <td>134.806793</td>\n",
              "      <td>141.999420</td>\n",
              "      <td>148.113953</td>\n",
              "      <td>155.927841</td>\n",
              "      <td>118.215546</td>\n",
              "      <td>28.559292</td>\n",
              "      <td>50.267670</td>\n",
              "      <td>...</td>\n",
              "      <td>0.737553</td>\n",
              "      <td>0.806648</td>\n",
              "      <td>0.507911</td>\n",
              "      <td>0.346204</td>\n",
              "      <td>0.659457</td>\n",
              "      <td>0.698940</td>\n",
              "      <td>0.855422</td>\n",
              "      <td>0.829874</td>\n",
              "      <td>1.218174</td>\n",
              "      <td>4.265931</td>\n",
              "      <td>2.513427</td>\n",
              "      <td>0.772100</td>\n",
              "      <td>7.324285</td>\n",
              "      <td>6.552039</td>\n",
              "      <td>6.777617</td>\n",
              "      <td>6.980838</td>\n",
              "      <td>6.751197</td>\n",
              "      <td>6.692263</td>\n",
              "      <td>6.696327</td>\n",
              "      <td>6.936130</td>\n",
              "      <td>6.404412</td>\n",
              "      <td>6.758600</td>\n",
              "      <td>6.617070</td>\n",
              "      <td>6.454493</td>\n",
              "      <td>6.629264</td>\n",
              "      <td>6.649587</td>\n",
              "      <td>6.259398</td>\n",
              "      <td>5.983016</td>\n",
              "      <td>6.052112</td>\n",
              "      <td>6.165916</td>\n",
              "      <td>6.117143</td>\n",
              "      <td>6.055305</td>\n",
              "      <td>6.307011</td>\n",
              "      <td>5.783858</td>\n",
              "      <td>5.718827</td>\n",
              "      <td>5.958630</td>\n",
              "      <td>6.226448</td>\n",
              "      <td>7.775584</td>\n",
              "      <td>6.851067</td>\n",
              "      <td>5.865147</td>\n",
              "    </tr>\n",
              "  </tbody>\n",
              "</table>\n",
              "<p>5 rows × 785 columns</p>\n",
              "</div>"
            ],
            "text/plain": [
              "   Width           0           1  ...        781        782        783\n",
              "0  188.0   98.318245   99.374825  ...  53.462654  67.958801  82.128113\n",
              "1  145.0   65.560616   70.889793  ...  53.045662  70.018593  77.044991\n",
              "2  189.0  111.385460  114.194794  ...  75.085052  75.459534  75.220848\n",
              "3  164.0   86.909569   82.128494  ...   0.000000   0.000000   0.000000\n",
              "4  166.0   95.134262   98.513275  ...   7.775584   6.851067   5.865147\n",
              "\n",
              "[5 rows x 785 columns]"
            ]
          },
          "metadata": {},
          "execution_count": 29
        }
      ]
    },
    {
      "cell_type": "code",
      "metadata": {
        "colab": {
          "base_uri": "https://localhost:8080/",
          "height": 204
        },
        "id": "VaZPe_AxNBK9",
        "outputId": "7d523369-efb8-4547-bb80-ad53bdef6fc2"
      },
      "source": [
        "PSD_new.head()"
      ],
      "execution_count": null,
      "outputs": [
        {
          "output_type": "execute_result",
          "data": {
            "text/html": [
              "<div>\n",
              "<style scoped>\n",
              "    .dataframe tbody tr th:only-of-type {\n",
              "        vertical-align: middle;\n",
              "    }\n",
              "\n",
              "    .dataframe tbody tr th {\n",
              "        vertical-align: top;\n",
              "    }\n",
              "\n",
              "    .dataframe thead th {\n",
              "        text-align: right;\n",
              "    }\n",
              "</style>\n",
              "<table border=\"1\" class=\"dataframe\">\n",
              "  <thead>\n",
              "    <tr style=\"text-align: right;\">\n",
              "      <th></th>\n",
              "      <th>Unnamed: 0</th>\n",
              "      <th>Area</th>\n",
              "    </tr>\n",
              "  </thead>\n",
              "  <tbody>\n",
              "    <tr>\n",
              "      <th>0</th>\n",
              "      <td>1</td>\n",
              "      <td>0.807</td>\n",
              "    </tr>\n",
              "    <tr>\n",
              "      <th>1</th>\n",
              "      <td>2</td>\n",
              "      <td>1.407</td>\n",
              "    </tr>\n",
              "    <tr>\n",
              "      <th>2</th>\n",
              "      <td>3</td>\n",
              "      <td>1.177</td>\n",
              "    </tr>\n",
              "    <tr>\n",
              "      <th>3</th>\n",
              "      <td>4</td>\n",
              "      <td>1.289</td>\n",
              "    </tr>\n",
              "    <tr>\n",
              "      <th>4</th>\n",
              "      <td>5</td>\n",
              "      <td>1.743</td>\n",
              "    </tr>\n",
              "  </tbody>\n",
              "</table>\n",
              "</div>"
            ],
            "text/plain": [
              "   Unnamed: 0   Area\n",
              "0           1  0.807\n",
              "1           2  1.407\n",
              "2           3  1.177\n",
              "3           4  1.289\n",
              "4           5  1.743"
            ]
          },
          "metadata": {},
          "execution_count": 30
        }
      ]
    },
    {
      "cell_type": "code",
      "metadata": {
        "id": "dExnOsslHrab"
      },
      "source": [
        "#lost_value = float(PSD_new.columns[1])\n",
        "\n",
        "# Area = np.array(PSD_new.iloc[:,1])\n",
        "Area = PSD_new['Area'].values\n",
        "# Area = np.concatenate( (Area, [lost_value] ) )\n",
        "# Area = np.concatenate( (Area, [lost_value] ) )\n",
        "diam_teste = []\n",
        "for A in Area:\n",
        "  diam_teste.append((4*A/np.pi)**0.5) \n",
        "\n",
        "Diam1 = [ (4*A/np.pi)**0.5 for A in Area]"
      ],
      "execution_count": null,
      "outputs": []
    },
    {
      "cell_type": "code",
      "metadata": {
        "id": "P8IJgjcFLssj",
        "colab": {
          "base_uri": "https://localhost:8080/",
          "height": 419
        },
        "outputId": "a7759692-eefa-4142-a5b9-3614647fb5b8"
      },
      "source": [
        "PSD_new"
      ],
      "execution_count": null,
      "outputs": [
        {
          "output_type": "execute_result",
          "data": {
            "text/html": [
              "<div>\n",
              "<style scoped>\n",
              "    .dataframe tbody tr th:only-of-type {\n",
              "        vertical-align: middle;\n",
              "    }\n",
              "\n",
              "    .dataframe tbody tr th {\n",
              "        vertical-align: top;\n",
              "    }\n",
              "\n",
              "    .dataframe thead th {\n",
              "        text-align: right;\n",
              "    }\n",
              "</style>\n",
              "<table border=\"1\" class=\"dataframe\">\n",
              "  <thead>\n",
              "    <tr style=\"text-align: right;\">\n",
              "      <th></th>\n",
              "      <th>Unnamed: 0</th>\n",
              "      <th>Area</th>\n",
              "    </tr>\n",
              "  </thead>\n",
              "  <tbody>\n",
              "    <tr>\n",
              "      <th>0</th>\n",
              "      <td>1</td>\n",
              "      <td>0.807</td>\n",
              "    </tr>\n",
              "    <tr>\n",
              "      <th>1</th>\n",
              "      <td>2</td>\n",
              "      <td>1.407</td>\n",
              "    </tr>\n",
              "    <tr>\n",
              "      <th>2</th>\n",
              "      <td>3</td>\n",
              "      <td>1.177</td>\n",
              "    </tr>\n",
              "    <tr>\n",
              "      <th>3</th>\n",
              "      <td>4</td>\n",
              "      <td>1.289</td>\n",
              "    </tr>\n",
              "    <tr>\n",
              "      <th>4</th>\n",
              "      <td>5</td>\n",
              "      <td>1.743</td>\n",
              "    </tr>\n",
              "    <tr>\n",
              "      <th>...</th>\n",
              "      <td>...</td>\n",
              "      <td>...</td>\n",
              "    </tr>\n",
              "    <tr>\n",
              "      <th>94</th>\n",
              "      <td>28</td>\n",
              "      <td>2.097</td>\n",
              "    </tr>\n",
              "    <tr>\n",
              "      <th>95</th>\n",
              "      <td>29</td>\n",
              "      <td>1.871</td>\n",
              "    </tr>\n",
              "    <tr>\n",
              "      <th>96</th>\n",
              "      <td>30</td>\n",
              "      <td>1.315</td>\n",
              "    </tr>\n",
              "    <tr>\n",
              "      <th>97</th>\n",
              "      <td>31</td>\n",
              "      <td>1.034</td>\n",
              "    </tr>\n",
              "    <tr>\n",
              "      <th>98</th>\n",
              "      <td>32</td>\n",
              "      <td>2.095</td>\n",
              "    </tr>\n",
              "  </tbody>\n",
              "</table>\n",
              "<p>99 rows × 2 columns</p>\n",
              "</div>"
            ],
            "text/plain": [
              "    Unnamed: 0   Area\n",
              "0            1  0.807\n",
              "1            2  1.407\n",
              "2            3  1.177\n",
              "3            4  1.289\n",
              "4            5  1.743\n",
              "..         ...    ...\n",
              "94          28  2.097\n",
              "95          29  1.871\n",
              "96          30  1.315\n",
              "97          31  1.034\n",
              "98          32  2.095\n",
              "\n",
              "[99 rows x 2 columns]"
            ]
          },
          "metadata": {},
          "execution_count": 32
        }
      ]
    },
    {
      "cell_type": "code",
      "metadata": {
        "id": "t_sp1BcwKM9q",
        "colab": {
          "base_uri": "https://localhost:8080/"
        },
        "outputId": "efc341a0-2209-485b-ecfa-af400142cdb2"
      },
      "source": [
        "PSD_new.iloc[:,1].values"
      ],
      "execution_count": null,
      "outputs": [
        {
          "output_type": "execute_result",
          "data": {
            "text/plain": [
              "array([0.807, 1.407, 1.177, 1.289, 1.743, 1.425, 2.553, 0.968, 1.43 ,\n",
              "       0.722, 1.235, 1.058, 1.342, 1.207, 1.682, 1.474, 1.997, 1.187,\n",
              "       2.082, 2.877, 1.386, 1.176, 0.96 , 1.147, 1.02 , 1.249, 1.704,\n",
              "       1.602, 1.303, 1.707, 2.264, 1.233, 0.84 , 1.105, 1.343, 0.811,\n",
              "       2.03 , 1.844, 2.266, 1.472, 1.009, 1.851, 0.941, 2.252, 1.269,\n",
              "       1.082, 1.065, 1.995, 2.063, 0.969, 1.389, 1.721, 1.355, 1.178,\n",
              "       1.529, 1.371, 1.423, 2.756, 0.854, 0.811, 0.69 , 1.752, 0.978,\n",
              "       1.108, 1.149, 0.994, 1.594, 1.492, 1.322, 1.564, 1.29 , 1.057,\n",
              "       1.193, 1.413, 1.477, 2.21 , 1.27 , 1.865, 1.088, 2.316, 1.855,\n",
              "       0.882, 1.587, 1.075, 2.179, 1.749, 0.957, 1.24 , 1.586, 2.507,\n",
              "       1.864, 1.281, 2.137, 1.282, 2.097, 1.871, 1.315, 1.034, 2.095])"
            ]
          },
          "metadata": {},
          "execution_count": 33
        }
      ]
    },
    {
      "cell_type": "code",
      "metadata": {
        "colab": {
          "base_uri": "https://localhost:8080/"
        },
        "id": "9J705kDqsE8f",
        "outputId": "8ae079ed-2de5-4277-cc8c-78a4594c14f9"
      },
      "source": [
        "X.shape"
      ],
      "execution_count": null,
      "outputs": [
        {
          "output_type": "execute_result",
          "data": {
            "text/plain": [
              "(490, 784)"
            ]
          },
          "metadata": {},
          "execution_count": 34
        }
      ]
    },
    {
      "cell_type": "code",
      "metadata": {
        "colab": {
          "base_uri": "https://localhost:8080/",
          "height": 282
        },
        "id": "mK1GBUHWiIr4",
        "outputId": "2050fb97-ed19-4261-e3b3-1974611cb86a"
      },
      "source": [
        "Freq = [10.52631579, 24.21052632, 36.84210526, 14.73684211,  7.36842105, 0.]\n",
        "Freq2 = [12.90153, 28.11527, 27.66761, 20.21617, 10.34227, 0.]\n",
        "Freq3 = [22.22489, 30.15078, 25.10463, 19.30926, 2.810434, 0.]\n",
        "barWidth = 0.25\n",
        "\n",
        "br1 = range(len(Freq))\n",
        "# Set position of bar on X axis\n",
        "br2 = [x + barWidth for x in br1]\n",
        "br3 = [x + barWidth for x in br2]\n",
        "labels = [0.8, 1.0, 1.2, 1.4, 1.6, 1.8]\n",
        "\n",
        "xx=[]\n",
        "for a in labels:\n",
        "  xx.append(str(a))\n",
        "plt.bar(br1, Freq , color=\"green\", align=\"center\", width=0.3, tick_label= xx) \n",
        "plt.bar(br2, Freq2 , color=\"red\", align=\"center\", width=0.3, tick_label= xx)\n",
        "plt.bar(br3, Freq3 , color=\"blue\", align=\"center\", width=0.3, tick_label= xx)"
      ],
      "execution_count": null,
      "outputs": [
        {
          "output_type": "execute_result",
          "data": {
            "text/plain": [
              "<BarContainer object of 6 artists>"
            ]
          },
          "metadata": {},
          "execution_count": 35
        },
        {
          "output_type": "display_data",
          "data": {
            "image/png": "[encoded data removed]",
            "text/plain": [
              "<Figure size 432x288 with 1 Axes>"
            ]
          },
          "metadata": {
            "needs_background": "light"
          }
        }
      ]
    },
    {
      "cell_type": "code",
      "metadata": {
        "id": "Vfk_fNXGDK5_",
        "colab": {
          "base_uri": "https://localhost:8080/",
          "height": 282
        },
        "outputId": "1565141f-0053-4926-e45a-e9c3133daaa7"
      },
      "source": [
        " wt1 = np.ones(len(Diam1)) / len(Diam1)*100\n",
        " wt2 = np.ones(len(Diameter_All)) / len(Diameter_All)*100\n",
        " X = pd.DataFrame([Diam1,Diameter_All])\n",
        " wts = pd.DataFrame([wt1,wt2])\n",
        "plt.hist(X,weights=wts)\n",
        "plt.legend(['Image J','CNN'])"
      ],
      "execution_count": null,
      "outputs": [
        {
          "output_type": "execute_result",
          "data": {
            "text/plain": [
              "<matplotlib.legend.Legend at 0x7f495a1dc9d0>"
            ]
          },
          "metadata": {},
          "execution_count": 36
        },
        {
          "output_type": "display_data",
          "data": {
            "image/png": "[encoded data removed]",
            "text/plain": [
              "<Figure size 432x288 with 1 Axes>"
            ]
          },
          "metadata": {
            "needs_background": "light"
          }
        }
      ]
    },
    {
      "cell_type": "code",
      "metadata": {
        "id": "-nGDbBEeiUij",
        "colab": {
          "base_uri": "https://localhost:8080/",
          "height": 401
        },
        "outputId": "9ad63e85-44fe-4ede-d8bb-ca4a11a5c191"
      },
      "source": [
        "# plt.hist(x, bins=bins, density=True, histtype='step', cumulative=-1,label='Reversed emp.')\n",
        "plt.hist(X, density=True, histtype='step', cumulative=True,label='Reversed emp.')"
      ],
      "execution_count": null,
      "outputs": [
        {
          "output_type": "execute_result",
          "data": {
            "text/plain": [
              "(array([[0.        , 0.01010101, 0.08080808, 0.25252525, 0.49494949,\n",
              "         0.68686869, 0.81818182, 0.90909091, 0.96969697, 1.        ],\n",
              "        [0.1       , 0.2       , 0.3       , 0.54      , 0.62      ,\n",
              "         0.8       , 0.88      , 0.98      , 1.        , 1.        ]]),\n",
              " array([0.7017412 , 0.82295961, 0.94417803, 1.06539644, 1.18661485,\n",
              "        1.30783327, 1.42905168, 1.55027009, 1.6714885 , 1.79270692,\n",
              "        1.91392533]),\n",
              " <a list of 2 Lists of Patches objects>)"
            ]
          },
          "metadata": {},
          "execution_count": 37
        },
        {
          "output_type": "display_data",
          "data": {
            "image/png": "[encoded data removed]",
            "text/plain": [
              "<Figure size 432x288 with 1 Axes>"
            ]
          },
          "metadata": {
            "needs_background": "light"
          }
        }
      ]
    },
    {
      "cell_type": "code",
      "metadata": {
        "id": "9xENlBUUxfTu",
        "colab": {
          "base_uri": "https://localhost:8080/",
          "height": 282
        },
        "outputId": "598815c8-7667-4d51-ded0-77442cbffd67"
      },
      "source": [
        "Obj = plt.hist(X, density=True, histtype='step', cumulative=True,label='Reversed emp.')\n",
        "Y1, Y2 = Obj[0]\n",
        "Rsquared = r2_score(Y1, Y2)\n",
        "print('r_squared =',Rsquared)"
      ],
      "execution_count": null,
      "outputs": [
        {
          "output_type": "stream",
          "name": "stdout",
          "text": [
            "r_squared = 0.8563327582326907\n"
          ]
        },
        {
          "output_type": "display_data",
          "data": {
            "image/png": "[encoded data removed]",
            "text/plain": [
              "<Figure size 432x288 with 1 Axes>"
            ]
          },
          "metadata": {
            "needs_background": "light"
          }
        }
      ]
    },
    {
      "cell_type": "code",
      "metadata": {
        "id": "O2XboMiFbkaa"
      },
      "source": [
        "acc_train = r.history['accuracy'][-1]\n",
        "acc_test = r.history['val_accuracy'][-1]\n",
        "loss_train = r.history['loss'][-1]\n",
        "loss_test = r.history['val_loss'][-1]"
      ],
      "execution_count": null,
      "outputs": []
    },
    {
      "cell_type": "code",
      "metadata": {
        "id": "euTd_-CYN1v0"
      },
      "source": [
        "df = pd.DataFrame({'N1':N1, 'N2':N2,'R^2':Rsquared,\n",
        "                   'acc train':acc_train,'acc test':acc_test,\n",
        "                   'loss train':loss_train,'loss test':loss_test,\n",
        "                   'Details':Description},\n",
        "                  index= [0])\n"
      ],
      "execution_count": null,
      "outputs": []
    },
    {
      "cell_type": "code",
      "metadata": {
        "id": "-KukfpGTTKlj",
        "colab": {
          "base_uri": "https://localhost:8080/",
          "height": 80
        },
        "outputId": "8ce1a3fe-706a-4b2b-bd8a-008bb90989ac"
      },
      "source": [
        "df"
      ],
      "execution_count": null,
      "outputs": [
        {
          "output_type": "execute_result",
          "data": {
            "text/html": [
              "<div>\n",
              "<style scoped>\n",
              "    .dataframe tbody tr th:only-of-type {\n",
              "        vertical-align: middle;\n",
              "    }\n",
              "\n",
              "    .dataframe tbody tr th {\n",
              "        vertical-align: top;\n",
              "    }\n",
              "\n",
              "    .dataframe thead th {\n",
              "        text-align: right;\n",
              "    }\n",
              "</style>\n",
              "<table border=\"1\" class=\"dataframe\">\n",
              "  <thead>\n",
              "    <tr style=\"text-align: right;\">\n",
              "      <th></th>\n",
              "      <th>N1</th>\n",
              "      <th>N2</th>\n",
              "      <th>R^2</th>\n",
              "      <th>acc train</th>\n",
              "      <th>acc test</th>\n",
              "      <th>loss train</th>\n",
              "      <th>loss test</th>\n",
              "      <th>Details</th>\n",
              "    </tr>\n",
              "  </thead>\n",
              "  <tbody>\n",
              "    <tr>\n",
              "      <th>0</th>\n",
              "      <td>20</td>\n",
              "      <td>20</td>\n",
              "      <td>0.856333</td>\n",
              "      <td>1.0</td>\n",
              "      <td>0.945578</td>\n",
              "      <td>0.000033</td>\n",
              "      <td>0.292139</td>\n",
              "      <td>3 layers of Convolution: 64, 128, 256</td>\n",
              "    </tr>\n",
              "  </tbody>\n",
              "</table>\n",
              "</div>"
            ],
            "text/plain": [
              "   N1  N2  ...  loss test                                 Details\n",
              "0  20  20  ...   0.292139  3 layers of Convolution: 64, 128, 256 \n",
              "\n",
              "[1 rows x 8 columns]"
            ]
          },
          "metadata": {},
          "execution_count": 41
        }
      ]
    },
    {
      "cell_type": "code",
      "metadata": {
        "id": "ZZHa1j4HT9Dq",
        "colab": {
          "base_uri": "https://localhost:8080/",
          "height": 384
        },
        "outputId": "243691f6-53a4-4a21-aefb-f84272195b6d"
      },
      "source": [
        "counts, bins, bars = plt.hist(X,weights=wts)\n",
        "print(bars)\n",
        "print(bins)\n",
        "print(counts)"
      ],
      "execution_count": null,
      "outputs": [
        {
          "output_type": "stream",
          "name": "stdout",
          "text": [
            "<a list of 2 Lists of Patches objects>\n",
            "[0.7017412  0.82295961 0.94417803 1.06539644 1.18661485 1.30783327\n",
            " 1.42905168 1.55027009 1.6714885  1.79270692 1.91392533]\n",
            "[[ 0.          1.01010101  7.07070707 17.17171717 24.24242424 19.19191919\n",
            "  13.13131313  9.09090909  6.06060606  3.03030303]\n",
            " [10.         10.         10.         24.          8.         18.\n",
            "   8.         10.          2.          0.        ]]\n"
          ]
        },
        {
          "output_type": "display_data",
          "data": {
            "image/png": "[encoded data removed]",
            "text/plain": [
              "<Figure size 432x288 with 1 Axes>"
            ]
          },
          "metadata": {
            "needs_background": "light"
          }
        }
      ]
    },
    {
      "cell_type": "code",
      "metadata": {
        "id": "8o_vDGeWUwIZ",
        "colab": {
          "base_uri": "https://localhost:8080/"
        },
        "outputId": "d5330756-4df7-45da-b425-f146402d508e"
      },
      "source": [
        "print(counts.sum())"
      ],
      "execution_count": null,
      "outputs": [
        {
          "output_type": "stream",
          "name": "stdout",
          "text": [
            "200.00000000000003\n"
          ]
        }
      ]
    },
    {
      "cell_type": "code",
      "metadata": {
        "id": "KcH52-6iJQ8t",
        "colab": {
          "base_uri": "https://localhost:8080/",
          "height": 339
        },
        "outputId": "09b72d5c-783c-4b01-f4cd-5255055ed068"
      },
      "source": [
        "\n",
        "plt.hist([Diam1,Diameter_All])\n",
        "plt.legend(['Image J','CNN'])\n"
      ],
      "execution_count": null,
      "outputs": [
        {
          "output_type": "stream",
          "name": "stderr",
          "text": [
            "/usr/local/lib/python3.7/dist-packages/numpy/core/_asarray.py:83: VisibleDeprecationWarning: Creating an ndarray from ragged nested sequences (which is a list-or-tuple of lists-or-tuples-or ndarrays with different lengths or shapes) is deprecated. If you meant to do this, you must specify 'dtype=object' when creating the ndarray\n",
            "  return array(a, dtype, copy=False, order=order)\n"
          ]
        },
        {
          "output_type": "execute_result",
          "data": {
            "text/plain": [
              "<matplotlib.legend.Legend at 0x7f495ecbc350>"
            ]
          },
          "metadata": {},
          "execution_count": 44
        },
        {
          "output_type": "display_data",
          "data": {
            "image/png": "[encoded data removed]",
            "text/plain": [
              "<Figure size 432x288 with 1 Axes>"
            ]
          },
          "metadata": {
            "needs_background": "light"
          }
        }
      ]
    },
    {
      "cell_type": "code",
      "metadata": {
        "id": "r11AxFK_JIii",
        "colab": {
          "base_uri": "https://localhost:8080/"
        },
        "outputId": "398afb23-488b-4572-dd29-5cdf6503e3e3"
      },
      "source": [
        "[Diam1,Diameter_All]"
      ],
      "execution_count": null,
      "outputs": [
        {
          "output_type": "execute_result",
          "data": {
            "text/plain": [
              "[[1.0136588738827657,\n",
              "  1.3384498643738487,\n",
              "  1.2241743928678164,\n",
              "  1.2810955363139882,\n",
              "  1.4897169283032898,\n",
              "  1.3469841688927182,\n",
              "  1.802936648279376,\n",
              "  1.1101783096888704,\n",
              "  1.349345229721172,\n",
              "  0.9587903583676608,\n",
              "  1.2539740179716348,\n",
              "  1.1606409601292735,\n",
              "  1.3071677279655385,\n",
              "  1.2396774300177211,\n",
              "  1.4634168627716928,\n",
              "  1.369947111730825,\n",
              "  1.5945718456175375,\n",
              "  1.2293637946517857,\n",
              "  1.6281537802488464,\n",
              "  1.9139253303624628,\n",
              "  1.3284238815238665,\n",
              "  1.2236542422631285,\n",
              "  1.1055812783082735,\n",
              "  1.2084724894722394,\n",
              "  1.1396070970426018,\n",
              "  1.2610615335399848,\n",
              "  1.4729562736988213,\n",
              "  1.428191076384995,\n",
              "  1.2880338220675407,\n",
              "  1.474252319944901,\n",
              "  1.697826354277848,\n",
              "  1.2529582429827641,\n",
              "  1.034176589165282,\n",
              "  1.1861406733319428,\n",
              "  1.3076546595257188,\n",
              "  1.016167934339702,\n",
              "  1.607692842495848,\n",
              "  1.5322707725763225,\n",
              "  1.6985761120332168,\n",
              "  1.3690173884396646,\n",
              "  1.1334454996327699,\n",
              "  1.5351763407845973,\n",
              "  1.09458595441189,\n",
              "  1.6933208363283037,\n",
              "  1.2711180048559307,\n",
              "  1.1737313097142148,\n",
              "  1.1644741796806608,\n",
              "  1.59377316194829,\n",
              "  1.6207076173044417,\n",
              "  1.110751600875899,\n",
              "  1.329860792578359,\n",
              "  1.480285532081299,\n",
              "  1.3134837582232015,\n",
              "  1.224694322554825,\n",
              "  1.3952717527062835,\n",
              "  1.3212158853994709,\n",
              "  1.3460385849440337,\n",
              "  1.8732453617425853,\n",
              "  1.0427591146587158,\n",
              "  1.016167934339702,\n",
              "  0.9373021315815206,\n",
              "  1.4935580612671222,\n",
              "  1.1158979678944616,\n",
              "  1.1877497276642752,\n",
              "  1.2095256247391792,\n",
              "  1.1249889365974903,\n",
              "  1.4246205931081612,\n",
              "  1.3782864001160509,\n",
              "  1.2973907191512837,\n",
              "  1.411150823960995,\n",
              "  1.2815923738491737,\n",
              "  1.1600923233885598,\n",
              "  1.2324669475767085,\n",
              "  1.341300666036808,\n",
              "  1.3713405148152793,\n",
              "  1.6774562271083886,\n",
              "  1.2716187407449044,\n",
              "  1.540971041561482,\n",
              "  1.1769811488175403,\n",
              "  1.7172136691765054,\n",
              "  1.5368341990871126,\n",
              "  1.0597156592484673,\n",
              "  1.4214890634453377,\n",
              "  1.169928421139644,\n",
              "  1.6656497134685673,\n",
              "  1.4922787821790537,\n",
              "  1.103852455861539,\n",
              "  1.2565098628628435,\n",
              "  1.4210411387253952,\n",
              "  1.7866201439172942,\n",
              "  1.540557857201846,\n",
              "  1.2771138777750963,\n",
              "  1.6495189926457479,\n",
              "  1.2776122636975893,\n",
              "  1.6340083614564633,\n",
              "  1.5434478249035466,\n",
              "  1.2939513133525307,\n",
              "  1.1474012764748687,\n",
              "  1.6332289631953525],\n",
              " [1.6086550211374127,\n",
              "  1.110100752846721,\n",
              "  1.5580653336891517,\n",
              "  1.4107393926920504,\n",
              "  1.4540098416280103,\n",
              "  1.2486297966052227,\n",
              "  0.8671623491913281,\n",
              "  1.0848434011318622,\n",
              "  1.1965000329364726,\n",
              "  1.1052780174499555,\n",
              "  0.7102495912547078,\n",
              "  1.1718509586283063,\n",
              "  1.323833206197312,\n",
              "  1.2901380654175743,\n",
              "  1.1160053879929468,\n",
              "  1.627141244610791,\n",
              "  1.3840549829712991,\n",
              "  0.7714105041892095,\n",
              "  1.4723461252141494,\n",
              "  1.3867542675009061,\n",
              "  0.9536686024835842,\n",
              "  1.115322335207429,\n",
              "  1.503741249317865,\n",
              "  1.3751095882232152,\n",
              "  1.1603886468770717,\n",
              "  0.8803094968855115,\n",
              "  1.369222273876494,\n",
              "  1.1803462122538706,\n",
              "  0.8460482235056181,\n",
              "  1.0312838312139385,\n",
              "  0.7017412002893867,\n",
              "  1.0798144673953693,\n",
              "  0.8504434232715212,\n",
              "  1.7239018924330483,\n",
              "  0.7789050217056768,\n",
              "  0.8442244375119513,\n",
              "  0.784421458905349,\n",
              "  1.1226697160520716,\n",
              "  1.4026907795228747,\n",
              "  1.015771390918692,\n",
              "  1.4979165356932955,\n",
              "  1.2866894519793382,\n",
              "  1.0936635290708756,\n",
              "  1.5971520547619693,\n",
              "  1.0192437900719176,\n",
              "  0.9710628775664093,\n",
              "  1.1437024334578527,\n",
              "  1.3633491000951037,\n",
              "  1.6337754487518619,\n",
              "  1.325465803151794]]"
            ]
          },
          "metadata": {},
          "execution_count": 45
        }
      ]
    },
    {
      "cell_type": "code",
      "metadata": {
        "id": "4xS7NSM92s_8",
        "colab": {
          "base_uri": "https://localhost:8080/",
          "height": 282
        },
        "outputId": "55a6cf5c-d35c-42df-d099-90d5f8caec22"
      },
      "source": [
        " bins_list = [0.8, 1.0, 1.2, 1.4,1.6, 1.8,2.0]\n",
        " wt1 = np.ones(len(Diam1)) / len(Diam1)*100\n",
        " wt2 = np.ones(len(Diameter_All)) / len(Diameter_All)*100\n",
        " X = pd.DataFrame([Diam1,Diameter_All])\n",
        " wts = pd.DataFrame([wt1,wt2])\n",
        "plt.hist(X,weights=wts,bins = bins_list)\n",
        "plt.legend(['Image J','CNN'])"
      ],
      "execution_count": null,
      "outputs": [
        {
          "output_type": "execute_result",
          "data": {
            "text/plain": [
              "<matplotlib.legend.Legend at 0x7f495a1f15d0>"
            ]
          },
          "metadata": {},
          "execution_count": 46
        },
        {
          "output_type": "display_data",
          "data": {
            "image/png": "[encoded data removed]",
            "text/plain": [
              "<Figure size 432x288 with 1 Axes>"
            ]
          },
          "metadata": {
            "needs_background": "light"
          }
        }
      ]
    },
    {
      "cell_type": "code",
      "metadata": {
        "id": "jD80rFZs37Wm",
        "colab": {
          "base_uri": "https://localhost:8080/",
          "height": 265
        },
        "outputId": "62af989d-5b0c-430d-cbbf-fe607e12c367"
      },
      "source": [
        "yy = plt.hist(X,weights=wts,bins = bins_list)"
      ],
      "execution_count": null,
      "outputs": [
        {
          "output_type": "display_data",
          "data": {
            "image/png": "[encoded data removed]",
            "text/plain": [
              "<Figure size 432x288 with 1 Axes>"
            ]
          },
          "metadata": {
            "needs_background": "light"
          }
        }
      ]
    },
    {
      "cell_type": "code",
      "metadata": {
        "id": "edcwJoJP4GBs",
        "colab": {
          "base_uri": "https://localhost:8080/"
        },
        "outputId": "41ec8915-4aa1-4a5d-dd5d-c1b07f383a17"
      },
      "source": [
        "yy[0][0]"
      ],
      "execution_count": null,
      "outputs": [
        {
          "output_type": "execute_result",
          "data": {
            "text/plain": [
              "array([ 2.02020202, 24.24242424, 37.37373737, 20.2020202 , 13.13131313,\n",
              "        3.03030303])"
            ]
          },
          "metadata": {},
          "execution_count": 48
        }
      ]
    },
    {
      "cell_type": "code",
      "metadata": {
        "id": "_0zY-NBY6Rgx",
        "colab": {
          "base_uri": "https://localhost:8080/"
        },
        "outputId": "6f871376-1f35-4b7e-95fe-e05a294b139d"
      },
      "source": [
        "bins_list"
      ],
      "execution_count": null,
      "outputs": [
        {
          "output_type": "execute_result",
          "data": {
            "text/plain": [
              "[0.8, 1.0, 1.2, 1.4, 1.6, 1.8, 2.0]"
            ]
          },
          "metadata": {},
          "execution_count": 49
        }
      ]
    },
    {
      "cell_type": "code",
      "metadata": {
        "id": "9ujCjAa85RG5"
      },
      "source": [
        "k =0\n",
        "for kk in yy[0][0]:\n",
        "  name = str(bins_list[k])\n",
        "  df[name] = yy[0][1][k]\n",
        "  k = k+1"
      ],
      "execution_count": null,
      "outputs": []
    },
    {
      "cell_type": "code",
      "metadata": {
        "id": "iMQRVn4D69RC",
        "colab": {
          "base_uri": "https://localhost:8080/",
          "height": 80
        },
        "outputId": "827150e5-5f67-4c81-945c-398309f3de83"
      },
      "source": [
        "df"
      ],
      "execution_count": null,
      "outputs": [
        {
          "output_type": "execute_result",
          "data": {
            "text/html": [
              "<div>\n",
              "<style scoped>\n",
              "    .dataframe tbody tr th:only-of-type {\n",
              "        vertical-align: middle;\n",
              "    }\n",
              "\n",
              "    .dataframe tbody tr th {\n",
              "        vertical-align: top;\n",
              "    }\n",
              "\n",
              "    .dataframe thead th {\n",
              "        text-align: right;\n",
              "    }\n",
              "</style>\n",
              "<table border=\"1\" class=\"dataframe\">\n",
              "  <thead>\n",
              "    <tr style=\"text-align: right;\">\n",
              "      <th></th>\n",
              "      <th>N1</th>\n",
              "      <th>N2</th>\n",
              "      <th>R^2</th>\n",
              "      <th>acc train</th>\n",
              "      <th>acc test</th>\n",
              "      <th>loss train</th>\n",
              "      <th>loss test</th>\n",
              "      <th>Details</th>\n",
              "      <th>0.8</th>\n",
              "      <th>1.0</th>\n",
              "      <th>1.2</th>\n",
              "      <th>1.4</th>\n",
              "      <th>1.6</th>\n",
              "      <th>1.8</th>\n",
              "    </tr>\n",
              "  </thead>\n",
              "  <tbody>\n",
              "    <tr>\n",
              "      <th>0</th>\n",
              "      <td>20</td>\n",
              "      <td>20</td>\n",
              "      <td>0.856333</td>\n",
              "      <td>1.0</td>\n",
              "      <td>0.945578</td>\n",
              "      <td>0.000033</td>\n",
              "      <td>0.292139</td>\n",
              "      <td>3 layers of Convolution: 64, 128, 256</td>\n",
              "      <td>14.0</td>\n",
              "      <td>32.0</td>\n",
              "      <td>20.0</td>\n",
              "      <td>16.0</td>\n",
              "      <td>8.0</td>\n",
              "      <td>0.0</td>\n",
              "    </tr>\n",
              "  </tbody>\n",
              "</table>\n",
              "</div>"
            ],
            "text/plain": [
              "   N1  N2       R^2  acc train  acc test  ...   1.0   1.2   1.4  1.6  1.8\n",
              "0  20  20  0.856333        1.0  0.945578  ...  32.0  20.0  16.0  8.0  0.0\n",
              "\n",
              "[1 rows x 14 columns]"
            ]
          },
          "metadata": {},
          "execution_count": 51
        }
      ]
    },
    {
      "cell_type": "code",
      "metadata": {
        "id": "JMWpAwMq5Hw2",
        "colab": {
          "base_uri": "https://localhost:8080/",
          "height": 17
        },
        "outputId": "083e2c72-2220-45a9-cdd7-d0210d8f74ef"
      },
      "source": [
        "Arq = \"output.xlsx\"\n",
        "df.to_excel(Arq)\n",
        "files.download(Arq)"
      ],
      "execution_count": null,
      "outputs": [
        {
          "output_type": "display_data",
          "data": {
            "application/javascript": [
              "\n",
              "    async function download(id, filename, size) {\n",
              "      if (!google.colab.kernel.accessAllowed) {\n",
              "        return;\n",
              "      }\n",
              "      const div = document.createElement('div');\n",
              "      const label = document.createElement('label');\n",
              "      label.textContent = `Downloading \"${filename}\": `;\n",
              "      div.appendChild(label);\n",
              "      const progress = document.createElement('progress');\n",
              "      progress.max = size;\n",
              "      div.appendChild(progress);\n",
              "      document.body.appendChild(div);\n",
              "\n",
              "      const buffers = [];\n",
              "      let downloaded = 0;\n",
              "\n",
              "      const channel = await google.colab.kernel.comms.open(id);\n",
              "      // Send a message to notify the kernel that we're ready.\n",
              "      channel.send({})\n",
              "\n",
              "      for await (const message of channel.messages) {\n",
              "        // Send a message to notify the kernel that we're ready.\n",
              "        channel.send({})\n",
              "        if (message.buffers) {\n",
              "          for (const buffer of message.buffers) {\n",
              "            buffers.push(buffer);\n",
              "            downloaded += buffer.byteLength;\n",
              "            progress.value = downloaded;\n",
              "          }\n",
              "        }\n",
              "      }\n",
              "      const blob = new Blob(buffers, {type: 'application/binary'});\n",
              "      const a = document.createElement('a');\n",
              "      a.href = window.URL.createObjectURL(blob);\n",
              "      a.download = filename;\n",
              "      div.appendChild(a);\n",
              "      a.click();\n",
              "      div.remove();\n",
              "    }\n",
              "  "
            ],
            "text/plain": [
              "<IPython.core.display.Javascript object>"
            ]
          },
          "metadata": {}
        },
        {
          "output_type": "display_data",
          "data": {
            "application/javascript": [
              "download(\"download_5b6506f5-c834-4b37-9d18-629c3965e747\", \"output.xlsx\", 5238)"
            ],
            "text/plain": [
              "<IPython.core.display.Javascript object>"
            ]
          },
          "metadata": {}
        }
      ]
    }
  ]
}