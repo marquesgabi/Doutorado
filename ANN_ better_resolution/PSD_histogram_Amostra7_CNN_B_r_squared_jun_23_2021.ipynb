{
  "nbformat": 4,
  "nbformat_minor": 0,
  "metadata": {
    "colab": {
      "name": "PSD_histogram_CNN_B_r_squared_jun_23_2021.ipynb",
      "provenance": [],
      "collapsed_sections": [],
      "include_colab_link": true
    },
    "kernelspec": {
      "name": "python3",
      "display_name": "Python 3"
    }
  },
  "cells": [
    {
      "cell_type": "markdown",
      "metadata": {
        "id": "view-in-github",
        "colab_type": "text"
      },
      "source": [
        "<a href=\"https://colab.research.google.com/github/marquesgabi/Doutorado/blob/master/ANN_%20better_resolution/PSD_histogram_Amostra7_CNN_B_r_squared_jun_23_2021.ipynb\" target=\"_parent\"><img src=\"https://colab.research.google.com/assets/colab-badge.svg\" alt=\"Open In Colab\"/></a>"
      ]
    },
    {
      "cell_type": "code",
      "metadata": {
        "id": "Sog7Z9pyhUD_"
      },
      "source": [
        "import matplotlib.pyplot as plt\n",
        "import numpy as np\n",
        "import cv2\n",
        "import zipfile\n",
        "#import random\n",
        "from random import randint\n",
        "from PIL import Image\n",
        "import re\n",
        "from sklearn.model_selection import train_test_split\n",
        "#import scikit-image\n",
        "import skimage\n",
        "import sklearn\n",
        "import pandas as pd\n",
        "from keras.models import Sequential\n",
        "from keras.layers import Dense, Activation, Conv2D, MaxPooling2D, Flatten, Dropout, BatchNormalization\n",
        "from sklearn.metrics import r2_score\n",
        "from google.colab import files"
      ],
      "execution_count": 26,
      "outputs": []
    },
    {
      "cell_type": "code",
      "metadata": {
        "id": "uZEvJvfoibE4",
        "colab": {
          "base_uri": "https://localhost:8080/"
        },
        "outputId": "63c25113-2b2f-4765-9e88-84f308d7c4d0"
      },
      "source": [
        "!pip install mahotas"
      ],
      "execution_count": 27,
      "outputs": [
        {
          "output_type": "stream",
          "text": [
            "Requirement already satisfied: mahotas in /usr/local/lib/python3.7/dist-packages (1.4.11)\n",
            "Requirement already satisfied: numpy in /usr/local/lib/python3.7/dist-packages (from mahotas) (1.19.5)\n"
          ],
          "name": "stdout"
        }
      ]
    },
    {
      "cell_type": "code",
      "metadata": {
        "id": "nf_a6PJ1iUnT"
      },
      "source": [
        "import mahotas.features.texture as mht\n",
        "import mahotas.features"
      ],
      "execution_count": 28,
      "outputs": []
    },
    {
      "cell_type": "code",
      "metadata": {
        "id": "_VcTdaNVh9EE",
        "colab": {
          "base_uri": "https://localhost:8080/"
        },
        "outputId": "1c27bb6f-d44a-40cb-8c51-0dc35270dd52"
      },
      "source": [
        "!git clone https://github.com/ucfilho/marquesgabi_fev_2020 #clonar do Github\n",
        "%cd marquesgabi_fev_2020\n",
        "import Go2BlackWhite\n",
        "import Go2Mahotas"
      ],
      "execution_count": 29,
      "outputs": [
        {
          "output_type": "stream",
          "text": [
            "Cloning into 'marquesgabi_fev_2020'...\n",
            "remote: Enumerating objects: 73, done.\u001b[K\n",
            "remote: Counting objects: 100% (73/73), done.\u001b[K\n",
            "remote: Compressing objects: 100% (71/71), done.\u001b[K\n",
            "remote: Total 73 (delta 37), reused 0 (delta 0), pack-reused 0\u001b[K\n",
            "Unpacking objects: 100% (73/73), done.\n",
            "/content/marquesgabi_fev_2020/Doutorado/MarquesGabi_Routines/MarquesGabi_Routines/marquesgabi_paper_fev_2021/Doutorado/Doutorado/marquesgabi_fev_2020\n"
          ],
          "name": "stdout"
        }
      ]
    },
    {
      "cell_type": "code",
      "metadata": {
        "id": "1v7SRrc8mH2N",
        "colab": {
          "base_uri": "https://localhost:8080/"
        },
        "outputId": "53fa98fa-2c09-49a1-f1fa-3bad732e3594"
      },
      "source": [
        "!git clone https://github.com/marquesgabi/Doutorado\n",
        "%cd Doutorado\n",
        "\n",
        "Transfere='Fotos_Grandes_3cdAmostra.zip' \n",
        "file_name = zipfile.ZipFile(Transfere, 'r')\n",
        "file_name.extractall()"
      ],
      "execution_count": 30,
      "outputs": [
        {
          "output_type": "stream",
          "text": [
            "Cloning into 'Doutorado'...\n",
            "remote: Enumerating objects: 380, done.\u001b[K\n",
            "remote: Counting objects: 100% (130/130), done.\u001b[K\n",
            "remote: Compressing objects: 100% (129/129), done.\u001b[K\n",
            "remote: Total 380 (delta 49), reused 0 (delta 0), pack-reused 250\u001b[K\n",
            "Receiving objects: 100% (380/380), 165.45 MiB | 28.25 MiB/s, done.\n",
            "Resolving deltas: 100% (172/172), done.\n",
            "Checking out files: 100% (76/76), done.\n",
            "/content/marquesgabi_fev_2020/Doutorado/MarquesGabi_Routines/MarquesGabi_Routines/marquesgabi_paper_fev_2021/Doutorado/Doutorado/marquesgabi_fev_2020/Doutorado\n"
          ],
          "name": "stdout"
        }
      ]
    },
    {
      "cell_type": "code",
      "metadata": {
        "colab": {
          "base_uri": "https://localhost:8080/"
        },
        "id": "NqIYzUcnrdMp",
        "outputId": "ea230d7e-7d35-4fd8-e91b-a79f15b3e0ee"
      },
      "source": [
        "labels =[]\n",
        "with zipfile.ZipFile(Transfere, \"r\") as f:\n",
        "  for f in f.namelist():\n",
        "    labels.append(f)\n",
        "print(labels)"
      ],
      "execution_count": 31,
      "outputs": [
        {
          "output_type": "stream",
          "text": [
            "['Fotos_Grandes-3cdAmostra/Q6-8-4.jpg', 'Fotos_Grandes-3cdAmostra/Q6-5-3.jpg', 'Fotos_Grandes-3cdAmostra/Q6-7-4.jpg', 'Fotos_Grandes-3cdAmostra/Q6-8-2.jpg', 'Fotos_Grandes-3cdAmostra/Q6-3-2.jpg', 'Fotos_Grandes-3cdAmostra/Q6-7-2.jpg', 'Fotos_Grandes-3cdAmostra/Q6-4-4.jpg', 'Fotos_Grandes-3cdAmostra/Q6-9-5.jpg', 'Fotos_Grandes-3cdAmostra/Q6-2-5.jpg', 'Fotos_Grandes-3cdAmostra/Q6-8-3.jpg', 'Fotos_Grandes-3cdAmostra/Q6-9-3.jpg', 'Fotos_Grandes-3cdAmostra/Q6-1-2.jpg', 'Fotos_Grandes-3cdAmostra/Q6-6-3.jpg', 'Fotos_Grandes-3cdAmostra/Q6-3-4.jpg', 'Fotos_Grandes-3cdAmostra/Q6-1-4.jpg', 'Fotos_Grandes-3cdAmostra/Q6-6-2.jpg', 'Fotos_Grandes-3cdAmostra/Q6-4-3.jpg', 'Fotos_Grandes-3cdAmostra/Q6-7-3.jpg', 'Fotos_Grandes-3cdAmostra/Q6-2-2.jpg', 'Fotos_Grandes-3cdAmostra/Q6-9-2.jpg', 'Fotos_Grandes-3cdAmostra/Q6-1-5.jpg', 'Fotos_Grandes-3cdAmostra/Q6-6-5.jpg', 'Fotos_Grandes-3cdAmostra/Q6-2-1.jpg', 'Fotos_Grandes-3cdAmostra/Q6-5-2.jpg', 'Fotos_Grandes-3cdAmostra/Q6-4-1.jpg', 'Fotos_Grandes-3cdAmostra/Q6-3-1.jpg', 'Fotos_Grandes-3cdAmostra/Q6-5-4.jpg']\n"
          ],
          "name": "stdout"
        }
      ]
    },
    {
      "cell_type": "code",
      "metadata": {
        "id": "0kA4IWSmasoD"
      },
      "source": [
        "Size=1200 # tamanho da foto\n",
        "ww,img_name=Go2BlackWhite.BlackWhite(Transfere,Size) #Pegamos a primeira foto Grande\n",
        "img=ww[2] \n",
        "# this is the big image we want to segment \n",
        "# ww[0], change it if you want to segment another picture"
      ],
      "execution_count": 32,
      "outputs": []
    },
    {
      "cell_type": "code",
      "metadata": {
        "id": "tHgqAnaFyCjp",
        "colab": {
          "base_uri": "https://localhost:8080/"
        },
        "outputId": "791186a6-e406-4235-ca47-e4ae8bbb6347"
      },
      "source": [
        "!git clone https://github.com/ucfilho/MarquesGabi_Routines\n",
        "%cd MarquesGabi_Routines"
      ],
      "execution_count": 33,
      "outputs": [
        {
          "output_type": "stream",
          "text": [
            "Cloning into 'MarquesGabi_Routines'...\n",
            "remote: Enumerating objects: 163, done.\u001b[K\n",
            "remote: Counting objects: 100% (163/163), done.\u001b[K\n",
            "remote: Compressing objects: 100% (161/161), done.\u001b[K\n",
            "remote: Total 163 (delta 65), reused 0 (delta 0), pack-reused 0\u001b[K\n",
            "Receiving objects: 100% (163/163), 211.71 MiB | 21.92 MiB/s, done.\n",
            "Resolving deltas: 100% (65/65), done.\n",
            "Checking out files: 100% (46/46), done.\n",
            "/content/marquesgabi_fev_2020/Doutorado/MarquesGabi_Routines/MarquesGabi_Routines/marquesgabi_paper_fev_2021/Doutorado/Doutorado/marquesgabi_fev_2020/Doutorado/MarquesGabi_Routines\n"
          ],
          "name": "stdout"
        }
      ]
    },
    {
      "cell_type": "code",
      "metadata": {
        "id": "qc4rFvzkyWCi"
      },
      "source": [
        "from segment_filter_not_conclude import Segmenta  # got image provided segmented"
      ],
      "execution_count": 34,
      "outputs": []
    },
    {
      "cell_type": "code",
      "metadata": {
        "id": "SnTtH3KDP863"
      },
      "source": [
        "df=Segmenta(img)\n",
        "Img_Size = 28"
      ],
      "execution_count": 35,
      "outputs": []
    },
    {
      "cell_type": "code",
      "metadata": {
        "id": "YN5MN5a_v4np",
        "colab": {
          "base_uri": "https://localhost:8080/"
        },
        "outputId": "557429ce-b0b0-4c98-addf-5763cd2fff60"
      },
      "source": [
        "print(df)"
      ],
      "execution_count": 36,
      "outputs": [
        {
          "output_type": "stream",
          "text": [
            "    Width           0           1  ...         781         782         783\n",
            "0     100   51.395199   51.550400  ...   12.822400   12.993599   12.483201\n",
            "1     170  137.918228  136.085144  ...  118.738831  119.436546  117.362358\n",
            "2     173  179.624954  171.810135  ...  104.506523  108.038521  114.298340\n",
            "3     147  116.029480  116.532883  ...  128.346954  128.195007  129.188217\n",
            "4     191  150.288513  134.339752  ...   87.931892   87.893486  124.698502\n",
            "5     188  195.240829  206.412842  ...  113.125854  120.208679  115.085556\n",
            "6     126   65.839508   64.604942  ...  127.592590  127.358025  139.530869\n",
            "7     200   63.931995   64.259605  ...    7.333600    6.944400    7.353200\n",
            "8     156  106.072327  102.436562  ...    0.000000    0.000000    0.000000\n",
            "9     183  196.499268  209.498520  ...  121.528091  109.888741  100.505951\n",
            "10    142  154.112686  156.551468  ...    1.850823    2.388812    6.467368\n",
            "11    163  107.055862  105.679062  ...   51.315445   52.448605   56.033012\n",
            "12    175  134.886398  167.529602  ...  125.921600  133.755188  134.846390\n",
            "13    130  158.058228  163.368530  ...  151.644043  156.718109  161.135162\n",
            "14    163  145.272385  152.331146  ...  114.348640  125.180359  134.126816\n",
            "15    170   67.627411   65.760277  ...  196.948792  208.437958  221.169556\n",
            "16    177  117.737717  103.424194  ...    7.232053    6.711896    6.236426\n",
            "17    123  137.668655  145.749939  ...  128.918228  117.524231  115.756897\n",
            "18    124  145.428711  149.916748  ...  150.424561  152.811646  155.184174\n",
            "19    161  147.512283  148.578445  ...  175.975418  179.748596  183.948959\n",
            "20    168  130.638885  132.333328  ...   77.861115   76.750000   80.444443\n",
            "21    115  135.364914  131.122177  ...  148.943436  152.968842  158.593475\n",
            "22    141  107.238319  112.115540  ...  125.867516  124.139526  121.126808\n",
            "23    119  101.287193  100.567474  ...  139.083054  143.723190  150.359863\n",
            "24    133  143.831024  144.396118  ...   96.662048  109.548477  112.728539\n",
            "25    176  103.429245   96.340904  ...  228.429230  192.780991  129.682343\n",
            "26    167  186.113602  200.351501  ...  130.142471   89.600319   79.444763\n",
            "27    118  197.247040  219.418854  ...  116.825623  116.838829  117.846024\n",
            "28    129  121.961899  120.152756  ...  104.173965  105.433571  106.198547\n",
            "29    198  137.004898  138.736328  ...    6.802468    6.747882    6.967860\n",
            "30    101  136.862747  138.117920  ...  136.207245  138.082443  140.416336\n",
            "31    181  100.502800  108.302727  ...    8.082690    7.937395    7.792101\n",
            "32    165  108.615013  105.849930  ...  100.547035  104.330070  106.841217\n",
            "33    136   74.808830   77.500000  ...    9.436852    9.660900    9.507786\n",
            "34    137   56.124401   25.004049  ...  120.220367  126.168671  125.778679\n",
            "35    116   69.510109   66.168846  ...  104.904869  101.667053   99.927467\n",
            "36    174  187.458466  181.619904  ...  161.581345  169.350906  179.971863\n",
            "37    113    5.223980   10.713055  ...  209.778214  189.498642  155.666534\n",
            "38    197  125.315994  106.510765  ...   80.774017   85.111496  113.381073\n",
            "39    189  111.117966  113.436203  ...  127.500687  144.854599  152.473251\n",
            "40    157   84.777359   86.329391  ...  122.418930  118.552719  116.426704\n",
            "41    193   80.799240  113.543533  ...    6.958710    6.997046    7.030122\n",
            "42    135  102.157249  106.419083  ...  124.230110  105.313950   92.952698\n",
            "43    109  203.788635  203.889984  ...  137.904388  142.865158  144.802032\n",
            "44    182   90.325455  114.218941  ...  144.508896  145.798828  145.147949\n",
            "45    145   79.608322   76.406898  ...    9.541832    9.432629    9.781546\n",
            "46    183   76.762573   88.249100  ...   78.141212   78.902985   79.664673\n",
            "47    200  137.484406  132.162399  ...  129.832413  126.979996  122.663208\n",
            "48    169  122.171242  120.200096  ...  113.016731  124.278595  114.018173\n",
            "49    133   71.966766   74.188370  ...    6.922438    6.734072    5.808865\n",
            "\n",
            "[50 rows x 785 columns]\n"
          ],
          "name": "stdout"
        }
      ]
    },
    {
      "cell_type": "code",
      "metadata": {
        "id": "xzpQ1Pz0fX5L",
        "colab": {
          "base_uri": "https://localhost:8080/",
          "height": 52
        },
        "outputId": "11317fa6-a763-44b9-ff53-5d19a8bf9442"
      },
      "source": [
        "'''\n",
        "!git clone https://github.com/ucfilho/MarquesGabi_Routines\n",
        "%cd MarquesGabi_Routines\n",
        "# filename = 'model_ANN.pkl'\n",
        "filename = 'model_ANN_new.pkl'\n",
        "model = joblib.load(filename)\n",
        "'''"
      ],
      "execution_count": 37,
      "outputs": [
        {
          "output_type": "execute_result",
          "data": {
            "application/vnd.google.colaboratory.intrinsic+json": {
              "type": "string"
            },
            "text/plain": [
              "\"\\n!git clone https://github.com/ucfilho/MarquesGabi_Routines\\n%cd MarquesGabi_Routines\\n# filename = 'model_ANN.pkl'\\nfilename = 'model_ANN_new.pkl'\\nmodel = joblib.load(filename)\\n\""
            ]
          },
          "metadata": {
            "tags": []
          },
          "execution_count": 37
        }
      ]
    },
    {
      "cell_type": "code",
      "metadata": {
        "colab": {
          "base_uri": "https://localhost:8080/"
        },
        "id": "xR2emP4rNjQy",
        "outputId": "40231509-0d50-418a-a07d-e89139746ff0"
      },
      "source": [
        "!git clone https://github.com/ucfilho/MarquesGabi_Routines\n",
        "%cd MarquesGabi_Routines"
      ],
      "execution_count": 38,
      "outputs": [
        {
          "output_type": "stream",
          "text": [
            "Cloning into 'MarquesGabi_Routines'...\n",
            "remote: Enumerating objects: 163, done.\u001b[K\n",
            "remote: Counting objects: 100% (163/163), done.\u001b[K\n",
            "remote: Compressing objects: 100% (161/161), done.\u001b[K\n",
            "remote: Total 163 (delta 65), reused 0 (delta 0), pack-reused 0\u001b[K\n",
            "Receiving objects: 100% (163/163), 211.71 MiB | 21.48 MiB/s, done.\n",
            "Resolving deltas: 100% (65/65), done.\n",
            "Checking out files: 100% (46/46), done.\n",
            "/content/marquesgabi_fev_2020/Doutorado/MarquesGabi_Routines/MarquesGabi_Routines/marquesgabi_paper_fev_2021/Doutorado/Doutorado/marquesgabi_fev_2020/Doutorado/MarquesGabi_Routines/MarquesGabi_Routines\n"
          ],
          "name": "stdout"
        }
      ]
    },
    {
      "cell_type": "code",
      "metadata": {
        "id": "O6cMHOrlNliO"
      },
      "source": [
        "# leitura dos dados\n",
        "df=pd.read_excel(\"FotosTreinoRede.xlsx\")\n",
        "y = df['y']\n",
        "df.drop(['Unnamed: 0','y'], axis='columns', inplace=True)"
      ],
      "execution_count": 39,
      "outputs": []
    },
    {
      "cell_type": "code",
      "metadata": {
        "id": "zQO8d2QbNqj0"
      },
      "source": [
        "X =np.array(df.copy())/255.0 \n",
        "\n",
        "\n",
        "X_train, X_test, Y_train, Y_test = train_test_split(X, y, test_size=0.30, shuffle=True, random_state=42)"
      ],
      "execution_count": 40,
      "outputs": []
    },
    {
      "cell_type": "code",
      "metadata": {
        "id": "gIFPGE_-vx3T"
      },
      "source": [
        ""
      ],
      "execution_count": 40,
      "outputs": []
    },
    {
      "cell_type": "code",
      "metadata": {
        "id": "23iKv6bDPWQl"
      },
      "source": [
        "# helper\n",
        "def ynindicator(Y):\n",
        "  N = len(Y)\n",
        "  K = len(set(Y))\n",
        "  I = np.zeros((N, K))\n",
        "  I[np.arange(N), Y] = 1\n",
        "  return I\n",
        "\n",
        "def yback(Y_test):\n",
        "  nrow, ncol = Y_test.shape\n",
        "  y_class = np.zeros(nrow,dtype=int)\n",
        "  y_resp = Y_test\n",
        "  for k in range(nrow):\n",
        "    for kk in range(K):\n",
        "      if(y_resp[k,kk] == 1):\n",
        "        y_class[k] = kk\n",
        "  Y_test = y_class.copy()\n",
        "  return Y_test\n",
        "\n",
        "X_train = np.array(X_train)\n",
        "Y_train = np.array(Y_train)\n",
        "K = len(set(Y_train))\n",
        "\n",
        "X_train = X_train.reshape(-1, Img_Size, Img_Size, 1) / 255.0\n",
        "Y_train = Y_train.astype(np.int32)\n",
        "Y_train = ynindicator(Y_train)\n",
        "\n",
        "X_test = np.array(X_test )\n",
        "Y_test = np.array(Y_test)\n",
        "X_test = X_test.reshape(-1, Img_Size, Img_Size, 1) / 255.0\n",
        "Y_test = Y_test.astype(np.int32)\n",
        "Y_test = ynindicator(Y_test)\n",
        "\n",
        "# the model will be a sequence of layers\n",
        "\n",
        "Description = '3 layers of Convolution: 32, 64, 128 '\n",
        "N1 = 200\n",
        "N2 = 10\n",
        "\n",
        "# make the CNN\n",
        "model = Sequential()\n",
        "model.add(Conv2D(input_shape=(Img_Size, Img_Size, 1), filters=32, kernel_size=(3, 3)))\n",
        "model.add(BatchNormalization())\n",
        "model.add(Activation('relu'))\n",
        "model.add(MaxPooling2D())\n",
        "\n",
        "model.add(Conv2D(filters=64, kernel_size=(3, 3)))\n",
        "model.add(BatchNormalization())\n",
        "model.add(Activation('relu'))\n",
        "model.add(MaxPooling2D())\n",
        "\n",
        "model.add(Conv2D(filters=128, kernel_size=(3, 3)))\n",
        "model.add(BatchNormalization())\n",
        "model.add(Activation('relu'))\n",
        "model.add(MaxPooling2D())\n",
        "\n",
        "model.add(Flatten())\n",
        "model.add(Dense(units=N1))\n",
        "model.add(Dropout(0.2))\n",
        "model.add(Dense(units=N2))\n",
        "model.add(Activation('relu'))\n",
        "#model.add(Dropout(0.2))\n",
        "model.add(Dense(units=K))\n",
        "model.add(Activation('softmax'))\n",
        "\n",
        "\n",
        "# list of losses: https://keras.io/losses/\n",
        "# list of optimizers: https://keras.io/optimizers/\n",
        "# list of metrics: https://keras.io/metrics/\n",
        "model.compile(\n",
        "  loss='categorical_crossentropy',\n",
        "  optimizer='adam',\n",
        "  metrics=['accuracy']\n",
        ")"
      ],
      "execution_count": 41,
      "outputs": []
    },
    {
      "cell_type": "code",
      "metadata": {
        "colab": {
          "base_uri": "https://localhost:8080/"
        },
        "id": "FpbPQ1FSRG6A",
        "outputId": "f01d84a0-0efb-44d1-8b60-65ef48c2fffd"
      },
      "source": [
        "\n",
        "# training the model\n",
        "r = model.fit(X_train, Y_train, validation_data=(X_test,Y_test), \n",
        "              epochs=200, batch_size=32)"
      ],
      "execution_count": 42,
      "outputs": [
        {
          "output_type": "stream",
          "text": [
            "Epoch 1/200\n",
            "11/11 [==============================] - 3s 110ms/step - loss: 0.6457 - accuracy: 0.6192 - val_loss: 0.6931 - val_accuracy: 0.5102\n",
            "Epoch 2/200\n",
            "11/11 [==============================] - 1s 49ms/step - loss: 0.3441 - accuracy: 0.8658 - val_loss: 0.6930 - val_accuracy: 0.5102\n",
            "Epoch 3/200\n",
            "11/11 [==============================] - 1s 49ms/step - loss: 0.2602 - accuracy: 0.9054 - val_loss: 0.6928 - val_accuracy: 0.5102\n",
            "Epoch 4/200\n",
            "11/11 [==============================] - 1s 51ms/step - loss: 0.1388 - accuracy: 0.9612 - val_loss: 0.6927 - val_accuracy: 0.5102\n",
            "Epoch 5/200\n",
            "11/11 [==============================] - 1s 49ms/step - loss: 0.1247 - accuracy: 0.9560 - val_loss: 0.6927 - val_accuracy: 0.5102\n",
            "Epoch 6/200\n",
            "11/11 [==============================] - 1s 50ms/step - loss: 0.0739 - accuracy: 0.9622 - val_loss: 0.6928 - val_accuracy: 0.5102\n",
            "Epoch 7/200\n",
            "11/11 [==============================] - 1s 47ms/step - loss: 0.0613 - accuracy: 0.9894 - val_loss: 0.6929 - val_accuracy: 0.5102\n",
            "Epoch 8/200\n",
            "11/11 [==============================] - 1s 49ms/step - loss: 0.0427 - accuracy: 0.9856 - val_loss: 0.6934 - val_accuracy: 0.5102\n",
            "Epoch 9/200\n",
            "11/11 [==============================] - 1s 47ms/step - loss: 0.0394 - accuracy: 0.9880 - val_loss: 0.6939 - val_accuracy: 0.5102\n",
            "Epoch 10/200\n",
            "11/11 [==============================] - 1s 49ms/step - loss: 0.0346 - accuracy: 0.9846 - val_loss: 0.6938 - val_accuracy: 0.5102\n",
            "Epoch 11/200\n",
            "11/11 [==============================] - 1s 48ms/step - loss: 0.0405 - accuracy: 0.9830 - val_loss: 0.6941 - val_accuracy: 0.5102\n",
            "Epoch 12/200\n",
            "11/11 [==============================] - 1s 47ms/step - loss: 0.0111 - accuracy: 0.9986 - val_loss: 0.6926 - val_accuracy: 0.5102\n",
            "Epoch 13/200\n",
            "11/11 [==============================] - 1s 47ms/step - loss: 0.0114 - accuracy: 0.9983 - val_loss: 0.6926 - val_accuracy: 0.5102\n",
            "Epoch 14/200\n",
            "11/11 [==============================] - 1s 48ms/step - loss: 0.0071 - accuracy: 0.9978 - val_loss: 0.6934 - val_accuracy: 0.5102\n",
            "Epoch 15/200\n",
            "11/11 [==============================] - 1s 48ms/step - loss: 0.0159 - accuracy: 0.9919 - val_loss: 0.6944 - val_accuracy: 0.5102\n",
            "Epoch 16/200\n",
            "11/11 [==============================] - 1s 48ms/step - loss: 0.0083 - accuracy: 0.9958 - val_loss: 0.6964 - val_accuracy: 0.5102\n",
            "Epoch 17/200\n",
            "11/11 [==============================] - 1s 50ms/step - loss: 0.0149 - accuracy: 0.9969 - val_loss: 0.6925 - val_accuracy: 0.5102\n",
            "Epoch 18/200\n",
            "11/11 [==============================] - 1s 64ms/step - loss: 0.0042 - accuracy: 1.0000 - val_loss: 0.6910 - val_accuracy: 0.5102\n",
            "Epoch 19/200\n",
            "11/11 [==============================] - 1s 49ms/step - loss: 0.0047 - accuracy: 1.0000 - val_loss: 0.6911 - val_accuracy: 0.5102\n",
            "Epoch 20/200\n",
            "11/11 [==============================] - 1s 50ms/step - loss: 0.0024 - accuracy: 1.0000 - val_loss: 0.6921 - val_accuracy: 0.5102\n",
            "Epoch 21/200\n",
            "11/11 [==============================] - 1s 50ms/step - loss: 0.0030 - accuracy: 1.0000 - val_loss: 0.6929 - val_accuracy: 0.5102\n",
            "Epoch 22/200\n",
            "11/11 [==============================] - 1s 48ms/step - loss: 0.0012 - accuracy: 1.0000 - val_loss: 0.6925 - val_accuracy: 0.5102\n",
            "Epoch 23/200\n",
            "11/11 [==============================] - 1s 49ms/step - loss: 0.0018 - accuracy: 1.0000 - val_loss: 0.6893 - val_accuracy: 0.5102\n",
            "Epoch 24/200\n",
            "11/11 [==============================] - 1s 48ms/step - loss: 5.7355e-04 - accuracy: 1.0000 - val_loss: 0.6858 - val_accuracy: 0.5102\n",
            "Epoch 25/200\n",
            "11/11 [==============================] - 1s 49ms/step - loss: 8.6218e-04 - accuracy: 1.0000 - val_loss: 0.6869 - val_accuracy: 0.5102\n",
            "Epoch 26/200\n",
            "11/11 [==============================] - 1s 48ms/step - loss: 0.0019 - accuracy: 1.0000 - val_loss: 0.6853 - val_accuracy: 0.5102\n",
            "Epoch 27/200\n",
            "11/11 [==============================] - 1s 47ms/step - loss: 0.0011 - accuracy: 1.0000 - val_loss: 0.6842 - val_accuracy: 0.5102\n",
            "Epoch 28/200\n",
            "11/11 [==============================] - 1s 48ms/step - loss: 8.5786e-04 - accuracy: 1.0000 - val_loss: 0.6806 - val_accuracy: 0.5102\n",
            "Epoch 29/200\n",
            "11/11 [==============================] - 1s 47ms/step - loss: 0.0076 - accuracy: 1.0000 - val_loss: 0.7093 - val_accuracy: 0.5102\n",
            "Epoch 30/200\n",
            "11/11 [==============================] - 1s 48ms/step - loss: 8.6646e-04 - accuracy: 1.0000 - val_loss: 0.7340 - val_accuracy: 0.5102\n",
            "Epoch 31/200\n",
            "11/11 [==============================] - 1s 48ms/step - loss: 0.0012 - accuracy: 1.0000 - val_loss: 0.7431 - val_accuracy: 0.5102\n",
            "Epoch 32/200\n",
            "11/11 [==============================] - 1s 49ms/step - loss: 9.2864e-04 - accuracy: 1.0000 - val_loss: 0.7170 - val_accuracy: 0.5102\n",
            "Epoch 33/200\n",
            "11/11 [==============================] - 1s 48ms/step - loss: 9.0836e-04 - accuracy: 1.0000 - val_loss: 0.6785 - val_accuracy: 0.5102\n",
            "Epoch 34/200\n",
            "11/11 [==============================] - 1s 49ms/step - loss: 6.6782e-04 - accuracy: 1.0000 - val_loss: 0.6852 - val_accuracy: 0.5102\n",
            "Epoch 35/200\n",
            "11/11 [==============================] - 1s 48ms/step - loss: 3.0408e-04 - accuracy: 1.0000 - val_loss: 0.6923 - val_accuracy: 0.5102\n",
            "Epoch 36/200\n",
            "11/11 [==============================] - 1s 49ms/step - loss: 4.0997e-04 - accuracy: 1.0000 - val_loss: 0.7235 - val_accuracy: 0.5102\n",
            "Epoch 37/200\n",
            "11/11 [==============================] - 1s 48ms/step - loss: 3.6546e-04 - accuracy: 1.0000 - val_loss: 0.7500 - val_accuracy: 0.5102\n",
            "Epoch 38/200\n",
            "11/11 [==============================] - 1s 49ms/step - loss: 2.0511e-04 - accuracy: 1.0000 - val_loss: 0.7559 - val_accuracy: 0.5102\n",
            "Epoch 39/200\n",
            "11/11 [==============================] - 1s 47ms/step - loss: 2.3551e-04 - accuracy: 1.0000 - val_loss: 0.7321 - val_accuracy: 0.5102\n",
            "Epoch 40/200\n",
            "11/11 [==============================] - 1s 51ms/step - loss: 2.2173e-04 - accuracy: 1.0000 - val_loss: 0.7196 - val_accuracy: 0.5102\n",
            "Epoch 41/200\n",
            "11/11 [==============================] - 1s 49ms/step - loss: 1.8419e-04 - accuracy: 1.0000 - val_loss: 0.6928 - val_accuracy: 0.5102\n",
            "Epoch 42/200\n",
            "11/11 [==============================] - 1s 50ms/step - loss: 9.2409e-04 - accuracy: 1.0000 - val_loss: 0.7203 - val_accuracy: 0.5102\n",
            "Epoch 43/200\n",
            "11/11 [==============================] - 1s 49ms/step - loss: 3.2810e-04 - accuracy: 1.0000 - val_loss: 0.6894 - val_accuracy: 0.5102\n",
            "Epoch 44/200\n",
            "11/11 [==============================] - 1s 49ms/step - loss: 1.2563e-04 - accuracy: 1.0000 - val_loss: 0.6470 - val_accuracy: 0.5102\n",
            "Epoch 45/200\n",
            "11/11 [==============================] - 1s 49ms/step - loss: 1.2143e-04 - accuracy: 1.0000 - val_loss: 0.6400 - val_accuracy: 0.5102\n",
            "Epoch 46/200\n",
            "11/11 [==============================] - 1s 54ms/step - loss: 2.6951e-04 - accuracy: 1.0000 - val_loss: 0.6290 - val_accuracy: 0.5102\n",
            "Epoch 47/200\n",
            "11/11 [==============================] - 1s 49ms/step - loss: 1.7942e-04 - accuracy: 1.0000 - val_loss: 0.6881 - val_accuracy: 0.5102\n",
            "Epoch 48/200\n",
            "11/11 [==============================] - 1s 48ms/step - loss: 1.3388e-04 - accuracy: 1.0000 - val_loss: 1.0755 - val_accuracy: 0.5102\n",
            "Epoch 49/200\n",
            "11/11 [==============================] - 1s 49ms/step - loss: 2.8052e-04 - accuracy: 1.0000 - val_loss: 1.1567 - val_accuracy: 0.5102\n",
            "Epoch 50/200\n",
            "11/11 [==============================] - 1s 49ms/step - loss: 1.9613e-04 - accuracy: 1.0000 - val_loss: 0.6064 - val_accuracy: 0.6599\n",
            "Epoch 51/200\n",
            "11/11 [==============================] - 1s 49ms/step - loss: 1.3405e-04 - accuracy: 1.0000 - val_loss: 0.5057 - val_accuracy: 0.7075\n",
            "Epoch 52/200\n",
            "11/11 [==============================] - 1s 49ms/step - loss: 1.9885e-04 - accuracy: 1.0000 - val_loss: 0.6507 - val_accuracy: 0.6803\n",
            "Epoch 53/200\n",
            "11/11 [==============================] - 1s 49ms/step - loss: 7.9880e-05 - accuracy: 1.0000 - val_loss: 0.8966 - val_accuracy: 0.5986\n",
            "Epoch 54/200\n",
            "11/11 [==============================] - 1s 48ms/step - loss: 8.6542e-05 - accuracy: 1.0000 - val_loss: 0.9809 - val_accuracy: 0.5714\n",
            "Epoch 55/200\n",
            "11/11 [==============================] - 1s 49ms/step - loss: 8.8204e-05 - accuracy: 1.0000 - val_loss: 0.9458 - val_accuracy: 0.6122\n",
            "Epoch 56/200\n",
            "11/11 [==============================] - 1s 48ms/step - loss: 1.1268e-04 - accuracy: 1.0000 - val_loss: 0.8459 - val_accuracy: 0.6531\n",
            "Epoch 57/200\n",
            "11/11 [==============================] - 1s 50ms/step - loss: 7.3867e-05 - accuracy: 1.0000 - val_loss: 0.7174 - val_accuracy: 0.6939\n",
            "Epoch 58/200\n",
            "11/11 [==============================] - 1s 47ms/step - loss: 6.5117e-05 - accuracy: 1.0000 - val_loss: 0.6315 - val_accuracy: 0.7347\n",
            "Epoch 59/200\n",
            "11/11 [==============================] - 1s 52ms/step - loss: 7.5961e-05 - accuracy: 1.0000 - val_loss: 0.5557 - val_accuracy: 0.7687\n",
            "Epoch 60/200\n",
            "11/11 [==============================] - 1s 48ms/step - loss: 1.0346e-04 - accuracy: 1.0000 - val_loss: 0.4725 - val_accuracy: 0.8095\n",
            "Epoch 61/200\n",
            "11/11 [==============================] - 1s 49ms/step - loss: 8.2548e-05 - accuracy: 1.0000 - val_loss: 0.4170 - val_accuracy: 0.8231\n",
            "Epoch 62/200\n",
            "11/11 [==============================] - 1s 49ms/step - loss: 3.4130e-05 - accuracy: 1.0000 - val_loss: 0.3328 - val_accuracy: 0.8503\n",
            "Epoch 63/200\n",
            "11/11 [==============================] - 1s 50ms/step - loss: 6.1253e-05 - accuracy: 1.0000 - val_loss: 0.2779 - val_accuracy: 0.8707\n",
            "Epoch 64/200\n",
            "11/11 [==============================] - 1s 49ms/step - loss: 7.0675e-05 - accuracy: 1.0000 - val_loss: 0.2643 - val_accuracy: 0.8707\n",
            "Epoch 65/200\n",
            "11/11 [==============================] - 1s 48ms/step - loss: 5.1982e-05 - accuracy: 1.0000 - val_loss: 0.2212 - val_accuracy: 0.8980\n",
            "Epoch 66/200\n",
            "11/11 [==============================] - 1s 48ms/step - loss: 9.2168e-05 - accuracy: 1.0000 - val_loss: 0.4797 - val_accuracy: 0.8299\n",
            "Epoch 67/200\n",
            "11/11 [==============================] - 1s 48ms/step - loss: 1.2699e-04 - accuracy: 1.0000 - val_loss: 0.6727 - val_accuracy: 0.7823\n",
            "Epoch 68/200\n",
            "11/11 [==============================] - 1s 49ms/step - loss: 1.2374e-04 - accuracy: 1.0000 - val_loss: 0.3108 - val_accuracy: 0.8639\n",
            "Epoch 69/200\n",
            "11/11 [==============================] - 1s 47ms/step - loss: 2.3190e-05 - accuracy: 1.0000 - val_loss: 0.1929 - val_accuracy: 0.9184\n",
            "Epoch 70/200\n",
            "11/11 [==============================] - 1s 50ms/step - loss: 3.5947e-05 - accuracy: 1.0000 - val_loss: 0.1664 - val_accuracy: 0.9388\n",
            "Epoch 71/200\n",
            "11/11 [==============================] - 1s 48ms/step - loss: 5.0756e-05 - accuracy: 1.0000 - val_loss: 0.1402 - val_accuracy: 0.9524\n",
            "Epoch 72/200\n",
            "11/11 [==============================] - 1s 49ms/step - loss: 4.1212e-05 - accuracy: 1.0000 - val_loss: 0.1164 - val_accuracy: 0.9660\n",
            "Epoch 73/200\n",
            "11/11 [==============================] - 1s 48ms/step - loss: 5.3655e-05 - accuracy: 1.0000 - val_loss: 0.1150 - val_accuracy: 0.9660\n",
            "Epoch 74/200\n",
            "11/11 [==============================] - 1s 49ms/step - loss: 5.4253e-05 - accuracy: 1.0000 - val_loss: 0.1056 - val_accuracy: 0.9660\n",
            "Epoch 75/200\n",
            "11/11 [==============================] - 1s 48ms/step - loss: 5.3984e-05 - accuracy: 1.0000 - val_loss: 0.0988 - val_accuracy: 0.9660\n",
            "Epoch 76/200\n",
            "11/11 [==============================] - 1s 49ms/step - loss: 3.6158e-05 - accuracy: 1.0000 - val_loss: 0.0979 - val_accuracy: 0.9728\n",
            "Epoch 77/200\n",
            "11/11 [==============================] - 1s 49ms/step - loss: 4.0816e-05 - accuracy: 1.0000 - val_loss: 0.1073 - val_accuracy: 0.9728\n",
            "Epoch 78/200\n",
            "11/11 [==============================] - 1s 50ms/step - loss: 7.8826e-05 - accuracy: 1.0000 - val_loss: 0.1166 - val_accuracy: 0.9660\n",
            "Epoch 79/200\n",
            "11/11 [==============================] - 1s 52ms/step - loss: 3.4306e-04 - accuracy: 1.0000 - val_loss: 0.2035 - val_accuracy: 0.9456\n",
            "Epoch 80/200\n",
            "11/11 [==============================] - 1s 49ms/step - loss: 1.7877e-04 - accuracy: 1.0000 - val_loss: 1.3621 - val_accuracy: 0.6667\n",
            "Epoch 81/200\n",
            "11/11 [==============================] - 1s 48ms/step - loss: 5.5870e-05 - accuracy: 1.0000 - val_loss: 1.4108 - val_accuracy: 0.6599\n",
            "Epoch 82/200\n",
            "11/11 [==============================] - 1s 51ms/step - loss: 1.4228e-04 - accuracy: 1.0000 - val_loss: 1.1424 - val_accuracy: 0.6871\n",
            "Epoch 83/200\n",
            "11/11 [==============================] - 1s 48ms/step - loss: 5.9038e-05 - accuracy: 1.0000 - val_loss: 0.8305 - val_accuracy: 0.7823\n",
            "Epoch 84/200\n",
            "11/11 [==============================] - 1s 50ms/step - loss: 9.2040e-05 - accuracy: 1.0000 - val_loss: 0.7520 - val_accuracy: 0.8095\n",
            "Epoch 85/200\n",
            "11/11 [==============================] - 1s 49ms/step - loss: 4.0201e-05 - accuracy: 1.0000 - val_loss: 0.6212 - val_accuracy: 0.8435\n",
            "Epoch 86/200\n",
            "11/11 [==============================] - 1s 48ms/step - loss: 1.2160e-04 - accuracy: 1.0000 - val_loss: 0.5097 - val_accuracy: 0.8571\n",
            "Epoch 87/200\n",
            "11/11 [==============================] - 1s 49ms/step - loss: 7.2023e-05 - accuracy: 1.0000 - val_loss: 0.6286 - val_accuracy: 0.8231\n",
            "Epoch 88/200\n",
            "11/11 [==============================] - 1s 48ms/step - loss: 5.6647e-05 - accuracy: 1.0000 - val_loss: 0.5015 - val_accuracy: 0.8367\n",
            "Epoch 89/200\n",
            "11/11 [==============================] - 1s 49ms/step - loss: 4.9515e-05 - accuracy: 1.0000 - val_loss: 0.4217 - val_accuracy: 0.8707\n",
            "Epoch 90/200\n",
            "11/11 [==============================] - 1s 48ms/step - loss: 1.1450e-04 - accuracy: 1.0000 - val_loss: 0.5021 - val_accuracy: 0.8299\n",
            "Epoch 91/200\n",
            "11/11 [==============================] - 1s 50ms/step - loss: 3.7965e-05 - accuracy: 1.0000 - val_loss: 0.9174 - val_accuracy: 0.7619\n",
            "Epoch 92/200\n",
            "11/11 [==============================] - 1s 48ms/step - loss: 6.0800e-05 - accuracy: 1.0000 - val_loss: 0.7394 - val_accuracy: 0.7823\n",
            "Epoch 93/200\n",
            "11/11 [==============================] - 1s 51ms/step - loss: 3.0282e-05 - accuracy: 1.0000 - val_loss: 0.5051 - val_accuracy: 0.8367\n",
            "Epoch 94/200\n",
            "11/11 [==============================] - 1s 47ms/step - loss: 3.6511e-04 - accuracy: 1.0000 - val_loss: 1.3074 - val_accuracy: 0.6939\n",
            "Epoch 95/200\n",
            "11/11 [==============================] - 1s 49ms/step - loss: 1.3653e-04 - accuracy: 1.0000 - val_loss: 1.9050 - val_accuracy: 0.6327\n",
            "Epoch 96/200\n",
            "11/11 [==============================] - 1s 49ms/step - loss: 2.0941e-04 - accuracy: 1.0000 - val_loss: 1.6624 - val_accuracy: 0.7007\n",
            "Epoch 97/200\n",
            "11/11 [==============================] - 1s 50ms/step - loss: 4.7730e-05 - accuracy: 1.0000 - val_loss: 1.8223 - val_accuracy: 0.6735\n",
            "Epoch 98/200\n",
            "11/11 [==============================] - 1s 52ms/step - loss: 4.5454e-05 - accuracy: 1.0000 - val_loss: 3.7056 - val_accuracy: 0.5510\n",
            "Epoch 99/200\n",
            "11/11 [==============================] - 1s 52ms/step - loss: 7.6926e-05 - accuracy: 1.0000 - val_loss: 6.2966 - val_accuracy: 0.5102\n",
            "Epoch 100/200\n",
            "11/11 [==============================] - 1s 49ms/step - loss: 2.4409e-05 - accuracy: 1.0000 - val_loss: 6.5875 - val_accuracy: 0.5102\n",
            "Epoch 101/200\n",
            "11/11 [==============================] - 1s 49ms/step - loss: 7.3590e-05 - accuracy: 1.0000 - val_loss: 6.2560 - val_accuracy: 0.5102\n",
            "Epoch 102/200\n",
            "11/11 [==============================] - 1s 49ms/step - loss: 3.2289e-05 - accuracy: 1.0000 - val_loss: 5.8515 - val_accuracy: 0.5102\n",
            "Epoch 103/200\n",
            "11/11 [==============================] - 1s 49ms/step - loss: 2.1542e-04 - accuracy: 1.0000 - val_loss: 5.3622 - val_accuracy: 0.5102\n",
            "Epoch 104/200\n",
            "11/11 [==============================] - 1s 51ms/step - loss: 9.6210e-05 - accuracy: 1.0000 - val_loss: 5.7686 - val_accuracy: 0.5102\n",
            "Epoch 105/200\n",
            "11/11 [==============================] - 1s 48ms/step - loss: 3.4241e-05 - accuracy: 1.0000 - val_loss: 6.9457 - val_accuracy: 0.5102\n",
            "Epoch 106/200\n",
            "11/11 [==============================] - 1s 50ms/step - loss: 1.2988e-04 - accuracy: 1.0000 - val_loss: 6.5741 - val_accuracy: 0.5102\n",
            "Epoch 107/200\n",
            "11/11 [==============================] - 1s 50ms/step - loss: 2.4351e-05 - accuracy: 1.0000 - val_loss: 5.8493 - val_accuracy: 0.5102\n",
            "Epoch 108/200\n",
            "11/11 [==============================] - 1s 50ms/step - loss: 6.6456e-05 - accuracy: 1.0000 - val_loss: 5.8509 - val_accuracy: 0.5102\n",
            "Epoch 109/200\n",
            "11/11 [==============================] - 1s 50ms/step - loss: 5.7513e-05 - accuracy: 1.0000 - val_loss: 5.5994 - val_accuracy: 0.5102\n",
            "Epoch 110/200\n",
            "11/11 [==============================] - 1s 50ms/step - loss: 2.0251e-05 - accuracy: 1.0000 - val_loss: 5.5880 - val_accuracy: 0.5102\n",
            "Epoch 111/200\n",
            "11/11 [==============================] - 1s 50ms/step - loss: 1.4948e-05 - accuracy: 1.0000 - val_loss: 5.0562 - val_accuracy: 0.5102\n",
            "Epoch 112/200\n",
            "11/11 [==============================] - 1s 50ms/step - loss: 2.1551e-05 - accuracy: 1.0000 - val_loss: 4.3682 - val_accuracy: 0.5238\n",
            "Epoch 113/200\n",
            "11/11 [==============================] - 1s 50ms/step - loss: 2.2882e-05 - accuracy: 1.0000 - val_loss: 3.6179 - val_accuracy: 0.5578\n",
            "Epoch 114/200\n",
            "11/11 [==============================] - 1s 52ms/step - loss: 4.2328e-05 - accuracy: 1.0000 - val_loss: 2.8422 - val_accuracy: 0.5986\n",
            "Epoch 115/200\n",
            "11/11 [==============================] - 1s 50ms/step - loss: 2.0951e-05 - accuracy: 1.0000 - val_loss: 2.2772 - val_accuracy: 0.6395\n",
            "Epoch 116/200\n",
            "11/11 [==============================] - 1s 51ms/step - loss: 1.6035e-05 - accuracy: 1.0000 - val_loss: 1.8645 - val_accuracy: 0.6667\n",
            "Epoch 117/200\n",
            "11/11 [==============================] - 1s 51ms/step - loss: 2.1612e-05 - accuracy: 1.0000 - val_loss: 1.3801 - val_accuracy: 0.7211\n",
            "Epoch 118/200\n",
            "11/11 [==============================] - 1s 50ms/step - loss: 1.8414e-05 - accuracy: 1.0000 - val_loss: 0.9076 - val_accuracy: 0.7755\n",
            "Epoch 119/200\n",
            "11/11 [==============================] - 1s 50ms/step - loss: 2.1167e-05 - accuracy: 1.0000 - val_loss: 0.5124 - val_accuracy: 0.8571\n",
            "Epoch 120/200\n",
            "11/11 [==============================] - 1s 49ms/step - loss: 1.2726e-05 - accuracy: 1.0000 - val_loss: 0.2894 - val_accuracy: 0.9116\n",
            "Epoch 121/200\n",
            "11/11 [==============================] - 1s 49ms/step - loss: 3.8539e-05 - accuracy: 1.0000 - val_loss: 0.2502 - val_accuracy: 0.9252\n",
            "Epoch 122/200\n",
            "11/11 [==============================] - 1s 50ms/step - loss: 1.2521e-05 - accuracy: 1.0000 - val_loss: 0.2098 - val_accuracy: 0.9320\n",
            "Epoch 123/200\n",
            "11/11 [==============================] - 1s 50ms/step - loss: 1.7928e-05 - accuracy: 1.0000 - val_loss: 0.2062 - val_accuracy: 0.9252\n",
            "Epoch 124/200\n",
            "11/11 [==============================] - 1s 49ms/step - loss: 1.7363e-05 - accuracy: 1.0000 - val_loss: 0.2331 - val_accuracy: 0.9252\n",
            "Epoch 125/200\n",
            "11/11 [==============================] - 1s 52ms/step - loss: 2.8087e-05 - accuracy: 1.0000 - val_loss: 0.2531 - val_accuracy: 0.9252\n",
            "Epoch 126/200\n",
            "11/11 [==============================] - 1s 50ms/step - loss: 8.4403e-06 - accuracy: 1.0000 - val_loss: 0.2329 - val_accuracy: 0.9320\n",
            "Epoch 127/200\n",
            "11/11 [==============================] - 1s 49ms/step - loss: 2.0842e-05 - accuracy: 1.0000 - val_loss: 0.2047 - val_accuracy: 0.9388\n",
            "Epoch 128/200\n",
            "11/11 [==============================] - 1s 49ms/step - loss: 2.3014e-05 - accuracy: 1.0000 - val_loss: 0.2484 - val_accuracy: 0.9320\n",
            "Epoch 129/200\n",
            "11/11 [==============================] - 1s 50ms/step - loss: 1.0278e-05 - accuracy: 1.0000 - val_loss: 0.2201 - val_accuracy: 0.9388\n",
            "Epoch 130/200\n",
            "11/11 [==============================] - 1s 50ms/step - loss: 1.6584e-05 - accuracy: 1.0000 - val_loss: 0.1620 - val_accuracy: 0.9592\n",
            "Epoch 131/200\n",
            "11/11 [==============================] - 1s 48ms/step - loss: 4.2508e-05 - accuracy: 1.0000 - val_loss: 0.1969 - val_accuracy: 0.9388\n",
            "Epoch 132/200\n",
            "11/11 [==============================] - 1s 50ms/step - loss: 2.0823e-05 - accuracy: 1.0000 - val_loss: 0.7478 - val_accuracy: 0.8163\n",
            "Epoch 133/200\n",
            "11/11 [==============================] - 1s 50ms/step - loss: 1.4378e-05 - accuracy: 1.0000 - val_loss: 0.9255 - val_accuracy: 0.7959\n",
            "Epoch 134/200\n",
            "11/11 [==============================] - 1s 49ms/step - loss: 1.4478e-05 - accuracy: 1.0000 - val_loss: 0.8298 - val_accuracy: 0.8027\n",
            "Epoch 135/200\n",
            "11/11 [==============================] - 1s 48ms/step - loss: 2.0900e-05 - accuracy: 1.0000 - val_loss: 0.7100 - val_accuracy: 0.8367\n",
            "Epoch 136/200\n",
            "11/11 [==============================] - 1s 53ms/step - loss: 8.7782e-06 - accuracy: 1.0000 - val_loss: 0.5700 - val_accuracy: 0.8707\n",
            "Epoch 137/200\n",
            "11/11 [==============================] - 1s 49ms/step - loss: 1.7385e-05 - accuracy: 1.0000 - val_loss: 0.4557 - val_accuracy: 0.8844\n",
            "Epoch 138/200\n",
            "11/11 [==============================] - 1s 50ms/step - loss: 3.6289e-05 - accuracy: 1.0000 - val_loss: 0.3838 - val_accuracy: 0.9048\n",
            "Epoch 139/200\n",
            "11/11 [==============================] - 1s 51ms/step - loss: 7.0784e-05 - accuracy: 1.0000 - val_loss: 0.6102 - val_accuracy: 0.8639\n",
            "Epoch 140/200\n",
            "11/11 [==============================] - 1s 47ms/step - loss: 1.1880e-05 - accuracy: 1.0000 - val_loss: 1.0420 - val_accuracy: 0.7687\n",
            "Epoch 141/200\n",
            "11/11 [==============================] - 1s 51ms/step - loss: 3.5531e-05 - accuracy: 1.0000 - val_loss: 1.0304 - val_accuracy: 0.7619\n",
            "Epoch 142/200\n",
            "11/11 [==============================] - 1s 50ms/step - loss: 5.3447e-05 - accuracy: 1.0000 - val_loss: 0.5285 - val_accuracy: 0.8639\n",
            "Epoch 143/200\n",
            "11/11 [==============================] - 1s 50ms/step - loss: 1.5797e-05 - accuracy: 1.0000 - val_loss: 0.3103 - val_accuracy: 0.9252\n",
            "Epoch 144/200\n",
            "11/11 [==============================] - 1s 49ms/step - loss: 9.3894e-06 - accuracy: 1.0000 - val_loss: 0.2723 - val_accuracy: 0.9252\n",
            "Epoch 145/200\n",
            "11/11 [==============================] - 1s 50ms/step - loss: 9.0977e-06 - accuracy: 1.0000 - val_loss: 0.2315 - val_accuracy: 0.9320\n",
            "Epoch 146/200\n",
            "11/11 [==============================] - 1s 49ms/step - loss: 2.7176e-05 - accuracy: 1.0000 - val_loss: 0.1756 - val_accuracy: 0.9456\n",
            "Epoch 147/200\n",
            "11/11 [==============================] - 1s 50ms/step - loss: 1.1568e-05 - accuracy: 1.0000 - val_loss: 0.1536 - val_accuracy: 0.9524\n",
            "Epoch 148/200\n",
            "11/11 [==============================] - 1s 50ms/step - loss: 1.1510e-05 - accuracy: 1.0000 - val_loss: 0.1525 - val_accuracy: 0.9524\n",
            "Epoch 149/200\n",
            "11/11 [==============================] - 1s 49ms/step - loss: 1.0422e-05 - accuracy: 1.0000 - val_loss: 0.1579 - val_accuracy: 0.9456\n",
            "Epoch 150/200\n",
            "11/11 [==============================] - 1s 50ms/step - loss: 8.5967e-06 - accuracy: 1.0000 - val_loss: 0.1671 - val_accuracy: 0.9456\n",
            "Epoch 151/200\n",
            "11/11 [==============================] - 1s 51ms/step - loss: 1.0420e-05 - accuracy: 1.0000 - val_loss: 0.1729 - val_accuracy: 0.9456\n",
            "Epoch 152/200\n",
            "11/11 [==============================] - 1s 53ms/step - loss: 1.0637e-05 - accuracy: 1.0000 - val_loss: 0.1755 - val_accuracy: 0.9524\n",
            "Epoch 153/200\n",
            "11/11 [==============================] - 1s 50ms/step - loss: 1.3668e-05 - accuracy: 1.0000 - val_loss: 0.1761 - val_accuracy: 0.9524\n",
            "Epoch 154/200\n",
            "11/11 [==============================] - 1s 54ms/step - loss: 2.1436e-05 - accuracy: 1.0000 - val_loss: 0.1828 - val_accuracy: 0.9524\n",
            "Epoch 155/200\n",
            "11/11 [==============================] - 1s 50ms/step - loss: 4.2760e-05 - accuracy: 1.0000 - val_loss: 0.1632 - val_accuracy: 0.9660\n",
            "Epoch 156/200\n",
            "11/11 [==============================] - 1s 51ms/step - loss: 2.7661e-05 - accuracy: 1.0000 - val_loss: 0.1668 - val_accuracy: 0.9660\n",
            "Epoch 157/200\n",
            "11/11 [==============================] - 1s 51ms/step - loss: 2.0425e-05 - accuracy: 1.0000 - val_loss: 0.1733 - val_accuracy: 0.9660\n",
            "Epoch 158/200\n",
            "11/11 [==============================] - 1s 50ms/step - loss: 1.0889e-05 - accuracy: 1.0000 - val_loss: 0.1760 - val_accuracy: 0.9660\n",
            "Epoch 159/200\n",
            "11/11 [==============================] - 1s 50ms/step - loss: 2.0165e-05 - accuracy: 1.0000 - val_loss: 0.1637 - val_accuracy: 0.9728\n",
            "Epoch 160/200\n",
            "11/11 [==============================] - 1s 51ms/step - loss: 1.2027e-05 - accuracy: 1.0000 - val_loss: 0.1538 - val_accuracy: 0.9796\n",
            "Epoch 161/200\n",
            "11/11 [==============================] - 1s 51ms/step - loss: 8.9764e-05 - accuracy: 1.0000 - val_loss: 0.1779 - val_accuracy: 0.9728\n",
            "Epoch 162/200\n",
            "11/11 [==============================] - 1s 50ms/step - loss: 9.5807e-06 - accuracy: 1.0000 - val_loss: 0.1808 - val_accuracy: 0.9728\n",
            "Epoch 163/200\n",
            "11/11 [==============================] - 1s 50ms/step - loss: 2.8259e-05 - accuracy: 1.0000 - val_loss: 0.1512 - val_accuracy: 0.9728\n",
            "Epoch 164/200\n",
            "11/11 [==============================] - 1s 50ms/step - loss: 1.4624e-05 - accuracy: 1.0000 - val_loss: 0.1420 - val_accuracy: 0.9524\n",
            "Epoch 165/200\n",
            "11/11 [==============================] - 1s 52ms/step - loss: 5.1558e-06 - accuracy: 1.0000 - val_loss: 0.1514 - val_accuracy: 0.9524\n",
            "Epoch 166/200\n",
            "11/11 [==============================] - 1s 50ms/step - loss: 7.1734e-06 - accuracy: 1.0000 - val_loss: 0.1477 - val_accuracy: 0.9524\n",
            "Epoch 167/200\n",
            "11/11 [==============================] - 1s 51ms/step - loss: 2.7117e-05 - accuracy: 1.0000 - val_loss: 0.1071 - val_accuracy: 0.9728\n",
            "Epoch 168/200\n",
            "11/11 [==============================] - 1s 51ms/step - loss: 5.4380e-06 - accuracy: 1.0000 - val_loss: 0.1111 - val_accuracy: 0.9728\n",
            "Epoch 169/200\n",
            "11/11 [==============================] - 1s 50ms/step - loss: 6.3242e-06 - accuracy: 1.0000 - val_loss: 0.1149 - val_accuracy: 0.9728\n",
            "Epoch 170/200\n",
            "11/11 [==============================] - 1s 51ms/step - loss: 1.1894e-05 - accuracy: 1.0000 - val_loss: 0.1220 - val_accuracy: 0.9728\n",
            "Epoch 171/200\n",
            "11/11 [==============================] - 1s 52ms/step - loss: 1.4592e-05 - accuracy: 1.0000 - val_loss: 0.1292 - val_accuracy: 0.9728\n",
            "Epoch 172/200\n",
            "11/11 [==============================] - 1s 51ms/step - loss: 2.7848e-05 - accuracy: 1.0000 - val_loss: 1.0525 - val_accuracy: 0.8231\n",
            "Epoch 173/200\n",
            "11/11 [==============================] - 1s 53ms/step - loss: 6.0969e-06 - accuracy: 1.0000 - val_loss: 1.8502 - val_accuracy: 0.7279\n",
            "Epoch 174/200\n",
            "11/11 [==============================] - 1s 50ms/step - loss: 2.0651e-05 - accuracy: 1.0000 - val_loss: 1.7442 - val_accuracy: 0.7279\n",
            "Epoch 175/200\n",
            "11/11 [==============================] - 1s 49ms/step - loss: 1.7302e-05 - accuracy: 1.0000 - val_loss: 1.3101 - val_accuracy: 0.7823\n",
            "Epoch 176/200\n",
            "11/11 [==============================] - 1s 52ms/step - loss: 3.3037e-05 - accuracy: 1.0000 - val_loss: 0.7653 - val_accuracy: 0.8367\n",
            "Epoch 177/200\n",
            "11/11 [==============================] - 1s 52ms/step - loss: 2.3223e-05 - accuracy: 1.0000 - val_loss: 0.5259 - val_accuracy: 0.8707\n",
            "Epoch 178/200\n",
            "11/11 [==============================] - 1s 51ms/step - loss: 5.2678e-06 - accuracy: 1.0000 - val_loss: 0.3894 - val_accuracy: 0.9048\n",
            "Epoch 179/200\n",
            "11/11 [==============================] - 1s 50ms/step - loss: 4.4787e-05 - accuracy: 1.0000 - val_loss: 0.2919 - val_accuracy: 0.9184\n",
            "Epoch 180/200\n",
            "11/11 [==============================] - 1s 53ms/step - loss: 8.2262e-05 - accuracy: 1.0000 - val_loss: 0.7186 - val_accuracy: 0.8367\n",
            "Epoch 181/200\n",
            "11/11 [==============================] - 1s 49ms/step - loss: 5.8570e-06 - accuracy: 1.0000 - val_loss: 1.5803 - val_accuracy: 0.6939\n",
            "Epoch 182/200\n",
            "11/11 [==============================] - 1s 49ms/step - loss: 3.5083e-04 - accuracy: 1.0000 - val_loss: 4.2905 - val_accuracy: 0.5102\n",
            "Epoch 183/200\n",
            "11/11 [==============================] - 1s 51ms/step - loss: 2.2473e-04 - accuracy: 1.0000 - val_loss: 7.5185 - val_accuracy: 0.5102\n",
            "Epoch 184/200\n",
            "11/11 [==============================] - 1s 50ms/step - loss: 9.8100e-05 - accuracy: 1.0000 - val_loss: 9.1606 - val_accuracy: 0.5102\n",
            "Epoch 185/200\n",
            "11/11 [==============================] - 1s 52ms/step - loss: 5.7075e-04 - accuracy: 1.0000 - val_loss: 15.8195 - val_accuracy: 0.5102\n",
            "Epoch 186/200\n",
            "11/11 [==============================] - 1s 49ms/step - loss: 0.0018 - accuracy: 0.9985 - val_loss: 25.8347 - val_accuracy: 0.5102\n",
            "Epoch 187/200\n",
            "11/11 [==============================] - 1s 50ms/step - loss: 0.2179 - accuracy: 0.9482 - val_loss: 465.4130 - val_accuracy: 0.5102\n",
            "Epoch 188/200\n",
            "11/11 [==============================] - 1s 50ms/step - loss: 0.2252 - accuracy: 0.9256 - val_loss: 627.9824 - val_accuracy: 0.5102\n",
            "Epoch 189/200\n",
            "11/11 [==============================] - 1s 53ms/step - loss: 0.0974 - accuracy: 0.9625 - val_loss: 924.8168 - val_accuracy: 0.5102\n",
            "Epoch 190/200\n",
            "11/11 [==============================] - 1s 50ms/step - loss: 0.0300 - accuracy: 0.9871 - val_loss: 1254.4325 - val_accuracy: 0.5102\n",
            "Epoch 191/200\n",
            "11/11 [==============================] - 1s 52ms/step - loss: 0.0077 - accuracy: 0.9978 - val_loss: 1072.7472 - val_accuracy: 0.5102\n",
            "Epoch 192/200\n",
            "11/11 [==============================] - 1s 53ms/step - loss: 0.0060 - accuracy: 0.9978 - val_loss: 761.3979 - val_accuracy: 0.5102\n",
            "Epoch 193/200\n",
            "11/11 [==============================] - 1s 51ms/step - loss: 0.0096 - accuracy: 0.9986 - val_loss: 576.2757 - val_accuracy: 0.5102\n",
            "Epoch 194/200\n",
            "11/11 [==============================] - 1s 54ms/step - loss: 0.0170 - accuracy: 0.9941 - val_loss: 555.1458 - val_accuracy: 0.5102\n",
            "Epoch 195/200\n",
            "11/11 [==============================] - 1s 50ms/step - loss: 0.0038 - accuracy: 0.9967 - val_loss: 520.7529 - val_accuracy: 0.5102\n",
            "Epoch 196/200\n",
            "11/11 [==============================] - 1s 51ms/step - loss: 0.0235 - accuracy: 0.9909 - val_loss: 454.8916 - val_accuracy: 0.5102\n",
            "Epoch 197/200\n",
            "11/11 [==============================] - 1s 52ms/step - loss: 0.0053 - accuracy: 1.0000 - val_loss: 353.2426 - val_accuracy: 0.5102\n",
            "Epoch 198/200\n",
            "11/11 [==============================] - 1s 51ms/step - loss: 0.0167 - accuracy: 0.9965 - val_loss: 235.5494 - val_accuracy: 0.5102\n",
            "Epoch 199/200\n",
            "11/11 [==============================] - 1s 51ms/step - loss: 0.0074 - accuracy: 0.9993 - val_loss: 185.0487 - val_accuracy: 0.5102\n",
            "Epoch 200/200\n",
            "11/11 [==============================] - 1s 51ms/step - loss: 0.0032 - accuracy: 1.0000 - val_loss: 168.9861 - val_accuracy: 0.5102\n"
          ],
          "name": "stdout"
        }
      ]
    },
    {
      "cell_type": "code",
      "metadata": {
        "id": "cSTlOSUBWMpj"
      },
      "source": [
        "Y_test = yback(Y_test)"
      ],
      "execution_count": 43,
      "outputs": []
    },
    {
      "cell_type": "code",
      "metadata": {
        "colab": {
          "base_uri": "https://localhost:8080/"
        },
        "id": "qpf0XlSARX78",
        "outputId": "0b7ce7db-9a5e-4676-b13a-88d15ae591c7"
      },
      "source": [
        "pred_test= model.predict_classes(X_test)\n",
        "\n",
        "data = {'y_true': Y_test,'y_predict': pred_test}  # este dado esta no formato de dicionario\n",
        "\n",
        "df = pd.DataFrame(data, columns=['y_true','y_predict'])\n",
        "\n",
        "\n",
        "confusion_matrix = pd.crosstab(df['y_true'], df['y_predict'], rownames=['Actual'], colnames=['Predict'])\n",
        "print(confusion_matrix)\n",
        "\n",
        "y_true = df['y_true']\n",
        "y_pred = df['y_predict']\n",
        "\n",
        "  \n",
        "METRICS=sklearn.metrics.classification_report(y_true, y_pred)"
      ],
      "execution_count": 44,
      "outputs": [
        {
          "output_type": "stream",
          "text": [
            "/usr/local/lib/python3.7/dist-packages/keras/engine/sequential.py:450: UserWarning: `model.predict_classes()` is deprecated and will be removed after 2021-01-01. Please use instead:* `np.argmax(model.predict(x), axis=-1)`,   if your model does multi-class classification   (e.g. if it uses a `softmax` last-layer activation).* `(model.predict(x) > 0.5).astype(\"int32\")`,   if your model does binary classification   (e.g. if it uses a `sigmoid` last-layer activation).\n",
            "  warnings.warn('`model.predict_classes()` is deprecated and '\n"
          ],
          "name": "stderr"
        },
        {
          "output_type": "stream",
          "text": [
            "Predict   1\n",
            "Actual     \n",
            "0        72\n",
            "1        75\n"
          ],
          "name": "stdout"
        },
        {
          "output_type": "stream",
          "text": [
            "/usr/local/lib/python3.7/dist-packages/sklearn/metrics/_classification.py:1272: UndefinedMetricWarning: Precision and F-score are ill-defined and being set to 0.0 in labels with no predicted samples. Use `zero_division` parameter to control this behavior.\n",
            "  _warn_prf(average, modifier, msg_start, len(result))\n"
          ],
          "name": "stderr"
        }
      ]
    },
    {
      "cell_type": "code",
      "metadata": {
        "colab": {
          "base_uri": "https://localhost:8080/"
        },
        "id": "_iFNNrlWV9tH",
        "outputId": "2c2d3db1-6861-4ee0-c383-1a67c64deec4"
      },
      "source": [
        "pred_test"
      ],
      "execution_count": 45,
      "outputs": [
        {
          "output_type": "execute_result",
          "data": {
            "text/plain": [
              "array([1, 1, 1, 1, 1, 1, 1, 1, 1, 1, 1, 1, 1, 1, 1, 1, 1, 1, 1, 1, 1, 1,\n",
              "       1, 1, 1, 1, 1, 1, 1, 1, 1, 1, 1, 1, 1, 1, 1, 1, 1, 1, 1, 1, 1, 1,\n",
              "       1, 1, 1, 1, 1, 1, 1, 1, 1, 1, 1, 1, 1, 1, 1, 1, 1, 1, 1, 1, 1, 1,\n",
              "       1, 1, 1, 1, 1, 1, 1, 1, 1, 1, 1, 1, 1, 1, 1, 1, 1, 1, 1, 1, 1, 1,\n",
              "       1, 1, 1, 1, 1, 1, 1, 1, 1, 1, 1, 1, 1, 1, 1, 1, 1, 1, 1, 1, 1, 1,\n",
              "       1, 1, 1, 1, 1, 1, 1, 1, 1, 1, 1, 1, 1, 1, 1, 1, 1, 1, 1, 1, 1, 1,\n",
              "       1, 1, 1, 1, 1, 1, 1, 1, 1, 1, 1, 1, 1, 1, 1])"
            ]
          },
          "metadata": {
            "tags": []
          },
          "execution_count": 45
        }
      ]
    },
    {
      "cell_type": "code",
      "metadata": {
        "id": "QISvYcJBgWbE",
        "colab": {
          "base_uri": "https://localhost:8080/"
        },
        "outputId": "7d137502-24c1-4b50-c3e8-537c944dd8cc"
      },
      "source": [
        "cont = 0; num =25\n",
        "img_graos = []\n",
        "Width_new = []\n",
        "img=ww[2] \n",
        "while( cont < num):\n",
        "  df=Segmenta(img)\n",
        "  df_ann =df.copy()\n",
        "  Width = df['Width']\n",
        "  del df_ann['Width']\n",
        "  result = np.array(df_ann)\n",
        "  result = result.reshape(-1, Img_Size, Img_Size, 1) / 255.0\n",
        "  prediction = model.predict_classes(result)\n",
        "  loc_grao =[];k=0\n",
        "  for i in prediction:\n",
        "    if( i == 0):\n",
        "      img_graos.append(df.iloc[k,:])\n",
        "      Width_new.append(Width.iloc[k])\n",
        "      cont = cont + 1\n",
        "    k = k +1\n",
        "img_graos = pd.DataFrame(img_graos)\n",
        "print(img_graos)"
      ],
      "execution_count": 46,
      "outputs": [
        {
          "output_type": "stream",
          "text": [
            "/usr/local/lib/python3.7/dist-packages/keras/engine/sequential.py:450: UserWarning: `model.predict_classes()` is deprecated and will be removed after 2021-01-01. Please use instead:* `np.argmax(model.predict(x), axis=-1)`,   if your model does multi-class classification   (e.g. if it uses a `softmax` last-layer activation).* `(model.predict(x) > 0.5).astype(\"int32\")`,   if your model does binary classification   (e.g. if it uses a `sigmoid` last-layer activation).\n",
            "  warnings.warn('`model.predict_classes()` is deprecated and '\n"
          ],
          "name": "stderr"
        },
        {
          "output_type": "stream",
          "text": [
            "    Width           0           1  ...         781         782         783\n",
            "0   158.0    3.758532    1.621054  ...  143.864136  142.508896  137.169998\n",
            "4   194.0   85.259323   88.530228  ...   72.289406   71.581779   72.271965\n",
            "5   182.0  121.929001  117.254448  ...    0.147929    0.000000    0.000000\n",
            "6   160.0   68.815628   68.049995  ...  165.588104  168.045624  173.290619\n",
            "8   102.0  131.103439  129.247986  ...  168.856995  170.605560  167.838165\n",
            "9   170.0  100.485405   93.333839  ...    0.000000    0.000000    0.000000\n",
            "10  175.0  136.051193  142.022400  ...   77.308792  100.798386  110.087997\n",
            "12  184.0  164.759430  173.470688  ...   84.988655   84.241013   86.301506\n",
            "13  119.0  129.477493  127.041519  ...  157.276810  127.795853  125.262978\n",
            "16  190.0  139.228806  142.534058  ...  159.520752  192.039886  215.172501\n",
            "17  179.0   67.688156   62.751980  ...    7.572485    7.565463    7.663338\n",
            "18  171.0   76.463013   81.830208  ...    7.882938    7.638761    7.278719\n",
            "19  135.0  146.150726  148.076324  ...  153.634995  173.876266  164.816513\n",
            "20  105.0  199.586685  198.155594  ...  117.128906  114.075569  115.088898\n",
            "21  180.0  217.169891  126.193596  ...   98.455811   99.220757  101.439026\n",
            "22  194.0  143.455399  146.005310  ...  135.752350  137.102539  134.843872\n",
            "23  104.0  109.358002  112.076935  ...  121.048828  117.744095  115.825455\n",
            "24  135.0  140.476105  142.813446  ...  240.812622  239.344223  231.329315\n",
            "25  128.0   82.883789   85.401367  ...   38.237305    5.322266    0.343750\n",
            "26  149.0    5.920274    2.612765  ...  113.889977  123.236168  127.389664\n",
            "27  182.0  142.224854  154.331375  ...   66.994087  113.958588  117.816574\n",
            "28  155.0   92.176079   92.891579  ...    0.453486    0.000000    0.000000\n",
            "30  200.0  141.692413  136.316803  ...  155.965195  149.491196  146.013214\n",
            "32  174.0  141.688873  159.228577  ...  113.957603  117.268600  125.470757\n",
            "33  115.0   95.122185   87.644371  ...   68.230545   61.424568   28.712589\n",
            "34  104.0   77.321014   77.757401  ...  110.079887  116.028122  120.874268\n",
            "37  174.0  169.567734  177.520676  ...  177.199356  180.704315  183.974777\n",
            "39  156.0  138.113754  137.137421  ...  108.358330  153.661407  163.658783\n",
            "41  118.0  130.849182  121.841415  ...   97.382935   96.168335   93.948860\n",
            "43  174.0   95.209007   95.325546  ...  100.492409  100.254730   98.632065\n",
            "44  198.0   70.063255   87.938576  ...   87.099472   49.898579    1.162330\n",
            "46  150.0   91.962303   89.088348  ...    4.848889   15.476801   76.193954\n",
            "48  155.0  127.316963  123.961304  ...  115.992020  114.723885  107.915054\n",
            "\n",
            "[33 rows x 785 columns]\n"
          ],
          "name": "stdout"
        }
      ]
    },
    {
      "cell_type": "code",
      "metadata": {
        "id": "6LkA4vHp-f6_"
      },
      "source": [
        "Width=np.array(Width_new)"
      ],
      "execution_count": 47,
      "outputs": []
    },
    {
      "cell_type": "code",
      "metadata": {
        "colab": {
          "base_uri": "https://localhost:8080/"
        },
        "id": "MjRbWgmX_LFH",
        "outputId": "a632cbe2-7b35-4e0a-e67b-2ecb9a9947e1"
      },
      "source": [
        "!git clone https://github.com/ucfilho/marquesgabi_paper_fev_2021\n",
        "%cd marquesgabi_paper_fev_2021\n",
        "\n",
        "from Get_PSDArea_New import PSDArea\n",
        "from histogram_fev_2021 import PSD\n",
        "from GetBetterSegm import GetBetter"
      ],
      "execution_count": 48,
      "outputs": [
        {
          "output_type": "stream",
          "text": [
            "Cloning into 'marquesgabi_paper_fev_2021'...\n",
            "remote: Enumerating objects: 671, done.\u001b[K\n",
            "remote: Counting objects: 100% (432/432), done.\u001b[K\n",
            "remote: Compressing objects: 100% (430/430), done.\u001b[K\n",
            "remote: Total 671 (delta 270), reused 0 (delta 0), pack-reused 239\u001b[K\n",
            "Receiving objects: 100% (671/671), 5.50 MiB | 12.77 MiB/s, done.\n",
            "Resolving deltas: 100% (407/407), done.\n",
            "/content/marquesgabi_fev_2020/Doutorado/MarquesGabi_Routines/MarquesGabi_Routines/marquesgabi_paper_fev_2021/Doutorado/Doutorado/marquesgabi_fev_2020/Doutorado/MarquesGabi_Routines/MarquesGabi_Routines/marquesgabi_paper_fev_2021\n"
          ],
          "name": "stdout"
        }
      ]
    },
    {
      "cell_type": "code",
      "metadata": {
        "colab": {
          "base_uri": "https://localhost:8080/",
          "height": 659
        },
        "id": "WAG_I6FwCvFr",
        "outputId": "63dbb777-5ab0-45c8-eaef-ced5fe22a4dd"
      },
      "source": [
        "#!git clone https://github.com/ucfilho/marquesgabi_out_2020\n",
        "!git clone https://github.com/marquesgabi/Doutorado\n",
        "\n",
        "%cd Doutorado\n",
        "\n",
        "PSD_imageJ = 'Area_Amostra7.csv' \n",
        "PSD_new = pd.read_csv(PSD_imageJ,encoding='utf8')\n",
        "print(PSD_new.head(3))"
      ],
      "execution_count": 49,
      "outputs": [
        {
          "output_type": "stream",
          "text": [
            "Cloning into 'Doutorado'...\n",
            "remote: Enumerating objects: 380, done.\u001b[K\n",
            "remote: Counting objects: 100% (130/130), done.\u001b[K\n",
            "remote: Compressing objects: 100% (129/129), done.\u001b[K\n",
            "remote: Total 380 (delta 49), reused 0 (delta 0), pack-reused 250\u001b[K\n",
            "Receiving objects: 100% (380/380), 165.45 MiB | 24.64 MiB/s, done.\n",
            "Resolving deltas: 100% (172/172), done.\n",
            "Checking out files: 100% (76/76), done.\n",
            "/content/marquesgabi_fev_2020/Doutorado/MarquesGabi_Routines/MarquesGabi_Routines/marquesgabi_paper_fev_2021/Doutorado/Doutorado/marquesgabi_fev_2020/Doutorado/MarquesGabi_Routines/MarquesGabi_Routines/marquesgabi_paper_fev_2021/Doutorado\n"
          ],
          "name": "stdout"
        },
        {
          "output_type": "error",
          "ename": "UnicodeDecodeError",
          "evalue": "ignored",
          "traceback": [
            "\u001b[0;31m---------------------------------------------------------------------------\u001b[0m",
            "\u001b[0;31mUnicodeDecodeError\u001b[0m                        Traceback (most recent call last)",
            "\u001b[0;32m<ipython-input-49-a51f88212e43>\u001b[0m in \u001b[0;36m<module>\u001b[0;34m()\u001b[0m\n\u001b[1;32m      5\u001b[0m \u001b[0;34m\u001b[0m\u001b[0m\n\u001b[1;32m      6\u001b[0m \u001b[0mPSD_imageJ\u001b[0m \u001b[0;34m=\u001b[0m \u001b[0;34m'Area_Amostra7.csv'\u001b[0m\u001b[0;34m\u001b[0m\u001b[0;34m\u001b[0m\u001b[0m\n\u001b[0;32m----> 7\u001b[0;31m \u001b[0mPSD_new\u001b[0m \u001b[0;34m=\u001b[0m \u001b[0mpd\u001b[0m\u001b[0;34m.\u001b[0m\u001b[0mread_csv\u001b[0m\u001b[0;34m(\u001b[0m\u001b[0mPSD_imageJ\u001b[0m\u001b[0;34m,\u001b[0m\u001b[0mencoding\u001b[0m\u001b[0;34m=\u001b[0m\u001b[0;34m'utf8'\u001b[0m\u001b[0;34m)\u001b[0m\u001b[0;34m\u001b[0m\u001b[0;34m\u001b[0m\u001b[0m\n\u001b[0m\u001b[1;32m      8\u001b[0m \u001b[0mprint\u001b[0m\u001b[0;34m(\u001b[0m\u001b[0mPSD_new\u001b[0m\u001b[0;34m.\u001b[0m\u001b[0mhead\u001b[0m\u001b[0;34m(\u001b[0m\u001b[0;36m3\u001b[0m\u001b[0;34m)\u001b[0m\u001b[0;34m)\u001b[0m\u001b[0;34m\u001b[0m\u001b[0;34m\u001b[0m\u001b[0m\n",
            "\u001b[0;32m/usr/local/lib/python3.7/dist-packages/pandas/io/parsers.py\u001b[0m in \u001b[0;36mread_csv\u001b[0;34m(filepath_or_buffer, sep, delimiter, header, names, index_col, usecols, squeeze, prefix, mangle_dupe_cols, dtype, engine, converters, true_values, false_values, skipinitialspace, skiprows, skipfooter, nrows, na_values, keep_default_na, na_filter, verbose, skip_blank_lines, parse_dates, infer_datetime_format, keep_date_col, date_parser, dayfirst, cache_dates, iterator, chunksize, compression, thousands, decimal, lineterminator, quotechar, quoting, doublequote, escapechar, comment, encoding, dialect, error_bad_lines, warn_bad_lines, delim_whitespace, low_memory, memory_map, float_precision)\u001b[0m\n\u001b[1;32m    686\u001b[0m     )\n\u001b[1;32m    687\u001b[0m \u001b[0;34m\u001b[0m\u001b[0m\n\u001b[0;32m--> 688\u001b[0;31m     \u001b[0;32mreturn\u001b[0m \u001b[0m_read\u001b[0m\u001b[0;34m(\u001b[0m\u001b[0mfilepath_or_buffer\u001b[0m\u001b[0;34m,\u001b[0m \u001b[0mkwds\u001b[0m\u001b[0;34m)\u001b[0m\u001b[0;34m\u001b[0m\u001b[0;34m\u001b[0m\u001b[0m\n\u001b[0m\u001b[1;32m    689\u001b[0m \u001b[0;34m\u001b[0m\u001b[0m\n\u001b[1;32m    690\u001b[0m \u001b[0;34m\u001b[0m\u001b[0m\n",
            "\u001b[0;32m/usr/local/lib/python3.7/dist-packages/pandas/io/parsers.py\u001b[0m in \u001b[0;36m_read\u001b[0;34m(filepath_or_buffer, kwds)\u001b[0m\n\u001b[1;32m    452\u001b[0m \u001b[0;34m\u001b[0m\u001b[0m\n\u001b[1;32m    453\u001b[0m     \u001b[0;31m# Create the parser.\u001b[0m\u001b[0;34m\u001b[0m\u001b[0;34m\u001b[0m\u001b[0;34m\u001b[0m\u001b[0m\n\u001b[0;32m--> 454\u001b[0;31m     \u001b[0mparser\u001b[0m \u001b[0;34m=\u001b[0m \u001b[0mTextFileReader\u001b[0m\u001b[0;34m(\u001b[0m\u001b[0mfp_or_buf\u001b[0m\u001b[0;34m,\u001b[0m \u001b[0;34m**\u001b[0m\u001b[0mkwds\u001b[0m\u001b[0;34m)\u001b[0m\u001b[0;34m\u001b[0m\u001b[0;34m\u001b[0m\u001b[0m\n\u001b[0m\u001b[1;32m    455\u001b[0m \u001b[0;34m\u001b[0m\u001b[0m\n\u001b[1;32m    456\u001b[0m     \u001b[0;32mif\u001b[0m \u001b[0mchunksize\u001b[0m \u001b[0;32mor\u001b[0m \u001b[0miterator\u001b[0m\u001b[0;34m:\u001b[0m\u001b[0;34m\u001b[0m\u001b[0;34m\u001b[0m\u001b[0m\n",
            "\u001b[0;32m/usr/local/lib/python3.7/dist-packages/pandas/io/parsers.py\u001b[0m in \u001b[0;36m__init__\u001b[0;34m(self, f, engine, **kwds)\u001b[0m\n\u001b[1;32m    946\u001b[0m             \u001b[0mself\u001b[0m\u001b[0;34m.\u001b[0m\u001b[0moptions\u001b[0m\u001b[0;34m[\u001b[0m\u001b[0;34m\"has_index_names\"\u001b[0m\u001b[0;34m]\u001b[0m \u001b[0;34m=\u001b[0m \u001b[0mkwds\u001b[0m\u001b[0;34m[\u001b[0m\u001b[0;34m\"has_index_names\"\u001b[0m\u001b[0;34m]\u001b[0m\u001b[0;34m\u001b[0m\u001b[0;34m\u001b[0m\u001b[0m\n\u001b[1;32m    947\u001b[0m \u001b[0;34m\u001b[0m\u001b[0m\n\u001b[0;32m--> 948\u001b[0;31m         \u001b[0mself\u001b[0m\u001b[0;34m.\u001b[0m\u001b[0m_make_engine\u001b[0m\u001b[0;34m(\u001b[0m\u001b[0mself\u001b[0m\u001b[0;34m.\u001b[0m\u001b[0mengine\u001b[0m\u001b[0;34m)\u001b[0m\u001b[0;34m\u001b[0m\u001b[0;34m\u001b[0m\u001b[0m\n\u001b[0m\u001b[1;32m    949\u001b[0m \u001b[0;34m\u001b[0m\u001b[0m\n\u001b[1;32m    950\u001b[0m     \u001b[0;32mdef\u001b[0m \u001b[0mclose\u001b[0m\u001b[0;34m(\u001b[0m\u001b[0mself\u001b[0m\u001b[0;34m)\u001b[0m\u001b[0;34m:\u001b[0m\u001b[0;34m\u001b[0m\u001b[0;34m\u001b[0m\u001b[0m\n",
            "\u001b[0;32m/usr/local/lib/python3.7/dist-packages/pandas/io/parsers.py\u001b[0m in \u001b[0;36m_make_engine\u001b[0;34m(self, engine)\u001b[0m\n\u001b[1;32m   1178\u001b[0m     \u001b[0;32mdef\u001b[0m \u001b[0m_make_engine\u001b[0m\u001b[0;34m(\u001b[0m\u001b[0mself\u001b[0m\u001b[0;34m,\u001b[0m \u001b[0mengine\u001b[0m\u001b[0;34m=\u001b[0m\u001b[0;34m\"c\"\u001b[0m\u001b[0;34m)\u001b[0m\u001b[0;34m:\u001b[0m\u001b[0;34m\u001b[0m\u001b[0;34m\u001b[0m\u001b[0m\n\u001b[1;32m   1179\u001b[0m         \u001b[0;32mif\u001b[0m \u001b[0mengine\u001b[0m \u001b[0;34m==\u001b[0m \u001b[0;34m\"c\"\u001b[0m\u001b[0;34m:\u001b[0m\u001b[0;34m\u001b[0m\u001b[0;34m\u001b[0m\u001b[0m\n\u001b[0;32m-> 1180\u001b[0;31m             \u001b[0mself\u001b[0m\u001b[0;34m.\u001b[0m\u001b[0m_engine\u001b[0m \u001b[0;34m=\u001b[0m \u001b[0mCParserWrapper\u001b[0m\u001b[0;34m(\u001b[0m\u001b[0mself\u001b[0m\u001b[0;34m.\u001b[0m\u001b[0mf\u001b[0m\u001b[0;34m,\u001b[0m \u001b[0;34m**\u001b[0m\u001b[0mself\u001b[0m\u001b[0;34m.\u001b[0m\u001b[0moptions\u001b[0m\u001b[0;34m)\u001b[0m\u001b[0;34m\u001b[0m\u001b[0;34m\u001b[0m\u001b[0m\n\u001b[0m\u001b[1;32m   1181\u001b[0m         \u001b[0;32melse\u001b[0m\u001b[0;34m:\u001b[0m\u001b[0;34m\u001b[0m\u001b[0;34m\u001b[0m\u001b[0m\n\u001b[1;32m   1182\u001b[0m             \u001b[0;32mif\u001b[0m \u001b[0mengine\u001b[0m \u001b[0;34m==\u001b[0m \u001b[0;34m\"python\"\u001b[0m\u001b[0;34m:\u001b[0m\u001b[0;34m\u001b[0m\u001b[0;34m\u001b[0m\u001b[0m\n",
            "\u001b[0;32m/usr/local/lib/python3.7/dist-packages/pandas/io/parsers.py\u001b[0m in \u001b[0;36m__init__\u001b[0;34m(self, src, **kwds)\u001b[0m\n\u001b[1;32m   2008\u001b[0m         \u001b[0mkwds\u001b[0m\u001b[0;34m[\u001b[0m\u001b[0;34m\"usecols\"\u001b[0m\u001b[0;34m]\u001b[0m \u001b[0;34m=\u001b[0m \u001b[0mself\u001b[0m\u001b[0;34m.\u001b[0m\u001b[0musecols\u001b[0m\u001b[0;34m\u001b[0m\u001b[0;34m\u001b[0m\u001b[0m\n\u001b[1;32m   2009\u001b[0m \u001b[0;34m\u001b[0m\u001b[0m\n\u001b[0;32m-> 2010\u001b[0;31m         \u001b[0mself\u001b[0m\u001b[0;34m.\u001b[0m\u001b[0m_reader\u001b[0m \u001b[0;34m=\u001b[0m \u001b[0mparsers\u001b[0m\u001b[0;34m.\u001b[0m\u001b[0mTextReader\u001b[0m\u001b[0;34m(\u001b[0m\u001b[0msrc\u001b[0m\u001b[0;34m,\u001b[0m \u001b[0;34m**\u001b[0m\u001b[0mkwds\u001b[0m\u001b[0;34m)\u001b[0m\u001b[0;34m\u001b[0m\u001b[0;34m\u001b[0m\u001b[0m\n\u001b[0m\u001b[1;32m   2011\u001b[0m         \u001b[0mself\u001b[0m\u001b[0;34m.\u001b[0m\u001b[0munnamed_cols\u001b[0m \u001b[0;34m=\u001b[0m \u001b[0mself\u001b[0m\u001b[0;34m.\u001b[0m\u001b[0m_reader\u001b[0m\u001b[0;34m.\u001b[0m\u001b[0munnamed_cols\u001b[0m\u001b[0;34m\u001b[0m\u001b[0;34m\u001b[0m\u001b[0m\n\u001b[1;32m   2012\u001b[0m \u001b[0;34m\u001b[0m\u001b[0m\n",
            "\u001b[0;32mpandas/_libs/parsers.pyx\u001b[0m in \u001b[0;36mpandas._libs.parsers.TextReader.__cinit__\u001b[0;34m()\u001b[0m\n",
            "\u001b[0;32mpandas/_libs/parsers.pyx\u001b[0m in \u001b[0;36mpandas._libs.parsers.TextReader._get_header\u001b[0;34m()\u001b[0m\n",
            "\u001b[0;32mpandas/_libs/parsers.pyx\u001b[0m in \u001b[0;36mpandas._libs.parsers.TextReader._tokenize_rows\u001b[0;34m()\u001b[0m\n",
            "\u001b[0;32mpandas/_libs/parsers.pyx\u001b[0m in \u001b[0;36mpandas._libs.parsers.raise_parser_error\u001b[0;34m()\u001b[0m\n",
            "\u001b[0;31mUnicodeDecodeError\u001b[0m: 'utf-8' codec can't decode bytes in position 15-16: invalid continuation byte"
          ]
        }
      ]
    },
    {
      "cell_type": "code",
      "metadata": {
        "id": "7tEPjIBnv_xM"
      },
      "source": [
        "PSD_new.shape"
      ],
      "execution_count": null,
      "outputs": []
    },
    {
      "cell_type": "code",
      "metadata": {
        "id": "t_1WIM8w7poO"
      },
      "source": [
        "Area_All, Diameter_All=PSDArea(img_graos) "
      ],
      "execution_count": null,
      "outputs": []
    },
    {
      "cell_type": "code",
      "metadata": {
        "id": "nfagXc-Mv3oa"
      },
      "source": [
        ""
      ],
      "execution_count": null,
      "outputs": []
    },
    {
      "cell_type": "code",
      "metadata": {
        "id": "PekBHQOT_6CP"
      },
      "source": [
        "img_graos.head()"
      ],
      "execution_count": null,
      "outputs": []
    },
    {
      "cell_type": "code",
      "metadata": {
        "id": "4vmhG2LgCabC"
      },
      "source": [
        "Area = np.array(PSD_new['Area'])\n",
        "diam_teste = []\n",
        "for A in Area:\n",
        "  diam_teste.append((4*A/np.pi)**0.5) \n",
        "\n",
        "Diam1 = [ (4*A/np.pi)**0.5 for A in Area]"
      ],
      "execution_count": null,
      "outputs": []
    },
    {
      "cell_type": "code",
      "metadata": {
        "id": "9J705kDqsE8f"
      },
      "source": [
        "X.shape"
      ],
      "execution_count": null,
      "outputs": []
    },
    {
      "cell_type": "code",
      "metadata": {
        "id": "mK1GBUHWiIr4"
      },
      "source": [
        "Freq = [10.52631579, 24.21052632, 36.84210526, 14.73684211,  7.36842105, 0.]\n",
        "Freq2 = [12.90153, 28.11527, 27.66761, 20.21617, 10.34227, 0.]\n",
        "Freq3 = [22.22489, 30.15078, 25.10463, 19.30926, 2.810434, 0.]\n",
        "barWidth = 0.25\n",
        "\n",
        "br1 = range(len(Freq))\n",
        "# Set position of bar on X axis\n",
        "br2 = [x + barWidth for x in br1]\n",
        "br3 = [x + barWidth for x in br2]\n",
        "labels = [0.8, 1.0, 1.2, 1.4, 1.6, 1.8]\n",
        "\n",
        "xx=[]\n",
        "for a in labels:\n",
        "  xx.append(str(a))\n",
        "plt.bar(br1, Freq , color=\"green\", align=\"center\", width=0.3, tick_label= xx) \n",
        "plt.bar(br2, Freq2 , color=\"red\", align=\"center\", width=0.3, tick_label= xx)\n",
        "plt.bar(br3, Freq3 , color=\"blue\", align=\"center\", width=0.3, tick_label= xx)"
      ],
      "execution_count": null,
      "outputs": []
    },
    {
      "cell_type": "code",
      "metadata": {
        "id": "Vfk_fNXGDK5_"
      },
      "source": [
        " wt1 = np.ones(len(Diam1)) / len(Diam1)*100\n",
        " wt2 = np.ones(len(Diameter_All)) / len(Diameter_All)*100\n",
        " X = pd.DataFrame([Diam1,Diameter_All])\n",
        " wts = pd.DataFrame([wt1,wt2])\n",
        "plt.hist(X,weights=wts)\n",
        "plt.legend(['Image J','CNN'])"
      ],
      "execution_count": null,
      "outputs": []
    },
    {
      "cell_type": "code",
      "metadata": {
        "id": "-nGDbBEeiUij"
      },
      "source": [
        "# plt.hist(x, bins=bins, density=True, histtype='step', cumulative=-1,label='Reversed emp.')\n",
        "plt.hist(X, density=True, histtype='step', cumulative=True,label='Reversed emp.')"
      ],
      "execution_count": null,
      "outputs": []
    },
    {
      "cell_type": "code",
      "metadata": {
        "id": "9xENlBUUxfTu"
      },
      "source": [
        "Obj = plt.hist(X, density=True, histtype='step', cumulative=True,label='Reversed emp.')\n",
        "Y1, Y2 = Obj[0]\n",
        "Rsquared = r2_score(Y1, Y2)\n",
        "print('r_squared =',Rsquared)"
      ],
      "execution_count": null,
      "outputs": []
    },
    {
      "cell_type": "code",
      "metadata": {
        "id": "O2XboMiFbkaa"
      },
      "source": [
        "acc_train = r.history['accuracy'][-1]\n",
        "acc_test = r.history['val_accuracy'][-1]\n",
        "loss_train = r.history['loss'][-1]\n",
        "loss_test = r.history['val_loss'][-1]"
      ],
      "execution_count": null,
      "outputs": []
    },
    {
      "cell_type": "code",
      "metadata": {
        "id": "euTd_-CYN1v0"
      },
      "source": [
        "df = pd.DataFrame({'N1':N1, 'N2':N2,'R^2':Rsquared,\n",
        "                   'acc train':acc_train,'acc test':acc_test,\n",
        "                   'loss train':loss_train,'loss test':loss_test,\n",
        "                   'Details':Description},\n",
        "                  index= [0])\n"
      ],
      "execution_count": null,
      "outputs": []
    },
    {
      "cell_type": "code",
      "metadata": {
        "id": "-KukfpGTTKlj"
      },
      "source": [
        "df"
      ],
      "execution_count": null,
      "outputs": []
    },
    {
      "cell_type": "code",
      "metadata": {
        "id": "ZZHa1j4HT9Dq"
      },
      "source": [
        "counts, bins, bars = plt.hist(X,weights=wts)\n",
        "print(bars)\n",
        "print(bins)\n",
        "print(counts)"
      ],
      "execution_count": null,
      "outputs": []
    },
    {
      "cell_type": "code",
      "metadata": {
        "id": "8o_vDGeWUwIZ"
      },
      "source": [
        "print(counts.sum())"
      ],
      "execution_count": null,
      "outputs": []
    },
    {
      "cell_type": "code",
      "metadata": {
        "id": "KcH52-6iJQ8t"
      },
      "source": [
        "\n",
        "plt.hist([Diam1,Diameter_All])\n",
        "plt.legend(['Image J','CNN'])\n"
      ],
      "execution_count": null,
      "outputs": []
    },
    {
      "cell_type": "code",
      "metadata": {
        "id": "r11AxFK_JIii"
      },
      "source": [
        "[Diam1,Diameter_All]"
      ],
      "execution_count": null,
      "outputs": []
    },
    {
      "cell_type": "code",
      "metadata": {
        "id": "4xS7NSM92s_8"
      },
      "source": [
        " bins_list = [0.8, 1.0, 1.2, 1.4,1.6, 1.8,2.0]\n",
        " wt1 = np.ones(len(Diam1)) / len(Diam1)*100\n",
        " wt2 = np.ones(len(Diameter_All)) / len(Diameter_All)*100\n",
        " X = pd.DataFrame([Diam1,Diameter_All])\n",
        " wts = pd.DataFrame([wt1,wt2])\n",
        "plt.hist(X,weights=wts,bins = bins_list)\n",
        "plt.legend(['Image J','CNN'])"
      ],
      "execution_count": null,
      "outputs": []
    },
    {
      "cell_type": "code",
      "metadata": {
        "id": "jD80rFZs37Wm"
      },
      "source": [
        "yy = plt.hist(X,weights=wts,bins = bins_list)"
      ],
      "execution_count": null,
      "outputs": []
    },
    {
      "cell_type": "code",
      "metadata": {
        "id": "edcwJoJP4GBs"
      },
      "source": [
        "yy[0][0]"
      ],
      "execution_count": null,
      "outputs": []
    },
    {
      "cell_type": "code",
      "metadata": {
        "id": "_0zY-NBY6Rgx"
      },
      "source": [
        "bins_list"
      ],
      "execution_count": null,
      "outputs": []
    },
    {
      "cell_type": "code",
      "metadata": {
        "id": "9ujCjAa85RG5"
      },
      "source": [
        "k =0\n",
        "for kk in yy[0][0]:\n",
        "  name = str(bins_list[k])\n",
        "  df[name] = yy[0][1][k]\n",
        "  k = k+1"
      ],
      "execution_count": null,
      "outputs": []
    },
    {
      "cell_type": "code",
      "metadata": {
        "id": "iMQRVn4D69RC"
      },
      "source": [
        "df"
      ],
      "execution_count": null,
      "outputs": []
    },
    {
      "cell_type": "code",
      "metadata": {
        "id": "JMWpAwMq5Hw2"
      },
      "source": [
        "Arq = \"output.xlsx\"\n",
        "df.to_excel(Arq)\n",
        "files.download(Arq)"
      ],
      "execution_count": null,
      "outputs": []
    }
  ]
}