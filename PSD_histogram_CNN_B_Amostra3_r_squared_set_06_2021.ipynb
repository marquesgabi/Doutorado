{
  "nbformat": 4,
  "nbformat_minor": 0,
  "metadata": {
    "colab": {
      "name": "PSD_histogram_CNN_B_Amostra3_r_squared_set_09_2021.ipynb",
      "provenance": [],
      "collapsed_sections": [],
      "include_colab_link": true
    },
    "kernelspec": {
      "display_name": "Python 3",
      "name": "python3"
    }
  },
  "cells": [
    {
      "cell_type": "markdown",
      "metadata": {
        "id": "view-in-github",
        "colab_type": "text"
      },
      "source": [
        "<a href=\"https://colab.research.google.com/github/marquesgabi/Doutorado/blob/master/PSD_histogram_CNN_B_Amostra3_r_squared_set_06_2021.ipynb\" target=\"_parent\"><img src=\"https://colab.research.google.com/assets/colab-badge.svg\" alt=\"Open In Colab\"/></a>"
      ]
    },
    {
      "cell_type": "code",
      "metadata": {
        "id": "Sog7Z9pyhUD_"
      },
      "source": [
        "import matplotlib.pyplot as plt\n",
        "import numpy as np\n",
        "import cv2\n",
        "import zipfile\n",
        "#import random\n",
        "from random import randint\n",
        "from PIL import Image\n",
        "import re\n",
        "from sklearn.model_selection import train_test_split\n",
        "#import scikit-image\n",
        "import skimage\n",
        "import sklearn\n",
        "import pandas as pd\n",
        "from keras.models import Sequential\n",
        "from keras.layers import Dense, Activation, Conv2D, MaxPooling2D, Flatten, Dropout, BatchNormalization\n",
        "from sklearn.metrics import r2_score\n",
        "from google.colab import files"
      ],
      "execution_count": 1,
      "outputs": []
    },
    {
      "cell_type": "code",
      "metadata": {
        "colab": {
          "base_uri": "https://localhost:8080/"
        },
        "id": "uZEvJvfoibE4",
        "outputId": "5fc5cc24-b0c5-4b1d-a227-4eeb00fcc7ed"
      },
      "source": [
        "!pip install mahotas"
      ],
      "execution_count": 2,
      "outputs": [
        {
          "output_type": "stream",
          "name": "stdout",
          "text": [
            "Requirement already satisfied: mahotas in /usr/local/lib/python3.7/dist-packages (1.4.11)\n",
            "Requirement already satisfied: numpy in /usr/local/lib/python3.7/dist-packages (from mahotas) (1.19.5)\n"
          ]
        }
      ]
    },
    {
      "cell_type": "code",
      "metadata": {
        "id": "nf_a6PJ1iUnT"
      },
      "source": [
        "import mahotas.features.texture as mht\n",
        "import mahotas.features"
      ],
      "execution_count": 3,
      "outputs": []
    },
    {
      "cell_type": "code",
      "metadata": {
        "colab": {
          "base_uri": "https://localhost:8080/"
        },
        "id": "_VcTdaNVh9EE",
        "outputId": "0d76a217-2fc7-4a9d-cfcd-cee503fb8314"
      },
      "source": [
        "!git clone https://github.com/ucfilho/marquesgabi_fev_2020 #clonar do Github\n",
        "%cd marquesgabi_fev_2020\n",
        "import Go2BlackWhite\n",
        "import Go2Mahotas"
      ],
      "execution_count": 4,
      "outputs": [
        {
          "output_type": "stream",
          "name": "stdout",
          "text": [
            "fatal: destination path 'marquesgabi_fev_2020' already exists and is not an empty directory.\n",
            "/content/marquesgabi_fev_2020\n"
          ]
        }
      ]
    },
    {
      "cell_type": "code",
      "metadata": {
        "colab": {
          "base_uri": "https://localhost:8080/"
        },
        "id": "1v7SRrc8mH2N",
        "outputId": "90f70b48-9eb8-4c1e-fab7-d24d2b2b76d6"
      },
      "source": [
        "!git clone https://github.com/marquesgabi/Doutorado\n",
        "%cd Doutorado\n",
        "\n",
        "Transfere='Fotos_Grandes_3cdAmostra.zip' \n",
        "file_name = zipfile.ZipFile(Transfere, 'r')\n",
        "file_name.extractall()"
      ],
      "execution_count": 5,
      "outputs": [
        {
          "output_type": "stream",
          "name": "stdout",
          "text": [
            "fatal: destination path 'Doutorado' already exists and is not an empty directory.\n",
            "/content/marquesgabi_fev_2020/Doutorado\n"
          ]
        }
      ]
    },
    {
      "cell_type": "code",
      "metadata": {
        "colab": {
          "base_uri": "https://localhost:8080/"
        },
        "id": "NqIYzUcnrdMp",
        "outputId": "ea3364cb-4b57-4068-80cb-f4cb1d2998ce"
      },
      "source": [
        "labels =[]\n",
        "with zipfile.ZipFile(Transfere, \"r\") as f:\n",
        "  for f in f.namelist():\n",
        "    labels.append(f)\n",
        "print(labels)"
      ],
      "execution_count": 6,
      "outputs": [
        {
          "output_type": "stream",
          "name": "stdout",
          "text": [
            "['Fotos_Grandes-3cdAmostra/Q6-8-4.jpg', 'Fotos_Grandes-3cdAmostra/Q6-5-3.jpg', 'Fotos_Grandes-3cdAmostra/Q6-7-4.jpg', 'Fotos_Grandes-3cdAmostra/Q6-8-2.jpg', 'Fotos_Grandes-3cdAmostra/Q6-3-2.jpg', 'Fotos_Grandes-3cdAmostra/Q6-7-2.jpg', 'Fotos_Grandes-3cdAmostra/Q6-4-4.jpg', 'Fotos_Grandes-3cdAmostra/Q6-9-5.jpg', 'Fotos_Grandes-3cdAmostra/Q6-2-5.jpg', 'Fotos_Grandes-3cdAmostra/Q6-8-3.jpg', 'Fotos_Grandes-3cdAmostra/Q6-9-3.jpg', 'Fotos_Grandes-3cdAmostra/Q6-1-2.jpg', 'Fotos_Grandes-3cdAmostra/Q6-6-3.jpg', 'Fotos_Grandes-3cdAmostra/Q6-3-4.jpg', 'Fotos_Grandes-3cdAmostra/Q6-1-4.jpg', 'Fotos_Grandes-3cdAmostra/Q6-6-2.jpg', 'Fotos_Grandes-3cdAmostra/Q6-4-3.jpg', 'Fotos_Grandes-3cdAmostra/Q6-7-3.jpg', 'Fotos_Grandes-3cdAmostra/Q6-2-2.jpg', 'Fotos_Grandes-3cdAmostra/Q6-9-2.jpg', 'Fotos_Grandes-3cdAmostra/Q6-1-5.jpg', 'Fotos_Grandes-3cdAmostra/Q6-6-5.jpg', 'Fotos_Grandes-3cdAmostra/Q6-2-1.jpg', 'Fotos_Grandes-3cdAmostra/Q6-5-2.jpg', 'Fotos_Grandes-3cdAmostra/Q6-4-1.jpg', 'Fotos_Grandes-3cdAmostra/Q6-3-1.jpg', 'Fotos_Grandes-3cdAmostra/Q6-5-4.jpg']\n"
          ]
        }
      ]
    },
    {
      "cell_type": "code",
      "metadata": {
        "id": "0kA4IWSmasoD"
      },
      "source": [
        "Size=1200 # tamanho da foto\n",
        "ww,img_name=Go2BlackWhite.BlackWhite(Transfere,Size) #Pegamos a primeira foto Grande\n",
        "img=ww[4] \n",
        "# this is the big image we want to segment \n",
        "# ww[0], change it if you want to segment another picture"
      ],
      "execution_count": 7,
      "outputs": []
    },
    {
      "cell_type": "code",
      "metadata": {
        "colab": {
          "base_uri": "https://localhost:8080/"
        },
        "id": "tHgqAnaFyCjp",
        "outputId": "00fe17d3-d06b-4007-90d5-91d5cd89e357"
      },
      "source": [
        "!git clone https://github.com/ucfilho/MarquesGabi_Routines\n",
        "%cd MarquesGabi_Routines"
      ],
      "execution_count": 8,
      "outputs": [
        {
          "output_type": "stream",
          "name": "stdout",
          "text": [
            "fatal: destination path 'MarquesGabi_Routines' already exists and is not an empty directory.\n",
            "/content/marquesgabi_fev_2020/Doutorado/MarquesGabi_Routines\n"
          ]
        }
      ]
    },
    {
      "cell_type": "code",
      "metadata": {
        "id": "qc4rFvzkyWCi"
      },
      "source": [
        "from segment_filter_not_conclude import Segmenta  # got image provided segmented"
      ],
      "execution_count": 9,
      "outputs": []
    },
    {
      "cell_type": "code",
      "metadata": {
        "id": "SnTtH3KDP863"
      },
      "source": [
        "df=Segmenta(img)\n",
        "Img_Size = 28"
      ],
      "execution_count": 10,
      "outputs": []
    },
    {
      "cell_type": "code",
      "metadata": {
        "colab": {
          "base_uri": "https://localhost:8080/"
        },
        "id": "YN5MN5a_v4np",
        "outputId": "d80cf2bd-c1c9-4425-a923-78b49c544482"
      },
      "source": [
        "print(df)"
      ],
      "execution_count": 11,
      "outputs": [
        {
          "output_type": "stream",
          "name": "stdout",
          "text": [
            "    Width           0           1  ...         781         782         783\n",
            "0     133  130.243774  128.387817  ...    0.307479    0.518005    1.465374\n",
            "1     102  103.302963   92.550957  ...  189.091888  188.342560  186.466370\n",
            "2     118  119.457054  116.201088  ...  134.674805  136.027283  137.058029\n",
            "3     124   44.984386   47.443287  ...    1.000000    1.000000    1.000000\n",
            "4     134  117.215195  116.873466  ...  138.024948  136.704834  137.680557\n",
            "5     107  176.333054  147.251892  ...   81.771416   82.066551   88.379593\n",
            "6     119  142.979233  152.446365  ...  108.930794  126.197235  137.871964\n",
            "7     145  107.998383  107.314240  ...  158.094086  158.433716  156.161301\n",
            "8     136  180.668686  164.006058  ...  237.807968  226.825272  209.068329\n",
            "9     197   94.658157   80.931648  ...  151.816757  154.131287  160.797165\n",
            "10    155  148.806915  148.386185  ...  153.454361  159.595154  158.721542\n",
            "11    185  164.642517  159.442108  ...  133.324814  128.978607  135.920197\n",
            "12    176  176.843506  225.145645  ...  193.392044  193.994324  188.921478\n",
            "13    175  163.427200  168.863998  ...  175.943985  178.918396  181.823990\n",
            "14    140  157.559998  196.839996  ...  148.399994  149.800003  148.039993\n",
            "15    114  171.655273  173.474915  ...  167.611893  171.466614  174.499542\n",
            "16    199  133.116486  176.502655  ...    1.506932    0.245802    1.310169\n",
            "17    188    0.640109    0.555002  ...  156.896332  205.942505  201.810776\n",
            "18    139  143.584229  140.262863  ...  153.028244  147.107086  120.186630\n",
            "19    159  230.179169  222.843704  ...    0.321427    1.383213    1.000000\n",
            "20    110  152.157013  152.044632  ...  177.136200  162.833054  148.951401\n",
            "21    150  138.961426  117.758583  ...    1.000000    1.000000    1.000000\n",
            "22    111  108.820305   95.931740  ...  148.999756  144.458237  126.850746\n",
            "23    165   63.976089   63.550014  ...    0.574252    1.710670    0.884812\n",
            "24    191  191.443573  187.441528  ...    0.301033    0.921713    0.593213\n",
            "25    107    0.806795    1.330160  ...   90.532280   84.264214   84.837715\n",
            "26    108  149.456787  154.116592  ...  158.847733  166.611801  165.259262\n",
            "27    165  169.081909  165.048920  ...   78.764809  113.178772  127.333992\n",
            "28    186  188.862885  191.129288  ...  137.966125  168.673035  176.179794\n",
            "29    162    0.917543    0.135040  ...    0.104405    0.985216    1.684195\n",
            "30    164  105.433670  101.704941  ...  156.775711  152.096375  151.363480\n",
            "31    143  137.870071  126.853981  ...  158.225784  158.644394  158.919113\n",
            "32    146   96.789635  107.402138  ...    0.543629    0.379246    1.420341\n",
            "33    179   65.491127   66.244095  ...  150.497726  134.618149  127.411324\n",
            "34    199  170.086090  183.786255  ...    1.200348    0.619580    0.584733\n",
            "35    147    0.854875    1.807256  ...   94.283447   84.512474   75.251701\n",
            "36    192  146.741318  117.545128  ...    1.396267    0.167535    1.312934\n",
            "37    144  149.283966  139.310181  ...  172.137360  177.165894  176.429031\n",
            "38    129   94.791122   96.735588  ...    0.937804    1.302325    1.207500\n",
            "39    144  109.583336  109.253853  ...  134.330246  147.750015  167.076385\n",
            "40    133  204.191147  203.969543  ...  159.609421  147.365646  128.717453\n",
            "41    193  108.207191   96.078667  ...  172.221756  171.166611  171.741211\n",
            "42    149  159.843033  155.254318  ...  238.478729  242.682419  246.817902\n",
            "43    192  155.647552  133.950943  ...    1.396267    0.167535    1.312934\n",
            "44    147   91.938782  111.929710  ...    1.321995    1.512472    0.464853\n",
            "45    153  139.923920  132.668259  ...    0.654406    0.314537    1.399504\n",
            "46    190  103.214058   95.662819  ...    1.386149    0.193352    1.333518\n",
            "47    168  117.888893  148.500000  ...  232.222229  246.916672  252.972229\n",
            "48    139  144.333572  145.759888  ...    0.421873    0.450650    1.443455\n",
            "49    172  187.427811  181.083282  ...  136.350464  128.246094  110.409958\n",
            "\n",
            "[50 rows x 785 columns]\n"
          ]
        }
      ]
    },
    {
      "cell_type": "code",
      "metadata": {
        "colab": {
          "base_uri": "https://localhost:8080/",
          "height": 52
        },
        "id": "xzpQ1Pz0fX5L",
        "outputId": "0a7b72e5-f281-4159-dd96-9959c3ca54ec"
      },
      "source": [
        "'''\n",
        "!git clone https://github.com/ucfilho/MarquesGabi_Routines\n",
        "%cd MarquesGabi_Routines\n",
        "# filename = 'model_ANN.pkl'\n",
        "filename = 'model_ANN_new.pkl'\n",
        "model = joblib.load(filename)\n",
        "'''"
      ],
      "execution_count": 12,
      "outputs": [
        {
          "output_type": "execute_result",
          "data": {
            "application/vnd.google.colaboratory.intrinsic+json": {
              "type": "string"
            },
            "text/plain": [
              "\"\\n!git clone https://github.com/ucfilho/MarquesGabi_Routines\\n%cd MarquesGabi_Routines\\n# filename = 'model_ANN.pkl'\\nfilename = 'model_ANN_new.pkl'\\nmodel = joblib.load(filename)\\n\""
            ]
          },
          "metadata": {},
          "execution_count": 12
        }
      ]
    },
    {
      "cell_type": "code",
      "metadata": {
        "colab": {
          "base_uri": "https://localhost:8080/"
        },
        "id": "xR2emP4rNjQy",
        "outputId": "04d8548f-f619-4bcc-beab-4d65d42ef742"
      },
      "source": [
        "!git clone https://github.com/ucfilho/MarquesGabi_Routines\n",
        "%cd MarquesGabi_Routines"
      ],
      "execution_count": 13,
      "outputs": [
        {
          "output_type": "stream",
          "name": "stdout",
          "text": [
            "fatal: destination path 'MarquesGabi_Routines' already exists and is not an empty directory.\n",
            "/content/marquesgabi_fev_2020/Doutorado/MarquesGabi_Routines/MarquesGabi_Routines\n"
          ]
        }
      ]
    },
    {
      "cell_type": "code",
      "metadata": {
        "id": "O6cMHOrlNliO"
      },
      "source": [
        "# leitura dos dados\n",
        "df=pd.read_excel(\"FotosTreinoRede.xlsx\")\n",
        "y = df['y']\n",
        "df.drop(['Unnamed: 0','y'], axis='columns', inplace=True)"
      ],
      "execution_count": 14,
      "outputs": []
    },
    {
      "cell_type": "code",
      "metadata": {
        "id": "zQO8d2QbNqj0"
      },
      "source": [
        "X =np.array(df.copy())/255.0 \n",
        "\n",
        "\n",
        "X_train, X_test, Y_train, Y_test = train_test_split(X, y, test_size=0.30, shuffle=True, random_state=42)"
      ],
      "execution_count": 15,
      "outputs": []
    },
    {
      "cell_type": "code",
      "metadata": {
        "id": "gIFPGE_-vx3T"
      },
      "source": [
        ""
      ],
      "execution_count": 15,
      "outputs": []
    },
    {
      "cell_type": "code",
      "metadata": {
        "id": "23iKv6bDPWQl"
      },
      "source": [
        "# helper\n",
        "def ynindicator(Y):\n",
        "  N = len(Y)\n",
        "  K = len(set(Y))\n",
        "  I = np.zeros((N, K))\n",
        "  I[np.arange(N), Y] = 1\n",
        "  return I\n",
        "\n",
        "def yback(Y_test):\n",
        "  nrow, ncol = Y_test.shape\n",
        "  y_class = np.zeros(nrow,dtype=int)\n",
        "  y_resp = Y_test\n",
        "  for k in range(nrow):\n",
        "    for kk in range(K):\n",
        "      if(y_resp[k,kk] == 1):\n",
        "        y_class[k] = kk\n",
        "  Y_test = y_class.copy()\n",
        "  return Y_test\n",
        "\n",
        "X_train = np.array(X_train)\n",
        "Y_train = np.array(Y_train)\n",
        "K = len(set(Y_train))\n",
        "\n",
        "X_train = X_train.reshape(-1, Img_Size, Img_Size, 1) / 255.0\n",
        "Y_train = Y_train.astype(np.int32)\n",
        "Y_train = ynindicator(Y_train)\n",
        "\n",
        "X_test = np.array(X_test )\n",
        "Y_test = np.array(Y_test)\n",
        "X_test = X_test.reshape(-1, Img_Size, Img_Size, 1) / 255.0\n",
        "Y_test = Y_test.astype(np.int32)\n",
        "Y_test = ynindicator(Y_test)\n",
        "\n",
        "# the model will be a sequence of layers\n",
        "\n",
        "Description = '3 layers of Convolution: 64, 128, 256 '\n",
        "N1 = 20\n",
        "N2 = 20\n",
        "\n",
        "# make the CNN\n",
        "model = Sequential()\n",
        "model.add(Conv2D(input_shape=(Img_Size, Img_Size, 1), filters=64, kernel_size=(3, 3)))\n",
        "model.add(BatchNormalization())\n",
        "model.add(Activation('relu'))\n",
        "model.add(MaxPooling2D())\n",
        "\n",
        "model.add(Conv2D(filters=128, kernel_size=(3, 3)))\n",
        "model.add(BatchNormalization())\n",
        "model.add(Activation('relu'))\n",
        "model.add(MaxPooling2D())\n",
        "\n",
        "model.add(Conv2D(filters=256, kernel_size=(3, 3)))\n",
        "model.add(BatchNormalization())\n",
        "model.add(Activation('relu'))\n",
        "model.add(MaxPooling2D())\n",
        "\n",
        "model.add(Flatten())\n",
        "model.add(Dense(units=N1))\n",
        "model.add(Dropout(0.2))\n",
        "model.add(Dense(units=N2))\n",
        "model.add(Activation('relu'))\n",
        "#model.add(Dropout(0.2))\n",
        "model.add(Dense(units=K))\n",
        "model.add(Activation('softmax'))\n",
        "\n",
        "\n",
        "# list of losses: https://keras.io/losses/\n",
        "# list of optimizers: https://keras.io/optimizers/\n",
        "# list of metrics: https://keras.io/metrics/\n",
        "model.compile(\n",
        "  loss='categorical_crossentropy',\n",
        "  optimizer='adam',\n",
        "  metrics=['accuracy']\n",
        ")"
      ],
      "execution_count": 16,
      "outputs": []
    },
    {
      "cell_type": "code",
      "metadata": {
        "colab": {
          "base_uri": "https://localhost:8080/"
        },
        "id": "FpbPQ1FSRG6A",
        "outputId": "2114e73b-4cd5-4d05-f5b5-113ee29ee3b6"
      },
      "source": [
        "\n",
        "# training the model\n",
        "r = model.fit(X_train, Y_train, validation_data=(X_test,Y_test), \n",
        "              epochs=200, batch_size=32)"
      ],
      "execution_count": 17,
      "outputs": [
        {
          "output_type": "stream",
          "name": "stdout",
          "text": [
            "Epoch 1/200\n",
            "11/11 [==============================] - 2s 134ms/step - loss: 0.5748 - accuracy: 0.6968 - val_loss: 0.6931 - val_accuracy: 0.5102\n",
            "Epoch 2/200\n",
            "11/11 [==============================] - 1s 117ms/step - loss: 0.4075 - accuracy: 0.8163 - val_loss: 0.6930 - val_accuracy: 0.4898\n",
            "Epoch 3/200\n",
            "11/11 [==============================] - 1s 115ms/step - loss: 0.2835 - accuracy: 0.8805 - val_loss: 0.6930 - val_accuracy: 0.4898\n",
            "Epoch 4/200\n",
            "11/11 [==============================] - 1s 112ms/step - loss: 0.1598 - accuracy: 0.9417 - val_loss: 0.6929 - val_accuracy: 0.5102\n",
            "Epoch 5/200\n",
            "11/11 [==============================] - 1s 115ms/step - loss: 0.1090 - accuracy: 0.9592 - val_loss: 0.6927 - val_accuracy: 0.5102\n",
            "Epoch 6/200\n",
            "11/11 [==============================] - 1s 116ms/step - loss: 0.1134 - accuracy: 0.9446 - val_loss: 0.6925 - val_accuracy: 0.5102\n",
            "Epoch 7/200\n",
            "11/11 [==============================] - 1s 114ms/step - loss: 0.0647 - accuracy: 0.9854 - val_loss: 0.6925 - val_accuracy: 0.5102\n",
            "Epoch 8/200\n",
            "11/11 [==============================] - 1s 116ms/step - loss: 0.0332 - accuracy: 0.9913 - val_loss: 0.6926 - val_accuracy: 0.5102\n",
            "Epoch 9/200\n",
            "11/11 [==============================] - 1s 117ms/step - loss: 0.0346 - accuracy: 0.9913 - val_loss: 0.6930 - val_accuracy: 0.5102\n",
            "Epoch 10/200\n",
            "11/11 [==============================] - 1s 117ms/step - loss: 0.0342 - accuracy: 0.9825 - val_loss: 0.6924 - val_accuracy: 0.5102\n",
            "Epoch 11/200\n",
            "11/11 [==============================] - 1s 115ms/step - loss: 0.0145 - accuracy: 1.0000 - val_loss: 0.6920 - val_accuracy: 0.5102\n",
            "Epoch 12/200\n",
            "11/11 [==============================] - 1s 115ms/step - loss: 0.0109 - accuracy: 0.9971 - val_loss: 0.6928 - val_accuracy: 0.5102\n",
            "Epoch 13/200\n",
            "11/11 [==============================] - 1s 114ms/step - loss: 0.0083 - accuracy: 1.0000 - val_loss: 0.6949 - val_accuracy: 0.5102\n",
            "Epoch 14/200\n",
            "11/11 [==============================] - 1s 114ms/step - loss: 0.0074 - accuracy: 1.0000 - val_loss: 0.6982 - val_accuracy: 0.5102\n",
            "Epoch 15/200\n",
            "11/11 [==============================] - 1s 118ms/step - loss: 0.0108 - accuracy: 0.9971 - val_loss: 0.6997 - val_accuracy: 0.5102\n",
            "Epoch 16/200\n",
            "11/11 [==============================] - 1s 120ms/step - loss: 0.0218 - accuracy: 0.9942 - val_loss: 0.7043 - val_accuracy: 0.5102\n",
            "Epoch 17/200\n",
            "11/11 [==============================] - 1s 119ms/step - loss: 0.0211 - accuracy: 0.9942 - val_loss: 0.7066 - val_accuracy: 0.5102\n",
            "Epoch 18/200\n",
            "11/11 [==============================] - 1s 116ms/step - loss: 0.0132 - accuracy: 0.9971 - val_loss: 0.7166 - val_accuracy: 0.5102\n",
            "Epoch 19/200\n",
            "11/11 [==============================] - 1s 120ms/step - loss: 0.0103 - accuracy: 0.9971 - val_loss: 0.7070 - val_accuracy: 0.5102\n",
            "Epoch 20/200\n",
            "11/11 [==============================] - 1s 120ms/step - loss: 0.0071 - accuracy: 1.0000 - val_loss: 0.7178 - val_accuracy: 0.5102\n",
            "Epoch 21/200\n",
            "11/11 [==============================] - 1s 121ms/step - loss: 0.0044 - accuracy: 1.0000 - val_loss: 0.7351 - val_accuracy: 0.5102\n",
            "Epoch 22/200\n",
            "11/11 [==============================] - 1s 120ms/step - loss: 0.0101 - accuracy: 0.9971 - val_loss: 0.7596 - val_accuracy: 0.5102\n",
            "Epoch 23/200\n",
            "11/11 [==============================] - 1s 125ms/step - loss: 0.0096 - accuracy: 1.0000 - val_loss: 0.7528 - val_accuracy: 0.5102\n",
            "Epoch 24/200\n",
            "11/11 [==============================] - 1s 121ms/step - loss: 0.0136 - accuracy: 0.9913 - val_loss: 0.8404 - val_accuracy: 0.5102\n",
            "Epoch 25/200\n",
            "11/11 [==============================] - 1s 123ms/step - loss: 0.0135 - accuracy: 0.9913 - val_loss: 0.8028 - val_accuracy: 0.5102\n",
            "Epoch 26/200\n",
            "11/11 [==============================] - 1s 121ms/step - loss: 0.0192 - accuracy: 0.9942 - val_loss: 1.0166 - val_accuracy: 0.5102\n",
            "Epoch 27/200\n",
            "11/11 [==============================] - 1s 126ms/step - loss: 0.0233 - accuracy: 0.9854 - val_loss: 1.1278 - val_accuracy: 0.5102\n",
            "Epoch 28/200\n",
            "11/11 [==============================] - 1s 121ms/step - loss: 0.0174 - accuracy: 0.9913 - val_loss: 1.5772 - val_accuracy: 0.5102\n",
            "Epoch 29/200\n",
            "11/11 [==============================] - 1s 128ms/step - loss: 0.0162 - accuracy: 0.9913 - val_loss: 2.5463 - val_accuracy: 0.5102\n",
            "Epoch 30/200\n",
            "11/11 [==============================] - 1s 125ms/step - loss: 0.0355 - accuracy: 0.9883 - val_loss: 0.7372 - val_accuracy: 0.5102\n",
            "Epoch 31/200\n",
            "11/11 [==============================] - 1s 123ms/step - loss: 0.0392 - accuracy: 0.9796 - val_loss: 1.6694 - val_accuracy: 0.5102\n",
            "Epoch 32/200\n",
            "11/11 [==============================] - 1s 122ms/step - loss: 0.0543 - accuracy: 0.9825 - val_loss: 2.5771 - val_accuracy: 0.5102\n",
            "Epoch 33/200\n",
            "11/11 [==============================] - 1s 117ms/step - loss: 0.0621 - accuracy: 0.9883 - val_loss: 1.7681 - val_accuracy: 0.5102\n",
            "Epoch 34/200\n",
            "11/11 [==============================] - 1s 121ms/step - loss: 0.0358 - accuracy: 0.9913 - val_loss: 0.7621 - val_accuracy: 0.5102\n",
            "Epoch 35/200\n",
            "11/11 [==============================] - 1s 121ms/step - loss: 0.0249 - accuracy: 0.9883 - val_loss: 1.8731 - val_accuracy: 0.5102\n",
            "Epoch 36/200\n",
            "11/11 [==============================] - 1s 124ms/step - loss: 0.0134 - accuracy: 0.9942 - val_loss: 3.0010 - val_accuracy: 0.5102\n",
            "Epoch 37/200\n",
            "11/11 [==============================] - 1s 121ms/step - loss: 0.0063 - accuracy: 1.0000 - val_loss: 1.4351 - val_accuracy: 0.5102\n",
            "Epoch 38/200\n",
            "11/11 [==============================] - 1s 124ms/step - loss: 0.0012 - accuracy: 1.0000 - val_loss: 1.1550 - val_accuracy: 0.5102\n",
            "Epoch 39/200\n",
            "11/11 [==============================] - 1s 121ms/step - loss: 0.0014 - accuracy: 1.0000 - val_loss: 1.2009 - val_accuracy: 0.5102\n",
            "Epoch 40/200\n",
            "11/11 [==============================] - 1s 120ms/step - loss: 0.0026 - accuracy: 1.0000 - val_loss: 1.3787 - val_accuracy: 0.5102\n",
            "Epoch 41/200\n",
            "11/11 [==============================] - 1s 117ms/step - loss: 0.0011 - accuracy: 1.0000 - val_loss: 1.2828 - val_accuracy: 0.5102\n",
            "Epoch 42/200\n",
            "11/11 [==============================] - 1s 121ms/step - loss: 0.0011 - accuracy: 1.0000 - val_loss: 1.2474 - val_accuracy: 0.5102\n",
            "Epoch 43/200\n",
            "11/11 [==============================] - 1s 120ms/step - loss: 0.0012 - accuracy: 1.0000 - val_loss: 1.1621 - val_accuracy: 0.5102\n",
            "Epoch 44/200\n",
            "11/11 [==============================] - 1s 123ms/step - loss: 5.6066e-04 - accuracy: 1.0000 - val_loss: 1.1736 - val_accuracy: 0.5102\n",
            "Epoch 45/200\n",
            "11/11 [==============================] - 1s 118ms/step - loss: 6.2736e-04 - accuracy: 1.0000 - val_loss: 1.1632 - val_accuracy: 0.5102\n",
            "Epoch 46/200\n",
            "11/11 [==============================] - 1s 120ms/step - loss: 4.3753e-04 - accuracy: 1.0000 - val_loss: 1.1957 - val_accuracy: 0.5102\n",
            "Epoch 47/200\n",
            "11/11 [==============================] - 1s 119ms/step - loss: 0.0023 - accuracy: 1.0000 - val_loss: 1.1919 - val_accuracy: 0.5102\n",
            "Epoch 48/200\n",
            "11/11 [==============================] - 1s 124ms/step - loss: 4.0851e-04 - accuracy: 1.0000 - val_loss: 1.1632 - val_accuracy: 0.5102\n",
            "Epoch 49/200\n",
            "11/11 [==============================] - 1s 124ms/step - loss: 5.9375e-04 - accuracy: 1.0000 - val_loss: 1.1250 - val_accuracy: 0.5102\n",
            "Epoch 50/200\n",
            "11/11 [==============================] - 1s 124ms/step - loss: 0.0017 - accuracy: 1.0000 - val_loss: 1.4293 - val_accuracy: 0.5102\n",
            "Epoch 51/200\n",
            "11/11 [==============================] - 1s 125ms/step - loss: 4.7690e-04 - accuracy: 1.0000 - val_loss: 1.7491 - val_accuracy: 0.5102\n",
            "Epoch 52/200\n",
            "11/11 [==============================] - 1s 126ms/step - loss: 3.0802e-04 - accuracy: 1.0000 - val_loss: 1.9152 - val_accuracy: 0.5102\n",
            "Epoch 53/200\n",
            "11/11 [==============================] - 1s 126ms/step - loss: 0.0010 - accuracy: 1.0000 - val_loss: 1.9828 - val_accuracy: 0.5102\n",
            "Epoch 54/200\n",
            "11/11 [==============================] - 1s 126ms/step - loss: 0.0013 - accuracy: 1.0000 - val_loss: 2.1723 - val_accuracy: 0.5102\n",
            "Epoch 55/200\n",
            "11/11 [==============================] - 1s 127ms/step - loss: 1.4170e-04 - accuracy: 1.0000 - val_loss: 2.4620 - val_accuracy: 0.5102\n",
            "Epoch 56/200\n",
            "11/11 [==============================] - 1s 125ms/step - loss: 6.3775e-04 - accuracy: 1.0000 - val_loss: 2.4615 - val_accuracy: 0.5102\n",
            "Epoch 57/200\n",
            "11/11 [==============================] - 1s 124ms/step - loss: 6.0532e-04 - accuracy: 1.0000 - val_loss: 2.1984 - val_accuracy: 0.5102\n",
            "Epoch 58/200\n",
            "11/11 [==============================] - 1s 125ms/step - loss: 5.5372e-04 - accuracy: 1.0000 - val_loss: 2.0167 - val_accuracy: 0.5170\n",
            "Epoch 59/200\n",
            "11/11 [==============================] - 1s 125ms/step - loss: 5.3169e-04 - accuracy: 1.0000 - val_loss: 1.8690 - val_accuracy: 0.5170\n",
            "Epoch 60/200\n",
            "11/11 [==============================] - 1s 124ms/step - loss: 2.6833e-04 - accuracy: 1.0000 - val_loss: 1.6133 - val_accuracy: 0.5374\n",
            "Epoch 61/200\n",
            "11/11 [==============================] - 1s 129ms/step - loss: 3.7018e-04 - accuracy: 1.0000 - val_loss: 1.4239 - val_accuracy: 0.5850\n",
            "Epoch 62/200\n",
            "11/11 [==============================] - 1s 127ms/step - loss: 2.5044e-04 - accuracy: 1.0000 - val_loss: 1.3829 - val_accuracy: 0.6122\n",
            "Epoch 63/200\n",
            "11/11 [==============================] - 1s 126ms/step - loss: 2.8591e-04 - accuracy: 1.0000 - val_loss: 1.2182 - val_accuracy: 0.6463\n",
            "Epoch 64/200\n",
            "11/11 [==============================] - 1s 122ms/step - loss: 1.8038e-04 - accuracy: 1.0000 - val_loss: 1.5122 - val_accuracy: 0.5782\n",
            "Epoch 65/200\n",
            "11/11 [==============================] - 1s 126ms/step - loss: 1.8966e-04 - accuracy: 1.0000 - val_loss: 1.6125 - val_accuracy: 0.5850\n",
            "Epoch 66/200\n",
            "11/11 [==============================] - 1s 128ms/step - loss: 1.0260e-04 - accuracy: 1.0000 - val_loss: 1.4992 - val_accuracy: 0.6190\n",
            "Epoch 67/200\n",
            "11/11 [==============================] - 1s 126ms/step - loss: 1.6987e-04 - accuracy: 1.0000 - val_loss: 1.2747 - val_accuracy: 0.7075\n",
            "Epoch 68/200\n",
            "11/11 [==============================] - 1s 126ms/step - loss: 1.8348e-04 - accuracy: 1.0000 - val_loss: 1.0154 - val_accuracy: 0.7483\n",
            "Epoch 69/200\n",
            "11/11 [==============================] - 1s 128ms/step - loss: 2.5220e-04 - accuracy: 1.0000 - val_loss: 0.8002 - val_accuracy: 0.7823\n",
            "Epoch 70/200\n",
            "11/11 [==============================] - 1s 126ms/step - loss: 1.6278e-04 - accuracy: 1.0000 - val_loss: 0.6879 - val_accuracy: 0.8027\n",
            "Epoch 71/200\n",
            "11/11 [==============================] - 1s 128ms/step - loss: 1.0528e-04 - accuracy: 1.0000 - val_loss: 0.5049 - val_accuracy: 0.8435\n",
            "Epoch 72/200\n",
            "11/11 [==============================] - 1s 124ms/step - loss: 2.8015e-04 - accuracy: 1.0000 - val_loss: 0.3598 - val_accuracy: 0.8776\n",
            "Epoch 73/200\n",
            "11/11 [==============================] - 1s 127ms/step - loss: 1.3786e-04 - accuracy: 1.0000 - val_loss: 0.2692 - val_accuracy: 0.9184\n",
            "Epoch 74/200\n",
            "11/11 [==============================] - 1s 130ms/step - loss: 1.9628e-04 - accuracy: 1.0000 - val_loss: 0.2112 - val_accuracy: 0.9388\n",
            "Epoch 75/200\n",
            "11/11 [==============================] - 1s 127ms/step - loss: 1.5582e-04 - accuracy: 1.0000 - val_loss: 0.1718 - val_accuracy: 0.9524\n",
            "Epoch 76/200\n",
            "11/11 [==============================] - 1s 128ms/step - loss: 1.7993e-04 - accuracy: 1.0000 - val_loss: 0.1741 - val_accuracy: 0.9524\n",
            "Epoch 77/200\n",
            "11/11 [==============================] - 1s 127ms/step - loss: 4.5057e-04 - accuracy: 1.0000 - val_loss: 2.6540 - val_accuracy: 0.5714\n",
            "Epoch 78/200\n",
            "11/11 [==============================] - 1s 124ms/step - loss: 2.3417e-04 - accuracy: 1.0000 - val_loss: 3.7597 - val_accuracy: 0.5238\n",
            "Epoch 79/200\n",
            "11/11 [==============================] - 1s 124ms/step - loss: 2.0688e-04 - accuracy: 1.0000 - val_loss: 4.2582 - val_accuracy: 0.5170\n",
            "Epoch 80/200\n",
            "11/11 [==============================] - 1s 127ms/step - loss: 6.4151e-04 - accuracy: 1.0000 - val_loss: 5.5404 - val_accuracy: 0.5170\n",
            "Epoch 81/200\n",
            "11/11 [==============================] - 1s 127ms/step - loss: 2.1575e-04 - accuracy: 1.0000 - val_loss: 4.9955 - val_accuracy: 0.5102\n",
            "Epoch 82/200\n",
            "11/11 [==============================] - 1s 123ms/step - loss: 7.7585e-04 - accuracy: 1.0000 - val_loss: 5.2625 - val_accuracy: 0.5102\n",
            "Epoch 83/200\n",
            "11/11 [==============================] - 1s 130ms/step - loss: 3.9243e-04 - accuracy: 1.0000 - val_loss: 5.3556 - val_accuracy: 0.5102\n",
            "Epoch 84/200\n",
            "11/11 [==============================] - 1s 125ms/step - loss: 1.5880e-04 - accuracy: 1.0000 - val_loss: 5.5387 - val_accuracy: 0.5102\n",
            "Epoch 85/200\n",
            "11/11 [==============================] - 1s 126ms/step - loss: 7.2601e-04 - accuracy: 1.0000 - val_loss: 2.6171 - val_accuracy: 0.5374\n",
            "Epoch 86/200\n",
            "11/11 [==============================] - 1s 129ms/step - loss: 4.9763e-04 - accuracy: 1.0000 - val_loss: 1.0765 - val_accuracy: 0.6735\n",
            "Epoch 87/200\n",
            "11/11 [==============================] - 1s 129ms/step - loss: 3.1201e-04 - accuracy: 1.0000 - val_loss: 0.7655 - val_accuracy: 0.7347\n",
            "Epoch 88/200\n",
            "11/11 [==============================] - 1s 126ms/step - loss: 5.4632e-05 - accuracy: 1.0000 - val_loss: 0.4840 - val_accuracy: 0.7959\n",
            "Epoch 89/200\n",
            "11/11 [==============================] - 1s 126ms/step - loss: 3.1113e-04 - accuracy: 1.0000 - val_loss: 0.8672 - val_accuracy: 0.7211\n",
            "Epoch 90/200\n",
            "11/11 [==============================] - 1s 126ms/step - loss: 3.0893e-04 - accuracy: 1.0000 - val_loss: 2.0798 - val_accuracy: 0.5442\n",
            "Epoch 91/200\n",
            "11/11 [==============================] - 1s 126ms/step - loss: 9.8053e-05 - accuracy: 1.0000 - val_loss: 2.4772 - val_accuracy: 0.5238\n",
            "Epoch 92/200\n",
            "11/11 [==============================] - 1s 131ms/step - loss: 1.6648e-04 - accuracy: 1.0000 - val_loss: 2.0253 - val_accuracy: 0.5442\n",
            "Epoch 93/200\n",
            "11/11 [==============================] - 1s 127ms/step - loss: 1.7747e-04 - accuracy: 1.0000 - val_loss: 1.5228 - val_accuracy: 0.5918\n",
            "Epoch 94/200\n",
            "11/11 [==============================] - 1s 124ms/step - loss: 1.0788e-04 - accuracy: 1.0000 - val_loss: 1.4336 - val_accuracy: 0.6327\n",
            "Epoch 95/200\n",
            "11/11 [==============================] - 1s 127ms/step - loss: 5.9511e-05 - accuracy: 1.0000 - val_loss: 1.2393 - val_accuracy: 0.6735\n",
            "Epoch 96/200\n",
            "11/11 [==============================] - 1s 122ms/step - loss: 4.6798e-05 - accuracy: 1.0000 - val_loss: 1.0000 - val_accuracy: 0.7415\n",
            "Epoch 97/200\n",
            "11/11 [==============================] - 1s 126ms/step - loss: 9.6024e-05 - accuracy: 1.0000 - val_loss: 0.8360 - val_accuracy: 0.7755\n",
            "Epoch 98/200\n",
            "11/11 [==============================] - 1s 127ms/step - loss: 1.3968e-04 - accuracy: 1.0000 - val_loss: 0.6194 - val_accuracy: 0.8027\n",
            "Epoch 99/200\n",
            "11/11 [==============================] - 1s 127ms/step - loss: 1.4003e-04 - accuracy: 1.0000 - val_loss: 0.3273 - val_accuracy: 0.8571\n",
            "Epoch 100/200\n",
            "11/11 [==============================] - 1s 128ms/step - loss: 1.6004e-04 - accuracy: 1.0000 - val_loss: 0.2282 - val_accuracy: 0.9116\n",
            "Epoch 101/200\n",
            "11/11 [==============================] - 1s 122ms/step - loss: 1.9839e-04 - accuracy: 1.0000 - val_loss: 0.1752 - val_accuracy: 0.9524\n",
            "Epoch 102/200\n",
            "11/11 [==============================] - 1s 132ms/step - loss: 6.2347e-05 - accuracy: 1.0000 - val_loss: 0.1563 - val_accuracy: 0.9592\n",
            "Epoch 103/200\n",
            "11/11 [==============================] - 1s 127ms/step - loss: 1.0309e-04 - accuracy: 1.0000 - val_loss: 0.1603 - val_accuracy: 0.9592\n",
            "Epoch 104/200\n",
            "11/11 [==============================] - 1s 125ms/step - loss: 6.0697e-05 - accuracy: 1.0000 - val_loss: 0.1640 - val_accuracy: 0.9592\n",
            "Epoch 105/200\n",
            "11/11 [==============================] - 1s 125ms/step - loss: 1.4895e-04 - accuracy: 1.0000 - val_loss: 0.1750 - val_accuracy: 0.9592\n",
            "Epoch 106/200\n",
            "11/11 [==============================] - 1s 129ms/step - loss: 3.7465e-04 - accuracy: 1.0000 - val_loss: 0.1909 - val_accuracy: 0.9728\n",
            "Epoch 107/200\n",
            "11/11 [==============================] - 1s 126ms/step - loss: 4.8194e-05 - accuracy: 1.0000 - val_loss: 0.2080 - val_accuracy: 0.9728\n",
            "Epoch 108/200\n",
            "11/11 [==============================] - 1s 127ms/step - loss: 2.2414e-04 - accuracy: 1.0000 - val_loss: 0.2127 - val_accuracy: 0.9660\n",
            "Epoch 109/200\n",
            "11/11 [==============================] - 1s 128ms/step - loss: 4.6948e-05 - accuracy: 1.0000 - val_loss: 0.2627 - val_accuracy: 0.9184\n",
            "Epoch 110/200\n",
            "11/11 [==============================] - 1s 126ms/step - loss: 7.8981e-05 - accuracy: 1.0000 - val_loss: 0.2861 - val_accuracy: 0.9252\n",
            "Epoch 111/200\n",
            "11/11 [==============================] - 1s 126ms/step - loss: 5.1612e-05 - accuracy: 1.0000 - val_loss: 0.2922 - val_accuracy: 0.9184\n",
            "Epoch 112/200\n",
            "11/11 [==============================] - 1s 125ms/step - loss: 3.9603e-05 - accuracy: 1.0000 - val_loss: 0.3129 - val_accuracy: 0.9116\n",
            "Epoch 113/200\n",
            "11/11 [==============================] - 1s 131ms/step - loss: 1.3836e-04 - accuracy: 1.0000 - val_loss: 0.1727 - val_accuracy: 0.9728\n",
            "Epoch 114/200\n",
            "11/11 [==============================] - 1s 132ms/step - loss: 5.7973e-05 - accuracy: 1.0000 - val_loss: 0.1564 - val_accuracy: 0.9660\n",
            "Epoch 115/200\n",
            "11/11 [==============================] - 1s 127ms/step - loss: 3.3715e-05 - accuracy: 1.0000 - val_loss: 0.1634 - val_accuracy: 0.9728\n",
            "Epoch 116/200\n",
            "11/11 [==============================] - 1s 130ms/step - loss: 7.7954e-05 - accuracy: 1.0000 - val_loss: 0.1652 - val_accuracy: 0.9728\n",
            "Epoch 117/200\n",
            "11/11 [==============================] - 1s 131ms/step - loss: 3.9474e-05 - accuracy: 1.0000 - val_loss: 0.1687 - val_accuracy: 0.9728\n",
            "Epoch 118/200\n",
            "11/11 [==============================] - 1s 130ms/step - loss: 6.0473e-05 - accuracy: 1.0000 - val_loss: 0.1697 - val_accuracy: 0.9796\n",
            "Epoch 119/200\n",
            "11/11 [==============================] - 2s 135ms/step - loss: 5.6103e-05 - accuracy: 1.0000 - val_loss: 0.1721 - val_accuracy: 0.9796\n",
            "Epoch 120/200\n",
            "11/11 [==============================] - 1s 131ms/step - loss: 2.4762e-04 - accuracy: 1.0000 - val_loss: 0.1812 - val_accuracy: 0.9796\n",
            "Epoch 121/200\n",
            "11/11 [==============================] - 1s 131ms/step - loss: 2.0990e-05 - accuracy: 1.0000 - val_loss: 0.2067 - val_accuracy: 0.9660\n",
            "Epoch 122/200\n",
            "11/11 [==============================] - 1s 135ms/step - loss: 3.9318e-05 - accuracy: 1.0000 - val_loss: 0.2150 - val_accuracy: 0.9592\n",
            "Epoch 123/200\n",
            "11/11 [==============================] - 1s 138ms/step - loss: 8.3757e-05 - accuracy: 1.0000 - val_loss: 0.1983 - val_accuracy: 0.9728\n",
            "Epoch 124/200\n",
            "11/11 [==============================] - 2s 139ms/step - loss: 3.0782e-05 - accuracy: 1.0000 - val_loss: 0.1972 - val_accuracy: 0.9728\n",
            "Epoch 125/200\n",
            "11/11 [==============================] - 1s 131ms/step - loss: 3.2671e-05 - accuracy: 1.0000 - val_loss: 0.1968 - val_accuracy: 0.9728\n",
            "Epoch 126/200\n",
            "11/11 [==============================] - 1s 130ms/step - loss: 6.3663e-05 - accuracy: 1.0000 - val_loss: 0.1980 - val_accuracy: 0.9796\n",
            "Epoch 127/200\n",
            "11/11 [==============================] - 1s 129ms/step - loss: 3.5231e-05 - accuracy: 1.0000 - val_loss: 0.1924 - val_accuracy: 0.9796\n",
            "Epoch 128/200\n",
            "11/11 [==============================] - 1s 131ms/step - loss: 6.4641e-05 - accuracy: 1.0000 - val_loss: 0.1915 - val_accuracy: 0.9796\n",
            "Epoch 129/200\n",
            "11/11 [==============================] - 1s 129ms/step - loss: 6.2540e-05 - accuracy: 1.0000 - val_loss: 0.1955 - val_accuracy: 0.9728\n",
            "Epoch 130/200\n",
            "11/11 [==============================] - 1s 132ms/step - loss: 2.3947e-05 - accuracy: 1.0000 - val_loss: 0.1963 - val_accuracy: 0.9728\n",
            "Epoch 131/200\n",
            "11/11 [==============================] - 1s 130ms/step - loss: 6.6439e-05 - accuracy: 1.0000 - val_loss: 0.2103 - val_accuracy: 0.9728\n",
            "Epoch 132/200\n",
            "11/11 [==============================] - 1s 133ms/step - loss: 4.0018e-05 - accuracy: 1.0000 - val_loss: 0.2350 - val_accuracy: 0.9592\n",
            "Epoch 133/200\n",
            "11/11 [==============================] - 1s 132ms/step - loss: 1.3262e-05 - accuracy: 1.0000 - val_loss: 0.2394 - val_accuracy: 0.9524\n",
            "Epoch 134/200\n",
            "11/11 [==============================] - 1s 130ms/step - loss: 1.5582e-04 - accuracy: 1.0000 - val_loss: 0.2358 - val_accuracy: 0.9524\n",
            "Epoch 135/200\n",
            "11/11 [==============================] - 1s 131ms/step - loss: 6.1155e-05 - accuracy: 1.0000 - val_loss: 0.2220 - val_accuracy: 0.9592\n",
            "Epoch 136/200\n",
            "11/11 [==============================] - 1s 129ms/step - loss: 3.6557e-05 - accuracy: 1.0000 - val_loss: 0.2259 - val_accuracy: 0.9592\n",
            "Epoch 137/200\n",
            "11/11 [==============================] - 1s 134ms/step - loss: 7.3517e-05 - accuracy: 1.0000 - val_loss: 0.2202 - val_accuracy: 0.9728\n",
            "Epoch 138/200\n",
            "11/11 [==============================] - 1s 130ms/step - loss: 1.0953e-05 - accuracy: 1.0000 - val_loss: 0.2314 - val_accuracy: 0.9728\n",
            "Epoch 139/200\n",
            "11/11 [==============================] - 1s 130ms/step - loss: 5.1323e-05 - accuracy: 1.0000 - val_loss: 0.2298 - val_accuracy: 0.9728\n",
            "Epoch 140/200\n",
            "11/11 [==============================] - 1s 131ms/step - loss: 6.9384e-05 - accuracy: 1.0000 - val_loss: 0.2256 - val_accuracy: 0.9728\n",
            "Epoch 141/200\n",
            "11/11 [==============================] - 1s 131ms/step - loss: 5.1792e-05 - accuracy: 1.0000 - val_loss: 0.2306 - val_accuracy: 0.9728\n",
            "Epoch 142/200\n",
            "11/11 [==============================] - 1s 130ms/step - loss: 2.4969e-05 - accuracy: 1.0000 - val_loss: 0.2505 - val_accuracy: 0.9660\n",
            "Epoch 143/200\n",
            "11/11 [==============================] - 1s 132ms/step - loss: 8.1609e-05 - accuracy: 1.0000 - val_loss: 0.2783 - val_accuracy: 0.9592\n",
            "Epoch 144/200\n",
            "11/11 [==============================] - 1s 136ms/step - loss: 1.9497e-05 - accuracy: 1.0000 - val_loss: 0.2785 - val_accuracy: 0.9592\n",
            "Epoch 145/200\n",
            "11/11 [==============================] - 1s 129ms/step - loss: 3.1512e-05 - accuracy: 1.0000 - val_loss: 0.2648 - val_accuracy: 0.9592\n",
            "Epoch 146/200\n",
            "11/11 [==============================] - 1s 133ms/step - loss: 9.4759e-06 - accuracy: 1.0000 - val_loss: 0.2511 - val_accuracy: 0.9660\n",
            "Epoch 147/200\n",
            "11/11 [==============================] - 1s 130ms/step - loss: 1.8606e-05 - accuracy: 1.0000 - val_loss: 0.2412 - val_accuracy: 0.9660\n",
            "Epoch 148/200\n",
            "11/11 [==============================] - 1s 128ms/step - loss: 2.9381e-05 - accuracy: 1.0000 - val_loss: 0.2368 - val_accuracy: 0.9728\n",
            "Epoch 149/200\n",
            "11/11 [==============================] - 1s 132ms/step - loss: 3.3572e-05 - accuracy: 1.0000 - val_loss: 0.2394 - val_accuracy: 0.9728\n",
            "Epoch 150/200\n",
            "11/11 [==============================] - 1s 133ms/step - loss: 4.5161e-05 - accuracy: 1.0000 - val_loss: 0.2333 - val_accuracy: 0.9796\n",
            "Epoch 151/200\n",
            "11/11 [==============================] - 1s 133ms/step - loss: 3.9813e-05 - accuracy: 1.0000 - val_loss: 0.2392 - val_accuracy: 0.9660\n",
            "Epoch 152/200\n",
            "11/11 [==============================] - 1s 132ms/step - loss: 6.2972e-04 - accuracy: 1.0000 - val_loss: 0.1963 - val_accuracy: 0.9320\n",
            "Epoch 153/200\n",
            "11/11 [==============================] - 1s 130ms/step - loss: 7.4782e-05 - accuracy: 1.0000 - val_loss: 0.2583 - val_accuracy: 0.9252\n",
            "Epoch 154/200\n",
            "11/11 [==============================] - 1s 132ms/step - loss: 4.6853e-05 - accuracy: 1.0000 - val_loss: 0.3413 - val_accuracy: 0.9048\n",
            "Epoch 155/200\n",
            "11/11 [==============================] - 1s 130ms/step - loss: 1.6547e-04 - accuracy: 1.0000 - val_loss: 0.3784 - val_accuracy: 0.8912\n",
            "Epoch 156/200\n",
            "11/11 [==============================] - 1s 131ms/step - loss: 3.7314e-05 - accuracy: 1.0000 - val_loss: 0.3470 - val_accuracy: 0.9048\n",
            "Epoch 157/200\n",
            "11/11 [==============================] - 1s 131ms/step - loss: 2.5337e-04 - accuracy: 1.0000 - val_loss: 0.1481 - val_accuracy: 0.9728\n",
            "Epoch 158/200\n",
            "11/11 [==============================] - 1s 132ms/step - loss: 2.0361e-04 - accuracy: 1.0000 - val_loss: 2.1302 - val_accuracy: 0.6190\n",
            "Epoch 159/200\n",
            "11/11 [==============================] - 1s 129ms/step - loss: 5.0775e-05 - accuracy: 1.0000 - val_loss: 2.5487 - val_accuracy: 0.5986\n",
            "Epoch 160/200\n",
            "11/11 [==============================] - 1s 131ms/step - loss: 1.4858e-05 - accuracy: 1.0000 - val_loss: 2.0945 - val_accuracy: 0.6599\n",
            "Epoch 161/200\n",
            "11/11 [==============================] - 1s 132ms/step - loss: 2.3118e-05 - accuracy: 1.0000 - val_loss: 1.5993 - val_accuracy: 0.7211\n",
            "Epoch 162/200\n",
            "11/11 [==============================] - 1s 129ms/step - loss: 2.6482e-05 - accuracy: 1.0000 - val_loss: 1.0630 - val_accuracy: 0.7687\n",
            "Epoch 163/200\n",
            "11/11 [==============================] - 1s 132ms/step - loss: 1.1711e-04 - accuracy: 1.0000 - val_loss: 0.4987 - val_accuracy: 0.8912\n",
            "Epoch 164/200\n",
            "11/11 [==============================] - 1s 132ms/step - loss: 9.7536e-05 - accuracy: 1.0000 - val_loss: 0.3361 - val_accuracy: 0.9252\n",
            "Epoch 165/200\n",
            "11/11 [==============================] - 1s 131ms/step - loss: 2.1850e-05 - accuracy: 1.0000 - val_loss: 0.2789 - val_accuracy: 0.9456\n",
            "Epoch 166/200\n",
            "11/11 [==============================] - 1s 132ms/step - loss: 8.2900e-06 - accuracy: 1.0000 - val_loss: 0.2457 - val_accuracy: 0.9660\n",
            "Epoch 167/200\n",
            "11/11 [==============================] - 1s 132ms/step - loss: 1.7264e-05 - accuracy: 1.0000 - val_loss: 0.2212 - val_accuracy: 0.9728\n",
            "Epoch 168/200\n",
            "11/11 [==============================] - 1s 132ms/step - loss: 2.9821e-05 - accuracy: 1.0000 - val_loss: 0.1985 - val_accuracy: 0.9728\n",
            "Epoch 169/200\n",
            "11/11 [==============================] - 1s 131ms/step - loss: 7.6347e-06 - accuracy: 1.0000 - val_loss: 0.1924 - val_accuracy: 0.9864\n",
            "Epoch 170/200\n",
            "11/11 [==============================] - 1s 133ms/step - loss: 1.0868e-05 - accuracy: 1.0000 - val_loss: 0.2013 - val_accuracy: 0.9728\n",
            "Epoch 171/200\n",
            "11/11 [==============================] - 1s 130ms/step - loss: 2.8809e-05 - accuracy: 1.0000 - val_loss: 0.2200 - val_accuracy: 0.9592\n",
            "Epoch 172/200\n",
            "11/11 [==============================] - 1s 133ms/step - loss: 7.6408e-06 - accuracy: 1.0000 - val_loss: 0.2352 - val_accuracy: 0.9592\n",
            "Epoch 173/200\n",
            "11/11 [==============================] - 1s 132ms/step - loss: 9.6342e-06 - accuracy: 1.0000 - val_loss: 0.2559 - val_accuracy: 0.9524\n",
            "Epoch 174/200\n",
            "11/11 [==============================] - 1s 129ms/step - loss: 4.2614e-05 - accuracy: 1.0000 - val_loss: 0.2610 - val_accuracy: 0.9524\n",
            "Epoch 175/200\n",
            "11/11 [==============================] - 1s 130ms/step - loss: 1.6786e-05 - accuracy: 1.0000 - val_loss: 0.2560 - val_accuracy: 0.9592\n",
            "Epoch 176/200\n",
            "11/11 [==============================] - 1s 129ms/step - loss: 3.5425e-05 - accuracy: 1.0000 - val_loss: 0.2465 - val_accuracy: 0.9592\n",
            "Epoch 177/200\n",
            "11/11 [==============================] - 1s 131ms/step - loss: 1.0939e-04 - accuracy: 1.0000 - val_loss: 0.2653 - val_accuracy: 0.9592\n",
            "Epoch 178/200\n",
            "11/11 [==============================] - 1s 132ms/step - loss: 9.1463e-06 - accuracy: 1.0000 - val_loss: 0.3011 - val_accuracy: 0.9524\n",
            "Epoch 179/200\n",
            "11/11 [==============================] - 1s 130ms/step - loss: 3.3551e-05 - accuracy: 1.0000 - val_loss: 0.2944 - val_accuracy: 0.9524\n",
            "Epoch 180/200\n",
            "11/11 [==============================] - 1s 133ms/step - loss: 4.2086e-05 - accuracy: 1.0000 - val_loss: 0.2838 - val_accuracy: 0.9524\n",
            "Epoch 181/200\n",
            "11/11 [==============================] - 1s 131ms/step - loss: 7.2837e-05 - accuracy: 1.0000 - val_loss: 0.2752 - val_accuracy: 0.9524\n",
            "Epoch 182/200\n",
            "11/11 [==============================] - 1s 133ms/step - loss: 2.8000e-05 - accuracy: 1.0000 - val_loss: 0.2348 - val_accuracy: 0.9592\n",
            "Epoch 183/200\n",
            "11/11 [==============================] - 1s 132ms/step - loss: 4.5887e-06 - accuracy: 1.0000 - val_loss: 0.2292 - val_accuracy: 0.9592\n",
            "Epoch 184/200\n",
            "11/11 [==============================] - 1s 132ms/step - loss: 1.5479e-05 - accuracy: 1.0000 - val_loss: 0.2328 - val_accuracy: 0.9592\n",
            "Epoch 185/200\n",
            "11/11 [==============================] - 1s 134ms/step - loss: 1.4858e-05 - accuracy: 1.0000 - val_loss: 0.2419 - val_accuracy: 0.9660\n",
            "Epoch 186/200\n",
            "11/11 [==============================] - 1s 131ms/step - loss: 1.6518e-05 - accuracy: 1.0000 - val_loss: 0.2480 - val_accuracy: 0.9592\n",
            "Epoch 187/200\n",
            "11/11 [==============================] - 1s 134ms/step - loss: 1.1395e-05 - accuracy: 1.0000 - val_loss: 0.2391 - val_accuracy: 0.9660\n",
            "Epoch 188/200\n",
            "11/11 [==============================] - 1s 133ms/step - loss: 7.0432e-06 - accuracy: 1.0000 - val_loss: 0.2399 - val_accuracy: 0.9592\n",
            "Epoch 189/200\n",
            "11/11 [==============================] - 1s 132ms/step - loss: 1.9204e-05 - accuracy: 1.0000 - val_loss: 0.2413 - val_accuracy: 0.9592\n",
            "Epoch 190/200\n",
            "11/11 [==============================] - 1s 131ms/step - loss: 3.3473e-05 - accuracy: 1.0000 - val_loss: 0.2480 - val_accuracy: 0.9592\n",
            "Epoch 191/200\n",
            "11/11 [==============================] - 1s 131ms/step - loss: 2.3296e-04 - accuracy: 1.0000 - val_loss: 0.2725 - val_accuracy: 0.9660\n",
            "Epoch 192/200\n",
            "11/11 [==============================] - 1s 133ms/step - loss: 1.3269e-04 - accuracy: 1.0000 - val_loss: 0.2202 - val_accuracy: 0.9456\n",
            "Epoch 193/200\n",
            "11/11 [==============================] - 1s 131ms/step - loss: 5.5968e-05 - accuracy: 1.0000 - val_loss: 1.4214 - val_accuracy: 0.6735\n",
            "Epoch 194/200\n",
            "11/11 [==============================] - 1s 134ms/step - loss: 1.1046e-05 - accuracy: 1.0000 - val_loss: 1.9880 - val_accuracy: 0.6054\n",
            "Epoch 195/200\n",
            "11/11 [==============================] - 1s 130ms/step - loss: 2.3637e-05 - accuracy: 1.0000 - val_loss: 1.8709 - val_accuracy: 0.6122\n",
            "Epoch 196/200\n",
            "11/11 [==============================] - 1s 134ms/step - loss: 2.4731e-05 - accuracy: 1.0000 - val_loss: 1.4845 - val_accuracy: 0.6735\n",
            "Epoch 197/200\n",
            "11/11 [==============================] - 1s 135ms/step - loss: 1.7973e-05 - accuracy: 1.0000 - val_loss: 1.0156 - val_accuracy: 0.7687\n",
            "Epoch 198/200\n",
            "11/11 [==============================] - 1s 130ms/step - loss: 3.1831e-05 - accuracy: 1.0000 - val_loss: 0.8796 - val_accuracy: 0.7959\n",
            "Epoch 199/200\n",
            "11/11 [==============================] - 1s 134ms/step - loss: 1.2785e-05 - accuracy: 1.0000 - val_loss: 0.8267 - val_accuracy: 0.8095\n",
            "Epoch 200/200\n",
            "11/11 [==============================] - 2s 139ms/step - loss: 5.7984e-06 - accuracy: 1.0000 - val_loss: 0.6948 - val_accuracy: 0.8231\n"
          ]
        }
      ]
    },
    {
      "cell_type": "code",
      "metadata": {
        "id": "cSTlOSUBWMpj"
      },
      "source": [
        "Y_test = yback(Y_test)"
      ],
      "execution_count": 18,
      "outputs": []
    },
    {
      "cell_type": "code",
      "metadata": {
        "colab": {
          "base_uri": "https://localhost:8080/"
        },
        "id": "FDVY6HbxMOlH",
        "outputId": "12df9f24-e6bd-48e8-95b4-2c732d2ab3af"
      },
      "source": [
        "# pred_test= model.predict_classes(X_test)\n",
        "pred_test = np.argmax(model.predict(X_test), axis=-1)\n",
        "\n",
        "data = {'y_true': Y_test,'y_predict': pred_test}  # este dado esta no formato de dicionario\n",
        "\n",
        "df = pd.DataFrame(data, columns=['y_true','y_predict'])\n",
        "\n",
        "\n",
        "confusion_matrix = pd.crosstab(df['y_true'], df['y_predict'], rownames=['Actual'], colnames=['Predict'])\n",
        "print(confusion_matrix)\n",
        "\n",
        "y_true = df['y_true']\n",
        "y_pred = df['y_predict']\n",
        "\n",
        "  \n",
        "METRICS=sklearn.metrics.classification_report(y_true, y_pred)"
      ],
      "execution_count": 19,
      "outputs": [
        {
          "output_type": "stream",
          "name": "stdout",
          "text": [
            "Predict   0   1\n",
            "Actual         \n",
            "0        47  25\n",
            "1         1  74\n"
          ]
        }
      ]
    },
    {
      "cell_type": "code",
      "metadata": {
        "colab": {
          "base_uri": "https://localhost:8080/"
        },
        "id": "_iFNNrlWV9tH",
        "outputId": "26b00a3e-05f5-4e51-c442-68f5b4f6e86e"
      },
      "source": [
        "pred_test"
      ],
      "execution_count": 20,
      "outputs": [
        {
          "output_type": "execute_result",
          "data": {
            "text/plain": [
              "array([1, 1, 1, 1, 1, 1, 0, 1, 1, 0, 0, 1, 1, 1, 1, 0, 1, 1, 1, 1, 1, 1,\n",
              "       1, 1, 1, 1, 0, 1, 1, 1, 0, 1, 1, 1, 0, 0, 0, 0, 1, 0, 1, 1, 1, 0,\n",
              "       0, 1, 1, 1, 1, 1, 1, 0, 1, 1, 1, 0, 1, 1, 1, 0, 1, 1, 0, 1, 1, 1,\n",
              "       1, 1, 1, 1, 1, 0, 1, 1, 0, 0, 1, 1, 0, 0, 1, 1, 1, 1, 0, 1, 0, 0,\n",
              "       1, 0, 1, 1, 0, 1, 1, 0, 1, 1, 1, 0, 1, 1, 1, 1, 1, 0, 1, 1, 0, 0,\n",
              "       0, 1, 1, 1, 1, 1, 1, 1, 0, 1, 0, 0, 0, 1, 1, 0, 1, 0, 0, 0, 1, 1,\n",
              "       0, 1, 0, 1, 1, 1, 0, 0, 1, 1, 1, 0, 0, 0, 1])"
            ]
          },
          "metadata": {},
          "execution_count": 20
        }
      ]
    },
    {
      "cell_type": "code",
      "metadata": {
        "colab": {
          "base_uri": "https://localhost:8080/"
        },
        "id": "Jv5I61yhPQmk",
        "outputId": "e7d17688-2bb9-4a2b-b873-1ac1440da1af"
      },
      "source": [
        "cont = 0; num =25\n",
        "img_graos = []\n",
        "Width_new = []\n",
        "img=ww[4] \n",
        "while( cont < num):\n",
        "  df=Segmenta(img)\n",
        "  df_ann =df.copy()\n",
        "  Width = df['Width']\n",
        "  del df_ann['Width']\n",
        "  result = np.array(df_ann)\n",
        "  result = result.reshape(-1, Img_Size, Img_Size, 1) / 255.0\n",
        "  #prediction = model.predict_classes(result)\n",
        "  prediction= np.argmax(model.predict(result), axis=-1)\n",
        "  loc_grao =[];k=0\n",
        "  for i in prediction:\n",
        "    if( i == 0):\n",
        "      img_graos.append(df.iloc[k,:])\n",
        "      Width_new.append(Width.iloc[k])\n",
        "      cont = cont + 1\n",
        "    k = k +1\n",
        "img_graos = pd.DataFrame(img_graos)\n",
        "print(img_graos)"
      ],
      "execution_count": 21,
      "outputs": [
        {
          "output_type": "stream",
          "name": "stdout",
          "text": [
            "    Width           0           1  ...         781         782         783\n",
            "0   122.0  123.761337  133.587204  ...  134.521896  132.229507  134.617035\n",
            "1   173.0  173.956955  158.307724  ...   49.259109   17.691870    1.848441\n",
            "2   104.0  114.942314  118.853561  ...    0.807692    0.926036    1.000000\n",
            "3   192.0  100.387589   97.979164  ...    1.396267    0.167535    1.312934\n",
            "5   180.0  178.968414  173.285431  ...  108.594574  125.621742  143.518036\n",
            "6   122.0  180.621063  174.442078  ...  191.528610  190.470840  175.730164\n",
            "7   125.0  135.317444  142.897217  ...    1.000000    1.000000    1.000000\n",
            "8   119.0  210.754333  198.802780  ...   69.730103   74.899658   76.394463\n",
            "9   127.0  140.090515  153.397980  ...  153.931610  164.372498  163.173538\n",
            "10  161.0  171.277893  179.678650  ...  172.650299  160.139893  158.657852\n",
            "12  192.0  189.003876  189.090698  ...    1.396267    0.167535    1.312934\n",
            "13  148.0  196.720978  239.984665  ...  197.441223  205.723892  207.667664\n",
            "14  127.0  213.890015  224.986786  ...  192.535187  129.691803  122.242355\n",
            "15  113.0  154.310349  146.764587  ...    0.335735    0.300337    1.061399\n",
            "16  153.0  223.414215  233.383118  ...    1.146995    1.046649    1.000000\n",
            "17  187.0  113.864174  117.685890  ...  233.441818  234.210602  229.729019\n",
            "18  189.0  155.606308  171.170105  ...    8.104253   18.928671   37.008232\n",
            "19  191.0  158.596283  158.900024  ...    1.191470    0.208081    1.314685\n",
            "21  136.0   93.289795   94.285477  ...  138.853806  139.409164  127.686859\n",
            "22  163.0  162.269455  180.901535  ...    0.810079    0.231962    1.373066\n",
            "24  112.0  165.937500  164.750000  ...    0.187500    0.000000    0.062500\n",
            "25  146.0  139.396683  137.501785  ...  150.795273  128.748169  136.250885\n",
            "26  164.0  102.255203  127.591324  ...  148.073761  134.810822  138.170731\n",
            "27  162.0  127.569580  167.894531  ...  195.999237  115.216278  128.685577\n",
            "28  165.0  148.080444  145.692047  ...    5.702847    2.967824    1.537521\n",
            "29  172.0  220.832336  205.830719  ...    0.448350    0.680909    1.757166\n",
            "30  100.0   59.956799   62.011200  ...  119.687996  122.988800  128.923187\n",
            "31  186.0  177.071442  175.326752  ...  188.799530  196.356583  188.354034\n",
            "32  119.0   53.301044   57.903118  ...   79.861595   80.044983   80.480972\n",
            "33  145.0  119.628578  114.392815  ...  125.469055  129.626678  133.315903\n",
            "34  108.0  137.817566  135.227707  ...    0.733882    0.009602    0.835391\n",
            "35  184.0  188.498108  181.470215  ...  157.614349  163.565689  174.858673\n",
            "36  158.0  194.459854  190.323654  ...   68.609993   57.578594   48.066654\n",
            "37  173.0  136.174866  166.840988  ...   35.206188   34.648102   58.836342\n",
            "38  187.0  128.947952  120.312416  ...    0.178730    1.321885    0.573222\n",
            "39  132.0  227.836563  231.039490  ...  112.216713  119.352631  118.868690\n",
            "41  159.0  189.000565  177.628540  ...  174.749695  199.674637  249.299042\n",
            "42  195.0  201.638397  194.884521  ...  159.575714  149.339691  155.018387\n",
            "43  192.0   27.104164    9.057292  ...  165.096786  190.974808  198.699646\n",
            "44  199.0  113.605156  126.924713  ...  114.555077   85.055443   61.355240\n",
            "45  156.0   50.227486   44.474033  ...    0.698882    0.288626    1.391190\n",
            "46  187.0  159.545822  165.901520  ...  194.584045  197.232895  196.024948\n",
            "47  124.0  165.826233  166.733612  ...  107.659721   93.348587  103.057228\n",
            "48  141.0  153.658279  154.640228  ...  125.609077  119.719887  125.840698\n",
            "49  101.0   85.334480  102.642776  ...  154.517120  154.846390  156.325851\n",
            "\n",
            "[45 rows x 785 columns]\n"
          ]
        }
      ]
    },
    {
      "cell_type": "code",
      "metadata": {
        "id": "6LkA4vHp-f6_"
      },
      "source": [
        "Width=np.array(Width_new)"
      ],
      "execution_count": 22,
      "outputs": []
    },
    {
      "cell_type": "code",
      "metadata": {
        "colab": {
          "base_uri": "https://localhost:8080/"
        },
        "id": "MjRbWgmX_LFH",
        "outputId": "8fa4273d-86fe-4827-87ad-e746dc867a16"
      },
      "source": [
        "!git clone https://github.com/ucfilho/marquesgabi_paper_fev_2021\n",
        "%cd marquesgabi_paper_fev_2021\n",
        "\n",
        "from Get_PSDArea_New import PSDArea\n",
        "from histogram_fev_2021 import PSD\n",
        "from GetBetterSegm import GetBetter"
      ],
      "execution_count": 23,
      "outputs": [
        {
          "output_type": "stream",
          "name": "stdout",
          "text": [
            "Cloning into 'marquesgabi_paper_fev_2021'...\n",
            "remote: Enumerating objects: 687, done.\u001b[K\n",
            "remote: Counting objects: 100% (448/448), done.\u001b[K\n",
            "remote: Compressing objects: 100% (446/446), done.\u001b[K\n",
            "remote: Total 687 (delta 282), reused 0 (delta 0), pack-reused 239\u001b[K\n",
            "Receiving objects: 100% (687/687), 5.59 MiB | 11.76 MiB/s, done.\n",
            "Resolving deltas: 100% (419/419), done.\n",
            "/content/marquesgabi_fev_2020/Doutorado/MarquesGabi_Routines/MarquesGabi_Routines/marquesgabi_paper_fev_2021\n"
          ]
        }
      ]
    },
    {
      "cell_type": "code",
      "metadata": {
        "colab": {
          "base_uri": "https://localhost:8080/"
        },
        "id": "WAG_I6FwCvFr",
        "outputId": "450510a8-5c9f-4449-b98e-f2d3572c96b4"
      },
      "source": [
        "#!git clone https://github.com/ucfilho/marquesgabi_out_2020\n",
        "!git clone https://github.com/marquesgabi/Doutorado\n",
        "\n",
        "%cd Doutorado\n",
        "\n",
        "PSD_imageJ = 'Amostra7.csv' \n",
        "PSD_new = pd.read_csv(PSD_imageJ,sep=';')\n",
        "#encoding='utf8'\n",
        "print(PSD_new.head(3))"
      ],
      "execution_count": 24,
      "outputs": [
        {
          "output_type": "stream",
          "name": "stdout",
          "text": [
            "Cloning into 'Doutorado'...\n",
            "remote: Enumerating objects: 411, done.\u001b[K\n",
            "remote: Counting objects: 100% (161/161), done.\u001b[K\n",
            "remote: Compressing objects: 100% (160/160), done.\u001b[K\n",
            "remote: Total 411 (delta 68), reused 0 (delta 0), pack-reused 250\u001b[K\n",
            "Receiving objects: 100% (411/411), 202.74 MiB | 28.96 MiB/s, done.\n",
            "Resolving deltas: 100% (185/185), done.\n",
            "Checking out files: 100% (81/81), done.\n",
            "/content/marquesgabi_fev_2020/Doutorado/MarquesGabi_Routines/MarquesGabi_Routines/marquesgabi_paper_fev_2021/Doutorado\n",
            "   Unnamed: 0   Area\n",
            "0           1  1.387\n",
            "1           2  1.626\n",
            "2           3  1.336\n"
          ]
        }
      ]
    },
    {
      "cell_type": "code",
      "metadata": {
        "colab": {
          "base_uri": "https://localhost:8080/"
        },
        "id": "7tEPjIBnv_xM",
        "outputId": "380b980c-43df-4a31-e91b-5b0de8f82e94"
      },
      "source": [
        "PSD_new.shape"
      ],
      "execution_count": 25,
      "outputs": [
        {
          "output_type": "execute_result",
          "data": {
            "text/plain": [
              "(102, 2)"
            ]
          },
          "metadata": {},
          "execution_count": 25
        }
      ]
    },
    {
      "cell_type": "code",
      "metadata": {
        "id": "t_1WIM8w7poO"
      },
      "source": [
        "Area_All, Diameter_All=PSDArea(img_graos) "
      ],
      "execution_count": 26,
      "outputs": []
    },
    {
      "cell_type": "code",
      "metadata": {
        "id": "nfagXc-Mv3oa"
      },
      "source": [
        ""
      ],
      "execution_count": 26,
      "outputs": []
    },
    {
      "cell_type": "code",
      "metadata": {
        "colab": {
          "base_uri": "https://localhost:8080/",
          "height": 253
        },
        "id": "PekBHQOT_6CP",
        "outputId": "354833ba-278f-497e-b649-368be23ecf59"
      },
      "source": [
        "img_graos.head()"
      ],
      "execution_count": 27,
      "outputs": [
        {
          "output_type": "execute_result",
          "data": {
            "text/html": [
              "<div>\n",
              "<style scoped>\n",
              "    .dataframe tbody tr th:only-of-type {\n",
              "        vertical-align: middle;\n",
              "    }\n",
              "\n",
              "    .dataframe tbody tr th {\n",
              "        vertical-align: top;\n",
              "    }\n",
              "\n",
              "    .dataframe thead th {\n",
              "        text-align: right;\n",
              "    }\n",
              "</style>\n",
              "<table border=\"1\" class=\"dataframe\">\n",
              "  <thead>\n",
              "    <tr style=\"text-align: right;\">\n",
              "      <th></th>\n",
              "      <th>Width</th>\n",
              "      <th>0</th>\n",
              "      <th>1</th>\n",
              "      <th>2</th>\n",
              "      <th>3</th>\n",
              "      <th>4</th>\n",
              "      <th>5</th>\n",
              "      <th>6</th>\n",
              "      <th>7</th>\n",
              "      <th>8</th>\n",
              "      <th>9</th>\n",
              "      <th>10</th>\n",
              "      <th>11</th>\n",
              "      <th>12</th>\n",
              "      <th>13</th>\n",
              "      <th>14</th>\n",
              "      <th>15</th>\n",
              "      <th>16</th>\n",
              "      <th>17</th>\n",
              "      <th>18</th>\n",
              "      <th>19</th>\n",
              "      <th>20</th>\n",
              "      <th>21</th>\n",
              "      <th>22</th>\n",
              "      <th>23</th>\n",
              "      <th>24</th>\n",
              "      <th>25</th>\n",
              "      <th>26</th>\n",
              "      <th>27</th>\n",
              "      <th>28</th>\n",
              "      <th>29</th>\n",
              "      <th>30</th>\n",
              "      <th>31</th>\n",
              "      <th>32</th>\n",
              "      <th>33</th>\n",
              "      <th>34</th>\n",
              "      <th>35</th>\n",
              "      <th>36</th>\n",
              "      <th>37</th>\n",
              "      <th>38</th>\n",
              "      <th>...</th>\n",
              "      <th>744</th>\n",
              "      <th>745</th>\n",
              "      <th>746</th>\n",
              "      <th>747</th>\n",
              "      <th>748</th>\n",
              "      <th>749</th>\n",
              "      <th>750</th>\n",
              "      <th>751</th>\n",
              "      <th>752</th>\n",
              "      <th>753</th>\n",
              "      <th>754</th>\n",
              "      <th>755</th>\n",
              "      <th>756</th>\n",
              "      <th>757</th>\n",
              "      <th>758</th>\n",
              "      <th>759</th>\n",
              "      <th>760</th>\n",
              "      <th>761</th>\n",
              "      <th>762</th>\n",
              "      <th>763</th>\n",
              "      <th>764</th>\n",
              "      <th>765</th>\n",
              "      <th>766</th>\n",
              "      <th>767</th>\n",
              "      <th>768</th>\n",
              "      <th>769</th>\n",
              "      <th>770</th>\n",
              "      <th>771</th>\n",
              "      <th>772</th>\n",
              "      <th>773</th>\n",
              "      <th>774</th>\n",
              "      <th>775</th>\n",
              "      <th>776</th>\n",
              "      <th>777</th>\n",
              "      <th>778</th>\n",
              "      <th>779</th>\n",
              "      <th>780</th>\n",
              "      <th>781</th>\n",
              "      <th>782</th>\n",
              "      <th>783</th>\n",
              "    </tr>\n",
              "  </thead>\n",
              "  <tbody>\n",
              "    <tr>\n",
              "      <th>0</th>\n",
              "      <td>122.0</td>\n",
              "      <td>123.761337</td>\n",
              "      <td>133.587204</td>\n",
              "      <td>145.525650</td>\n",
              "      <td>150.594193</td>\n",
              "      <td>160.037628</td>\n",
              "      <td>167.253403</td>\n",
              "      <td>180.070679</td>\n",
              "      <td>180.992996</td>\n",
              "      <td>154.723175</td>\n",
              "      <td>119.033318</td>\n",
              "      <td>111.113403</td>\n",
              "      <td>135.715393</td>\n",
              "      <td>159.384033</td>\n",
              "      <td>175.114746</td>\n",
              "      <td>180.853806</td>\n",
              "      <td>244.945160</td>\n",
              "      <td>251.220062</td>\n",
              "      <td>250.746017</td>\n",
              "      <td>250.511673</td>\n",
              "      <td>251.196411</td>\n",
              "      <td>249.206116</td>\n",
              "      <td>252.827728</td>\n",
              "      <td>252.327316</td>\n",
              "      <td>250.924454</td>\n",
              "      <td>250.203690</td>\n",
              "      <td>180.922318</td>\n",
              "      <td>80.906471</td>\n",
              "      <td>104.241600</td>\n",
              "      <td>127.052399</td>\n",
              "      <td>135.980637</td>\n",
              "      <td>147.029007</td>\n",
              "      <td>151.417084</td>\n",
              "      <td>152.744415</td>\n",
              "      <td>168.608429</td>\n",
              "      <td>192.720490</td>\n",
              "      <td>193.442886</td>\n",
              "      <td>133.366562</td>\n",
              "      <td>100.463036</td>\n",
              "      <td>120.091103</td>\n",
              "      <td>...</td>\n",
              "      <td>181.268463</td>\n",
              "      <td>176.181671</td>\n",
              "      <td>225.145111</td>\n",
              "      <td>224.320602</td>\n",
              "      <td>163.116638</td>\n",
              "      <td>145.199402</td>\n",
              "      <td>146.775314</td>\n",
              "      <td>148.472183</td>\n",
              "      <td>144.038162</td>\n",
              "      <td>137.767807</td>\n",
              "      <td>134.840622</td>\n",
              "      <td>134.955658</td>\n",
              "      <td>204.158020</td>\n",
              "      <td>191.400146</td>\n",
              "      <td>180.446365</td>\n",
              "      <td>184.284058</td>\n",
              "      <td>180.024994</td>\n",
              "      <td>178.986572</td>\n",
              "      <td>177.927170</td>\n",
              "      <td>179.324097</td>\n",
              "      <td>195.251526</td>\n",
              "      <td>231.184357</td>\n",
              "      <td>250.255844</td>\n",
              "      <td>253.561386</td>\n",
              "      <td>253.347458</td>\n",
              "      <td>253.044327</td>\n",
              "      <td>252.976059</td>\n",
              "      <td>251.905396</td>\n",
              "      <td>249.531830</td>\n",
              "      <td>248.345062</td>\n",
              "      <td>247.293457</td>\n",
              "      <td>220.944641</td>\n",
              "      <td>140.032516</td>\n",
              "      <td>141.499329</td>\n",
              "      <td>144.135712</td>\n",
              "      <td>144.716736</td>\n",
              "      <td>143.601181</td>\n",
              "      <td>134.521896</td>\n",
              "      <td>132.229507</td>\n",
              "      <td>134.617035</td>\n",
              "    </tr>\n",
              "    <tr>\n",
              "      <th>1</th>\n",
              "      <td>173.0</td>\n",
              "      <td>173.956955</td>\n",
              "      <td>158.307724</td>\n",
              "      <td>161.155136</td>\n",
              "      <td>177.080765</td>\n",
              "      <td>182.047012</td>\n",
              "      <td>175.783463</td>\n",
              "      <td>165.713074</td>\n",
              "      <td>165.123611</td>\n",
              "      <td>156.673859</td>\n",
              "      <td>100.228539</td>\n",
              "      <td>102.221581</td>\n",
              "      <td>102.233612</td>\n",
              "      <td>107.074463</td>\n",
              "      <td>109.283905</td>\n",
              "      <td>112.319084</td>\n",
              "      <td>119.523926</td>\n",
              "      <td>121.724182</td>\n",
              "      <td>115.532394</td>\n",
              "      <td>99.607765</td>\n",
              "      <td>55.670250</td>\n",
              "      <td>48.002209</td>\n",
              "      <td>48.530186</td>\n",
              "      <td>50.683079</td>\n",
              "      <td>53.791172</td>\n",
              "      <td>60.754784</td>\n",
              "      <td>64.112068</td>\n",
              "      <td>41.493099</td>\n",
              "      <td>2.377393</td>\n",
              "      <td>169.637482</td>\n",
              "      <td>167.927231</td>\n",
              "      <td>163.854782</td>\n",
              "      <td>169.189590</td>\n",
              "      <td>180.493393</td>\n",
              "      <td>173.438492</td>\n",
              "      <td>168.597031</td>\n",
              "      <td>168.385941</td>\n",
              "      <td>142.896454</td>\n",
              "      <td>101.331688</td>\n",
              "      <td>103.650497</td>\n",
              "      <td>...</td>\n",
              "      <td>147.558655</td>\n",
              "      <td>131.433151</td>\n",
              "      <td>128.831238</td>\n",
              "      <td>128.745377</td>\n",
              "      <td>122.721008</td>\n",
              "      <td>118.013397</td>\n",
              "      <td>107.038452</td>\n",
              "      <td>86.787598</td>\n",
              "      <td>58.540409</td>\n",
              "      <td>30.922852</td>\n",
              "      <td>11.031641</td>\n",
              "      <td>3.710381</td>\n",
              "      <td>147.206619</td>\n",
              "      <td>82.714050</td>\n",
              "      <td>106.617393</td>\n",
              "      <td>161.965851</td>\n",
              "      <td>179.160126</td>\n",
              "      <td>179.648605</td>\n",
              "      <td>176.660736</td>\n",
              "      <td>178.176025</td>\n",
              "      <td>174.841888</td>\n",
              "      <td>167.096619</td>\n",
              "      <td>166.491928</td>\n",
              "      <td>174.204590</td>\n",
              "      <td>178.141174</td>\n",
              "      <td>166.563553</td>\n",
              "      <td>166.950867</td>\n",
              "      <td>170.862076</td>\n",
              "      <td>151.972168</td>\n",
              "      <td>128.541779</td>\n",
              "      <td>124.599228</td>\n",
              "      <td>118.513145</td>\n",
              "      <td>115.468506</td>\n",
              "      <td>100.486580</td>\n",
              "      <td>80.927383</td>\n",
              "      <td>70.797012</td>\n",
              "      <td>68.680878</td>\n",
              "      <td>49.259109</td>\n",
              "      <td>17.691870</td>\n",
              "      <td>1.848441</td>\n",
              "    </tr>\n",
              "    <tr>\n",
              "      <th>2</th>\n",
              "      <td>104.0</td>\n",
              "      <td>114.942314</td>\n",
              "      <td>118.853561</td>\n",
              "      <td>119.502968</td>\n",
              "      <td>117.417175</td>\n",
              "      <td>119.837288</td>\n",
              "      <td>125.755928</td>\n",
              "      <td>138.146469</td>\n",
              "      <td>142.393509</td>\n",
              "      <td>138.170135</td>\n",
              "      <td>131.149414</td>\n",
              "      <td>123.420128</td>\n",
              "      <td>117.406807</td>\n",
              "      <td>112.128716</td>\n",
              "      <td>109.326935</td>\n",
              "      <td>104.041435</td>\n",
              "      <td>104.769241</td>\n",
              "      <td>108.792915</td>\n",
              "      <td>112.825455</td>\n",
              "      <td>117.244095</td>\n",
              "      <td>114.238174</td>\n",
              "      <td>114.923088</td>\n",
              "      <td>125.545868</td>\n",
              "      <td>132.862442</td>\n",
              "      <td>133.150909</td>\n",
              "      <td>131.375748</td>\n",
              "      <td>132.744095</td>\n",
              "      <td>117.378716</td>\n",
              "      <td>73.704155</td>\n",
              "      <td>114.452667</td>\n",
              "      <td>116.720428</td>\n",
              "      <td>120.323975</td>\n",
              "      <td>123.476349</td>\n",
              "      <td>125.479294</td>\n",
              "      <td>129.513336</td>\n",
              "      <td>137.961563</td>\n",
              "      <td>144.591736</td>\n",
              "      <td>140.085800</td>\n",
              "      <td>132.337296</td>\n",
              "      <td>123.497047</td>\n",
              "      <td>...</td>\n",
              "      <td>0.868343</td>\n",
              "      <td>1.500000</td>\n",
              "      <td>1.069527</td>\n",
              "      <td>0.415680</td>\n",
              "      <td>0.031065</td>\n",
              "      <td>1.000000</td>\n",
              "      <td>1.569527</td>\n",
              "      <td>0.995562</td>\n",
              "      <td>0.390533</td>\n",
              "      <td>0.000000</td>\n",
              "      <td>0.254438</td>\n",
              "      <td>0.977811</td>\n",
              "      <td>1.036982</td>\n",
              "      <td>1.066568</td>\n",
              "      <td>1.000000</td>\n",
              "      <td>1.000000</td>\n",
              "      <td>1.000000</td>\n",
              "      <td>1.000000</td>\n",
              "      <td>1.000000</td>\n",
              "      <td>0.948225</td>\n",
              "      <td>0.056213</td>\n",
              "      <td>0.000000</td>\n",
              "      <td>0.044379</td>\n",
              "      <td>0.451183</td>\n",
              "      <td>0.865385</td>\n",
              "      <td>1.000000</td>\n",
              "      <td>0.807692</td>\n",
              "      <td>0.881657</td>\n",
              "      <td>1.000000</td>\n",
              "      <td>1.500000</td>\n",
              "      <td>1.110947</td>\n",
              "      <td>0.457101</td>\n",
              "      <td>0.072485</td>\n",
              "      <td>1.000000</td>\n",
              "      <td>1.610947</td>\n",
              "      <td>1.000000</td>\n",
              "      <td>0.955621</td>\n",
              "      <td>0.807692</td>\n",
              "      <td>0.926036</td>\n",
              "      <td>1.000000</td>\n",
              "    </tr>\n",
              "    <tr>\n",
              "      <th>3</th>\n",
              "      <td>192.0</td>\n",
              "      <td>100.387589</td>\n",
              "      <td>97.979164</td>\n",
              "      <td>112.197899</td>\n",
              "      <td>141.857193</td>\n",
              "      <td>146.177078</td>\n",
              "      <td>149.804688</td>\n",
              "      <td>148.243484</td>\n",
              "      <td>136.307709</td>\n",
              "      <td>120.652763</td>\n",
              "      <td>111.440094</td>\n",
              "      <td>107.704849</td>\n",
              "      <td>121.004761</td>\n",
              "      <td>133.996078</td>\n",
              "      <td>137.410156</td>\n",
              "      <td>101.041656</td>\n",
              "      <td>79.719177</td>\n",
              "      <td>85.087677</td>\n",
              "      <td>76.445305</td>\n",
              "      <td>67.940536</td>\n",
              "      <td>55.736111</td>\n",
              "      <td>12.687933</td>\n",
              "      <td>1.869358</td>\n",
              "      <td>1.321615</td>\n",
              "      <td>0.220920</td>\n",
              "      <td>1.176215</td>\n",
              "      <td>1.396267</td>\n",
              "      <td>0.167535</td>\n",
              "      <td>1.312934</td>\n",
              "      <td>97.647125</td>\n",
              "      <td>98.133247</td>\n",
              "      <td>127.645393</td>\n",
              "      <td>150.139313</td>\n",
              "      <td>153.353714</td>\n",
              "      <td>153.862823</td>\n",
              "      <td>145.995209</td>\n",
              "      <td>131.822906</td>\n",
              "      <td>130.025604</td>\n",
              "      <td>128.740448</td>\n",
              "      <td>122.233932</td>\n",
              "      <td>...</td>\n",
              "      <td>94.901901</td>\n",
              "      <td>72.884979</td>\n",
              "      <td>51.791229</td>\n",
              "      <td>17.323784</td>\n",
              "      <td>0.992621</td>\n",
              "      <td>2.551649</td>\n",
              "      <td>1.335069</td>\n",
              "      <td>0.220920</td>\n",
              "      <td>1.176215</td>\n",
              "      <td>1.396267</td>\n",
              "      <td>0.167535</td>\n",
              "      <td>1.312934</td>\n",
              "      <td>117.112404</td>\n",
              "      <td>183.265610</td>\n",
              "      <td>188.404938</td>\n",
              "      <td>167.625412</td>\n",
              "      <td>162.347214</td>\n",
              "      <td>165.499115</td>\n",
              "      <td>163.681412</td>\n",
              "      <td>174.163635</td>\n",
              "      <td>179.729172</td>\n",
              "      <td>179.817261</td>\n",
              "      <td>181.516495</td>\n",
              "      <td>192.932297</td>\n",
              "      <td>160.766037</td>\n",
              "      <td>63.738277</td>\n",
              "      <td>76.068138</td>\n",
              "      <td>132.889740</td>\n",
              "      <td>137.521255</td>\n",
              "      <td>132.654068</td>\n",
              "      <td>98.030380</td>\n",
              "      <td>48.088974</td>\n",
              "      <td>3.383246</td>\n",
              "      <td>2.185764</td>\n",
              "      <td>1.621962</td>\n",
              "      <td>0.220920</td>\n",
              "      <td>1.176215</td>\n",
              "      <td>1.396267</td>\n",
              "      <td>0.167535</td>\n",
              "      <td>1.312934</td>\n",
              "    </tr>\n",
              "    <tr>\n",
              "      <th>5</th>\n",
              "      <td>180.0</td>\n",
              "      <td>178.968414</td>\n",
              "      <td>173.285431</td>\n",
              "      <td>170.742737</td>\n",
              "      <td>164.271118</td>\n",
              "      <td>157.539276</td>\n",
              "      <td>157.488907</td>\n",
              "      <td>157.170380</td>\n",
              "      <td>152.509155</td>\n",
              "      <td>152.193100</td>\n",
              "      <td>151.270142</td>\n",
              "      <td>151.800507</td>\n",
              "      <td>139.550140</td>\n",
              "      <td>128.777298</td>\n",
              "      <td>141.423218</td>\n",
              "      <td>153.621735</td>\n",
              "      <td>154.040512</td>\n",
              "      <td>155.779770</td>\n",
              "      <td>158.034073</td>\n",
              "      <td>157.106186</td>\n",
              "      <td>144.485931</td>\n",
              "      <td>145.059265</td>\n",
              "      <td>148.198044</td>\n",
              "      <td>150.239517</td>\n",
              "      <td>143.113602</td>\n",
              "      <td>100.759018</td>\n",
              "      <td>82.243469</td>\n",
              "      <td>89.198021</td>\n",
              "      <td>98.939758</td>\n",
              "      <td>177.912628</td>\n",
              "      <td>174.516541</td>\n",
              "      <td>173.559525</td>\n",
              "      <td>167.493835</td>\n",
              "      <td>154.325928</td>\n",
              "      <td>149.755066</td>\n",
              "      <td>149.886917</td>\n",
              "      <td>147.951126</td>\n",
              "      <td>153.322495</td>\n",
              "      <td>160.729385</td>\n",
              "      <td>155.107178</td>\n",
              "      <td>...</td>\n",
              "      <td>145.679031</td>\n",
              "      <td>115.626183</td>\n",
              "      <td>106.520508</td>\n",
              "      <td>108.860252</td>\n",
              "      <td>114.280495</td>\n",
              "      <td>120.055313</td>\n",
              "      <td>128.667664</td>\n",
              "      <td>110.772354</td>\n",
              "      <td>137.966431</td>\n",
              "      <td>176.949646</td>\n",
              "      <td>196.846436</td>\n",
              "      <td>195.552597</td>\n",
              "      <td>167.969894</td>\n",
              "      <td>168.371872</td>\n",
              "      <td>176.228653</td>\n",
              "      <td>179.459274</td>\n",
              "      <td>172.649902</td>\n",
              "      <td>150.554596</td>\n",
              "      <td>153.015808</td>\n",
              "      <td>165.596069</td>\n",
              "      <td>171.074570</td>\n",
              "      <td>178.218292</td>\n",
              "      <td>187.280014</td>\n",
              "      <td>191.316544</td>\n",
              "      <td>193.305695</td>\n",
              "      <td>193.365433</td>\n",
              "      <td>185.692856</td>\n",
              "      <td>160.290878</td>\n",
              "      <td>128.304703</td>\n",
              "      <td>118.023705</td>\n",
              "      <td>118.144691</td>\n",
              "      <td>113.889404</td>\n",
              "      <td>124.038025</td>\n",
              "      <td>130.209885</td>\n",
              "      <td>123.439018</td>\n",
              "      <td>110.596054</td>\n",
              "      <td>98.501236</td>\n",
              "      <td>108.594574</td>\n",
              "      <td>125.621742</td>\n",
              "      <td>143.518036</td>\n",
              "    </tr>\n",
              "  </tbody>\n",
              "</table>\n",
              "<p>5 rows × 785 columns</p>\n",
              "</div>"
            ],
            "text/plain": [
              "   Width           0           1  ...         781         782         783\n",
              "0  122.0  123.761337  133.587204  ...  134.521896  132.229507  134.617035\n",
              "1  173.0  173.956955  158.307724  ...   49.259109   17.691870    1.848441\n",
              "2  104.0  114.942314  118.853561  ...    0.807692    0.926036    1.000000\n",
              "3  192.0  100.387589   97.979164  ...    1.396267    0.167535    1.312934\n",
              "5  180.0  178.968414  173.285431  ...  108.594574  125.621742  143.518036\n",
              "\n",
              "[5 rows x 785 columns]"
            ]
          },
          "metadata": {},
          "execution_count": 27
        }
      ]
    },
    {
      "cell_type": "code",
      "metadata": {
        "colab": {
          "base_uri": "https://localhost:8080/",
          "height": 204
        },
        "id": "VaZPe_AxNBK9",
        "outputId": "736b540b-a1c2-4fba-ddf3-fa19aba812f0"
      },
      "source": [
        "PSD_new.head()"
      ],
      "execution_count": 28,
      "outputs": [
        {
          "output_type": "execute_result",
          "data": {
            "text/html": [
              "<div>\n",
              "<style scoped>\n",
              "    .dataframe tbody tr th:only-of-type {\n",
              "        vertical-align: middle;\n",
              "    }\n",
              "\n",
              "    .dataframe tbody tr th {\n",
              "        vertical-align: top;\n",
              "    }\n",
              "\n",
              "    .dataframe thead th {\n",
              "        text-align: right;\n",
              "    }\n",
              "</style>\n",
              "<table border=\"1\" class=\"dataframe\">\n",
              "  <thead>\n",
              "    <tr style=\"text-align: right;\">\n",
              "      <th></th>\n",
              "      <th>Unnamed: 0</th>\n",
              "      <th>Area</th>\n",
              "    </tr>\n",
              "  </thead>\n",
              "  <tbody>\n",
              "    <tr>\n",
              "      <th>0</th>\n",
              "      <td>1</td>\n",
              "      <td>1.387</td>\n",
              "    </tr>\n",
              "    <tr>\n",
              "      <th>1</th>\n",
              "      <td>2</td>\n",
              "      <td>1.626</td>\n",
              "    </tr>\n",
              "    <tr>\n",
              "      <th>2</th>\n",
              "      <td>3</td>\n",
              "      <td>1.336</td>\n",
              "    </tr>\n",
              "    <tr>\n",
              "      <th>3</th>\n",
              "      <td>4</td>\n",
              "      <td>0.640</td>\n",
              "    </tr>\n",
              "    <tr>\n",
              "      <th>4</th>\n",
              "      <td>5</td>\n",
              "      <td>2.211</td>\n",
              "    </tr>\n",
              "  </tbody>\n",
              "</table>\n",
              "</div>"
            ],
            "text/plain": [
              "   Unnamed: 0   Area\n",
              "0           1  1.387\n",
              "1           2  1.626\n",
              "2           3  1.336\n",
              "3           4  0.640\n",
              "4           5  2.211"
            ]
          },
          "metadata": {},
          "execution_count": 28
        }
      ]
    },
    {
      "cell_type": "code",
      "metadata": {
        "id": "4vmhG2LgCabC"
      },
      "source": [
        "#lost_value = float(PSD_new.columns[1])\n",
        "\n",
        "# Area = np.array(PSD_new.iloc[:,1])\n",
        "Area = PSD_new['Area'].values\n",
        "# Area = np.concatenate( (Area, [lost_value] ) )\n",
        "# Area = np.concatenate( (Area, [lost_value] ) )\n",
        "diam_teste = []\n",
        "for A in Area:\n",
        "  diam_teste.append((4*A/np.pi)**0.5) \n",
        "\n",
        "Diam1 = [ (4*A/np.pi)**0.5 for A in Area]"
      ],
      "execution_count": 29,
      "outputs": []
    },
    {
      "cell_type": "code",
      "metadata": {
        "colab": {
          "base_uri": "https://localhost:8080/"
        },
        "id": "1aUb2_-jsY1Z",
        "outputId": "2607c782-314c-47b1-f174-a578626862ce"
      },
      "source": [
        "PSD_new.iloc[:,1].values"
      ],
      "execution_count": 30,
      "outputs": [
        {
          "output_type": "execute_result",
          "data": {
            "text/plain": [
              "array([1.387, 1.626, 1.336, 0.64 , 2.211, 1.12 , 0.974, 1.237, 1.29 ,\n",
              "       3.755, 2.778, 1.256, 1.386, 1.302, 1.071, 1.497, 1.518, 1.244,\n",
              "       1.532, 1.325, 1.519, 1.895, 1.22 , 1.241, 1.301, 1.429, 0.667,\n",
              "       2.157, 1.052, 2.082, 1.517, 1.281, 0.784, 1.067, 2.764, 1.215,\n",
              "       0.943, 2.182, 1.486, 1.569, 2.667, 0.709, 1.006, 1.6  , 1.408,\n",
              "       3.16 , 2.465, 2.284, 1.273, 1.256, 3.021, 1.701, 1.955, 5.248,\n",
              "       1.627, 1.367, 1.592, 2.718, 1.658, 1.128, 2.192, 1.508, 2.547,\n",
              "       1.945, 1.606, 3.482, 1.756, 1.457, 1.864, 1.821, 1.314, 1.715,\n",
              "       1.015, 1.345, 1.265, 1.844, 1.396, 1.785, 1.694, 1.413, 1.368,\n",
              "       2.21 , 1.034, 1.367, 1.943, 1.008, 1.279, 1.579, 1.444, 1.879,\n",
              "       1.466, 2.154, 1.794, 3.149, 1.883, 1.692, 1.163, 1.297, 2.949,\n",
              "       1.09 , 1.444, 1.524])"
            ]
          },
          "metadata": {},
          "execution_count": 30
        }
      ]
    },
    {
      "cell_type": "code",
      "metadata": {
        "colab": {
          "base_uri": "https://localhost:8080/"
        },
        "id": "9J705kDqsE8f",
        "outputId": "a99082b9-c944-4ebc-b5c5-52d2422e133d"
      },
      "source": [
        "X.shape"
      ],
      "execution_count": 31,
      "outputs": [
        {
          "output_type": "execute_result",
          "data": {
            "text/plain": [
              "(490, 784)"
            ]
          },
          "metadata": {},
          "execution_count": 31
        }
      ]
    },
    {
      "cell_type": "code",
      "metadata": {
        "colab": {
          "base_uri": "https://localhost:8080/",
          "height": 282
        },
        "id": "mK1GBUHWiIr4",
        "outputId": "e8f61972-38c5-46cb-b3ce-270c37c0d212"
      },
      "source": [
        "Freq = [10.52631579, 24.21052632, 36.84210526, 14.73684211,  7.36842105, 0.]\n",
        "Freq2 = [12.90153, 28.11527, 27.66761, 20.21617, 10.34227, 0.]\n",
        "Freq3 = [22.22489, 30.15078, 25.10463, 19.30926, 2.810434, 0.]\n",
        "barWidth = 0.25\n",
        "\n",
        "br1 = range(len(Freq))\n",
        "# Set position of bar on X axis\n",
        "br2 = [x + barWidth for x in br1]\n",
        "br3 = [x + barWidth for x in br2]\n",
        "labels = [0.8, 1.0, 1.2, 1.4, 1.6, 1.8]\n",
        "\n",
        "xx=[]\n",
        "for a in labels:\n",
        "  xx.append(str(a))\n",
        "plt.bar(br1, Freq , color=\"green\", align=\"center\", width=0.3, tick_label= xx) \n",
        "plt.bar(br2, Freq2 , color=\"red\", align=\"center\", width=0.3, tick_label= xx)\n",
        "plt.bar(br3, Freq3 , color=\"blue\", align=\"center\", width=0.3, tick_label= xx)"
      ],
      "execution_count": 32,
      "outputs": [
        {
          "output_type": "execute_result",
          "data": {
            "text/plain": [
              "<BarContainer object of 6 artists>"
            ]
          },
          "metadata": {},
          "execution_count": 32
        },
        {
          "output_type": "display_data",
          "data": {
            "image/png": "[encoded data removed]",
            "text/plain": [
              "<Figure size 432x288 with 1 Axes>"
            ]
          },
          "metadata": {
            "needs_background": "light"
          }
        }
      ]
    },
    {
      "cell_type": "code",
      "metadata": {
        "id": "Vfk_fNXGDK5_",
        "colab": {
          "base_uri": "https://localhost:8080/",
          "height": 282
        },
        "outputId": "69d5aec3-8306-4193-ee5d-bf4b0381cd03"
      },
      "source": [
        " wt1 = np.ones(len(Diam1)) / len(Diam1)*100\n",
        " wt2 = np.ones(len(Diameter_All)) / len(Diameter_All)*100\n",
        " X = pd.DataFrame([Diam1,Diameter_All])\n",
        " wts = pd.DataFrame([wt1,wt2])\n",
        "plt.hist(X,weights=wts)\n",
        "plt.legend(['Image J','CNN'])"
      ],
      "execution_count": 33,
      "outputs": [
        {
          "output_type": "execute_result",
          "data": {
            "text/plain": [
              "<matplotlib.legend.Legend at 0x7f9868065450>"
            ]
          },
          "metadata": {},
          "execution_count": 33
        },
        {
          "output_type": "display_data",
          "data": {
            "image/png": "[encoded data removed]",
            "text/plain": [
              "<Figure size 432x288 with 1 Axes>"
            ]
          },
          "metadata": {
            "needs_background": "light"
          }
        }
      ]
    },
    {
      "cell_type": "code",
      "metadata": {
        "id": "-nGDbBEeiUij",
        "colab": {
          "base_uri": "https://localhost:8080/",
          "height": 401
        },
        "outputId": "132cc44f-eb53-4211-aad9-2e3b05346924"
      },
      "source": [
        "# plt.hist(x, bins=bins, density=True, histtype='step', cumulative=-1,label='Reversed emp.')\n",
        "plt.hist(X, density=True, histtype='step', cumulative=True,label='Reversed emp.')"
      ],
      "execution_count": 34,
      "outputs": [
        {
          "output_type": "execute_result",
          "data": {
            "text/plain": [
              "(array([[0.01960784, 0.04901961, 0.31372549, 0.67647059, 0.82352941,\n",
              "         0.90196078, 0.97058824, 0.99019608, 0.99019608, 1.        ],\n",
              "        [0.11111111, 0.33333333, 0.48888889, 0.73333333, 1.        ,\n",
              "         1.        , 1.        , 1.        , 1.        , 1.        ]]),\n",
              " array([0.7397148 , 0.92423821, 1.10876163, 1.29328505, 1.47780846,\n",
              "        1.66233188, 1.8468553 , 2.03137871, 2.21590213, 2.40042554,\n",
              "        2.58494896]),\n",
              " <a list of 2 Lists of Patches objects>)"
            ]
          },
          "metadata": {},
          "execution_count": 34
        },
        {
          "output_type": "display_data",
          "data": {
            "image/png": "[encoded data removed]",
            "text/plain": [
              "<Figure size 432x288 with 1 Axes>"
            ]
          },
          "metadata": {
            "needs_background": "light"
          }
        }
      ]
    },
    {
      "cell_type": "code",
      "metadata": {
        "id": "9xENlBUUxfTu",
        "colab": {
          "base_uri": "https://localhost:8080/",
          "height": 282
        },
        "outputId": "b8143d4d-fe06-4ec6-cd37-0636a995f41b"
      },
      "source": [
        "Obj = plt.hist(X, density=True, histtype='step', cumulative=True,label='Reversed emp.')\n",
        "Y1, Y2 = Obj[0]\n",
        "Rsquared = r2_score(Y1, Y2)\n",
        "print('r_squared =',Rsquared)"
      ],
      "execution_count": 35,
      "outputs": [
        {
          "output_type": "stream",
          "name": "stdout",
          "text": [
            "r_squared = 0.8836165728061469\n"
          ]
        },
        {
          "output_type": "display_data",
          "data": {
            "image/png": "[encoded data removed]",
            "text/plain": [
              "<Figure size 432x288 with 1 Axes>"
            ]
          },
          "metadata": {
            "needs_background": "light"
          }
        }
      ]
    },
    {
      "cell_type": "code",
      "metadata": {
        "id": "O2XboMiFbkaa"
      },
      "source": [
        "acc_train = r.history['accuracy'][-1]\n",
        "acc_test = r.history['val_accuracy'][-1]\n",
        "loss_train = r.history['loss'][-1]\n",
        "loss_test = r.history['val_loss'][-1]"
      ],
      "execution_count": 36,
      "outputs": []
    },
    {
      "cell_type": "code",
      "metadata": {
        "id": "euTd_-CYN1v0"
      },
      "source": [
        "df = pd.DataFrame({'N1':N1, 'N2':N2,'R^2':Rsquared,\n",
        "                   'acc train':acc_train,'acc test':acc_test,\n",
        "                   'loss train':loss_train,'loss test':loss_test,\n",
        "                   'Details':Description},\n",
        "                  index= [0])\n"
      ],
      "execution_count": 37,
      "outputs": []
    },
    {
      "cell_type": "code",
      "metadata": {
        "id": "-KukfpGTTKlj",
        "colab": {
          "base_uri": "https://localhost:8080/",
          "height": 80
        },
        "outputId": "fe2d3165-c9b6-41db-ec82-324f9d35b906"
      },
      "source": [
        "df"
      ],
      "execution_count": 38,
      "outputs": [
        {
          "output_type": "execute_result",
          "data": {
            "text/html": [
              "<div>\n",
              "<style scoped>\n",
              "    .dataframe tbody tr th:only-of-type {\n",
              "        vertical-align: middle;\n",
              "    }\n",
              "\n",
              "    .dataframe tbody tr th {\n",
              "        vertical-align: top;\n",
              "    }\n",
              "\n",
              "    .dataframe thead th {\n",
              "        text-align: right;\n",
              "    }\n",
              "</style>\n",
              "<table border=\"1\" class=\"dataframe\">\n",
              "  <thead>\n",
              "    <tr style=\"text-align: right;\">\n",
              "      <th></th>\n",
              "      <th>N1</th>\n",
              "      <th>N2</th>\n",
              "      <th>R^2</th>\n",
              "      <th>acc train</th>\n",
              "      <th>acc test</th>\n",
              "      <th>loss train</th>\n",
              "      <th>loss test</th>\n",
              "      <th>Details</th>\n",
              "    </tr>\n",
              "  </thead>\n",
              "  <tbody>\n",
              "    <tr>\n",
              "      <th>0</th>\n",
              "      <td>20</td>\n",
              "      <td>20</td>\n",
              "      <td>0.883617</td>\n",
              "      <td>1.0</td>\n",
              "      <td>0.823129</td>\n",
              "      <td>0.000006</td>\n",
              "      <td>0.694839</td>\n",
              "      <td>3 layers of Convolution: 64, 128, 256</td>\n",
              "    </tr>\n",
              "  </tbody>\n",
              "</table>\n",
              "</div>"
            ],
            "text/plain": [
              "   N1  N2  ...  loss test                                 Details\n",
              "0  20  20  ...   0.694839  3 layers of Convolution: 64, 128, 256 \n",
              "\n",
              "[1 rows x 8 columns]"
            ]
          },
          "metadata": {},
          "execution_count": 38
        }
      ]
    },
    {
      "cell_type": "code",
      "metadata": {
        "id": "ZZHa1j4HT9Dq",
        "colab": {
          "base_uri": "https://localhost:8080/",
          "height": 384
        },
        "outputId": "32ebdee6-36ee-4242-cfca-ec99e18715fe"
      },
      "source": [
        "counts, bins, bars = plt.hist(X,weights=wts)\n",
        "print(bars)\n",
        "print(bins)\n",
        "print(counts)"
      ],
      "execution_count": 39,
      "outputs": [
        {
          "output_type": "stream",
          "name": "stdout",
          "text": [
            "<a list of 2 Lists of Patches objects>\n",
            "[0.7397148  0.92423821 1.10876163 1.29328505 1.47780846 1.66233188\n",
            " 1.8468553  2.03137871 2.21590213 2.40042554 2.58494896]\n",
            "[[ 1.96078431  2.94117647 26.47058824 36.2745098  14.70588235  7.84313725\n",
            "   6.8627451   1.96078431  0.          0.98039216]\n",
            " [11.11111111 22.22222222 15.55555556 24.44444444 26.66666667  0.\n",
            "   0.          0.          0.          0.        ]]\n"
          ]
        },
        {
          "output_type": "display_data",
          "data": {
            "image/png": "[encoded data removed]",
            "text/plain": [
              "<Figure size 432x288 with 1 Axes>"
            ]
          },
          "metadata": {
            "needs_background": "light"
          }
        }
      ]
    },
    {
      "cell_type": "code",
      "metadata": {
        "id": "8o_vDGeWUwIZ",
        "colab": {
          "base_uri": "https://localhost:8080/"
        },
        "outputId": "a8f692e6-4047-4f85-ba16-ef4a2b9cfcaa"
      },
      "source": [
        "print(counts.sum())"
      ],
      "execution_count": 40,
      "outputs": [
        {
          "output_type": "stream",
          "name": "stdout",
          "text": [
            "200.0000000000001\n"
          ]
        }
      ]
    },
    {
      "cell_type": "code",
      "metadata": {
        "id": "KcH52-6iJQ8t",
        "colab": {
          "base_uri": "https://localhost:8080/",
          "height": 336
        },
        "outputId": "55c6ca1a-e415-4adf-d196-19b19fb8c523"
      },
      "source": [
        "\n",
        "plt.hist([Diam1,Diameter_All])\n",
        "plt.legend(['Image J','CNN'])\n"
      ],
      "execution_count": 41,
      "outputs": [
        {
          "output_type": "stream",
          "name": "stderr",
          "text": [
            "/usr/local/lib/python3.7/dist-packages/numpy/core/_asarray.py:83: VisibleDeprecationWarning: Creating an ndarray from ragged nested sequences (which is a list-or-tuple of lists-or-tuples-or ndarrays with different lengths or shapes) is deprecated. If you meant to do this, you must specify 'dtype=object' when creating the ndarray\n",
            "  return array(a, dtype, copy=False, order=order)\n"
          ]
        },
        {
          "output_type": "execute_result",
          "data": {
            "text/plain": [
              "<matplotlib.legend.Legend at 0x7f986bb3bc10>"
            ]
          },
          "metadata": {},
          "execution_count": 41
        },
        {
          "output_type": "display_data",
          "data": {
            "image/png": "[encoded data removed]",
            "text/plain": [
              "<Figure size 432x288 with 1 Axes>"
            ]
          },
          "metadata": {
            "needs_background": "light"
          }
        }
      ]
    },
    {
      "cell_type": "code",
      "metadata": {
        "id": "r11AxFK_JIii",
        "colab": {
          "base_uri": "https://localhost:8080/"
        },
        "outputId": "8d8754d1-530b-443c-c3ab-088ace4fb90e"
      },
      "source": [
        "[Diam1,Diameter_All]"
      ],
      "execution_count": 42,
      "outputs": [
        {
          "output_type": "execute_result",
          "data": {
            "text/plain": [
              "[[1.3289030245084366,\n",
              "  1.4388493665910183,\n",
              "  1.3042423209535017,\n",
              "  0.9027033336764101,\n",
              "  1.6778356991700483,\n",
              "  1.1941642642883694,\n",
              "  1.113613629842976,\n",
              "  1.254988970803089,\n",
              "  1.2815923738491737,\n",
              "  2.186553107171316,\n",
              "  1.8807071689325485,\n",
              "  1.2645903954195463,\n",
              "  1.3284238815238665,\n",
              "  1.2875394701698204,\n",
              "  1.1677497815933682,\n",
              "  1.3805939296073044,\n",
              "  1.3902437300372827,\n",
              "  1.2585348599266302,\n",
              "  1.3966398900698307,\n",
              "  1.2988619621707653,\n",
              "  1.3907015741893414,\n",
              "  1.5533154661153457,\n",
              "  1.2463355264843006,\n",
              "  1.2570164179581493,\n",
              "  1.2870449283923413,\n",
              "  1.3488733481786004,\n",
              "  0.9215480325725586,\n",
              "  1.6572198701420842,\n",
              "  1.157345238492556,\n",
              "  1.6281537802488464,\n",
              "  1.3897857350553149,\n",
              "  1.2771138777750963,\n",
              "  0.9991095050455518,\n",
              "  1.165567069812981,\n",
              "  1.875962180228586,\n",
              "  1.2437789380968078,\n",
              "  1.0957485526731296,\n",
              "  1.6667959343039342,\n",
              "  1.3755122549350303,\n",
              "  1.413404699896484,\n",
              "  1.8427506249649406,\n",
              "  0.9501193805081709,\n",
              "  1.1317592420667806,\n",
              "  1.4272992929222168,\n",
              "  1.3389254195014408,\n",
              "  2.0058506827187097,\n",
              "  1.7715912276177528,\n",
              "  1.7053090981329784,\n",
              "  1.273119766733618,\n",
              "  1.2645903954195463,\n",
              "  1.9612385537320356,\n",
              "  1.4716590860639265,\n",
              "  1.5777145844408116,\n",
              "  2.584948960960377,\n",
              "  1.4392917491892008,\n",
              "  1.319287102056625,\n",
              "  1.4237265731938766,\n",
              "  1.8602862904913782,\n",
              "  1.4529388029682806,\n",
              "  1.1984215478959244,\n",
              "  1.6706109906436855,\n",
              "  1.3856569681781365,\n",
              "  1.8008167925806498,\n",
              "  1.5736743355948497,\n",
              "  1.4299729748651446,\n",
              "  2.1055688292639205,\n",
              "  1.4952620641730152,\n",
              "  1.3620242349823046,\n",
              "  1.540557857201846,\n",
              "  1.5226848692236787,\n",
              "  1.293459223084363,\n",
              "  1.4777028859756633,\n",
              "  1.1368105109938904,\n",
              "  1.3086279790944384,\n",
              "  1.269113085619237,\n",
              "  1.5322707725763225,\n",
              "  1.3332075624036517,\n",
              "  1.507558485549488,\n",
              "  1.4686278591874,\n",
              "  1.341300666036808,\n",
              "  1.319769562157615,\n",
              "  1.6774562271083886,\n",
              "  1.1474012764748687,\n",
              "  1.319287102056625,\n",
              "  1.5728650404343092,\n",
              "  1.1328836926591555,\n",
              "  1.2761165219980004,\n",
              "  1.417901703622935,\n",
              "  1.355934328276106,\n",
              "  1.546744033302657,\n",
              "  1.3662244224803437,\n",
              "  1.6560670213972442,\n",
              "  1.5113542745679724,\n",
              "  2.0023564433863985,\n",
              "  1.5483895061438226,\n",
              "  1.467760644550703,\n",
              "  1.2168720518308382,\n",
              "  1.2850648580991957,\n",
              "  1.937726352564777,\n",
              "  1.1780624362746346,\n",
              "  1.355934328276106,\n",
              "  1.3929885377045959],\n",
              " [1.083424093767878,\n",
              "  1.454489407522323,\n",
              "  0.8145162691765964,\n",
              "  1.5622546801115815,\n",
              "  1.4231024569674144,\n",
              "  1.0645335579493107,\n",
              "  1.0050558644674685,\n",
              "  1.0182444016774048,\n",
              "  1.005640612657181,\n",
              "  1.4102143644705405,\n",
              "  1.5484087229904584,\n",
              "  1.3029099436665117,\n",
              "  1.0953339517097753,\n",
              "  0.8299070906329501,\n",
              "  1.2756651349072816,\n",
              "  1.6317030765288614,\n",
              "  1.5058501320026694,\n",
              "  1.6080339224824232,\n",
              "  1.1211475417022465,\n",
              "  1.3184643465511814,\n",
              "  0.7783143007204917,\n",
              "  1.2492746440747993,\n",
              "  1.4528056436639867,\n",
              "  1.3412121944629911,\n",
              "  1.3967510313163582,\n",
              "  1.4400940115837697,\n",
              "  0.7397147984262246,\n",
              "  1.5851797189880141,\n",
              "  1.0619883744065528,\n",
              "  1.260361162723066,\n",
              "  1.0495563775632433,\n",
              "  1.4927508264552123,\n",
              "  1.2912647460283173,\n",
              "  1.3889008610997782,\n",
              "  1.508085579162582,\n",
              "  1.0549260097380215,\n",
              "  1.329399453057621,\n",
              "  1.6574205273162836,\n",
              "  1.5203385640171556,\n",
              "  1.6498770301139871,\n",
              "  1.2915376687421394,\n",
              "  1.5547727855425988,\n",
              "  1.0511047904186566,\n",
              "  1.1506501881987266,\n",
              "  0.8218110556836966]]"
            ]
          },
          "metadata": {},
          "execution_count": 42
        }
      ]
    },
    {
      "cell_type": "code",
      "metadata": {
        "id": "4xS7NSM92s_8",
        "colab": {
          "base_uri": "https://localhost:8080/",
          "height": 282
        },
        "outputId": "5f8d53eb-09e9-47ff-d8fd-eea1e751ba0f"
      },
      "source": [
        " bins_list = [0.8, 1.0, 1.2, 1.4,1.6, 1.8,2.0]\n",
        " wt1 = np.ones(len(Diam1)) / len(Diam1)*100\n",
        " wt2 = np.ones(len(Diameter_All)) / len(Diameter_All)*100\n",
        " X = pd.DataFrame([Diam1,Diameter_All])\n",
        " wts = pd.DataFrame([wt1,wt2])\n",
        "plt.hist(X,weights=wts,bins = bins_list)\n",
        "plt.legend(['Image J','CNN'])"
      ],
      "execution_count": 43,
      "outputs": [
        {
          "output_type": "execute_result",
          "data": {
            "text/plain": [
              "<matplotlib.legend.Legend at 0x7f986801bd10>"
            ]
          },
          "metadata": {},
          "execution_count": 43
        },
        {
          "output_type": "display_data",
          "data": {
            "image/png": "[encoded data removed]",
            "text/plain": [
              "<Figure size 432x288 with 1 Axes>"
            ]
          },
          "metadata": {
            "needs_background": "light"
          }
        }
      ]
    },
    {
      "cell_type": "code",
      "metadata": {
        "id": "jD80rFZs37Wm",
        "colab": {
          "base_uri": "https://localhost:8080/",
          "height": 265
        },
        "outputId": "14e3e1d0-91ed-4e00-a1dc-53017095100f"
      },
      "source": [
        "yy = plt.hist(X,weights=wts,bins = bins_list)"
      ],
      "execution_count": 44,
      "outputs": [
        {
          "output_type": "display_data",
          "data": {
            "image/png": "[encoded data removed]",
            "text/plain": [
              "<Figure size 432x288 with 1 Axes>"
            ]
          },
          "metadata": {
            "needs_background": "light"
          }
        }
      ]
    },
    {
      "cell_type": "code",
      "metadata": {
        "id": "edcwJoJP4GBs",
        "colab": {
          "base_uri": "https://localhost:8080/"
        },
        "outputId": "18df97b0-32df-478b-96ea-1faf9a13425b"
      },
      "source": [
        "yy[0][0]"
      ],
      "execution_count": 45,
      "outputs": [
        {
          "output_type": "execute_result",
          "data": {
            "text/plain": [
              "array([ 3.92156863, 11.76470588, 40.19607843, 23.52941176,  8.82352941,\n",
              "        6.8627451 ])"
            ]
          },
          "metadata": {},
          "execution_count": 45
        }
      ]
    },
    {
      "cell_type": "code",
      "metadata": {
        "id": "_0zY-NBY6Rgx",
        "colab": {
          "base_uri": "https://localhost:8080/"
        },
        "outputId": "6a53e2f0-32d3-4d9c-9999-b615ad92b8bf"
      },
      "source": [
        "bins_list"
      ],
      "execution_count": 46,
      "outputs": [
        {
          "output_type": "execute_result",
          "data": {
            "text/plain": [
              "[0.8, 1.0, 1.2, 1.4, 1.6, 1.8, 2.0]"
            ]
          },
          "metadata": {},
          "execution_count": 46
        }
      ]
    },
    {
      "cell_type": "code",
      "metadata": {
        "id": "9ujCjAa85RG5"
      },
      "source": [
        "k =0\n",
        "for kk in yy[0][0]:\n",
        "  name = str(bins_list[k])\n",
        "  df[name] = yy[0][1][k]\n",
        "  k = k+1"
      ],
      "execution_count": 47,
      "outputs": []
    },
    {
      "cell_type": "code",
      "metadata": {
        "id": "iMQRVn4D69RC",
        "colab": {
          "base_uri": "https://localhost:8080/",
          "height": 80
        },
        "outputId": "3f06547f-4829-4411-da45-b22917749a5a"
      },
      "source": [
        "df"
      ],
      "execution_count": 48,
      "outputs": [
        {
          "output_type": "execute_result",
          "data": {
            "text/html": [
              "<div>\n",
              "<style scoped>\n",
              "    .dataframe tbody tr th:only-of-type {\n",
              "        vertical-align: middle;\n",
              "    }\n",
              "\n",
              "    .dataframe tbody tr th {\n",
              "        vertical-align: top;\n",
              "    }\n",
              "\n",
              "    .dataframe thead th {\n",
              "        text-align: right;\n",
              "    }\n",
              "</style>\n",
              "<table border=\"1\" class=\"dataframe\">\n",
              "  <thead>\n",
              "    <tr style=\"text-align: right;\">\n",
              "      <th></th>\n",
              "      <th>N1</th>\n",
              "      <th>N2</th>\n",
              "      <th>R^2</th>\n",
              "      <th>acc train</th>\n",
              "      <th>acc test</th>\n",
              "      <th>loss train</th>\n",
              "      <th>loss test</th>\n",
              "      <th>Details</th>\n",
              "      <th>0.8</th>\n",
              "      <th>1.0</th>\n",
              "      <th>1.2</th>\n",
              "      <th>1.4</th>\n",
              "      <th>1.6</th>\n",
              "      <th>1.8</th>\n",
              "    </tr>\n",
              "  </thead>\n",
              "  <tbody>\n",
              "    <tr>\n",
              "      <th>0</th>\n",
              "      <td>20</td>\n",
              "      <td>20</td>\n",
              "      <td>0.883617</td>\n",
              "      <td>1.0</td>\n",
              "      <td>0.823129</td>\n",
              "      <td>0.000006</td>\n",
              "      <td>0.694839</td>\n",
              "      <td>3 layers of Convolution: 64, 128, 256</td>\n",
              "      <td>6.666667</td>\n",
              "      <td>26.666667</td>\n",
              "      <td>24.444444</td>\n",
              "      <td>28.888889</td>\n",
              "      <td>8.888889</td>\n",
              "      <td>0.0</td>\n",
              "    </tr>\n",
              "  </tbody>\n",
              "</table>\n",
              "</div>"
            ],
            "text/plain": [
              "   N1  N2       R^2  acc train  ...        1.2        1.4       1.6  1.8\n",
              "0  20  20  0.883617        1.0  ...  24.444444  28.888889  8.888889  0.0\n",
              "\n",
              "[1 rows x 14 columns]"
            ]
          },
          "metadata": {},
          "execution_count": 48
        }
      ]
    },
    {
      "cell_type": "code",
      "metadata": {
        "id": "JMWpAwMq5Hw2",
        "colab": {
          "base_uri": "https://localhost:8080/",
          "height": 17
        },
        "outputId": "519f3c64-9ace-4caa-bb0d-bf6d963d4188"
      },
      "source": [
        "Arq = \"output.xlsx\"\n",
        "df.to_excel(Arq)\n",
        "files.download(Arq)"
      ],
      "execution_count": 49,
      "outputs": [
        {
          "output_type": "display_data",
          "data": {
            "application/javascript": [
              "\n",
              "    async function download(id, filename, size) {\n",
              "      if (!google.colab.kernel.accessAllowed) {\n",
              "        return;\n",
              "      }\n",
              "      const div = document.createElement('div');\n",
              "      const label = document.createElement('label');\n",
              "      label.textContent = `Downloading \"${filename}\": `;\n",
              "      div.appendChild(label);\n",
              "      const progress = document.createElement('progress');\n",
              "      progress.max = size;\n",
              "      div.appendChild(progress);\n",
              "      document.body.appendChild(div);\n",
              "\n",
              "      const buffers = [];\n",
              "      let downloaded = 0;\n",
              "\n",
              "      const channel = await google.colab.kernel.comms.open(id);\n",
              "      // Send a message to notify the kernel that we're ready.\n",
              "      channel.send({})\n",
              "\n",
              "      for await (const message of channel.messages) {\n",
              "        // Send a message to notify the kernel that we're ready.\n",
              "        channel.send({})\n",
              "        if (message.buffers) {\n",
              "          for (const buffer of message.buffers) {\n",
              "            buffers.push(buffer);\n",
              "            downloaded += buffer.byteLength;\n",
              "            progress.value = downloaded;\n",
              "          }\n",
              "        }\n",
              "      }\n",
              "      const blob = new Blob(buffers, {type: 'application/binary'});\n",
              "      const a = document.createElement('a');\n",
              "      a.href = window.URL.createObjectURL(blob);\n",
              "      a.download = filename;\n",
              "      div.appendChild(a);\n",
              "      a.click();\n",
              "      div.remove();\n",
              "    }\n",
              "  "
            ],
            "text/plain": [
              "<IPython.core.display.Javascript object>"
            ]
          },
          "metadata": {}
        },
        {
          "output_type": "display_data",
          "data": {
            "application/javascript": [
              "download(\"download_f783c8bc-4f11-4a19-a6b7-40113b3ceff6\", \"output.xlsx\", 5254)"
            ],
            "text/plain": [
              "<IPython.core.display.Javascript object>"
            ]
          },
          "metadata": {}
        }
      ]
    }
  ]
}