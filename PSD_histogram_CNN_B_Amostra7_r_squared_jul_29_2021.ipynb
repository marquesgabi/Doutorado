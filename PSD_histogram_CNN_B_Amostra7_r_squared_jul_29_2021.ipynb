{
  "nbformat": 4,
  "nbformat_minor": 0,
  "metadata": {
    "colab": {
      "name": "PSD_histogram_CNN_B_Amostra7_r_squared_jul_29_2021.ipynb",
      "provenance": [],
      "collapsed_sections": [],
      "include_colab_link": true
    },
    "kernelspec": {
      "name": "python3",
      "display_name": "Python 3"
    }
  },
  "cells": [
    {
      "cell_type": "markdown",
      "metadata": {
        "id": "view-in-github",
        "colab_type": "text"
      },
      "source": [
        "<a href=\"https://colab.research.google.com/github/marquesgabi/Doutorado/blob/master/PSD_histogram_CNN_B_Amostra7_r_squared_jul_29_2021.ipynb\" target=\"_parent\"><img src=\"https://colab.research.google.com/assets/colab-badge.svg\" alt=\"Open In Colab\"/></a>"
      ]
    },
    {
      "cell_type": "code",
      "metadata": {
        "id": "Sog7Z9pyhUD_"
      },
      "source": [
        "import matplotlib.pyplot as plt\n",
        "import numpy as np\n",
        "import cv2\n",
        "import zipfile\n",
        "#import random\n",
        "from random import randint\n",
        "from PIL import Image\n",
        "import re\n",
        "from sklearn.model_selection import train_test_split\n",
        "#import scikit-image\n",
        "import skimage\n",
        "import sklearn\n",
        "import pandas as pd\n",
        "from keras.models import Sequential\n",
        "from keras.layers import Dense, Activation, Conv2D, MaxPooling2D, Flatten, Dropout, BatchNormalization\n",
        "from sklearn.metrics import r2_score\n",
        "from google.colab import files"
      ],
      "execution_count": 1,
      "outputs": []
    },
    {
      "cell_type": "code",
      "metadata": {
        "id": "uZEvJvfoibE4",
        "colab": {
          "base_uri": "https://localhost:8080/"
        },
        "outputId": "14a41aa5-b875-433e-8790-affa36b2100f"
      },
      "source": [
        "!pip install mahotas"
      ],
      "execution_count": 2,
      "outputs": [
        {
          "output_type": "stream",
          "text": [
            "Requirement already satisfied: mahotas in /usr/local/lib/python3.7/dist-packages (1.4.11)\n",
            "Requirement already satisfied: numpy in /usr/local/lib/python3.7/dist-packages (from mahotas) (1.19.5)\n"
          ],
          "name": "stdout"
        }
      ]
    },
    {
      "cell_type": "code",
      "metadata": {
        "id": "nf_a6PJ1iUnT"
      },
      "source": [
        "import mahotas.features.texture as mht\n",
        "import mahotas.features"
      ],
      "execution_count": 3,
      "outputs": []
    },
    {
      "cell_type": "code",
      "metadata": {
        "id": "_VcTdaNVh9EE",
        "colab": {
          "base_uri": "https://localhost:8080/"
        },
        "outputId": "e1900986-f3cb-4693-a9af-ef67557c062b"
      },
      "source": [
        "!git clone https://github.com/ucfilho/marquesgabi_fev_2020 #clonar do Github\n",
        "%cd marquesgabi_fev_2020\n",
        "import Go2BlackWhite\n",
        "import Go2Mahotas"
      ],
      "execution_count": 4,
      "outputs": [
        {
          "output_type": "stream",
          "text": [
            "fatal: destination path 'marquesgabi_fev_2020' already exists and is not an empty directory.\n",
            "/content/marquesgabi_fev_2020\n"
          ],
          "name": "stdout"
        }
      ]
    },
    {
      "cell_type": "code",
      "metadata": {
        "id": "1v7SRrc8mH2N",
        "colab": {
          "base_uri": "https://localhost:8080/"
        },
        "outputId": "33a63b46-961d-4345-cd67-dce4d6d6bcc2"
      },
      "source": [
        "!git clone https://github.com/marquesgabi/Doutorado\n",
        "%cd Doutorado\n",
        "\n",
        "Transfere='Fotos_Grandes_3cdAmostra.zip' \n",
        "file_name = zipfile.ZipFile(Transfere, 'r')\n",
        "file_name.extractall()"
      ],
      "execution_count": 5,
      "outputs": [
        {
          "output_type": "stream",
          "text": [
            "fatal: destination path 'Doutorado' already exists and is not an empty directory.\n",
            "/content/marquesgabi_fev_2020/Doutorado\n"
          ],
          "name": "stdout"
        }
      ]
    },
    {
      "cell_type": "code",
      "metadata": {
        "colab": {
          "base_uri": "https://localhost:8080/"
        },
        "id": "NqIYzUcnrdMp",
        "outputId": "ad04fa03-37df-4a16-f8b9-5f47cd2d7702"
      },
      "source": [
        "labels =[]\n",
        "with zipfile.ZipFile(Transfere, \"r\") as f:\n",
        "  for f in f.namelist():\n",
        "    labels.append(f)\n",
        "print(labels)"
      ],
      "execution_count": 6,
      "outputs": [
        {
          "output_type": "stream",
          "text": [
            "['Fotos_Grandes-3cdAmostra/Q6-8-4.jpg', 'Fotos_Grandes-3cdAmostra/Q6-5-3.jpg', 'Fotos_Grandes-3cdAmostra/Q6-7-4.jpg', 'Fotos_Grandes-3cdAmostra/Q6-8-2.jpg', 'Fotos_Grandes-3cdAmostra/Q6-3-2.jpg', 'Fotos_Grandes-3cdAmostra/Q6-7-2.jpg', 'Fotos_Grandes-3cdAmostra/Q6-4-4.jpg', 'Fotos_Grandes-3cdAmostra/Q6-9-5.jpg', 'Fotos_Grandes-3cdAmostra/Q6-2-5.jpg', 'Fotos_Grandes-3cdAmostra/Q6-8-3.jpg', 'Fotos_Grandes-3cdAmostra/Q6-9-3.jpg', 'Fotos_Grandes-3cdAmostra/Q6-1-2.jpg', 'Fotos_Grandes-3cdAmostra/Q6-6-3.jpg', 'Fotos_Grandes-3cdAmostra/Q6-3-4.jpg', 'Fotos_Grandes-3cdAmostra/Q6-1-4.jpg', 'Fotos_Grandes-3cdAmostra/Q6-6-2.jpg', 'Fotos_Grandes-3cdAmostra/Q6-4-3.jpg', 'Fotos_Grandes-3cdAmostra/Q6-7-3.jpg', 'Fotos_Grandes-3cdAmostra/Q6-2-2.jpg', 'Fotos_Grandes-3cdAmostra/Q6-9-2.jpg', 'Fotos_Grandes-3cdAmostra/Q6-1-5.jpg', 'Fotos_Grandes-3cdAmostra/Q6-6-5.jpg', 'Fotos_Grandes-3cdAmostra/Q6-2-1.jpg', 'Fotos_Grandes-3cdAmostra/Q6-5-2.jpg', 'Fotos_Grandes-3cdAmostra/Q6-4-1.jpg', 'Fotos_Grandes-3cdAmostra/Q6-3-1.jpg', 'Fotos_Grandes-3cdAmostra/Q6-5-4.jpg']\n"
          ],
          "name": "stdout"
        }
      ]
    },
    {
      "cell_type": "code",
      "metadata": {
        "id": "0kA4IWSmasoD"
      },
      "source": [
        "Size=1200 # tamanho da foto\n",
        "ww,img_name=Go2BlackWhite.BlackWhite(Transfere,Size) #Pegamos a primeira foto Grande\n",
        "img=ww[2] \n",
        "# this is the big image we want to segment \n",
        "# ww[0], change it if you want to segment another picture"
      ],
      "execution_count": 7,
      "outputs": []
    },
    {
      "cell_type": "code",
      "metadata": {
        "id": "tHgqAnaFyCjp",
        "colab": {
          "base_uri": "https://localhost:8080/"
        },
        "outputId": "28f20a12-df4f-4201-c196-99e390823b97"
      },
      "source": [
        "!git clone https://github.com/ucfilho/MarquesGabi_Routines\n",
        "%cd MarquesGabi_Routines"
      ],
      "execution_count": 8,
      "outputs": [
        {
          "output_type": "stream",
          "text": [
            "fatal: destination path 'MarquesGabi_Routines' already exists and is not an empty directory.\n",
            "/content/marquesgabi_fev_2020/Doutorado/MarquesGabi_Routines\n"
          ],
          "name": "stdout"
        }
      ]
    },
    {
      "cell_type": "code",
      "metadata": {
        "id": "qc4rFvzkyWCi"
      },
      "source": [
        "from segment_filter_not_conclude import Segmenta  # got image provided segmented"
      ],
      "execution_count": 9,
      "outputs": []
    },
    {
      "cell_type": "code",
      "metadata": {
        "id": "SnTtH3KDP863"
      },
      "source": [
        "df=Segmenta(img)\n",
        "Img_Size = 28"
      ],
      "execution_count": 10,
      "outputs": []
    },
    {
      "cell_type": "code",
      "metadata": {
        "id": "YN5MN5a_v4np",
        "colab": {
          "base_uri": "https://localhost:8080/"
        },
        "outputId": "0afcfef7-d742-46a1-941c-07ac341062db"
      },
      "source": [
        "print(df)"
      ],
      "execution_count": 11,
      "outputs": [
        {
          "output_type": "stream",
          "text": [
            "    Width           0           1  ...         781         782         783\n",
            "0     137  127.695663  129.666794  ...  107.191116  111.077728  115.102997\n",
            "1     133  145.171753  149.099731  ...   61.091415   65.747925   67.310249\n",
            "2     114  140.706985  145.562637  ...   97.953522   98.435524  100.675591\n",
            "3     129  152.704346  153.331955  ...  154.971512  154.433441  153.328583\n",
            "4     198  138.759903  136.239151  ...   59.743492   58.572792   44.150391\n",
            "5     161  104.018906   98.809074  ...    7.245747    6.733460    7.856333\n",
            "6     118  134.554718  142.532883  ...  103.446136  104.666466  103.820168\n",
            "7     175   80.043198   77.675194  ...   60.091202   56.513596   53.140797\n",
            "8     126  136.197540  138.123459  ...  252.703705  247.790131  173.839508\n",
            "9     170  111.441811  112.916679  ...  172.197510  168.935516  158.208878\n",
            "10    156  179.721252  180.685074  ...  123.063126  123.578568  124.646957\n",
            "11    157  126.712975  127.067062  ...  142.685822  148.470764  157.164764\n",
            "12    164  145.127899  154.091614  ...  152.925629  163.017853  171.536575\n",
            "13    115  174.585022  175.015274  ...  149.204605  149.181305  148.616180\n",
            "14    155  112.398720  114.005630  ...  144.329422  147.043015  150.746979\n",
            "15    100   80.315201   79.284805  ...   21.345600    1.600000    0.795200\n",
            "16    174  120.006889  121.801308  ...  116.813591  114.051796  109.395966\n",
            "17    112  124.875000  123.625000  ...   12.625000   12.750000   11.687500\n",
            "18    105  173.351135  177.057800  ...  123.688904  129.120010  132.888885\n",
            "19    174  110.589523  107.311142  ...    0.000000    0.000000    0.000000\n",
            "20    143    1.513913    1.251015  ...  123.105293  119.726585  116.075348\n",
            "21    153  134.209320  134.721268  ...   34.175491    1.614977    0.484472\n",
            "22    116  120.546967  119.096313  ...  123.725327  122.689644  122.794296\n",
            "23    134  106.459343  118.922256  ...   75.429276   64.128090   68.165070\n",
            "24    108   71.289444   70.570641  ...  126.577507  126.550064  126.777779\n",
            "25    139  137.340042  163.280304  ...  104.080116   76.145592   67.820457\n",
            "26    193  166.386627  171.273041  ...   69.643127   91.727257   96.210236\n",
            "27    175    0.000000    0.131200  ...  136.252792  137.798401  137.062408\n",
            "28    179   78.849976   83.855812  ...  148.747406  145.868011  143.073410\n",
            "29    164  115.157654  115.187988  ...  104.625809   82.431885   83.431290\n",
            "30    102  122.573631  124.956581  ...  127.367950  127.345650  128.069977\n",
            "31    172  101.816658  111.054634  ...   67.305031   64.769066   62.354244\n",
            "32    152    0.000000    0.000000  ...   86.041550   86.761772   90.478531\n",
            "33    138  112.379326  112.258766  ...  160.704681  136.143890   93.907372\n",
            "34    115  110.882034  114.217987  ...  166.463730  154.180634   80.949036\n",
            "35    132  129.451797  126.043167  ...   75.298439   60.286503   66.687798\n",
            "36    170  101.361801  100.767761  ...  138.833633  141.813843  144.133575\n",
            "37    196   83.571426   84.938774  ...    7.489796    7.306122    7.591836\n",
            "38    181  166.852249  179.289047  ...   62.782433   60.991604   59.806847\n",
            "39    194  124.603882  132.020386  ...    7.425124    6.908491    7.094483\n",
            "40    104  109.995560  112.794388  ...  181.831360  170.931961   48.130180\n",
            "41    194  130.140701  140.086075  ...  116.951096  122.357513  129.563812\n",
            "42    113  111.179970  112.152321  ...   11.544834   11.758163   11.779778\n",
            "43    196  120.020409  131.734695  ...  123.775505  136.612244  142.510208\n",
            "44    107   95.158707   97.906548  ...   11.273561   11.346405   11.748535\n",
            "45    119  111.100342  114.124573  ...  130.615921  131.363312  133.377151\n",
            "46    153   21.677858   15.477509  ...  149.828522  152.359711  150.582687\n",
            "47    164  112.059494  116.434860  ...  195.729904  208.620468  218.870895\n",
            "48    185  149.701904  160.800934  ...    6.840526    6.804529    7.581738\n",
            "49    152  116.299164  117.064415  ...    9.200831    9.729224    9.273546\n",
            "\n",
            "[50 rows x 785 columns]\n"
          ],
          "name": "stdout"
        }
      ]
    },
    {
      "cell_type": "code",
      "metadata": {
        "id": "xzpQ1Pz0fX5L",
        "colab": {
          "base_uri": "https://localhost:8080/",
          "height": 34
        },
        "outputId": "4b340b54-1014-485b-b394-988f08b131dc"
      },
      "source": [
        "'''\n",
        "!git clone https://github.com/ucfilho/MarquesGabi_Routines\n",
        "%cd MarquesGabi_Routines\n",
        "# filename = 'model_ANN.pkl'\n",
        "filename = 'model_ANN_new.pkl'\n",
        "model = joblib.load(filename)\n",
        "'''"
      ],
      "execution_count": 12,
      "outputs": [
        {
          "output_type": "execute_result",
          "data": {
            "application/vnd.google.colaboratory.intrinsic+json": {
              "type": "string"
            },
            "text/plain": [
              "\"\\n!git clone https://github.com/ucfilho/MarquesGabi_Routines\\n%cd MarquesGabi_Routines\\n# filename = 'model_ANN.pkl'\\nfilename = 'model_ANN_new.pkl'\\nmodel = joblib.load(filename)\\n\""
            ]
          },
          "metadata": {
            "tags": []
          },
          "execution_count": 12
        }
      ]
    },
    {
      "cell_type": "code",
      "metadata": {
        "colab": {
          "base_uri": "https://localhost:8080/"
        },
        "id": "xR2emP4rNjQy",
        "outputId": "f3032ecd-af98-4f49-ea3a-2e076f64bf22"
      },
      "source": [
        "!git clone https://github.com/ucfilho/MarquesGabi_Routines\n",
        "%cd MarquesGabi_Routines"
      ],
      "execution_count": 13,
      "outputs": [
        {
          "output_type": "stream",
          "text": [
            "fatal: destination path 'MarquesGabi_Routines' already exists and is not an empty directory.\n",
            "/content/marquesgabi_fev_2020/Doutorado/MarquesGabi_Routines/MarquesGabi_Routines\n"
          ],
          "name": "stdout"
        }
      ]
    },
    {
      "cell_type": "code",
      "metadata": {
        "id": "O6cMHOrlNliO"
      },
      "source": [
        "# leitura dos dados\n",
        "df=pd.read_excel(\"FotosTreinoRede.xlsx\")\n",
        "y = df['y']\n",
        "df.drop(['Unnamed: 0','y'], axis='columns', inplace=True)"
      ],
      "execution_count": 14,
      "outputs": []
    },
    {
      "cell_type": "code",
      "metadata": {
        "id": "zQO8d2QbNqj0"
      },
      "source": [
        "X =np.array(df.copy())/255.0 \n",
        "\n",
        "\n",
        "X_train, X_test, Y_train, Y_test = train_test_split(X, y, test_size=0.30, shuffle=True, random_state=42)"
      ],
      "execution_count": 15,
      "outputs": []
    },
    {
      "cell_type": "code",
      "metadata": {
        "id": "gIFPGE_-vx3T"
      },
      "source": [
        ""
      ],
      "execution_count": 15,
      "outputs": []
    },
    {
      "cell_type": "code",
      "metadata": {
        "id": "23iKv6bDPWQl"
      },
      "source": [
        "# helper\n",
        "def ynindicator(Y):\n",
        "  N = len(Y)\n",
        "  K = len(set(Y))\n",
        "  I = np.zeros((N, K))\n",
        "  I[np.arange(N), Y] = 1\n",
        "  return I\n",
        "\n",
        "def yback(Y_test):\n",
        "  nrow, ncol = Y_test.shape\n",
        "  y_class = np.zeros(nrow,dtype=int)\n",
        "  y_resp = Y_test\n",
        "  for k in range(nrow):\n",
        "    for kk in range(K):\n",
        "      if(y_resp[k,kk] == 1):\n",
        "        y_class[k] = kk\n",
        "  Y_test = y_class.copy()\n",
        "  return Y_test\n",
        "\n",
        "X_train = np.array(X_train)\n",
        "Y_train = np.array(Y_train)\n",
        "K = len(set(Y_train))\n",
        "\n",
        "X_train = X_train.reshape(-1, Img_Size, Img_Size, 1) / 255.0\n",
        "Y_train = Y_train.astype(np.int32)\n",
        "Y_train = ynindicator(Y_train)\n",
        "\n",
        "X_test = np.array(X_test )\n",
        "Y_test = np.array(Y_test)\n",
        "X_test = X_test.reshape(-1, Img_Size, Img_Size, 1) / 255.0\n",
        "Y_test = Y_test.astype(np.int32)\n",
        "Y_test = ynindicator(Y_test)\n",
        "\n",
        "# the model will be a sequence of layers\n",
        "\n",
        "Description = '3 layers of Convolution: 32, 64, 128 '\n",
        "N1 = 200\n",
        "N2 = 10\n",
        "\n",
        "# make the CNN\n",
        "model = Sequential()\n",
        "model.add(Conv2D(input_shape=(Img_Size, Img_Size, 1), filters=32, kernel_size=(3, 3)))\n",
        "model.add(BatchNormalization())\n",
        "model.add(Activation('relu'))\n",
        "model.add(MaxPooling2D())\n",
        "\n",
        "model.add(Conv2D(filters=64, kernel_size=(3, 3)))\n",
        "model.add(BatchNormalization())\n",
        "model.add(Activation('relu'))\n",
        "model.add(MaxPooling2D())\n",
        "\n",
        "model.add(Conv2D(filters=128, kernel_size=(3, 3)))\n",
        "model.add(BatchNormalization())\n",
        "model.add(Activation('relu'))\n",
        "model.add(MaxPooling2D())\n",
        "\n",
        "model.add(Flatten())\n",
        "model.add(Dense(units=N1))\n",
        "model.add(Dropout(0.2))\n",
        "model.add(Dense(units=N2))\n",
        "model.add(Activation('relu'))\n",
        "#model.add(Dropout(0.2))\n",
        "model.add(Dense(units=K))\n",
        "model.add(Activation('softmax'))\n",
        "\n",
        "\n",
        "# list of losses: https://keras.io/losses/\n",
        "# list of optimizers: https://keras.io/optimizers/\n",
        "# list of metrics: https://keras.io/metrics/\n",
        "model.compile(\n",
        "  loss='categorical_crossentropy',\n",
        "  optimizer='adam',\n",
        "  metrics=['accuracy']\n",
        ")"
      ],
      "execution_count": 16,
      "outputs": []
    },
    {
      "cell_type": "code",
      "metadata": {
        "colab": {
          "base_uri": "https://localhost:8080/"
        },
        "id": "FpbPQ1FSRG6A",
        "outputId": "aa6d69db-c4e0-4cf4-f5cd-3f24e68c018c"
      },
      "source": [
        "\n",
        "# training the model\n",
        "r = model.fit(X_train, Y_train, validation_data=(X_test,Y_test), \n",
        "              epochs=200, batch_size=32)"
      ],
      "execution_count": 17,
      "outputs": [
        {
          "output_type": "stream",
          "text": [
            "Epoch 1/200\n",
            "11/11 [==============================] - 19s 121ms/step - loss: 0.5518 - accuracy: 0.7380 - val_loss: 0.6933 - val_accuracy: 0.4898\n",
            "Epoch 2/200\n",
            "11/11 [==============================] - 0s 42ms/step - loss: 0.3411 - accuracy: 0.8397 - val_loss: 0.6931 - val_accuracy: 0.5102\n",
            "Epoch 3/200\n",
            "11/11 [==============================] - 0s 44ms/step - loss: 0.1436 - accuracy: 0.9464 - val_loss: 0.6929 - val_accuracy: 0.5102\n",
            "Epoch 4/200\n",
            "11/11 [==============================] - 0s 42ms/step - loss: 0.1033 - accuracy: 0.9662 - val_loss: 0.6930 - val_accuracy: 0.5102\n",
            "Epoch 5/200\n",
            "11/11 [==============================] - 0s 43ms/step - loss: 0.0528 - accuracy: 0.9912 - val_loss: 0.6928 - val_accuracy: 0.5102\n",
            "Epoch 6/200\n",
            "11/11 [==============================] - 0s 43ms/step - loss: 0.0261 - accuracy: 0.9942 - val_loss: 0.6932 - val_accuracy: 0.4898\n",
            "Epoch 7/200\n",
            "11/11 [==============================] - 0s 44ms/step - loss: 0.0219 - accuracy: 0.9990 - val_loss: 0.6929 - val_accuracy: 0.4898\n",
            "Epoch 8/200\n",
            "11/11 [==============================] - 0s 42ms/step - loss: 0.0103 - accuracy: 1.0000 - val_loss: 0.6926 - val_accuracy: 0.5102\n",
            "Epoch 9/200\n",
            "11/11 [==============================] - 0s 43ms/step - loss: 0.0102 - accuracy: 1.0000 - val_loss: 0.6926 - val_accuracy: 0.5102\n",
            "Epoch 10/200\n",
            "11/11 [==============================] - 0s 44ms/step - loss: 0.0105 - accuracy: 0.9945 - val_loss: 0.6926 - val_accuracy: 0.5102\n",
            "Epoch 11/200\n",
            "11/11 [==============================] - 0s 43ms/step - loss: 0.0031 - accuracy: 1.0000 - val_loss: 0.6926 - val_accuracy: 0.5102\n",
            "Epoch 12/200\n",
            "11/11 [==============================] - 0s 42ms/step - loss: 0.0068 - accuracy: 0.9982 - val_loss: 0.6931 - val_accuracy: 0.5102\n",
            "Epoch 13/200\n",
            "11/11 [==============================] - 0s 43ms/step - loss: 0.0125 - accuracy: 0.9958 - val_loss: 0.6929 - val_accuracy: 0.5102\n",
            "Epoch 14/200\n",
            "11/11 [==============================] - 0s 42ms/step - loss: 0.0101 - accuracy: 0.9993 - val_loss: 0.6918 - val_accuracy: 0.5102\n",
            "Epoch 15/200\n",
            "11/11 [==============================] - 0s 43ms/step - loss: 0.0048 - accuracy: 0.9995 - val_loss: 0.6935 - val_accuracy: 0.5102\n",
            "Epoch 16/200\n",
            "11/11 [==============================] - 0s 44ms/step - loss: 0.0134 - accuracy: 0.9948 - val_loss: 0.6915 - val_accuracy: 0.5102\n",
            "Epoch 17/200\n",
            "11/11 [==============================] - 0s 43ms/step - loss: 0.0639 - accuracy: 0.9760 - val_loss: 0.6959 - val_accuracy: 0.5102\n",
            "Epoch 18/200\n",
            "11/11 [==============================] - 0s 44ms/step - loss: 0.0329 - accuracy: 0.9913 - val_loss: 0.6997 - val_accuracy: 0.5102\n",
            "Epoch 19/200\n",
            "11/11 [==============================] - 0s 44ms/step - loss: 0.0126 - accuracy: 0.9985 - val_loss: 0.7078 - val_accuracy: 0.5102\n",
            "Epoch 20/200\n",
            "11/11 [==============================] - 0s 44ms/step - loss: 0.0070 - accuracy: 0.9978 - val_loss: 0.6922 - val_accuracy: 0.5102\n",
            "Epoch 21/200\n",
            "11/11 [==============================] - 0s 45ms/step - loss: 0.0213 - accuracy: 0.9951 - val_loss: 0.7200 - val_accuracy: 0.5102\n",
            "Epoch 22/200\n",
            "11/11 [==============================] - 0s 43ms/step - loss: 0.0198 - accuracy: 0.9918 - val_loss: 0.7171 - val_accuracy: 0.5102\n",
            "Epoch 23/200\n",
            "11/11 [==============================] - 0s 42ms/step - loss: 0.0052 - accuracy: 1.0000 - val_loss: 0.7166 - val_accuracy: 0.5102\n",
            "Epoch 24/200\n",
            "11/11 [==============================] - 0s 45ms/step - loss: 0.0046 - accuracy: 1.0000 - val_loss: 0.7262 - val_accuracy: 0.5102\n",
            "Epoch 25/200\n",
            "11/11 [==============================] - 0s 45ms/step - loss: 0.0036 - accuracy: 1.0000 - val_loss: 0.7605 - val_accuracy: 0.5102\n",
            "Epoch 26/200\n",
            "11/11 [==============================] - 0s 44ms/step - loss: 0.0010 - accuracy: 1.0000 - val_loss: 0.7840 - val_accuracy: 0.5102\n",
            "Epoch 27/200\n",
            "11/11 [==============================] - 0s 43ms/step - loss: 0.0016 - accuracy: 1.0000 - val_loss: 0.8077 - val_accuracy: 0.5102\n",
            "Epoch 28/200\n",
            "11/11 [==============================] - 0s 45ms/step - loss: 7.2104e-04 - accuracy: 1.0000 - val_loss: 0.8326 - val_accuracy: 0.5102\n",
            "Epoch 29/200\n",
            "11/11 [==============================] - 0s 43ms/step - loss: 3.5863e-04 - accuracy: 1.0000 - val_loss: 0.8504 - val_accuracy: 0.5102\n",
            "Epoch 30/200\n",
            "11/11 [==============================] - 0s 45ms/step - loss: 7.1591e-04 - accuracy: 1.0000 - val_loss: 0.8561 - val_accuracy: 0.5102\n",
            "Epoch 31/200\n",
            "11/11 [==============================] - 0s 43ms/step - loss: 4.2131e-04 - accuracy: 1.0000 - val_loss: 0.8608 - val_accuracy: 0.5102\n",
            "Epoch 32/200\n",
            "11/11 [==============================] - 0s 46ms/step - loss: 0.0010 - accuracy: 1.0000 - val_loss: 0.8687 - val_accuracy: 0.5102\n",
            "Epoch 33/200\n",
            "11/11 [==============================] - 0s 43ms/step - loss: 5.2306e-04 - accuracy: 1.0000 - val_loss: 0.8882 - val_accuracy: 0.5102\n",
            "Epoch 34/200\n",
            "11/11 [==============================] - 0s 45ms/step - loss: 3.8576e-04 - accuracy: 1.0000 - val_loss: 0.9119 - val_accuracy: 0.5102\n",
            "Epoch 35/200\n",
            "11/11 [==============================] - 0s 45ms/step - loss: 5.7491e-04 - accuracy: 1.0000 - val_loss: 0.9525 - val_accuracy: 0.5102\n",
            "Epoch 36/200\n",
            "11/11 [==============================] - 0s 44ms/step - loss: 0.0032 - accuracy: 1.0000 - val_loss: 1.4852 - val_accuracy: 0.5102\n",
            "Epoch 37/200\n",
            "11/11 [==============================] - 0s 43ms/step - loss: 0.0107 - accuracy: 0.9919 - val_loss: 1.7500 - val_accuracy: 0.5102\n",
            "Epoch 38/200\n",
            "11/11 [==============================] - 0s 44ms/step - loss: 0.0019 - accuracy: 1.0000 - val_loss: 2.0461 - val_accuracy: 0.5102\n",
            "Epoch 39/200\n",
            "11/11 [==============================] - 0s 46ms/step - loss: 0.0072 - accuracy: 1.0000 - val_loss: 2.5606 - val_accuracy: 0.5102\n",
            "Epoch 40/200\n",
            "11/11 [==============================] - 0s 43ms/step - loss: 5.7180e-04 - accuracy: 1.0000 - val_loss: 2.2153 - val_accuracy: 0.5102\n",
            "Epoch 41/200\n",
            "11/11 [==============================] - 0s 43ms/step - loss: 2.8141e-04 - accuracy: 1.0000 - val_loss: 2.1063 - val_accuracy: 0.5102\n",
            "Epoch 42/200\n",
            "11/11 [==============================] - 0s 44ms/step - loss: 0.0038 - accuracy: 1.0000 - val_loss: 2.5109 - val_accuracy: 0.5102\n",
            "Epoch 43/200\n",
            "11/11 [==============================] - 0s 44ms/step - loss: 2.6698e-04 - accuracy: 1.0000 - val_loss: 2.7833 - val_accuracy: 0.5102\n",
            "Epoch 44/200\n",
            "11/11 [==============================] - 0s 44ms/step - loss: 1.9558e-04 - accuracy: 1.0000 - val_loss: 2.9379 - val_accuracy: 0.5102\n",
            "Epoch 45/200\n",
            "11/11 [==============================] - 0s 45ms/step - loss: 9.3051e-05 - accuracy: 1.0000 - val_loss: 3.0305 - val_accuracy: 0.5102\n",
            "Epoch 46/200\n",
            "11/11 [==============================] - 0s 43ms/step - loss: 4.4334e-04 - accuracy: 1.0000 - val_loss: 3.0664 - val_accuracy: 0.5102\n",
            "Epoch 47/200\n",
            "11/11 [==============================] - 0s 44ms/step - loss: 2.8322e-04 - accuracy: 1.0000 - val_loss: 3.0657 - val_accuracy: 0.5102\n",
            "Epoch 48/200\n",
            "11/11 [==============================] - 0s 43ms/step - loss: 1.4026e-04 - accuracy: 1.0000 - val_loss: 3.0043 - val_accuracy: 0.5102\n",
            "Epoch 49/200\n",
            "11/11 [==============================] - 0s 44ms/step - loss: 1.0528e-04 - accuracy: 1.0000 - val_loss: 2.9637 - val_accuracy: 0.5102\n",
            "Epoch 50/200\n",
            "11/11 [==============================] - 0s 43ms/step - loss: 1.0230e-04 - accuracy: 1.0000 - val_loss: 2.9366 - val_accuracy: 0.5102\n",
            "Epoch 51/200\n",
            "11/11 [==============================] - 0s 42ms/step - loss: 2.0135e-04 - accuracy: 1.0000 - val_loss: 2.9296 - val_accuracy: 0.5102\n",
            "Epoch 52/200\n",
            "11/11 [==============================] - 0s 44ms/step - loss: 1.2335e-04 - accuracy: 1.0000 - val_loss: 2.8742 - val_accuracy: 0.5102\n",
            "Epoch 53/200\n",
            "11/11 [==============================] - 0s 44ms/step - loss: 1.5397e-04 - accuracy: 1.0000 - val_loss: 2.9052 - val_accuracy: 0.5102\n",
            "Epoch 54/200\n",
            "11/11 [==============================] - 0s 45ms/step - loss: 1.6101e-04 - accuracy: 1.0000 - val_loss: 2.9683 - val_accuracy: 0.5102\n",
            "Epoch 55/200\n",
            "11/11 [==============================] - 0s 44ms/step - loss: 2.8080e-04 - accuracy: 1.0000 - val_loss: 3.0162 - val_accuracy: 0.5102\n",
            "Epoch 56/200\n",
            "11/11 [==============================] - 0s 44ms/step - loss: 6.3109e-05 - accuracy: 1.0000 - val_loss: 2.9934 - val_accuracy: 0.5102\n",
            "Epoch 57/200\n",
            "11/11 [==============================] - 0s 44ms/step - loss: 2.5581e-04 - accuracy: 1.0000 - val_loss: 2.4033 - val_accuracy: 0.5102\n",
            "Epoch 58/200\n",
            "11/11 [==============================] - 0s 43ms/step - loss: 6.2140e-04 - accuracy: 1.0000 - val_loss: 0.3894 - val_accuracy: 0.7959\n",
            "Epoch 59/200\n",
            "11/11 [==============================] - 0s 43ms/step - loss: 9.8437e-05 - accuracy: 1.0000 - val_loss: 0.2174 - val_accuracy: 0.9320\n",
            "Epoch 60/200\n",
            "11/11 [==============================] - 0s 45ms/step - loss: 4.7151e-04 - accuracy: 1.0000 - val_loss: 0.2422 - val_accuracy: 0.9116\n",
            "Epoch 61/200\n",
            "11/11 [==============================] - 0s 45ms/step - loss: 7.6093e-04 - accuracy: 1.0000 - val_loss: 0.7726 - val_accuracy: 0.6599\n",
            "Epoch 62/200\n",
            "11/11 [==============================] - 0s 44ms/step - loss: 2.0306e-04 - accuracy: 1.0000 - val_loss: 1.3343 - val_accuracy: 0.5510\n",
            "Epoch 63/200\n",
            "11/11 [==============================] - 0s 44ms/step - loss: 1.6874e-04 - accuracy: 1.0000 - val_loss: 1.4857 - val_accuracy: 0.5442\n",
            "Epoch 64/200\n",
            "11/11 [==============================] - 0s 44ms/step - loss: 1.7415e-04 - accuracy: 1.0000 - val_loss: 1.4382 - val_accuracy: 0.5510\n",
            "Epoch 65/200\n",
            "11/11 [==============================] - 0s 45ms/step - loss: 2.4168e-04 - accuracy: 1.0000 - val_loss: 1.2616 - val_accuracy: 0.5918\n",
            "Epoch 66/200\n",
            "11/11 [==============================] - 0s 44ms/step - loss: 2.7707e-04 - accuracy: 1.0000 - val_loss: 1.8227 - val_accuracy: 0.5510\n",
            "Epoch 67/200\n",
            "11/11 [==============================] - 0s 44ms/step - loss: 9.4958e-05 - accuracy: 1.0000 - val_loss: 2.2619 - val_accuracy: 0.5238\n",
            "Epoch 68/200\n",
            "11/11 [==============================] - 0s 43ms/step - loss: 4.6357e-05 - accuracy: 1.0000 - val_loss: 2.0643 - val_accuracy: 0.5442\n",
            "Epoch 69/200\n",
            "11/11 [==============================] - 0s 43ms/step - loss: 5.2564e-05 - accuracy: 1.0000 - val_loss: 1.8211 - val_accuracy: 0.5646\n",
            "Epoch 70/200\n",
            "11/11 [==============================] - 0s 44ms/step - loss: 5.4841e-05 - accuracy: 1.0000 - val_loss: 1.5100 - val_accuracy: 0.5850\n",
            "Epoch 71/200\n",
            "11/11 [==============================] - 0s 43ms/step - loss: 4.9744e-05 - accuracy: 1.0000 - val_loss: 1.2253 - val_accuracy: 0.6122\n",
            "Epoch 72/200\n",
            "11/11 [==============================] - 0s 43ms/step - loss: 3.6109e-05 - accuracy: 1.0000 - val_loss: 1.0005 - val_accuracy: 0.6803\n",
            "Epoch 73/200\n",
            "11/11 [==============================] - 0s 43ms/step - loss: 7.3931e-05 - accuracy: 1.0000 - val_loss: 0.8663 - val_accuracy: 0.7075\n",
            "Epoch 74/200\n",
            "11/11 [==============================] - 0s 43ms/step - loss: 5.5154e-05 - accuracy: 1.0000 - val_loss: 1.0206 - val_accuracy: 0.6599\n",
            "Epoch 75/200\n",
            "11/11 [==============================] - 0s 45ms/step - loss: 4.3815e-05 - accuracy: 1.0000 - val_loss: 0.9324 - val_accuracy: 0.6939\n",
            "Epoch 76/200\n",
            "11/11 [==============================] - 0s 43ms/step - loss: 6.6640e-05 - accuracy: 1.0000 - val_loss: 0.7578 - val_accuracy: 0.7347\n",
            "Epoch 77/200\n",
            "11/11 [==============================] - 0s 44ms/step - loss: 4.0438e-04 - accuracy: 1.0000 - val_loss: 0.4683 - val_accuracy: 0.8571\n",
            "Epoch 78/200\n",
            "11/11 [==============================] - 0s 44ms/step - loss: 5.6330e-05 - accuracy: 1.0000 - val_loss: 0.5467 - val_accuracy: 0.8367\n",
            "Epoch 79/200\n",
            "11/11 [==============================] - 0s 45ms/step - loss: 2.8571e-05 - accuracy: 1.0000 - val_loss: 0.5325 - val_accuracy: 0.8503\n",
            "Epoch 80/200\n",
            "11/11 [==============================] - 0s 45ms/step - loss: 5.6940e-05 - accuracy: 1.0000 - val_loss: 0.5323 - val_accuracy: 0.8776\n",
            "Epoch 81/200\n",
            "11/11 [==============================] - 0s 45ms/step - loss: 4.0266e-05 - accuracy: 1.0000 - val_loss: 0.4333 - val_accuracy: 0.8844\n",
            "Epoch 82/200\n",
            "11/11 [==============================] - 0s 44ms/step - loss: 4.3293e-05 - accuracy: 1.0000 - val_loss: 0.3433 - val_accuracy: 0.9048\n",
            "Epoch 83/200\n",
            "11/11 [==============================] - 0s 45ms/step - loss: 1.9101e-05 - accuracy: 1.0000 - val_loss: 0.2851 - val_accuracy: 0.9320\n",
            "Epoch 84/200\n",
            "11/11 [==============================] - 0s 46ms/step - loss: 6.0097e-05 - accuracy: 1.0000 - val_loss: 0.2355 - val_accuracy: 0.9456\n",
            "Epoch 85/200\n",
            "11/11 [==============================] - 0s 44ms/step - loss: 2.2107e-05 - accuracy: 1.0000 - val_loss: 0.2016 - val_accuracy: 0.9524\n",
            "Epoch 86/200\n",
            "11/11 [==============================] - 0s 45ms/step - loss: 3.3886e-05 - accuracy: 1.0000 - val_loss: 0.1858 - val_accuracy: 0.9592\n",
            "Epoch 87/200\n",
            "11/11 [==============================] - 0s 45ms/step - loss: 2.6423e-05 - accuracy: 1.0000 - val_loss: 0.1860 - val_accuracy: 0.9524\n",
            "Epoch 88/200\n",
            "11/11 [==============================] - 0s 44ms/step - loss: 9.3521e-04 - accuracy: 1.0000 - val_loss: 3.7483 - val_accuracy: 0.5850\n",
            "Epoch 89/200\n",
            "11/11 [==============================] - 0s 45ms/step - loss: 3.6236e-05 - accuracy: 1.0000 - val_loss: 5.4326 - val_accuracy: 0.5170\n",
            "Epoch 90/200\n",
            "11/11 [==============================] - 0s 44ms/step - loss: 6.0652e-05 - accuracy: 1.0000 - val_loss: 5.8531 - val_accuracy: 0.5170\n",
            "Epoch 91/200\n",
            "11/11 [==============================] - 0s 45ms/step - loss: 4.9855e-05 - accuracy: 1.0000 - val_loss: 5.4421 - val_accuracy: 0.5170\n",
            "Epoch 92/200\n",
            "11/11 [==============================] - 0s 44ms/step - loss: 4.7607e-05 - accuracy: 1.0000 - val_loss: 4.8733 - val_accuracy: 0.5374\n",
            "Epoch 93/200\n",
            "11/11 [==============================] - 0s 44ms/step - loss: 1.5626e-04 - accuracy: 1.0000 - val_loss: 4.1264 - val_accuracy: 0.5646\n",
            "Epoch 94/200\n",
            "11/11 [==============================] - 0s 44ms/step - loss: 7.4852e-05 - accuracy: 1.0000 - val_loss: 3.5127 - val_accuracy: 0.5918\n",
            "Epoch 95/200\n",
            "11/11 [==============================] - 0s 43ms/step - loss: 1.3964e-05 - accuracy: 1.0000 - val_loss: 2.9264 - val_accuracy: 0.6259\n",
            "Epoch 96/200\n",
            "11/11 [==============================] - 1s 47ms/step - loss: 2.4237e-05 - accuracy: 1.0000 - val_loss: 2.3688 - val_accuracy: 0.6735\n",
            "Epoch 97/200\n",
            "11/11 [==============================] - 0s 43ms/step - loss: 2.7410e-05 - accuracy: 1.0000 - val_loss: 1.8882 - val_accuracy: 0.7007\n",
            "Epoch 98/200\n",
            "11/11 [==============================] - 0s 45ms/step - loss: 2.4869e-05 - accuracy: 1.0000 - val_loss: 1.4518 - val_accuracy: 0.7211\n",
            "Epoch 99/200\n",
            "11/11 [==============================] - 0s 44ms/step - loss: 1.6117e-04 - accuracy: 1.0000 - val_loss: 0.3792 - val_accuracy: 0.9320\n",
            "Epoch 100/200\n",
            "11/11 [==============================] - 0s 44ms/step - loss: 5.9047e-05 - accuracy: 1.0000 - val_loss: 0.3371 - val_accuracy: 0.9320\n",
            "Epoch 101/200\n",
            "11/11 [==============================] - 0s 44ms/step - loss: 1.6094e-05 - accuracy: 1.0000 - val_loss: 0.3175 - val_accuracy: 0.9320\n",
            "Epoch 102/200\n",
            "11/11 [==============================] - 0s 44ms/step - loss: 1.8947e-05 - accuracy: 1.0000 - val_loss: 0.2696 - val_accuracy: 0.9320\n",
            "Epoch 103/200\n",
            "11/11 [==============================] - 0s 44ms/step - loss: 2.3682e-05 - accuracy: 1.0000 - val_loss: 0.2414 - val_accuracy: 0.9388\n",
            "Epoch 104/200\n",
            "11/11 [==============================] - 0s 44ms/step - loss: 2.3555e-05 - accuracy: 1.0000 - val_loss: 0.2224 - val_accuracy: 0.9456\n",
            "Epoch 105/200\n",
            "11/11 [==============================] - 0s 43ms/step - loss: 2.9928e-05 - accuracy: 1.0000 - val_loss: 0.2140 - val_accuracy: 0.9456\n",
            "Epoch 106/200\n",
            "11/11 [==============================] - 0s 45ms/step - loss: 1.7869e-05 - accuracy: 1.0000 - val_loss: 0.2109 - val_accuracy: 0.9456\n",
            "Epoch 107/200\n",
            "11/11 [==============================] - 0s 45ms/step - loss: 2.6554e-05 - accuracy: 1.0000 - val_loss: 0.2029 - val_accuracy: 0.9592\n",
            "Epoch 108/200\n",
            "11/11 [==============================] - 0s 45ms/step - loss: 1.3998e-05 - accuracy: 1.0000 - val_loss: 0.1954 - val_accuracy: 0.9524\n",
            "Epoch 109/200\n",
            "11/11 [==============================] - 0s 45ms/step - loss: 4.9886e-05 - accuracy: 1.0000 - val_loss: 0.2060 - val_accuracy: 0.9660\n",
            "Epoch 110/200\n",
            "11/11 [==============================] - 0s 44ms/step - loss: 2.4036e-05 - accuracy: 1.0000 - val_loss: 0.2132 - val_accuracy: 0.9592\n",
            "Epoch 111/200\n",
            "11/11 [==============================] - 0s 43ms/step - loss: 2.1301e-05 - accuracy: 1.0000 - val_loss: 0.2153 - val_accuracy: 0.9592\n",
            "Epoch 112/200\n",
            "11/11 [==============================] - 0s 44ms/step - loss: 1.5317e-05 - accuracy: 1.0000 - val_loss: 0.2137 - val_accuracy: 0.9660\n",
            "Epoch 113/200\n",
            "11/11 [==============================] - 0s 45ms/step - loss: 9.7224e-06 - accuracy: 1.0000 - val_loss: 0.2124 - val_accuracy: 0.9660\n",
            "Epoch 114/200\n",
            "11/11 [==============================] - 0s 43ms/step - loss: 2.0772e-05 - accuracy: 1.0000 - val_loss: 0.2137 - val_accuracy: 0.9660\n",
            "Epoch 115/200\n",
            "11/11 [==============================] - 0s 44ms/step - loss: 3.3060e-05 - accuracy: 1.0000 - val_loss: 0.2190 - val_accuracy: 0.9660\n",
            "Epoch 116/200\n",
            "11/11 [==============================] - 0s 44ms/step - loss: 1.8968e-05 - accuracy: 1.0000 - val_loss: 0.2124 - val_accuracy: 0.9660\n",
            "Epoch 117/200\n",
            "11/11 [==============================] - 1s 47ms/step - loss: 1.2207e-05 - accuracy: 1.0000 - val_loss: 0.2116 - val_accuracy: 0.9592\n",
            "Epoch 118/200\n",
            "11/11 [==============================] - 0s 44ms/step - loss: 1.9193e-05 - accuracy: 1.0000 - val_loss: 0.2109 - val_accuracy: 0.9592\n",
            "Epoch 119/200\n",
            "11/11 [==============================] - 0s 45ms/step - loss: 1.7403e-05 - accuracy: 1.0000 - val_loss: 0.2106 - val_accuracy: 0.9592\n",
            "Epoch 120/200\n",
            "11/11 [==============================] - 0s 43ms/step - loss: 6.6104e-05 - accuracy: 1.0000 - val_loss: 0.2280 - val_accuracy: 0.9660\n",
            "Epoch 121/200\n",
            "11/11 [==============================] - 0s 46ms/step - loss: 1.9282e-05 - accuracy: 1.0000 - val_loss: 0.3745 - val_accuracy: 0.9320\n",
            "Epoch 122/200\n",
            "11/11 [==============================] - 0s 44ms/step - loss: 1.5379e-05 - accuracy: 1.0000 - val_loss: 0.4595 - val_accuracy: 0.9320\n",
            "Epoch 123/200\n",
            "11/11 [==============================] - 0s 44ms/step - loss: 2.3479e-05 - accuracy: 1.0000 - val_loss: 0.4438 - val_accuracy: 0.9320\n",
            "Epoch 124/200\n",
            "11/11 [==============================] - 0s 44ms/step - loss: 1.0764e-05 - accuracy: 1.0000 - val_loss: 0.4080 - val_accuracy: 0.9320\n",
            "Epoch 125/200\n",
            "11/11 [==============================] - 0s 45ms/step - loss: 1.6471e-05 - accuracy: 1.0000 - val_loss: 0.3620 - val_accuracy: 0.9388\n",
            "Epoch 126/200\n",
            "11/11 [==============================] - 0s 45ms/step - loss: 2.1548e-05 - accuracy: 1.0000 - val_loss: 0.3242 - val_accuracy: 0.9456\n",
            "Epoch 127/200\n",
            "11/11 [==============================] - 0s 45ms/step - loss: 7.6417e-05 - accuracy: 1.0000 - val_loss: 0.3929 - val_accuracy: 0.9252\n",
            "Epoch 128/200\n",
            "11/11 [==============================] - 0s 45ms/step - loss: 1.7227e-05 - accuracy: 1.0000 - val_loss: 0.3809 - val_accuracy: 0.9252\n",
            "Epoch 129/200\n",
            "11/11 [==============================] - 1s 46ms/step - loss: 1.0216e-05 - accuracy: 1.0000 - val_loss: 0.3395 - val_accuracy: 0.9320\n",
            "Epoch 130/200\n",
            "11/11 [==============================] - 0s 44ms/step - loss: 1.9925e-05 - accuracy: 1.0000 - val_loss: 0.3031 - val_accuracy: 0.9456\n",
            "Epoch 131/200\n",
            "11/11 [==============================] - 0s 45ms/step - loss: 1.8088e-05 - accuracy: 1.0000 - val_loss: 0.2819 - val_accuracy: 0.9524\n",
            "Epoch 132/200\n",
            "11/11 [==============================] - 0s 43ms/step - loss: 3.0155e-05 - accuracy: 1.0000 - val_loss: 0.3017 - val_accuracy: 0.9320\n",
            "Epoch 133/200\n",
            "11/11 [==============================] - 0s 45ms/step - loss: 1.1703e-05 - accuracy: 1.0000 - val_loss: 0.3027 - val_accuracy: 0.9320\n",
            "Epoch 134/200\n",
            "11/11 [==============================] - 0s 45ms/step - loss: 1.0120e-05 - accuracy: 1.0000 - val_loss: 0.2798 - val_accuracy: 0.9456\n",
            "Epoch 135/200\n",
            "11/11 [==============================] - 0s 45ms/step - loss: 1.1674e-05 - accuracy: 1.0000 - val_loss: 0.2624 - val_accuracy: 0.9592\n",
            "Epoch 136/200\n",
            "11/11 [==============================] - 0s 44ms/step - loss: 3.3011e-05 - accuracy: 1.0000 - val_loss: 0.2470 - val_accuracy: 0.9660\n",
            "Epoch 137/200\n",
            "11/11 [==============================] - 0s 44ms/step - loss: 6.9578e-06 - accuracy: 1.0000 - val_loss: 0.2379 - val_accuracy: 0.9660\n",
            "Epoch 138/200\n",
            "11/11 [==============================] - 0s 43ms/step - loss: 7.6214e-06 - accuracy: 1.0000 - val_loss: 0.2334 - val_accuracy: 0.9660\n",
            "Epoch 139/200\n",
            "11/11 [==============================] - 0s 45ms/step - loss: 2.5891e-05 - accuracy: 1.0000 - val_loss: 0.2314 - val_accuracy: 0.9660\n",
            "Epoch 140/200\n",
            "11/11 [==============================] - 0s 44ms/step - loss: 2.2332e-05 - accuracy: 1.0000 - val_loss: 0.2290 - val_accuracy: 0.9660\n",
            "Epoch 141/200\n",
            "11/11 [==============================] - 0s 45ms/step - loss: 1.0360e-05 - accuracy: 1.0000 - val_loss: 0.2298 - val_accuracy: 0.9660\n",
            "Epoch 142/200\n",
            "11/11 [==============================] - 0s 44ms/step - loss: 5.0754e-05 - accuracy: 1.0000 - val_loss: 0.2109 - val_accuracy: 0.9660\n",
            "Epoch 143/200\n",
            "11/11 [==============================] - 0s 42ms/step - loss: 3.0313e-05 - accuracy: 1.0000 - val_loss: 0.1978 - val_accuracy: 0.9592\n",
            "Epoch 144/200\n",
            "11/11 [==============================] - 0s 45ms/step - loss: 1.6268e-05 - accuracy: 1.0000 - val_loss: 0.1970 - val_accuracy: 0.9592\n",
            "Epoch 145/200\n",
            "11/11 [==============================] - 0s 44ms/step - loss: 1.2199e-05 - accuracy: 1.0000 - val_loss: 0.1983 - val_accuracy: 0.9592\n",
            "Epoch 146/200\n",
            "11/11 [==============================] - 0s 44ms/step - loss: 1.7481e-05 - accuracy: 1.0000 - val_loss: 0.2001 - val_accuracy: 0.9660\n",
            "Epoch 147/200\n",
            "11/11 [==============================] - 0s 44ms/step - loss: 1.0275e-05 - accuracy: 1.0000 - val_loss: 0.2018 - val_accuracy: 0.9660\n",
            "Epoch 148/200\n",
            "11/11 [==============================] - 0s 45ms/step - loss: 7.7633e-06 - accuracy: 1.0000 - val_loss: 0.2052 - val_accuracy: 0.9660\n",
            "Epoch 149/200\n",
            "11/11 [==============================] - 0s 42ms/step - loss: 4.4836e-06 - accuracy: 1.0000 - val_loss: 0.2058 - val_accuracy: 0.9592\n",
            "Epoch 150/200\n",
            "11/11 [==============================] - 0s 44ms/step - loss: 1.1893e-05 - accuracy: 1.0000 - val_loss: 0.2070 - val_accuracy: 0.9592\n",
            "Epoch 151/200\n",
            "11/11 [==============================] - 0s 43ms/step - loss: 2.1957e-05 - accuracy: 1.0000 - val_loss: 0.2070 - val_accuracy: 0.9592\n",
            "Epoch 152/200\n",
            "11/11 [==============================] - 0s 45ms/step - loss: 1.6965e-05 - accuracy: 1.0000 - val_loss: 0.2106 - val_accuracy: 0.9660\n",
            "Epoch 153/200\n",
            "11/11 [==============================] - 0s 43ms/step - loss: 8.1005e-06 - accuracy: 1.0000 - val_loss: 0.2133 - val_accuracy: 0.9660\n",
            "Epoch 154/200\n",
            "11/11 [==============================] - 0s 45ms/step - loss: 3.8107e-05 - accuracy: 1.0000 - val_loss: 0.2055 - val_accuracy: 0.9728\n",
            "Epoch 155/200\n",
            "11/11 [==============================] - 0s 45ms/step - loss: 1.6125e-05 - accuracy: 1.0000 - val_loss: 0.1974 - val_accuracy: 0.9728\n",
            "Epoch 156/200\n",
            "11/11 [==============================] - 0s 44ms/step - loss: 1.5910e-05 - accuracy: 1.0000 - val_loss: 0.1886 - val_accuracy: 0.9660\n",
            "Epoch 157/200\n",
            "11/11 [==============================] - 0s 44ms/step - loss: 3.3802e-05 - accuracy: 1.0000 - val_loss: 0.1705 - val_accuracy: 0.9728\n",
            "Epoch 158/200\n",
            "11/11 [==============================] - 0s 45ms/step - loss: 1.5363e-05 - accuracy: 1.0000 - val_loss: 0.1663 - val_accuracy: 0.9728\n",
            "Epoch 159/200\n",
            "11/11 [==============================] - 0s 44ms/step - loss: 1.0688e-05 - accuracy: 1.0000 - val_loss: 0.1670 - val_accuracy: 0.9728\n",
            "Epoch 160/200\n",
            "11/11 [==============================] - 0s 46ms/step - loss: 9.3168e-06 - accuracy: 1.0000 - val_loss: 0.1698 - val_accuracy: 0.9728\n",
            "Epoch 161/200\n",
            "11/11 [==============================] - 0s 43ms/step - loss: 7.5478e-06 - accuracy: 1.0000 - val_loss: 0.1725 - val_accuracy: 0.9728\n",
            "Epoch 162/200\n",
            "11/11 [==============================] - 0s 44ms/step - loss: 1.2139e-05 - accuracy: 1.0000 - val_loss: 0.1698 - val_accuracy: 0.9728\n",
            "Epoch 163/200\n",
            "11/11 [==============================] - 0s 45ms/step - loss: 7.2157e-06 - accuracy: 1.0000 - val_loss: 0.1704 - val_accuracy: 0.9728\n",
            "Epoch 164/200\n",
            "11/11 [==============================] - 0s 43ms/step - loss: 9.6184e-06 - accuracy: 1.0000 - val_loss: 0.1696 - val_accuracy: 0.9728\n",
            "Epoch 165/200\n",
            "11/11 [==============================] - 0s 44ms/step - loss: 1.6553e-05 - accuracy: 1.0000 - val_loss: 0.1640 - val_accuracy: 0.9728\n",
            "Epoch 166/200\n",
            "11/11 [==============================] - 0s 44ms/step - loss: 1.3840e-05 - accuracy: 1.0000 - val_loss: 0.1640 - val_accuracy: 0.9728\n",
            "Epoch 167/200\n",
            "11/11 [==============================] - 0s 44ms/step - loss: 8.6046e-06 - accuracy: 1.0000 - val_loss: 0.1664 - val_accuracy: 0.9728\n",
            "Epoch 168/200\n",
            "11/11 [==============================] - 0s 45ms/step - loss: 3.9483e-05 - accuracy: 1.0000 - val_loss: 0.1666 - val_accuracy: 0.9728\n",
            "Epoch 169/200\n",
            "11/11 [==============================] - 0s 44ms/step - loss: 6.4068e-06 - accuracy: 1.0000 - val_loss: 0.1708 - val_accuracy: 0.9728\n",
            "Epoch 170/200\n",
            "11/11 [==============================] - 0s 44ms/step - loss: 4.0841e-06 - accuracy: 1.0000 - val_loss: 0.1742 - val_accuracy: 0.9728\n",
            "Epoch 171/200\n",
            "11/11 [==============================] - 0s 45ms/step - loss: 5.7927e-06 - accuracy: 1.0000 - val_loss: 0.1781 - val_accuracy: 0.9728\n",
            "Epoch 172/200\n",
            "11/11 [==============================] - 0s 44ms/step - loss: 7.6367e-06 - accuracy: 1.0000 - val_loss: 0.1851 - val_accuracy: 0.9728\n",
            "Epoch 173/200\n",
            "11/11 [==============================] - 0s 45ms/step - loss: 1.5618e-05 - accuracy: 1.0000 - val_loss: 0.1737 - val_accuracy: 0.9728\n",
            "Epoch 174/200\n",
            "11/11 [==============================] - 0s 44ms/step - loss: 6.1920e-06 - accuracy: 1.0000 - val_loss: 0.1714 - val_accuracy: 0.9728\n",
            "Epoch 175/200\n",
            "11/11 [==============================] - 0s 46ms/step - loss: 5.3230e-06 - accuracy: 1.0000 - val_loss: 0.1755 - val_accuracy: 0.9728\n",
            "Epoch 176/200\n",
            "11/11 [==============================] - 0s 45ms/step - loss: 1.1279e-05 - accuracy: 1.0000 - val_loss: 0.1851 - val_accuracy: 0.9728\n",
            "Epoch 177/200\n",
            "11/11 [==============================] - 0s 45ms/step - loss: 5.2329e-06 - accuracy: 1.0000 - val_loss: 0.1927 - val_accuracy: 0.9728\n",
            "Epoch 178/200\n",
            "11/11 [==============================] - 0s 44ms/step - loss: 6.2670e-06 - accuracy: 1.0000 - val_loss: 0.1956 - val_accuracy: 0.9728\n",
            "Epoch 179/200\n",
            "11/11 [==============================] - 0s 45ms/step - loss: 1.8156e-05 - accuracy: 1.0000 - val_loss: 0.1900 - val_accuracy: 0.9660\n",
            "Epoch 180/200\n",
            "11/11 [==============================] - 0s 44ms/step - loss: 1.0594e-05 - accuracy: 1.0000 - val_loss: 0.1904 - val_accuracy: 0.9660\n",
            "Epoch 181/200\n",
            "11/11 [==============================] - 0s 44ms/step - loss: 4.7791e-06 - accuracy: 1.0000 - val_loss: 0.1916 - val_accuracy: 0.9660\n",
            "Epoch 182/200\n",
            "11/11 [==============================] - 0s 43ms/step - loss: 1.7101e-05 - accuracy: 1.0000 - val_loss: 0.1953 - val_accuracy: 0.9660\n",
            "Epoch 183/200\n",
            "11/11 [==============================] - 1s 46ms/step - loss: 1.0089e-04 - accuracy: 1.0000 - val_loss: 0.1874 - val_accuracy: 0.9524\n",
            "Epoch 184/200\n",
            "11/11 [==============================] - 0s 44ms/step - loss: 7.6700e-06 - accuracy: 1.0000 - val_loss: 0.2211 - val_accuracy: 0.9388\n",
            "Epoch 185/200\n",
            "11/11 [==============================] - 0s 45ms/step - loss: 9.2101e-06 - accuracy: 1.0000 - val_loss: 0.2252 - val_accuracy: 0.9388\n",
            "Epoch 186/200\n",
            "11/11 [==============================] - 0s 44ms/step - loss: 7.9410e-06 - accuracy: 1.0000 - val_loss: 0.2037 - val_accuracy: 0.9456\n",
            "Epoch 187/200\n",
            "11/11 [==============================] - 0s 45ms/step - loss: 1.0812e-05 - accuracy: 1.0000 - val_loss: 0.1842 - val_accuracy: 0.9592\n",
            "Epoch 188/200\n",
            "11/11 [==============================] - 0s 45ms/step - loss: 6.3015e-06 - accuracy: 1.0000 - val_loss: 0.1800 - val_accuracy: 0.9524\n",
            "Epoch 189/200\n",
            "11/11 [==============================] - 0s 44ms/step - loss: 1.0668e-05 - accuracy: 1.0000 - val_loss: 0.1776 - val_accuracy: 0.9660\n",
            "Epoch 190/200\n",
            "11/11 [==============================] - 0s 43ms/step - loss: 1.8634e-05 - accuracy: 1.0000 - val_loss: 0.1864 - val_accuracy: 0.9660\n",
            "Epoch 191/200\n",
            "11/11 [==============================] - 0s 44ms/step - loss: 1.8514e-05 - accuracy: 1.0000 - val_loss: 0.1898 - val_accuracy: 0.9660\n",
            "Epoch 192/200\n",
            "11/11 [==============================] - 0s 45ms/step - loss: 4.5993e-06 - accuracy: 1.0000 - val_loss: 0.1895 - val_accuracy: 0.9660\n",
            "Epoch 193/200\n",
            "11/11 [==============================] - 0s 44ms/step - loss: 3.9739e-06 - accuracy: 1.0000 - val_loss: 0.1873 - val_accuracy: 0.9592\n",
            "Epoch 194/200\n",
            "11/11 [==============================] - 0s 45ms/step - loss: 4.9796e-06 - accuracy: 1.0000 - val_loss: 0.1872 - val_accuracy: 0.9592\n",
            "Epoch 195/200\n",
            "11/11 [==============================] - 0s 44ms/step - loss: 9.5952e-06 - accuracy: 1.0000 - val_loss: 0.1953 - val_accuracy: 0.9660\n",
            "Epoch 196/200\n",
            "11/11 [==============================] - 0s 45ms/step - loss: 5.4865e-06 - accuracy: 1.0000 - val_loss: 0.2033 - val_accuracy: 0.9660\n",
            "Epoch 197/200\n",
            "11/11 [==============================] - 0s 44ms/step - loss: 7.4266e-06 - accuracy: 1.0000 - val_loss: 0.2121 - val_accuracy: 0.9660\n",
            "Epoch 198/200\n",
            "11/11 [==============================] - 0s 46ms/step - loss: 7.2035e-06 - accuracy: 1.0000 - val_loss: 0.2146 - val_accuracy: 0.9660\n",
            "Epoch 199/200\n",
            "11/11 [==============================] - 0s 44ms/step - loss: 1.4173e-04 - accuracy: 1.0000 - val_loss: 0.2142 - val_accuracy: 0.9388\n",
            "Epoch 200/200\n",
            "11/11 [==============================] - 0s 45ms/step - loss: 7.9699e-06 - accuracy: 1.0000 - val_loss: 0.2472 - val_accuracy: 0.9320\n"
          ],
          "name": "stdout"
        }
      ]
    },
    {
      "cell_type": "code",
      "metadata": {
        "id": "cSTlOSUBWMpj"
      },
      "source": [
        "Y_test = yback(Y_test)"
      ],
      "execution_count": 18,
      "outputs": []
    },
    {
      "cell_type": "code",
      "metadata": {
        "colab": {
          "base_uri": "https://localhost:8080/"
        },
        "id": "qpf0XlSARX78",
        "outputId": "ddd9aeaa-ec80-4e32-f3fb-1ff92b00b33e"
      },
      "source": [
        "pred_test= model.predict_classes(X_test)\n",
        "\n",
        "data = {'y_true': Y_test,'y_predict': pred_test}  # este dado esta no formato de dicionario\n",
        "\n",
        "df = pd.DataFrame(data, columns=['y_true','y_predict'])\n",
        "\n",
        "\n",
        "confusion_matrix = pd.crosstab(df['y_true'], df['y_predict'], rownames=['Actual'], colnames=['Predict'])\n",
        "print(confusion_matrix)\n",
        "\n",
        "y_true = df['y_true']\n",
        "y_pred = df['y_predict']\n",
        "\n",
        "  \n",
        "METRICS=sklearn.metrics.classification_report(y_true, y_pred)"
      ],
      "execution_count": 19,
      "outputs": [
        {
          "output_type": "stream",
          "text": [
            "/usr/local/lib/python3.7/dist-packages/keras/engine/sequential.py:450: UserWarning: `model.predict_classes()` is deprecated and will be removed after 2021-01-01. Please use instead:* `np.argmax(model.predict(x), axis=-1)`,   if your model does multi-class classification   (e.g. if it uses a `softmax` last-layer activation).* `(model.predict(x) > 0.5).astype(\"int32\")`,   if your model does binary classification   (e.g. if it uses a `sigmoid` last-layer activation).\n",
            "  warnings.warn('`model.predict_classes()` is deprecated and '\n"
          ],
          "name": "stderr"
        },
        {
          "output_type": "stream",
          "text": [
            "Predict   0   1\n",
            "Actual         \n",
            "0        63   9\n",
            "1         1  74\n"
          ],
          "name": "stdout"
        }
      ]
    },
    {
      "cell_type": "code",
      "metadata": {
        "colab": {
          "base_uri": "https://localhost:8080/"
        },
        "id": "_iFNNrlWV9tH",
        "outputId": "080f7642-6a00-4d45-8af4-ff3e592c0e4b"
      },
      "source": [
        "pred_test"
      ],
      "execution_count": 20,
      "outputs": [
        {
          "output_type": "execute_result",
          "data": {
            "text/plain": [
              "array([1, 1, 1, 1, 1, 1, 0, 0, 1, 0, 0, 0, 1, 0, 1, 0, 1, 1, 1, 0, 0, 0,\n",
              "       1, 0, 1, 0, 0, 1, 1, 1, 0, 0, 1, 1, 0, 0, 0, 0, 0, 0, 1, 1, 1, 0,\n",
              "       0, 0, 0, 1, 1, 1, 1, 0, 1, 1, 0, 0, 1, 1, 1, 0, 1, 1, 0, 1, 1, 1,\n",
              "       0, 1, 1, 1, 1, 0, 1, 1, 0, 0, 1, 1, 0, 0, 1, 1, 1, 1, 0, 1, 0, 0,\n",
              "       1, 0, 0, 1, 0, 1, 1, 1, 1, 1, 1, 0, 1, 1, 1, 1, 1, 0, 1, 1, 0, 0,\n",
              "       0, 1, 1, 1, 1, 1, 1, 1, 0, 1, 0, 0, 0, 1, 1, 0, 0, 0, 0, 0, 1, 1,\n",
              "       0, 1, 0, 0, 1, 1, 0, 0, 1, 1, 1, 0, 0, 0, 1])"
            ]
          },
          "metadata": {
            "tags": []
          },
          "execution_count": 20
        }
      ]
    },
    {
      "cell_type": "code",
      "metadata": {
        "id": "QISvYcJBgWbE",
        "colab": {
          "base_uri": "https://localhost:8080/"
        },
        "outputId": "54496c13-b063-4f5f-ec17-8663efb800d4"
      },
      "source": [
        "cont = 0; num =25\n",
        "img_graos = []\n",
        "Width_new = []\n",
        "img=ww[2] \n",
        "while( cont < num):\n",
        "  df=Segmenta(img)\n",
        "  df_ann =df.copy()\n",
        "  Width = df['Width']\n",
        "  del df_ann['Width']\n",
        "  result = np.array(df_ann)\n",
        "  result = result.reshape(-1, Img_Size, Img_Size, 1) / 255.0\n",
        "  prediction = model.predict_classes(result)\n",
        "  loc_grao =[];k=0\n",
        "  for i in prediction:\n",
        "    if( i == 0):\n",
        "      img_graos.append(df.iloc[k,:])\n",
        "      Width_new.append(Width.iloc[k])\n",
        "      cont = cont + 1\n",
        "    k = k +1\n",
        "img_graos = pd.DataFrame(img_graos)\n",
        "print(img_graos)"
      ],
      "execution_count": 21,
      "outputs": [
        {
          "output_type": "stream",
          "text": [
            "/usr/local/lib/python3.7/dist-packages/keras/engine/sequential.py:450: UserWarning: `model.predict_classes()` is deprecated and will be removed after 2021-01-01. Please use instead:* `np.argmax(model.predict(x), axis=-1)`,   if your model does multi-class classification   (e.g. if it uses a `softmax` last-layer activation).* `(model.predict(x) > 0.5).astype(\"int32\")`,   if your model does binary classification   (e.g. if it uses a `sigmoid` last-layer activation).\n",
            "  warnings.warn('`model.predict_classes()` is deprecated and '\n"
          ],
          "name": "stderr"
        },
        {
          "output_type": "stream",
          "text": [
            "    Width           0           1  ...         781         782         783\n",
            "10  158.0  128.989578  131.448486  ...    8.901939    9.051434    8.723922\n",
            "38  131.0  106.634865  103.575256  ...   99.909088   95.244560   97.210655\n",
            "40  152.0  132.272156  132.659973  ...  138.590714  136.557480  134.150269\n",
            "20  193.0   91.196732   78.282387  ...  135.197906  136.308685  134.305130\n",
            "30  200.0  192.340805  185.291199  ...  192.177216  159.301605   79.318802\n",
            "37  149.0  196.878403  190.311905  ...  136.480331  143.015671  155.610245\n",
            "9   185.0    0.000000    0.000000  ...   67.418320   67.895279   66.476662\n",
            "18  182.0  114.065086  127.307701  ...  162.852081  164.343216  151.822495\n",
            "21  133.0  146.127426  150.792236  ...  172.980591  180.307480  182.119110\n",
            "25  111.0   65.420174   57.529095  ...    0.986527    0.059086    0.000000\n",
            "33  179.0   69.865677   72.127960  ...   56.163326   55.165447   55.618992\n",
            "6   142.0  157.778625  159.300537  ...  151.499710  154.163071  160.205124\n",
            "23  142.0  107.077171  105.099396  ...  112.797264  116.749252  113.155930\n",
            "34  114.0  134.314560  133.538925  ...    0.409664    0.508772    0.008926\n",
            "35  107.0  143.985077  144.750031  ...  134.676392  135.660309  137.012756\n",
            "38  105.0  123.600021  125.475571  ...  159.746689  163.737793  167.213348\n",
            "49  107.0  123.969604  129.939209  ...   86.848984   86.747833   87.283432\n",
            "4   188.0   81.077858   69.880486  ...  167.714355  179.566315  191.813477\n",
            "10  181.0   67.999054   70.099533  ...  150.463577  145.775345  140.237671\n",
            "18  109.0    0.000000    0.000000  ...  137.316559  130.330353  127.482109\n",
            "16  194.0  150.764801  150.456360  ...   79.753845   71.224251   99.028687\n",
            "26  151.0    2.467436   12.072104  ...  151.130997  152.368408  148.779709\n",
            "29  137.0  161.677322  174.828705  ...  140.602814  135.126373  138.901535\n",
            "36  182.0   61.739643   63.136093  ...    7.674557    7.591717    7.923078\n",
            "42  156.0  130.069702  132.973709  ...   80.534515   81.973045   82.523346\n",
            "44  144.0  103.260033  104.599533  ...  221.478394  106.811722  128.529327\n",
            "\n",
            "[26 rows x 785 columns]\n"
          ],
          "name": "stdout"
        }
      ]
    },
    {
      "cell_type": "code",
      "metadata": {
        "id": "6LkA4vHp-f6_"
      },
      "source": [
        "Width=np.array(Width_new)"
      ],
      "execution_count": 22,
      "outputs": []
    },
    {
      "cell_type": "code",
      "metadata": {
        "colab": {
          "base_uri": "https://localhost:8080/"
        },
        "id": "MjRbWgmX_LFH",
        "outputId": "d5c8fc64-635f-4c24-bf1c-ca8430987608"
      },
      "source": [
        "!git clone https://github.com/ucfilho/marquesgabi_paper_fev_2021\n",
        "%cd marquesgabi_paper_fev_2021\n",
        "\n",
        "from Get_PSDArea_New import PSDArea\n",
        "from histogram_fev_2021 import PSD\n",
        "from GetBetterSegm import GetBetter"
      ],
      "execution_count": 23,
      "outputs": [
        {
          "output_type": "stream",
          "text": [
            "fatal: destination path 'marquesgabi_paper_fev_2021' already exists and is not an empty directory.\n",
            "/content/marquesgabi_fev_2020/Doutorado/MarquesGabi_Routines/MarquesGabi_Routines/marquesgabi_paper_fev_2021\n"
          ],
          "name": "stdout"
        }
      ]
    },
    {
      "cell_type": "code",
      "metadata": {
        "colab": {
          "base_uri": "https://localhost:8080/"
        },
        "id": "WAG_I6FwCvFr",
        "outputId": "9a498018-7d04-4612-86c2-a0173b2c0cf7"
      },
      "source": [
        "#!git clone https://github.com/ucfilho/marquesgabi_out_2020\n",
        "!git clone https://github.com/marquesgabi/Doutorado\n",
        "\n",
        "%cd Doutorado\n",
        "\n",
        "PSD_imageJ = 'Amostra7.csv' \n",
        "PSD_new = pd.read_csv(PSD_imageJ,sep=';')\n",
        "#encoding='utf8'\n",
        "print(PSD_new.head(3))"
      ],
      "execution_count": 24,
      "outputs": [
        {
          "output_type": "stream",
          "text": [
            "fatal: destination path 'Doutorado' already exists and is not an empty directory.\n",
            "/content/marquesgabi_fev_2020/Doutorado/MarquesGabi_Routines/MarquesGabi_Routines/marquesgabi_paper_fev_2021/Doutorado\n",
            "   1  1.387\n",
            "0  2  1.626\n",
            "1  3  1.336\n",
            "2  4  0.640\n"
          ],
          "name": "stdout"
        }
      ]
    },
    {
      "cell_type": "code",
      "metadata": {
        "id": "7tEPjIBnv_xM",
        "colab": {
          "base_uri": "https://localhost:8080/"
        },
        "outputId": "99905171-f131-405e-d463-19b97953fe75"
      },
      "source": [
        "PSD_new.shape"
      ],
      "execution_count": 25,
      "outputs": [
        {
          "output_type": "execute_result",
          "data": {
            "text/plain": [
              "(101, 2)"
            ]
          },
          "metadata": {
            "tags": []
          },
          "execution_count": 25
        }
      ]
    },
    {
      "cell_type": "code",
      "metadata": {
        "id": "t_1WIM8w7poO"
      },
      "source": [
        "Area_All, Diameter_All=PSDArea(img_graos) "
      ],
      "execution_count": 26,
      "outputs": []
    },
    {
      "cell_type": "code",
      "metadata": {
        "id": "nfagXc-Mv3oa"
      },
      "source": [
        ""
      ],
      "execution_count": 26,
      "outputs": []
    },
    {
      "cell_type": "code",
      "metadata": {
        "id": "PekBHQOT_6CP",
        "colab": {
          "base_uri": "https://localhost:8080/",
          "height": 256
        },
        "outputId": "c67d128c-4c6e-4018-99ea-e3d21b924edf"
      },
      "source": [
        "img_graos.head()"
      ],
      "execution_count": 27,
      "outputs": [
        {
          "output_type": "execute_result",
          "data": {
            "text/html": [
              "<div>\n",
              "<style scoped>\n",
              "    .dataframe tbody tr th:only-of-type {\n",
              "        vertical-align: middle;\n",
              "    }\n",
              "\n",
              "    .dataframe tbody tr th {\n",
              "        vertical-align: top;\n",
              "    }\n",
              "\n",
              "    .dataframe thead th {\n",
              "        text-align: right;\n",
              "    }\n",
              "</style>\n",
              "<table border=\"1\" class=\"dataframe\">\n",
              "  <thead>\n",
              "    <tr style=\"text-align: right;\">\n",
              "      <th></th>\n",
              "      <th>Width</th>\n",
              "      <th>0</th>\n",
              "      <th>1</th>\n",
              "      <th>2</th>\n",
              "      <th>3</th>\n",
              "      <th>4</th>\n",
              "      <th>5</th>\n",
              "      <th>6</th>\n",
              "      <th>7</th>\n",
              "      <th>8</th>\n",
              "      <th>9</th>\n",
              "      <th>10</th>\n",
              "      <th>11</th>\n",
              "      <th>12</th>\n",
              "      <th>13</th>\n",
              "      <th>14</th>\n",
              "      <th>15</th>\n",
              "      <th>16</th>\n",
              "      <th>17</th>\n",
              "      <th>18</th>\n",
              "      <th>19</th>\n",
              "      <th>20</th>\n",
              "      <th>21</th>\n",
              "      <th>22</th>\n",
              "      <th>23</th>\n",
              "      <th>24</th>\n",
              "      <th>25</th>\n",
              "      <th>26</th>\n",
              "      <th>27</th>\n",
              "      <th>28</th>\n",
              "      <th>29</th>\n",
              "      <th>30</th>\n",
              "      <th>31</th>\n",
              "      <th>32</th>\n",
              "      <th>33</th>\n",
              "      <th>34</th>\n",
              "      <th>35</th>\n",
              "      <th>36</th>\n",
              "      <th>37</th>\n",
              "      <th>38</th>\n",
              "      <th>...</th>\n",
              "      <th>744</th>\n",
              "      <th>745</th>\n",
              "      <th>746</th>\n",
              "      <th>747</th>\n",
              "      <th>748</th>\n",
              "      <th>749</th>\n",
              "      <th>750</th>\n",
              "      <th>751</th>\n",
              "      <th>752</th>\n",
              "      <th>753</th>\n",
              "      <th>754</th>\n",
              "      <th>755</th>\n",
              "      <th>756</th>\n",
              "      <th>757</th>\n",
              "      <th>758</th>\n",
              "      <th>759</th>\n",
              "      <th>760</th>\n",
              "      <th>761</th>\n",
              "      <th>762</th>\n",
              "      <th>763</th>\n",
              "      <th>764</th>\n",
              "      <th>765</th>\n",
              "      <th>766</th>\n",
              "      <th>767</th>\n",
              "      <th>768</th>\n",
              "      <th>769</th>\n",
              "      <th>770</th>\n",
              "      <th>771</th>\n",
              "      <th>772</th>\n",
              "      <th>773</th>\n",
              "      <th>774</th>\n",
              "      <th>775</th>\n",
              "      <th>776</th>\n",
              "      <th>777</th>\n",
              "      <th>778</th>\n",
              "      <th>779</th>\n",
              "      <th>780</th>\n",
              "      <th>781</th>\n",
              "      <th>782</th>\n",
              "      <th>783</th>\n",
              "    </tr>\n",
              "  </thead>\n",
              "  <tbody>\n",
              "    <tr>\n",
              "      <th>10</th>\n",
              "      <td>158.0</td>\n",
              "      <td>128.989578</td>\n",
              "      <td>131.448486</td>\n",
              "      <td>130.443665</td>\n",
              "      <td>127.094223</td>\n",
              "      <td>124.245148</td>\n",
              "      <td>122.850189</td>\n",
              "      <td>114.886230</td>\n",
              "      <td>103.698929</td>\n",
              "      <td>98.383911</td>\n",
              "      <td>102.991196</td>\n",
              "      <td>106.417229</td>\n",
              "      <td>105.737869</td>\n",
              "      <td>107.566742</td>\n",
              "      <td>110.311798</td>\n",
              "      <td>111.513214</td>\n",
              "      <td>112.997910</td>\n",
              "      <td>111.165833</td>\n",
              "      <td>115.293060</td>\n",
              "      <td>123.475563</td>\n",
              "      <td>135.081726</td>\n",
              "      <td>144.412109</td>\n",
              "      <td>144.161514</td>\n",
              "      <td>135.678101</td>\n",
              "      <td>133.715591</td>\n",
              "      <td>131.653427</td>\n",
              "      <td>122.894882</td>\n",
              "      <td>121.965393</td>\n",
              "      <td>133.202042</td>\n",
              "      <td>128.965851</td>\n",
              "      <td>133.271271</td>\n",
              "      <td>134.785278</td>\n",
              "      <td>132.786896</td>\n",
              "      <td>127.682747</td>\n",
              "      <td>125.455215</td>\n",
              "      <td>120.324142</td>\n",
              "      <td>109.799553</td>\n",
              "      <td>100.045189</td>\n",
              "      <td>101.665123</td>\n",
              "      <td>106.729042</td>\n",
              "      <td>...</td>\n",
              "      <td>0.836244</td>\n",
              "      <td>0.542381</td>\n",
              "      <td>0.414677</td>\n",
              "      <td>0.388079</td>\n",
              "      <td>0.181702</td>\n",
              "      <td>0.719436</td>\n",
              "      <td>0.722801</td>\n",
              "      <td>0.386316</td>\n",
              "      <td>0.417722</td>\n",
              "      <td>0.185387</td>\n",
              "      <td>0.105432</td>\n",
              "      <td>0.154783</td>\n",
              "      <td>8.519307</td>\n",
              "      <td>8.889441</td>\n",
              "      <td>8.623939</td>\n",
              "      <td>8.605352</td>\n",
              "      <td>8.577632</td>\n",
              "      <td>9.008331</td>\n",
              "      <td>8.353309</td>\n",
              "      <td>8.779522</td>\n",
              "      <td>8.786252</td>\n",
              "      <td>8.203333</td>\n",
              "      <td>8.471880</td>\n",
              "      <td>9.537735</td>\n",
              "      <td>9.268066</td>\n",
              "      <td>8.066656</td>\n",
              "      <td>8.701490</td>\n",
              "      <td>8.828393</td>\n",
              "      <td>8.465470</td>\n",
              "      <td>8.593334</td>\n",
              "      <td>8.645089</td>\n",
              "      <td>8.385194</td>\n",
              "      <td>8.773273</td>\n",
              "      <td>8.823265</td>\n",
              "      <td>8.223202</td>\n",
              "      <td>8.591091</td>\n",
              "      <td>9.194520</td>\n",
              "      <td>8.901939</td>\n",
              "      <td>9.051434</td>\n",
              "      <td>8.723922</td>\n",
              "    </tr>\n",
              "    <tr>\n",
              "      <th>38</th>\n",
              "      <td>131.0</td>\n",
              "      <td>106.634865</td>\n",
              "      <td>103.575256</td>\n",
              "      <td>106.224167</td>\n",
              "      <td>110.959442</td>\n",
              "      <td>112.846626</td>\n",
              "      <td>116.636612</td>\n",
              "      <td>122.536980</td>\n",
              "      <td>125.963104</td>\n",
              "      <td>128.958099</td>\n",
              "      <td>130.977203</td>\n",
              "      <td>129.736664</td>\n",
              "      <td>126.969925</td>\n",
              "      <td>125.200386</td>\n",
              "      <td>127.885788</td>\n",
              "      <td>137.666397</td>\n",
              "      <td>151.671753</td>\n",
              "      <td>169.686279</td>\n",
              "      <td>182.172455</td>\n",
              "      <td>187.128540</td>\n",
              "      <td>150.493744</td>\n",
              "      <td>86.130821</td>\n",
              "      <td>86.615402</td>\n",
              "      <td>87.804901</td>\n",
              "      <td>84.931534</td>\n",
              "      <td>82.643959</td>\n",
              "      <td>80.181511</td>\n",
              "      <td>78.653519</td>\n",
              "      <td>81.642494</td>\n",
              "      <td>110.851761</td>\n",
              "      <td>107.435989</td>\n",
              "      <td>108.543137</td>\n",
              "      <td>111.478760</td>\n",
              "      <td>113.961945</td>\n",
              "      <td>116.384636</td>\n",
              "      <td>123.609047</td>\n",
              "      <td>127.431671</td>\n",
              "      <td>130.773254</td>\n",
              "      <td>130.910889</td>\n",
              "      <td>127.449150</td>\n",
              "      <td>...</td>\n",
              "      <td>145.221832</td>\n",
              "      <td>150.517456</td>\n",
              "      <td>163.668716</td>\n",
              "      <td>176.759567</td>\n",
              "      <td>181.058487</td>\n",
              "      <td>178.197815</td>\n",
              "      <td>164.309250</td>\n",
              "      <td>146.682755</td>\n",
              "      <td>129.639648</td>\n",
              "      <td>105.409592</td>\n",
              "      <td>98.461632</td>\n",
              "      <td>100.314194</td>\n",
              "      <td>80.294037</td>\n",
              "      <td>81.401199</td>\n",
              "      <td>80.732590</td>\n",
              "      <td>83.657822</td>\n",
              "      <td>105.150345</td>\n",
              "      <td>115.411621</td>\n",
              "      <td>118.201859</td>\n",
              "      <td>118.627930</td>\n",
              "      <td>117.218628</td>\n",
              "      <td>118.673676</td>\n",
              "      <td>122.811432</td>\n",
              "      <td>129.187622</td>\n",
              "      <td>133.896042</td>\n",
              "      <td>139.868179</td>\n",
              "      <td>139.824066</td>\n",
              "      <td>140.736969</td>\n",
              "      <td>140.903671</td>\n",
              "      <td>147.607361</td>\n",
              "      <td>161.680374</td>\n",
              "      <td>171.726166</td>\n",
              "      <td>172.134552</td>\n",
              "      <td>173.897842</td>\n",
              "      <td>163.481430</td>\n",
              "      <td>143.565338</td>\n",
              "      <td>121.404106</td>\n",
              "      <td>99.909088</td>\n",
              "      <td>95.244560</td>\n",
              "      <td>97.210655</td>\n",
              "    </tr>\n",
              "    <tr>\n",
              "      <th>40</th>\n",
              "      <td>152.0</td>\n",
              "      <td>132.272156</td>\n",
              "      <td>132.659973</td>\n",
              "      <td>133.296387</td>\n",
              "      <td>135.825470</td>\n",
              "      <td>138.738922</td>\n",
              "      <td>142.617035</td>\n",
              "      <td>143.279785</td>\n",
              "      <td>145.506927</td>\n",
              "      <td>148.530457</td>\n",
              "      <td>152.412735</td>\n",
              "      <td>156.337952</td>\n",
              "      <td>156.186279</td>\n",
              "      <td>157.168274</td>\n",
              "      <td>159.641968</td>\n",
              "      <td>162.398193</td>\n",
              "      <td>162.567856</td>\n",
              "      <td>155.589325</td>\n",
              "      <td>108.943207</td>\n",
              "      <td>88.096954</td>\n",
              "      <td>98.266617</td>\n",
              "      <td>108.033241</td>\n",
              "      <td>119.855255</td>\n",
              "      <td>133.376724</td>\n",
              "      <td>139.966751</td>\n",
              "      <td>142.603180</td>\n",
              "      <td>146.698746</td>\n",
              "      <td>148.049179</td>\n",
              "      <td>144.238922</td>\n",
              "      <td>136.824783</td>\n",
              "      <td>134.994461</td>\n",
              "      <td>135.271469</td>\n",
              "      <td>136.715363</td>\n",
              "      <td>138.091400</td>\n",
              "      <td>139.727844</td>\n",
              "      <td>141.761780</td>\n",
              "      <td>143.700150</td>\n",
              "      <td>148.776306</td>\n",
              "      <td>152.584488</td>\n",
              "      <td>155.729919</td>\n",
              "      <td>...</td>\n",
              "      <td>119.720215</td>\n",
              "      <td>120.023537</td>\n",
              "      <td>118.672432</td>\n",
              "      <td>111.286697</td>\n",
              "      <td>89.860115</td>\n",
              "      <td>87.242386</td>\n",
              "      <td>94.846954</td>\n",
              "      <td>122.477142</td>\n",
              "      <td>132.420364</td>\n",
              "      <td>131.847656</td>\n",
              "      <td>131.986832</td>\n",
              "      <td>130.729218</td>\n",
              "      <td>226.252060</td>\n",
              "      <td>211.603882</td>\n",
              "      <td>150.186981</td>\n",
              "      <td>101.462601</td>\n",
              "      <td>88.484764</td>\n",
              "      <td>82.667580</td>\n",
              "      <td>80.090714</td>\n",
              "      <td>88.626038</td>\n",
              "      <td>101.951515</td>\n",
              "      <td>105.357338</td>\n",
              "      <td>110.745834</td>\n",
              "      <td>114.822716</td>\n",
              "      <td>117.742378</td>\n",
              "      <td>120.307480</td>\n",
              "      <td>120.917603</td>\n",
              "      <td>120.934898</td>\n",
              "      <td>120.252075</td>\n",
              "      <td>116.380890</td>\n",
              "      <td>109.279778</td>\n",
              "      <td>89.695290</td>\n",
              "      <td>82.286705</td>\n",
              "      <td>95.339333</td>\n",
              "      <td>102.235458</td>\n",
              "      <td>137.038788</td>\n",
              "      <td>143.706375</td>\n",
              "      <td>138.590714</td>\n",
              "      <td>136.557480</td>\n",
              "      <td>134.150269</td>\n",
              "    </tr>\n",
              "    <tr>\n",
              "      <th>20</th>\n",
              "      <td>193.0</td>\n",
              "      <td>91.196732</td>\n",
              "      <td>78.282387</td>\n",
              "      <td>76.368469</td>\n",
              "      <td>79.964966</td>\n",
              "      <td>86.573784</td>\n",
              "      <td>96.914093</td>\n",
              "      <td>106.002930</td>\n",
              "      <td>110.650833</td>\n",
              "      <td>118.201561</td>\n",
              "      <td>122.684311</td>\n",
              "      <td>110.539261</td>\n",
              "      <td>74.572441</td>\n",
              "      <td>48.095543</td>\n",
              "      <td>41.511261</td>\n",
              "      <td>53.982174</td>\n",
              "      <td>92.971352</td>\n",
              "      <td>101.444260</td>\n",
              "      <td>100.619110</td>\n",
              "      <td>91.945038</td>\n",
              "      <td>85.618858</td>\n",
              "      <td>80.502747</td>\n",
              "      <td>80.673279</td>\n",
              "      <td>81.767860</td>\n",
              "      <td>87.237206</td>\n",
              "      <td>90.089981</td>\n",
              "      <td>78.096809</td>\n",
              "      <td>4.298075</td>\n",
              "      <td>2.806062</td>\n",
              "      <td>90.218346</td>\n",
              "      <td>70.427368</td>\n",
              "      <td>72.166695</td>\n",
              "      <td>72.475151</td>\n",
              "      <td>74.050446</td>\n",
              "      <td>79.485809</td>\n",
              "      <td>89.384491</td>\n",
              "      <td>101.359200</td>\n",
              "      <td>112.686829</td>\n",
              "      <td>125.522873</td>\n",
              "      <td>129.860168</td>\n",
              "      <td>...</td>\n",
              "      <td>132.209488</td>\n",
              "      <td>129.836639</td>\n",
              "      <td>129.175659</td>\n",
              "      <td>129.035095</td>\n",
              "      <td>131.193771</td>\n",
              "      <td>132.150696</td>\n",
              "      <td>132.972626</td>\n",
              "      <td>135.401138</td>\n",
              "      <td>138.310043</td>\n",
              "      <td>139.971207</td>\n",
              "      <td>142.836914</td>\n",
              "      <td>144.645874</td>\n",
              "      <td>70.601601</td>\n",
              "      <td>97.198776</td>\n",
              "      <td>127.429916</td>\n",
              "      <td>134.227249</td>\n",
              "      <td>131.589813</td>\n",
              "      <td>128.138443</td>\n",
              "      <td>130.446182</td>\n",
              "      <td>131.108047</td>\n",
              "      <td>174.335342</td>\n",
              "      <td>209.238724</td>\n",
              "      <td>216.485657</td>\n",
              "      <td>213.661682</td>\n",
              "      <td>214.044571</td>\n",
              "      <td>214.739136</td>\n",
              "      <td>198.953308</td>\n",
              "      <td>147.664627</td>\n",
              "      <td>134.152893</td>\n",
              "      <td>134.412918</td>\n",
              "      <td>131.017044</td>\n",
              "      <td>127.742119</td>\n",
              "      <td>126.798111</td>\n",
              "      <td>127.064857</td>\n",
              "      <td>127.986443</td>\n",
              "      <td>131.318390</td>\n",
              "      <td>135.432556</td>\n",
              "      <td>135.197906</td>\n",
              "      <td>136.308685</td>\n",
              "      <td>134.305130</td>\n",
              "    </tr>\n",
              "    <tr>\n",
              "      <th>30</th>\n",
              "      <td>200.0</td>\n",
              "      <td>192.340805</td>\n",
              "      <td>185.291199</td>\n",
              "      <td>95.894798</td>\n",
              "      <td>92.159592</td>\n",
              "      <td>89.144791</td>\n",
              "      <td>88.569992</td>\n",
              "      <td>92.821602</td>\n",
              "      <td>101.310005</td>\n",
              "      <td>130.291199</td>\n",
              "      <td>143.092392</td>\n",
              "      <td>147.456802</td>\n",
              "      <td>150.797592</td>\n",
              "      <td>149.234802</td>\n",
              "      <td>148.680801</td>\n",
              "      <td>147.043991</td>\n",
              "      <td>135.379196</td>\n",
              "      <td>130.494797</td>\n",
              "      <td>130.778793</td>\n",
              "      <td>132.982407</td>\n",
              "      <td>145.520401</td>\n",
              "      <td>155.339203</td>\n",
              "      <td>164.323212</td>\n",
              "      <td>178.213593</td>\n",
              "      <td>188.023209</td>\n",
              "      <td>158.377197</td>\n",
              "      <td>145.991623</td>\n",
              "      <td>142.035187</td>\n",
              "      <td>139.082397</td>\n",
              "      <td>186.877213</td>\n",
              "      <td>187.949997</td>\n",
              "      <td>141.684799</td>\n",
              "      <td>86.814400</td>\n",
              "      <td>86.830803</td>\n",
              "      <td>84.752007</td>\n",
              "      <td>85.617607</td>\n",
              "      <td>96.743195</td>\n",
              "      <td>140.740402</td>\n",
              "      <td>152.443192</td>\n",
              "      <td>154.727600</td>\n",
              "      <td>...</td>\n",
              "      <td>121.249191</td>\n",
              "      <td>126.899597</td>\n",
              "      <td>131.618790</td>\n",
              "      <td>129.385590</td>\n",
              "      <td>127.821587</td>\n",
              "      <td>133.637604</td>\n",
              "      <td>150.227997</td>\n",
              "      <td>176.303604</td>\n",
              "      <td>179.490402</td>\n",
              "      <td>123.709595</td>\n",
              "      <td>72.455994</td>\n",
              "      <td>75.513199</td>\n",
              "      <td>26.470001</td>\n",
              "      <td>26.742002</td>\n",
              "      <td>27.363602</td>\n",
              "      <td>22.782402</td>\n",
              "      <td>23.697199</td>\n",
              "      <td>37.366798</td>\n",
              "      <td>96.213211</td>\n",
              "      <td>113.697601</td>\n",
              "      <td>114.887589</td>\n",
              "      <td>116.493591</td>\n",
              "      <td>112.258003</td>\n",
              "      <td>112.596001</td>\n",
              "      <td>117.198792</td>\n",
              "      <td>112.204002</td>\n",
              "      <td>115.494400</td>\n",
              "      <td>112.886810</td>\n",
              "      <td>111.624802</td>\n",
              "      <td>112.752403</td>\n",
              "      <td>121.767609</td>\n",
              "      <td>128.218384</td>\n",
              "      <td>130.555191</td>\n",
              "      <td>128.770782</td>\n",
              "      <td>131.674393</td>\n",
              "      <td>151.768402</td>\n",
              "      <td>181.463989</td>\n",
              "      <td>192.177216</td>\n",
              "      <td>159.301605</td>\n",
              "      <td>79.318802</td>\n",
              "    </tr>\n",
              "  </tbody>\n",
              "</table>\n",
              "<p>5 rows × 785 columns</p>\n",
              "</div>"
            ],
            "text/plain": [
              "    Width           0           1  ...         781         782         783\n",
              "10  158.0  128.989578  131.448486  ...    8.901939    9.051434    8.723922\n",
              "38  131.0  106.634865  103.575256  ...   99.909088   95.244560   97.210655\n",
              "40  152.0  132.272156  132.659973  ...  138.590714  136.557480  134.150269\n",
              "20  193.0   91.196732   78.282387  ...  135.197906  136.308685  134.305130\n",
              "30  200.0  192.340805  185.291199  ...  192.177216  159.301605   79.318802\n",
              "\n",
              "[5 rows x 785 columns]"
            ]
          },
          "metadata": {
            "tags": []
          },
          "execution_count": 27
        }
      ]
    },
    {
      "cell_type": "code",
      "metadata": {
        "id": "4vmhG2LgCabC"
      },
      "source": [
        "lost_value = float(PSD_new.columns[1])\n",
        "\n",
        "Area = np.array(PSD_new.iloc[:,1])\n",
        "Area = np.concatenate( (Area, [lost_value] ) )\n",
        "diam_teste = []\n",
        "for A in Area:\n",
        "  diam_teste.append((4*A/np.pi)**0.5) \n",
        "\n",
        "Diam1 = [ (4*A/np.pi)**0.5 for A in Area]"
      ],
      "execution_count": 28,
      "outputs": []
    },
    {
      "cell_type": "code",
      "metadata": {
        "colab": {
          "base_uri": "https://localhost:8080/"
        },
        "id": "1aUb2_-jsY1Z",
        "outputId": "2f91b838-5318-4023-c204-f79f010bff54"
      },
      "source": [
        "PSD_new.iloc[:,1].values"
      ],
      "execution_count": 29,
      "outputs": [
        {
          "output_type": "execute_result",
          "data": {
            "text/plain": [
              "array([1.626, 1.336, 0.64 , 2.211, 1.12 , 0.974, 1.237, 1.29 , 3.755,\n",
              "       2.778, 1.256, 1.386, 1.302, 1.071, 1.497, 1.518, 1.244, 1.532,\n",
              "       1.325, 1.519, 1.895, 1.22 , 1.241, 1.301, 1.429, 0.667, 2.157,\n",
              "       1.052, 2.082, 1.517, 1.281, 0.784, 1.067, 2.764, 1.215, 0.943,\n",
              "       2.182, 1.486, 1.569, 2.667, 0.709, 1.006, 1.6  , 1.408, 3.16 ,\n",
              "       2.465, 2.284, 1.273, 1.256, 3.021, 1.701, 1.955, 5.248, 1.627,\n",
              "       1.367, 1.592, 2.718, 1.658, 1.128, 2.192, 1.508, 2.547, 1.945,\n",
              "       1.606, 3.482, 1.756, 1.457, 1.864, 1.821, 1.314, 1.715, 1.015,\n",
              "       1.345, 1.265, 1.844, 1.396, 1.785, 1.694, 1.413, 1.368, 2.21 ,\n",
              "       1.034, 1.367, 1.943, 1.008, 1.279, 1.579, 1.444, 1.879, 1.466,\n",
              "       2.154, 1.794, 3.149, 1.883, 1.692, 1.163, 1.297, 2.949, 1.09 ,\n",
              "       1.444, 1.524])"
            ]
          },
          "metadata": {
            "tags": []
          },
          "execution_count": 29
        }
      ]
    },
    {
      "cell_type": "code",
      "metadata": {
        "id": "9J705kDqsE8f",
        "colab": {
          "base_uri": "https://localhost:8080/"
        },
        "outputId": "124c12a3-fd5c-4903-e6b6-51327c1b91e3"
      },
      "source": [
        "X.shape"
      ],
      "execution_count": 30,
      "outputs": [
        {
          "output_type": "execute_result",
          "data": {
            "text/plain": [
              "(490, 784)"
            ]
          },
          "metadata": {
            "tags": []
          },
          "execution_count": 30
        }
      ]
    },
    {
      "cell_type": "code",
      "metadata": {
        "id": "mK1GBUHWiIr4",
        "colab": {
          "base_uri": "https://localhost:8080/",
          "height": 282
        },
        "outputId": "ed2f4465-2732-42cf-efbc-30d2874b95fc"
      },
      "source": [
        "Freq = [10.52631579, 24.21052632, 36.84210526, 14.73684211,  7.36842105, 0.]\n",
        "Freq2 = [12.90153, 28.11527, 27.66761, 20.21617, 10.34227, 0.]\n",
        "Freq3 = [22.22489, 30.15078, 25.10463, 19.30926, 2.810434, 0.]\n",
        "barWidth = 0.25\n",
        "\n",
        "br1 = range(len(Freq))\n",
        "# Set position of bar on X axis\n",
        "br2 = [x + barWidth for x in br1]\n",
        "br3 = [x + barWidth for x in br2]\n",
        "labels = [0.8, 1.0, 1.2, 1.4, 1.6, 1.8]\n",
        "\n",
        "xx=[]\n",
        "for a in labels:\n",
        "  xx.append(str(a))\n",
        "plt.bar(br1, Freq , color=\"green\", align=\"center\", width=0.3, tick_label= xx) \n",
        "plt.bar(br2, Freq2 , color=\"red\", align=\"center\", width=0.3, tick_label= xx)\n",
        "plt.bar(br3, Freq3 , color=\"blue\", align=\"center\", width=0.3, tick_label= xx)"
      ],
      "execution_count": 31,
      "outputs": [
        {
          "output_type": "execute_result",
          "data": {
            "text/plain": [
              "<BarContainer object of 6 artists>"
            ]
          },
          "metadata": {
            "tags": []
          },
          "execution_count": 31
        },
        {
          "output_type": "display_data",
          "data": {
            "image/png": "[encoded data removed]",
            "text/plain": [
              "<Figure size 432x288 with 1 Axes>"
            ]
          },
          "metadata": {
            "tags": [],
            "needs_background": "light"
          }
        }
      ]
    },
    {
      "cell_type": "code",
      "metadata": {
        "id": "Vfk_fNXGDK5_",
        "colab": {
          "base_uri": "https://localhost:8080/",
          "height": 282
        },
        "outputId": "4a771f97-5fee-4dd1-86f9-c448264692bd"
      },
      "source": [
        " wt1 = np.ones(len(Diam1)) / len(Diam1)*100\n",
        " wt2 = np.ones(len(Diameter_All)) / len(Diameter_All)*100\n",
        " X = pd.DataFrame([Diam1,Diameter_All])\n",
        " wts = pd.DataFrame([wt1,wt2])\n",
        "plt.hist(X,weights=wts)\n",
        "plt.legend(['Image J','CNN'])"
      ],
      "execution_count": 32,
      "outputs": [
        {
          "output_type": "execute_result",
          "data": {
            "text/plain": [
              "<matplotlib.legend.Legend at 0x7f08e91a2d50>"
            ]
          },
          "metadata": {
            "tags": []
          },
          "execution_count": 32
        },
        {
          "output_type": "display_data",
          "data": {
            "image/png": "[encoded data removed]",
            "text/plain": [
              "<Figure size 432x288 with 1 Axes>"
            ]
          },
          "metadata": {
            "tags": [],
            "needs_background": "light"
          }
        }
      ]
    },
    {
      "cell_type": "code",
      "metadata": {
        "id": "-nGDbBEeiUij",
        "colab": {
          "base_uri": "https://localhost:8080/",
          "height": 404
        },
        "outputId": "a9ea4185-41d1-4dde-fc73-e336fa7c6328"
      },
      "source": [
        "# plt.hist(x, bins=bins, density=True, histtype='step', cumulative=-1,label='Reversed emp.')\n",
        "plt.hist(X, density=True, histtype='step', cumulative=True,label='Reversed emp.')"
      ],
      "execution_count": 33,
      "outputs": [
        {
          "output_type": "execute_result",
          "data": {
            "text/plain": [
              "(array([[0.00980392, 0.04901961, 0.28431373, 0.65686275, 0.80392157,\n",
              "         0.89215686, 0.97058824, 0.99019608, 0.99019608, 1.        ],\n",
              "        [0.19230769, 0.30769231, 0.5       , 0.73076923, 0.96153846,\n",
              "         1.        , 1.        , 1.        , 1.        , 1.        ]]),\n",
              " array([0.72551712, 0.91146031, 1.09740349, 1.28334667, 1.46928986,\n",
              "        1.65523304, 1.84117623, 2.02711941, 2.21306259, 2.39900578,\n",
              "        2.58494896]),\n",
              " <a list of 2 Lists of Patches objects>)"
            ]
          },
          "metadata": {
            "tags": []
          },
          "execution_count": 33
        },
        {
          "output_type": "display_data",
          "data": {
            "image/png": "[encoded data removed]",
            "text/plain": [
              "<Figure size 432x288 with 1 Axes>"
            ]
          },
          "metadata": {
            "tags": [],
            "needs_background": "light"
          }
        }
      ]
    },
    {
      "cell_type": "code",
      "metadata": {
        "id": "9xENlBUUxfTu",
        "colab": {
          "base_uri": "https://localhost:8080/",
          "height": 282
        },
        "outputId": "93b3c56f-7407-4067-950d-7bfb92310c15"
      },
      "source": [
        "Obj = plt.hist(X, density=True, histtype='step', cumulative=True,label='Reversed emp.')\n",
        "Y1, Y2 = Obj[0]\n",
        "Rsquared = r2_score(Y1, Y2)\n",
        "print('r_squared =',Rsquared)"
      ],
      "execution_count": 34,
      "outputs": [
        {
          "output_type": "stream",
          "text": [
            "r_squared = 0.8683980685244309\n"
          ],
          "name": "stdout"
        },
        {
          "output_type": "display_data",
          "data": {
            "image/png": "[encoded data removed]",
            "text/plain": [
              "<Figure size 432x288 with 1 Axes>"
            ]
          },
          "metadata": {
            "tags": [],
            "needs_background": "light"
          }
        }
      ]
    },
    {
      "cell_type": "code",
      "metadata": {
        "id": "O2XboMiFbkaa"
      },
      "source": [
        "acc_train = r.history['accuracy'][-1]\n",
        "acc_test = r.history['val_accuracy'][-1]\n",
        "loss_train = r.history['loss'][-1]\n",
        "loss_test = r.history['val_loss'][-1]"
      ],
      "execution_count": 35,
      "outputs": []
    },
    {
      "cell_type": "code",
      "metadata": {
        "id": "euTd_-CYN1v0"
      },
      "source": [
        "df = pd.DataFrame({'N1':N1, 'N2':N2,'R^2':Rsquared,\n",
        "                   'acc train':acc_train,'acc test':acc_test,\n",
        "                   'loss train':loss_train,'loss test':loss_test,\n",
        "                   'Details':Description},\n",
        "                  index= [0])\n"
      ],
      "execution_count": 36,
      "outputs": []
    },
    {
      "cell_type": "code",
      "metadata": {
        "id": "-KukfpGTTKlj",
        "colab": {
          "base_uri": "https://localhost:8080/",
          "height": 81
        },
        "outputId": "abdb787e-0587-4ae9-90e4-8f97b43c3862"
      },
      "source": [
        "df"
      ],
      "execution_count": 37,
      "outputs": [
        {
          "output_type": "execute_result",
          "data": {
            "text/html": [
              "<div>\n",
              "<style scoped>\n",
              "    .dataframe tbody tr th:only-of-type {\n",
              "        vertical-align: middle;\n",
              "    }\n",
              "\n",
              "    .dataframe tbody tr th {\n",
              "        vertical-align: top;\n",
              "    }\n",
              "\n",
              "    .dataframe thead th {\n",
              "        text-align: right;\n",
              "    }\n",
              "</style>\n",
              "<table border=\"1\" class=\"dataframe\">\n",
              "  <thead>\n",
              "    <tr style=\"text-align: right;\">\n",
              "      <th></th>\n",
              "      <th>N1</th>\n",
              "      <th>N2</th>\n",
              "      <th>R^2</th>\n",
              "      <th>acc train</th>\n",
              "      <th>acc test</th>\n",
              "      <th>loss train</th>\n",
              "      <th>loss test</th>\n",
              "      <th>Details</th>\n",
              "    </tr>\n",
              "  </thead>\n",
              "  <tbody>\n",
              "    <tr>\n",
              "      <th>0</th>\n",
              "      <td>200</td>\n",
              "      <td>10</td>\n",
              "      <td>0.868398</td>\n",
              "      <td>1.0</td>\n",
              "      <td>0.931973</td>\n",
              "      <td>0.000006</td>\n",
              "      <td>0.247189</td>\n",
              "      <td>3 layers of Convolution: 32, 64, 128</td>\n",
              "    </tr>\n",
              "  </tbody>\n",
              "</table>\n",
              "</div>"
            ],
            "text/plain": [
              "    N1  N2  ...  loss test                                Details\n",
              "0  200  10  ...   0.247189  3 layers of Convolution: 32, 64, 128 \n",
              "\n",
              "[1 rows x 8 columns]"
            ]
          },
          "metadata": {
            "tags": []
          },
          "execution_count": 37
        }
      ]
    },
    {
      "cell_type": "code",
      "metadata": {
        "id": "ZZHa1j4HT9Dq",
        "colab": {
          "base_uri": "https://localhost:8080/",
          "height": 386
        },
        "outputId": "762dfe08-e95d-40e2-9cc6-9747dc77bb83"
      },
      "source": [
        "counts, bins, bars = plt.hist(X,weights=wts)\n",
        "print(bars)\n",
        "print(bins)\n",
        "print(counts)"
      ],
      "execution_count": 38,
      "outputs": [
        {
          "output_type": "stream",
          "text": [
            "<a list of 2 Lists of Patches objects>\n",
            "[0.72551712 0.91146031 1.09740349 1.28334667 1.46928986 1.65523304\n",
            " 1.84117623 2.02711941 2.21306259 2.39900578 2.58494896]\n",
            "[[ 0.98039216  3.92156863 23.52941176 37.25490196 14.70588235  8.82352941\n",
            "   7.84313725  1.96078431  0.          0.98039216]\n",
            " [19.23076923 11.53846154 19.23076923 23.07692308 23.07692308  3.84615385\n",
            "   0.          0.          0.          0.        ]]\n"
          ],
          "name": "stdout"
        },
        {
          "output_type": "display_data",
          "data": {
            "image/png": "[encoded data removed]",
            "text/plain": [
              "<Figure size 432x288 with 1 Axes>"
            ]
          },
          "metadata": {
            "tags": [],
            "needs_background": "light"
          }
        }
      ]
    },
    {
      "cell_type": "code",
      "metadata": {
        "id": "8o_vDGeWUwIZ",
        "colab": {
          "base_uri": "https://localhost:8080/"
        },
        "outputId": "4a7b9fd9-2dfc-4927-a75b-39ed93bcf78b"
      },
      "source": [
        "print(counts.sum())"
      ],
      "execution_count": 39,
      "outputs": [
        {
          "output_type": "stream",
          "text": [
            "199.99999999999994\n"
          ],
          "name": "stdout"
        }
      ]
    },
    {
      "cell_type": "code",
      "metadata": {
        "id": "KcH52-6iJQ8t",
        "colab": {
          "base_uri": "https://localhost:8080/",
          "height": 337
        },
        "outputId": "9bb89308-2582-4cff-891c-e36ed6929588"
      },
      "source": [
        "\n",
        "plt.hist([Diam1,Diameter_All])\n",
        "plt.legend(['Image J','CNN'])\n"
      ],
      "execution_count": 40,
      "outputs": [
        {
          "output_type": "stream",
          "text": [
            "/usr/local/lib/python3.7/dist-packages/numpy/core/_asarray.py:83: VisibleDeprecationWarning: Creating an ndarray from ragged nested sequences (which is a list-or-tuple of lists-or-tuples-or ndarrays with different lengths or shapes) is deprecated. If you meant to do this, you must specify 'dtype=object' when creating the ndarray\n",
            "  return array(a, dtype, copy=False, order=order)\n"
          ],
          "name": "stderr"
        },
        {
          "output_type": "execute_result",
          "data": {
            "text/plain": [
              "<matplotlib.legend.Legend at 0x7f08e891fed0>"
            ]
          },
          "metadata": {
            "tags": []
          },
          "execution_count": 40
        },
        {
          "output_type": "display_data",
          "data": {
            "image/png": "[encoded data removed]",
            "text/plain": [
              "<Figure size 432x288 with 1 Axes>"
            ]
          },
          "metadata": {
            "tags": [],
            "needs_background": "light"
          }
        }
      ]
    },
    {
      "cell_type": "code",
      "metadata": {
        "id": "r11AxFK_JIii",
        "colab": {
          "base_uri": "https://localhost:8080/"
        },
        "outputId": "cf114a1e-10df-4299-a9d3-e695c78728ac"
      },
      "source": [
        "[Diam1,Diameter_All]"
      ],
      "execution_count": 41,
      "outputs": [
        {
          "output_type": "execute_result",
          "data": {
            "text/plain": [
              "[[1.4388493665910183,\n",
              "  1.3042423209535017,\n",
              "  0.9027033336764101,\n",
              "  1.6778356991700483,\n",
              "  1.1941642642883694,\n",
              "  1.113613629842976,\n",
              "  1.254988970803089,\n",
              "  1.2815923738491737,\n",
              "  2.186553107171316,\n",
              "  1.8807071689325485,\n",
              "  1.2645903954195463,\n",
              "  1.3284238815238665,\n",
              "  1.2875394701698204,\n",
              "  1.1677497815933682,\n",
              "  1.3805939296073044,\n",
              "  1.3902437300372827,\n",
              "  1.2585348599266302,\n",
              "  1.3966398900698307,\n",
              "  1.2988619621707653,\n",
              "  1.3907015741893414,\n",
              "  1.5533154661153457,\n",
              "  1.2463355264843006,\n",
              "  1.2570164179581493,\n",
              "  1.2870449283923413,\n",
              "  1.3488733481786004,\n",
              "  0.9215480325725586,\n",
              "  1.6572198701420842,\n",
              "  1.157345238492556,\n",
              "  1.6281537802488464,\n",
              "  1.3897857350553149,\n",
              "  1.2771138777750963,\n",
              "  0.9991095050455518,\n",
              "  1.165567069812981,\n",
              "  1.875962180228586,\n",
              "  1.2437789380968078,\n",
              "  1.0957485526731296,\n",
              "  1.6667959343039342,\n",
              "  1.3755122549350303,\n",
              "  1.413404699896484,\n",
              "  1.8427506249649406,\n",
              "  0.9501193805081709,\n",
              "  1.1317592420667806,\n",
              "  1.4272992929222168,\n",
              "  1.3389254195014408,\n",
              "  2.0058506827187097,\n",
              "  1.7715912276177528,\n",
              "  1.7053090981329784,\n",
              "  1.273119766733618,\n",
              "  1.2645903954195463,\n",
              "  1.9612385537320356,\n",
              "  1.4716590860639265,\n",
              "  1.5777145844408116,\n",
              "  2.584948960960377,\n",
              "  1.4392917491892008,\n",
              "  1.319287102056625,\n",
              "  1.4237265731938766,\n",
              "  1.8602862904913782,\n",
              "  1.4529388029682806,\n",
              "  1.1984215478959244,\n",
              "  1.6706109906436855,\n",
              "  1.3856569681781365,\n",
              "  1.8008167925806498,\n",
              "  1.5736743355948497,\n",
              "  1.4299729748651446,\n",
              "  2.1055688292639205,\n",
              "  1.4952620641730152,\n",
              "  1.3620242349823046,\n",
              "  1.540557857201846,\n",
              "  1.5226848692236787,\n",
              "  1.293459223084363,\n",
              "  1.4777028859756633,\n",
              "  1.1368105109938904,\n",
              "  1.3086279790944384,\n",
              "  1.269113085619237,\n",
              "  1.5322707725763225,\n",
              "  1.3332075624036517,\n",
              "  1.507558485549488,\n",
              "  1.4686278591874,\n",
              "  1.341300666036808,\n",
              "  1.319769562157615,\n",
              "  1.6774562271083886,\n",
              "  1.1474012764748687,\n",
              "  1.319287102056625,\n",
              "  1.5728650404343092,\n",
              "  1.1328836926591555,\n",
              "  1.2761165219980004,\n",
              "  1.417901703622935,\n",
              "  1.355934328276106,\n",
              "  1.546744033302657,\n",
              "  1.3662244224803437,\n",
              "  1.6560670213972442,\n",
              "  1.5113542745679724,\n",
              "  2.0023564433863985,\n",
              "  1.5483895061438226,\n",
              "  1.467760644550703,\n",
              "  1.2168720518308382,\n",
              "  1.2850648580991957,\n",
              "  1.937726352564777,\n",
              "  1.1780624362746346,\n",
              "  1.355934328276106,\n",
              "  1.3929885377045959,\n",
              "  1.3289030245084368],\n",
              " [1.0341405661961798,\n",
              "  1.0690437918725757,\n",
              "  1.4572220508483094,\n",
              "  1.6404213424207321,\n",
              "  1.6008074315451573,\n",
              "  1.3665933056489297,\n",
              "  1.4897211798196093,\n",
              "  1.6884712484880207,\n",
              "  1.2254794493346886,\n",
              "  0.7898066751730491,\n",
              "  1.4173989737451607,\n",
              "  1.2765079969881545,\n",
              "  1.1571154197137035,\n",
              "  0.7255171217433651,\n",
              "  0.7943065477333876,\n",
              "  0.76416105125865,\n",
              "  0.9926726570781219,\n",
              "  1.638329683460347,\n",
              "  1.542567360950702,\n",
              "  0.7389135771683251,\n",
              "  1.5337882036204358,\n",
              "  1.2304537209631634,\n",
              "  1.33275355284709,\n",
              "  1.4433903462447124,\n",
              "  1.4456229699244159,\n",
              "  1.1543316650856594]]"
            ]
          },
          "metadata": {
            "tags": []
          },
          "execution_count": 41
        }
      ]
    },
    {
      "cell_type": "code",
      "metadata": {
        "id": "4xS7NSM92s_8",
        "colab": {
          "base_uri": "https://localhost:8080/",
          "height": 282
        },
        "outputId": "d88e2fd9-2836-4f72-b8d5-ca33feb0b79d"
      },
      "source": [
        " bins_list = [0.8, 1.0, 1.2, 1.4,1.6, 1.8,2.0]\n",
        " wt1 = np.ones(len(Diam1)) / len(Diam1)*100\n",
        " wt2 = np.ones(len(Diameter_All)) / len(Diameter_All)*100\n",
        " X = pd.DataFrame([Diam1,Diameter_All])\n",
        " wts = pd.DataFrame([wt1,wt2])\n",
        "plt.hist(X,weights=wts,bins = bins_list)\n",
        "plt.legend(['Image J','CNN'])"
      ],
      "execution_count": 42,
      "outputs": [
        {
          "output_type": "execute_result",
          "data": {
            "text/plain": [
              "<matplotlib.legend.Legend at 0x7f08e91753d0>"
            ]
          },
          "metadata": {
            "tags": []
          },
          "execution_count": 42
        },
        {
          "output_type": "display_data",
          "data": {
            "image/png": "[encoded data removed]",
            "text/plain": [
              "<Figure size 432x288 with 1 Axes>"
            ]
          },
          "metadata": {
            "tags": [],
            "needs_background": "light"
          }
        }
      ]
    },
    {
      "cell_type": "code",
      "metadata": {
        "id": "jD80rFZs37Wm",
        "colab": {
          "base_uri": "https://localhost:8080/",
          "height": 265
        },
        "outputId": "99bb8a3d-6d5b-4567-8745-fe7c788693f6"
      },
      "source": [
        "yy = plt.hist(X,weights=wts,bins = bins_list)"
      ],
      "execution_count": 43,
      "outputs": [
        {
          "output_type": "display_data",
          "data": {
            "image/png": "[encoded data removed]",
            "text/plain": [
              "<Figure size 432x288 with 1 Axes>"
            ]
          },
          "metadata": {
            "tags": [],
            "needs_background": "light"
          }
        }
      ]
    },
    {
      "cell_type": "code",
      "metadata": {
        "id": "edcwJoJP4GBs",
        "colab": {
          "base_uri": "https://localhost:8080/"
        },
        "outputId": "556dab88-2cc8-4562-b848-4353e0c2a6ab"
      },
      "source": [
        "yy[0][0]"
      ],
      "execution_count": 44,
      "outputs": [
        {
          "output_type": "execute_result",
          "data": {
            "text/plain": [
              "array([ 3.92156863, 11.76470588, 40.19607843, 23.52941176,  8.82352941,\n",
              "        6.8627451 ])"
            ]
          },
          "metadata": {
            "tags": []
          },
          "execution_count": 44
        }
      ]
    },
    {
      "cell_type": "code",
      "metadata": {
        "id": "_0zY-NBY6Rgx",
        "colab": {
          "base_uri": "https://localhost:8080/"
        },
        "outputId": "d5894f86-f92c-460e-d7d3-a2028ceef34b"
      },
      "source": [
        "bins_list"
      ],
      "execution_count": 45,
      "outputs": [
        {
          "output_type": "execute_result",
          "data": {
            "text/plain": [
              "[0.8, 1.0, 1.2, 1.4, 1.6, 1.8, 2.0]"
            ]
          },
          "metadata": {
            "tags": []
          },
          "execution_count": 45
        }
      ]
    },
    {
      "cell_type": "code",
      "metadata": {
        "id": "9ujCjAa85RG5"
      },
      "source": [
        "k =0\n",
        "for kk in yy[0][0]:\n",
        "  name = str(bins_list[k])\n",
        "  df[name] = yy[0][1][k]\n",
        "  k = k+1"
      ],
      "execution_count": 46,
      "outputs": []
    },
    {
      "cell_type": "code",
      "metadata": {
        "id": "iMQRVn4D69RC",
        "colab": {
          "base_uri": "https://localhost:8080/",
          "height": 81
        },
        "outputId": "4a13ed84-49b6-4e04-d361-ac707a995b65"
      },
      "source": [
        "df"
      ],
      "execution_count": 47,
      "outputs": [
        {
          "output_type": "execute_result",
          "data": {
            "text/html": [
              "<div>\n",
              "<style scoped>\n",
              "    .dataframe tbody tr th:only-of-type {\n",
              "        vertical-align: middle;\n",
              "    }\n",
              "\n",
              "    .dataframe tbody tr th {\n",
              "        vertical-align: top;\n",
              "    }\n",
              "\n",
              "    .dataframe thead th {\n",
              "        text-align: right;\n",
              "    }\n",
              "</style>\n",
              "<table border=\"1\" class=\"dataframe\">\n",
              "  <thead>\n",
              "    <tr style=\"text-align: right;\">\n",
              "      <th></th>\n",
              "      <th>N1</th>\n",
              "      <th>N2</th>\n",
              "      <th>R^2</th>\n",
              "      <th>acc train</th>\n",
              "      <th>acc test</th>\n",
              "      <th>loss train</th>\n",
              "      <th>loss test</th>\n",
              "      <th>Details</th>\n",
              "      <th>0.8</th>\n",
              "      <th>1.0</th>\n",
              "      <th>1.2</th>\n",
              "      <th>1.4</th>\n",
              "      <th>1.6</th>\n",
              "      <th>1.8</th>\n",
              "    </tr>\n",
              "  </thead>\n",
              "  <tbody>\n",
              "    <tr>\n",
              "      <th>0</th>\n",
              "      <td>200</td>\n",
              "      <td>10</td>\n",
              "      <td>0.868398</td>\n",
              "      <td>1.0</td>\n",
              "      <td>0.931973</td>\n",
              "      <td>0.000006</td>\n",
              "      <td>0.247189</td>\n",
              "      <td>3 layers of Convolution: 32, 64, 128</td>\n",
              "      <td>3.846154</td>\n",
              "      <td>15.384615</td>\n",
              "      <td>19.230769</td>\n",
              "      <td>26.923077</td>\n",
              "      <td>15.384615</td>\n",
              "      <td>0.0</td>\n",
              "    </tr>\n",
              "  </tbody>\n",
              "</table>\n",
              "</div>"
            ],
            "text/plain": [
              "    N1  N2       R^2  acc train  ...        1.2        1.4        1.6  1.8\n",
              "0  200  10  0.868398        1.0  ...  19.230769  26.923077  15.384615  0.0\n",
              "\n",
              "[1 rows x 14 columns]"
            ]
          },
          "metadata": {
            "tags": []
          },
          "execution_count": 47
        }
      ]
    },
    {
      "cell_type": "code",
      "metadata": {
        "id": "JMWpAwMq5Hw2",
        "colab": {
          "base_uri": "https://localhost:8080/",
          "height": 17
        },
        "outputId": "9187f22a-ce7e-4984-a44e-4b1c611a1ee6"
      },
      "source": [
        "Arq = \"output.xlsx\"\n",
        "df.to_excel(Arq)\n",
        "files.download(Arq)"
      ],
      "execution_count": 48,
      "outputs": [
        {
          "output_type": "display_data",
          "data": {
            "application/javascript": [
              "\n",
              "    async function download(id, filename, size) {\n",
              "      if (!google.colab.kernel.accessAllowed) {\n",
              "        return;\n",
              "      }\n",
              "      const div = document.createElement('div');\n",
              "      const label = document.createElement('label');\n",
              "      label.textContent = `Downloading \"${filename}\": `;\n",
              "      div.appendChild(label);\n",
              "      const progress = document.createElement('progress');\n",
              "      progress.max = size;\n",
              "      div.appendChild(progress);\n",
              "      document.body.appendChild(div);\n",
              "\n",
              "      const buffers = [];\n",
              "      let downloaded = 0;\n",
              "\n",
              "      const channel = await google.colab.kernel.comms.open(id);\n",
              "      // Send a message to notify the kernel that we're ready.\n",
              "      channel.send({})\n",
              "\n",
              "      for await (const message of channel.messages) {\n",
              "        // Send a message to notify the kernel that we're ready.\n",
              "        channel.send({})\n",
              "        if (message.buffers) {\n",
              "          for (const buffer of message.buffers) {\n",
              "            buffers.push(buffer);\n",
              "            downloaded += buffer.byteLength;\n",
              "            progress.value = downloaded;\n",
              "          }\n",
              "        }\n",
              "      }\n",
              "      const blob = new Blob(buffers, {type: 'application/binary'});\n",
              "      const a = document.createElement('a');\n",
              "      a.href = window.URL.createObjectURL(blob);\n",
              "      a.download = filename;\n",
              "      div.appendChild(a);\n",
              "      a.click();\n",
              "      div.remove();\n",
              "    }\n",
              "  "
            ],
            "text/plain": [
              "<IPython.core.display.Javascript object>"
            ]
          },
          "metadata": {
            "tags": []
          }
        },
        {
          "output_type": "display_data",
          "data": {
            "application/javascript": [
              "download(\"download_8a2597f8-4e8f-4ee0-a330-9fa00be79399\", \"output.xlsx\", 5267)"
            ],
            "text/plain": [
              "<IPython.core.display.Javascript object>"
            ]
          },
          "metadata": {
            "tags": []
          }
        }
      ]
    }
  ]
}